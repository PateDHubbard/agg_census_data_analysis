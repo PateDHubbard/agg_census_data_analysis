{
 "cells": [
  {
   "cell_type": "markdown",
   "source": "# US Agriculture Analysis\nIn this Jupyter notebook, I walk through my process for analyzing 2017 census data on U.S. agriculture.\n\nThe data for this analysis can be accessed on [USDA's website](https://www.nass.usda.gov/Publications/AgCensus/2017/index.php). \n\n![USDA-logo.png](media/USDA-Logo.png)\n\nRetrieving the data in a format that is conducive to the type of ad hoc analysis that I wanted to perform turned out to be a bit challenging. USDA's website provides a nice \"query tool\" that allows users to perform basic filtering of data, but data export options are a bit limited. In the end the best option was to download the full dataset as a very large (over 1GB) tab-deliminated text file.\n\nWorking with large data files in-memory can be challenging so I decided to upload the dataset into a postgres database using [bit.io](https://bit.io/). \n\n![USDA-logo.png](media/bit-io-icon.png)\n\nThis allows me to query the data using SQL and load the necessary portions of the data into dataframes, as opposed loading the full, 1.6 GB file into a dataframe right from the start.",
   "metadata": {
    "cell_id": "00000-979ed1a9-babe-4c7b-9d0c-679345616894",
    "tags": [],
    "deepnote_app_coordinates": {
     "x": 0,
     "y": null,
     "w": 12,
     "h": 5
    },
    "deepnote_cell_type": "markdown"
   }
  },
  {
   "cell_type": "markdown",
   "source": "### Pulling the data\nBelow we can run a quick query against the bit.io hosted Postgres table to give us a sense of the data.",
   "metadata": {
    "cell_id": "00001-00f790b4-4409-498d-b446-26f9c5589e37",
    "tags": [],
    "deepnote_app_coordinates": {
     "x": 0,
     "y": 6,
     "w": 12,
     "h": 5
    },
    "deepnote_cell_type": "markdown"
   }
  },
  {
   "cell_type": "code",
   "metadata": {
    "cell_id": "00001-998c7b21-4041-429f-9993-59be142999c7",
    "deepnote_sql_source": "-- previewing the first few rows of the data\nSELECT * \nFROM \"paytondhubbard/census_data\".\"2017_agg_census_data\"\nLIMIT 5",
    "deepnote_to_be_reexecuted": false,
    "deepnote_variable_name": "df_1",
    "execution_millis": 2571,
    "execution_start": 1638831606046,
    "source_hash": "7fa998f6",
    "sql_integration_id": "a566b8b6-80ea-40c4-ada5-f5548d01a4b8",
    "tags": [],
    "deepnote_app_coordinates": {
     "x": 0,
     "y": 12,
     "w": 12,
     "h": 5
    },
    "deepnote_cell_type": "sql"
   },
   "source": "\n\ndf_1 = _deepnote_execute_sql(\"\"\"-- previewing the first few rows of the data\nSELECT * \nFROM \"paytondhubbard/census_data\".\"2017_agg_census_data\"\nLIMIT 5\n\"\"\", 'SQL_A566B8B6_80EA_40C4_ADA5_F5548D01A4B8')\ndf_1",
   "execution_count": null,
   "outputs": [
    {
     "output_type": "execute_result",
     "execution_count": 1,
     "data": {
      "application/vnd.deepnote.dataframe.v2+json": {
       "row_count": 5,
       "column_count": 15,
       "columns": [
        {
         "name": "census_chapter",
         "dtype": "int64",
         "stats": {
          "unique_count": 1,
          "nan_count": 0,
          "min": "1",
          "max": "1",
          "histogram": [
           {
            "bin_start": 0.5,
            "bin_end": 0.6,
            "count": 0
           },
           {
            "bin_start": 0.6,
            "bin_end": 0.7,
            "count": 0
           },
           {
            "bin_start": 0.7,
            "bin_end": 0.8,
            "count": 0
           },
           {
            "bin_start": 0.8,
            "bin_end": 0.9,
            "count": 0
           },
           {
            "bin_start": 0.9,
            "bin_end": 1,
            "count": 0
           },
           {
            "bin_start": 1,
            "bin_end": 1.1,
            "count": 5
           },
           {
            "bin_start": 1.1,
            "bin_end": 1.2000000000000002,
            "count": 0
           },
           {
            "bin_start": 1.2000000000000002,
            "bin_end": 1.3,
            "count": 0
           },
           {
            "bin_start": 1.3,
            "bin_end": 1.4,
            "count": 0
           },
           {
            "bin_start": 1.4,
            "bin_end": 1.5,
            "count": 0
           }
          ]
         }
        },
        {
         "name": "census_table",
         "dtype": "int64",
         "stats": {
          "unique_count": 1,
          "nan_count": 0,
          "min": "72",
          "max": "72",
          "histogram": [
           {
            "bin_start": 71.5,
            "bin_end": 71.6,
            "count": 0
           },
           {
            "bin_start": 71.6,
            "bin_end": 71.7,
            "count": 0
           },
           {
            "bin_start": 71.7,
            "bin_end": 71.8,
            "count": 0
           },
           {
            "bin_start": 71.8,
            "bin_end": 71.9,
            "count": 0
           },
           {
            "bin_start": 71.9,
            "bin_end": 72,
            "count": 0
           },
           {
            "bin_start": 72,
            "bin_end": 72.1,
            "count": 5
           },
           {
            "bin_start": 72.1,
            "bin_end": 72.2,
            "count": 0
           },
           {
            "bin_start": 72.2,
            "bin_end": 72.3,
            "count": 0
           },
           {
            "bin_start": 72.3,
            "bin_end": 72.4,
            "count": 0
           },
           {
            "bin_start": 72.4,
            "bin_end": 72.5,
            "count": 0
           }
          ]
         }
        },
        {
         "name": "census_row",
         "dtype": "int64",
         "stats": {
          "unique_count": 1,
          "nan_count": 0,
          "min": "191",
          "max": "191",
          "histogram": [
           {
            "bin_start": 190.5,
            "bin_end": 190.6,
            "count": 0
           },
           {
            "bin_start": 190.6,
            "bin_end": 190.7,
            "count": 0
           },
           {
            "bin_start": 190.7,
            "bin_end": 190.8,
            "count": 0
           },
           {
            "bin_start": 190.8,
            "bin_end": 190.9,
            "count": 0
           },
           {
            "bin_start": 190.9,
            "bin_end": 191,
            "count": 0
           },
           {
            "bin_start": 191,
            "bin_end": 191.1,
            "count": 5
           },
           {
            "bin_start": 191.1,
            "bin_end": 191.2,
            "count": 0
           },
           {
            "bin_start": 191.2,
            "bin_end": 191.3,
            "count": 0
           },
           {
            "bin_start": 191.3,
            "bin_end": 191.4,
            "count": 0
           },
           {
            "bin_start": 191.4,
            "bin_end": 191.5,
            "count": 0
           }
          ]
         }
        },
        {
         "name": "census_column",
         "dtype": "int64",
         "stats": {
          "unique_count": 1,
          "nan_count": 0,
          "min": "5",
          "max": "5",
          "histogram": [
           {
            "bin_start": 4.5,
            "bin_end": 4.6,
            "count": 0
           },
           {
            "bin_start": 4.6,
            "bin_end": 4.7,
            "count": 0
           },
           {
            "bin_start": 4.7,
            "bin_end": 4.8,
            "count": 0
           },
           {
            "bin_start": 4.8,
            "bin_end": 4.9,
            "count": 0
           },
           {
            "bin_start": 4.9,
            "bin_end": 5,
            "count": 0
           },
           {
            "bin_start": 5,
            "bin_end": 5.1,
            "count": 5
           },
           {
            "bin_start": 5.1,
            "bin_end": 5.2,
            "count": 0
           },
           {
            "bin_start": 5.2,
            "bin_end": 5.3,
            "count": 0
           },
           {
            "bin_start": 5.3,
            "bin_end": 5.4,
            "count": 0
           },
           {
            "bin_start": 5.4,
            "bin_end": 5.5,
            "count": 0
           }
          ]
         }
        },
        {
         "name": "sector_desc",
         "dtype": "object",
         "stats": {
          "unique_count": 1,
          "nan_count": 0,
          "categories": [
           {
            "name": "ECONOMICS",
            "count": 5
           }
          ]
         }
        },
        {
         "name": "short_desc",
         "dtype": "object",
         "stats": {
          "unique_count": 1,
          "nan_count": 0,
          "categories": [
           {
            "name": "FUELS, INCL LUBRICANTS - OPERATIONS WITH EXPENSE",
            "count": 5
           }
          ]
         }
        },
        {
         "name": "commodity_desc",
         "dtype": "object",
         "stats": {
          "unique_count": 1,
          "nan_count": 0,
          "categories": [
           {
            "name": "FUELS",
            "count": 5
           }
          ]
         }
        },
        {
         "name": "agg_level_desc",
         "dtype": "object",
         "stats": {
          "unique_count": 1,
          "nan_count": 0,
          "categories": [
           {
            "name": "STATE",
            "count": 5
           }
          ]
         }
        },
        {
         "name": "state_fips_code",
         "dtype": "int64",
         "stats": {
          "unique_count": 5,
          "nan_count": 0,
          "min": "15",
          "max": "19",
          "histogram": [
           {
            "bin_start": 15,
            "bin_end": 15.4,
            "count": 1
           },
           {
            "bin_start": 15.4,
            "bin_end": 15.8,
            "count": 0
           },
           {
            "bin_start": 15.8,
            "bin_end": 16.2,
            "count": 1
           },
           {
            "bin_start": 16.2,
            "bin_end": 16.6,
            "count": 0
           },
           {
            "bin_start": 16.6,
            "bin_end": 17,
            "count": 0
           },
           {
            "bin_start": 17,
            "bin_end": 17.4,
            "count": 1
           },
           {
            "bin_start": 17.4,
            "bin_end": 17.8,
            "count": 0
           },
           {
            "bin_start": 17.8,
            "bin_end": 18.2,
            "count": 1
           },
           {
            "bin_start": 18.2,
            "bin_end": 18.6,
            "count": 0
           },
           {
            "bin_start": 18.6,
            "bin_end": 19,
            "count": 1
           }
          ]
         }
        },
        {
         "name": "state_alpha",
         "dtype": "object",
         "stats": {
          "unique_count": 5,
          "nan_count": 0,
          "categories": [
           {
            "name": "HI",
            "count": 1
           },
           {
            "name": "ID",
            "count": 1
           },
           {
            "name": "3 others",
            "count": 3
           }
          ]
         }
        },
        {
         "name": "state_name",
         "dtype": "object",
         "stats": {
          "unique_count": 5,
          "nan_count": 0,
          "categories": [
           {
            "name": "HAWAII",
            "count": 1
           },
           {
            "name": "IDAHO",
            "count": 1
           },
           {
            "name": "3 others",
            "count": 3
           }
          ]
         }
        },
        {
         "name": "county_code",
         "dtype": "object",
         "stats": {
          "unique_count": 0,
          "nan_count": 5,
          "categories": [
           {
            "name": "Missing",
            "count": 5
           }
          ]
         }
        },
        {
         "name": "county_name",
         "dtype": "object",
         "stats": {
          "unique_count": 0,
          "nan_count": 5,
          "categories": [
           {
            "name": "Missing",
            "count": 5
           }
          ]
         }
        },
        {
         "name": "domaincat_desc",
         "dtype": "object",
         "stats": {
          "unique_count": 1,
          "nan_count": 0,
          "categories": [
           {
            "name": "FARM SALES: (100,000 TO 249,999 $) AND EXPENSE: (50,000 OR MORE $)",
            "count": 5
           }
          ]
         }
        },
        {
         "name": "value",
         "dtype": "object",
         "stats": {
          "unique_count": 5,
          "nan_count": 0,
          "categories": [
           {
            "name": "1",
            "count": 1
           },
           {
            "name": "37",
            "count": 1
           },
           {
            "name": "3 others",
            "count": 3
           }
          ]
         }
        },
        {
         "name": "_deepnote_index_column",
         "dtype": "int64"
        }
       ],
       "rows_top": [
        {
         "census_chapter": 1,
         "census_table": 72,
         "census_row": 191,
         "census_column": 5,
         "sector_desc": "ECONOMICS",
         "short_desc": "FUELS, INCL LUBRICANTS - OPERATIONS WITH EXPENSE",
         "commodity_desc": "FUELS",
         "agg_level_desc": "STATE",
         "state_fips_code": 15,
         "state_alpha": "HI",
         "state_name": "HAWAII",
         "county_code": "None",
         "county_name": "None",
         "domaincat_desc": "FARM SALES: (100,000 TO 249,999 $) AND EXPENSE: (50,000 OR MORE $)",
         "value": "1",
         "_deepnote_index_column": 0
        },
        {
         "census_chapter": 1,
         "census_table": 72,
         "census_row": 191,
         "census_column": 5,
         "sector_desc": "ECONOMICS",
         "short_desc": "FUELS, INCL LUBRICANTS - OPERATIONS WITH EXPENSE",
         "commodity_desc": "FUELS",
         "agg_level_desc": "STATE",
         "state_fips_code": 16,
         "state_alpha": "ID",
         "state_name": "IDAHO",
         "county_code": "None",
         "county_name": "None",
         "domaincat_desc": "FARM SALES: (100,000 TO 249,999 $) AND EXPENSE: (50,000 OR MORE $)",
         "value": "37",
         "_deepnote_index_column": 1
        },
        {
         "census_chapter": 1,
         "census_table": 72,
         "census_row": 191,
         "census_column": 5,
         "sector_desc": "ECONOMICS",
         "short_desc": "FUELS, INCL LUBRICANTS - OPERATIONS WITH EXPENSE",
         "commodity_desc": "FUELS",
         "agg_level_desc": "STATE",
         "state_fips_code": 17,
         "state_alpha": "IL",
         "state_name": "ILLINOIS",
         "county_code": "None",
         "county_name": "None",
         "domaincat_desc": "FARM SALES: (100,000 TO 249,999 $) AND EXPENSE: (50,000 OR MORE $)",
         "value": "55",
         "_deepnote_index_column": 2
        },
        {
         "census_chapter": 1,
         "census_table": 72,
         "census_row": 191,
         "census_column": 5,
         "sector_desc": "ECONOMICS",
         "short_desc": "FUELS, INCL LUBRICANTS - OPERATIONS WITH EXPENSE",
         "commodity_desc": "FUELS",
         "agg_level_desc": "STATE",
         "state_fips_code": 18,
         "state_alpha": "IN",
         "state_name": "INDIANA",
         "county_code": "None",
         "county_name": "None",
         "domaincat_desc": "FARM SALES: (100,000 TO 249,999 $) AND EXPENSE: (50,000 OR MORE $)",
         "value": "24",
         "_deepnote_index_column": 3
        },
        {
         "census_chapter": 1,
         "census_table": 72,
         "census_row": 191,
         "census_column": 5,
         "sector_desc": "ECONOMICS",
         "short_desc": "FUELS, INCL LUBRICANTS - OPERATIONS WITH EXPENSE",
         "commodity_desc": "FUELS",
         "agg_level_desc": "STATE",
         "state_fips_code": 19,
         "state_alpha": "IA",
         "state_name": "IOWA",
         "county_code": "None",
         "county_name": "None",
         "domaincat_desc": "FARM SALES: (100,000 TO 249,999 $) AND EXPENSE: (50,000 OR MORE $)",
         "value": "38",
         "_deepnote_index_column": 4
        }
       ],
       "rows_bottom": null
      },
      "text/plain": "   census_chapter  census_table  census_row  census_column sector_desc  \\\n0               1            72         191              5   ECONOMICS   \n1               1            72         191              5   ECONOMICS   \n2               1            72         191              5   ECONOMICS   \n3               1            72         191              5   ECONOMICS   \n4               1            72         191              5   ECONOMICS   \n\n                                         short_desc commodity_desc  \\\n0  FUELS, INCL LUBRICANTS - OPERATIONS WITH EXPENSE          FUELS   \n1  FUELS, INCL LUBRICANTS - OPERATIONS WITH EXPENSE          FUELS   \n2  FUELS, INCL LUBRICANTS - OPERATIONS WITH EXPENSE          FUELS   \n3  FUELS, INCL LUBRICANTS - OPERATIONS WITH EXPENSE          FUELS   \n4  FUELS, INCL LUBRICANTS - OPERATIONS WITH EXPENSE          FUELS   \n\n  agg_level_desc  state_fips_code state_alpha state_name county_code  \\\n0          STATE               15          HI     HAWAII        None   \n1          STATE               16          ID      IDAHO        None   \n2          STATE               17          IL   ILLINOIS        None   \n3          STATE               18          IN    INDIANA        None   \n4          STATE               19          IA       IOWA        None   \n\n  county_name                                     domaincat_desc value  \n0        None  FARM SALES: (100,000 TO 249,999 $) AND EXPENSE...     1  \n1        None  FARM SALES: (100,000 TO 249,999 $) AND EXPENSE...    37  \n2        None  FARM SALES: (100,000 TO 249,999 $) AND EXPENSE...    55  \n3        None  FARM SALES: (100,000 TO 249,999 $) AND EXPENSE...    24  \n4        None  FARM SALES: (100,000 TO 249,999 $) AND EXPENSE...    38  ",
      "text/html": "<div>\n<style scoped>\n    .dataframe tbody tr th:only-of-type {\n        vertical-align: middle;\n    }\n\n    .dataframe tbody tr th {\n        vertical-align: top;\n    }\n\n    .dataframe thead th {\n        text-align: right;\n    }\n</style>\n<table border=\"1\" class=\"dataframe\">\n  <thead>\n    <tr style=\"text-align: right;\">\n      <th></th>\n      <th>census_chapter</th>\n      <th>census_table</th>\n      <th>census_row</th>\n      <th>census_column</th>\n      <th>sector_desc</th>\n      <th>short_desc</th>\n      <th>commodity_desc</th>\n      <th>agg_level_desc</th>\n      <th>state_fips_code</th>\n      <th>state_alpha</th>\n      <th>state_name</th>\n      <th>county_code</th>\n      <th>county_name</th>\n      <th>domaincat_desc</th>\n      <th>value</th>\n    </tr>\n  </thead>\n  <tbody>\n    <tr>\n      <th>0</th>\n      <td>1</td>\n      <td>72</td>\n      <td>191</td>\n      <td>5</td>\n      <td>ECONOMICS</td>\n      <td>FUELS, INCL LUBRICANTS - OPERATIONS WITH EXPENSE</td>\n      <td>FUELS</td>\n      <td>STATE</td>\n      <td>15</td>\n      <td>HI</td>\n      <td>HAWAII</td>\n      <td>None</td>\n      <td>None</td>\n      <td>FARM SALES: (100,000 TO 249,999 $) AND EXPENSE...</td>\n      <td>1</td>\n    </tr>\n    <tr>\n      <th>1</th>\n      <td>1</td>\n      <td>72</td>\n      <td>191</td>\n      <td>5</td>\n      <td>ECONOMICS</td>\n      <td>FUELS, INCL LUBRICANTS - OPERATIONS WITH EXPENSE</td>\n      <td>FUELS</td>\n      <td>STATE</td>\n      <td>16</td>\n      <td>ID</td>\n      <td>IDAHO</td>\n      <td>None</td>\n      <td>None</td>\n      <td>FARM SALES: (100,000 TO 249,999 $) AND EXPENSE...</td>\n      <td>37</td>\n    </tr>\n    <tr>\n      <th>2</th>\n      <td>1</td>\n      <td>72</td>\n      <td>191</td>\n      <td>5</td>\n      <td>ECONOMICS</td>\n      <td>FUELS, INCL LUBRICANTS - OPERATIONS WITH EXPENSE</td>\n      <td>FUELS</td>\n      <td>STATE</td>\n      <td>17</td>\n      <td>IL</td>\n      <td>ILLINOIS</td>\n      <td>None</td>\n      <td>None</td>\n      <td>FARM SALES: (100,000 TO 249,999 $) AND EXPENSE...</td>\n      <td>55</td>\n    </tr>\n    <tr>\n      <th>3</th>\n      <td>1</td>\n      <td>72</td>\n      <td>191</td>\n      <td>5</td>\n      <td>ECONOMICS</td>\n      <td>FUELS, INCL LUBRICANTS - OPERATIONS WITH EXPENSE</td>\n      <td>FUELS</td>\n      <td>STATE</td>\n      <td>18</td>\n      <td>IN</td>\n      <td>INDIANA</td>\n      <td>None</td>\n      <td>None</td>\n      <td>FARM SALES: (100,000 TO 249,999 $) AND EXPENSE...</td>\n      <td>24</td>\n    </tr>\n    <tr>\n      <th>4</th>\n      <td>1</td>\n      <td>72</td>\n      <td>191</td>\n      <td>5</td>\n      <td>ECONOMICS</td>\n      <td>FUELS, INCL LUBRICANTS - OPERATIONS WITH EXPENSE</td>\n      <td>FUELS</td>\n      <td>STATE</td>\n      <td>19</td>\n      <td>IA</td>\n      <td>IOWA</td>\n      <td>None</td>\n      <td>None</td>\n      <td>FARM SALES: (100,000 TO 249,999 $) AND EXPENSE...</td>\n      <td>38</td>\n    </tr>\n  </tbody>\n</table>\n</div>"
     },
     "metadata": {}
    }
   ]
  },
  {
   "cell_type": "markdown",
   "source": "The first table within the dataset has helpful, high-level statistics on farming on a state by state level. I'll filter the total dataset down to only the first table of census chapter 1 and save that table to `table_1_df_raw`",
   "metadata": {
    "cell_id": "00003-acb44d54-db4a-4920-8d63-e75171b7f483",
    "tags": [],
    "deepnote_app_coordinates": {
     "x": 0,
     "y": 18,
     "w": 12,
     "h": 5
    },
    "deepnote_cell_type": "markdown"
   }
  },
  {
   "cell_type": "code",
   "metadata": {
    "cell_id": "00003-47d6ebe7-34be-47ce-8eed-6603484efff0",
    "deepnote_sql_source": "SELECT *\nFROM \"paytondhubbard/census_data\".\"2017_agg_census_data\"\nWHERE census_chapter = 1\nAND census_table = 1",
    "deepnote_to_be_reexecuted": false,
    "deepnote_variable_name": "table_1_df_raw",
    "execution_millis": 7878,
    "execution_start": 1638831623886,
    "source_hash": "48fc2151",
    "sql_integration_id": "a566b8b6-80ea-40c4-ada5-f5548d01a4b8",
    "tags": [],
    "deepnote_app_coordinates": {
     "x": 0,
     "y": 24,
     "w": 12,
     "h": 5
    },
    "deepnote_cell_type": "sql"
   },
   "source": "\n\ntable_1_df_raw = _deepnote_execute_sql(\"\"\"SELECT *\nFROM \"paytondhubbard/census_data\".\"2017_agg_census_data\"\nWHERE census_chapter = 1\nAND census_table = 1\n\"\"\", 'SQL_A566B8B6_80EA_40C4_ADA5_F5548D01A4B8')\ntable_1_df_raw",
   "execution_count": null,
   "outputs": [
    {
     "output_type": "execute_result",
     "execution_count": 2,
     "data": {
      "application/vnd.deepnote.dataframe.v2+json": {
       "row_count": 5508,
       "column_count": 15,
       "columns": [
        {
         "name": "census_chapter",
         "dtype": "int64",
         "stats": {
          "unique_count": 1,
          "nan_count": 0,
          "min": "1",
          "max": "1",
          "histogram": [
           {
            "bin_start": 0.5,
            "bin_end": 0.6,
            "count": 0
           },
           {
            "bin_start": 0.6,
            "bin_end": 0.7,
            "count": 0
           },
           {
            "bin_start": 0.7,
            "bin_end": 0.8,
            "count": 0
           },
           {
            "bin_start": 0.8,
            "bin_end": 0.9,
            "count": 0
           },
           {
            "bin_start": 0.9,
            "bin_end": 1,
            "count": 0
           },
           {
            "bin_start": 1,
            "bin_end": 1.1,
            "count": 5508
           },
           {
            "bin_start": 1.1,
            "bin_end": 1.2000000000000002,
            "count": 0
           },
           {
            "bin_start": 1.2000000000000002,
            "bin_end": 1.3,
            "count": 0
           },
           {
            "bin_start": 1.3,
            "bin_end": 1.4,
            "count": 0
           },
           {
            "bin_start": 1.4,
            "bin_end": 1.5,
            "count": 0
           }
          ]
         }
        },
        {
         "name": "census_table",
         "dtype": "int64",
         "stats": {
          "unique_count": 1,
          "nan_count": 0,
          "min": "1",
          "max": "1",
          "histogram": [
           {
            "bin_start": 0.5,
            "bin_end": 0.6,
            "count": 0
           },
           {
            "bin_start": 0.6,
            "bin_end": 0.7,
            "count": 0
           },
           {
            "bin_start": 0.7,
            "bin_end": 0.8,
            "count": 0
           },
           {
            "bin_start": 0.8,
            "bin_end": 0.9,
            "count": 0
           },
           {
            "bin_start": 0.9,
            "bin_end": 1,
            "count": 0
           },
           {
            "bin_start": 1,
            "bin_end": 1.1,
            "count": 5508
           },
           {
            "bin_start": 1.1,
            "bin_end": 1.2000000000000002,
            "count": 0
           },
           {
            "bin_start": 1.2000000000000002,
            "bin_end": 1.3,
            "count": 0
           },
           {
            "bin_start": 1.3,
            "bin_end": 1.4,
            "count": 0
           },
           {
            "bin_start": 1.4,
            "bin_end": 1.5,
            "count": 0
           }
          ]
         }
        },
        {
         "name": "census_row",
         "dtype": "int64",
         "stats": {
          "unique_count": 128,
          "nan_count": 0,
          "min": "1",
          "max": "128",
          "histogram": [
           {
            "bin_start": 1,
            "bin_end": 13.7,
            "count": 663
           },
           {
            "bin_start": 13.7,
            "bin_end": 26.4,
            "count": 663
           },
           {
            "bin_start": 26.4,
            "bin_end": 39.099999999999994,
            "count": 663
           },
           {
            "bin_start": 39.099999999999994,
            "bin_end": 51.8,
            "count": 612
           },
           {
            "bin_start": 51.8,
            "bin_end": 64.5,
            "count": 659
           },
           {
            "bin_start": 64.5,
            "bin_end": 77.19999999999999,
            "count": 469
           },
           {
            "bin_start": 77.19999999999999,
            "bin_end": 89.89999999999999,
            "count": 553
           },
           {
            "bin_start": 89.89999999999999,
            "bin_end": 102.6,
            "count": 401
           },
           {
            "bin_start": 102.6,
            "bin_end": 115.3,
            "count": 362
           },
           {
            "bin_start": 115.3,
            "bin_end": 128,
            "count": 463
           }
          ]
         }
        },
        {
         "name": "census_column",
         "dtype": "int64",
         "stats": {
          "unique_count": 1,
          "nan_count": 0,
          "min": "1",
          "max": "1",
          "histogram": [
           {
            "bin_start": 0.5,
            "bin_end": 0.6,
            "count": 0
           },
           {
            "bin_start": 0.6,
            "bin_end": 0.7,
            "count": 0
           },
           {
            "bin_start": 0.7,
            "bin_end": 0.8,
            "count": 0
           },
           {
            "bin_start": 0.8,
            "bin_end": 0.9,
            "count": 0
           },
           {
            "bin_start": 0.9,
            "bin_end": 1,
            "count": 0
           },
           {
            "bin_start": 1,
            "bin_end": 1.1,
            "count": 5508
           },
           {
            "bin_start": 1.1,
            "bin_end": 1.2000000000000002,
            "count": 0
           },
           {
            "bin_start": 1.2000000000000002,
            "bin_end": 1.3,
            "count": 0
           },
           {
            "bin_start": 1.3,
            "bin_end": 1.4,
            "count": 0
           },
           {
            "bin_start": 1.4,
            "bin_end": 1.5,
            "count": 0
           }
          ]
         }
        },
        {
         "name": "sector_desc",
         "dtype": "object",
         "stats": {
          "unique_count": 4,
          "nan_count": 0,
          "categories": [
           {
            "name": "CROPS",
            "count": 2499
           },
           {
            "name": "ECONOMICS",
            "count": 1938
           },
           {
            "name": "2 others",
            "count": 1071
           }
          ]
         }
        },
        {
         "name": "short_desc",
         "dtype": "object",
         "stats": {
          "unique_count": 114,
          "nan_count": 0,
          "categories": [
           {
            "name": "FARM OPERATIONS - NUMBER OF OPERATIONS",
            "count": 408
           },
           {
            "name": "COMMODITY TOTALS - OPERATIONS WITH SALES",
            "count": 408
           },
           {
            "name": "112 others",
            "count": 4692
           }
          ]
         }
        },
        {
         "name": "commodity_desc",
         "dtype": "object",
         "stats": {
          "unique_count": 35,
          "nan_count": 0,
          "categories": [
           {
            "name": "FARM OPERATIONS",
            "count": 714
           },
           {
            "name": "COMMODITY TOTALS",
            "count": 510
           },
           {
            "name": "33 others",
            "count": 4284
           }
          ]
         }
        },
        {
         "name": "agg_level_desc",
         "dtype": "object",
         "stats": {
          "unique_count": 2,
          "nan_count": 0,
          "categories": [
           {
            "name": "STATE",
            "count": 5380
           },
           {
            "name": "NATIONAL",
            "count": 128
           }
          ]
         }
        },
        {
         "name": "state_fips_code",
         "dtype": "int64",
         "stats": {
          "unique_count": 51,
          "nan_count": 0,
          "min": "1",
          "max": "99",
          "histogram": [
           {
            "bin_start": 1,
            "bin_end": 10.8,
            "count": 836
           },
           {
            "bin_start": 10.8,
            "bin_end": 20.6,
            "count": 854
           },
           {
            "bin_start": 20.6,
            "bin_end": 30.400000000000002,
            "count": 1088
           },
           {
            "bin_start": 30.400000000000002,
            "bin_end": 40.2,
            "count": 1088
           },
           {
            "bin_start": 40.2,
            "bin_end": 50,
            "count": 865
           },
           {
            "bin_start": 50,
            "bin_end": 59.800000000000004,
            "count": 649
           },
           {
            "bin_start": 59.800000000000004,
            "bin_end": 69.60000000000001,
            "count": 0
           },
           {
            "bin_start": 69.60000000000001,
            "bin_end": 79.4,
            "count": 0
           },
           {
            "bin_start": 79.4,
            "bin_end": 89.2,
            "count": 0
           },
           {
            "bin_start": 89.2,
            "bin_end": 99,
            "count": 128
           }
          ]
         }
        },
        {
         "name": "state_alpha",
         "dtype": "object",
         "stats": {
          "unique_count": 51,
          "nan_count": 0,
          "categories": [
           {
            "name": "US",
            "count": 128
           },
           {
            "name": "TX",
            "count": 119
           },
           {
            "name": "49 others",
            "count": 5261
           }
          ]
         }
        },
        {
         "name": "state_name",
         "dtype": "object",
         "stats": {
          "unique_count": 51,
          "nan_count": 0,
          "categories": [
           {
            "name": "US TOTAL",
            "count": 128
           },
           {
            "name": "TEXAS",
            "count": 119
           },
           {
            "name": "49 others",
            "count": 5261
           }
          ]
         }
        },
        {
         "name": "county_code",
         "dtype": "object",
         "stats": {
          "unique_count": 0,
          "nan_count": 5508,
          "categories": [
           {
            "name": "Missing",
            "count": 5508
           }
          ]
         }
        },
        {
         "name": "county_name",
         "dtype": "object",
         "stats": {
          "unique_count": 0,
          "nan_count": 5508,
          "categories": [
           {
            "name": "Missing",
            "count": 5508
           }
          ]
         }
        },
        {
         "name": "domaincat_desc",
         "dtype": "object",
         "stats": {
          "unique_count": 15,
          "nan_count": 4743,
          "categories": [
           {
            "name": "AREA OPERATED: (1.0 TO 9.9 ACRES)",
            "count": 51
           },
           {
            "name": "14 others",
            "count": 714
           },
           {
            "name": "Missing",
            "count": 4743
           }
          ]
         }
        },
        {
         "name": "value",
         "dtype": "object",
         "stats": {
          "unique_count": 4504,
          "nan_count": 0,
          "categories": [
           {
            "name": "(D)",
            "count": 161
           },
           {
            "name": "1",
            "count": 28
           },
           {
            "name": "4502 others",
            "count": 5319
           }
          ]
         }
        },
        {
         "name": "_deepnote_index_column",
         "dtype": "int64"
        }
       ],
       "rows_top": [
        {
         "census_chapter": 1,
         "census_table": 1,
         "census_row": 2,
         "census_column": 1,
         "sector_desc": "ECONOMICS",
         "short_desc": "FARM OPERATIONS - ACRES OPERATED",
         "commodity_desc": "FARM OPERATIONS",
         "agg_level_desc": "STATE",
         "state_fips_code": 48,
         "state_alpha": "TX",
         "state_name": "TEXAS",
         "county_code": "None",
         "county_name": "None",
         "domaincat_desc": "None",
         "value": "127,036,184",
         "_deepnote_index_column": 0
        },
        {
         "census_chapter": 1,
         "census_table": 1,
         "census_row": 1,
         "census_column": 1,
         "sector_desc": "ECONOMICS",
         "short_desc": "FARM OPERATIONS - NUMBER OF OPERATIONS",
         "commodity_desc": "FARM OPERATIONS",
         "agg_level_desc": "STATE",
         "state_fips_code": 53,
         "state_alpha": "WA",
         "state_name": "WASHINGTON",
         "county_code": "None",
         "county_name": "None",
         "domaincat_desc": "None",
         "value": "35,793",
         "_deepnote_index_column": 1
        },
        {
         "census_chapter": 1,
         "census_table": 1,
         "census_row": 1,
         "census_column": 1,
         "sector_desc": "ECONOMICS",
         "short_desc": "FARM OPERATIONS - NUMBER OF OPERATIONS",
         "commodity_desc": "FARM OPERATIONS",
         "agg_level_desc": "STATE",
         "state_fips_code": 54,
         "state_alpha": "WV",
         "state_name": "WEST VIRGINIA",
         "county_code": "None",
         "county_name": "None",
         "domaincat_desc": "None",
         "value": "23,622",
         "_deepnote_index_column": 2
        },
        {
         "census_chapter": 1,
         "census_table": 1,
         "census_row": 1,
         "census_column": 1,
         "sector_desc": "ECONOMICS",
         "short_desc": "FARM OPERATIONS - NUMBER OF OPERATIONS",
         "commodity_desc": "FARM OPERATIONS",
         "agg_level_desc": "STATE",
         "state_fips_code": 55,
         "state_alpha": "WI",
         "state_name": "WISCONSIN",
         "county_code": "None",
         "county_name": "None",
         "domaincat_desc": "None",
         "value": "64,793",
         "_deepnote_index_column": 3
        },
        {
         "census_chapter": 1,
         "census_table": 1,
         "census_row": 1,
         "census_column": 1,
         "sector_desc": "ECONOMICS",
         "short_desc": "FARM OPERATIONS - NUMBER OF OPERATIONS",
         "commodity_desc": "FARM OPERATIONS",
         "agg_level_desc": "STATE",
         "state_fips_code": 56,
         "state_alpha": "WY",
         "state_name": "WYOMING",
         "county_code": "None",
         "county_name": "None",
         "domaincat_desc": "None",
         "value": "11,938",
         "_deepnote_index_column": 4
        },
        {
         "census_chapter": 1,
         "census_table": 1,
         "census_row": 2,
         "census_column": 1,
         "sector_desc": "ECONOMICS",
         "short_desc": "FARM OPERATIONS - ACRES OPERATED",
         "commodity_desc": "FARM OPERATIONS",
         "agg_level_desc": "NATIONAL",
         "state_fips_code": 99,
         "state_alpha": "US",
         "state_name": "US TOTAL",
         "county_code": "None",
         "county_name": "None",
         "domaincat_desc": "None",
         "value": "900,217,576",
         "_deepnote_index_column": 5
        },
        {
         "census_chapter": 1,
         "census_table": 1,
         "census_row": 2,
         "census_column": 1,
         "sector_desc": "ECONOMICS",
         "short_desc": "FARM OPERATIONS - ACRES OPERATED",
         "commodity_desc": "FARM OPERATIONS",
         "agg_level_desc": "STATE",
         "state_fips_code": 1,
         "state_alpha": "AL",
         "state_name": "ALABAMA",
         "county_code": "None",
         "county_name": "None",
         "domaincat_desc": "None",
         "value": "8,580,940",
         "_deepnote_index_column": 6
        },
        {
         "census_chapter": 1,
         "census_table": 1,
         "census_row": 2,
         "census_column": 1,
         "sector_desc": "ECONOMICS",
         "short_desc": "FARM OPERATIONS - ACRES OPERATED",
         "commodity_desc": "FARM OPERATIONS",
         "agg_level_desc": "STATE",
         "state_fips_code": 2,
         "state_alpha": "AK",
         "state_name": "ALASKA",
         "county_code": "None",
         "county_name": "None",
         "domaincat_desc": "None",
         "value": "849,753",
         "_deepnote_index_column": 7
        },
        {
         "census_chapter": 1,
         "census_table": 1,
         "census_row": 2,
         "census_column": 1,
         "sector_desc": "ECONOMICS",
         "short_desc": "FARM OPERATIONS - ACRES OPERATED",
         "commodity_desc": "FARM OPERATIONS",
         "agg_level_desc": "STATE",
         "state_fips_code": 4,
         "state_alpha": "AZ",
         "state_name": "ARIZONA",
         "county_code": "None",
         "county_name": "None",
         "domaincat_desc": "None",
         "value": "26,125,819",
         "_deepnote_index_column": 8
        },
        {
         "census_chapter": 1,
         "census_table": 1,
         "census_row": 2,
         "census_column": 1,
         "sector_desc": "ECONOMICS",
         "short_desc": "FARM OPERATIONS - ACRES OPERATED",
         "commodity_desc": "FARM OPERATIONS",
         "agg_level_desc": "STATE",
         "state_fips_code": 5,
         "state_alpha": "AR",
         "state_name": "ARKANSAS",
         "county_code": "None",
         "county_name": "None",
         "domaincat_desc": "None",
         "value": "13,888,929",
         "_deepnote_index_column": 9
        },
        {
         "census_chapter": 1,
         "census_table": 1,
         "census_row": 2,
         "census_column": 1,
         "sector_desc": "ECONOMICS",
         "short_desc": "FARM OPERATIONS - ACRES OPERATED",
         "commodity_desc": "FARM OPERATIONS",
         "agg_level_desc": "STATE",
         "state_fips_code": 6,
         "state_alpha": "CA",
         "state_name": "CALIFORNIA",
         "county_code": "None",
         "county_name": "None",
         "domaincat_desc": "None",
         "value": "24,522,801",
         "_deepnote_index_column": 10
        },
        {
         "census_chapter": 1,
         "census_table": 1,
         "census_row": 2,
         "census_column": 1,
         "sector_desc": "ECONOMICS",
         "short_desc": "FARM OPERATIONS - ACRES OPERATED",
         "commodity_desc": "FARM OPERATIONS",
         "agg_level_desc": "STATE",
         "state_fips_code": 8,
         "state_alpha": "CO",
         "state_name": "COLORADO",
         "county_code": "None",
         "county_name": "None",
         "domaincat_desc": "None",
         "value": "31,820,957",
         "_deepnote_index_column": 11
        },
        {
         "census_chapter": 1,
         "census_table": 1,
         "census_row": 2,
         "census_column": 1,
         "sector_desc": "ECONOMICS",
         "short_desc": "FARM OPERATIONS - ACRES OPERATED",
         "commodity_desc": "FARM OPERATIONS",
         "agg_level_desc": "STATE",
         "state_fips_code": 9,
         "state_alpha": "CT",
         "state_name": "CONNECTICUT",
         "county_code": "None",
         "county_name": "None",
         "domaincat_desc": "None",
         "value": "381,539",
         "_deepnote_index_column": 12
        },
        {
         "census_chapter": 1,
         "census_table": 1,
         "census_row": 2,
         "census_column": 1,
         "sector_desc": "ECONOMICS",
         "short_desc": "FARM OPERATIONS - ACRES OPERATED",
         "commodity_desc": "FARM OPERATIONS",
         "agg_level_desc": "STATE",
         "state_fips_code": 10,
         "state_alpha": "DE",
         "state_name": "DELAWARE",
         "county_code": "None",
         "county_name": "None",
         "domaincat_desc": "None",
         "value": "525,324",
         "_deepnote_index_column": 13
        },
        {
         "census_chapter": 1,
         "census_table": 1,
         "census_row": 2,
         "census_column": 1,
         "sector_desc": "ECONOMICS",
         "short_desc": "FARM OPERATIONS - ACRES OPERATED",
         "commodity_desc": "FARM OPERATIONS",
         "agg_level_desc": "STATE",
         "state_fips_code": 12,
         "state_alpha": "FL",
         "state_name": "FLORIDA",
         "county_code": "None",
         "county_name": "None",
         "domaincat_desc": "None",
         "value": "9,731,731",
         "_deepnote_index_column": 14
        },
        {
         "census_chapter": 1,
         "census_table": 1,
         "census_row": 2,
         "census_column": 1,
         "sector_desc": "ECONOMICS",
         "short_desc": "FARM OPERATIONS - ACRES OPERATED",
         "commodity_desc": "FARM OPERATIONS",
         "agg_level_desc": "STATE",
         "state_fips_code": 13,
         "state_alpha": "GA",
         "state_name": "GEORGIA",
         "county_code": "None",
         "county_name": "None",
         "domaincat_desc": "None",
         "value": "9,953,730",
         "_deepnote_index_column": 15
        },
        {
         "census_chapter": 1,
         "census_table": 1,
         "census_row": 2,
         "census_column": 1,
         "sector_desc": "ECONOMICS",
         "short_desc": "FARM OPERATIONS - ACRES OPERATED",
         "commodity_desc": "FARM OPERATIONS",
         "agg_level_desc": "STATE",
         "state_fips_code": 15,
         "state_alpha": "HI",
         "state_name": "HAWAII",
         "county_code": "None",
         "county_name": "None",
         "domaincat_desc": "None",
         "value": "1,135,352",
         "_deepnote_index_column": 16
        },
        {
         "census_chapter": 1,
         "census_table": 1,
         "census_row": 2,
         "census_column": 1,
         "sector_desc": "ECONOMICS",
         "short_desc": "FARM OPERATIONS - ACRES OPERATED",
         "commodity_desc": "FARM OPERATIONS",
         "agg_level_desc": "STATE",
         "state_fips_code": 16,
         "state_alpha": "ID",
         "state_name": "IDAHO",
         "county_code": "None",
         "county_name": "None",
         "domaincat_desc": "None",
         "value": "11,691,912",
         "_deepnote_index_column": 17
        },
        {
         "census_chapter": 1,
         "census_table": 1,
         "census_row": 2,
         "census_column": 1,
         "sector_desc": "ECONOMICS",
         "short_desc": "FARM OPERATIONS - ACRES OPERATED",
         "commodity_desc": "FARM OPERATIONS",
         "agg_level_desc": "STATE",
         "state_fips_code": 17,
         "state_alpha": "IL",
         "state_name": "ILLINOIS",
         "county_code": "None",
         "county_name": "None",
         "domaincat_desc": "None",
         "value": "27,006,288",
         "_deepnote_index_column": 18
        },
        {
         "census_chapter": 1,
         "census_table": 1,
         "census_row": 2,
         "census_column": 1,
         "sector_desc": "ECONOMICS",
         "short_desc": "FARM OPERATIONS - ACRES OPERATED",
         "commodity_desc": "FARM OPERATIONS",
         "agg_level_desc": "STATE",
         "state_fips_code": 18,
         "state_alpha": "IN",
         "state_name": "INDIANA",
         "county_code": "None",
         "county_name": "None",
         "domaincat_desc": "None",
         "value": "14,969,996",
         "_deepnote_index_column": 19
        },
        {
         "census_chapter": 1,
         "census_table": 1,
         "census_row": 2,
         "census_column": 1,
         "sector_desc": "ECONOMICS",
         "short_desc": "FARM OPERATIONS - ACRES OPERATED",
         "commodity_desc": "FARM OPERATIONS",
         "agg_level_desc": "STATE",
         "state_fips_code": 19,
         "state_alpha": "IA",
         "state_name": "IOWA",
         "county_code": "None",
         "county_name": "None",
         "domaincat_desc": "None",
         "value": "30,563,878",
         "_deepnote_index_column": 20
        },
        {
         "census_chapter": 1,
         "census_table": 1,
         "census_row": 2,
         "census_column": 1,
         "sector_desc": "ECONOMICS",
         "short_desc": "FARM OPERATIONS - ACRES OPERATED",
         "commodity_desc": "FARM OPERATIONS",
         "agg_level_desc": "STATE",
         "state_fips_code": 20,
         "state_alpha": "KS",
         "state_name": "KANSAS",
         "county_code": "None",
         "county_name": "None",
         "domaincat_desc": "None",
         "value": "45,759,319",
         "_deepnote_index_column": 21
        },
        {
         "census_chapter": 1,
         "census_table": 1,
         "census_row": 2,
         "census_column": 1,
         "sector_desc": "ECONOMICS",
         "short_desc": "FARM OPERATIONS - ACRES OPERATED",
         "commodity_desc": "FARM OPERATIONS",
         "agg_level_desc": "STATE",
         "state_fips_code": 21,
         "state_alpha": "KY",
         "state_name": "KENTUCKY",
         "county_code": "None",
         "county_name": "None",
         "domaincat_desc": "None",
         "value": "12,961,784",
         "_deepnote_index_column": 22
        },
        {
         "census_chapter": 1,
         "census_table": 1,
         "census_row": 2,
         "census_column": 1,
         "sector_desc": "ECONOMICS",
         "short_desc": "FARM OPERATIONS - ACRES OPERATED",
         "commodity_desc": "FARM OPERATIONS",
         "agg_level_desc": "STATE",
         "state_fips_code": 22,
         "state_alpha": "LA",
         "state_name": "LOUISIANA",
         "county_code": "None",
         "county_name": "None",
         "domaincat_desc": "None",
         "value": "7,997,511",
         "_deepnote_index_column": 23
        },
        {
         "census_chapter": 1,
         "census_table": 1,
         "census_row": 2,
         "census_column": 1,
         "sector_desc": "ECONOMICS",
         "short_desc": "FARM OPERATIONS - ACRES OPERATED",
         "commodity_desc": "FARM OPERATIONS",
         "agg_level_desc": "STATE",
         "state_fips_code": 23,
         "state_alpha": "ME",
         "state_name": "MAINE",
         "county_code": "None",
         "county_name": "None",
         "domaincat_desc": "None",
         "value": "1,307,613",
         "_deepnote_index_column": 24
        },
        {
         "census_chapter": 1,
         "census_table": 1,
         "census_row": 2,
         "census_column": 1,
         "sector_desc": "ECONOMICS",
         "short_desc": "FARM OPERATIONS - ACRES OPERATED",
         "commodity_desc": "FARM OPERATIONS",
         "agg_level_desc": "STATE",
         "state_fips_code": 24,
         "state_alpha": "MD",
         "state_name": "MARYLAND",
         "county_code": "None",
         "county_name": "None",
         "domaincat_desc": "None",
         "value": "1,990,122",
         "_deepnote_index_column": 25
        },
        {
         "census_chapter": 1,
         "census_table": 1,
         "census_row": 2,
         "census_column": 1,
         "sector_desc": "ECONOMICS",
         "short_desc": "FARM OPERATIONS - ACRES OPERATED",
         "commodity_desc": "FARM OPERATIONS",
         "agg_level_desc": "STATE",
         "state_fips_code": 25,
         "state_alpha": "MA",
         "state_name": "MASSACHUSETTS",
         "county_code": "None",
         "county_name": "None",
         "domaincat_desc": "None",
         "value": "491,653",
         "_deepnote_index_column": 26
        },
        {
         "census_chapter": 1,
         "census_table": 1,
         "census_row": 2,
         "census_column": 1,
         "sector_desc": "ECONOMICS",
         "short_desc": "FARM OPERATIONS - ACRES OPERATED",
         "commodity_desc": "FARM OPERATIONS",
         "agg_level_desc": "STATE",
         "state_fips_code": 26,
         "state_alpha": "MI",
         "state_name": "MICHIGAN",
         "county_code": "None",
         "county_name": "None",
         "domaincat_desc": "None",
         "value": "9,764,090",
         "_deepnote_index_column": 27
        },
        {
         "census_chapter": 1,
         "census_table": 1,
         "census_row": 2,
         "census_column": 1,
         "sector_desc": "ECONOMICS",
         "short_desc": "FARM OPERATIONS - ACRES OPERATED",
         "commodity_desc": "FARM OPERATIONS",
         "agg_level_desc": "STATE",
         "state_fips_code": 27,
         "state_alpha": "MN",
         "state_name": "MINNESOTA",
         "county_code": "None",
         "county_name": "None",
         "domaincat_desc": "None",
         "value": "25,516,982",
         "_deepnote_index_column": 28
        },
        {
         "census_chapter": 1,
         "census_table": 1,
         "census_row": 2,
         "census_column": 1,
         "sector_desc": "ECONOMICS",
         "short_desc": "FARM OPERATIONS - ACRES OPERATED",
         "commodity_desc": "FARM OPERATIONS",
         "agg_level_desc": "STATE",
         "state_fips_code": 28,
         "state_alpha": "MS",
         "state_name": "MISSISSIPPI",
         "county_code": "None",
         "county_name": "None",
         "domaincat_desc": "None",
         "value": "10,415,136",
         "_deepnote_index_column": 29
        },
        {
         "census_chapter": 1,
         "census_table": 1,
         "census_row": 2,
         "census_column": 1,
         "sector_desc": "ECONOMICS",
         "short_desc": "FARM OPERATIONS - ACRES OPERATED",
         "commodity_desc": "FARM OPERATIONS",
         "agg_level_desc": "STATE",
         "state_fips_code": 29,
         "state_alpha": "MO",
         "state_name": "MISSOURI",
         "county_code": "None",
         "county_name": "None",
         "domaincat_desc": "None",
         "value": "27,781,883",
         "_deepnote_index_column": 30
        },
        {
         "census_chapter": 1,
         "census_table": 1,
         "census_row": 2,
         "census_column": 1,
         "sector_desc": "ECONOMICS",
         "short_desc": "FARM OPERATIONS - ACRES OPERATED",
         "commodity_desc": "FARM OPERATIONS",
         "agg_level_desc": "STATE",
         "state_fips_code": 30,
         "state_alpha": "MT",
         "state_name": "MONTANA",
         "county_code": "None",
         "county_name": "None",
         "domaincat_desc": "None",
         "value": "58,122,878",
         "_deepnote_index_column": 31
        },
        {
         "census_chapter": 1,
         "census_table": 1,
         "census_row": 2,
         "census_column": 1,
         "sector_desc": "ECONOMICS",
         "short_desc": "FARM OPERATIONS - ACRES OPERATED",
         "commodity_desc": "FARM OPERATIONS",
         "agg_level_desc": "STATE",
         "state_fips_code": 31,
         "state_alpha": "NE",
         "state_name": "NEBRASKA",
         "county_code": "None",
         "county_name": "None",
         "domaincat_desc": "None",
         "value": "44,986,821",
         "_deepnote_index_column": 32
        }
       ],
       "rows_bottom": [
        {
         "census_chapter": 1,
         "census_table": 1,
         "census_row": 13,
         "census_column": 1,
         "sector_desc": "ECONOMICS",
         "short_desc": "FARM OPERATIONS - NUMBER OF OPERATIONS",
         "commodity_desc": "FARM OPERATIONS",
         "agg_level_desc": "STATE",
         "state_fips_code": 22,
         "state_alpha": "LA",
         "state_name": "LOUISIANA",
         "county_code": "None",
         "county_name": "None",
         "domaincat_desc": "AREA OPERATED: (1,000 TO 1,999 ACRES)",
         "value": "1,114",
         "_deepnote_index_column": 5475
        },
        {
         "census_chapter": 1,
         "census_table": 1,
         "census_row": 13,
         "census_column": 1,
         "sector_desc": "ECONOMICS",
         "short_desc": "FARM OPERATIONS - NUMBER OF OPERATIONS",
         "commodity_desc": "FARM OPERATIONS",
         "agg_level_desc": "STATE",
         "state_fips_code": 23,
         "state_alpha": "ME",
         "state_name": "MAINE",
         "county_code": "None",
         "county_name": "None",
         "domaincat_desc": "AREA OPERATED: (1,000 TO 1,999 ACRES)",
         "value": "115",
         "_deepnote_index_column": 5476
        },
        {
         "census_chapter": 1,
         "census_table": 1,
         "census_row": 13,
         "census_column": 1,
         "sector_desc": "ECONOMICS",
         "short_desc": "FARM OPERATIONS - NUMBER OF OPERATIONS",
         "commodity_desc": "FARM OPERATIONS",
         "agg_level_desc": "STATE",
         "state_fips_code": 24,
         "state_alpha": "MD",
         "state_name": "MARYLAND",
         "county_code": "None",
         "county_name": "None",
         "domaincat_desc": "AREA OPERATED: (1,000 TO 1,999 ACRES)",
         "value": "269",
         "_deepnote_index_column": 5477
        },
        {
         "census_chapter": 1,
         "census_table": 1,
         "census_row": 13,
         "census_column": 1,
         "sector_desc": "ECONOMICS",
         "short_desc": "FARM OPERATIONS - NUMBER OF OPERATIONS",
         "commodity_desc": "FARM OPERATIONS",
         "agg_level_desc": "STATE",
         "state_fips_code": 25,
         "state_alpha": "MA",
         "state_name": "MASSACHUSETTS",
         "county_code": "None",
         "county_name": "None",
         "domaincat_desc": "AREA OPERATED: (1,000 TO 1,999 ACRES)",
         "value": "22",
         "_deepnote_index_column": 5478
        },
        {
         "census_chapter": 1,
         "census_table": 1,
         "census_row": 13,
         "census_column": 1,
         "sector_desc": "ECONOMICS",
         "short_desc": "FARM OPERATIONS - NUMBER OF OPERATIONS",
         "commodity_desc": "FARM OPERATIONS",
         "agg_level_desc": "STATE",
         "state_fips_code": 26,
         "state_alpha": "MI",
         "state_name": "MICHIGAN",
         "county_code": "None",
         "county_name": "None",
         "domaincat_desc": "AREA OPERATED: (1,000 TO 1,999 ACRES)",
         "value": "1,504",
         "_deepnote_index_column": 5479
        },
        {
         "census_chapter": 1,
         "census_table": 1,
         "census_row": 13,
         "census_column": 1,
         "sector_desc": "ECONOMICS",
         "short_desc": "FARM OPERATIONS - NUMBER OF OPERATIONS",
         "commodity_desc": "FARM OPERATIONS",
         "agg_level_desc": "STATE",
         "state_fips_code": 27,
         "state_alpha": "MN",
         "state_name": "MINNESOTA",
         "county_code": "None",
         "county_name": "None",
         "domaincat_desc": "AREA OPERATED: (1,000 TO 1,999 ACRES)",
         "value": "4,182",
         "_deepnote_index_column": 5480
        },
        {
         "census_chapter": 1,
         "census_table": 1,
         "census_row": 13,
         "census_column": 1,
         "sector_desc": "ECONOMICS",
         "short_desc": "FARM OPERATIONS - NUMBER OF OPERATIONS",
         "commodity_desc": "FARM OPERATIONS",
         "agg_level_desc": "STATE",
         "state_fips_code": 28,
         "state_alpha": "MS",
         "state_name": "MISSISSIPPI",
         "county_code": "None",
         "county_name": "None",
         "domaincat_desc": "AREA OPERATED: (1,000 TO 1,999 ACRES)",
         "value": "1,273",
         "_deepnote_index_column": 5481
        },
        {
         "census_chapter": 1,
         "census_table": 1,
         "census_row": 13,
         "census_column": 1,
         "sector_desc": "ECONOMICS",
         "short_desc": "FARM OPERATIONS - NUMBER OF OPERATIONS",
         "commodity_desc": "FARM OPERATIONS",
         "agg_level_desc": "STATE",
         "state_fips_code": 29,
         "state_alpha": "MO",
         "state_name": "MISSOURI",
         "county_code": "None",
         "county_name": "None",
         "domaincat_desc": "AREA OPERATED: (1,000 TO 1,999 ACRES)",
         "value": "3,603",
         "_deepnote_index_column": 5482
        },
        {
         "census_chapter": 1,
         "census_table": 1,
         "census_row": 13,
         "census_column": 1,
         "sector_desc": "ECONOMICS",
         "short_desc": "FARM OPERATIONS - NUMBER OF OPERATIONS",
         "commodity_desc": "FARM OPERATIONS",
         "agg_level_desc": "STATE",
         "state_fips_code": 30,
         "state_alpha": "MT",
         "state_name": "MONTANA",
         "county_code": "None",
         "county_name": "None",
         "domaincat_desc": "AREA OPERATED: (1,000 TO 1,999 ACRES)",
         "value": "2,246",
         "_deepnote_index_column": 5483
        },
        {
         "census_chapter": 1,
         "census_table": 1,
         "census_row": 13,
         "census_column": 1,
         "sector_desc": "ECONOMICS",
         "short_desc": "FARM OPERATIONS - NUMBER OF OPERATIONS",
         "commodity_desc": "FARM OPERATIONS",
         "agg_level_desc": "STATE",
         "state_fips_code": 31,
         "state_alpha": "NE",
         "state_name": "NEBRASKA",
         "county_code": "None",
         "county_name": "None",
         "domaincat_desc": "AREA OPERATED: (1,000 TO 1,999 ACRES)",
         "value": "5,541",
         "_deepnote_index_column": 5484
        },
        {
         "census_chapter": 1,
         "census_table": 1,
         "census_row": 13,
         "census_column": 1,
         "sector_desc": "ECONOMICS",
         "short_desc": "FARM OPERATIONS - NUMBER OF OPERATIONS",
         "commodity_desc": "FARM OPERATIONS",
         "agg_level_desc": "STATE",
         "state_fips_code": 32,
         "state_alpha": "NV",
         "state_name": "NEVADA",
         "county_code": "None",
         "county_name": "None",
         "domaincat_desc": "AREA OPERATED: (1,000 TO 1,999 ACRES)",
         "value": "167",
         "_deepnote_index_column": 5485
        },
        {
         "census_chapter": 1,
         "census_table": 1,
         "census_row": 13,
         "census_column": 1,
         "sector_desc": "ECONOMICS",
         "short_desc": "FARM OPERATIONS - NUMBER OF OPERATIONS",
         "commodity_desc": "FARM OPERATIONS",
         "agg_level_desc": "STATE",
         "state_fips_code": 33,
         "state_alpha": "NH",
         "state_name": "NEW HAMPSHIRE",
         "county_code": "None",
         "county_name": "None",
         "domaincat_desc": "AREA OPERATED: (1,000 TO 1,999 ACRES)",
         "value": "20",
         "_deepnote_index_column": 5486
        },
        {
         "census_chapter": 1,
         "census_table": 1,
         "census_row": 13,
         "census_column": 1,
         "sector_desc": "ECONOMICS",
         "short_desc": "FARM OPERATIONS - NUMBER OF OPERATIONS",
         "commodity_desc": "FARM OPERATIONS",
         "agg_level_desc": "STATE",
         "state_fips_code": 34,
         "state_alpha": "NJ",
         "state_name": "NEW JERSEY",
         "county_code": "None",
         "county_name": "None",
         "domaincat_desc": "AREA OPERATED: (1,000 TO 1,999 ACRES)",
         "value": "88",
         "_deepnote_index_column": 5487
        },
        {
         "census_chapter": 1,
         "census_table": 1,
         "census_row": 13,
         "census_column": 1,
         "sector_desc": "ECONOMICS",
         "short_desc": "FARM OPERATIONS - NUMBER OF OPERATIONS",
         "commodity_desc": "FARM OPERATIONS",
         "agg_level_desc": "STATE",
         "state_fips_code": 35,
         "state_alpha": "NM",
         "state_name": "NEW MEXICO",
         "county_code": "None",
         "county_name": "None",
         "domaincat_desc": "AREA OPERATED: (1,000 TO 1,999 ACRES)",
         "value": "1,696",
         "_deepnote_index_column": 5488
        },
        {
         "census_chapter": 1,
         "census_table": 1,
         "census_row": 13,
         "census_column": 1,
         "sector_desc": "ECONOMICS",
         "short_desc": "FARM OPERATIONS - NUMBER OF OPERATIONS",
         "commodity_desc": "FARM OPERATIONS",
         "agg_level_desc": "STATE",
         "state_fips_code": 36,
         "state_alpha": "NY",
         "state_name": "NEW YORK",
         "county_code": "None",
         "county_name": "None",
         "domaincat_desc": "AREA OPERATED: (1,000 TO 1,999 ACRES)",
         "value": "717",
         "_deepnote_index_column": 5489
        },
        {
         "census_chapter": 1,
         "census_table": 1,
         "census_row": 13,
         "census_column": 1,
         "sector_desc": "ECONOMICS",
         "short_desc": "FARM OPERATIONS - NUMBER OF OPERATIONS",
         "commodity_desc": "FARM OPERATIONS",
         "agg_level_desc": "STATE",
         "state_fips_code": 37,
         "state_alpha": "NC",
         "state_name": "NORTH CAROLINA",
         "county_code": "None",
         "county_name": "None",
         "domaincat_desc": "AREA OPERATED: (1,000 TO 1,999 ACRES)",
         "value": "1,146",
         "_deepnote_index_column": 5490
        },
        {
         "census_chapter": 1,
         "census_table": 1,
         "census_row": 13,
         "census_column": 1,
         "sector_desc": "ECONOMICS",
         "short_desc": "FARM OPERATIONS - NUMBER OF OPERATIONS",
         "commodity_desc": "FARM OPERATIONS",
         "agg_level_desc": "STATE",
         "state_fips_code": 38,
         "state_alpha": "ND",
         "state_name": "NORTH DAKOTA",
         "county_code": "None",
         "county_name": "None",
         "domaincat_desc": "AREA OPERATED: (1,000 TO 1,999 ACRES)",
         "value": "3,837",
         "_deepnote_index_column": 5491
        },
        {
         "census_chapter": 1,
         "census_table": 1,
         "census_row": 13,
         "census_column": 1,
         "sector_desc": "ECONOMICS",
         "short_desc": "FARM OPERATIONS - NUMBER OF OPERATIONS",
         "commodity_desc": "FARM OPERATIONS",
         "agg_level_desc": "STATE",
         "state_fips_code": 39,
         "state_alpha": "OH",
         "state_name": "OHIO",
         "county_code": "None",
         "county_name": "None",
         "domaincat_desc": "AREA OPERATED: (1,000 TO 1,999 ACRES)",
         "value": "1,958",
         "_deepnote_index_column": 5492
        },
        {
         "census_chapter": 1,
         "census_table": 1,
         "census_row": 13,
         "census_column": 1,
         "sector_desc": "ECONOMICS",
         "short_desc": "FARM OPERATIONS - NUMBER OF OPERATIONS",
         "commodity_desc": "FARM OPERATIONS",
         "agg_level_desc": "STATE",
         "state_fips_code": 40,
         "state_alpha": "OK",
         "state_name": "OKLAHOMA",
         "county_code": "None",
         "county_name": "None",
         "domaincat_desc": "AREA OPERATED: (1,000 TO 1,999 ACRES)",
         "value": "4,428",
         "_deepnote_index_column": 5493
        },
        {
         "census_chapter": 1,
         "census_table": 1,
         "census_row": 13,
         "census_column": 1,
         "sector_desc": "ECONOMICS",
         "short_desc": "FARM OPERATIONS - NUMBER OF OPERATIONS",
         "commodity_desc": "FARM OPERATIONS",
         "agg_level_desc": "STATE",
         "state_fips_code": 41,
         "state_alpha": "OR",
         "state_name": "OREGON",
         "county_code": "None",
         "county_name": "None",
         "domaincat_desc": "AREA OPERATED: (1,000 TO 1,999 ACRES)",
         "value": "846",
         "_deepnote_index_column": 5494
        },
        {
         "census_chapter": 1,
         "census_table": 1,
         "census_row": 13,
         "census_column": 1,
         "sector_desc": "ECONOMICS",
         "short_desc": "FARM OPERATIONS - NUMBER OF OPERATIONS",
         "commodity_desc": "FARM OPERATIONS",
         "agg_level_desc": "STATE",
         "state_fips_code": 42,
         "state_alpha": "PA",
         "state_name": "PENNSYLVANIA",
         "county_code": "None",
         "county_name": "None",
         "domaincat_desc": "AREA OPERATED: (1,000 TO 1,999 ACRES)",
         "value": "577",
         "_deepnote_index_column": 5495
        },
        {
         "census_chapter": 1,
         "census_table": 1,
         "census_row": 13,
         "census_column": 1,
         "sector_desc": "ECONOMICS",
         "short_desc": "FARM OPERATIONS - NUMBER OF OPERATIONS",
         "commodity_desc": "FARM OPERATIONS",
         "agg_level_desc": "STATE",
         "state_fips_code": 44,
         "state_alpha": "RI",
         "state_name": "RHODE ISLAND",
         "county_code": "None",
         "county_name": "None",
         "domaincat_desc": "AREA OPERATED: (1,000 TO 1,999 ACRES)",
         "value": "1",
         "_deepnote_index_column": 5496
        },
        {
         "census_chapter": 1,
         "census_table": 1,
         "census_row": 13,
         "census_column": 1,
         "sector_desc": "ECONOMICS",
         "short_desc": "FARM OPERATIONS - NUMBER OF OPERATIONS",
         "commodity_desc": "FARM OPERATIONS",
         "agg_level_desc": "STATE",
         "state_fips_code": 45,
         "state_alpha": "SC",
         "state_name": "SOUTH CAROLINA",
         "county_code": "None",
         "county_name": "None",
         "domaincat_desc": "AREA OPERATED: (1,000 TO 1,999 ACRES)",
         "value": "579",
         "_deepnote_index_column": 5497
        },
        {
         "census_chapter": 1,
         "census_table": 1,
         "census_row": 13,
         "census_column": 1,
         "sector_desc": "ECONOMICS",
         "short_desc": "FARM OPERATIONS - NUMBER OF OPERATIONS",
         "commodity_desc": "FARM OPERATIONS",
         "agg_level_desc": "STATE",
         "state_fips_code": 46,
         "state_alpha": "SD",
         "state_name": "SOUTH DAKOTA",
         "county_code": "None",
         "county_name": "None",
         "domaincat_desc": "AREA OPERATED: (1,000 TO 1,999 ACRES)",
         "value": "3,757",
         "_deepnote_index_column": 5498
        },
        {
         "census_chapter": 1,
         "census_table": 1,
         "census_row": 13,
         "census_column": 1,
         "sector_desc": "ECONOMICS",
         "short_desc": "FARM OPERATIONS - NUMBER OF OPERATIONS",
         "commodity_desc": "FARM OPERATIONS",
         "agg_level_desc": "STATE",
         "state_fips_code": 47,
         "state_alpha": "TN",
         "state_name": "TENNESSEE",
         "county_code": "None",
         "county_name": "None",
         "domaincat_desc": "AREA OPERATED: (1,000 TO 1,999 ACRES)",
         "value": "992",
         "_deepnote_index_column": 5499
        },
        {
         "census_chapter": 1,
         "census_table": 1,
         "census_row": 13,
         "census_column": 1,
         "sector_desc": "ECONOMICS",
         "short_desc": "FARM OPERATIONS - NUMBER OF OPERATIONS",
         "commodity_desc": "FARM OPERATIONS",
         "agg_level_desc": "STATE",
         "state_fips_code": 48,
         "state_alpha": "TX",
         "state_name": "TEXAS",
         "county_code": "None",
         "county_name": "None",
         "domaincat_desc": "AREA OPERATED: (1,000 TO 1,999 ACRES)",
         "value": "9,463",
         "_deepnote_index_column": 5500
        },
        {
         "census_chapter": 1,
         "census_table": 1,
         "census_row": 13,
         "census_column": 1,
         "sector_desc": "ECONOMICS",
         "short_desc": "FARM OPERATIONS - NUMBER OF OPERATIONS",
         "commodity_desc": "FARM OPERATIONS",
         "agg_level_desc": "STATE",
         "state_fips_code": 49,
         "state_alpha": "UT",
         "state_name": "UTAH",
         "county_code": "None",
         "county_name": "None",
         "domaincat_desc": "AREA OPERATED: (1,000 TO 1,999 ACRES)",
         "value": "574",
         "_deepnote_index_column": 5501
        },
        {
         "census_chapter": 1,
         "census_table": 1,
         "census_row": 13,
         "census_column": 1,
         "sector_desc": "ECONOMICS",
         "short_desc": "FARM OPERATIONS - NUMBER OF OPERATIONS",
         "commodity_desc": "FARM OPERATIONS",
         "agg_level_desc": "STATE",
         "state_fips_code": 50,
         "state_alpha": "VT",
         "state_name": "VERMONT",
         "county_code": "None",
         "county_name": "None",
         "domaincat_desc": "AREA OPERATED: (1,000 TO 1,999 ACRES)",
         "value": "113",
         "_deepnote_index_column": 5502
        },
        {
         "census_chapter": 1,
         "census_table": 1,
         "census_row": 13,
         "census_column": 1,
         "sector_desc": "ECONOMICS",
         "short_desc": "FARM OPERATIONS - NUMBER OF OPERATIONS",
         "commodity_desc": "FARM OPERATIONS",
         "agg_level_desc": "STATE",
         "state_fips_code": 51,
         "state_alpha": "VA",
         "state_name": "VIRGINIA",
         "county_code": "None",
         "county_name": "None",
         "domaincat_desc": "AREA OPERATED: (1,000 TO 1,999 ACRES)",
         "value": "966",
         "_deepnote_index_column": 5503
        },
        {
         "census_chapter": 1,
         "census_table": 1,
         "census_row": 13,
         "census_column": 1,
         "sector_desc": "ECONOMICS",
         "short_desc": "FARM OPERATIONS - NUMBER OF OPERATIONS",
         "commodity_desc": "FARM OPERATIONS",
         "agg_level_desc": "STATE",
         "state_fips_code": 53,
         "state_alpha": "WA",
         "state_name": "WASHINGTON",
         "county_code": "None",
         "county_name": "None",
         "domaincat_desc": "AREA OPERATED: (1,000 TO 1,999 ACRES)",
         "value": "996",
         "_deepnote_index_column": 5504
        },
        {
         "census_chapter": 1,
         "census_table": 1,
         "census_row": 13,
         "census_column": 1,
         "sector_desc": "ECONOMICS",
         "short_desc": "FARM OPERATIONS - NUMBER OF OPERATIONS",
         "commodity_desc": "FARM OPERATIONS",
         "agg_level_desc": "STATE",
         "state_fips_code": 54,
         "state_alpha": "WV",
         "state_name": "WEST VIRGINIA",
         "county_code": "None",
         "county_name": "None",
         "domaincat_desc": "AREA OPERATED: (1,000 TO 1,999 ACRES)",
         "value": "272",
         "_deepnote_index_column": 5505
        },
        {
         "census_chapter": 1,
         "census_table": 1,
         "census_row": 13,
         "census_column": 1,
         "sector_desc": "ECONOMICS",
         "short_desc": "FARM OPERATIONS - NUMBER OF OPERATIONS",
         "commodity_desc": "FARM OPERATIONS",
         "agg_level_desc": "STATE",
         "state_fips_code": 55,
         "state_alpha": "WI",
         "state_name": "WISCONSIN",
         "county_code": "None",
         "county_name": "None",
         "domaincat_desc": "AREA OPERATED: (1,000 TO 1,999 ACRES)",
         "value": "1,619",
         "_deepnote_index_column": 5506
        },
        {
         "census_chapter": 1,
         "census_table": 1,
         "census_row": 13,
         "census_column": 1,
         "sector_desc": "ECONOMICS",
         "short_desc": "FARM OPERATIONS - NUMBER OF OPERATIONS",
         "commodity_desc": "FARM OPERATIONS",
         "agg_level_desc": "STATE",
         "state_fips_code": 56,
         "state_alpha": "WY",
         "state_name": "WYOMING",
         "county_code": "None",
         "county_name": "None",
         "domaincat_desc": "AREA OPERATED: (1,000 TO 1,999 ACRES)",
         "value": "780",
         "_deepnote_index_column": 5507
        }
       ]
      },
      "text/plain": "      census_chapter  census_table  census_row  census_column sector_desc  \\\n0                  1             1           2              1   ECONOMICS   \n1                  1             1           1              1   ECONOMICS   \n2                  1             1           1              1   ECONOMICS   \n3                  1             1           1              1   ECONOMICS   \n4                  1             1           1              1   ECONOMICS   \n...              ...           ...         ...            ...         ...   \n5503               1             1          13              1   ECONOMICS   \n5504               1             1          13              1   ECONOMICS   \n5505               1             1          13              1   ECONOMICS   \n5506               1             1          13              1   ECONOMICS   \n5507               1             1          13              1   ECONOMICS   \n\n                                  short_desc   commodity_desc agg_level_desc  \\\n0           FARM OPERATIONS - ACRES OPERATED  FARM OPERATIONS          STATE   \n1     FARM OPERATIONS - NUMBER OF OPERATIONS  FARM OPERATIONS          STATE   \n2     FARM OPERATIONS - NUMBER OF OPERATIONS  FARM OPERATIONS          STATE   \n3     FARM OPERATIONS - NUMBER OF OPERATIONS  FARM OPERATIONS          STATE   \n4     FARM OPERATIONS - NUMBER OF OPERATIONS  FARM OPERATIONS          STATE   \n...                                      ...              ...            ...   \n5503  FARM OPERATIONS - NUMBER OF OPERATIONS  FARM OPERATIONS          STATE   \n5504  FARM OPERATIONS - NUMBER OF OPERATIONS  FARM OPERATIONS          STATE   \n5505  FARM OPERATIONS - NUMBER OF OPERATIONS  FARM OPERATIONS          STATE   \n5506  FARM OPERATIONS - NUMBER OF OPERATIONS  FARM OPERATIONS          STATE   \n5507  FARM OPERATIONS - NUMBER OF OPERATIONS  FARM OPERATIONS          STATE   \n\n      state_fips_code state_alpha     state_name county_code county_name  \\\n0                  48          TX          TEXAS        None        None   \n1                  53          WA     WASHINGTON        None        None   \n2                  54          WV  WEST VIRGINIA        None        None   \n3                  55          WI      WISCONSIN        None        None   \n4                  56          WY        WYOMING        None        None   \n...               ...         ...            ...         ...         ...   \n5503               51          VA       VIRGINIA        None        None   \n5504               53          WA     WASHINGTON        None        None   \n5505               54          WV  WEST VIRGINIA        None        None   \n5506               55          WI      WISCONSIN        None        None   \n5507               56          WY        WYOMING        None        None   \n\n                             domaincat_desc        value  \n0                                      None  127,036,184  \n1                                      None       35,793  \n2                                      None       23,622  \n3                                      None       64,793  \n4                                      None       11,938  \n...                                     ...          ...  \n5503  AREA OPERATED: (1,000 TO 1,999 ACRES)          966  \n5504  AREA OPERATED: (1,000 TO 1,999 ACRES)          996  \n5505  AREA OPERATED: (1,000 TO 1,999 ACRES)          272  \n5506  AREA OPERATED: (1,000 TO 1,999 ACRES)        1,619  \n5507  AREA OPERATED: (1,000 TO 1,999 ACRES)          780  \n\n[5508 rows x 15 columns]",
      "text/html": "<div>\n<style scoped>\n    .dataframe tbody tr th:only-of-type {\n        vertical-align: middle;\n    }\n\n    .dataframe tbody tr th {\n        vertical-align: top;\n    }\n\n    .dataframe thead th {\n        text-align: right;\n    }\n</style>\n<table border=\"1\" class=\"dataframe\">\n  <thead>\n    <tr style=\"text-align: right;\">\n      <th></th>\n      <th>census_chapter</th>\n      <th>census_table</th>\n      <th>census_row</th>\n      <th>census_column</th>\n      <th>sector_desc</th>\n      <th>short_desc</th>\n      <th>commodity_desc</th>\n      <th>agg_level_desc</th>\n      <th>state_fips_code</th>\n      <th>state_alpha</th>\n      <th>state_name</th>\n      <th>county_code</th>\n      <th>county_name</th>\n      <th>domaincat_desc</th>\n      <th>value</th>\n    </tr>\n  </thead>\n  <tbody>\n    <tr>\n      <th>0</th>\n      <td>1</td>\n      <td>1</td>\n      <td>2</td>\n      <td>1</td>\n      <td>ECONOMICS</td>\n      <td>FARM OPERATIONS - ACRES OPERATED</td>\n      <td>FARM OPERATIONS</td>\n      <td>STATE</td>\n      <td>48</td>\n      <td>TX</td>\n      <td>TEXAS</td>\n      <td>None</td>\n      <td>None</td>\n      <td>None</td>\n      <td>127,036,184</td>\n    </tr>\n    <tr>\n      <th>1</th>\n      <td>1</td>\n      <td>1</td>\n      <td>1</td>\n      <td>1</td>\n      <td>ECONOMICS</td>\n      <td>FARM OPERATIONS - NUMBER OF OPERATIONS</td>\n      <td>FARM OPERATIONS</td>\n      <td>STATE</td>\n      <td>53</td>\n      <td>WA</td>\n      <td>WASHINGTON</td>\n      <td>None</td>\n      <td>None</td>\n      <td>None</td>\n      <td>35,793</td>\n    </tr>\n    <tr>\n      <th>2</th>\n      <td>1</td>\n      <td>1</td>\n      <td>1</td>\n      <td>1</td>\n      <td>ECONOMICS</td>\n      <td>FARM OPERATIONS - NUMBER OF OPERATIONS</td>\n      <td>FARM OPERATIONS</td>\n      <td>STATE</td>\n      <td>54</td>\n      <td>WV</td>\n      <td>WEST VIRGINIA</td>\n      <td>None</td>\n      <td>None</td>\n      <td>None</td>\n      <td>23,622</td>\n    </tr>\n    <tr>\n      <th>3</th>\n      <td>1</td>\n      <td>1</td>\n      <td>1</td>\n      <td>1</td>\n      <td>ECONOMICS</td>\n      <td>FARM OPERATIONS - NUMBER OF OPERATIONS</td>\n      <td>FARM OPERATIONS</td>\n      <td>STATE</td>\n      <td>55</td>\n      <td>WI</td>\n      <td>WISCONSIN</td>\n      <td>None</td>\n      <td>None</td>\n      <td>None</td>\n      <td>64,793</td>\n    </tr>\n    <tr>\n      <th>4</th>\n      <td>1</td>\n      <td>1</td>\n      <td>1</td>\n      <td>1</td>\n      <td>ECONOMICS</td>\n      <td>FARM OPERATIONS - NUMBER OF OPERATIONS</td>\n      <td>FARM OPERATIONS</td>\n      <td>STATE</td>\n      <td>56</td>\n      <td>WY</td>\n      <td>WYOMING</td>\n      <td>None</td>\n      <td>None</td>\n      <td>None</td>\n      <td>11,938</td>\n    </tr>\n    <tr>\n      <th>...</th>\n      <td>...</td>\n      <td>...</td>\n      <td>...</td>\n      <td>...</td>\n      <td>...</td>\n      <td>...</td>\n      <td>...</td>\n      <td>...</td>\n      <td>...</td>\n      <td>...</td>\n      <td>...</td>\n      <td>...</td>\n      <td>...</td>\n      <td>...</td>\n      <td>...</td>\n    </tr>\n    <tr>\n      <th>5503</th>\n      <td>1</td>\n      <td>1</td>\n      <td>13</td>\n      <td>1</td>\n      <td>ECONOMICS</td>\n      <td>FARM OPERATIONS - NUMBER OF OPERATIONS</td>\n      <td>FARM OPERATIONS</td>\n      <td>STATE</td>\n      <td>51</td>\n      <td>VA</td>\n      <td>VIRGINIA</td>\n      <td>None</td>\n      <td>None</td>\n      <td>AREA OPERATED: (1,000 TO 1,999 ACRES)</td>\n      <td>966</td>\n    </tr>\n    <tr>\n      <th>5504</th>\n      <td>1</td>\n      <td>1</td>\n      <td>13</td>\n      <td>1</td>\n      <td>ECONOMICS</td>\n      <td>FARM OPERATIONS - NUMBER OF OPERATIONS</td>\n      <td>FARM OPERATIONS</td>\n      <td>STATE</td>\n      <td>53</td>\n      <td>WA</td>\n      <td>WASHINGTON</td>\n      <td>None</td>\n      <td>None</td>\n      <td>AREA OPERATED: (1,000 TO 1,999 ACRES)</td>\n      <td>996</td>\n    </tr>\n    <tr>\n      <th>5505</th>\n      <td>1</td>\n      <td>1</td>\n      <td>13</td>\n      <td>1</td>\n      <td>ECONOMICS</td>\n      <td>FARM OPERATIONS - NUMBER OF OPERATIONS</td>\n      <td>FARM OPERATIONS</td>\n      <td>STATE</td>\n      <td>54</td>\n      <td>WV</td>\n      <td>WEST VIRGINIA</td>\n      <td>None</td>\n      <td>None</td>\n      <td>AREA OPERATED: (1,000 TO 1,999 ACRES)</td>\n      <td>272</td>\n    </tr>\n    <tr>\n      <th>5506</th>\n      <td>1</td>\n      <td>1</td>\n      <td>13</td>\n      <td>1</td>\n      <td>ECONOMICS</td>\n      <td>FARM OPERATIONS - NUMBER OF OPERATIONS</td>\n      <td>FARM OPERATIONS</td>\n      <td>STATE</td>\n      <td>55</td>\n      <td>WI</td>\n      <td>WISCONSIN</td>\n      <td>None</td>\n      <td>None</td>\n      <td>AREA OPERATED: (1,000 TO 1,999 ACRES)</td>\n      <td>1,619</td>\n    </tr>\n    <tr>\n      <th>5507</th>\n      <td>1</td>\n      <td>1</td>\n      <td>13</td>\n      <td>1</td>\n      <td>ECONOMICS</td>\n      <td>FARM OPERATIONS - NUMBER OF OPERATIONS</td>\n      <td>FARM OPERATIONS</td>\n      <td>STATE</td>\n      <td>56</td>\n      <td>WY</td>\n      <td>WYOMING</td>\n      <td>None</td>\n      <td>None</td>\n      <td>AREA OPERATED: (1,000 TO 1,999 ACRES)</td>\n      <td>780</td>\n    </tr>\n  </tbody>\n</table>\n<p>5508 rows × 15 columns</p>\n</div>"
     },
     "metadata": {}
    }
   ]
  },
  {
   "cell_type": "markdown",
   "source": "Tables 46 and 47 contain information on the gender of the farmers themselves that I will save into `farmer_gender_table_df_raw`.",
   "metadata": {
    "cell_id": "00005-3484a31e-ab39-4286-9eca-7d8a7d542121",
    "tags": [],
    "deepnote_app_coordinates": {
     "x": 0,
     "y": 30,
     "w": 12,
     "h": 5
    },
    "deepnote_cell_type": "markdown"
   }
  },
  {
   "cell_type": "code",
   "metadata": {
    "cell_id": "00006-83f66667-329d-4a88-8c1e-cd09b99d5bb3",
    "deepnote_sql_source": "SELECT *\nFROM \"paytondhubbard/census_data\".\"2017_agg_census_data\"\nWHERE census_chapter = 2\nAND census_table IN (46, 47)\nAND agg_level_desc = 'STATE'",
    "deepnote_to_be_reexecuted": false,
    "deepnote_variable_name": "farmer_gender_table_df_raw",
    "execution_millis": 2609,
    "execution_start": 1638831694719,
    "source_hash": "c72299bc",
    "sql_integration_id": "a566b8b6-80ea-40c4-ada5-f5548d01a4b8",
    "tags": [],
    "deepnote_app_coordinates": {
     "x": 0,
     "y": 36,
     "w": 12,
     "h": 5
    },
    "deepnote_cell_type": "sql"
   },
   "source": "\n\nfarmer_gender_table_df_raw = _deepnote_execute_sql(\"\"\"SELECT *\nFROM \"paytondhubbard/census_data\".\"2017_agg_census_data\"\nWHERE census_chapter = 2\nAND census_table IN (46, 47)\nAND agg_level_desc = 'STATE'\n\"\"\", 'SQL_A566B8B6_80EA_40C4_ADA5_F5548D01A4B8')\nfarmer_gender_table_df_raw",
   "execution_count": null,
   "outputs": [
    {
     "output_type": "execute_result",
     "execution_count": 5,
     "data": {
      "application/vnd.deepnote.dataframe.v2+json": {
       "row_count": 600,
       "column_count": 15,
       "columns": [
        {
         "name": "census_chapter",
         "dtype": "int64",
         "stats": {
          "unique_count": 1,
          "nan_count": 0,
          "min": "2",
          "max": "2",
          "histogram": [
           {
            "bin_start": 1.5,
            "bin_end": 1.6,
            "count": 0
           },
           {
            "bin_start": 1.6,
            "bin_end": 1.7,
            "count": 0
           },
           {
            "bin_start": 1.7,
            "bin_end": 1.8,
            "count": 0
           },
           {
            "bin_start": 1.8,
            "bin_end": 1.9,
            "count": 0
           },
           {
            "bin_start": 1.9,
            "bin_end": 2,
            "count": 0
           },
           {
            "bin_start": 2,
            "bin_end": 2.1,
            "count": 600
           },
           {
            "bin_start": 2.1,
            "bin_end": 2.2,
            "count": 0
           },
           {
            "bin_start": 2.2,
            "bin_end": 2.3,
            "count": 0
           },
           {
            "bin_start": 2.3,
            "bin_end": 2.4,
            "count": 0
           },
           {
            "bin_start": 2.4,
            "bin_end": 2.5,
            "count": 0
           }
          ]
         }
        },
        {
         "name": "census_table",
         "dtype": "int64",
         "stats": {
          "unique_count": 2,
          "nan_count": 0,
          "min": "46",
          "max": "47",
          "histogram": [
           {
            "bin_start": 46,
            "bin_end": 46.1,
            "count": 300
           },
           {
            "bin_start": 46.1,
            "bin_end": 46.2,
            "count": 0
           },
           {
            "bin_start": 46.2,
            "bin_end": 46.3,
            "count": 0
           },
           {
            "bin_start": 46.3,
            "bin_end": 46.4,
            "count": 0
           },
           {
            "bin_start": 46.4,
            "bin_end": 46.5,
            "count": 0
           },
           {
            "bin_start": 46.5,
            "bin_end": 46.6,
            "count": 0
           },
           {
            "bin_start": 46.6,
            "bin_end": 46.7,
            "count": 0
           },
           {
            "bin_start": 46.7,
            "bin_end": 46.8,
            "count": 0
           },
           {
            "bin_start": 46.8,
            "bin_end": 46.9,
            "count": 0
           },
           {
            "bin_start": 46.9,
            "bin_end": 47,
            "count": 300
           }
          ]
         }
        },
        {
         "name": "census_row",
         "dtype": "int64",
         "stats": {
          "unique_count": 1,
          "nan_count": 0,
          "min": "1",
          "max": "1",
          "histogram": [
           {
            "bin_start": 0.5,
            "bin_end": 0.6,
            "count": 0
           },
           {
            "bin_start": 0.6,
            "bin_end": 0.7,
            "count": 0
           },
           {
            "bin_start": 0.7,
            "bin_end": 0.8,
            "count": 0
           },
           {
            "bin_start": 0.8,
            "bin_end": 0.9,
            "count": 0
           },
           {
            "bin_start": 0.9,
            "bin_end": 1,
            "count": 0
           },
           {
            "bin_start": 1,
            "bin_end": 1.1,
            "count": 600
           },
           {
            "bin_start": 1.1,
            "bin_end": 1.2000000000000002,
            "count": 0
           },
           {
            "bin_start": 1.2000000000000002,
            "bin_end": 1.3,
            "count": 0
           },
           {
            "bin_start": 1.3,
            "bin_end": 1.4,
            "count": 0
           },
           {
            "bin_start": 1.4,
            "bin_end": 1.5,
            "count": 0
           }
          ]
         }
        },
        {
         "name": "census_column",
         "dtype": "int64",
         "stats": {
          "unique_count": 6,
          "nan_count": 0,
          "min": "1",
          "max": "6",
          "histogram": [
           {
            "bin_start": 1,
            "bin_end": 1.5,
            "count": 100
           },
           {
            "bin_start": 1.5,
            "bin_end": 2,
            "count": 0
           },
           {
            "bin_start": 2,
            "bin_end": 2.5,
            "count": 100
           },
           {
            "bin_start": 2.5,
            "bin_end": 3,
            "count": 0
           },
           {
            "bin_start": 3,
            "bin_end": 3.5,
            "count": 100
           },
           {
            "bin_start": 3.5,
            "bin_end": 4,
            "count": 0
           },
           {
            "bin_start": 4,
            "bin_end": 4.5,
            "count": 100
           },
           {
            "bin_start": 4.5,
            "bin_end": 5,
            "count": 0
           },
           {
            "bin_start": 5,
            "bin_end": 5.5,
            "count": 100
           },
           {
            "bin_start": 5.5,
            "bin_end": 6,
            "count": 100
           }
          ]
         }
        },
        {
         "name": "sector_desc",
         "dtype": "object",
         "stats": {
          "unique_count": 1,
          "nan_count": 0,
          "categories": [
           {
            "name": "DEMOGRAPHICS",
            "count": 600
           }
          ]
         }
        },
        {
         "name": "short_desc",
         "dtype": "object",
         "stats": {
          "unique_count": 12,
          "nan_count": 0,
          "categories": [
           {
            "name": "PRODUCERS, FEMALE - ACRES OPERATED",
            "count": 50
           },
           {
            "name": "PRODUCERS, MALE - NUMBER OF OPERATIONS",
            "count": 50
           },
           {
            "name": "10 others",
            "count": 500
           }
          ]
         }
        },
        {
         "name": "commodity_desc",
         "dtype": "object",
         "stats": {
          "unique_count": 2,
          "nan_count": 0,
          "categories": [
           {
            "name": "PRODUCERS",
            "count": 300
           },
           {
            "name": "PRODUCERS, PRINCIPAL",
            "count": 300
           }
          ]
         }
        },
        {
         "name": "agg_level_desc",
         "dtype": "object",
         "stats": {
          "unique_count": 1,
          "nan_count": 0,
          "categories": [
           {
            "name": "STATE",
            "count": 600
           }
          ]
         }
        },
        {
         "name": "state_fips_code",
         "dtype": "int64",
         "stats": {
          "unique_count": 50,
          "nan_count": 0,
          "min": "1",
          "max": "56",
          "histogram": [
           {
            "bin_start": 1,
            "bin_end": 6.5,
            "count": 60
           },
           {
            "bin_start": 6.5,
            "bin_end": 12,
            "count": 36
           },
           {
            "bin_start": 12,
            "bin_end": 17.5,
            "count": 60
           },
           {
            "bin_start": 17.5,
            "bin_end": 23,
            "count": 60
           },
           {
            "bin_start": 23,
            "bin_end": 28.5,
            "count": 72
           },
           {
            "bin_start": 28.5,
            "bin_end": 34,
            "count": 60
           },
           {
            "bin_start": 34,
            "bin_end": 39.5,
            "count": 72
           },
           {
            "bin_start": 39.5,
            "bin_end": 45,
            "count": 48
           },
           {
            "bin_start": 45,
            "bin_end": 50.5,
            "count": 72
           },
           {
            "bin_start": 50.5,
            "bin_end": 56,
            "count": 60
           }
          ]
         }
        },
        {
         "name": "state_alpha",
         "dtype": "object",
         "stats": {
          "unique_count": 50,
          "nan_count": 0,
          "categories": [
           {
            "name": "GA",
            "count": 12
           },
           {
            "name": "OH",
            "count": 12
           },
           {
            "name": "48 others",
            "count": 576
           }
          ]
         }
        },
        {
         "name": "state_name",
         "dtype": "object",
         "stats": {
          "unique_count": 50,
          "nan_count": 0,
          "categories": [
           {
            "name": "GEORGIA",
            "count": 12
           },
           {
            "name": "OHIO",
            "count": 12
           },
           {
            "name": "48 others",
            "count": 576
           }
          ]
         }
        },
        {
         "name": "county_code",
         "dtype": "object",
         "stats": {
          "unique_count": 0,
          "nan_count": 600,
          "categories": [
           {
            "name": "Missing",
            "count": 600
           }
          ]
         }
        },
        {
         "name": "county_name",
         "dtype": "object",
         "stats": {
          "unique_count": 0,
          "nan_count": 600,
          "categories": [
           {
            "name": "Missing",
            "count": 600
           }
          ]
         }
        },
        {
         "name": "domaincat_desc",
         "dtype": "object",
         "stats": {
          "unique_count": 0,
          "nan_count": 600,
          "categories": [
           {
            "name": "Missing",
            "count": 600
           }
          ]
         }
        },
        {
         "name": "value",
         "dtype": "object",
         "stats": {
          "unique_count": 600,
          "nan_count": 0,
          "categories": [
           {
            "name": "3,631,877",
            "count": 1
           },
           {
            "name": "72,398",
            "count": 1
           },
           {
            "name": "598 others",
            "count": 598
           }
          ]
         }
        },
        {
         "name": "_deepnote_index_column",
         "dtype": "int64"
        }
       ],
       "rows_top": [
        {
         "census_chapter": 2,
         "census_table": 47,
         "census_row": 1,
         "census_column": 3,
         "sector_desc": "DEMOGRAPHICS",
         "short_desc": "PRODUCERS, FEMALE - ACRES OPERATED",
         "commodity_desc": "PRODUCERS",
         "agg_level_desc": "STATE",
         "state_fips_code": 13,
         "state_alpha": "GA",
         "state_name": "GEORGIA",
         "county_code": "None",
         "county_name": "None",
         "domaincat_desc": "None",
         "value": "3,631,877",
         "_deepnote_index_column": 0
        },
        {
         "census_chapter": 2,
         "census_table": 46,
         "census_row": 1,
         "census_column": 1,
         "sector_desc": "DEMOGRAPHICS",
         "short_desc": "PRODUCERS, MALE - NUMBER OF OPERATIONS",
         "commodity_desc": "PRODUCERS",
         "agg_level_desc": "STATE",
         "state_fips_code": 39,
         "state_alpha": "OH",
         "state_name": "OHIO",
         "county_code": "None",
         "county_name": "None",
         "domaincat_desc": "None",
         "value": "72,398",
         "_deepnote_index_column": 1
        },
        {
         "census_chapter": 2,
         "census_table": 47,
         "census_row": 1,
         "census_column": 3,
         "sector_desc": "DEMOGRAPHICS",
         "short_desc": "PRODUCERS, FEMALE - ACRES OPERATED",
         "commodity_desc": "PRODUCERS",
         "agg_level_desc": "STATE",
         "state_fips_code": 9,
         "state_alpha": "CT",
         "state_name": "CONNECTICUT",
         "county_code": "None",
         "county_name": "None",
         "domaincat_desc": "None",
         "value": "213,985",
         "_deepnote_index_column": 2
        },
        {
         "census_chapter": 2,
         "census_table": 47,
         "census_row": 1,
         "census_column": 3,
         "sector_desc": "DEMOGRAPHICS",
         "short_desc": "PRODUCERS, FEMALE - ACRES OPERATED",
         "commodity_desc": "PRODUCERS",
         "agg_level_desc": "STATE",
         "state_fips_code": 12,
         "state_alpha": "FL",
         "state_name": "FLORIDA",
         "county_code": "None",
         "county_name": "None",
         "domaincat_desc": "None",
         "value": "3,615,319",
         "_deepnote_index_column": 3
        },
        {
         "census_chapter": 2,
         "census_table": 46,
         "census_row": 1,
         "census_column": 1,
         "sector_desc": "DEMOGRAPHICS",
         "short_desc": "PRODUCERS, MALE - NUMBER OF OPERATIONS",
         "commodity_desc": "PRODUCERS",
         "agg_level_desc": "STATE",
         "state_fips_code": 40,
         "state_alpha": "OK",
         "state_name": "OKLAHOMA",
         "county_code": "None",
         "county_name": "None",
         "domaincat_desc": "None",
         "value": "72,234",
         "_deepnote_index_column": 4
        },
        {
         "census_chapter": 2,
         "census_table": 47,
         "census_row": 1,
         "census_column": 3,
         "sector_desc": "DEMOGRAPHICS",
         "short_desc": "PRODUCERS, FEMALE - ACRES OPERATED",
         "commodity_desc": "PRODUCERS",
         "agg_level_desc": "STATE",
         "state_fips_code": 16,
         "state_alpha": "ID",
         "state_name": "IDAHO",
         "county_code": "None",
         "county_name": "None",
         "domaincat_desc": "None",
         "value": "5,665,398",
         "_deepnote_index_column": 5
        },
        {
         "census_chapter": 2,
         "census_table": 47,
         "census_row": 1,
         "census_column": 3,
         "sector_desc": "DEMOGRAPHICS",
         "short_desc": "PRODUCERS, FEMALE - ACRES OPERATED",
         "commodity_desc": "PRODUCERS",
         "agg_level_desc": "STATE",
         "state_fips_code": 10,
         "state_alpha": "DE",
         "state_name": "DELAWARE",
         "county_code": "None",
         "county_name": "None",
         "domaincat_desc": "None",
         "value": "187,769",
         "_deepnote_index_column": 6
        },
        {
         "census_chapter": 2,
         "census_table": 47,
         "census_row": 1,
         "census_column": 3,
         "sector_desc": "DEMOGRAPHICS",
         "short_desc": "PRODUCERS, FEMALE - ACRES OPERATED",
         "commodity_desc": "PRODUCERS",
         "agg_level_desc": "STATE",
         "state_fips_code": 15,
         "state_alpha": "HI",
         "state_name": "HAWAII",
         "county_code": "None",
         "county_name": "None",
         "domaincat_desc": "None",
         "value": "347,305",
         "_deepnote_index_column": 7
        },
        {
         "census_chapter": 2,
         "census_table": 47,
         "census_row": 1,
         "census_column": 3,
         "sector_desc": "DEMOGRAPHICS",
         "short_desc": "PRODUCERS, FEMALE - ACRES OPERATED",
         "commodity_desc": "PRODUCERS",
         "agg_level_desc": "STATE",
         "state_fips_code": 17,
         "state_alpha": "IL",
         "state_name": "ILLINOIS",
         "county_code": "None",
         "county_name": "None",
         "domaincat_desc": "None",
         "value": "8,783,539",
         "_deepnote_index_column": 8
        },
        {
         "census_chapter": 2,
         "census_table": 47,
         "census_row": 1,
         "census_column": 3,
         "sector_desc": "DEMOGRAPHICS",
         "short_desc": "PRODUCERS, FEMALE - ACRES OPERATED",
         "commodity_desc": "PRODUCERS",
         "agg_level_desc": "STATE",
         "state_fips_code": 18,
         "state_alpha": "IN",
         "state_name": "INDIANA",
         "county_code": "None",
         "county_name": "None",
         "domaincat_desc": "None",
         "value": "5,873,818",
         "_deepnote_index_column": 9
        },
        {
         "census_chapter": 2,
         "census_table": 47,
         "census_row": 1,
         "census_column": 3,
         "sector_desc": "DEMOGRAPHICS",
         "short_desc": "PRODUCERS, FEMALE - ACRES OPERATED",
         "commodity_desc": "PRODUCERS",
         "agg_level_desc": "STATE",
         "state_fips_code": 21,
         "state_alpha": "KY",
         "state_name": "KENTUCKY",
         "county_code": "None",
         "county_name": "None",
         "domaincat_desc": "None",
         "value": "5,223,082",
         "_deepnote_index_column": 10
        },
        {
         "census_chapter": 2,
         "census_table": 47,
         "census_row": 1,
         "census_column": 3,
         "sector_desc": "DEMOGRAPHICS",
         "short_desc": "PRODUCERS, FEMALE - ACRES OPERATED",
         "commodity_desc": "PRODUCERS",
         "agg_level_desc": "STATE",
         "state_fips_code": 20,
         "state_alpha": "KS",
         "state_name": "KANSAS",
         "county_code": "None",
         "county_name": "None",
         "domaincat_desc": "None",
         "value": "19,643,906",
         "_deepnote_index_column": 11
        },
        {
         "census_chapter": 2,
         "census_table": 47,
         "census_row": 1,
         "census_column": 3,
         "sector_desc": "DEMOGRAPHICS",
         "short_desc": "PRODUCERS, FEMALE - ACRES OPERATED",
         "commodity_desc": "PRODUCERS",
         "agg_level_desc": "STATE",
         "state_fips_code": 19,
         "state_alpha": "IA",
         "state_name": "IOWA",
         "county_code": "None",
         "county_name": "None",
         "domaincat_desc": "None",
         "value": "14,057,276",
         "_deepnote_index_column": 12
        },
        {
         "census_chapter": 2,
         "census_table": 47,
         "census_row": 1,
         "census_column": 3,
         "sector_desc": "DEMOGRAPHICS",
         "short_desc": "PRODUCERS, FEMALE - ACRES OPERATED",
         "commodity_desc": "PRODUCERS",
         "agg_level_desc": "STATE",
         "state_fips_code": 22,
         "state_alpha": "LA",
         "state_name": "LOUISIANA",
         "county_code": "None",
         "county_name": "None",
         "domaincat_desc": "None",
         "value": "2,967,027",
         "_deepnote_index_column": 13
        },
        {
         "census_chapter": 2,
         "census_table": 46,
         "census_row": 1,
         "census_column": 1,
         "sector_desc": "DEMOGRAPHICS",
         "short_desc": "PRODUCERS, MALE - NUMBER OF OPERATIONS",
         "commodity_desc": "PRODUCERS",
         "agg_level_desc": "STATE",
         "state_fips_code": 42,
         "state_alpha": "PA",
         "state_name": "PENNSYLVANIA",
         "county_code": "None",
         "county_name": "None",
         "domaincat_desc": "None",
         "value": "49,448",
         "_deepnote_index_column": 14
        },
        {
         "census_chapter": 2,
         "census_table": 47,
         "census_row": 1,
         "census_column": 3,
         "sector_desc": "DEMOGRAPHICS",
         "short_desc": "PRODUCERS, FEMALE - ACRES OPERATED",
         "commodity_desc": "PRODUCERS",
         "agg_level_desc": "STATE",
         "state_fips_code": 23,
         "state_alpha": "ME",
         "state_name": "MAINE",
         "county_code": "None",
         "county_name": "None",
         "domaincat_desc": "None",
         "value": "727,224",
         "_deepnote_index_column": 15
        },
        {
         "census_chapter": 2,
         "census_table": 47,
         "census_row": 1,
         "census_column": 3,
         "sector_desc": "DEMOGRAPHICS",
         "short_desc": "PRODUCERS, FEMALE - ACRES OPERATED",
         "commodity_desc": "PRODUCERS",
         "agg_level_desc": "STATE",
         "state_fips_code": 24,
         "state_alpha": "MD",
         "state_name": "MARYLAND",
         "county_code": "None",
         "county_name": "None",
         "domaincat_desc": "None",
         "value": "791,732",
         "_deepnote_index_column": 16
        },
        {
         "census_chapter": 2,
         "census_table": 46,
         "census_row": 1,
         "census_column": 1,
         "sector_desc": "DEMOGRAPHICS",
         "short_desc": "PRODUCERS, MALE - NUMBER OF OPERATIONS",
         "commodity_desc": "PRODUCERS",
         "agg_level_desc": "STATE",
         "state_fips_code": 41,
         "state_alpha": "OR",
         "state_name": "OREGON",
         "county_code": "None",
         "county_name": "None",
         "domaincat_desc": "None",
         "value": "33,113",
         "_deepnote_index_column": 17
        },
        {
         "census_chapter": 2,
         "census_table": 46,
         "census_row": 1,
         "census_column": 1,
         "sector_desc": "DEMOGRAPHICS",
         "short_desc": "PRODUCERS, MALE - NUMBER OF OPERATIONS",
         "commodity_desc": "PRODUCERS",
         "agg_level_desc": "STATE",
         "state_fips_code": 44,
         "state_alpha": "RI",
         "state_name": "RHODE ISLAND",
         "county_code": "None",
         "county_name": "None",
         "domaincat_desc": "None",
         "value": "929",
         "_deepnote_index_column": 18
        },
        {
         "census_chapter": 2,
         "census_table": 46,
         "census_row": 1,
         "census_column": 1,
         "sector_desc": "DEMOGRAPHICS",
         "short_desc": "PRODUCERS, MALE - NUMBER OF OPERATIONS",
         "commodity_desc": "PRODUCERS",
         "agg_level_desc": "STATE",
         "state_fips_code": 45,
         "state_alpha": "SC",
         "state_name": "SOUTH CAROLINA",
         "county_code": "None",
         "county_name": "None",
         "domaincat_desc": "None",
         "value": "22,412",
         "_deepnote_index_column": 19
        },
        {
         "census_chapter": 2,
         "census_table": 46,
         "census_row": 1,
         "census_column": 1,
         "sector_desc": "DEMOGRAPHICS",
         "short_desc": "PRODUCERS, MALE - NUMBER OF OPERATIONS",
         "commodity_desc": "PRODUCERS",
         "agg_level_desc": "STATE",
         "state_fips_code": 46,
         "state_alpha": "SD",
         "state_name": "SOUTH DAKOTA",
         "county_code": "None",
         "county_name": "None",
         "domaincat_desc": "None",
         "value": "28,290",
         "_deepnote_index_column": 20
        },
        {
         "census_chapter": 2,
         "census_table": 46,
         "census_row": 1,
         "census_column": 1,
         "sector_desc": "DEMOGRAPHICS",
         "short_desc": "PRODUCERS, MALE - NUMBER OF OPERATIONS",
         "commodity_desc": "PRODUCERS",
         "agg_level_desc": "STATE",
         "state_fips_code": 50,
         "state_alpha": "VT",
         "state_name": "VERMONT",
         "county_code": "None",
         "county_name": "None",
         "domaincat_desc": "None",
         "value": "6,004",
         "_deepnote_index_column": 21
        },
        {
         "census_chapter": 2,
         "census_table": 46,
         "census_row": 1,
         "census_column": 1,
         "sector_desc": "DEMOGRAPHICS",
         "short_desc": "PRODUCERS, MALE - NUMBER OF OPERATIONS",
         "commodity_desc": "PRODUCERS",
         "agg_level_desc": "STATE",
         "state_fips_code": 47,
         "state_alpha": "TN",
         "state_name": "TENNESSEE",
         "county_code": "None",
         "county_name": "None",
         "domaincat_desc": "None",
         "value": "64,808",
         "_deepnote_index_column": 22
        },
        {
         "census_chapter": 2,
         "census_table": 46,
         "census_row": 1,
         "census_column": 1,
         "sector_desc": "DEMOGRAPHICS",
         "short_desc": "PRODUCERS, MALE - NUMBER OF OPERATIONS",
         "commodity_desc": "PRODUCERS",
         "agg_level_desc": "STATE",
         "state_fips_code": 49,
         "state_alpha": "UT",
         "state_name": "UTAH",
         "county_code": "None",
         "county_name": "None",
         "domaincat_desc": "None",
         "value": "17,122",
         "_deepnote_index_column": 23
        },
        {
         "census_chapter": 2,
         "census_table": 46,
         "census_row": 1,
         "census_column": 1,
         "sector_desc": "DEMOGRAPHICS",
         "short_desc": "PRODUCERS, MALE - NUMBER OF OPERATIONS",
         "commodity_desc": "PRODUCERS",
         "agg_level_desc": "STATE",
         "state_fips_code": 48,
         "state_alpha": "TX",
         "state_name": "TEXAS",
         "county_code": "None",
         "county_name": "None",
         "domaincat_desc": "None",
         "value": "224,776",
         "_deepnote_index_column": 24
        },
        {
         "census_chapter": 2,
         "census_table": 46,
         "census_row": 1,
         "census_column": 1,
         "sector_desc": "DEMOGRAPHICS",
         "short_desc": "PRODUCERS, MALE - NUMBER OF OPERATIONS",
         "commodity_desc": "PRODUCERS",
         "agg_level_desc": "STATE",
         "state_fips_code": 53,
         "state_alpha": "WA",
         "state_name": "WASHINGTON",
         "county_code": "None",
         "county_name": "None",
         "domaincat_desc": "None",
         "value": "31,566",
         "_deepnote_index_column": 25
        },
        {
         "census_chapter": 2,
         "census_table": 46,
         "census_row": 1,
         "census_column": 1,
         "sector_desc": "DEMOGRAPHICS",
         "short_desc": "PRODUCERS, MALE - NUMBER OF OPERATIONS",
         "commodity_desc": "PRODUCERS",
         "agg_level_desc": "STATE",
         "state_fips_code": 51,
         "state_alpha": "VA",
         "state_name": "VIRGINIA",
         "county_code": "None",
         "county_name": "None",
         "domaincat_desc": "None",
         "value": "39,148",
         "_deepnote_index_column": 26
        },
        {
         "census_chapter": 2,
         "census_table": 46,
         "census_row": 1,
         "census_column": 2,
         "sector_desc": "DEMOGRAPHICS",
         "short_desc": "PRODUCERS, MALE - NUMBER OF PRODUCERS",
         "commodity_desc": "PRODUCERS",
         "agg_level_desc": "STATE",
         "state_fips_code": 1,
         "state_alpha": "AL",
         "state_name": "ALABAMA",
         "county_code": "None",
         "county_name": "None",
         "domaincat_desc": "None",
         "value": "42,541",
         "_deepnote_index_column": 27
        },
        {
         "census_chapter": 2,
         "census_table": 46,
         "census_row": 1,
         "census_column": 1,
         "sector_desc": "DEMOGRAPHICS",
         "short_desc": "PRODUCERS, MALE - NUMBER OF OPERATIONS",
         "commodity_desc": "PRODUCERS",
         "agg_level_desc": "STATE",
         "state_fips_code": 55,
         "state_alpha": "WI",
         "state_name": "WISCONSIN",
         "county_code": "None",
         "county_name": "None",
         "domaincat_desc": "None",
         "value": "60,818",
         "_deepnote_index_column": 28
        },
        {
         "census_chapter": 2,
         "census_table": 46,
         "census_row": 1,
         "census_column": 1,
         "sector_desc": "DEMOGRAPHICS",
         "short_desc": "PRODUCERS, MALE - NUMBER OF OPERATIONS",
         "commodity_desc": "PRODUCERS",
         "agg_level_desc": "STATE",
         "state_fips_code": 56,
         "state_alpha": "WY",
         "state_name": "WYOMING",
         "county_code": "None",
         "county_name": "None",
         "domaincat_desc": "None",
         "value": "10,889",
         "_deepnote_index_column": 29
        },
        {
         "census_chapter": 2,
         "census_table": 46,
         "census_row": 1,
         "census_column": 1,
         "sector_desc": "DEMOGRAPHICS",
         "short_desc": "PRODUCERS, MALE - NUMBER OF OPERATIONS",
         "commodity_desc": "PRODUCERS",
         "agg_level_desc": "STATE",
         "state_fips_code": 54,
         "state_alpha": "WV",
         "state_name": "WEST VIRGINIA",
         "county_code": "None",
         "county_name": "None",
         "domaincat_desc": "None",
         "value": "21,679",
         "_deepnote_index_column": 30
        },
        {
         "census_chapter": 2,
         "census_table": 46,
         "census_row": 1,
         "census_column": 3,
         "sector_desc": "DEMOGRAPHICS",
         "short_desc": "PRODUCERS, MALE - ACRES OPERATED",
         "commodity_desc": "PRODUCERS",
         "agg_level_desc": "STATE",
         "state_fips_code": 5,
         "state_alpha": "AR",
         "state_name": "ARKANSAS",
         "county_code": "None",
         "county_name": "None",
         "domaincat_desc": "None",
         "value": "13,398,160",
         "_deepnote_index_column": 31
        },
        {
         "census_chapter": 2,
         "census_table": 46,
         "census_row": 1,
         "census_column": 2,
         "sector_desc": "DEMOGRAPHICS",
         "short_desc": "PRODUCERS, MALE - NUMBER OF PRODUCERS",
         "commodity_desc": "PRODUCERS",
         "agg_level_desc": "STATE",
         "state_fips_code": 2,
         "state_alpha": "AK",
         "state_name": "ALASKA",
         "county_code": "None",
         "county_name": "None",
         "domaincat_desc": "None",
         "value": "916",
         "_deepnote_index_column": 32
        }
       ],
       "rows_bottom": [
        {
         "census_chapter": 2,
         "census_table": 47,
         "census_row": 1,
         "census_column": 6,
         "sector_desc": "DEMOGRAPHICS",
         "short_desc": "PRODUCERS, PRINCIPAL, FEMALE - ACRES OPERATED",
         "commodity_desc": "PRODUCERS, PRINCIPAL",
         "agg_level_desc": "STATE",
         "state_fips_code": 21,
         "state_alpha": "KY",
         "state_name": "KENTUCKY",
         "county_code": "None",
         "county_name": "None",
         "domaincat_desc": "None",
         "value": "3,166,612",
         "_deepnote_index_column": 567
        },
        {
         "census_chapter": 2,
         "census_table": 47,
         "census_row": 1,
         "census_column": 6,
         "sector_desc": "DEMOGRAPHICS",
         "short_desc": "PRODUCERS, PRINCIPAL, FEMALE - ACRES OPERATED",
         "commodity_desc": "PRODUCERS, PRINCIPAL",
         "agg_level_desc": "STATE",
         "state_fips_code": 22,
         "state_alpha": "LA",
         "state_name": "LOUISIANA",
         "county_code": "None",
         "county_name": "None",
         "domaincat_desc": "None",
         "value": "1,841,906",
         "_deepnote_index_column": 568
        },
        {
         "census_chapter": 2,
         "census_table": 47,
         "census_row": 1,
         "census_column": 6,
         "sector_desc": "DEMOGRAPHICS",
         "short_desc": "PRODUCERS, PRINCIPAL, FEMALE - ACRES OPERATED",
         "commodity_desc": "PRODUCERS, PRINCIPAL",
         "agg_level_desc": "STATE",
         "state_fips_code": 23,
         "state_alpha": "ME",
         "state_name": "MAINE",
         "county_code": "None",
         "county_name": "None",
         "domaincat_desc": "None",
         "value": "502,854",
         "_deepnote_index_column": 569
        },
        {
         "census_chapter": 2,
         "census_table": 47,
         "census_row": 1,
         "census_column": 6,
         "sector_desc": "DEMOGRAPHICS",
         "short_desc": "PRODUCERS, PRINCIPAL, FEMALE - ACRES OPERATED",
         "commodity_desc": "PRODUCERS, PRINCIPAL",
         "agg_level_desc": "STATE",
         "state_fips_code": 24,
         "state_alpha": "MD",
         "state_name": "MARYLAND",
         "county_code": "None",
         "county_name": "None",
         "domaincat_desc": "None",
         "value": "471,986",
         "_deepnote_index_column": 570
        },
        {
         "census_chapter": 2,
         "census_table": 47,
         "census_row": 1,
         "census_column": 6,
         "sector_desc": "DEMOGRAPHICS",
         "short_desc": "PRODUCERS, PRINCIPAL, FEMALE - ACRES OPERATED",
         "commodity_desc": "PRODUCERS, PRINCIPAL",
         "agg_level_desc": "STATE",
         "state_fips_code": 25,
         "state_alpha": "MA",
         "state_name": "MASSACHUSETTS",
         "county_code": "None",
         "county_name": "None",
         "domaincat_desc": "None",
         "value": "204,320",
         "_deepnote_index_column": 571
        },
        {
         "census_chapter": 2,
         "census_table": 47,
         "census_row": 1,
         "census_column": 6,
         "sector_desc": "DEMOGRAPHICS",
         "short_desc": "PRODUCERS, PRINCIPAL, FEMALE - ACRES OPERATED",
         "commodity_desc": "PRODUCERS, PRINCIPAL",
         "agg_level_desc": "STATE",
         "state_fips_code": 26,
         "state_alpha": "MI",
         "state_name": "MICHIGAN",
         "county_code": "None",
         "county_name": "None",
         "domaincat_desc": "None",
         "value": "2,284,224",
         "_deepnote_index_column": 572
        },
        {
         "census_chapter": 2,
         "census_table": 47,
         "census_row": 1,
         "census_column": 6,
         "sector_desc": "DEMOGRAPHICS",
         "short_desc": "PRODUCERS, PRINCIPAL, FEMALE - ACRES OPERATED",
         "commodity_desc": "PRODUCERS, PRINCIPAL",
         "agg_level_desc": "STATE",
         "state_fips_code": 27,
         "state_alpha": "MN",
         "state_name": "MINNESOTA",
         "county_code": "None",
         "county_name": "None",
         "domaincat_desc": "None",
         "value": "4,729,075",
         "_deepnote_index_column": 573
        },
        {
         "census_chapter": 2,
         "census_table": 47,
         "census_row": 1,
         "census_column": 6,
         "sector_desc": "DEMOGRAPHICS",
         "short_desc": "PRODUCERS, PRINCIPAL, FEMALE - ACRES OPERATED",
         "commodity_desc": "PRODUCERS, PRINCIPAL",
         "agg_level_desc": "STATE",
         "state_fips_code": 28,
         "state_alpha": "MS",
         "state_name": "MISSISSIPPI",
         "county_code": "None",
         "county_name": "None",
         "domaincat_desc": "None",
         "value": "2,541,965",
         "_deepnote_index_column": 574
        },
        {
         "census_chapter": 2,
         "census_table": 47,
         "census_row": 1,
         "census_column": 6,
         "sector_desc": "DEMOGRAPHICS",
         "short_desc": "PRODUCERS, PRINCIPAL, FEMALE - ACRES OPERATED",
         "commodity_desc": "PRODUCERS, PRINCIPAL",
         "agg_level_desc": "STATE",
         "state_fips_code": 29,
         "state_alpha": "MO",
         "state_name": "MISSOURI",
         "county_code": "None",
         "county_name": "None",
         "domaincat_desc": "None",
         "value": "7,426,050",
         "_deepnote_index_column": 575
        },
        {
         "census_chapter": 2,
         "census_table": 47,
         "census_row": 1,
         "census_column": 6,
         "sector_desc": "DEMOGRAPHICS",
         "short_desc": "PRODUCERS, PRINCIPAL, FEMALE - ACRES OPERATED",
         "commodity_desc": "PRODUCERS, PRINCIPAL",
         "agg_level_desc": "STATE",
         "state_fips_code": 30,
         "state_alpha": "MT",
         "state_name": "MONTANA",
         "county_code": "None",
         "county_name": "None",
         "domaincat_desc": "None",
         "value": "18,813,200",
         "_deepnote_index_column": 576
        },
        {
         "census_chapter": 2,
         "census_table": 47,
         "census_row": 1,
         "census_column": 6,
         "sector_desc": "DEMOGRAPHICS",
         "short_desc": "PRODUCERS, PRINCIPAL, FEMALE - ACRES OPERATED",
         "commodity_desc": "PRODUCERS, PRINCIPAL",
         "agg_level_desc": "STATE",
         "state_fips_code": 31,
         "state_alpha": "NE",
         "state_name": "NEBRASKA",
         "county_code": "None",
         "county_name": "None",
         "domaincat_desc": "None",
         "value": "10,952,375",
         "_deepnote_index_column": 577
        },
        {
         "census_chapter": 2,
         "census_table": 47,
         "census_row": 1,
         "census_column": 6,
         "sector_desc": "DEMOGRAPHICS",
         "short_desc": "PRODUCERS, PRINCIPAL, FEMALE - ACRES OPERATED",
         "commodity_desc": "PRODUCERS, PRINCIPAL",
         "agg_level_desc": "STATE",
         "state_fips_code": 32,
         "state_alpha": "NV",
         "state_name": "NEVADA",
         "county_code": "None",
         "county_name": "None",
         "domaincat_desc": "None",
         "value": "1,365,603",
         "_deepnote_index_column": 578
        },
        {
         "census_chapter": 2,
         "census_table": 47,
         "census_row": 1,
         "census_column": 6,
         "sector_desc": "DEMOGRAPHICS",
         "short_desc": "PRODUCERS, PRINCIPAL, FEMALE - ACRES OPERATED",
         "commodity_desc": "PRODUCERS, PRINCIPAL",
         "agg_level_desc": "STATE",
         "state_fips_code": 33,
         "state_alpha": "NH",
         "state_name": "NEW HAMPSHIRE",
         "county_code": "None",
         "county_name": "None",
         "domaincat_desc": "None",
         "value": "190,933",
         "_deepnote_index_column": 579
        },
        {
         "census_chapter": 2,
         "census_table": 47,
         "census_row": 1,
         "census_column": 6,
         "sector_desc": "DEMOGRAPHICS",
         "short_desc": "PRODUCERS, PRINCIPAL, FEMALE - ACRES OPERATED",
         "commodity_desc": "PRODUCERS, PRINCIPAL",
         "agg_level_desc": "STATE",
         "state_fips_code": 34,
         "state_alpha": "NJ",
         "state_name": "NEW JERSEY",
         "county_code": "None",
         "county_name": "None",
         "domaincat_desc": "None",
         "value": "204,457",
         "_deepnote_index_column": 580
        },
        {
         "census_chapter": 2,
         "census_table": 47,
         "census_row": 1,
         "census_column": 6,
         "sector_desc": "DEMOGRAPHICS",
         "short_desc": "PRODUCERS, PRINCIPAL, FEMALE - ACRES OPERATED",
         "commodity_desc": "PRODUCERS, PRINCIPAL",
         "agg_level_desc": "STATE",
         "state_fips_code": 35,
         "state_alpha": "NM",
         "state_name": "NEW MEXICO",
         "county_code": "None",
         "county_name": "None",
         "domaincat_desc": "None",
         "value": "12,715,526",
         "_deepnote_index_column": 581
        },
        {
         "census_chapter": 2,
         "census_table": 47,
         "census_row": 1,
         "census_column": 6,
         "sector_desc": "DEMOGRAPHICS",
         "short_desc": "PRODUCERS, PRINCIPAL, FEMALE - ACRES OPERATED",
         "commodity_desc": "PRODUCERS, PRINCIPAL",
         "agg_level_desc": "STATE",
         "state_fips_code": 36,
         "state_alpha": "NY",
         "state_name": "NEW YORK",
         "county_code": "None",
         "county_name": "None",
         "domaincat_desc": "None",
         "value": "1,984,973",
         "_deepnote_index_column": 582
        },
        {
         "census_chapter": 2,
         "census_table": 47,
         "census_row": 1,
         "census_column": 6,
         "sector_desc": "DEMOGRAPHICS",
         "short_desc": "PRODUCERS, PRINCIPAL, FEMALE - ACRES OPERATED",
         "commodity_desc": "PRODUCERS, PRINCIPAL",
         "agg_level_desc": "STATE",
         "state_fips_code": 37,
         "state_alpha": "NC",
         "state_name": "NORTH CAROLINA",
         "county_code": "None",
         "county_name": "None",
         "domaincat_desc": "None",
         "value": "1,596,689",
         "_deepnote_index_column": 583
        },
        {
         "census_chapter": 2,
         "census_table": 47,
         "census_row": 1,
         "census_column": 6,
         "sector_desc": "DEMOGRAPHICS",
         "short_desc": "PRODUCERS, PRINCIPAL, FEMALE - ACRES OPERATED",
         "commodity_desc": "PRODUCERS, PRINCIPAL",
         "agg_level_desc": "STATE",
         "state_fips_code": 38,
         "state_alpha": "ND",
         "state_name": "NORTH DAKOTA",
         "county_code": "None",
         "county_name": "None",
         "domaincat_desc": "None",
         "value": "8,499,445",
         "_deepnote_index_column": 584
        },
        {
         "census_chapter": 2,
         "census_table": 47,
         "census_row": 1,
         "census_column": 6,
         "sector_desc": "DEMOGRAPHICS",
         "short_desc": "PRODUCERS, PRINCIPAL, FEMALE - ACRES OPERATED",
         "commodity_desc": "PRODUCERS, PRINCIPAL",
         "agg_level_desc": "STATE",
         "state_fips_code": 39,
         "state_alpha": "OH",
         "state_name": "OHIO",
         "county_code": "None",
         "county_name": "None",
         "domaincat_desc": "None",
         "value": "3,104,458",
         "_deepnote_index_column": 585
        },
        {
         "census_chapter": 2,
         "census_table": 47,
         "census_row": 1,
         "census_column": 6,
         "sector_desc": "DEMOGRAPHICS",
         "short_desc": "PRODUCERS, PRINCIPAL, FEMALE - ACRES OPERATED",
         "commodity_desc": "PRODUCERS, PRINCIPAL",
         "agg_level_desc": "STATE",
         "state_fips_code": 40,
         "state_alpha": "OK",
         "state_name": "OKLAHOMA",
         "county_code": "None",
         "county_name": "None",
         "domaincat_desc": "None",
         "value": "10,016,175",
         "_deepnote_index_column": 586
        },
        {
         "census_chapter": 2,
         "census_table": 47,
         "census_row": 1,
         "census_column": 6,
         "sector_desc": "DEMOGRAPHICS",
         "short_desc": "PRODUCERS, PRINCIPAL, FEMALE - ACRES OPERATED",
         "commodity_desc": "PRODUCERS, PRINCIPAL",
         "agg_level_desc": "STATE",
         "state_fips_code": 41,
         "state_alpha": "OR",
         "state_name": "OREGON",
         "county_code": "None",
         "county_name": "None",
         "domaincat_desc": "None",
         "value": "5,649,627",
         "_deepnote_index_column": 587
        },
        {
         "census_chapter": 2,
         "census_table": 47,
         "census_row": 1,
         "census_column": 1,
         "sector_desc": "DEMOGRAPHICS",
         "short_desc": "PRODUCERS, FEMALE - NUMBER OF OPERATIONS",
         "commodity_desc": "PRODUCERS",
         "agg_level_desc": "STATE",
         "state_fips_code": 2,
         "state_alpha": "AK",
         "state_name": "ALASKA",
         "county_code": "None",
         "county_name": "None",
         "domaincat_desc": "None",
         "value": "715",
         "_deepnote_index_column": 588
        },
        {
         "census_chapter": 2,
         "census_table": 47,
         "census_row": 1,
         "census_column": 1,
         "sector_desc": "DEMOGRAPHICS",
         "short_desc": "PRODUCERS, FEMALE - NUMBER OF OPERATIONS",
         "commodity_desc": "PRODUCERS",
         "agg_level_desc": "STATE",
         "state_fips_code": 4,
         "state_alpha": "AZ",
         "state_name": "ARIZONA",
         "county_code": "None",
         "county_name": "None",
         "domaincat_desc": "None",
         "value": "13,670",
         "_deepnote_index_column": 589
        },
        {
         "census_chapter": 2,
         "census_table": 47,
         "census_row": 1,
         "census_column": 1,
         "sector_desc": "DEMOGRAPHICS",
         "short_desc": "PRODUCERS, FEMALE - NUMBER OF OPERATIONS",
         "commodity_desc": "PRODUCERS",
         "agg_level_desc": "STATE",
         "state_fips_code": 5,
         "state_alpha": "AR",
         "state_name": "ARKANSAS",
         "county_code": "None",
         "county_name": "None",
         "domaincat_desc": "None",
         "value": "25,396",
         "_deepnote_index_column": 590
        },
        {
         "census_chapter": 2,
         "census_table": 47,
         "census_row": 1,
         "census_column": 1,
         "sector_desc": "DEMOGRAPHICS",
         "short_desc": "PRODUCERS, FEMALE - NUMBER OF OPERATIONS",
         "commodity_desc": "PRODUCERS",
         "agg_level_desc": "STATE",
         "state_fips_code": 6,
         "state_alpha": "CA",
         "state_name": "CALIFORNIA",
         "county_code": "None",
         "county_name": "None",
         "domaincat_desc": "None",
         "value": "42,138",
         "_deepnote_index_column": 591
        },
        {
         "census_chapter": 2,
         "census_table": 47,
         "census_row": 1,
         "census_column": 1,
         "sector_desc": "DEMOGRAPHICS",
         "short_desc": "PRODUCERS, FEMALE - NUMBER OF OPERATIONS",
         "commodity_desc": "PRODUCERS",
         "agg_level_desc": "STATE",
         "state_fips_code": 8,
         "state_alpha": "CO",
         "state_name": "COLORADO",
         "county_code": "None",
         "county_name": "None",
         "domaincat_desc": "None",
         "value": "26,406",
         "_deepnote_index_column": 592
        },
        {
         "census_chapter": 2,
         "census_table": 47,
         "census_row": 1,
         "census_column": 1,
         "sector_desc": "DEMOGRAPHICS",
         "short_desc": "PRODUCERS, FEMALE - NUMBER OF OPERATIONS",
         "commodity_desc": "PRODUCERS",
         "agg_level_desc": "STATE",
         "state_fips_code": 9,
         "state_alpha": "CT",
         "state_name": "CONNECTICUT",
         "county_code": "None",
         "county_name": "None",
         "domaincat_desc": "None",
         "value": "3,510",
         "_deepnote_index_column": 593
        },
        {
         "census_chapter": 2,
         "census_table": 47,
         "census_row": 1,
         "census_column": 1,
         "sector_desc": "DEMOGRAPHICS",
         "short_desc": "PRODUCERS, FEMALE - NUMBER OF OPERATIONS",
         "commodity_desc": "PRODUCERS",
         "agg_level_desc": "STATE",
         "state_fips_code": 10,
         "state_alpha": "DE",
         "state_name": "DELAWARE",
         "county_code": "None",
         "county_name": "None",
         "domaincat_desc": "None",
         "value": "1,259",
         "_deepnote_index_column": 594
        },
        {
         "census_chapter": 2,
         "census_table": 47,
         "census_row": 1,
         "census_column": 1,
         "sector_desc": "DEMOGRAPHICS",
         "short_desc": "PRODUCERS, FEMALE - NUMBER OF OPERATIONS",
         "commodity_desc": "PRODUCERS",
         "agg_level_desc": "STATE",
         "state_fips_code": 12,
         "state_alpha": "FL",
         "state_name": "FLORIDA",
         "county_code": "None",
         "county_name": "None",
         "domaincat_desc": "None",
         "value": "29,779",
         "_deepnote_index_column": 595
        },
        {
         "census_chapter": 2,
         "census_table": 47,
         "census_row": 1,
         "census_column": 1,
         "sector_desc": "DEMOGRAPHICS",
         "short_desc": "PRODUCERS, FEMALE - NUMBER OF OPERATIONS",
         "commodity_desc": "PRODUCERS",
         "agg_level_desc": "STATE",
         "state_fips_code": 13,
         "state_alpha": "GA",
         "state_name": "GEORGIA",
         "county_code": "None",
         "county_name": "None",
         "domaincat_desc": "None",
         "value": "21,570",
         "_deepnote_index_column": 596
        },
        {
         "census_chapter": 2,
         "census_table": 47,
         "census_row": 1,
         "census_column": 1,
         "sector_desc": "DEMOGRAPHICS",
         "short_desc": "PRODUCERS, FEMALE - NUMBER OF OPERATIONS",
         "commodity_desc": "PRODUCERS",
         "agg_level_desc": "STATE",
         "state_fips_code": 15,
         "state_alpha": "HI",
         "state_name": "HAWAII",
         "county_code": "None",
         "county_name": "None",
         "domaincat_desc": "None",
         "value": "4,580",
         "_deepnote_index_column": 597
        },
        {
         "census_chapter": 2,
         "census_table": 47,
         "census_row": 1,
         "census_column": 1,
         "sector_desc": "DEMOGRAPHICS",
         "short_desc": "PRODUCERS, FEMALE - NUMBER OF OPERATIONS",
         "commodity_desc": "PRODUCERS",
         "agg_level_desc": "STATE",
         "state_fips_code": 16,
         "state_alpha": "ID",
         "state_name": "IDAHO",
         "county_code": "None",
         "county_name": "None",
         "domaincat_desc": "None",
         "value": "16,134",
         "_deepnote_index_column": 598
        },
        {
         "census_chapter": 2,
         "census_table": 47,
         "census_row": 1,
         "census_column": 1,
         "sector_desc": "DEMOGRAPHICS",
         "short_desc": "PRODUCERS, FEMALE - NUMBER OF OPERATIONS",
         "commodity_desc": "PRODUCERS",
         "agg_level_desc": "STATE",
         "state_fips_code": 17,
         "state_alpha": "IL",
         "state_name": "ILLINOIS",
         "county_code": "None",
         "county_name": "None",
         "domaincat_desc": "None",
         "value": "30,713",
         "_deepnote_index_column": 599
        }
       ]
      },
      "text/plain": "     census_chapter  census_table  census_row  census_column   sector_desc  \\\n0                 2            47           1              3  DEMOGRAPHICS   \n1                 2            46           1              1  DEMOGRAPHICS   \n2                 2            47           1              3  DEMOGRAPHICS   \n3                 2            47           1              3  DEMOGRAPHICS   \n4                 2            46           1              1  DEMOGRAPHICS   \n..              ...           ...         ...            ...           ...   \n595               2            47           1              1  DEMOGRAPHICS   \n596               2            47           1              1  DEMOGRAPHICS   \n597               2            47           1              1  DEMOGRAPHICS   \n598               2            47           1              1  DEMOGRAPHICS   \n599               2            47           1              1  DEMOGRAPHICS   \n\n                                   short_desc commodity_desc agg_level_desc  \\\n0          PRODUCERS, FEMALE - ACRES OPERATED      PRODUCERS          STATE   \n1      PRODUCERS, MALE - NUMBER OF OPERATIONS      PRODUCERS          STATE   \n2          PRODUCERS, FEMALE - ACRES OPERATED      PRODUCERS          STATE   \n3          PRODUCERS, FEMALE - ACRES OPERATED      PRODUCERS          STATE   \n4      PRODUCERS, MALE - NUMBER OF OPERATIONS      PRODUCERS          STATE   \n..                                        ...            ...            ...   \n595  PRODUCERS, FEMALE - NUMBER OF OPERATIONS      PRODUCERS          STATE   \n596  PRODUCERS, FEMALE - NUMBER OF OPERATIONS      PRODUCERS          STATE   \n597  PRODUCERS, FEMALE - NUMBER OF OPERATIONS      PRODUCERS          STATE   \n598  PRODUCERS, FEMALE - NUMBER OF OPERATIONS      PRODUCERS          STATE   \n599  PRODUCERS, FEMALE - NUMBER OF OPERATIONS      PRODUCERS          STATE   \n\n     state_fips_code state_alpha   state_name county_code county_name  \\\n0                 13          GA      GEORGIA        None        None   \n1                 39          OH         OHIO        None        None   \n2                  9          CT  CONNECTICUT        None        None   \n3                 12          FL      FLORIDA        None        None   \n4                 40          OK     OKLAHOMA        None        None   \n..               ...         ...          ...         ...         ...   \n595               12          FL      FLORIDA        None        None   \n596               13          GA      GEORGIA        None        None   \n597               15          HI       HAWAII        None        None   \n598               16          ID        IDAHO        None        None   \n599               17          IL     ILLINOIS        None        None   \n\n    domaincat_desc      value  \n0             None  3,631,877  \n1             None     72,398  \n2             None    213,985  \n3             None  3,615,319  \n4             None     72,234  \n..             ...        ...  \n595           None     29,779  \n596           None     21,570  \n597           None      4,580  \n598           None     16,134  \n599           None     30,713  \n\n[600 rows x 15 columns]",
      "text/html": "<div>\n<style scoped>\n    .dataframe tbody tr th:only-of-type {\n        vertical-align: middle;\n    }\n\n    .dataframe tbody tr th {\n        vertical-align: top;\n    }\n\n    .dataframe thead th {\n        text-align: right;\n    }\n</style>\n<table border=\"1\" class=\"dataframe\">\n  <thead>\n    <tr style=\"text-align: right;\">\n      <th></th>\n      <th>census_chapter</th>\n      <th>census_table</th>\n      <th>census_row</th>\n      <th>census_column</th>\n      <th>sector_desc</th>\n      <th>short_desc</th>\n      <th>commodity_desc</th>\n      <th>agg_level_desc</th>\n      <th>state_fips_code</th>\n      <th>state_alpha</th>\n      <th>state_name</th>\n      <th>county_code</th>\n      <th>county_name</th>\n      <th>domaincat_desc</th>\n      <th>value</th>\n    </tr>\n  </thead>\n  <tbody>\n    <tr>\n      <th>0</th>\n      <td>2</td>\n      <td>47</td>\n      <td>1</td>\n      <td>3</td>\n      <td>DEMOGRAPHICS</td>\n      <td>PRODUCERS, FEMALE - ACRES OPERATED</td>\n      <td>PRODUCERS</td>\n      <td>STATE</td>\n      <td>13</td>\n      <td>GA</td>\n      <td>GEORGIA</td>\n      <td>None</td>\n      <td>None</td>\n      <td>None</td>\n      <td>3,631,877</td>\n    </tr>\n    <tr>\n      <th>1</th>\n      <td>2</td>\n      <td>46</td>\n      <td>1</td>\n      <td>1</td>\n      <td>DEMOGRAPHICS</td>\n      <td>PRODUCERS, MALE - NUMBER OF OPERATIONS</td>\n      <td>PRODUCERS</td>\n      <td>STATE</td>\n      <td>39</td>\n      <td>OH</td>\n      <td>OHIO</td>\n      <td>None</td>\n      <td>None</td>\n      <td>None</td>\n      <td>72,398</td>\n    </tr>\n    <tr>\n      <th>2</th>\n      <td>2</td>\n      <td>47</td>\n      <td>1</td>\n      <td>3</td>\n      <td>DEMOGRAPHICS</td>\n      <td>PRODUCERS, FEMALE - ACRES OPERATED</td>\n      <td>PRODUCERS</td>\n      <td>STATE</td>\n      <td>9</td>\n      <td>CT</td>\n      <td>CONNECTICUT</td>\n      <td>None</td>\n      <td>None</td>\n      <td>None</td>\n      <td>213,985</td>\n    </tr>\n    <tr>\n      <th>3</th>\n      <td>2</td>\n      <td>47</td>\n      <td>1</td>\n      <td>3</td>\n      <td>DEMOGRAPHICS</td>\n      <td>PRODUCERS, FEMALE - ACRES OPERATED</td>\n      <td>PRODUCERS</td>\n      <td>STATE</td>\n      <td>12</td>\n      <td>FL</td>\n      <td>FLORIDA</td>\n      <td>None</td>\n      <td>None</td>\n      <td>None</td>\n      <td>3,615,319</td>\n    </tr>\n    <tr>\n      <th>4</th>\n      <td>2</td>\n      <td>46</td>\n      <td>1</td>\n      <td>1</td>\n      <td>DEMOGRAPHICS</td>\n      <td>PRODUCERS, MALE - NUMBER OF OPERATIONS</td>\n      <td>PRODUCERS</td>\n      <td>STATE</td>\n      <td>40</td>\n      <td>OK</td>\n      <td>OKLAHOMA</td>\n      <td>None</td>\n      <td>None</td>\n      <td>None</td>\n      <td>72,234</td>\n    </tr>\n    <tr>\n      <th>...</th>\n      <td>...</td>\n      <td>...</td>\n      <td>...</td>\n      <td>...</td>\n      <td>...</td>\n      <td>...</td>\n      <td>...</td>\n      <td>...</td>\n      <td>...</td>\n      <td>...</td>\n      <td>...</td>\n      <td>...</td>\n      <td>...</td>\n      <td>...</td>\n      <td>...</td>\n    </tr>\n    <tr>\n      <th>595</th>\n      <td>2</td>\n      <td>47</td>\n      <td>1</td>\n      <td>1</td>\n      <td>DEMOGRAPHICS</td>\n      <td>PRODUCERS, FEMALE - NUMBER OF OPERATIONS</td>\n      <td>PRODUCERS</td>\n      <td>STATE</td>\n      <td>12</td>\n      <td>FL</td>\n      <td>FLORIDA</td>\n      <td>None</td>\n      <td>None</td>\n      <td>None</td>\n      <td>29,779</td>\n    </tr>\n    <tr>\n      <th>596</th>\n      <td>2</td>\n      <td>47</td>\n      <td>1</td>\n      <td>1</td>\n      <td>DEMOGRAPHICS</td>\n      <td>PRODUCERS, FEMALE - NUMBER OF OPERATIONS</td>\n      <td>PRODUCERS</td>\n      <td>STATE</td>\n      <td>13</td>\n      <td>GA</td>\n      <td>GEORGIA</td>\n      <td>None</td>\n      <td>None</td>\n      <td>None</td>\n      <td>21,570</td>\n    </tr>\n    <tr>\n      <th>597</th>\n      <td>2</td>\n      <td>47</td>\n      <td>1</td>\n      <td>1</td>\n      <td>DEMOGRAPHICS</td>\n      <td>PRODUCERS, FEMALE - NUMBER OF OPERATIONS</td>\n      <td>PRODUCERS</td>\n      <td>STATE</td>\n      <td>15</td>\n      <td>HI</td>\n      <td>HAWAII</td>\n      <td>None</td>\n      <td>None</td>\n      <td>None</td>\n      <td>4,580</td>\n    </tr>\n    <tr>\n      <th>598</th>\n      <td>2</td>\n      <td>47</td>\n      <td>1</td>\n      <td>1</td>\n      <td>DEMOGRAPHICS</td>\n      <td>PRODUCERS, FEMALE - NUMBER OF OPERATIONS</td>\n      <td>PRODUCERS</td>\n      <td>STATE</td>\n      <td>16</td>\n      <td>ID</td>\n      <td>IDAHO</td>\n      <td>None</td>\n      <td>None</td>\n      <td>None</td>\n      <td>16,134</td>\n    </tr>\n    <tr>\n      <th>599</th>\n      <td>2</td>\n      <td>47</td>\n      <td>1</td>\n      <td>1</td>\n      <td>DEMOGRAPHICS</td>\n      <td>PRODUCERS, FEMALE - NUMBER OF OPERATIONS</td>\n      <td>PRODUCERS</td>\n      <td>STATE</td>\n      <td>17</td>\n      <td>IL</td>\n      <td>ILLINOIS</td>\n      <td>None</td>\n      <td>None</td>\n      <td>None</td>\n      <td>30,713</td>\n    </tr>\n  </tbody>\n</table>\n<p>600 rows × 15 columns</p>\n</div>"
     },
     "metadata": {}
    }
   ]
  },
  {
   "cell_type": "markdown",
   "source": "Tables 48 - 54 contain  information on the race of the farmers that I will save into `farmer_race_table_df_raw`.",
   "metadata": {
    "cell_id": "00005-a6da1e4a-774f-4305-a418-ef4888bd6cb2",
    "tags": [],
    "deepnote_app_coordinates": {
     "x": 0,
     "y": 42,
     "w": 12,
     "h": 5
    },
    "deepnote_cell_type": "markdown"
   }
  },
  {
   "cell_type": "code",
   "metadata": {
    "cell_id": "00006-2ac1cf9d-390c-438a-afb3-c161f85f6a9f",
    "deepnote_sql_source": "SELECT *\nFROM \"paytondhubbard/census_data\".\"2017_agg_census_data\"\nWHERE census_chapter = 2\nAND census_table IN (48, 49, 50, 51, 52, 53, 54)\nAND agg_level_desc = 'STATE'",
    "deepnote_to_be_reexecuted": false,
    "deepnote_variable_name": "farmer_race_table_df_raw",
    "execution_millis": 2640,
    "execution_start": 1638831708047,
    "source_hash": "12190cc0",
    "sql_integration_id": "a566b8b6-80ea-40c4-ada5-f5548d01a4b8",
    "tags": [],
    "deepnote_app_coordinates": {
     "x": 0,
     "y": 48,
     "w": 12,
     "h": 5
    },
    "deepnote_cell_type": "sql"
   },
   "source": "\n\nfarmer_race_table_df_raw = _deepnote_execute_sql(\"\"\"SELECT *\nFROM \"paytondhubbard/census_data\".\"2017_agg_census_data\"\nWHERE census_chapter = 2\nAND census_table IN (48, 49, 50, 51, 52, 53, 54)\nAND agg_level_desc = 'STATE'\n\"\"\", 'SQL_A566B8B6_80EA_40C4_ADA5_F5548D01A4B8')\nfarmer_race_table_df_raw",
   "execution_count": null,
   "outputs": [
    {
     "output_type": "execute_result",
     "execution_count": 6,
     "data": {
      "application/vnd.deepnote.dataframe.v2+json": {
       "row_count": 2106,
       "column_count": 15,
       "columns": [
        {
         "name": "census_chapter",
         "dtype": "int64",
         "stats": {
          "unique_count": 1,
          "nan_count": 0,
          "min": "2",
          "max": "2",
          "histogram": [
           {
            "bin_start": 1.5,
            "bin_end": 1.6,
            "count": 0
           },
           {
            "bin_start": 1.6,
            "bin_end": 1.7,
            "count": 0
           },
           {
            "bin_start": 1.7,
            "bin_end": 1.8,
            "count": 0
           },
           {
            "bin_start": 1.8,
            "bin_end": 1.9,
            "count": 0
           },
           {
            "bin_start": 1.9,
            "bin_end": 2,
            "count": 0
           },
           {
            "bin_start": 2,
            "bin_end": 2.1,
            "count": 2106
           },
           {
            "bin_start": 2.1,
            "bin_end": 2.2,
            "count": 0
           },
           {
            "bin_start": 2.2,
            "bin_end": 2.3,
            "count": 0
           },
           {
            "bin_start": 2.3,
            "bin_end": 2.4,
            "count": 0
           },
           {
            "bin_start": 2.4,
            "bin_end": 2.5,
            "count": 0
           }
          ]
         }
        },
        {
         "name": "census_table",
         "dtype": "int64",
         "stats": {
          "unique_count": 7,
          "nan_count": 0,
          "min": "48",
          "max": "54",
          "histogram": [
           {
            "bin_start": 48,
            "bin_end": 48.6,
            "count": 300
           },
           {
            "bin_start": 48.6,
            "bin_end": 49.2,
            "count": 294
           },
           {
            "bin_start": 49.2,
            "bin_end": 49.8,
            "count": 0
           },
           {
            "bin_start": 49.8,
            "bin_end": 50.4,
            "count": 330
           },
           {
            "bin_start": 50.4,
            "bin_end": 51,
            "count": 0
           },
           {
            "bin_start": 51,
            "bin_end": 51.6,
            "count": 300
           },
           {
            "bin_start": 51.6,
            "bin_end": 52.2,
            "count": 282
           },
           {
            "bin_start": 52.2,
            "bin_end": 52.8,
            "count": 0
           },
           {
            "bin_start": 52.8,
            "bin_end": 53.4,
            "count": 300
           },
           {
            "bin_start": 53.4,
            "bin_end": 54,
            "count": 300
           }
          ]
         }
        },
        {
         "name": "census_row",
         "dtype": "int64",
         "stats": {
          "unique_count": 6,
          "nan_count": 0,
          "min": "1",
          "max": "26",
          "histogram": [
           {
            "bin_start": 1,
            "bin_end": 3.5,
            "count": 2064
           },
           {
            "bin_start": 3.5,
            "bin_end": 6,
            "count": 0
           },
           {
            "bin_start": 6,
            "bin_end": 8.5,
            "count": 12
           },
           {
            "bin_start": 8.5,
            "bin_end": 11,
            "count": 0
           },
           {
            "bin_start": 11,
            "bin_end": 13.5,
            "count": 12
           },
           {
            "bin_start": 13.5,
            "bin_end": 16,
            "count": 0
           },
           {
            "bin_start": 16,
            "bin_end": 18.5,
            "count": 6
           },
           {
            "bin_start": 18.5,
            "bin_end": 21,
            "count": 0
           },
           {
            "bin_start": 21,
            "bin_end": 23.5,
            "count": 6
           },
           {
            "bin_start": 23.5,
            "bin_end": 26,
            "count": 6
           }
          ]
         }
        },
        {
         "name": "census_column",
         "dtype": "int64",
         "stats": {
          "unique_count": 6,
          "nan_count": 0,
          "min": "1",
          "max": "6",
          "histogram": [
           {
            "bin_start": 1,
            "bin_end": 1.5,
            "count": 351
           },
           {
            "bin_start": 1.5,
            "bin_end": 2,
            "count": 0
           },
           {
            "bin_start": 2,
            "bin_end": 2.5,
            "count": 351
           },
           {
            "bin_start": 2.5,
            "bin_end": 3,
            "count": 0
           },
           {
            "bin_start": 3,
            "bin_end": 3.5,
            "count": 351
           },
           {
            "bin_start": 3.5,
            "bin_end": 4,
            "count": 0
           },
           {
            "bin_start": 4,
            "bin_end": 4.5,
            "count": 351
           },
           {
            "bin_start": 4.5,
            "bin_end": 5,
            "count": 0
           },
           {
            "bin_start": 5,
            "bin_end": 5.5,
            "count": 351
           },
           {
            "bin_start": 5.5,
            "bin_end": 6,
            "count": 351
           }
          ]
         }
        },
        {
         "name": "sector_desc",
         "dtype": "object",
         "stats": {
          "unique_count": 1,
          "nan_count": 0,
          "categories": [
           {
            "name": "DEMOGRAPHICS",
            "count": 2106
           }
          ]
         }
        },
        {
         "name": "short_desc",
         "dtype": "object",
         "stats": {
          "unique_count": 84,
          "nan_count": 0,
          "categories": [
           {
            "name": "PRODUCERS, HISPANIC - NUMBER OF OPERATIONS",
            "count": 50
           },
           {
            "name": "PRODUCERS, HISPANIC - ACRES OPERATED",
            "count": 50
           },
           {
            "name": "82 others",
            "count": 2006
           }
          ]
         }
        },
        {
         "name": "commodity_desc",
         "dtype": "object",
         "stats": {
          "unique_count": 2,
          "nan_count": 0,
          "categories": [
           {
            "name": "PRODUCERS",
            "count": 1053
           },
           {
            "name": "PRODUCERS, PRINCIPAL",
            "count": 1053
           }
          ]
         }
        },
        {
         "name": "agg_level_desc",
         "dtype": "object",
         "stats": {
          "unique_count": 1,
          "nan_count": 0,
          "categories": [
           {
            "name": "STATE",
            "count": 2106
           }
          ]
         }
        },
        {
         "name": "state_fips_code",
         "dtype": "int64",
         "stats": {
          "unique_count": 50,
          "nan_count": 0,
          "min": "1",
          "max": "56",
          "histogram": [
           {
            "bin_start": 1,
            "bin_end": 6.5,
            "count": 204
           },
           {
            "bin_start": 6.5,
            "bin_end": 12,
            "count": 120
           },
           {
            "bin_start": 12,
            "bin_end": 17.5,
            "count": 252
           },
           {
            "bin_start": 17.5,
            "bin_end": 23,
            "count": 210
           },
           {
            "bin_start": 23,
            "bin_end": 28.5,
            "count": 252
           },
           {
            "bin_start": 28.5,
            "bin_end": 34,
            "count": 198
           },
           {
            "bin_start": 34,
            "bin_end": 39.5,
            "count": 252
           },
           {
            "bin_start": 39.5,
            "bin_end": 45,
            "count": 156
           },
           {
            "bin_start": 45,
            "bin_end": 50.5,
            "count": 252
           },
           {
            "bin_start": 50.5,
            "bin_end": 56,
            "count": 210
           }
          ]
         }
        },
        {
         "name": "state_alpha",
         "dtype": "object",
         "stats": {
          "unique_count": 50,
          "nan_count": 0,
          "categories": [
           {
            "name": "HI",
            "count": 84
           },
           {
            "name": "MA",
            "count": 42
           },
           {
            "name": "48 others",
            "count": 1980
           }
          ]
         }
        },
        {
         "name": "state_name",
         "dtype": "object",
         "stats": {
          "unique_count": 50,
          "nan_count": 0,
          "categories": [
           {
            "name": "HAWAII",
            "count": 84
           },
           {
            "name": "MASSACHUSETTS",
            "count": 42
           },
           {
            "name": "48 others",
            "count": 1980
           }
          ]
         }
        },
        {
         "name": "county_code",
         "dtype": "object",
         "stats": {
          "unique_count": 0,
          "nan_count": 2106,
          "categories": [
           {
            "name": "Missing",
            "count": 2106
           }
          ]
         }
        },
        {
         "name": "county_name",
         "dtype": "object",
         "stats": {
          "unique_count": 0,
          "nan_count": 2106,
          "categories": [
           {
            "name": "Missing",
            "count": 2106
           }
          ]
         }
        },
        {
         "name": "domaincat_desc",
         "dtype": "object",
         "stats": {
          "unique_count": 0,
          "nan_count": 2106,
          "categories": [
           {
            "name": "Missing",
            "count": 2106
           }
          ]
         }
        },
        {
         "name": "value",
         "dtype": "object",
         "stats": {
          "unique_count": 1443,
          "nan_count": 0,
          "categories": [
           {
            "name": "(D)",
            "count": 33
           },
           {
            "name": "8",
            "count": 19
           },
           {
            "name": "1441 others",
            "count": 2054
           }
          ]
         }
        },
        {
         "name": "_deepnote_index_column",
         "dtype": "int64"
        }
       ],
       "rows_top": [
        {
         "census_chapter": 2,
         "census_table": 48,
         "census_row": 1,
         "census_column": 1,
         "sector_desc": "DEMOGRAPHICS",
         "short_desc": "PRODUCERS, HISPANIC - NUMBER OF OPERATIONS",
         "commodity_desc": "PRODUCERS",
         "agg_level_desc": "STATE",
         "state_fips_code": 25,
         "state_alpha": "MA",
         "state_name": "MASSACHUSETTS",
         "county_code": "None",
         "county_name": "None",
         "domaincat_desc": "None",
         "value": "183",
         "_deepnote_index_column": 0
        },
        {
         "census_chapter": 2,
         "census_table": 48,
         "census_row": 1,
         "census_column": 3,
         "sector_desc": "DEMOGRAPHICS",
         "short_desc": "PRODUCERS, HISPANIC - ACRES OPERATED",
         "commodity_desc": "PRODUCERS",
         "agg_level_desc": "STATE",
         "state_fips_code": 19,
         "state_alpha": "IA",
         "state_name": "IOWA",
         "county_code": "None",
         "county_name": "None",
         "domaincat_desc": "None",
         "value": "244,591",
         "_deepnote_index_column": 1
        },
        {
         "census_chapter": 2,
         "census_table": 48,
         "census_row": 1,
         "census_column": 1,
         "sector_desc": "DEMOGRAPHICS",
         "short_desc": "PRODUCERS, HISPANIC - NUMBER OF OPERATIONS",
         "commodity_desc": "PRODUCERS",
         "agg_level_desc": "STATE",
         "state_fips_code": 1,
         "state_alpha": "AL",
         "state_name": "ALABAMA",
         "county_code": "None",
         "county_name": "None",
         "domaincat_desc": "None",
         "value": "477",
         "_deepnote_index_column": 2
        },
        {
         "census_chapter": 2,
         "census_table": 48,
         "census_row": 1,
         "census_column": 1,
         "sector_desc": "DEMOGRAPHICS",
         "short_desc": "PRODUCERS, HISPANIC - NUMBER OF OPERATIONS",
         "commodity_desc": "PRODUCERS",
         "agg_level_desc": "STATE",
         "state_fips_code": 2,
         "state_alpha": "AK",
         "state_name": "ALASKA",
         "county_code": "None",
         "county_name": "None",
         "domaincat_desc": "None",
         "value": "36",
         "_deepnote_index_column": 3
        },
        {
         "census_chapter": 2,
         "census_table": 48,
         "census_row": 1,
         "census_column": 1,
         "sector_desc": "DEMOGRAPHICS",
         "short_desc": "PRODUCERS, HISPANIC - NUMBER OF OPERATIONS",
         "commodity_desc": "PRODUCERS",
         "agg_level_desc": "STATE",
         "state_fips_code": 4,
         "state_alpha": "AZ",
         "state_name": "ARIZONA",
         "county_code": "None",
         "county_name": "None",
         "domaincat_desc": "None",
         "value": "1,102",
         "_deepnote_index_column": 4
        },
        {
         "census_chapter": 2,
         "census_table": 48,
         "census_row": 1,
         "census_column": 1,
         "sector_desc": "DEMOGRAPHICS",
         "short_desc": "PRODUCERS, HISPANIC - NUMBER OF OPERATIONS",
         "commodity_desc": "PRODUCERS",
         "agg_level_desc": "STATE",
         "state_fips_code": 5,
         "state_alpha": "AR",
         "state_name": "ARKANSAS",
         "county_code": "None",
         "county_name": "None",
         "domaincat_desc": "None",
         "value": "826",
         "_deepnote_index_column": 5
        },
        {
         "census_chapter": 2,
         "census_table": 48,
         "census_row": 1,
         "census_column": 1,
         "sector_desc": "DEMOGRAPHICS",
         "short_desc": "PRODUCERS, HISPANIC - NUMBER OF OPERATIONS",
         "commodity_desc": "PRODUCERS",
         "agg_level_desc": "STATE",
         "state_fips_code": 6,
         "state_alpha": "CA",
         "state_name": "CALIFORNIA",
         "county_code": "None",
         "county_name": "None",
         "domaincat_desc": "None",
         "value": "11,002",
         "_deepnote_index_column": 6
        },
        {
         "census_chapter": 2,
         "census_table": 48,
         "census_row": 1,
         "census_column": 1,
         "sector_desc": "DEMOGRAPHICS",
         "short_desc": "PRODUCERS, HISPANIC - NUMBER OF OPERATIONS",
         "commodity_desc": "PRODUCERS",
         "agg_level_desc": "STATE",
         "state_fips_code": 8,
         "state_alpha": "CO",
         "state_name": "COLORADO",
         "county_code": "None",
         "county_name": "None",
         "domaincat_desc": "None",
         "value": "3,050",
         "_deepnote_index_column": 7
        },
        {
         "census_chapter": 2,
         "census_table": 48,
         "census_row": 1,
         "census_column": 1,
         "sector_desc": "DEMOGRAPHICS",
         "short_desc": "PRODUCERS, HISPANIC - NUMBER OF OPERATIONS",
         "commodity_desc": "PRODUCERS",
         "agg_level_desc": "STATE",
         "state_fips_code": 9,
         "state_alpha": "CT",
         "state_name": "CONNECTICUT",
         "county_code": "None",
         "county_name": "None",
         "domaincat_desc": "None",
         "value": "118",
         "_deepnote_index_column": 8
        },
        {
         "census_chapter": 2,
         "census_table": 48,
         "census_row": 1,
         "census_column": 1,
         "sector_desc": "DEMOGRAPHICS",
         "short_desc": "PRODUCERS, HISPANIC - NUMBER OF OPERATIONS",
         "commodity_desc": "PRODUCERS",
         "agg_level_desc": "STATE",
         "state_fips_code": 10,
         "state_alpha": "DE",
         "state_name": "DELAWARE",
         "county_code": "None",
         "county_name": "None",
         "domaincat_desc": "None",
         "value": "32",
         "_deepnote_index_column": 9
        },
        {
         "census_chapter": 2,
         "census_table": 48,
         "census_row": 1,
         "census_column": 1,
         "sector_desc": "DEMOGRAPHICS",
         "short_desc": "PRODUCERS, HISPANIC - NUMBER OF OPERATIONS",
         "commodity_desc": "PRODUCERS",
         "agg_level_desc": "STATE",
         "state_fips_code": 12,
         "state_alpha": "FL",
         "state_name": "FLORIDA",
         "county_code": "None",
         "county_name": "None",
         "domaincat_desc": "None",
         "value": "5,267",
         "_deepnote_index_column": 10
        },
        {
         "census_chapter": 2,
         "census_table": 48,
         "census_row": 1,
         "census_column": 1,
         "sector_desc": "DEMOGRAPHICS",
         "short_desc": "PRODUCERS, HISPANIC - NUMBER OF OPERATIONS",
         "commodity_desc": "PRODUCERS",
         "agg_level_desc": "STATE",
         "state_fips_code": 13,
         "state_alpha": "GA",
         "state_name": "GEORGIA",
         "county_code": "None",
         "county_name": "None",
         "domaincat_desc": "None",
         "value": "804",
         "_deepnote_index_column": 11
        },
        {
         "census_chapter": 2,
         "census_table": 48,
         "census_row": 1,
         "census_column": 1,
         "sector_desc": "DEMOGRAPHICS",
         "short_desc": "PRODUCERS, HISPANIC - NUMBER OF OPERATIONS",
         "commodity_desc": "PRODUCERS",
         "agg_level_desc": "STATE",
         "state_fips_code": 15,
         "state_alpha": "HI",
         "state_name": "HAWAII",
         "county_code": "None",
         "county_name": "None",
         "domaincat_desc": "None",
         "value": "630",
         "_deepnote_index_column": 12
        },
        {
         "census_chapter": 2,
         "census_table": 48,
         "census_row": 1,
         "census_column": 1,
         "sector_desc": "DEMOGRAPHICS",
         "short_desc": "PRODUCERS, HISPANIC - NUMBER OF OPERATIONS",
         "commodity_desc": "PRODUCERS",
         "agg_level_desc": "STATE",
         "state_fips_code": 16,
         "state_alpha": "ID",
         "state_name": "IDAHO",
         "county_code": "None",
         "county_name": "None",
         "domaincat_desc": "None",
         "value": "1,039",
         "_deepnote_index_column": 13
        },
        {
         "census_chapter": 2,
         "census_table": 48,
         "census_row": 1,
         "census_column": 1,
         "sector_desc": "DEMOGRAPHICS",
         "short_desc": "PRODUCERS, HISPANIC - NUMBER OF OPERATIONS",
         "commodity_desc": "PRODUCERS",
         "agg_level_desc": "STATE",
         "state_fips_code": 17,
         "state_alpha": "IL",
         "state_name": "ILLINOIS",
         "county_code": "None",
         "county_name": "None",
         "domaincat_desc": "None",
         "value": "821",
         "_deepnote_index_column": 14
        },
        {
         "census_chapter": 2,
         "census_table": 48,
         "census_row": 1,
         "census_column": 1,
         "sector_desc": "DEMOGRAPHICS",
         "short_desc": "PRODUCERS, HISPANIC - NUMBER OF OPERATIONS",
         "commodity_desc": "PRODUCERS",
         "agg_level_desc": "STATE",
         "state_fips_code": 18,
         "state_alpha": "IN",
         "state_name": "INDIANA",
         "county_code": "None",
         "county_name": "None",
         "domaincat_desc": "None",
         "value": "627",
         "_deepnote_index_column": 15
        },
        {
         "census_chapter": 2,
         "census_table": 48,
         "census_row": 1,
         "census_column": 1,
         "sector_desc": "DEMOGRAPHICS",
         "short_desc": "PRODUCERS, HISPANIC - NUMBER OF OPERATIONS",
         "commodity_desc": "PRODUCERS",
         "agg_level_desc": "STATE",
         "state_fips_code": 19,
         "state_alpha": "IA",
         "state_name": "IOWA",
         "county_code": "None",
         "county_name": "None",
         "domaincat_desc": "None",
         "value": "640",
         "_deepnote_index_column": 16
        },
        {
         "census_chapter": 2,
         "census_table": 48,
         "census_row": 1,
         "census_column": 1,
         "sector_desc": "DEMOGRAPHICS",
         "short_desc": "PRODUCERS, HISPANIC - NUMBER OF OPERATIONS",
         "commodity_desc": "PRODUCERS",
         "agg_level_desc": "STATE",
         "state_fips_code": 20,
         "state_alpha": "KS",
         "state_name": "KANSAS",
         "county_code": "None",
         "county_name": "None",
         "domaincat_desc": "None",
         "value": "1,079",
         "_deepnote_index_column": 17
        },
        {
         "census_chapter": 2,
         "census_table": 48,
         "census_row": 1,
         "census_column": 1,
         "sector_desc": "DEMOGRAPHICS",
         "short_desc": "PRODUCERS, HISPANIC - NUMBER OF OPERATIONS",
         "commodity_desc": "PRODUCERS",
         "agg_level_desc": "STATE",
         "state_fips_code": 21,
         "state_alpha": "KY",
         "state_name": "KENTUCKY",
         "county_code": "None",
         "county_name": "None",
         "domaincat_desc": "None",
         "value": "648",
         "_deepnote_index_column": 18
        },
        {
         "census_chapter": 2,
         "census_table": 48,
         "census_row": 1,
         "census_column": 1,
         "sector_desc": "DEMOGRAPHICS",
         "short_desc": "PRODUCERS, HISPANIC - NUMBER OF OPERATIONS",
         "commodity_desc": "PRODUCERS",
         "agg_level_desc": "STATE",
         "state_fips_code": 22,
         "state_alpha": "LA",
         "state_name": "LOUISIANA",
         "county_code": "None",
         "county_name": "None",
         "domaincat_desc": "None",
         "value": "748",
         "_deepnote_index_column": 19
        },
        {
         "census_chapter": 2,
         "census_table": 48,
         "census_row": 1,
         "census_column": 1,
         "sector_desc": "DEMOGRAPHICS",
         "short_desc": "PRODUCERS, HISPANIC - NUMBER OF OPERATIONS",
         "commodity_desc": "PRODUCERS",
         "agg_level_desc": "STATE",
         "state_fips_code": 23,
         "state_alpha": "ME",
         "state_name": "MAINE",
         "county_code": "None",
         "county_name": "None",
         "domaincat_desc": "None",
         "value": "114",
         "_deepnote_index_column": 20
        },
        {
         "census_chapter": 2,
         "census_table": 48,
         "census_row": 1,
         "census_column": 3,
         "sector_desc": "DEMOGRAPHICS",
         "short_desc": "PRODUCERS, HISPANIC - ACRES OPERATED",
         "commodity_desc": "PRODUCERS",
         "agg_level_desc": "STATE",
         "state_fips_code": 20,
         "state_alpha": "KS",
         "state_name": "KANSAS",
         "county_code": "None",
         "county_name": "None",
         "domaincat_desc": "None",
         "value": "632,583",
         "_deepnote_index_column": 21
        },
        {
         "census_chapter": 2,
         "census_table": 48,
         "census_row": 1,
         "census_column": 3,
         "sector_desc": "DEMOGRAPHICS",
         "short_desc": "PRODUCERS, HISPANIC - ACRES OPERATED",
         "commodity_desc": "PRODUCERS",
         "agg_level_desc": "STATE",
         "state_fips_code": 21,
         "state_alpha": "KY",
         "state_name": "KENTUCKY",
         "county_code": "None",
         "county_name": "None",
         "domaincat_desc": "None",
         "value": "83,405",
         "_deepnote_index_column": 22
        },
        {
         "census_chapter": 2,
         "census_table": 48,
         "census_row": 1,
         "census_column": 3,
         "sector_desc": "DEMOGRAPHICS",
         "short_desc": "PRODUCERS, HISPANIC - ACRES OPERATED",
         "commodity_desc": "PRODUCERS",
         "agg_level_desc": "STATE",
         "state_fips_code": 22,
         "state_alpha": "LA",
         "state_name": "LOUISIANA",
         "county_code": "None",
         "county_name": "None",
         "domaincat_desc": "None",
         "value": "176,787",
         "_deepnote_index_column": 23
        },
        {
         "census_chapter": 2,
         "census_table": 48,
         "census_row": 1,
         "census_column": 3,
         "sector_desc": "DEMOGRAPHICS",
         "short_desc": "PRODUCERS, HISPANIC - ACRES OPERATED",
         "commodity_desc": "PRODUCERS",
         "agg_level_desc": "STATE",
         "state_fips_code": 23,
         "state_alpha": "ME",
         "state_name": "MAINE",
         "county_code": "None",
         "county_name": "None",
         "domaincat_desc": "None",
         "value": "8,726",
         "_deepnote_index_column": 24
        },
        {
         "census_chapter": 2,
         "census_table": 48,
         "census_row": 1,
         "census_column": 3,
         "sector_desc": "DEMOGRAPHICS",
         "short_desc": "PRODUCERS, HISPANIC - ACRES OPERATED",
         "commodity_desc": "PRODUCERS",
         "agg_level_desc": "STATE",
         "state_fips_code": 24,
         "state_alpha": "MD",
         "state_name": "MARYLAND",
         "county_code": "None",
         "county_name": "None",
         "domaincat_desc": "None",
         "value": "17,267",
         "_deepnote_index_column": 25
        },
        {
         "census_chapter": 2,
         "census_table": 48,
         "census_row": 1,
         "census_column": 3,
         "sector_desc": "DEMOGRAPHICS",
         "short_desc": "PRODUCERS, HISPANIC - ACRES OPERATED",
         "commodity_desc": "PRODUCERS",
         "agg_level_desc": "STATE",
         "state_fips_code": 25,
         "state_alpha": "MA",
         "state_name": "MASSACHUSETTS",
         "county_code": "None",
         "county_name": "None",
         "domaincat_desc": "None",
         "value": "10,420",
         "_deepnote_index_column": 26
        },
        {
         "census_chapter": 2,
         "census_table": 48,
         "census_row": 1,
         "census_column": 3,
         "sector_desc": "DEMOGRAPHICS",
         "short_desc": "PRODUCERS, HISPANIC - ACRES OPERATED",
         "commodity_desc": "PRODUCERS",
         "agg_level_desc": "STATE",
         "state_fips_code": 26,
         "state_alpha": "MI",
         "state_name": "MICHIGAN",
         "county_code": "None",
         "county_name": "None",
         "domaincat_desc": "None",
         "value": "102,710",
         "_deepnote_index_column": 27
        },
        {
         "census_chapter": 2,
         "census_table": 48,
         "census_row": 1,
         "census_column": 3,
         "sector_desc": "DEMOGRAPHICS",
         "short_desc": "PRODUCERS, HISPANIC - ACRES OPERATED",
         "commodity_desc": "PRODUCERS",
         "agg_level_desc": "STATE",
         "state_fips_code": 27,
         "state_alpha": "MN",
         "state_name": "MINNESOTA",
         "county_code": "None",
         "county_name": "None",
         "domaincat_desc": "None",
         "value": "268,129",
         "_deepnote_index_column": 28
        },
        {
         "census_chapter": 2,
         "census_table": 48,
         "census_row": 1,
         "census_column": 3,
         "sector_desc": "DEMOGRAPHICS",
         "short_desc": "PRODUCERS, HISPANIC - ACRES OPERATED",
         "commodity_desc": "PRODUCERS",
         "agg_level_desc": "STATE",
         "state_fips_code": 28,
         "state_alpha": "MS",
         "state_name": "MISSISSIPPI",
         "county_code": "None",
         "county_name": "None",
         "domaincat_desc": "None",
         "value": "116,633",
         "_deepnote_index_column": 29
        },
        {
         "census_chapter": 2,
         "census_table": 48,
         "census_row": 1,
         "census_column": 3,
         "sector_desc": "DEMOGRAPHICS",
         "short_desc": "PRODUCERS, HISPANIC - ACRES OPERATED",
         "commodity_desc": "PRODUCERS",
         "agg_level_desc": "STATE",
         "state_fips_code": 29,
         "state_alpha": "MO",
         "state_name": "MISSOURI",
         "county_code": "None",
         "county_name": "None",
         "domaincat_desc": "None",
         "value": "253,034",
         "_deepnote_index_column": 30
        },
        {
         "census_chapter": 2,
         "census_table": 48,
         "census_row": 1,
         "census_column": 3,
         "sector_desc": "DEMOGRAPHICS",
         "short_desc": "PRODUCERS, HISPANIC - ACRES OPERATED",
         "commodity_desc": "PRODUCERS",
         "agg_level_desc": "STATE",
         "state_fips_code": 30,
         "state_alpha": "MT",
         "state_name": "MONTANA",
         "county_code": "None",
         "county_name": "None",
         "domaincat_desc": "None",
         "value": "1,142,549",
         "_deepnote_index_column": 31
        },
        {
         "census_chapter": 2,
         "census_table": 48,
         "census_row": 1,
         "census_column": 3,
         "sector_desc": "DEMOGRAPHICS",
         "short_desc": "PRODUCERS, HISPANIC - ACRES OPERATED",
         "commodity_desc": "PRODUCERS",
         "agg_level_desc": "STATE",
         "state_fips_code": 31,
         "state_alpha": "NE",
         "state_name": "NEBRASKA",
         "county_code": "None",
         "county_name": "None",
         "domaincat_desc": "None",
         "value": "514,239",
         "_deepnote_index_column": 32
        }
       ],
       "rows_bottom": [
        {
         "census_chapter": 2,
         "census_table": 54,
         "census_row": 1,
         "census_column": 2,
         "sector_desc": "DEMOGRAPHICS",
         "short_desc": "PRODUCERS, MULTI-RACE - NUMBER OF PRODUCERS",
         "commodity_desc": "PRODUCERS",
         "agg_level_desc": "STATE",
         "state_fips_code": 37,
         "state_alpha": "NC",
         "state_name": "NORTH CAROLINA",
         "county_code": "None",
         "county_name": "None",
         "domaincat_desc": "None",
         "value": "336",
         "_deepnote_index_column": 2073
        },
        {
         "census_chapter": 2,
         "census_table": 54,
         "census_row": 1,
         "census_column": 2,
         "sector_desc": "DEMOGRAPHICS",
         "short_desc": "PRODUCERS, MULTI-RACE - NUMBER OF PRODUCERS",
         "commodity_desc": "PRODUCERS",
         "agg_level_desc": "STATE",
         "state_fips_code": 38,
         "state_alpha": "ND",
         "state_name": "NORTH DAKOTA",
         "county_code": "None",
         "county_name": "None",
         "domaincat_desc": "None",
         "value": "164",
         "_deepnote_index_column": 2074
        },
        {
         "census_chapter": 2,
         "census_table": 54,
         "census_row": 1,
         "census_column": 2,
         "sector_desc": "DEMOGRAPHICS",
         "short_desc": "PRODUCERS, MULTI-RACE - NUMBER OF PRODUCERS",
         "commodity_desc": "PRODUCERS",
         "agg_level_desc": "STATE",
         "state_fips_code": 39,
         "state_alpha": "OH",
         "state_name": "OHIO",
         "county_code": "None",
         "county_name": "None",
         "domaincat_desc": "None",
         "value": "536",
         "_deepnote_index_column": 2075
        },
        {
         "census_chapter": 2,
         "census_table": 54,
         "census_row": 1,
         "census_column": 2,
         "sector_desc": "DEMOGRAPHICS",
         "short_desc": "PRODUCERS, MULTI-RACE - NUMBER OF PRODUCERS",
         "commodity_desc": "PRODUCERS",
         "agg_level_desc": "STATE",
         "state_fips_code": 40,
         "state_alpha": "OK",
         "state_name": "OKLAHOMA",
         "county_code": "None",
         "county_name": "None",
         "domaincat_desc": "None",
         "value": "5,353",
         "_deepnote_index_column": 2076
        },
        {
         "census_chapter": 2,
         "census_table": 54,
         "census_row": 1,
         "census_column": 2,
         "sector_desc": "DEMOGRAPHICS",
         "short_desc": "PRODUCERS, MULTI-RACE - NUMBER OF PRODUCERS",
         "commodity_desc": "PRODUCERS",
         "agg_level_desc": "STATE",
         "state_fips_code": 41,
         "state_alpha": "OR",
         "state_name": "OREGON",
         "county_code": "None",
         "county_name": "None",
         "domaincat_desc": "None",
         "value": "789",
         "_deepnote_index_column": 2077
        },
        {
         "census_chapter": 2,
         "census_table": 54,
         "census_row": 1,
         "census_column": 2,
         "sector_desc": "DEMOGRAPHICS",
         "short_desc": "PRODUCERS, MULTI-RACE - NUMBER OF PRODUCERS",
         "commodity_desc": "PRODUCERS",
         "agg_level_desc": "STATE",
         "state_fips_code": 42,
         "state_alpha": "PA",
         "state_name": "PENNSYLVANIA",
         "county_code": "None",
         "county_name": "None",
         "domaincat_desc": "None",
         "value": "304",
         "_deepnote_index_column": 2078
        },
        {
         "census_chapter": 2,
         "census_table": 54,
         "census_row": 1,
         "census_column": 2,
         "sector_desc": "DEMOGRAPHICS",
         "short_desc": "PRODUCERS, MULTI-RACE - NUMBER OF PRODUCERS",
         "commodity_desc": "PRODUCERS",
         "agg_level_desc": "STATE",
         "state_fips_code": 44,
         "state_alpha": "RI",
         "state_name": "RHODE ISLAND",
         "county_code": "None",
         "county_name": "None",
         "domaincat_desc": "None",
         "value": "8",
         "_deepnote_index_column": 2079
        },
        {
         "census_chapter": 2,
         "census_table": 54,
         "census_row": 1,
         "census_column": 2,
         "sector_desc": "DEMOGRAPHICS",
         "short_desc": "PRODUCERS, MULTI-RACE - NUMBER OF PRODUCERS",
         "commodity_desc": "PRODUCERS",
         "agg_level_desc": "STATE",
         "state_fips_code": 45,
         "state_alpha": "SC",
         "state_name": "SOUTH CAROLINA",
         "county_code": "None",
         "county_name": "None",
         "domaincat_desc": "None",
         "value": "227",
         "_deepnote_index_column": 2080
        },
        {
         "census_chapter": 2,
         "census_table": 54,
         "census_row": 1,
         "census_column": 2,
         "sector_desc": "DEMOGRAPHICS",
         "short_desc": "PRODUCERS, MULTI-RACE - NUMBER OF PRODUCERS",
         "commodity_desc": "PRODUCERS",
         "agg_level_desc": "STATE",
         "state_fips_code": 46,
         "state_alpha": "SD",
         "state_name": "SOUTH DAKOTA",
         "county_code": "None",
         "county_name": "None",
         "domaincat_desc": "None",
         "value": "231",
         "_deepnote_index_column": 2081
        },
        {
         "census_chapter": 2,
         "census_table": 54,
         "census_row": 1,
         "census_column": 2,
         "sector_desc": "DEMOGRAPHICS",
         "short_desc": "PRODUCERS, MULTI-RACE - NUMBER OF PRODUCERS",
         "commodity_desc": "PRODUCERS",
         "agg_level_desc": "STATE",
         "state_fips_code": 47,
         "state_alpha": "TN",
         "state_name": "TENNESSEE",
         "county_code": "None",
         "county_name": "None",
         "domaincat_desc": "None",
         "value": "613",
         "_deepnote_index_column": 2082
        },
        {
         "census_chapter": 2,
         "census_table": 54,
         "census_row": 1,
         "census_column": 2,
         "sector_desc": "DEMOGRAPHICS",
         "short_desc": "PRODUCERS, MULTI-RACE - NUMBER OF PRODUCERS",
         "commodity_desc": "PRODUCERS",
         "agg_level_desc": "STATE",
         "state_fips_code": 48,
         "state_alpha": "TX",
         "state_name": "TEXAS",
         "county_code": "None",
         "county_name": "None",
         "domaincat_desc": "None",
         "value": "3,295",
         "_deepnote_index_column": 2083
        },
        {
         "census_chapter": 2,
         "census_table": 54,
         "census_row": 1,
         "census_column": 2,
         "sector_desc": "DEMOGRAPHICS",
         "short_desc": "PRODUCERS, MULTI-RACE - NUMBER OF PRODUCERS",
         "commodity_desc": "PRODUCERS",
         "agg_level_desc": "STATE",
         "state_fips_code": 49,
         "state_alpha": "UT",
         "state_name": "UTAH",
         "county_code": "None",
         "county_name": "None",
         "domaincat_desc": "None",
         "value": "147",
         "_deepnote_index_column": 2084
        },
        {
         "census_chapter": 2,
         "census_table": 54,
         "census_row": 1,
         "census_column": 2,
         "sector_desc": "DEMOGRAPHICS",
         "short_desc": "PRODUCERS, MULTI-RACE - NUMBER OF PRODUCERS",
         "commodity_desc": "PRODUCERS",
         "agg_level_desc": "STATE",
         "state_fips_code": 50,
         "state_alpha": "VT",
         "state_name": "VERMONT",
         "county_code": "None",
         "county_name": "None",
         "domaincat_desc": "None",
         "value": "101",
         "_deepnote_index_column": 2085
        },
        {
         "census_chapter": 2,
         "census_table": 54,
         "census_row": 1,
         "census_column": 2,
         "sector_desc": "DEMOGRAPHICS",
         "short_desc": "PRODUCERS, MULTI-RACE - NUMBER OF PRODUCERS",
         "commodity_desc": "PRODUCERS",
         "agg_level_desc": "STATE",
         "state_fips_code": 51,
         "state_alpha": "VA",
         "state_name": "VIRGINIA",
         "county_code": "None",
         "county_name": "None",
         "domaincat_desc": "None",
         "value": "389",
         "_deepnote_index_column": 2086
        },
        {
         "census_chapter": 2,
         "census_table": 54,
         "census_row": 1,
         "census_column": 2,
         "sector_desc": "DEMOGRAPHICS",
         "short_desc": "PRODUCERS, MULTI-RACE - NUMBER OF PRODUCERS",
         "commodity_desc": "PRODUCERS",
         "agg_level_desc": "STATE",
         "state_fips_code": 53,
         "state_alpha": "WA",
         "state_name": "WASHINGTON",
         "county_code": "None",
         "county_name": "None",
         "domaincat_desc": "None",
         "value": "851",
         "_deepnote_index_column": 2087
        },
        {
         "census_chapter": 2,
         "census_table": 54,
         "census_row": 1,
         "census_column": 2,
         "sector_desc": "DEMOGRAPHICS",
         "short_desc": "PRODUCERS, MULTI-RACE - NUMBER OF PRODUCERS",
         "commodity_desc": "PRODUCERS",
         "agg_level_desc": "STATE",
         "state_fips_code": 54,
         "state_alpha": "WV",
         "state_name": "WEST VIRGINIA",
         "county_code": "None",
         "county_name": "None",
         "domaincat_desc": "None",
         "value": "218",
         "_deepnote_index_column": 2088
        },
        {
         "census_chapter": 2,
         "census_table": 54,
         "census_row": 1,
         "census_column": 2,
         "sector_desc": "DEMOGRAPHICS",
         "short_desc": "PRODUCERS, MULTI-RACE - NUMBER OF PRODUCERS",
         "commodity_desc": "PRODUCERS",
         "agg_level_desc": "STATE",
         "state_fips_code": 55,
         "state_alpha": "WI",
         "state_name": "WISCONSIN",
         "county_code": "None",
         "county_name": "None",
         "domaincat_desc": "None",
         "value": "179",
         "_deepnote_index_column": 2089
        },
        {
         "census_chapter": 2,
         "census_table": 54,
         "census_row": 1,
         "census_column": 2,
         "sector_desc": "DEMOGRAPHICS",
         "short_desc": "PRODUCERS, MULTI-RACE - NUMBER OF PRODUCERS",
         "commodity_desc": "PRODUCERS",
         "agg_level_desc": "STATE",
         "state_fips_code": 56,
         "state_alpha": "WY",
         "state_name": "WYOMING",
         "county_code": "None",
         "county_name": "None",
         "domaincat_desc": "None",
         "value": "178",
         "_deepnote_index_column": 2090
        },
        {
         "census_chapter": 2,
         "census_table": 54,
         "census_row": 1,
         "census_column": 3,
         "sector_desc": "DEMOGRAPHICS",
         "short_desc": "PRODUCERS, MULTI-RACE - ACRES OPERATED",
         "commodity_desc": "PRODUCERS",
         "agg_level_desc": "STATE",
         "state_fips_code": 1,
         "state_alpha": "AL",
         "state_name": "ALABAMA",
         "county_code": "None",
         "county_name": "None",
         "domaincat_desc": "None",
         "value": "63,734",
         "_deepnote_index_column": 2091
        },
        {
         "census_chapter": 2,
         "census_table": 54,
         "census_row": 1,
         "census_column": 3,
         "sector_desc": "DEMOGRAPHICS",
         "short_desc": "PRODUCERS, MULTI-RACE - ACRES OPERATED",
         "commodity_desc": "PRODUCERS",
         "agg_level_desc": "STATE",
         "state_fips_code": 2,
         "state_alpha": "AK",
         "state_name": "ALASKA",
         "county_code": "None",
         "county_name": "None",
         "domaincat_desc": "None",
         "value": "(D)",
         "_deepnote_index_column": 2092
        },
        {
         "census_chapter": 2,
         "census_table": 54,
         "census_row": 1,
         "census_column": 3,
         "sector_desc": "DEMOGRAPHICS",
         "short_desc": "PRODUCERS, MULTI-RACE - ACRES OPERATED",
         "commodity_desc": "PRODUCERS",
         "agg_level_desc": "STATE",
         "state_fips_code": 4,
         "state_alpha": "AZ",
         "state_name": "ARIZONA",
         "county_code": "None",
         "county_name": "None",
         "domaincat_desc": "None",
         "value": "758,280",
         "_deepnote_index_column": 2093
        },
        {
         "census_chapter": 2,
         "census_table": 54,
         "census_row": 1,
         "census_column": 3,
         "sector_desc": "DEMOGRAPHICS",
         "short_desc": "PRODUCERS, MULTI-RACE - ACRES OPERATED",
         "commodity_desc": "PRODUCERS",
         "agg_level_desc": "STATE",
         "state_fips_code": 5,
         "state_alpha": "AR",
         "state_name": "ARKANSAS",
         "county_code": "None",
         "county_name": "None",
         "domaincat_desc": "None",
         "value": "176,020",
         "_deepnote_index_column": 2094
        },
        {
         "census_chapter": 2,
         "census_table": 54,
         "census_row": 1,
         "census_column": 3,
         "sector_desc": "DEMOGRAPHICS",
         "short_desc": "PRODUCERS, MULTI-RACE - ACRES OPERATED",
         "commodity_desc": "PRODUCERS",
         "agg_level_desc": "STATE",
         "state_fips_code": 6,
         "state_alpha": "CA",
         "state_name": "CALIFORNIA",
         "county_code": "None",
         "county_name": "None",
         "domaincat_desc": "None",
         "value": "354,767",
         "_deepnote_index_column": 2095
        },
        {
         "census_chapter": 2,
         "census_table": 54,
         "census_row": 1,
         "census_column": 3,
         "sector_desc": "DEMOGRAPHICS",
         "short_desc": "PRODUCERS, MULTI-RACE - ACRES OPERATED",
         "commodity_desc": "PRODUCERS",
         "agg_level_desc": "STATE",
         "state_fips_code": 8,
         "state_alpha": "CO",
         "state_name": "COLORADO",
         "county_code": "None",
         "county_name": "None",
         "domaincat_desc": "None",
         "value": "142,618",
         "_deepnote_index_column": 2096
        },
        {
         "census_chapter": 2,
         "census_table": 54,
         "census_row": 1,
         "census_column": 3,
         "sector_desc": "DEMOGRAPHICS",
         "short_desc": "PRODUCERS, MULTI-RACE - ACRES OPERATED",
         "commodity_desc": "PRODUCERS",
         "agg_level_desc": "STATE",
         "state_fips_code": 9,
         "state_alpha": "CT",
         "state_name": "CONNECTICUT",
         "county_code": "None",
         "county_name": "None",
         "domaincat_desc": "None",
         "value": "1,061",
         "_deepnote_index_column": 2097
        },
        {
         "census_chapter": 2,
         "census_table": 54,
         "census_row": 1,
         "census_column": 3,
         "sector_desc": "DEMOGRAPHICS",
         "short_desc": "PRODUCERS, MULTI-RACE - ACRES OPERATED",
         "commodity_desc": "PRODUCERS",
         "agg_level_desc": "STATE",
         "state_fips_code": 10,
         "state_alpha": "DE",
         "state_name": "DELAWARE",
         "county_code": "None",
         "county_name": "None",
         "domaincat_desc": "None",
         "value": "1,812",
         "_deepnote_index_column": 2098
        },
        {
         "census_chapter": 2,
         "census_table": 54,
         "census_row": 1,
         "census_column": 3,
         "sector_desc": "DEMOGRAPHICS",
         "short_desc": "PRODUCERS, MULTI-RACE - ACRES OPERATED",
         "commodity_desc": "PRODUCERS",
         "agg_level_desc": "STATE",
         "state_fips_code": 12,
         "state_alpha": "FL",
         "state_name": "FLORIDA",
         "county_code": "None",
         "county_name": "None",
         "domaincat_desc": "None",
         "value": "132,699",
         "_deepnote_index_column": 2099
        },
        {
         "census_chapter": 2,
         "census_table": 54,
         "census_row": 1,
         "census_column": 3,
         "sector_desc": "DEMOGRAPHICS",
         "short_desc": "PRODUCERS, MULTI-RACE - ACRES OPERATED",
         "commodity_desc": "PRODUCERS",
         "agg_level_desc": "STATE",
         "state_fips_code": 13,
         "state_alpha": "GA",
         "state_name": "GEORGIA",
         "county_code": "None",
         "county_name": "None",
         "domaincat_desc": "None",
         "value": "54,997",
         "_deepnote_index_column": 2100
        },
        {
         "census_chapter": 2,
         "census_table": 54,
         "census_row": 1,
         "census_column": 3,
         "sector_desc": "DEMOGRAPHICS",
         "short_desc": "PRODUCERS, MULTI-RACE - ACRES OPERATED",
         "commodity_desc": "PRODUCERS",
         "agg_level_desc": "STATE",
         "state_fips_code": 15,
         "state_alpha": "HI",
         "state_name": "HAWAII",
         "county_code": "None",
         "county_name": "None",
         "domaincat_desc": "None",
         "value": "240,407",
         "_deepnote_index_column": 2101
        },
        {
         "census_chapter": 2,
         "census_table": 54,
         "census_row": 1,
         "census_column": 3,
         "sector_desc": "DEMOGRAPHICS",
         "short_desc": "PRODUCERS, MULTI-RACE - ACRES OPERATED",
         "commodity_desc": "PRODUCERS",
         "agg_level_desc": "STATE",
         "state_fips_code": 16,
         "state_alpha": "ID",
         "state_name": "IDAHO",
         "county_code": "None",
         "county_name": "None",
         "domaincat_desc": "None",
         "value": "49,689",
         "_deepnote_index_column": 2102
        },
        {
         "census_chapter": 2,
         "census_table": 54,
         "census_row": 1,
         "census_column": 3,
         "sector_desc": "DEMOGRAPHICS",
         "short_desc": "PRODUCERS, MULTI-RACE - ACRES OPERATED",
         "commodity_desc": "PRODUCERS",
         "agg_level_desc": "STATE",
         "state_fips_code": 17,
         "state_alpha": "IL",
         "state_name": "ILLINOIS",
         "county_code": "None",
         "county_name": "None",
         "domaincat_desc": "None",
         "value": "71,930",
         "_deepnote_index_column": 2103
        },
        {
         "census_chapter": 2,
         "census_table": 54,
         "census_row": 1,
         "census_column": 3,
         "sector_desc": "DEMOGRAPHICS",
         "short_desc": "PRODUCERS, MULTI-RACE - ACRES OPERATED",
         "commodity_desc": "PRODUCERS",
         "agg_level_desc": "STATE",
         "state_fips_code": 18,
         "state_alpha": "IN",
         "state_name": "INDIANA",
         "county_code": "None",
         "county_name": "None",
         "domaincat_desc": "None",
         "value": "26,231",
         "_deepnote_index_column": 2104
        },
        {
         "census_chapter": 2,
         "census_table": 54,
         "census_row": 1,
         "census_column": 3,
         "sector_desc": "DEMOGRAPHICS",
         "short_desc": "PRODUCERS, MULTI-RACE - ACRES OPERATED",
         "commodity_desc": "PRODUCERS",
         "agg_level_desc": "STATE",
         "state_fips_code": 19,
         "state_alpha": "IA",
         "state_name": "IOWA",
         "county_code": "None",
         "county_name": "None",
         "domaincat_desc": "None",
         "value": "41,545",
         "_deepnote_index_column": 2105
        }
       ]
      },
      "text/plain": "      census_chapter  census_table  census_row  census_column   sector_desc  \\\n0                  2            48           1              1  DEMOGRAPHICS   \n1                  2            48           1              3  DEMOGRAPHICS   \n2                  2            48           1              1  DEMOGRAPHICS   \n3                  2            48           1              1  DEMOGRAPHICS   \n4                  2            48           1              1  DEMOGRAPHICS   \n...              ...           ...         ...            ...           ...   \n2101               2            54           1              3  DEMOGRAPHICS   \n2102               2            54           1              3  DEMOGRAPHICS   \n2103               2            54           1              3  DEMOGRAPHICS   \n2104               2            54           1              3  DEMOGRAPHICS   \n2105               2            54           1              3  DEMOGRAPHICS   \n\n                                      short_desc commodity_desc  \\\n0     PRODUCERS, HISPANIC - NUMBER OF OPERATIONS      PRODUCERS   \n1           PRODUCERS, HISPANIC - ACRES OPERATED      PRODUCERS   \n2     PRODUCERS, HISPANIC - NUMBER OF OPERATIONS      PRODUCERS   \n3     PRODUCERS, HISPANIC - NUMBER OF OPERATIONS      PRODUCERS   \n4     PRODUCERS, HISPANIC - NUMBER OF OPERATIONS      PRODUCERS   \n...                                          ...            ...   \n2101      PRODUCERS, MULTI-RACE - ACRES OPERATED      PRODUCERS   \n2102      PRODUCERS, MULTI-RACE - ACRES OPERATED      PRODUCERS   \n2103      PRODUCERS, MULTI-RACE - ACRES OPERATED      PRODUCERS   \n2104      PRODUCERS, MULTI-RACE - ACRES OPERATED      PRODUCERS   \n2105      PRODUCERS, MULTI-RACE - ACRES OPERATED      PRODUCERS   \n\n     agg_level_desc  state_fips_code state_alpha     state_name county_code  \\\n0             STATE               25          MA  MASSACHUSETTS        None   \n1             STATE               19          IA           IOWA        None   \n2             STATE                1          AL        ALABAMA        None   \n3             STATE                2          AK         ALASKA        None   \n4             STATE                4          AZ        ARIZONA        None   \n...             ...              ...         ...            ...         ...   \n2101          STATE               15          HI         HAWAII        None   \n2102          STATE               16          ID          IDAHO        None   \n2103          STATE               17          IL       ILLINOIS        None   \n2104          STATE               18          IN        INDIANA        None   \n2105          STATE               19          IA           IOWA        None   \n\n     county_name domaincat_desc    value  \n0           None           None      183  \n1           None           None  244,591  \n2           None           None      477  \n3           None           None       36  \n4           None           None    1,102  \n...          ...            ...      ...  \n2101        None           None  240,407  \n2102        None           None   49,689  \n2103        None           None   71,930  \n2104        None           None   26,231  \n2105        None           None   41,545  \n\n[2106 rows x 15 columns]",
      "text/html": "<div>\n<style scoped>\n    .dataframe tbody tr th:only-of-type {\n        vertical-align: middle;\n    }\n\n    .dataframe tbody tr th {\n        vertical-align: top;\n    }\n\n    .dataframe thead th {\n        text-align: right;\n    }\n</style>\n<table border=\"1\" class=\"dataframe\">\n  <thead>\n    <tr style=\"text-align: right;\">\n      <th></th>\n      <th>census_chapter</th>\n      <th>census_table</th>\n      <th>census_row</th>\n      <th>census_column</th>\n      <th>sector_desc</th>\n      <th>short_desc</th>\n      <th>commodity_desc</th>\n      <th>agg_level_desc</th>\n      <th>state_fips_code</th>\n      <th>state_alpha</th>\n      <th>state_name</th>\n      <th>county_code</th>\n      <th>county_name</th>\n      <th>domaincat_desc</th>\n      <th>value</th>\n    </tr>\n  </thead>\n  <tbody>\n    <tr>\n      <th>0</th>\n      <td>2</td>\n      <td>48</td>\n      <td>1</td>\n      <td>1</td>\n      <td>DEMOGRAPHICS</td>\n      <td>PRODUCERS, HISPANIC - NUMBER OF OPERATIONS</td>\n      <td>PRODUCERS</td>\n      <td>STATE</td>\n      <td>25</td>\n      <td>MA</td>\n      <td>MASSACHUSETTS</td>\n      <td>None</td>\n      <td>None</td>\n      <td>None</td>\n      <td>183</td>\n    </tr>\n    <tr>\n      <th>1</th>\n      <td>2</td>\n      <td>48</td>\n      <td>1</td>\n      <td>3</td>\n      <td>DEMOGRAPHICS</td>\n      <td>PRODUCERS, HISPANIC - ACRES OPERATED</td>\n      <td>PRODUCERS</td>\n      <td>STATE</td>\n      <td>19</td>\n      <td>IA</td>\n      <td>IOWA</td>\n      <td>None</td>\n      <td>None</td>\n      <td>None</td>\n      <td>244,591</td>\n    </tr>\n    <tr>\n      <th>2</th>\n      <td>2</td>\n      <td>48</td>\n      <td>1</td>\n      <td>1</td>\n      <td>DEMOGRAPHICS</td>\n      <td>PRODUCERS, HISPANIC - NUMBER OF OPERATIONS</td>\n      <td>PRODUCERS</td>\n      <td>STATE</td>\n      <td>1</td>\n      <td>AL</td>\n      <td>ALABAMA</td>\n      <td>None</td>\n      <td>None</td>\n      <td>None</td>\n      <td>477</td>\n    </tr>\n    <tr>\n      <th>3</th>\n      <td>2</td>\n      <td>48</td>\n      <td>1</td>\n      <td>1</td>\n      <td>DEMOGRAPHICS</td>\n      <td>PRODUCERS, HISPANIC - NUMBER OF OPERATIONS</td>\n      <td>PRODUCERS</td>\n      <td>STATE</td>\n      <td>2</td>\n      <td>AK</td>\n      <td>ALASKA</td>\n      <td>None</td>\n      <td>None</td>\n      <td>None</td>\n      <td>36</td>\n    </tr>\n    <tr>\n      <th>4</th>\n      <td>2</td>\n      <td>48</td>\n      <td>1</td>\n      <td>1</td>\n      <td>DEMOGRAPHICS</td>\n      <td>PRODUCERS, HISPANIC - NUMBER OF OPERATIONS</td>\n      <td>PRODUCERS</td>\n      <td>STATE</td>\n      <td>4</td>\n      <td>AZ</td>\n      <td>ARIZONA</td>\n      <td>None</td>\n      <td>None</td>\n      <td>None</td>\n      <td>1,102</td>\n    </tr>\n    <tr>\n      <th>...</th>\n      <td>...</td>\n      <td>...</td>\n      <td>...</td>\n      <td>...</td>\n      <td>...</td>\n      <td>...</td>\n      <td>...</td>\n      <td>...</td>\n      <td>...</td>\n      <td>...</td>\n      <td>...</td>\n      <td>...</td>\n      <td>...</td>\n      <td>...</td>\n      <td>...</td>\n    </tr>\n    <tr>\n      <th>2101</th>\n      <td>2</td>\n      <td>54</td>\n      <td>1</td>\n      <td>3</td>\n      <td>DEMOGRAPHICS</td>\n      <td>PRODUCERS, MULTI-RACE - ACRES OPERATED</td>\n      <td>PRODUCERS</td>\n      <td>STATE</td>\n      <td>15</td>\n      <td>HI</td>\n      <td>HAWAII</td>\n      <td>None</td>\n      <td>None</td>\n      <td>None</td>\n      <td>240,407</td>\n    </tr>\n    <tr>\n      <th>2102</th>\n      <td>2</td>\n      <td>54</td>\n      <td>1</td>\n      <td>3</td>\n      <td>DEMOGRAPHICS</td>\n      <td>PRODUCERS, MULTI-RACE - ACRES OPERATED</td>\n      <td>PRODUCERS</td>\n      <td>STATE</td>\n      <td>16</td>\n      <td>ID</td>\n      <td>IDAHO</td>\n      <td>None</td>\n      <td>None</td>\n      <td>None</td>\n      <td>49,689</td>\n    </tr>\n    <tr>\n      <th>2103</th>\n      <td>2</td>\n      <td>54</td>\n      <td>1</td>\n      <td>3</td>\n      <td>DEMOGRAPHICS</td>\n      <td>PRODUCERS, MULTI-RACE - ACRES OPERATED</td>\n      <td>PRODUCERS</td>\n      <td>STATE</td>\n      <td>17</td>\n      <td>IL</td>\n      <td>ILLINOIS</td>\n      <td>None</td>\n      <td>None</td>\n      <td>None</td>\n      <td>71,930</td>\n    </tr>\n    <tr>\n      <th>2104</th>\n      <td>2</td>\n      <td>54</td>\n      <td>1</td>\n      <td>3</td>\n      <td>DEMOGRAPHICS</td>\n      <td>PRODUCERS, MULTI-RACE - ACRES OPERATED</td>\n      <td>PRODUCERS</td>\n      <td>STATE</td>\n      <td>18</td>\n      <td>IN</td>\n      <td>INDIANA</td>\n      <td>None</td>\n      <td>None</td>\n      <td>None</td>\n      <td>26,231</td>\n    </tr>\n    <tr>\n      <th>2105</th>\n      <td>2</td>\n      <td>54</td>\n      <td>1</td>\n      <td>3</td>\n      <td>DEMOGRAPHICS</td>\n      <td>PRODUCERS, MULTI-RACE - ACRES OPERATED</td>\n      <td>PRODUCERS</td>\n      <td>STATE</td>\n      <td>19</td>\n      <td>IA</td>\n      <td>IOWA</td>\n      <td>None</td>\n      <td>None</td>\n      <td>None</td>\n      <td>41,545</td>\n    </tr>\n  </tbody>\n</table>\n<p>2106 rows × 15 columns</p>\n</div>"
     },
     "metadata": {}
    }
   ]
  },
  {
   "cell_type": "code",
   "metadata": {
    "cell_id": "00005-182df082-b751-4f67-a98f-11bc25d47418",
    "deepnote_to_be_reexecuted": false,
    "execution_millis": 412,
    "execution_start": 1638831741701,
    "source_hash": "1d7d75da",
    "tags": [],
    "deepnote_app_coordinates": {
     "x": 0,
     "y": 54,
     "w": 12,
     "h": 5
    },
    "deepnote_cell_type": "code"
   },
   "source": "table_1_df_raw.to_csv(\"data/table_1.csv\", index=False)\nfarmer_gender_table_df_raw.to_csv(\"data/farmer_gender_table.csv\", index=False)\nfarmer_race_table_df_raw.to_csv(\"data/farmer_race_table.csv\", index=False)",
   "execution_count": null,
   "outputs": []
  },
  {
   "cell_type": "markdown",
   "source": "To avoid having to re-query the original data every time I restart the notebook, I'll save off these tables into CSV files and immediately reload them.\n\nThis way, when re-starting the notebook, I can start in the section below without having to requery the original data.",
   "metadata": {
    "cell_id": "00005-9ed67fed-d23b-4438-930c-8ae51c37d37d",
    "tags": [],
    "deepnote_app_coordinates": {
     "x": 0,
     "y": 60,
     "w": 12,
     "h": 5
    },
    "deepnote_cell_type": "markdown"
   }
  },
  {
   "cell_type": "markdown",
   "source": "### Data Cleaning\nBefore I can start analyzing our dataframe, I need to perform a bit of data cleaning work. Specifically, the `value` column has a data type of 'string' by default due to the presence of commas and other non-numeric characters in the raw data. I'll format this code as a function so that I can apply it to subsequent dataframes that I'll load in later in the process.",
   "metadata": {
    "cell_id": "00005-159c83ff-b665-47f1-87d2-265ad24fde5a",
    "tags": [],
    "deepnote_app_coordinates": {
     "x": 0,
     "y": 66,
     "w": 12,
     "h": 5
    },
    "deepnote_cell_type": "markdown"
   }
  },
  {
   "cell_type": "code",
   "metadata": {
    "cell_id": "00006-119637ef-a9b3-4ec8-90e9-ca0154a85bf1",
    "deepnote_to_be_reexecuted": false,
    "execution_millis": 2597,
    "execution_start": 1638928536604,
    "source_hash": "5186394b",
    "tags": [],
    "deepnote_app_coordinates": {
     "x": 0,
     "y": 72,
     "w": 12,
     "h": 5
    },
    "deepnote_cell_type": "code"
   },
   "source": "import geopandas as gpd\nfrom shapely.geometry import Point, Polygon\nimport matplotlib.pyplot as plt\nimport pandas as pd\nimport numpy as np\nimport seaborn as sns",
   "execution_count": 2,
   "outputs": []
  },
  {
   "cell_type": "code",
   "metadata": {
    "cell_id": "00010-eb5ced9d-4b5d-4b78-9123-399bd8003a1e",
    "deepnote_to_be_reexecuted": false,
    "execution_millis": 33,
    "execution_start": 1638928544705,
    "source_hash": "6f9cd6e3",
    "tags": [],
    "deepnote_app_coordinates": {
     "x": 0,
     "y": 78,
     "w": 12,
     "h": 5
    },
    "deepnote_cell_type": "code"
   },
   "source": "table_1_df_raw = pd.read_csv(\"data/table_1.csv\")",
   "execution_count": 3,
   "outputs": []
  },
  {
   "cell_type": "code",
   "metadata": {
    "cell_id": "00006-338dee85-d41f-475a-9d29-1b3c4347399b",
    "deepnote_to_be_reexecuted": false,
    "execution_millis": 1,
    "execution_start": 1638928545539,
    "source_hash": "1934ae34",
    "tags": [],
    "deepnote_app_coordinates": {
     "x": 0,
     "y": 84,
     "w": 12,
     "h": 5
    },
    "deepnote_cell_type": "code"
   },
   "source": "def clean_data_frame(df):\n    cleaned_df = df.copy()\n    \n    # Replace non numeric values with an empty string\n    cleaned_df[\"value\"] = cleaned_df[\"value\"].str.replace(r\"[^0-9]+\", '', regex=True)\n    \n    # Coercing is necessary for the blank string values\n    cleaned_df[\"value\"] = pd.to_numeric(cleaned_df[\"value\"], errors='coerce')\n    \n    # Convert from float to integer\n    cleaned_df[\"value\"] = cleaned_df[\"value\"].fillna(0).astype(int)\n\n    # Converting the state name to be sentence case\n    cleaned_df[\"state_name\"] = cleaned_df[\"state_name\"].str.title()\n    \n    return cleaned_df",
   "execution_count": 4,
   "outputs": []
  },
  {
   "cell_type": "code",
   "metadata": {
    "cell_id": "00012-e9e556b9-cc4b-4a5b-a420-86284db1c1ab",
    "deepnote_to_be_reexecuted": false,
    "execution_millis": 19,
    "execution_start": 1638928551205,
    "source_hash": "a1b8a3ef",
    "tags": [],
    "deepnote_app_coordinates": {
     "x": 0,
     "y": 90,
     "w": 12,
     "h": 5
    },
    "deepnote_cell_type": "code"
   },
   "source": "table_1_df = clean_data_frame(table_1_df_raw)",
   "execution_count": 5,
   "outputs": []
  },
  {
   "cell_type": "markdown",
   "source": "### Styling Functions\nBelow I add in a couple functions that will help to create U.S. map plots and nicely formatted table views.",
   "metadata": {
    "cell_id": "00016-66ee25ef-5e19-4611-bebb-b9a1dfbf92e0",
    "deepnote_app_coordinates": {
     "x": 0,
     "y": 96,
     "w": 12,
     "h": 5
    },
    "deepnote_cell_type": "markdown"
   }
  },
  {
   "cell_type": "code",
   "metadata": {
    "cell_id": "00017-c182e59c-4bf6-4114-9aeb-6ba653b6b1bf",
    "deepnote_to_be_reexecuted": false,
    "source_hash": "b3b4ff54",
    "execution_start": 1638928553799,
    "execution_millis": 13,
    "deepnote_app_coordinates": {
     "x": 0,
     "y": 102,
     "w": 12,
     "h": 5
    },
    "deepnote_cell_type": "code"
   },
   "source": "def plot_map(df, state_col, intensity_col, title=False, cmap=\"Blues\", legend=False):\n    usa = gpd.read_file(\"./cb_2018_us_state_20m/cb_2018_us_state_20m.shp\")\n    \n    # Filtering to have a simple continental map\n    continental_us = usa.loc[~usa[\"NAME\"].isin([\"Alaska\", \"Hawaii\", \"Puerto Rico\"])].copy()\n    \n    merged_df = continental_us.merge(df, how=\"left\", left_on=\"NAME\", right_on=state_col)\n    merged_df.plot(column=intensity_col, cmap=cmap, legend=legend)\n    plt.axis('off')\n    if title:\n        plt.title(title)\n    return plt.show()",
   "execution_count": 6,
   "outputs": []
  },
  {
   "cell_type": "code",
   "metadata": {
    "cell_id": "00018-1de8db24-02e4-4355-9aaf-80425b1d7042",
    "deepnote_to_be_reexecuted": false,
    "source_hash": "7cf0aa9b",
    "execution_start": 1638928556149,
    "execution_millis": 10,
    "deepnote_app_coordinates": {
     "x": 0,
     "y": 108,
     "w": 12,
     "h": 5
    },
    "deepnote_cell_type": "code"
   },
   "source": "def style_dataframe(df, title=None, column_names=None, percent_column_indexes=None, \n                    highlighting=None, highlight_subset=None, heatmap=None, heatmap_subset=None):\n    new_df = df.copy()\n    percent_formatting = {}\n    \n    if column_names:\n        column_conversions =  {old: new for old, new in zip(new_df.columns, column_names)}\n        new_df.columns = column_names\n        \n    styler = new_df.style\n    \n    if title:\n        styler.set_caption(title)\n        \n    if percent_column_indexes:\n        percent_columns = new_df.columns[percent_column_indexes]\n        styler.format({column_name: '{:,.2%}'.format for column_name in percent_columns})\n        \n    if highlighting:\n        if highlight_subset:\n            if column_names:\n                subset_columns = [column_conversions[column_name] for column_name in highlight_subset]\n            else:\n                subset_columns = highlight_subset\n            styler.highlight_max(color='#86BCE9', axis=1, subset=subset_columns)\n        else:\n            styler.highlight_max(color = '#86BCE9', axis = 1)\n            \n    if heatmap:\n        if heatmap_subset:\n            subset_columns = [column_conversions[column_name] for column_name in heatmap_subset]\n            styler.background_gradient(cmap='Blues', axis=None, subset=subset_columns)\n        else:\n            styler.background_gradient(cmap='Blues', axis=None)\n        \n    return styler",
   "execution_count": 7,
   "outputs": []
  },
  {
   "cell_type": "code",
   "metadata": {
    "cell_id": "00019-fae3184d-5e37-4697-8939-6c5406fa6210",
    "deepnote_to_be_reexecuted": false,
    "source_hash": "70b0a6a1",
    "execution_start": 1638928559949,
    "execution_millis": 3,
    "deepnote_app_coordinates": {
     "x": 0,
     "y": 114,
     "w": 12,
     "h": 5
    },
    "deepnote_cell_type": "code"
   },
   "source": "def print_as_currency(value, postface=\"\"):\n    print(\"${:,}\".format(value) + postface)",
   "execution_count": 8,
   "outputs": []
  },
  {
   "cell_type": "markdown",
   "source": "### Number of Farms per State\nTo start off our analysis, let's get an idea of how many farms are contained within each state.",
   "metadata": {
    "cell_id": "00005-0df0a27a-b264-4168-8821-7c15e1a9ba73",
    "tags": [],
    "deepnote_app_coordinates": {
     "x": 0,
     "y": 120,
     "w": 12,
     "h": 5
    },
    "deepnote_cell_type": "markdown"
   }
  },
  {
   "cell_type": "code",
   "metadata": {
    "cell_id": "00006-4543aa6e-be57-42be-9d45-306178828631",
    "deepnote_to_be_reexecuted": false,
    "execution_millis": 6,
    "execution_start": 1638928562423,
    "source_hash": "209b504b",
    "tags": [],
    "deepnote_app_coordinates": {
     "x": 0,
     "y": 126,
     "w": 12,
     "h": 5
    },
    "deepnote_cell_type": "code"
   },
   "source": "# filter to only data pertaining to the number of farms in each state and only the columns we need\nnum_operations_filter = table_1_df[\"short_desc\"] == \"FARM OPERATIONS - NUMBER OF OPERATIONS\"\nnum_farms_df = table_1_df.loc[num_operations_filter].copy()",
   "execution_count": 9,
   "outputs": []
  },
  {
   "cell_type": "markdown",
   "source": "Let's take a look at one state in particular to get a better idea of the data.",
   "metadata": {
    "cell_id": "00007-7005f13e-7ed8-4630-bc52-1da595f6882f",
    "tags": [],
    "deepnote_app_coordinates": {
     "x": 0,
     "y": 132,
     "w": 12,
     "h": 5
    },
    "deepnote_cell_type": "markdown"
   }
  },
  {
   "cell_type": "code",
   "metadata": {
    "cell_id": "00008-ce289602-a287-4081-b460-26db5575edb4",
    "deepnote_to_be_reexecuted": false,
    "execution_millis": 90,
    "execution_start": 1638928565233,
    "source_hash": "48e103eb",
    "tags": [],
    "deepnote_app_coordinates": {
     "x": 0,
     "y": 138,
     "w": 12,
     "h": 5
    },
    "deepnote_cell_type": "code"
   },
   "source": "state_filter = num_farms_df[\"state_name\"] == \"Arkansas\"\nnum_farms_ark_df = num_farms_df.loc[state_filter]\nnum_farms_ark_df",
   "execution_count": 10,
   "outputs": [
    {
     "output_type": "execute_result",
     "execution_count": 10,
     "data": {
      "application/vnd.deepnote.dataframe.v2+json": {
       "row_count": 8,
       "column_count": 15,
       "columns": [
        {
         "name": "census_chapter",
         "dtype": "int64",
         "stats": {
          "unique_count": 1,
          "nan_count": 0,
          "min": "1",
          "max": "1",
          "histogram": [
           {
            "bin_start": 0.5,
            "bin_end": 0.6,
            "count": 0
           },
           {
            "bin_start": 0.6,
            "bin_end": 0.7,
            "count": 0
           },
           {
            "bin_start": 0.7,
            "bin_end": 0.8,
            "count": 0
           },
           {
            "bin_start": 0.8,
            "bin_end": 0.9,
            "count": 0
           },
           {
            "bin_start": 0.9,
            "bin_end": 1,
            "count": 0
           },
           {
            "bin_start": 1,
            "bin_end": 1.1,
            "count": 8
           },
           {
            "bin_start": 1.1,
            "bin_end": 1.2000000000000002,
            "count": 0
           },
           {
            "bin_start": 1.2000000000000002,
            "bin_end": 1.3,
            "count": 0
           },
           {
            "bin_start": 1.3,
            "bin_end": 1.4,
            "count": 0
           },
           {
            "bin_start": 1.4,
            "bin_end": 1.5,
            "count": 0
           }
          ]
         }
        },
        {
         "name": "census_table",
         "dtype": "int64",
         "stats": {
          "unique_count": 1,
          "nan_count": 0,
          "min": "1",
          "max": "1",
          "histogram": [
           {
            "bin_start": 0.5,
            "bin_end": 0.6,
            "count": 0
           },
           {
            "bin_start": 0.6,
            "bin_end": 0.7,
            "count": 0
           },
           {
            "bin_start": 0.7,
            "bin_end": 0.8,
            "count": 0
           },
           {
            "bin_start": 0.8,
            "bin_end": 0.9,
            "count": 0
           },
           {
            "bin_start": 0.9,
            "bin_end": 1,
            "count": 0
           },
           {
            "bin_start": 1,
            "bin_end": 1.1,
            "count": 8
           },
           {
            "bin_start": 1.1,
            "bin_end": 1.2000000000000002,
            "count": 0
           },
           {
            "bin_start": 1.2000000000000002,
            "bin_end": 1.3,
            "count": 0
           },
           {
            "bin_start": 1.3,
            "bin_end": 1.4,
            "count": 0
           },
           {
            "bin_start": 1.4,
            "bin_end": 1.5,
            "count": 0
           }
          ]
         }
        },
        {
         "name": "census_row",
         "dtype": "int64",
         "stats": {
          "unique_count": 8,
          "nan_count": 0,
          "min": "1",
          "max": "14",
          "histogram": [
           {
            "bin_start": 1,
            "bin_end": 2.3,
            "count": 1
           },
           {
            "bin_start": 2.3,
            "bin_end": 3.6,
            "count": 0
           },
           {
            "bin_start": 3.6,
            "bin_end": 4.9,
            "count": 0
           },
           {
            "bin_start": 4.9,
            "bin_end": 6.2,
            "count": 0
           },
           {
            "bin_start": 6.2,
            "bin_end": 7.5,
            "count": 0
           },
           {
            "bin_start": 7.5,
            "bin_end": 8.8,
            "count": 1
           },
           {
            "bin_start": 8.8,
            "bin_end": 10.1,
            "count": 2
           },
           {
            "bin_start": 10.1,
            "bin_end": 11.4,
            "count": 1
           },
           {
            "bin_start": 11.4,
            "bin_end": 12.700000000000001,
            "count": 1
           },
           {
            "bin_start": 12.700000000000001,
            "bin_end": 14,
            "count": 2
           }
          ]
         }
        },
        {
         "name": "census_column",
         "dtype": "int64",
         "stats": {
          "unique_count": 1,
          "nan_count": 0,
          "min": "1",
          "max": "1",
          "histogram": [
           {
            "bin_start": 0.5,
            "bin_end": 0.6,
            "count": 0
           },
           {
            "bin_start": 0.6,
            "bin_end": 0.7,
            "count": 0
           },
           {
            "bin_start": 0.7,
            "bin_end": 0.8,
            "count": 0
           },
           {
            "bin_start": 0.8,
            "bin_end": 0.9,
            "count": 0
           },
           {
            "bin_start": 0.9,
            "bin_end": 1,
            "count": 0
           },
           {
            "bin_start": 1,
            "bin_end": 1.1,
            "count": 8
           },
           {
            "bin_start": 1.1,
            "bin_end": 1.2000000000000002,
            "count": 0
           },
           {
            "bin_start": 1.2000000000000002,
            "bin_end": 1.3,
            "count": 0
           },
           {
            "bin_start": 1.3,
            "bin_end": 1.4,
            "count": 0
           },
           {
            "bin_start": 1.4,
            "bin_end": 1.5,
            "count": 0
           }
          ]
         }
        },
        {
         "name": "sector_desc",
         "dtype": "object",
         "stats": {
          "unique_count": 1,
          "nan_count": 0,
          "categories": [
           {
            "name": "ECONOMICS",
            "count": 8
           }
          ]
         }
        },
        {
         "name": "short_desc",
         "dtype": "object",
         "stats": {
          "unique_count": 1,
          "nan_count": 0,
          "categories": [
           {
            "name": "FARM OPERATIONS - NUMBER OF OPERATIONS",
            "count": 8
           }
          ]
         }
        },
        {
         "name": "commodity_desc",
         "dtype": "object",
         "stats": {
          "unique_count": 1,
          "nan_count": 0,
          "categories": [
           {
            "name": "FARM OPERATIONS",
            "count": 8
           }
          ]
         }
        },
        {
         "name": "agg_level_desc",
         "dtype": "object",
         "stats": {
          "unique_count": 1,
          "nan_count": 0,
          "categories": [
           {
            "name": "STATE",
            "count": 8
           }
          ]
         }
        },
        {
         "name": "state_fips_code",
         "dtype": "int64",
         "stats": {
          "unique_count": 1,
          "nan_count": 0,
          "min": "5",
          "max": "5",
          "histogram": [
           {
            "bin_start": 4.5,
            "bin_end": 4.6,
            "count": 0
           },
           {
            "bin_start": 4.6,
            "bin_end": 4.7,
            "count": 0
           },
           {
            "bin_start": 4.7,
            "bin_end": 4.8,
            "count": 0
           },
           {
            "bin_start": 4.8,
            "bin_end": 4.9,
            "count": 0
           },
           {
            "bin_start": 4.9,
            "bin_end": 5,
            "count": 0
           },
           {
            "bin_start": 5,
            "bin_end": 5.1,
            "count": 8
           },
           {
            "bin_start": 5.1,
            "bin_end": 5.2,
            "count": 0
           },
           {
            "bin_start": 5.2,
            "bin_end": 5.3,
            "count": 0
           },
           {
            "bin_start": 5.3,
            "bin_end": 5.4,
            "count": 0
           },
           {
            "bin_start": 5.4,
            "bin_end": 5.5,
            "count": 0
           }
          ]
         }
        },
        {
         "name": "state_alpha",
         "dtype": "object",
         "stats": {
          "unique_count": 1,
          "nan_count": 0,
          "categories": [
           {
            "name": "AR",
            "count": 8
           }
          ]
         }
        },
        {
         "name": "state_name",
         "dtype": "object",
         "stats": {
          "unique_count": 1,
          "nan_count": 0,
          "categories": [
           {
            "name": "Arkansas",
            "count": 8
           }
          ]
         }
        },
        {
         "name": "county_code",
         "dtype": "float64",
         "stats": {
          "unique_count": 0,
          "nan_count": 8,
          "min": null,
          "max": null,
          "histogram": [
           {
            "bin_start": 0,
            "bin_end": 0.1,
            "count": 0
           },
           {
            "bin_start": 0.1,
            "bin_end": 0.2,
            "count": 0
           },
           {
            "bin_start": 0.2,
            "bin_end": 0.30000000000000004,
            "count": 0
           },
           {
            "bin_start": 0.30000000000000004,
            "bin_end": 0.4,
            "count": 0
           },
           {
            "bin_start": 0.4,
            "bin_end": 0.5,
            "count": 0
           },
           {
            "bin_start": 0.5,
            "bin_end": 0.6000000000000001,
            "count": 0
           },
           {
            "bin_start": 0.6000000000000001,
            "bin_end": 0.7000000000000001,
            "count": 0
           },
           {
            "bin_start": 0.7000000000000001,
            "bin_end": 0.8,
            "count": 0
           },
           {
            "bin_start": 0.8,
            "bin_end": 0.9,
            "count": 0
           },
           {
            "bin_start": 0.9,
            "bin_end": 1,
            "count": 0
           }
          ]
         }
        },
        {
         "name": "county_name",
         "dtype": "float64",
         "stats": {
          "unique_count": 0,
          "nan_count": 8,
          "min": null,
          "max": null,
          "histogram": [
           {
            "bin_start": 0,
            "bin_end": 0.1,
            "count": 0
           },
           {
            "bin_start": 0.1,
            "bin_end": 0.2,
            "count": 0
           },
           {
            "bin_start": 0.2,
            "bin_end": 0.30000000000000004,
            "count": 0
           },
           {
            "bin_start": 0.30000000000000004,
            "bin_end": 0.4,
            "count": 0
           },
           {
            "bin_start": 0.4,
            "bin_end": 0.5,
            "count": 0
           },
           {
            "bin_start": 0.5,
            "bin_end": 0.6000000000000001,
            "count": 0
           },
           {
            "bin_start": 0.6000000000000001,
            "bin_end": 0.7000000000000001,
            "count": 0
           },
           {
            "bin_start": 0.7000000000000001,
            "bin_end": 0.8,
            "count": 0
           },
           {
            "bin_start": 0.8,
            "bin_end": 0.9,
            "count": 0
           },
           {
            "bin_start": 0.9,
            "bin_end": 1,
            "count": 0
           }
          ]
         }
        },
        {
         "name": "domaincat_desc",
         "dtype": "object",
         "stats": {
          "unique_count": 7,
          "nan_count": 1,
          "categories": [
           {
            "name": "AREA OPERATED: (1.0 TO 9.9 ACRES)",
            "count": 1
           },
           {
            "name": "6 others",
            "count": 6
           },
           {
            "name": "Missing",
            "count": 1
           }
          ]
         }
        },
        {
         "name": "value",
         "dtype": "int64",
         "stats": {
          "unique_count": 8,
          "nan_count": 0,
          "min": "1464",
          "max": "42625",
          "histogram": [
           {
            "bin_start": 1464,
            "bin_end": 5580.1,
            "count": 4
           },
           {
            "bin_start": 5580.1,
            "bin_end": 9696.2,
            "count": 1
           },
           {
            "bin_start": 9696.2,
            "bin_end": 13812.300000000001,
            "count": 1
           },
           {
            "bin_start": 13812.300000000001,
            "bin_end": 17928.4,
            "count": 1
           },
           {
            "bin_start": 17928.4,
            "bin_end": 22044.5,
            "count": 0
           },
           {
            "bin_start": 22044.5,
            "bin_end": 26160.600000000002,
            "count": 0
           },
           {
            "bin_start": 26160.600000000002,
            "bin_end": 30276.700000000004,
            "count": 0
           },
           {
            "bin_start": 30276.700000000004,
            "bin_end": 34392.8,
            "count": 0
           },
           {
            "bin_start": 34392.8,
            "bin_end": 38508.9,
            "count": 0
           },
           {
            "bin_start": 38508.9,
            "bin_end": 42625,
            "count": 1
           }
          ]
         }
        },
        {
         "name": "_deepnote_index_column",
         "dtype": "int64"
        }
       ],
       "rows_top": [
        {
         "census_chapter": 1,
         "census_table": 1,
         "census_row": 1,
         "census_column": 1,
         "sector_desc": "ECONOMICS",
         "short_desc": "FARM OPERATIONS - NUMBER OF OPERATIONS",
         "commodity_desc": "FARM OPERATIONS",
         "agg_level_desc": "STATE",
         "state_fips_code": 5,
         "state_alpha": "AR",
         "state_name": "Arkansas",
         "county_code": "nan",
         "county_name": "nan",
         "domaincat_desc": "nan",
         "value": 42625,
         "_deepnote_index_column": 181
        },
        {
         "census_chapter": 1,
         "census_table": 1,
         "census_row": 8,
         "census_column": 1,
         "sector_desc": "ECONOMICS",
         "short_desc": "FARM OPERATIONS - NUMBER OF OPERATIONS",
         "commodity_desc": "FARM OPERATIONS",
         "agg_level_desc": "STATE",
         "state_fips_code": 5,
         "state_alpha": "AR",
         "state_name": "Arkansas",
         "county_code": "nan",
         "county_name": "nan",
         "domaincat_desc": "AREA OPERATED: (1.0 TO 9.9 ACRES)",
         "value": 2520,
         "_deepnote_index_column": 280
        },
        {
         "census_chapter": 1,
         "census_table": 1,
         "census_row": 10,
         "census_column": 1,
         "sector_desc": "ECONOMICS",
         "short_desc": "FARM OPERATIONS - NUMBER OF OPERATIONS",
         "commodity_desc": "FARM OPERATIONS",
         "agg_level_desc": "STATE",
         "state_fips_code": 5,
         "state_alpha": "AR",
         "state_name": "Arkansas",
         "county_code": "nan",
         "county_name": "nan",
         "domaincat_desc": "AREA OPERATED: (50 TO 179 ACRES)",
         "value": 14838,
         "_deepnote_index_column": 343
        },
        {
         "census_chapter": 1,
         "census_table": 1,
         "census_row": 11,
         "census_column": 1,
         "sector_desc": "ECONOMICS",
         "short_desc": "FARM OPERATIONS - NUMBER OF OPERATIONS",
         "commodity_desc": "FARM OPERATIONS",
         "agg_level_desc": "STATE",
         "state_fips_code": 5,
         "state_alpha": "AR",
         "state_name": "Arkansas",
         "county_code": "nan",
         "county_name": "nan",
         "domaincat_desc": "AREA OPERATED: (180 TO 499 ACRES)",
         "value": 8827,
         "_deepnote_index_column": 354
        },
        {
         "census_chapter": 1,
         "census_table": 1,
         "census_row": 9,
         "census_column": 1,
         "sector_desc": "ECONOMICS",
         "short_desc": "FARM OPERATIONS - NUMBER OF OPERATIONS",
         "commodity_desc": "FARM OPERATIONS",
         "agg_level_desc": "STATE",
         "state_fips_code": 5,
         "state_alpha": "AR",
         "state_name": "Arkansas",
         "county_code": "nan",
         "county_name": "nan",
         "domaincat_desc": "AREA OPERATED: (10.0 TO 49.9 ACRES)",
         "value": 10404,
         "_deepnote_index_column": 451
        },
        {
         "census_chapter": 1,
         "census_table": 1,
         "census_row": 12,
         "census_column": 1,
         "sector_desc": "ECONOMICS",
         "short_desc": "FARM OPERATIONS - NUMBER OF OPERATIONS",
         "commodity_desc": "FARM OPERATIONS",
         "agg_level_desc": "STATE",
         "state_fips_code": 5,
         "state_alpha": "AR",
         "state_name": "Arkansas",
         "county_code": "nan",
         "county_name": "nan",
         "domaincat_desc": "AREA OPERATED: (500 TO 999 ACRES)",
         "value": 2975,
         "_deepnote_index_column": 569
        },
        {
         "census_chapter": 1,
         "census_table": 1,
         "census_row": 14,
         "census_column": 1,
         "sector_desc": "ECONOMICS",
         "short_desc": "FARM OPERATIONS - NUMBER OF OPERATIONS",
         "commodity_desc": "FARM OPERATIONS",
         "agg_level_desc": "STATE",
         "state_fips_code": 5,
         "state_alpha": "AR",
         "state_name": "Arkansas",
         "county_code": "nan",
         "county_name": "nan",
         "domaincat_desc": "AREA OPERATED: (2,000 OR MORE ACRES)",
         "value": 1464,
         "_deepnote_index_column": 593
        },
        {
         "census_chapter": 1,
         "census_table": 1,
         "census_row": 13,
         "census_column": 1,
         "sector_desc": "ECONOMICS",
         "short_desc": "FARM OPERATIONS - NUMBER OF OPERATIONS",
         "commodity_desc": "FARM OPERATIONS",
         "agg_level_desc": "STATE",
         "state_fips_code": 5,
         "state_alpha": "AR",
         "state_name": "Arkansas",
         "county_code": "nan",
         "county_name": "nan",
         "domaincat_desc": "AREA OPERATED: (1,000 TO 1,999 ACRES)",
         "value": 1597,
         "_deepnote_index_column": 1588
        }
       ],
       "rows_bottom": null
      },
      "text/plain": "      census_chapter  census_table  census_row  census_column sector_desc  \\\n181                1             1           1              1   ECONOMICS   \n280                1             1           8              1   ECONOMICS   \n343                1             1          10              1   ECONOMICS   \n354                1             1          11              1   ECONOMICS   \n451                1             1           9              1   ECONOMICS   \n569                1             1          12              1   ECONOMICS   \n593                1             1          14              1   ECONOMICS   \n1588               1             1          13              1   ECONOMICS   \n\n                                  short_desc   commodity_desc agg_level_desc  \\\n181   FARM OPERATIONS - NUMBER OF OPERATIONS  FARM OPERATIONS          STATE   \n280   FARM OPERATIONS - NUMBER OF OPERATIONS  FARM OPERATIONS          STATE   \n343   FARM OPERATIONS - NUMBER OF OPERATIONS  FARM OPERATIONS          STATE   \n354   FARM OPERATIONS - NUMBER OF OPERATIONS  FARM OPERATIONS          STATE   \n451   FARM OPERATIONS - NUMBER OF OPERATIONS  FARM OPERATIONS          STATE   \n569   FARM OPERATIONS - NUMBER OF OPERATIONS  FARM OPERATIONS          STATE   \n593   FARM OPERATIONS - NUMBER OF OPERATIONS  FARM OPERATIONS          STATE   \n1588  FARM OPERATIONS - NUMBER OF OPERATIONS  FARM OPERATIONS          STATE   \n\n      state_fips_code state_alpha state_name  county_code  county_name  \\\n181                 5          AR   Arkansas          NaN          NaN   \n280                 5          AR   Arkansas          NaN          NaN   \n343                 5          AR   Arkansas          NaN          NaN   \n354                 5          AR   Arkansas          NaN          NaN   \n451                 5          AR   Arkansas          NaN          NaN   \n569                 5          AR   Arkansas          NaN          NaN   \n593                 5          AR   Arkansas          NaN          NaN   \n1588                5          AR   Arkansas          NaN          NaN   \n\n                             domaincat_desc  value  \n181                                     NaN  42625  \n280       AREA OPERATED: (1.0 TO 9.9 ACRES)   2520  \n343        AREA OPERATED: (50 TO 179 ACRES)  14838  \n354       AREA OPERATED: (180 TO 499 ACRES)   8827  \n451     AREA OPERATED: (10.0 TO 49.9 ACRES)  10404  \n569       AREA OPERATED: (500 TO 999 ACRES)   2975  \n593    AREA OPERATED: (2,000 OR MORE ACRES)   1464  \n1588  AREA OPERATED: (1,000 TO 1,999 ACRES)   1597  ",
      "text/html": "<div>\n<style scoped>\n    .dataframe tbody tr th:only-of-type {\n        vertical-align: middle;\n    }\n\n    .dataframe tbody tr th {\n        vertical-align: top;\n    }\n\n    .dataframe thead th {\n        text-align: right;\n    }\n</style>\n<table border=\"1\" class=\"dataframe\">\n  <thead>\n    <tr style=\"text-align: right;\">\n      <th></th>\n      <th>census_chapter</th>\n      <th>census_table</th>\n      <th>census_row</th>\n      <th>census_column</th>\n      <th>sector_desc</th>\n      <th>short_desc</th>\n      <th>commodity_desc</th>\n      <th>agg_level_desc</th>\n      <th>state_fips_code</th>\n      <th>state_alpha</th>\n      <th>state_name</th>\n      <th>county_code</th>\n      <th>county_name</th>\n      <th>domaincat_desc</th>\n      <th>value</th>\n    </tr>\n  </thead>\n  <tbody>\n    <tr>\n      <th>181</th>\n      <td>1</td>\n      <td>1</td>\n      <td>1</td>\n      <td>1</td>\n      <td>ECONOMICS</td>\n      <td>FARM OPERATIONS - NUMBER OF OPERATIONS</td>\n      <td>FARM OPERATIONS</td>\n      <td>STATE</td>\n      <td>5</td>\n      <td>AR</td>\n      <td>Arkansas</td>\n      <td>NaN</td>\n      <td>NaN</td>\n      <td>NaN</td>\n      <td>42625</td>\n    </tr>\n    <tr>\n      <th>280</th>\n      <td>1</td>\n      <td>1</td>\n      <td>8</td>\n      <td>1</td>\n      <td>ECONOMICS</td>\n      <td>FARM OPERATIONS - NUMBER OF OPERATIONS</td>\n      <td>FARM OPERATIONS</td>\n      <td>STATE</td>\n      <td>5</td>\n      <td>AR</td>\n      <td>Arkansas</td>\n      <td>NaN</td>\n      <td>NaN</td>\n      <td>AREA OPERATED: (1.0 TO 9.9 ACRES)</td>\n      <td>2520</td>\n    </tr>\n    <tr>\n      <th>343</th>\n      <td>1</td>\n      <td>1</td>\n      <td>10</td>\n      <td>1</td>\n      <td>ECONOMICS</td>\n      <td>FARM OPERATIONS - NUMBER OF OPERATIONS</td>\n      <td>FARM OPERATIONS</td>\n      <td>STATE</td>\n      <td>5</td>\n      <td>AR</td>\n      <td>Arkansas</td>\n      <td>NaN</td>\n      <td>NaN</td>\n      <td>AREA OPERATED: (50 TO 179 ACRES)</td>\n      <td>14838</td>\n    </tr>\n    <tr>\n      <th>354</th>\n      <td>1</td>\n      <td>1</td>\n      <td>11</td>\n      <td>1</td>\n      <td>ECONOMICS</td>\n      <td>FARM OPERATIONS - NUMBER OF OPERATIONS</td>\n      <td>FARM OPERATIONS</td>\n      <td>STATE</td>\n      <td>5</td>\n      <td>AR</td>\n      <td>Arkansas</td>\n      <td>NaN</td>\n      <td>NaN</td>\n      <td>AREA OPERATED: (180 TO 499 ACRES)</td>\n      <td>8827</td>\n    </tr>\n    <tr>\n      <th>451</th>\n      <td>1</td>\n      <td>1</td>\n      <td>9</td>\n      <td>1</td>\n      <td>ECONOMICS</td>\n      <td>FARM OPERATIONS - NUMBER OF OPERATIONS</td>\n      <td>FARM OPERATIONS</td>\n      <td>STATE</td>\n      <td>5</td>\n      <td>AR</td>\n      <td>Arkansas</td>\n      <td>NaN</td>\n      <td>NaN</td>\n      <td>AREA OPERATED: (10.0 TO 49.9 ACRES)</td>\n      <td>10404</td>\n    </tr>\n    <tr>\n      <th>569</th>\n      <td>1</td>\n      <td>1</td>\n      <td>12</td>\n      <td>1</td>\n      <td>ECONOMICS</td>\n      <td>FARM OPERATIONS - NUMBER OF OPERATIONS</td>\n      <td>FARM OPERATIONS</td>\n      <td>STATE</td>\n      <td>5</td>\n      <td>AR</td>\n      <td>Arkansas</td>\n      <td>NaN</td>\n      <td>NaN</td>\n      <td>AREA OPERATED: (500 TO 999 ACRES)</td>\n      <td>2975</td>\n    </tr>\n    <tr>\n      <th>593</th>\n      <td>1</td>\n      <td>1</td>\n      <td>14</td>\n      <td>1</td>\n      <td>ECONOMICS</td>\n      <td>FARM OPERATIONS - NUMBER OF OPERATIONS</td>\n      <td>FARM OPERATIONS</td>\n      <td>STATE</td>\n      <td>5</td>\n      <td>AR</td>\n      <td>Arkansas</td>\n      <td>NaN</td>\n      <td>NaN</td>\n      <td>AREA OPERATED: (2,000 OR MORE ACRES)</td>\n      <td>1464</td>\n    </tr>\n    <tr>\n      <th>1588</th>\n      <td>1</td>\n      <td>1</td>\n      <td>13</td>\n      <td>1</td>\n      <td>ECONOMICS</td>\n      <td>FARM OPERATIONS - NUMBER OF OPERATIONS</td>\n      <td>FARM OPERATIONS</td>\n      <td>STATE</td>\n      <td>5</td>\n      <td>AR</td>\n      <td>Arkansas</td>\n      <td>NaN</td>\n      <td>NaN</td>\n      <td>AREA OPERATED: (1,000 TO 1,999 ACRES)</td>\n      <td>1597</td>\n    </tr>\n  </tbody>\n</table>\n</div>"
     },
     "metadata": {}
    }
   ]
  },
  {
   "cell_type": "markdown",
   "source": "As can be seen above, there is one row for Arkansas that doesn't include a `domaincat_desc` value. On first glance it looks like this could be a total row. Let's double check that assumption.",
   "metadata": {
    "cell_id": "00009-79027627-7a0f-44db-8ed9-04438c8539ba",
    "tags": [],
    "deepnote_app_coordinates": {
     "x": 0,
     "y": 144,
     "w": 12,
     "h": 5
    },
    "deepnote_cell_type": "markdown"
   }
  },
  {
   "cell_type": "code",
   "metadata": {
    "cell_id": "00007-438fde06-38b3-4e9d-917f-c4868cc28490",
    "deepnote_output_heights": [
     173
    ],
    "deepnote_to_be_reexecuted": false,
    "execution_millis": 3,
    "execution_start": 1638928568554,
    "source_hash": "d4fbfc13",
    "tags": [],
    "deepnote_app_coordinates": {
     "x": 0,
     "y": 150,
     "w": 12,
     "h": 5
    },
    "deepnote_cell_type": "code"
   },
   "source": "no_domaincat_desc = num_farms_ark_df[\"domaincat_desc\"].isnull()\ntotal_farms_w_domaincat_desc = num_farms_ark_df.loc[no_domaincat_desc, \"value\"].sum()\ntotal_farms_no_domaincat_desc = num_farms_ark_df.loc[~no_domaincat_desc, \"value\"].sum()\nprint(\"Total number of farms that have a domaincat_desc value: \" + str(total_farms_w_domaincat_desc))\nprint(\"Total number of farms that don't have a domaincat_desc value: \" + str(total_farms_no_domaincat_desc))",
   "execution_count": 11,
   "outputs": [
    {
     "name": "stdout",
     "text": "Total number of farms that have a domaincat_desc value: 42625\nTotal number of farms that don't have a domaincat_desc value: 42625\n",
     "output_type": "stream"
    }
   ]
  },
  {
   "cell_type": "markdown",
   "source": "Now that I've verified that the rows without a `domaincat_desc` value are total rows, I can filter on these rows to get a table of state totals.",
   "metadata": {
    "cell_id": "00015-400aa372-d78f-4f5e-8b49-8091173b3874",
    "tags": [],
    "deepnote_app_coordinates": {
     "x": 0,
     "y": 156,
     "w": 12,
     "h": 5
    },
    "deepnote_cell_type": "markdown"
   }
  },
  {
   "cell_type": "code",
   "metadata": {
    "cell_id": "00015-b0cae09f-d87b-49a2-bf56-c24d9a0982b6",
    "deepnote_to_be_reexecuted": false,
    "execution_millis": 132,
    "execution_start": 1638928577041,
    "source_hash": "aa5aac58",
    "tags": [],
    "deepnote_output_heights": [
     611
    ],
    "deepnote_app_coordinates": {
     "x": 0,
     "y": 162,
     "w": 12,
     "h": 5
    },
    "deepnote_cell_type": "code"
   },
   "source": "only_totals_rows = num_farms_df[\"domaincat_desc\"].isnull()\nnum_farms_totals = num_farms_df.loc[only_totals_rows, [ \"state_name\", \"value\"]].sort_values([\"value\"], ascending=False)\nnum_farms_totals = num_farms_totals.iloc[1:]\nnum_farms_totals.columns = [\"State\", \"Number_of_Farms\"]\nnum_farms_totals.reset_index(inplace=True, drop=True)\n\nstyle_dataframe(\n    num_farms_totals,\n    title=\"Total # of Farms by State\",\n    column_names=[\"State\", \"Number of Farms\"],\n    heatmap=True\n)",
   "execution_count": 12,
   "outputs": [
    {
     "output_type": "execute_result",
     "execution_count": 12,
     "data": {
      "text/plain": "<pandas.io.formats.style.Styler at 0x7f8f496aecd0>",
      "text/html": "<style  type=\"text/css\" >\n#T_0cf29_row0_col1{\n            background-color:  #08306b;\n            color:  #f1f1f1;\n        }#T_0cf29_row1_col1{\n            background-color:  #9cc9e1;\n            color:  #000000;\n        }#T_0cf29_row2_col1{\n            background-color:  #a8cee4;\n            color:  #000000;\n        }#T_0cf29_row3_col1{\n            background-color:  #b2d2e8;\n            color:  #000000;\n        }#T_0cf29_row4_col1{\n            background-color:  #b3d3e8;\n            color:  #000000;\n        }#T_0cf29_row5_col1{\n            background-color:  #b5d4e9;\n            color:  #000000;\n        }#T_0cf29_row6_col1{\n            background-color:  #b9d6ea;\n            color:  #000000;\n        }#T_0cf29_row7_col1,#T_0cf29_row8_col1{\n            background-color:  #bdd7ec;\n            color:  #000000;\n        }#T_0cf29_row9_col1{\n            background-color:  #bed8ec;\n            color:  #000000;\n        }#T_0cf29_row10_col1{\n            background-color:  #c3daee;\n            color:  #000000;\n        }#T_0cf29_row11_col1{\n            background-color:  #caddf0;\n            color:  #000000;\n        }#T_0cf29_row12_col1{\n            background-color:  #cbdef1;\n            color:  #000000;\n        }#T_0cf29_row13_col1{\n            background-color:  #cee0f2;\n            color:  #000000;\n        }#T_0cf29_row14_col1,#T_0cf29_row15_col1{\n            background-color:  #d2e3f3;\n            color:  #000000;\n        }#T_0cf29_row16_col1{\n            background-color:  #d3e3f3;\n            color:  #000000;\n        }#T_0cf29_row17_col1{\n            background-color:  #d3e4f3;\n            color:  #000000;\n        }#T_0cf29_row18_col1,#T_0cf29_row19_col1{\n            background-color:  #d6e5f4;\n            color:  #000000;\n        }#T_0cf29_row20_col1{\n            background-color:  #d6e6f4;\n            color:  #000000;\n        }#T_0cf29_row21_col1{\n            background-color:  #d8e7f5;\n            color:  #000000;\n        }#T_0cf29_row22_col1{\n            background-color:  #d9e7f5;\n            color:  #000000;\n        }#T_0cf29_row23_col1{\n            background-color:  #dae8f6;\n            color:  #000000;\n        }#T_0cf29_row24_col1{\n            background-color:  #dbe9f6;\n            color:  #000000;\n        }#T_0cf29_row25_col1{\n            background-color:  #dce9f6;\n            color:  #000000;\n        }#T_0cf29_row26_col1{\n            background-color:  #ddeaf7;\n            color:  #000000;\n        }#T_0cf29_row27_col1{\n            background-color:  #e0ecf8;\n            color:  #000000;\n        }#T_0cf29_row28_col1{\n            background-color:  #e2edf8;\n            color:  #000000;\n        }#T_0cf29_row29_col1,#T_0cf29_row30_col1{\n            background-color:  #e3eef8;\n            color:  #000000;\n        }#T_0cf29_row31_col1,#T_0cf29_row32_col1,#T_0cf29_row33_col1{\n            background-color:  #e4eff9;\n            color:  #000000;\n        }#T_0cf29_row34_col1{\n            background-color:  #e5eff9;\n            color:  #000000;\n        }#T_0cf29_row35_col1,#T_0cf29_row36_col1{\n            background-color:  #e9f2fa;\n            color:  #000000;\n        }#T_0cf29_row37_col1,#T_0cf29_row38_col1{\n            background-color:  #eef5fc;\n            color:  #000000;\n        }#T_0cf29_row39_col1{\n            background-color:  #f0f6fd;\n            color:  #000000;\n        }#T_0cf29_row40_col1,#T_0cf29_row41_col1,#T_0cf29_row42_col1,#T_0cf29_row43_col1{\n            background-color:  #f2f8fd;\n            color:  #000000;\n        }#T_0cf29_row44_col1{\n            background-color:  #f4f9fe;\n            color:  #000000;\n        }#T_0cf29_row45_col1{\n            background-color:  #f5f9fe;\n            color:  #000000;\n        }#T_0cf29_row46_col1{\n            background-color:  #f5fafe;\n            color:  #000000;\n        }#T_0cf29_row47_col1{\n            background-color:  #f6faff;\n            color:  #000000;\n        }#T_0cf29_row48_col1,#T_0cf29_row49_col1{\n            background-color:  #f7fbff;\n            color:  #000000;\n        }</style><table id=\"T_0cf29_\" ><caption>Total # of Farms by State</caption><thead>    <tr>        <th class=\"blank level0\" ></th>        <th class=\"col_heading level0 col0\" >State</th>        <th class=\"col_heading level0 col1\" >Number of Farms</th>    </tr></thead><tbody>\n                <tr>\n                        <th id=\"T_0cf29_level0_row0\" class=\"row_heading level0 row0\" >0</th>\n                        <td id=\"T_0cf29_row0_col0\" class=\"data row0 col0\" >Texas</td>\n                        <td id=\"T_0cf29_row0_col1\" class=\"data row0 col1\" >248416</td>\n            </tr>\n            <tr>\n                        <th id=\"T_0cf29_level0_row1\" class=\"row_heading level0 row1\" >1</th>\n                        <td id=\"T_0cf29_row1_col0\" class=\"data row1 col0\" >Missouri</td>\n                        <td id=\"T_0cf29_row1_col1\" class=\"data row1 col1\" >95320</td>\n            </tr>\n            <tr>\n                        <th id=\"T_0cf29_level0_row2\" class=\"row_heading level0 row2\" >2</th>\n                        <td id=\"T_0cf29_row2_col0\" class=\"data row2 col0\" >Iowa</td>\n                        <td id=\"T_0cf29_row2_col1\" class=\"data row2 col1\" >86104</td>\n            </tr>\n            <tr>\n                        <th id=\"T_0cf29_level0_row3\" class=\"row_heading level0 row3\" >3</th>\n                        <td id=\"T_0cf29_row3_col0\" class=\"data row3 col0\" >Oklahoma</td>\n                        <td id=\"T_0cf29_row3_col1\" class=\"data row3 col1\" >78531</td>\n            </tr>\n            <tr>\n                        <th id=\"T_0cf29_level0_row4\" class=\"row_heading level0 row4\" >4</th>\n                        <td id=\"T_0cf29_row4_col0\" class=\"data row4 col0\" >Ohio</td>\n                        <td id=\"T_0cf29_row4_col1\" class=\"data row4 col1\" >77805</td>\n            </tr>\n            <tr>\n                        <th id=\"T_0cf29_level0_row5\" class=\"row_heading level0 row5\" >5</th>\n                        <td id=\"T_0cf29_row5_col0\" class=\"data row5 col0\" >Kentucky</td>\n                        <td id=\"T_0cf29_row5_col1\" class=\"data row5 col1\" >75966</td>\n            </tr>\n            <tr>\n                        <th id=\"T_0cf29_level0_row6\" class=\"row_heading level0 row6\" >6</th>\n                        <td id=\"T_0cf29_row6_col0\" class=\"data row6 col0\" >Illinois</td>\n                        <td id=\"T_0cf29_row6_col1\" class=\"data row6 col1\" >72651</td>\n            </tr>\n            <tr>\n                        <th id=\"T_0cf29_level0_row7\" class=\"row_heading level0 row7\" >7</th>\n                        <td id=\"T_0cf29_row7_col0\" class=\"data row7 col0\" >California</td>\n                        <td id=\"T_0cf29_row7_col1\" class=\"data row7 col1\" >70521</td>\n            </tr>\n            <tr>\n                        <th id=\"T_0cf29_level0_row8\" class=\"row_heading level0 row8\" >8</th>\n                        <td id=\"T_0cf29_row8_col0\" class=\"data row8 col0\" >Tennessee</td>\n                        <td id=\"T_0cf29_row8_col1\" class=\"data row8 col1\" >69983</td>\n            </tr>\n            <tr>\n                        <th id=\"T_0cf29_level0_row9\" class=\"row_heading level0 row9\" >9</th>\n                        <td id=\"T_0cf29_row9_col0\" class=\"data row9 col0\" >Minnesota</td>\n                        <td id=\"T_0cf29_row9_col1\" class=\"data row9 col1\" >68822</td>\n            </tr>\n            <tr>\n                        <th id=\"T_0cf29_level0_row10\" class=\"row_heading level0 row10\" >10</th>\n                        <td id=\"T_0cf29_row10_col0\" class=\"data row10 col0\" >Wisconsin</td>\n                        <td id=\"T_0cf29_row10_col1\" class=\"data row10 col1\" >64793</td>\n            </tr>\n            <tr>\n                        <th id=\"T_0cf29_level0_row11\" class=\"row_heading level0 row11\" >11</th>\n                        <td id=\"T_0cf29_row11_col0\" class=\"data row11 col0\" >Kansas</td>\n                        <td id=\"T_0cf29_row11_col1\" class=\"data row11 col1\" >58569</td>\n            </tr>\n            <tr>\n                        <th id=\"T_0cf29_level0_row12\" class=\"row_heading level0 row12\" >12</th>\n                        <td id=\"T_0cf29_row12_col0\" class=\"data row12 col0\" >Indiana</td>\n                        <td id=\"T_0cf29_row12_col1\" class=\"data row12 col1\" >56649</td>\n            </tr>\n            <tr>\n                        <th id=\"T_0cf29_level0_row13\" class=\"row_heading level0 row13\" >13</th>\n                        <td id=\"T_0cf29_row13_col0\" class=\"data row13 col0\" >Pennsylvania</td>\n                        <td id=\"T_0cf29_row13_col1\" class=\"data row13 col1\" >53157</td>\n            </tr>\n            <tr>\n                        <th id=\"T_0cf29_level0_row14\" class=\"row_heading level0 row14\" >14</th>\n                        <td id=\"T_0cf29_row14_col0\" class=\"data row14 col0\" >Michigan</td>\n                        <td id=\"T_0cf29_row14_col1\" class=\"data row14 col1\" >47641</td>\n            </tr>\n            <tr>\n                        <th id=\"T_0cf29_level0_row15\" class=\"row_heading level0 row15\" >15</th>\n                        <td id=\"T_0cf29_row15_col0\" class=\"data row15 col0\" >Florida</td>\n                        <td id=\"T_0cf29_row15_col1\" class=\"data row15 col1\" >47590</td>\n            </tr>\n            <tr>\n                        <th id=\"T_0cf29_level0_row16\" class=\"row_heading level0 row16\" >16</th>\n                        <td id=\"T_0cf29_row16_col0\" class=\"data row16 col0\" >North Carolina</td>\n                        <td id=\"T_0cf29_row16_col1\" class=\"data row16 col1\" >46418</td>\n            </tr>\n            <tr>\n                        <th id=\"T_0cf29_level0_row17\" class=\"row_heading level0 row17\" >17</th>\n                        <td id=\"T_0cf29_row17_col0\" class=\"data row17 col0\" >Nebraska</td>\n                        <td id=\"T_0cf29_row17_col1\" class=\"data row17 col1\" >46332</td>\n            </tr>\n            <tr>\n                        <th id=\"T_0cf29_level0_row18\" class=\"row_heading level0 row18\" >18</th>\n                        <td id=\"T_0cf29_row18_col0\" class=\"data row18 col0\" >Virginia</td>\n                        <td id=\"T_0cf29_row18_col1\" class=\"data row18 col1\" >43225</td>\n            </tr>\n            <tr>\n                        <th id=\"T_0cf29_level0_row19\" class=\"row_heading level0 row19\" >19</th>\n                        <td id=\"T_0cf29_row19_col0\" class=\"data row19 col0\" >Arkansas</td>\n                        <td id=\"T_0cf29_row19_col1\" class=\"data row19 col1\" >42625</td>\n            </tr>\n            <tr>\n                        <th id=\"T_0cf29_level0_row20\" class=\"row_heading level0 row20\" >20</th>\n                        <td id=\"T_0cf29_row20_col0\" class=\"data row20 col0\" >Georgia</td>\n                        <td id=\"T_0cf29_row20_col1\" class=\"data row20 col1\" >42439</td>\n            </tr>\n            <tr>\n                        <th id=\"T_0cf29_level0_row21\" class=\"row_heading level0 row21\" >21</th>\n                        <td id=\"T_0cf29_row21_col0\" class=\"data row21 col0\" >Alabama</td>\n                        <td id=\"T_0cf29_row21_col1\" class=\"data row21 col1\" >40592</td>\n            </tr>\n            <tr>\n                        <th id=\"T_0cf29_level0_row22\" class=\"row_heading level0 row22\" >22</th>\n                        <td id=\"T_0cf29_row22_col0\" class=\"data row22 col0\" >Colorado</td>\n                        <td id=\"T_0cf29_row22_col1\" class=\"data row22 col1\" >38893</td>\n            </tr>\n            <tr>\n                        <th id=\"T_0cf29_level0_row23\" class=\"row_heading level0 row23\" >23</th>\n                        <td id=\"T_0cf29_row23_col0\" class=\"data row23 col0\" >Oregon</td>\n                        <td id=\"T_0cf29_row23_col1\" class=\"data row23 col1\" >37616</td>\n            </tr>\n            <tr>\n                        <th id=\"T_0cf29_level0_row24\" class=\"row_heading level0 row24\" >24</th>\n                        <td id=\"T_0cf29_row24_col0\" class=\"data row24 col0\" >Washington</td>\n                        <td id=\"T_0cf29_row24_col1\" class=\"data row24 col1\" >35793</td>\n            </tr>\n            <tr>\n                        <th id=\"T_0cf29_level0_row25\" class=\"row_heading level0 row25\" >25</th>\n                        <td id=\"T_0cf29_row25_col0\" class=\"data row25 col0\" >Mississippi</td>\n                        <td id=\"T_0cf29_row25_col1\" class=\"data row25 col1\" >34988</td>\n            </tr>\n            <tr>\n                        <th id=\"T_0cf29_level0_row26\" class=\"row_heading level0 row26\" >26</th>\n                        <td id=\"T_0cf29_row26_col0\" class=\"data row26 col0\" >New York</td>\n                        <td id=\"T_0cf29_row26_col1\" class=\"data row26 col1\" >33438</td>\n            </tr>\n            <tr>\n                        <th id=\"T_0cf29_level0_row27\" class=\"row_heading level0 row27\" >27</th>\n                        <td id=\"T_0cf29_row27_col0\" class=\"data row27 col0\" >South Dakota</td>\n                        <td id=\"T_0cf29_row27_col1\" class=\"data row27 col1\" >29968</td>\n            </tr>\n            <tr>\n                        <th id=\"T_0cf29_level0_row28\" class=\"row_heading level0 row28\" >28</th>\n                        <td id=\"T_0cf29_row28_col0\" class=\"data row28 col0\" >Louisiana</td>\n                        <td id=\"T_0cf29_row28_col1\" class=\"data row28 col1\" >27386</td>\n            </tr>\n            <tr>\n                        <th id=\"T_0cf29_level0_row29\" class=\"row_heading level0 row29\" >29</th>\n                        <td id=\"T_0cf29_row29_col0\" class=\"data row29 col0\" >Montana</td>\n                        <td id=\"T_0cf29_row29_col1\" class=\"data row29 col1\" >27048</td>\n            </tr>\n            <tr>\n                        <th id=\"T_0cf29_level0_row30\" class=\"row_heading level0 row30\" >30</th>\n                        <td id=\"T_0cf29_row30_col0\" class=\"data row30 col0\" >North Dakota</td>\n                        <td id=\"T_0cf29_row30_col1\" class=\"data row30 col1\" >26364</td>\n            </tr>\n            <tr>\n                        <th id=\"T_0cf29_level0_row31\" class=\"row_heading level0 row31\" >31</th>\n                        <td id=\"T_0cf29_row31_col0\" class=\"data row31 col0\" >New Mexico</td>\n                        <td id=\"T_0cf29_row31_col1\" class=\"data row31 col1\" >25044</td>\n            </tr>\n            <tr>\n                        <th id=\"T_0cf29_level0_row32\" class=\"row_heading level0 row32\" >32</th>\n                        <td id=\"T_0cf29_row32_col0\" class=\"data row32 col0\" >Idaho</td>\n                        <td id=\"T_0cf29_row32_col1\" class=\"data row32 col1\" >24996</td>\n            </tr>\n            <tr>\n                        <th id=\"T_0cf29_level0_row33\" class=\"row_heading level0 row33\" >33</th>\n                        <td id=\"T_0cf29_row33_col0\" class=\"data row33 col0\" >South Carolina</td>\n                        <td id=\"T_0cf29_row33_col1\" class=\"data row33 col1\" >24791</td>\n            </tr>\n            <tr>\n                        <th id=\"T_0cf29_level0_row34\" class=\"row_heading level0 row34\" >34</th>\n                        <td id=\"T_0cf29_row34_col0\" class=\"data row34 col0\" >West Virginia</td>\n                        <td id=\"T_0cf29_row34_col1\" class=\"data row34 col1\" >23622</td>\n            </tr>\n            <tr>\n                        <th id=\"T_0cf29_level0_row35\" class=\"row_heading level0 row35\" >35</th>\n                        <td id=\"T_0cf29_row35_col0\" class=\"data row35 col0\" >Arizona</td>\n                        <td id=\"T_0cf29_row35_col1\" class=\"data row35 col1\" >19086</td>\n            </tr>\n            <tr>\n                        <th id=\"T_0cf29_level0_row36\" class=\"row_heading level0 row36\" >36</th>\n                        <td id=\"T_0cf29_row36_col0\" class=\"data row36 col0\" >Utah</td>\n                        <td id=\"T_0cf29_row36_col1\" class=\"data row36 col1\" >18409</td>\n            </tr>\n            <tr>\n                        <th id=\"T_0cf29_level0_row37\" class=\"row_heading level0 row37\" >37</th>\n                        <td id=\"T_0cf29_row37_col0\" class=\"data row37 col0\" >Maryland</td>\n                        <td id=\"T_0cf29_row37_col1\" class=\"data row37 col1\" >12429</td>\n            </tr>\n            <tr>\n                        <th id=\"T_0cf29_level0_row38\" class=\"row_heading level0 row38\" >38</th>\n                        <td id=\"T_0cf29_row38_col0\" class=\"data row38 col0\" >Wyoming</td>\n                        <td id=\"T_0cf29_row38_col1\" class=\"data row38 col1\" >11938</td>\n            </tr>\n            <tr>\n                        <th id=\"T_0cf29_level0_row39\" class=\"row_heading level0 row39\" >39</th>\n                        <td id=\"T_0cf29_row39_col0\" class=\"data row39 col0\" >New Jersey</td>\n                        <td id=\"T_0cf29_row39_col1\" class=\"data row39 col1\" >9883</td>\n            </tr>\n            <tr>\n                        <th id=\"T_0cf29_level0_row40\" class=\"row_heading level0 row40\" >40</th>\n                        <td id=\"T_0cf29_row40_col0\" class=\"data row40 col0\" >Maine</td>\n                        <td id=\"T_0cf29_row40_col1\" class=\"data row40 col1\" >7600</td>\n            </tr>\n            <tr>\n                        <th id=\"T_0cf29_level0_row41\" class=\"row_heading level0 row41\" >41</th>\n                        <td id=\"T_0cf29_row41_col0\" class=\"data row41 col0\" >Hawaii</td>\n                        <td id=\"T_0cf29_row41_col1\" class=\"data row41 col1\" >7328</td>\n            </tr>\n            <tr>\n                        <th id=\"T_0cf29_level0_row42\" class=\"row_heading level0 row42\" >42</th>\n                        <td id=\"T_0cf29_row42_col0\" class=\"data row42 col0\" >Massachusetts</td>\n                        <td id=\"T_0cf29_row42_col1\" class=\"data row42 col1\" >7241</td>\n            </tr>\n            <tr>\n                        <th id=\"T_0cf29_level0_row43\" class=\"row_heading level0 row43\" >43</th>\n                        <td id=\"T_0cf29_row43_col0\" class=\"data row43 col0\" >Vermont</td>\n                        <td id=\"T_0cf29_row43_col1\" class=\"data row43 col1\" >6808</td>\n            </tr>\n            <tr>\n                        <th id=\"T_0cf29_level0_row44\" class=\"row_heading level0 row44\" >44</th>\n                        <td id=\"T_0cf29_row44_col0\" class=\"data row44 col0\" >Connecticut</td>\n                        <td id=\"T_0cf29_row44_col1\" class=\"data row44 col1\" >5521</td>\n            </tr>\n            <tr>\n                        <th id=\"T_0cf29_level0_row45\" class=\"row_heading level0 row45\" >45</th>\n                        <td id=\"T_0cf29_row45_col0\" class=\"data row45 col0\" >New Hampshire</td>\n                        <td id=\"T_0cf29_row45_col1\" class=\"data row45 col1\" >4123</td>\n            </tr>\n            <tr>\n                        <th id=\"T_0cf29_level0_row46\" class=\"row_heading level0 row46\" >46</th>\n                        <td id=\"T_0cf29_row46_col0\" class=\"data row46 col0\" >Nevada</td>\n                        <td id=\"T_0cf29_row46_col1\" class=\"data row46 col1\" >3423</td>\n            </tr>\n            <tr>\n                        <th id=\"T_0cf29_level0_row47\" class=\"row_heading level0 row47\" >47</th>\n                        <td id=\"T_0cf29_row47_col0\" class=\"data row47 col0\" >Delaware</td>\n                        <td id=\"T_0cf29_row47_col1\" class=\"data row47 col1\" >2302</td>\n            </tr>\n            <tr>\n                        <th id=\"T_0cf29_level0_row48\" class=\"row_heading level0 row48\" >48</th>\n                        <td id=\"T_0cf29_row48_col0\" class=\"data row48 col0\" >Rhode Island</td>\n                        <td id=\"T_0cf29_row48_col1\" class=\"data row48 col1\" >1043</td>\n            </tr>\n            <tr>\n                        <th id=\"T_0cf29_level0_row49\" class=\"row_heading level0 row49\" >49</th>\n                        <td id=\"T_0cf29_row49_col0\" class=\"data row49 col0\" >Alaska</td>\n                        <td id=\"T_0cf29_row49_col1\" class=\"data row49 col1\" >990</td>\n            </tr>\n    </tbody></table>"
     },
     "metadata": {}
    }
   ]
  },
  {
   "cell_type": "markdown",
   "source": "Let's filter this down to just the top 5 states.",
   "metadata": {
    "cell_id": "00028-9da14c66-18f7-4fbc-a330-fefcdeb727c3",
    "deepnote_app_coordinates": {
     "x": 0,
     "y": 168,
     "w": 12,
     "h": 5
    },
    "deepnote_cell_type": "markdown"
   }
  },
  {
   "cell_type": "code",
   "metadata": {
    "cell_id": "00017-6359e8ec-ab9a-4a41-8864-893d08c970e5",
    "deepnote_to_be_reexecuted": false,
    "execution_millis": 21,
    "execution_start": 1638928705408,
    "source_hash": "399d6449",
    "tags": [],
    "deepnote_output_heights": [
     219
    ],
    "deepnote_app_coordinates": {
     "x": 0,
     "y": 174,
     "w": 12,
     "h": 5
    },
    "deepnote_cell_type": "code"
   },
   "source": "num_farms_totals[\"Percent_US_Total\"] = (\n    num_farms_totals[\"Number_of_Farms\"] / num_farms_totals[\"Number_of_Farms\"].sum()\n)\ntop_five_states = num_farms_totals.iloc[0:5]\n\nstyle_dataframe(\n    top_five_states,\n    title=\"Top 5 U.S. states - Number of Farms\",\n    column_names=[\"State\", \"Number of Farms\", \"Percent of U.S. Total\"],\n    percent_column_indexes=[2]\n)",
   "execution_count": 15,
   "outputs": [
    {
     "output_type": "execute_result",
     "execution_count": 15,
     "data": {
      "text/plain": "<pandas.io.formats.style.Styler at 0x7f8f48d4c210>",
      "text/html": "<style  type=\"text/css\" >\n</style><table id=\"T_738a8_\" ><caption>Top 5 U.S. states - Number of Farms</caption><thead>    <tr>        <th class=\"blank level0\" ></th>        <th class=\"col_heading level0 col0\" >State</th>        <th class=\"col_heading level0 col1\" >Number of Farms</th>        <th class=\"col_heading level0 col2\" >Percent of U.S. Total</th>    </tr></thead><tbody>\n                <tr>\n                        <th id=\"T_738a8_level0_row0\" class=\"row_heading level0 row0\" >0</th>\n                        <td id=\"T_738a8_row0_col0\" class=\"data row0 col0\" >Texas</td>\n                        <td id=\"T_738a8_row0_col1\" class=\"data row0 col1\" >248416</td>\n                        <td id=\"T_738a8_row0_col2\" class=\"data row0 col2\" >12.16%</td>\n            </tr>\n            <tr>\n                        <th id=\"T_738a8_level0_row1\" class=\"row_heading level0 row1\" >1</th>\n                        <td id=\"T_738a8_row1_col0\" class=\"data row1 col0\" >Missouri</td>\n                        <td id=\"T_738a8_row1_col1\" class=\"data row1 col1\" >95320</td>\n                        <td id=\"T_738a8_row1_col2\" class=\"data row1 col2\" >4.67%</td>\n            </tr>\n            <tr>\n                        <th id=\"T_738a8_level0_row2\" class=\"row_heading level0 row2\" >2</th>\n                        <td id=\"T_738a8_row2_col0\" class=\"data row2 col0\" >Iowa</td>\n                        <td id=\"T_738a8_row2_col1\" class=\"data row2 col1\" >86104</td>\n                        <td id=\"T_738a8_row2_col2\" class=\"data row2 col2\" >4.22%</td>\n            </tr>\n            <tr>\n                        <th id=\"T_738a8_level0_row3\" class=\"row_heading level0 row3\" >3</th>\n                        <td id=\"T_738a8_row3_col0\" class=\"data row3 col0\" >Oklahoma</td>\n                        <td id=\"T_738a8_row3_col1\" class=\"data row3 col1\" >78531</td>\n                        <td id=\"T_738a8_row3_col2\" class=\"data row3 col2\" >3.85%</td>\n            </tr>\n            <tr>\n                        <th id=\"T_738a8_level0_row4\" class=\"row_heading level0 row4\" >4</th>\n                        <td id=\"T_738a8_row4_col0\" class=\"data row4 col0\" >Ohio</td>\n                        <td id=\"T_738a8_row4_col1\" class=\"data row4 col1\" >77805</td>\n                        <td id=\"T_738a8_row4_col2\" class=\"data row4 col2\" >3.81%</td>\n            </tr>\n    </tbody></table>"
     },
     "metadata": {}
    }
   ]
  },
  {
   "cell_type": "markdown",
   "source": "In addition to viewing the state totals in a table, let's plot out the results in a map format.",
   "metadata": {
    "cell_id": "00006-07bca7ad-04bd-4bd9-9698-3f8e6d1f5983",
    "tags": [],
    "deepnote_app_coordinates": {
     "x": 0,
     "y": 180,
     "w": 12,
     "h": 5
    },
    "deepnote_cell_type": "markdown"
   }
  },
  {
   "cell_type": "code",
   "metadata": {
    "cell_id": "00019-bc3d6b54-0a15-410d-92d1-d26a29a0c152",
    "deepnote_output_heights": [
     212
    ],
    "deepnote_to_be_reexecuted": false,
    "execution_millis": 412,
    "execution_start": 1638832371198,
    "source_hash": "78fa5ff7",
    "tags": [],
    "deepnote_app_coordinates": {
     "x": 0,
     "y": 186,
     "w": 12,
     "h": 5
    },
    "deepnote_cell_type": "code"
   },
   "source": "plot_map(num_farms_totals, \"State\", \"Number_of_Farms\", title=\"Total # of Farms per State\")",
   "execution_count": null,
   "outputs": [
    {
     "data": {
      "text/plain": "<Figure size 432x288 with 1 Axes>",
      "image/png": "[encoded data removed]"
     },
     "metadata": {
      "needs_background": "light",
      "image/png": {
       "width": 349,
       "height": 210
      }
     },
     "output_type": "display_data"
    }
   ]
  },
  {
   "cell_type": "markdown",
   "source": "From this map and the previous table, we can see that Texas has far and away the most farms of any state in the U.S. with over 12% of the nation total.\n\nOne question that immediately comes to my mind though, is what this map would look like if we took a look at # of farms ***per capita***. This could really show us which states are \"farm states\" as opposed to states that just have a large population in general. ",
   "metadata": {
    "cell_id": "00020-9646eed5-1415-4be3-9d96-df1b357fc01c",
    "tags": [],
    "deepnote_app_coordinates": {
     "x": 0,
     "y": 192,
     "w": 12,
     "h": 5
    },
    "deepnote_cell_type": "markdown"
   }
  },
  {
   "cell_type": "markdown",
   "source": "In order to calculate a per capita figure, I'll pulll in census data on population estimates that can be found [here](https://www2.census.gov/programs-surveys/popest/tables/2010-2019/state/totals/).",
   "metadata": {
    "cell_id": "00033-6bcf3d9c-a380-4b69-a1ab-d20c339cfcc2",
    "deepnote_app_coordinates": {
     "x": 0,
     "y": 198,
     "w": 12,
     "h": 5
    },
    "deepnote_cell_type": "markdown"
   }
  },
  {
   "cell_type": "code",
   "metadata": {
    "cell_id": "00021-a1c0af5f-fdd4-4326-b6e4-439efad17e76",
    "deepnote_output_heights": [
     611
    ],
    "deepnote_to_be_reexecuted": false,
    "execution_millis": 461,
    "execution_start": 1638832509005,
    "source_hash": "589d9174",
    "tags": [],
    "deepnote_app_coordinates": {
     "x": 0,
     "y": 204,
     "w": 12,
     "h": 5
    },
    "deepnote_cell_type": "code"
   },
   "source": "# Reading in census data on population estimates\nstate_pop_df_raw = pd.read_excel(\n    \"https://www2.census.gov/programs-surveys/popest/tables/2010-2019/state/totals/nst-est2019-01.xlsx\"\n)\nrows_to_drop = [0 , 1, 2] + list(range(3,8)) + list(range(59, 66))\n\nnew_header_row = state_pop_df_raw.iloc[2].copy()\nnew_header_row[0] = \"State\"\n\nstate_pop_df = state_pop_df_raw.drop(rows_to_drop)\nstate_pop_df.columns = new_header_row\nstate_pop_df[\"State\"] = state_pop_df[\"State\"].str.replace(\".\", \"\", regex=True)\nstate_pop_df.reset_index(drop=True, inplace=True)\n\npopulation_2017 = state_pop_df[[\"State\", 2017]]\npopulation_2017.columns = [\"State\",  \"Population\"]\n\n# Previewing the first 5 rows of the df\npopulation_2017.head()",
   "execution_count": null,
   "outputs": [
    {
     "output_type": "execute_result",
     "execution_count": 30,
     "data": {
      "application/vnd.deepnote.dataframe.v2+json": {
       "row_count": 5,
       "column_count": 2,
       "columns": [
        {
         "name": "State",
         "dtype": "object",
         "stats": {
          "unique_count": 5,
          "nan_count": 0,
          "categories": [
           {
            "name": "Alabama",
            "count": 1
           },
           {
            "name": "Alaska",
            "count": 1
           },
           {
            "name": "3 others",
            "count": 3
           }
          ]
         }
        },
        {
         "name": "Population",
         "dtype": "float64",
         "stats": {
          "unique_count": 5,
          "nan_count": 0,
          "min": "739700.0",
          "max": "39358497.0",
          "histogram": [
           {
            "bin_start": 739700,
            "bin_end": 4601579.7,
            "count": 2
           },
           {
            "bin_start": 4601579.7,
            "bin_end": 8463459.4,
            "count": 2
           },
           {
            "bin_start": 8463459.4,
            "bin_end": 12325339.100000001,
            "count": 0
           },
           {
            "bin_start": 12325339.100000001,
            "bin_end": 16187218.8,
            "count": 0
           },
           {
            "bin_start": 16187218.8,
            "bin_end": 20049098.5,
            "count": 0
           },
           {
            "bin_start": 20049098.5,
            "bin_end": 23910978.200000003,
            "count": 0
           },
           {
            "bin_start": 23910978.200000003,
            "bin_end": 27772857.900000002,
            "count": 0
           },
           {
            "bin_start": 27772857.900000002,
            "bin_end": 31634737.6,
            "count": 0
           },
           {
            "bin_start": 31634737.6,
            "bin_end": 35496617.300000004,
            "count": 0
           },
           {
            "bin_start": 35496617.300000004,
            "bin_end": 39358497,
            "count": 1
           }
          ]
         }
        },
        {
         "name": "_deepnote_index_column",
         "dtype": "int64"
        }
       ],
       "rows_top": [
        {
         "State": "Alabama",
         "Population": 4874486,
         "_deepnote_index_column": 0
        },
        {
         "State": "Alaska",
         "Population": 739700,
         "_deepnote_index_column": 1
        },
        {
         "State": "Arizona",
         "Population": 7044008,
         "_deepnote_index_column": 2
        },
        {
         "State": "Arkansas",
         "Population": 3001345,
         "_deepnote_index_column": 3
        },
        {
         "State": "California",
         "Population": 39358497,
         "_deepnote_index_column": 4
        }
       ],
       "rows_bottom": null
      },
      "text/plain": "        State  Population\n0     Alabama   4874486.0\n1      Alaska    739700.0\n2     Arizona   7044008.0\n3    Arkansas   3001345.0\n4  California  39358497.0",
      "text/html": "<div>\n<style scoped>\n    .dataframe tbody tr th:only-of-type {\n        vertical-align: middle;\n    }\n\n    .dataframe tbody tr th {\n        vertical-align: top;\n    }\n\n    .dataframe thead th {\n        text-align: right;\n    }\n</style>\n<table border=\"1\" class=\"dataframe\">\n  <thead>\n    <tr style=\"text-align: right;\">\n      <th></th>\n      <th>State</th>\n      <th>Population</th>\n    </tr>\n  </thead>\n  <tbody>\n    <tr>\n      <th>0</th>\n      <td>Alabama</td>\n      <td>4874486.0</td>\n    </tr>\n    <tr>\n      <th>1</th>\n      <td>Alaska</td>\n      <td>739700.0</td>\n    </tr>\n    <tr>\n      <th>2</th>\n      <td>Arizona</td>\n      <td>7044008.0</td>\n    </tr>\n    <tr>\n      <th>3</th>\n      <td>Arkansas</td>\n      <td>3001345.0</td>\n    </tr>\n    <tr>\n      <th>4</th>\n      <td>California</td>\n      <td>39358497.0</td>\n    </tr>\n  </tbody>\n</table>\n</div>"
     },
     "metadata": {}
    }
   ]
  },
  {
   "cell_type": "markdown",
   "source": "Now we can merge this new population data with our `num_farms_totals` dataframe.",
   "metadata": {
    "cell_id": "00023-3d430c8c-0e15-48e8-b049-ee6e2d234f40",
    "tags": [],
    "deepnote_app_coordinates": {
     "x": 0,
     "y": 210,
     "w": 12,
     "h": 5
    },
    "deepnote_cell_type": "markdown"
   }
  },
  {
   "cell_type": "code",
   "metadata": {
    "cell_id": "00023-dd56aa84-ec34-4a3c-86a8-44d913dd96b0",
    "deepnote_to_be_reexecuted": false,
    "execution_millis": 1016,
    "execution_start": 1638832511515,
    "source_hash": "51bef8a2",
    "tags": [],
    "deepnote_output_heights": [
     607
    ],
    "deepnote_app_coordinates": {
     "x": 0,
     "y": 216,
     "w": 12,
     "h": 5
    },
    "deepnote_cell_type": "code"
   },
   "source": "farms_per_capita = num_farms_totals.merge(population_2017, how=\"left\", left_on=\"State\", right_on=\"State\")\nfarms_per_capita[\"Farms_per_1000_people\"] = farms_per_capita[\"Number_of_Farms\"] / (farms_per_capita[\"Population\"]/1000)\nfarms_per_capita.sort_values(\"Farms_per_1000_people\", inplace=True, ascending=False)\nfarms_per_capita[\"Population\"] = farms_per_capita[\"Population\"].astype(int)\nfarms_per_capita.reset_index(drop=True, inplace=True)\n\nstyle_dataframe(\n    farms_per_capita,\n    title=\"Number of Farms per capita by State\",\n    column_names=[\"State\", \"Number of Farms\", \"Percent of U.S. Total\", \"State Population\", \"Farms per 1000 people\"],\n    percent_column_indexes=[2],\n    heatmap=True,\n    heatmap_subset=[\"Farms_per_1000_people\"]\n)",
   "execution_count": null,
   "outputs": [
    {
     "output_type": "execute_result",
     "execution_count": 31,
     "data": {
      "text/plain": "<pandas.io.formats.style.Styler at 0x7f85ba395610>",
      "text/html": "<style  type=\"text/css\" >\n#T_a3516_row0_col4{\n            background-color:  #08306b;\n            color:  #f1f1f1;\n        }#T_a3516_row1_col4{\n            background-color:  #083471;\n            color:  #f1f1f1;\n        }#T_a3516_row2_col4{\n            background-color:  #1b69af;\n            color:  #f1f1f1;\n        }#T_a3516_row3_col4{\n            background-color:  #2676b8;\n            color:  #000000;\n        }#T_a3516_row4_col4{\n            background-color:  #3383be;\n            color:  #000000;\n        }#T_a3516_row5_col4{\n            background-color:  #519ccc;\n            color:  #000000;\n        }#T_a3516_row6_col4{\n            background-color:  #56a0ce;\n            color:  #000000;\n        }#T_a3516_row7_col4{\n            background-color:  #57a0ce;\n            color:  #000000;\n        }#T_a3516_row8_col4{\n            background-color:  #75b4d8;\n            color:  #000000;\n        }#T_a3516_row9_col4{\n            background-color:  #87bddc;\n            color:  #000000;\n        }#T_a3516_row10_col4{\n            background-color:  #94c4df;\n            color:  #000000;\n        }#T_a3516_row11_col4{\n            background-color:  #99c7e0;\n            color:  #000000;\n        }#T_a3516_row12_col4{\n            background-color:  #a5cde3;\n            color:  #000000;\n        }#T_a3516_row13_col4{\n            background-color:  #abd0e6;\n            color:  #000000;\n        }#T_a3516_row14_col4{\n            background-color:  #afd1e7;\n            color:  #000000;\n        }#T_a3516_row15_col4{\n            background-color:  #b2d2e8;\n            color:  #000000;\n        }#T_a3516_row16_col4{\n            background-color:  #b7d4ea;\n            color:  #000000;\n        }#T_a3516_row17_col4{\n            background-color:  #b9d6ea;\n            color:  #000000;\n        }#T_a3516_row18_col4{\n            background-color:  #bdd7ec;\n            color:  #000000;\n        }#T_a3516_row19_col4{\n            background-color:  #c8dcf0;\n            color:  #000000;\n        }#T_a3516_row20_col4{\n            background-color:  #cadef0;\n            color:  #000000;\n        }#T_a3516_row21_col4{\n            background-color:  #ccdff1;\n            color:  #000000;\n        }#T_a3516_row22_col4{\n            background-color:  #cddff1;\n            color:  #000000;\n        }#T_a3516_row23_col4{\n            background-color:  #d5e5f4;\n            color:  #000000;\n        }#T_a3516_row24_col4{\n            background-color:  #d6e6f4;\n            color:  #000000;\n        }#T_a3516_row25_col4{\n            background-color:  #dae8f6;\n            color:  #000000;\n        }#T_a3516_row26_col4{\n            background-color:  #dbe9f6;\n            color:  #000000;\n        }#T_a3516_row27_col4,#T_a3516_row28_col4{\n            background-color:  #dce9f6;\n            color:  #000000;\n        }#T_a3516_row29_col4,#T_a3516_row30_col4{\n            background-color:  #dfebf7;\n            color:  #000000;\n        }#T_a3516_row31_col4{\n            background-color:  #e0ecf8;\n            color:  #000000;\n        }#T_a3516_row32_col4,#T_a3516_row33_col4{\n            background-color:  #e1edf8;\n            color:  #000000;\n        }#T_a3516_row34_col4{\n            background-color:  #e3eef8;\n            color:  #000000;\n        }#T_a3516_row35_col4,#T_a3516_row36_col4{\n            background-color:  #e5eff9;\n            color:  #000000;\n        }#T_a3516_row37_col4{\n            background-color:  #ebf3fb;\n            color:  #000000;\n        }#T_a3516_row38_col4{\n            background-color:  #eef5fc;\n            color:  #000000;\n        }#T_a3516_row39_col4{\n            background-color:  #eff6fc;\n            color:  #000000;\n        }#T_a3516_row40_col4{\n            background-color:  #f0f6fd;\n            color:  #000000;\n        }#T_a3516_row41_col4{\n            background-color:  #f1f7fd;\n            color:  #000000;\n        }#T_a3516_row42_col4{\n            background-color:  #f2f8fd;\n            color:  #000000;\n        }#T_a3516_row43_col4{\n            background-color:  #f3f8fe;\n            color:  #000000;\n        }#T_a3516_row44_col4{\n            background-color:  #f4f9fe;\n            color:  #000000;\n        }#T_a3516_row45_col4{\n            background-color:  #f5fafe;\n            color:  #000000;\n        }#T_a3516_row46_col4{\n            background-color:  #f6faff;\n            color:  #000000;\n        }#T_a3516_row47_col4,#T_a3516_row48_col4,#T_a3516_row49_col4{\n            background-color:  #f7fbff;\n            color:  #000000;\n        }</style><table id=\"T_a3516_\" ><caption>Number of Farms per capita by State</caption><thead>    <tr>        <th class=\"blank level0\" ></th>        <th class=\"col_heading level0 col0\" >State</th>        <th class=\"col_heading level0 col1\" >Number of Farms</th>        <th class=\"col_heading level0 col2\" >Percent of U.S. Total</th>        <th class=\"col_heading level0 col3\" >State Population</th>        <th class=\"col_heading level0 col4\" >Farms per 1000 people</th>    </tr></thead><tbody>\n                <tr>\n                        <th id=\"T_a3516_level0_row0\" class=\"row_heading level0 row0\" >0</th>\n                        <td id=\"T_a3516_row0_col0\" class=\"data row0 col0\" >North Dakota</td>\n                        <td id=\"T_a3516_row0_col1\" class=\"data row0 col1\" >26364</td>\n                        <td id=\"T_a3516_row0_col2\" class=\"data row0 col2\" >1.29%</td>\n                        <td id=\"T_a3516_row0_col3\" class=\"data row0 col3\" >754942</td>\n                        <td id=\"T_a3516_row0_col4\" class=\"data row0 col4\" >34.921888</td>\n            </tr>\n            <tr>\n                        <th id=\"T_a3516_level0_row1\" class=\"row_heading level0 row1\" >1</th>\n                        <td id=\"T_a3516_row1_col0\" class=\"data row1 col0\" >South Dakota</td>\n                        <td id=\"T_a3516_row1_col1\" class=\"data row1 col1\" >29968</td>\n                        <td id=\"T_a3516_row1_col2\" class=\"data row1 col2\" >1.47%</td>\n                        <td id=\"T_a3516_row1_col3\" class=\"data row1 col3\" >872868</td>\n                        <td id=\"T_a3516_row1_col4\" class=\"data row1 col4\" >34.332797</td>\n            </tr>\n            <tr>\n                        <th id=\"T_a3516_level0_row2\" class=\"row_heading level0 row2\" >2</th>\n                        <td id=\"T_a3516_row2_col0\" class=\"data row2 col0\" >Iowa</td>\n                        <td id=\"T_a3516_row2_col1\" class=\"data row2 col1\" >86104</td>\n                        <td id=\"T_a3516_row2_col2\" class=\"data row2 col2\" >4.22%</td>\n                        <td id=\"T_a3516_row2_col3\" class=\"data row2 col3\" >3141550</td>\n                        <td id=\"T_a3516_row2_col4\" class=\"data row2 col4\" >27.408127</td>\n            </tr>\n            <tr>\n                        <th id=\"T_a3516_level0_row3\" class=\"row_heading level0 row3\" >3</th>\n                        <td id=\"T_a3516_row3_col0\" class=\"data row3 col0\" >Montana</td>\n                        <td id=\"T_a3516_row3_col1\" class=\"data row3 col1\" >27048</td>\n                        <td id=\"T_a3516_row3_col2\" class=\"data row3 col2\" >1.32%</td>\n                        <td id=\"T_a3516_row3_col3\" class=\"data row3 col3\" >1052482</td>\n                        <td id=\"T_a3516_row3_col4\" class=\"data row3 col4\" >25.699252</td>\n            </tr>\n            <tr>\n                        <th id=\"T_a3516_level0_row4\" class=\"row_heading level0 row4\" >4</th>\n                        <td id=\"T_a3516_row4_col0\" class=\"data row4 col0\" >Nebraska</td>\n                        <td id=\"T_a3516_row4_col1\" class=\"data row4 col1\" >46332</td>\n                        <td id=\"T_a3516_row4_col2\" class=\"data row4 col2\" >2.27%</td>\n                        <td id=\"T_a3516_row4_col3\" class=\"data row4 col3\" >1915947</td>\n                        <td id=\"T_a3516_row4_col4\" class=\"data row4 col4\" >24.182297</td>\n            </tr>\n            <tr>\n                        <th id=\"T_a3516_level0_row5\" class=\"row_heading level0 row5\" >5</th>\n                        <td id=\"T_a3516_row5_col0\" class=\"data row5 col0\" >Wyoming</td>\n                        <td id=\"T_a3516_row5_col1\" class=\"data row5 col1\" >11938</td>\n                        <td id=\"T_a3516_row5_col2\" class=\"data row5 col2\" >0.58%</td>\n                        <td id=\"T_a3516_row5_col3\" class=\"data row5 col3\" >578931</td>\n                        <td id=\"T_a3516_row5_col4\" class=\"data row5 col4\" >20.620765</td>\n            </tr>\n            <tr>\n                        <th id=\"T_a3516_level0_row6\" class=\"row_heading level0 row6\" >6</th>\n                        <td id=\"T_a3516_row6_col0\" class=\"data row6 col0\" >Kansas</td>\n                        <td id=\"T_a3516_row6_col1\" class=\"data row6 col1\" >58569</td>\n                        <td id=\"T_a3516_row6_col2\" class=\"data row6 col2\" >2.87%</td>\n                        <td id=\"T_a3516_row6_col3\" class=\"data row6 col3\" >2908718</td>\n                        <td id=\"T_a3516_row6_col4\" class=\"data row6 col4\" >20.135675</td>\n            </tr>\n            <tr>\n                        <th id=\"T_a3516_level0_row7\" class=\"row_heading level0 row7\" >7</th>\n                        <td id=\"T_a3516_row7_col0\" class=\"data row7 col0\" >Oklahoma</td>\n                        <td id=\"T_a3516_row7_col1\" class=\"data row7 col1\" >78531</td>\n                        <td id=\"T_a3516_row7_col2\" class=\"data row7 col2\" >3.85%</td>\n                        <td id=\"T_a3516_row7_col3\" class=\"data row7 col3\" >3931316</td>\n                        <td id=\"T_a3516_row7_col4\" class=\"data row7 col4\" >19.975754</td>\n            </tr>\n            <tr>\n                        <th id=\"T_a3516_level0_row8\" class=\"row_heading level0 row8\" >8</th>\n                        <td id=\"T_a3516_row8_col0\" class=\"data row8 col0\" >Kentucky</td>\n                        <td id=\"T_a3516_row8_col1\" class=\"data row8 col1\" >75966</td>\n                        <td id=\"T_a3516_row8_col2\" class=\"data row8 col2\" >3.72%</td>\n                        <td id=\"T_a3516_row8_col3\" class=\"data row8 col3\" >4452268</td>\n                        <td id=\"T_a3516_row8_col4\" class=\"data row8 col4\" >17.062315</td>\n            </tr>\n            <tr>\n                        <th id=\"T_a3516_level0_row9\" class=\"row_heading level0 row9\" >9</th>\n                        <td id=\"T_a3516_row9_col0\" class=\"data row9 col0\" >Missouri</td>\n                        <td id=\"T_a3516_row9_col1\" class=\"data row9 col1\" >95320</td>\n                        <td id=\"T_a3516_row9_col2\" class=\"data row9 col2\" >4.67%</td>\n                        <td id=\"T_a3516_row9_col3\" class=\"data row9 col3\" >6106670</td>\n                        <td id=\"T_a3516_row9_col4\" class=\"data row9 col4\" >15.609162</td>\n            </tr>\n            <tr>\n                        <th id=\"T_a3516_level0_row10\" class=\"row_heading level0 row10\" >10</th>\n                        <td id=\"T_a3516_row10_col0\" class=\"data row10 col0\" >Idaho</td>\n                        <td id=\"T_a3516_row10_col1\" class=\"data row10 col1\" >24996</td>\n                        <td id=\"T_a3516_row10_col2\" class=\"data row10 col2\" >1.22%</td>\n                        <td id=\"T_a3516_row10_col3\" class=\"data row10 col3\" >1717715</td>\n                        <td id=\"T_a3516_row10_col4\" class=\"data row10 col4\" >14.551890</td>\n            </tr>\n            <tr>\n                        <th id=\"T_a3516_level0_row11\" class=\"row_heading level0 row11\" >11</th>\n                        <td id=\"T_a3516_row11_col0\" class=\"data row11 col0\" >Arkansas</td>\n                        <td id=\"T_a3516_row11_col1\" class=\"data row11 col1\" >42625</td>\n                        <td id=\"T_a3516_row11_col2\" class=\"data row11 col2\" >2.09%</td>\n                        <td id=\"T_a3516_row11_col3\" class=\"data row11 col3\" >3001345</td>\n                        <td id=\"T_a3516_row11_col4\" class=\"data row11 col4\" >14.201966</td>\n            </tr>\n            <tr>\n                        <th id=\"T_a3516_level0_row12\" class=\"row_heading level0 row12\" >12</th>\n                        <td id=\"T_a3516_row12_col0\" class=\"data row12 col0\" >West Virginia</td>\n                        <td id=\"T_a3516_row12_col1\" class=\"data row12 col1\" >23622</td>\n                        <td id=\"T_a3516_row12_col2\" class=\"data row12 col2\" >1.16%</td>\n                        <td id=\"T_a3516_row12_col3\" class=\"data row12 col3\" >1817004</td>\n                        <td id=\"T_a3516_row12_col4\" class=\"data row12 col4\" >13.000522</td>\n            </tr>\n            <tr>\n                        <th id=\"T_a3516_level0_row13\" class=\"row_heading level0 row13\" >13</th>\n                        <td id=\"T_a3516_row13_col0\" class=\"data row13 col0\" >Minnesota</td>\n                        <td id=\"T_a3516_row13_col1\" class=\"data row13 col1\" >68822</td>\n                        <td id=\"T_a3516_row13_col2\" class=\"data row13 col2\" >3.37%</td>\n                        <td id=\"T_a3516_row13_col3\" class=\"data row13 col3\" >5566230</td>\n                        <td id=\"T_a3516_row13_col4\" class=\"data row13 col4\" >12.364203</td>\n            </tr>\n            <tr>\n                        <th id=\"T_a3516_level0_row14\" class=\"row_heading level0 row14\" >14</th>\n                        <td id=\"T_a3516_row14_col0\" class=\"data row14 col0\" >New Mexico</td>\n                        <td id=\"T_a3516_row14_col1\" class=\"data row14 col1\" >25044</td>\n                        <td id=\"T_a3516_row14_col2\" class=\"data row14 col2\" >1.23%</td>\n                        <td id=\"T_a3516_row14_col3\" class=\"data row14 col3\" >2091784</td>\n                        <td id=\"T_a3516_row14_col4\" class=\"data row14 col4\" >11.972555</td>\n            </tr>\n            <tr>\n                        <th id=\"T_a3516_level0_row15\" class=\"row_heading level0 row15\" >15</th>\n                        <td id=\"T_a3516_row15_col0\" class=\"data row15 col0\" >Mississippi</td>\n                        <td id=\"T_a3516_row15_col1\" class=\"data row15 col1\" >34988</td>\n                        <td id=\"T_a3516_row15_col2\" class=\"data row15 col2\" >1.71%</td>\n                        <td id=\"T_a3516_row15_col3\" class=\"data row15 col3\" >2988510</td>\n                        <td id=\"T_a3516_row15_col4\" class=\"data row15 col4\" >11.707506</td>\n            </tr>\n            <tr>\n                        <th id=\"T_a3516_level0_row16\" class=\"row_heading level0 row16\" >16</th>\n                        <td id=\"T_a3516_row16_col0\" class=\"data row16 col0\" >Wisconsin</td>\n                        <td id=\"T_a3516_row16_col1\" class=\"data row16 col1\" >64793</td>\n                        <td id=\"T_a3516_row16_col2\" class=\"data row16 col2\" >3.17%</td>\n                        <td id=\"T_a3516_row16_col3\" class=\"data row16 col3\" >5790186</td>\n                        <td id=\"T_a3516_row16_col4\" class=\"data row16 col4\" >11.190141</td>\n            </tr>\n            <tr>\n                        <th id=\"T_a3516_level0_row17\" class=\"row_heading level0 row17\" >17</th>\n                        <td id=\"T_a3516_row17_col0\" class=\"data row17 col0\" >Vermont</td>\n                        <td id=\"T_a3516_row17_col1\" class=\"data row17 col1\" >6808</td>\n                        <td id=\"T_a3516_row17_col2\" class=\"data row17 col2\" >0.33%</td>\n                        <td id=\"T_a3516_row17_col3\" class=\"data row17 col3\" >624344</td>\n                        <td id=\"T_a3516_row17_col4\" class=\"data row17 col4\" >10.904245</td>\n            </tr>\n            <tr>\n                        <th id=\"T_a3516_level0_row18\" class=\"row_heading level0 row18\" >18</th>\n                        <td id=\"T_a3516_row18_col0\" class=\"data row18 col0\" >Tennessee</td>\n                        <td id=\"T_a3516_row18_col1\" class=\"data row18 col1\" >69983</td>\n                        <td id=\"T_a3516_row18_col2\" class=\"data row18 col2\" >3.43%</td>\n                        <td id=\"T_a3516_row18_col3\" class=\"data row18 col3\" >6708799</td>\n                        <td id=\"T_a3516_row18_col4\" class=\"data row18 col4\" >10.431524</td>\n            </tr>\n            <tr>\n                        <th id=\"T_a3516_level0_row19\" class=\"row_heading level0 row19\" >19</th>\n                        <td id=\"T_a3516_row19_col0\" class=\"data row19 col0\" >Oregon</td>\n                        <td id=\"T_a3516_row19_col1\" class=\"data row19 col1\" >37616</td>\n                        <td id=\"T_a3516_row19_col2\" class=\"data row19 col2\" >1.84%</td>\n                        <td id=\"T_a3516_row19_col3\" class=\"data row19 col3\" >4143625</td>\n                        <td id=\"T_a3516_row19_col4\" class=\"data row19 col4\" >9.078042</td>\n            </tr>\n            <tr>\n                        <th id=\"T_a3516_level0_row20\" class=\"row_heading level0 row20\" >20</th>\n                        <td id=\"T_a3516_row20_col0\" class=\"data row20 col0\" >Texas</td>\n                        <td id=\"T_a3516_row20_col1\" class=\"data row20 col1\" >248416</td>\n                        <td id=\"T_a3516_row20_col2\" class=\"data row20 col2\" >12.16%</td>\n                        <td id=\"T_a3516_row20_col3\" class=\"data row20 col3\" >28295273</td>\n                        <td id=\"T_a3516_row20_col4\" class=\"data row20 col4\" >8.779417</td>\n            </tr>\n            <tr>\n                        <th id=\"T_a3516_level0_row21\" class=\"row_heading level0 row21\" >21</th>\n                        <td id=\"T_a3516_row21_col0\" class=\"data row21 col0\" >Indiana</td>\n                        <td id=\"T_a3516_row21_col1\" class=\"data row21 col1\" >56649</td>\n                        <td id=\"T_a3516_row21_col2\" class=\"data row21 col2\" >2.77%</td>\n                        <td id=\"T_a3516_row21_col3\" class=\"data row21 col3\" >6658078</td>\n                        <td id=\"T_a3516_row21_col4\" class=\"data row21 col4\" >8.508311</td>\n            </tr>\n            <tr>\n                        <th id=\"T_a3516_level0_row22\" class=\"row_heading level0 row22\" >22</th>\n                        <td id=\"T_a3516_row22_col0\" class=\"data row22 col0\" >Alabama</td>\n                        <td id=\"T_a3516_row22_col1\" class=\"data row22 col1\" >40592</td>\n                        <td id=\"T_a3516_row22_col2\" class=\"data row22 col2\" >1.99%</td>\n                        <td id=\"T_a3516_row22_col3\" class=\"data row22 col3\" >4874486</td>\n                        <td id=\"T_a3516_row22_col4\" class=\"data row22 col4\" >8.327442</td>\n            </tr>\n            <tr>\n                        <th id=\"T_a3516_level0_row23\" class=\"row_heading level0 row23\" >23</th>\n                        <td id=\"T_a3516_row23_col0\" class=\"data row23 col0\" >Colorado</td>\n                        <td id=\"T_a3516_row23_col1\" class=\"data row23 col1\" >38893</td>\n                        <td id=\"T_a3516_row23_col2\" class=\"data row23 col2\" >1.90%</td>\n                        <td id=\"T_a3516_row23_col3\" class=\"data row23 col3\" >5611885</td>\n                        <td id=\"T_a3516_row23_col4\" class=\"data row23 col4\" >6.930470</td>\n            </tr>\n            <tr>\n                        <th id=\"T_a3516_level0_row24\" class=\"row_heading level0 row24\" >24</th>\n                        <td id=\"T_a3516_row24_col0\" class=\"data row24 col0\" >Ohio</td>\n                        <td id=\"T_a3516_row24_col1\" class=\"data row24 col1\" >77805</td>\n                        <td id=\"T_a3516_row24_col2\" class=\"data row24 col2\" >3.81%</td>\n                        <td id=\"T_a3516_row24_col3\" class=\"data row24 col3\" >11659650</td>\n                        <td id=\"T_a3516_row24_col4\" class=\"data row24 col4\" >6.673013</td>\n            </tr>\n            <tr>\n                        <th id=\"T_a3516_level0_row25\" class=\"row_heading level0 row25\" >25</th>\n                        <td id=\"T_a3516_row25_col0\" class=\"data row25 col0\" >Utah</td>\n                        <td id=\"T_a3516_row25_col1\" class=\"data row25 col1\" >18409</td>\n                        <td id=\"T_a3516_row25_col2\" class=\"data row25 col2\" >0.90%</td>\n                        <td id=\"T_a3516_row25_col3\" class=\"data row25 col3\" >3101042</td>\n                        <td id=\"T_a3516_row25_col4\" class=\"data row25 col4\" >5.936392</td>\n            </tr>\n            <tr>\n                        <th id=\"T_a3516_level0_row26\" class=\"row_heading level0 row26\" >26</th>\n                        <td id=\"T_a3516_row26_col0\" class=\"data row26 col0\" >Louisiana</td>\n                        <td id=\"T_a3516_row26_col1\" class=\"data row26 col1\" >27386</td>\n                        <td id=\"T_a3516_row26_col2\" class=\"data row26 col2\" >1.34%</td>\n                        <td id=\"T_a3516_row26_col3\" class=\"data row26 col3\" >4670560</td>\n                        <td id=\"T_a3516_row26_col4\" class=\"data row26 col4\" >5.863537</td>\n            </tr>\n            <tr>\n                        <th id=\"T_a3516_level0_row27\" class=\"row_heading level0 row27\" >27</th>\n                        <td id=\"T_a3516_row27_col0\" class=\"data row27 col0\" >Maine</td>\n                        <td id=\"T_a3516_row27_col1\" class=\"data row27 col1\" >7600</td>\n                        <td id=\"T_a3516_row27_col2\" class=\"data row27 col2\" >0.37%</td>\n                        <td id=\"T_a3516_row27_col3\" class=\"data row27 col3\" >1334612</td>\n                        <td id=\"T_a3516_row27_col4\" class=\"data row27 col4\" >5.694539</td>\n            </tr>\n            <tr>\n                        <th id=\"T_a3516_level0_row28\" class=\"row_heading level0 row28\" >28</th>\n                        <td id=\"T_a3516_row28_col0\" class=\"data row28 col0\" >Illinois</td>\n                        <td id=\"T_a3516_row28_col1\" class=\"data row28 col1\" >72651</td>\n                        <td id=\"T_a3516_row28_col2\" class=\"data row28 col2\" >3.56%</td>\n                        <td id=\"T_a3516_row28_col3\" class=\"data row28 col3\" >12778828</td>\n                        <td id=\"T_a3516_row28_col4\" class=\"data row28 col4\" >5.685263</td>\n            </tr>\n            <tr>\n                        <th id=\"T_a3516_level0_row29\" class=\"row_heading level0 row29\" >29</th>\n                        <td id=\"T_a3516_row29_col0\" class=\"data row29 col0\" >Hawaii</td>\n                        <td id=\"T_a3516_row29_col1\" class=\"data row29 col1\" >7328</td>\n                        <td id=\"T_a3516_row29_col2\" class=\"data row29 col2\" >0.36%</td>\n                        <td id=\"T_a3516_row29_col3\" class=\"data row29 col3\" >1424393</td>\n                        <td id=\"T_a3516_row29_col4\" class=\"data row29 col4\" >5.144648</td>\n            </tr>\n            <tr>\n                        <th id=\"T_a3516_level0_row30\" class=\"row_heading level0 row30\" >30</th>\n                        <td id=\"T_a3516_row30_col0\" class=\"data row30 col0\" >Virginia</td>\n                        <td id=\"T_a3516_row30_col1\" class=\"data row30 col1\" >43225</td>\n                        <td id=\"T_a3516_row30_col2\" class=\"data row30 col2\" >2.12%</td>\n                        <td id=\"T_a3516_row30_col3\" class=\"data row30 col3\" >8463587</td>\n                        <td id=\"T_a3516_row30_col4\" class=\"data row30 col4\" >5.107173</td>\n            </tr>\n            <tr>\n                        <th id=\"T_a3516_level0_row31\" class=\"row_heading level0 row31\" >31</th>\n                        <td id=\"T_a3516_row31_col0\" class=\"data row31 col0\" >South Carolina</td>\n                        <td id=\"T_a3516_row31_col1\" class=\"data row31 col1\" >24791</td>\n                        <td id=\"T_a3516_row31_col2\" class=\"data row31 col2\" >1.21%</td>\n                        <td id=\"T_a3516_row31_col3\" class=\"data row31 col3\" >5021268</td>\n                        <td id=\"T_a3516_row31_col4\" class=\"data row31 col4\" >4.937199</td>\n            </tr>\n            <tr>\n                        <th id=\"T_a3516_level0_row32\" class=\"row_heading level0 row32\" >32</th>\n                        <td id=\"T_a3516_row32_col0\" class=\"data row32 col0\" >Washington</td>\n                        <td id=\"T_a3516_row32_col1\" class=\"data row32 col1\" >35793</td>\n                        <td id=\"T_a3516_row32_col2\" class=\"data row32 col2\" >1.75%</td>\n                        <td id=\"T_a3516_row32_col3\" class=\"data row32 col3\" >7423362</td>\n                        <td id=\"T_a3516_row32_col4\" class=\"data row32 col4\" >4.821670</td>\n            </tr>\n            <tr>\n                        <th id=\"T_a3516_level0_row33\" class=\"row_heading level0 row33\" >33</th>\n                        <td id=\"T_a3516_row33_col0\" class=\"data row33 col0\" >Michigan</td>\n                        <td id=\"T_a3516_row33_col1\" class=\"data row33 col1\" >47641</td>\n                        <td id=\"T_a3516_row33_col2\" class=\"data row33 col2\" >2.33%</td>\n                        <td id=\"T_a3516_row33_col3\" class=\"data row33 col3\" >9973114</td>\n                        <td id=\"T_a3516_row33_col4\" class=\"data row33 col4\" >4.776943</td>\n            </tr>\n            <tr>\n                        <th id=\"T_a3516_level0_row34\" class=\"row_heading level0 row34\" >34</th>\n                        <td id=\"T_a3516_row34_col0\" class=\"data row34 col0\" >North Carolina</td>\n                        <td id=\"T_a3516_row34_col1\" class=\"data row34 col1\" >46418</td>\n                        <td id=\"T_a3516_row34_col2\" class=\"data row34 col2\" >2.27%</td>\n                        <td id=\"T_a3516_row34_col3\" class=\"data row34 col3\" >10268233</td>\n                        <td id=\"T_a3516_row34_col4\" class=\"data row34 col4\" >4.520544</td>\n            </tr>\n            <tr>\n                        <th id=\"T_a3516_level0_row35\" class=\"row_heading level0 row35\" >35</th>\n                        <td id=\"T_a3516_row35_col0\" class=\"data row35 col0\" >Pennsylvania</td>\n                        <td id=\"T_a3516_row35_col1\" class=\"data row35 col1\" >53157</td>\n                        <td id=\"T_a3516_row35_col2\" class=\"data row35 col2\" >2.60%</td>\n                        <td id=\"T_a3516_row35_col3\" class=\"data row35 col3\" >12787641</td>\n                        <td id=\"T_a3516_row35_col4\" class=\"data row35 col4\" >4.156904</td>\n            </tr>\n            <tr>\n                        <th id=\"T_a3516_level0_row36\" class=\"row_heading level0 row36\" >36</th>\n                        <td id=\"T_a3516_row36_col0\" class=\"data row36 col0\" >Georgia</td>\n                        <td id=\"T_a3516_row36_col1\" class=\"data row36 col1\" >42439</td>\n                        <td id=\"T_a3516_row36_col2\" class=\"data row36 col2\" >2.08%</td>\n                        <td id=\"T_a3516_row36_col3\" class=\"data row36 col3\" >10410330</td>\n                        <td id=\"T_a3516_row36_col4\" class=\"data row36 col4\" >4.076624</td>\n            </tr>\n            <tr>\n                        <th id=\"T_a3516_level0_row37\" class=\"row_heading level0 row37\" >37</th>\n                        <td id=\"T_a3516_row37_col0\" class=\"data row37 col0\" >New Hampshire</td>\n                        <td id=\"T_a3516_row37_col1\" class=\"data row37 col1\" >4123</td>\n                        <td id=\"T_a3516_row37_col2\" class=\"data row37 col2\" >0.20%</td>\n                        <td id=\"T_a3516_row37_col3\" class=\"data row37 col3\" >1348787</td>\n                        <td id=\"T_a3516_row37_col4\" class=\"data row37 col4\" >3.056821</td>\n            </tr>\n            <tr>\n                        <th id=\"T_a3516_level0_row38\" class=\"row_heading level0 row38\" >38</th>\n                        <td id=\"T_a3516_row38_col0\" class=\"data row38 col0\" >Arizona</td>\n                        <td id=\"T_a3516_row38_col1\" class=\"data row38 col1\" >19086</td>\n                        <td id=\"T_a3516_row38_col2\" class=\"data row38 col2\" >0.93%</td>\n                        <td id=\"T_a3516_row38_col3\" class=\"data row38 col3\" >7044008</td>\n                        <td id=\"T_a3516_row38_col4\" class=\"data row38 col4\" >2.709537</td>\n            </tr>\n            <tr>\n                        <th id=\"T_a3516_level0_row39\" class=\"row_heading level0 row39\" >39</th>\n                        <td id=\"T_a3516_row39_col0\" class=\"data row39 col0\" >Delaware</td>\n                        <td id=\"T_a3516_row39_col1\" class=\"data row39 col1\" >2302</td>\n                        <td id=\"T_a3516_row39_col2\" class=\"data row39 col2\" >0.11%</td>\n                        <td id=\"T_a3516_row39_col3\" class=\"data row39 col3\" >956823</td>\n                        <td id=\"T_a3516_row39_col4\" class=\"data row39 col4\" >2.405879</td>\n            </tr>\n            <tr>\n                        <th id=\"T_a3516_level0_row40\" class=\"row_heading level0 row40\" >40</th>\n                        <td id=\"T_a3516_row40_col0\" class=\"data row40 col0\" >Florida</td>\n                        <td id=\"T_a3516_row40_col1\" class=\"data row40 col1\" >47590</td>\n                        <td id=\"T_a3516_row40_col2\" class=\"data row40 col2\" >2.33%</td>\n                        <td id=\"T_a3516_row40_col3\" class=\"data row40 col3\" >20963613</td>\n                        <td id=\"T_a3516_row40_col4\" class=\"data row40 col4\" >2.270124</td>\n            </tr>\n            <tr>\n                        <th id=\"T_a3516_level0_row41\" class=\"row_heading level0 row41\" >41</th>\n                        <td id=\"T_a3516_row41_col0\" class=\"data row41 col0\" >Maryland</td>\n                        <td id=\"T_a3516_row41_col1\" class=\"data row41 col1\" >12429</td>\n                        <td id=\"T_a3516_row41_col2\" class=\"data row41 col2\" >0.61%</td>\n                        <td id=\"T_a3516_row41_col3\" class=\"data row41 col3\" >6023868</td>\n                        <td id=\"T_a3516_row41_col4\" class=\"data row41 col4\" >2.063292</td>\n            </tr>\n            <tr>\n                        <th id=\"T_a3516_level0_row42\" class=\"row_heading level0 row42\" >42</th>\n                        <td id=\"T_a3516_row42_col0\" class=\"data row42 col0\" >California</td>\n                        <td id=\"T_a3516_row42_col1\" class=\"data row42 col1\" >70521</td>\n                        <td id=\"T_a3516_row42_col2\" class=\"data row42 col2\" >3.45%</td>\n                        <td id=\"T_a3516_row42_col3\" class=\"data row42 col3\" >39358497</td>\n                        <td id=\"T_a3516_row42_col4\" class=\"data row42 col4\" >1.791760</td>\n            </tr>\n            <tr>\n                        <th id=\"T_a3516_level0_row43\" class=\"row_heading level0 row43\" >43</th>\n                        <td id=\"T_a3516_row43_col0\" class=\"data row43 col0\" >New York</td>\n                        <td id=\"T_a3516_row43_col1\" class=\"data row43 col1\" >33438</td>\n                        <td id=\"T_a3516_row43_col2\" class=\"data row43 col2\" >1.64%</td>\n                        <td id=\"T_a3516_row43_col3\" class=\"data row43 col3\" >19589572</td>\n                        <td id=\"T_a3516_row43_col4\" class=\"data row43 col4\" >1.706929</td>\n            </tr>\n            <tr>\n                        <th id=\"T_a3516_level0_row44\" class=\"row_heading level0 row44\" >44</th>\n                        <td id=\"T_a3516_row44_col0\" class=\"data row44 col0\" >Connecticut</td>\n                        <td id=\"T_a3516_row44_col1\" class=\"data row44 col1\" >5521</td>\n                        <td id=\"T_a3516_row44_col2\" class=\"data row44 col2\" >0.27%</td>\n                        <td id=\"T_a3516_row44_col3\" class=\"data row44 col3\" >3573297</td>\n                        <td id=\"T_a3516_row44_col4\" class=\"data row44 col4\" >1.545072</td>\n            </tr>\n            <tr>\n                        <th id=\"T_a3516_level0_row45\" class=\"row_heading level0 row45\" >45</th>\n                        <td id=\"T_a3516_row45_col0\" class=\"data row45 col0\" >Alaska</td>\n                        <td id=\"T_a3516_row45_col1\" class=\"data row45 col1\" >990</td>\n                        <td id=\"T_a3516_row45_col2\" class=\"data row45 col2\" >0.05%</td>\n                        <td id=\"T_a3516_row45_col3\" class=\"data row45 col3\" >739700</td>\n                        <td id=\"T_a3516_row45_col4\" class=\"data row45 col4\" >1.338380</td>\n            </tr>\n            <tr>\n                        <th id=\"T_a3516_level0_row46\" class=\"row_heading level0 row46\" >46</th>\n                        <td id=\"T_a3516_row46_col0\" class=\"data row46 col0\" >Nevada</td>\n                        <td id=\"T_a3516_row46_col1\" class=\"data row46 col1\" >3423</td>\n                        <td id=\"T_a3516_row46_col2\" class=\"data row46 col2\" >0.17%</td>\n                        <td id=\"T_a3516_row46_col3\" class=\"data row46 col3\" >2969905</td>\n                        <td id=\"T_a3516_row46_col4\" class=\"data row46 col4\" >1.152562</td>\n            </tr>\n            <tr>\n                        <th id=\"T_a3516_level0_row47\" class=\"row_heading level0 row47\" >47</th>\n                        <td id=\"T_a3516_row47_col0\" class=\"data row47 col0\" >New Jersey</td>\n                        <td id=\"T_a3516_row47_col1\" class=\"data row47 col1\" >9883</td>\n                        <td id=\"T_a3516_row47_col2\" class=\"data row47 col2\" >0.48%</td>\n                        <td id=\"T_a3516_row47_col3\" class=\"data row47 col3\" >8885525</td>\n                        <td id=\"T_a3516_row47_col4\" class=\"data row47 col4\" >1.112258</td>\n            </tr>\n            <tr>\n                        <th id=\"T_a3516_level0_row48\" class=\"row_heading level0 row48\" >48</th>\n                        <td id=\"T_a3516_row48_col0\" class=\"data row48 col0\" >Massachusetts</td>\n                        <td id=\"T_a3516_row48_col1\" class=\"data row48 col1\" >7241</td>\n                        <td id=\"T_a3516_row48_col2\" class=\"data row48 col2\" >0.35%</td>\n                        <td id=\"T_a3516_row48_col3\" class=\"data row48 col3\" >6859789</td>\n                        <td id=\"T_a3516_row48_col4\" class=\"data row48 col4\" >1.055572</td>\n            </tr>\n            <tr>\n                        <th id=\"T_a3516_level0_row49\" class=\"row_heading level0 row49\" >49</th>\n                        <td id=\"T_a3516_row49_col0\" class=\"data row49 col0\" >Rhode Island</td>\n                        <td id=\"T_a3516_row49_col1\" class=\"data row49 col1\" >1043</td>\n                        <td id=\"T_a3516_row49_col2\" class=\"data row49 col2\" >0.05%</td>\n                        <td id=\"T_a3516_row49_col3\" class=\"data row49 col3\" >1055673</td>\n                        <td id=\"T_a3516_row49_col4\" class=\"data row49 col4\" >0.987995</td>\n            </tr>\n    </tbody></table>"
     },
     "metadata": {}
    }
   ]
  },
  {
   "cell_type": "code",
   "metadata": {
    "cell_id": "00026-328d4255-f55c-4b37-94d3-b525c07fcd87",
    "deepnote_output_heights": [
     212
    ],
    "deepnote_to_be_reexecuted": false,
    "execution_millis": 685,
    "execution_start": 1638832525256,
    "source_hash": "ebb2831",
    "tags": [],
    "deepnote_app_coordinates": {
     "x": 0,
     "y": 222,
     "w": 12,
     "h": 5
    },
    "deepnote_cell_type": "code"
   },
   "source": "plot_map(farms_per_capita, \"State\", \"Farms_per_1000_people\", title=\"# of Farms per Capita per State\")",
   "execution_count": null,
   "outputs": [
    {
     "data": {
      "text/plain": "<Figure size 432x288 with 1 Axes>",
      "image/png": "[encoded data removed]"
     },
     "metadata": {
      "needs_background": "light",
      "image/png": {
       "width": 349,
       "height": 210
      }
     },
     "output_type": "display_data"
    }
   ]
  },
  {
   "cell_type": "markdown",
   "source": "Looking at the data on a per-capita basis shows a different side of the story. While states like Montana, Wyoming, and the Dakotas don't have a large amount of farms on an absolute level, farm saturation is at higher levels than most other states.\n\nIt's interesting to note that **Iowa** is 3rd place on the absolute list of number of farms ***and*** 3rd place on the per-capita list.",
   "metadata": {
    "cell_id": "00027-f8b65aa3-c6ae-4244-b026-eb4b85989bc7",
    "tags": [],
    "deepnote_app_coordinates": {
     "x": 0,
     "y": 228,
     "w": 12,
     "h": 5
    },
    "deepnote_cell_type": "markdown"
   }
  },
  {
   "cell_type": "markdown",
   "source": "### Farm size\nNext I turn my attention to the geographic size of U.S. farms as measured in acres.",
   "metadata": {
    "cell_id": "00028-4cf0b065-cb1a-41b4-873f-993156c756ee",
    "tags": [],
    "deepnote_app_coordinates": {
     "x": 0,
     "y": 234,
     "w": 12,
     "h": 5
    },
    "deepnote_cell_type": "markdown"
   }
  },
  {
   "cell_type": "code",
   "metadata": {
    "cell_id": "00040-589008f9-009b-4bbf-932a-f49f88e7a295",
    "deepnote_to_be_reexecuted": false,
    "source_hash": "fe465df2",
    "execution_start": 1638929374682,
    "execution_millis": 1,
    "deepnote_app_coordinates": {
     "x": 0,
     "y": 240,
     "w": 12,
     "h": 5
    },
    "deepnote_cell_type": "code"
   },
   "source": "farm_size_conversions = {\n    \"AREA OPERATED: (500 TO 999 ACRES)\": [\"500-999\", 5],\n    \"AREA OPERATED: (50 TO 179 ACRES)\": [\"50-179\", 3],\n    \"AREA OPERATED: (180 TO 499 ACRES)\": [\"180-599\", 4],\n    \"AREA OPERATED: (10.0 TO 49.9 ACRES)\": [\"10-49.9\", 2],\n    \"AREA OPERATED: (1.0 TO 9.9 ACRES)\": [\"1-9.9\", 1],\n    \"AREA OPERATED: (1,000 TO 1,999 ACRES)\": [\"1k-1,999\", 6],\n    \"AREA OPERATED: (2,000 OR MORE ACRES)\": [\"2k+\", 7],\n}",
   "execution_count": 16,
   "outputs": []
  },
  {
   "cell_type": "code",
   "metadata": {
    "cell_id": "00028-fac0fa57-68d0-425e-a220-c070e3969d0b",
    "deepnote_to_be_reexecuted": false,
    "execution_millis": 1,
    "execution_start": 1638929376089,
    "source_hash": "bca133d7",
    "tags": [],
    "deepnote_output_heights": [
     277
    ],
    "deepnote_app_coordinates": {
     "x": 0,
     "y": 246,
     "w": 12,
     "h": 5
    },
    "deepnote_cell_type": "code"
   },
   "source": "farm_sizes_df = num_farms_df.loc[\n    (num_farms_df[\"agg_level_desc\"] == \"NATIONAL\") & \n    (~num_farms_df[\"domaincat_desc\"].isnull()), \n    [\"domaincat_desc\", \"value\"]\n    ].copy()\n\nfarm_sizes_df[\"farm_size_value\"] = farm_sizes_df[\"domaincat_desc\"].apply(lambda x: farm_size_conversions.get(x)[1])\n\nfarm_sizes_df = farm_sizes_df.sort_values(\"farm_size_value\").reset_index(drop=True)\nfarm_sizes_df = farm_sizes_df.drop(columns=[\"farm_size_value\"])\nfarm_sizes_df.columns = [\"Farm_Size_Acres\", \"Number_of_Farms\"]\nfarm_sizes_df[\"Farm_Size_Acres\"] = farm_sizes_df[\"Farm_Size_Acres\"].apply(lambda x: farm_size_conversions.get(x)[0])\n\nstyle_dataframe(\n    farm_sizes_df,\n    title=\"Number of Farms by Size in Acres\",\n    column_names=[\"Farm Size in Acres\", \"Number of Farms\"],\n    heatmap=True\n)",
   "execution_count": 17,
   "outputs": [
    {
     "output_type": "execute_result",
     "execution_count": 17,
     "data": {
      "text/plain": "<pandas.io.formats.style.Styler at 0x7f8f48e30410>",
      "text/html": "<style  type=\"text/css\" >\n#T_b8fbc_row0_col1{\n            background-color:  #9dcae1;\n            color:  #000000;\n        }#T_b8fbc_row1_col1{\n            background-color:  #08306b;\n            color:  #f1f1f1;\n        }#T_b8fbc_row2_col1{\n            background-color:  #083979;\n            color:  #f1f1f1;\n        }#T_b8fbc_row3_col1{\n            background-color:  #7ab6d9;\n            color:  #000000;\n        }#T_b8fbc_row4_col1{\n            background-color:  #e4eff9;\n            color:  #000000;\n        }#T_b8fbc_row5_col1{\n            background-color:  #f6faff;\n            color:  #000000;\n        }#T_b8fbc_row6_col1{\n            background-color:  #f7fbff;\n            color:  #000000;\n        }</style><table id=\"T_b8fbc_\" ><caption>Number of Farms by Size in Acres</caption><thead>    <tr>        <th class=\"blank level0\" ></th>        <th class=\"col_heading level0 col0\" >Farm Size in Acres</th>        <th class=\"col_heading level0 col1\" >Number of Farms</th>    </tr></thead><tbody>\n                <tr>\n                        <th id=\"T_b8fbc_level0_row0\" class=\"row_heading level0 row0\" >0</th>\n                        <td id=\"T_b8fbc_row0_col0\" class=\"data row0 col0\" >1-9.9</td>\n                        <td id=\"T_b8fbc_row0_col1\" class=\"data row0 col1\" >273325</td>\n            </tr>\n            <tr>\n                        <th id=\"T_b8fbc_level0_row1\" class=\"row_heading level0 row1\" >1</th>\n                        <td id=\"T_b8fbc_row1_col0\" class=\"data row1 col0\" >10-49.9</td>\n                        <td id=\"T_b8fbc_row1_col1\" class=\"data row1 col1\" >583001</td>\n            </tr>\n            <tr>\n                        <th id=\"T_b8fbc_level0_row2\" class=\"row_heading level0 row2\" >2</th>\n                        <td id=\"T_b8fbc_row2_col0\" class=\"data row2 col0\" >50-179</td>\n                        <td id=\"T_b8fbc_row2_col1\" class=\"data row2 col1\" >564763</td>\n            </tr>\n            <tr>\n                        <th id=\"T_b8fbc_level0_row3\" class=\"row_heading level0 row3\" >3</th>\n                        <td id=\"T_b8fbc_row3_col0\" class=\"data row3 col0\" >180-599</td>\n                        <td id=\"T_b8fbc_row3_col1\" class=\"data row3 col1\" >315017</td>\n            </tr>\n            <tr>\n                        <th id=\"T_b8fbc_level0_row4\" class=\"row_heading level0 row4\" >4</th>\n                        <td id=\"T_b8fbc_row4_col0\" class=\"data row4 col0\" >500-999</td>\n                        <td id=\"T_b8fbc_row4_col1\" class=\"data row4 col1\" >133321</td>\n            </tr>\n            <tr>\n                        <th id=\"T_b8fbc_level0_row5\" class=\"row_heading level0 row5\" >5</th>\n                        <td id=\"T_b8fbc_row5_col0\" class=\"data row5 col0\" >1k-1,999</td>\n                        <td id=\"T_b8fbc_row5_col1\" class=\"data row5 col1\" >87666</td>\n            </tr>\n            <tr>\n                        <th id=\"T_b8fbc_level0_row6\" class=\"row_heading level0 row6\" >6</th>\n                        <td id=\"T_b8fbc_row6_col0\" class=\"data row6 col0\" >2k+</td>\n                        <td id=\"T_b8fbc_row6_col1\" class=\"data row6 col1\" >85127</td>\n            </tr>\n    </tbody></table>"
     },
     "metadata": {}
    }
   ]
  },
  {
   "cell_type": "markdown",
   "source": "Below we can see that most farms are between 10 - 179 acres in size.",
   "metadata": {
    "cell_id": "00034-f698d74c-8c30-4c49-83e9-dfba4483f43c",
    "tags": [],
    "deepnote_app_coordinates": {
     "x": 0,
     "y": 252,
     "w": 12,
     "h": 5
    },
    "deepnote_cell_type": "markdown"
   }
  },
  {
   "cell_type": "code",
   "metadata": {
    "cell_id": "00030-581ef140-19b0-483f-a40d-3deec1bbe978",
    "deepnote_output_heights": [
     280
    ],
    "deepnote_to_be_reexecuted": false,
    "execution_millis": 333,
    "execution_start": 1638929381574,
    "source_hash": "74fe6dd3",
    "tags": [],
    "deepnote_app_coordinates": {
     "x": 0,
     "y": 258,
     "w": 12,
     "h": 5
    },
    "deepnote_cell_type": "code"
   },
   "source": "plt.bar(farm_sizes_df[\"Farm_Size_Acres\"], farm_sizes_df[\"Number_of_Farms\"])\nplt.title(\"Number of Farms by Size in Acres\")\nplt.xlabel(\"Farm Size (Acres)\")\nplt.ylabel(\"Number of Farms\")\nplt.show()",
   "execution_count": 18,
   "outputs": [
    {
     "data": {
      "text/plain": "<Figure size 432x288 with 1 Axes>",
      "image/png": "[encoded data removed]"
     },
     "metadata": {
      "needs_background": "light",
      "image/png": {
       "width": 407,
       "height": 278
      }
     },
     "output_type": "display_data"
    }
   ]
  },
  {
   "cell_type": "markdown",
   "source": "Now let's take a look at which states are home to the very large, over 2k acre farms.",
   "metadata": {
    "cell_id": "00036-79b0b175-c474-47fe-b55d-2648e88d0afe",
    "tags": [],
    "deepnote_app_coordinates": {
     "x": 0,
     "y": 264,
     "w": 12,
     "h": 5
    },
    "deepnote_cell_type": "markdown"
   }
  },
  {
   "cell_type": "code",
   "metadata": {
    "cell_id": "00036-5566459c-71f1-47dd-af9e-2fdac99c16a5",
    "deepnote_output_heights": [
     364
    ],
    "deepnote_to_be_reexecuted": false,
    "execution_millis": 85,
    "execution_start": 1638929398239,
    "source_hash": "d569464c",
    "tags": [],
    "deepnote_app_coordinates": {
     "x": 0,
     "y": 270,
     "w": 12,
     "h": 5
    },
    "deepnote_cell_type": "code"
   },
   "source": "large_farms_filter = (\n    (num_farms_df[\"domaincat_desc\"] == \"AREA OPERATED: (2,000 OR MORE ACRES)\") & \n    (num_farms_df[\"agg_level_desc\"] != \"NATIONAL\")\n)\nlarge_farms = num_farms_df.loc[large_farms_filter, [\"short_desc\", \"state_name\", \"domaincat_desc\", \"value\"]]\ntop_ten_states_large_farms = large_farms.groupby([\"state_name\"])[\"value\"].sum().sort_values(ascending=False)[:10].reset_index()\n\nstyle_dataframe(\n    top_ten_states_large_farms,\n    title=\"Number of farms with over 2k acres\",\n    column_names=[\"State\", \"Number of Farms >= 2k Acres\"]\n)",
   "execution_count": 19,
   "outputs": [
    {
     "output_type": "execute_result",
     "execution_count": 19,
     "data": {
      "text/plain": "<pandas.io.formats.style.Styler at 0x7f8f408b1750>",
      "text/html": "<style  type=\"text/css\" >\n</style><table id=\"T_849a2_\" ><caption>Number of farms with over 2k acres</caption><thead>    <tr>        <th class=\"blank level0\" ></th>        <th class=\"col_heading level0 col0\" >State</th>        <th class=\"col_heading level0 col1\" >Number of Farms >= 2k Acres</th>    </tr></thead><tbody>\n                <tr>\n                        <th id=\"T_849a2_level0_row0\" class=\"row_heading level0 row0\" >0</th>\n                        <td id=\"T_849a2_row0_col0\" class=\"data row0 col0\" >Texas</td>\n                        <td id=\"T_849a2_row0_col1\" class=\"data row0 col1\" >11037</td>\n            </tr>\n            <tr>\n                        <th id=\"T_849a2_level0_row1\" class=\"row_heading level0 row1\" >1</th>\n                        <td id=\"T_849a2_row1_col0\" class=\"data row1 col0\" >North Dakota</td>\n                        <td id=\"T_849a2_row1_col1\" class=\"data row1 col1\" >6721</td>\n            </tr>\n            <tr>\n                        <th id=\"T_849a2_level0_row2\" class=\"row_heading level0 row2\" >2</th>\n                        <td id=\"T_849a2_row2_col0\" class=\"data row2 col0\" >Kansas</td>\n                        <td id=\"T_849a2_row2_col1\" class=\"data row2 col1\" >6447</td>\n            </tr>\n            <tr>\n                        <th id=\"T_849a2_level0_row3\" class=\"row_heading level0 row3\" >3</th>\n                        <td id=\"T_849a2_row3_col0\" class=\"data row3 col0\" >Montana</td>\n                        <td id=\"T_849a2_row3_col1\" class=\"data row3 col1\" >6338</td>\n            </tr>\n            <tr>\n                        <th id=\"T_849a2_level0_row4\" class=\"row_heading level0 row4\" >4</th>\n                        <td id=\"T_849a2_row4_col0\" class=\"data row4 col0\" >South Dakota</td>\n                        <td id=\"T_849a2_row4_col1\" class=\"data row4 col1\" >5847</td>\n            </tr>\n            <tr>\n                        <th id=\"T_849a2_level0_row5\" class=\"row_heading level0 row5\" >5</th>\n                        <td id=\"T_849a2_row5_col0\" class=\"data row5 col0\" >Nebraska</td>\n                        <td id=\"T_849a2_row5_col1\" class=\"data row5 col1\" >5472</td>\n            </tr>\n            <tr>\n                        <th id=\"T_849a2_level0_row6\" class=\"row_heading level0 row6\" >6</th>\n                        <td id=\"T_849a2_row6_col0\" class=\"data row6 col0\" >Oklahoma</td>\n                        <td id=\"T_849a2_row6_col1\" class=\"data row6 col1\" >3637</td>\n            </tr>\n            <tr>\n                        <th id=\"T_849a2_level0_row7\" class=\"row_heading level0 row7\" >7</th>\n                        <td id=\"T_849a2_row7_col0\" class=\"data row7 col0\" >Colorado</td>\n                        <td id=\"T_849a2_row7_col1\" class=\"data row7 col1\" >3614</td>\n            </tr>\n            <tr>\n                        <th id=\"T_849a2_level0_row8\" class=\"row_heading level0 row8\" >8</th>\n                        <td id=\"T_849a2_row8_col0\" class=\"data row8 col0\" >New Mexico</td>\n                        <td id=\"T_849a2_row8_col1\" class=\"data row8 col1\" >2869</td>\n            </tr>\n            <tr>\n                        <th id=\"T_849a2_level0_row9\" class=\"row_heading level0 row9\" >9</th>\n                        <td id=\"T_849a2_row9_col0\" class=\"data row9 col0\" >Illinois</td>\n                        <td id=\"T_849a2_row9_col1\" class=\"data row9 col1\" >2658</td>\n            </tr>\n    </tbody></table>"
     },
     "metadata": {}
    }
   ]
  },
  {
   "cell_type": "markdown",
   "source": "### Crops vs. Livestock\nNow I'd like to take a look at which states are more livestock focused and which states are more crop focused. The `table 1` dataset includes information on total crop sales and total animal sales that we can use to answer this question.",
   "metadata": {
    "cell_id": "00030-27b5bde5-20e9-4463-a6ff-82ca7e696310",
    "tags": [],
    "deepnote_app_coordinates": {
     "x": 0,
     "y": 276,
     "w": 12,
     "h": 5
    },
    "deepnote_cell_type": "markdown"
   }
  },
  {
   "cell_type": "code",
   "metadata": {
    "cell_id": "00033-4746bac8-fa96-411e-9fbf-6bac96efecf3",
    "deepnote_to_be_reexecuted": false,
    "execution_millis": 2,
    "execution_start": 1638929473410,
    "source_hash": "79c59542",
    "tags": [],
    "deepnote_app_coordinates": {
     "x": 0,
     "y": 282,
     "w": 12,
     "h": 5
    },
    "deepnote_cell_type": "code"
   },
   "source": "# Filtering down to the data we need\n\ndesired_descriptions = [\"CROP TOTALS - SALES, MEASURED IN $\", \"ANIMAL TOTALS, INCL PRODUCTS - SALES, MEASURED IN $\"]\n\ncrops_livestock_filter = (\n        (table_1_df[\"short_desc\"].isin(desired_descriptions)) & \n        (table_1_df[\"state_name\"] != \"Us Total\")\n    )\n\ncrops_livestock_df = table_1_df.loc[\n    crops_livestock_filter, [\"commodity_desc\", \"state_name\", \"value\"]\n    ].copy()\n\ncrops_livestock_df = crops_livestock_df.pivot(index=\"state_name\", columns=\"commodity_desc\", values=\"value\")\ncrops_livestock_df = crops_livestock_df.reset_index()\ncrops_livestock_df.columns = [\"State_Name\", \"Livestock_Revenue\", \"Crop_Revenue\"]\ncrops_livestock_df.head()",
   "execution_count": 20,
   "outputs": [
    {
     "output_type": "execute_result",
     "execution_count": 20,
     "data": {
      "application/vnd.deepnote.dataframe.v2+json": {
       "row_count": 5,
       "column_count": 3,
       "columns": [
        {
         "name": "State_Name",
         "dtype": "object",
         "stats": {
          "unique_count": 5,
          "nan_count": 0,
          "categories": [
           {
            "name": "Alabama",
            "count": 1
           },
           {
            "name": "Alaska",
            "count": 1
           },
           {
            "name": "3 others",
            "count": 3
           }
          ]
         }
        },
        {
         "name": "Livestock_Revenue",
         "dtype": "int64",
         "stats": {
          "unique_count": 5,
          "nan_count": 0,
          "min": "40817000",
          "max": "11800525000",
          "histogram": [
           {
            "bin_start": 40817000,
            "bin_end": 1216787800,
            "count": 1
           },
           {
            "bin_start": 1216787800,
            "bin_end": 2392758600,
            "count": 1
           },
           {
            "bin_start": 2392758600,
            "bin_end": 3568729400,
            "count": 0
           },
           {
            "bin_start": 3568729400,
            "bin_end": 4744700200,
            "count": 0
           },
           {
            "bin_start": 4744700200,
            "bin_end": 5920671000,
            "count": 1
           },
           {
            "bin_start": 5920671000,
            "bin_end": 7096641800,
            "count": 1
           },
           {
            "bin_start": 7096641800,
            "bin_end": 8272612600,
            "count": 0
           },
           {
            "bin_start": 8272612600,
            "bin_end": 9448583400,
            "count": 0
           },
           {
            "bin_start": 9448583400,
            "bin_end": 10624554200,
            "count": 0
           },
           {
            "bin_start": 10624554200,
            "bin_end": 11800525000,
            "count": 1
           }
          ]
         }
        },
        {
         "name": "Crop_Revenue",
         "dtype": "int64",
         "stats": {
          "unique_count": 5,
          "nan_count": 0,
          "min": "29642000",
          "max": "33353834000",
          "histogram": [
           {
            "bin_start": 29642000,
            "bin_end": 3362061200,
            "count": 3
           },
           {
            "bin_start": 3362061200,
            "bin_end": 6694480400,
            "count": 1
           },
           {
            "bin_start": 6694480400,
            "bin_end": 10026899600,
            "count": 0
           },
           {
            "bin_start": 10026899600,
            "bin_end": 13359318800,
            "count": 0
           },
           {
            "bin_start": 13359318800,
            "bin_end": 16691738000,
            "count": 0
           },
           {
            "bin_start": 16691738000,
            "bin_end": 20024157200,
            "count": 0
           },
           {
            "bin_start": 20024157200,
            "bin_end": 23356576400,
            "count": 0
           },
           {
            "bin_start": 23356576400,
            "bin_end": 26688995600,
            "count": 0
           },
           {
            "bin_start": 26688995600,
            "bin_end": 30021414800,
            "count": 0
           },
           {
            "bin_start": 30021414800,
            "bin_end": 33353834000,
            "count": 1
           }
          ]
         }
        },
        {
         "name": "_deepnote_index_column",
         "dtype": "int64"
        }
       ],
       "rows_top": [
        {
         "State_Name": "Alabama",
         "Livestock_Revenue": 4768266000,
         "Crop_Revenue": 1212329000,
         "_deepnote_index_column": 0
        },
        {
         "State_Name": "Alaska",
         "Livestock_Revenue": 40817000,
         "Crop_Revenue": 29642000,
         "_deepnote_index_column": 1
        },
        {
         "State_Name": "Arizona",
         "Livestock_Revenue": 1757790000,
         "Crop_Revenue": 2094218000,
         "_deepnote_index_column": 2
        },
        {
         "State_Name": "Arkansas",
         "Livestock_Revenue": 6026230000,
         "Crop_Revenue": 3624930000,
         "_deepnote_index_column": 3
        },
        {
         "State_Name": "California",
         "Livestock_Revenue": 11800525000,
         "Crop_Revenue": 33353834000,
         "_deepnote_index_column": 4
        }
       ],
       "rows_bottom": null
      },
      "text/plain": "   State_Name  Livestock_Revenue  Crop_Revenue\n0     Alabama         4768266000    1212329000\n1      Alaska           40817000      29642000\n2     Arizona         1757790000    2094218000\n3    Arkansas         6026230000    3624930000\n4  California        11800525000   33353834000",
      "text/html": "<div>\n<style scoped>\n    .dataframe tbody tr th:only-of-type {\n        vertical-align: middle;\n    }\n\n    .dataframe tbody tr th {\n        vertical-align: top;\n    }\n\n    .dataframe thead th {\n        text-align: right;\n    }\n</style>\n<table border=\"1\" class=\"dataframe\">\n  <thead>\n    <tr style=\"text-align: right;\">\n      <th></th>\n      <th>State_Name</th>\n      <th>Livestock_Revenue</th>\n      <th>Crop_Revenue</th>\n    </tr>\n  </thead>\n  <tbody>\n    <tr>\n      <th>0</th>\n      <td>Alabama</td>\n      <td>4768266000</td>\n      <td>1212329000</td>\n    </tr>\n    <tr>\n      <th>1</th>\n      <td>Alaska</td>\n      <td>40817000</td>\n      <td>29642000</td>\n    </tr>\n    <tr>\n      <th>2</th>\n      <td>Arizona</td>\n      <td>1757790000</td>\n      <td>2094218000</td>\n    </tr>\n    <tr>\n      <th>3</th>\n      <td>Arkansas</td>\n      <td>6026230000</td>\n      <td>3624930000</td>\n    </tr>\n    <tr>\n      <th>4</th>\n      <td>California</td>\n      <td>11800525000</td>\n      <td>33353834000</td>\n    </tr>\n  </tbody>\n</table>\n</div>"
     },
     "metadata": {}
    }
   ]
  },
  {
   "cell_type": "markdown",
   "source": "Now that we can see each state's livestock and crop revenue, I classify each state's dominant industry based on whether they have more revenue coming from livestock or crops.",
   "metadata": {
    "cell_id": "00034-85a88caa-6c19-4218-bd68-af348afeb763",
    "tags": [],
    "deepnote_app_coordinates": {
     "x": 0,
     "y": 288,
     "w": 12,
     "h": 5
    },
    "deepnote_cell_type": "markdown"
   }
  },
  {
   "cell_type": "code",
   "metadata": {
    "cell_id": "00034-0e4a6fb8-28fa-4fe8-94c8-6d6ff381b35a",
    "deepnote_to_be_reexecuted": false,
    "execution_millis": 0,
    "execution_start": 1638929677219,
    "source_hash": "7ca4d50e",
    "tags": [],
    "deepnote_app_coordinates": {
     "x": 0,
     "y": 294,
     "w": 12,
     "h": 5
    },
    "deepnote_cell_type": "code"
   },
   "source": "crops_livestock_df[\"Dominant_Industry\"] = np.where(\n    crops_livestock_df[\"Livestock_Revenue\"] >  crops_livestock_df[\"Crop_Revenue\"], \n    \"Livestock\", \"Crops\"\n    )",
   "execution_count": 21,
   "outputs": []
  },
  {
   "cell_type": "markdown",
   "source": "Below we can see that 28 out of 50 states earn more revenue from livestock than crops.",
   "metadata": {
    "cell_id": "00036-f635fcec-7a6e-4356-b0a3-4b169d4109e1",
    "tags": [],
    "deepnote_app_coordinates": {
     "x": 0,
     "y": 300,
     "w": 12,
     "h": 5
    },
    "deepnote_cell_type": "markdown"
   }
  },
  {
   "cell_type": "code",
   "metadata": {
    "cell_id": "00035-3c9cc817-1e31-4fcf-807c-dca20232f7a4",
    "deepnote_to_be_reexecuted": false,
    "execution_millis": 14,
    "execution_start": 1638832569856,
    "source_hash": "182d4eff",
    "tags": [],
    "deepnote_output_heights": [
     611
    ],
    "deepnote_app_coordinates": {
     "x": 0,
     "y": 306,
     "w": 12,
     "h": 5
    },
    "deepnote_cell_type": "code"
   },
   "source": "style_dataframe(\n    crops_livestock_df,\n    title=\"Livestock vs. Crop Revenue by State\",\n    column_names=[\"State\", \"Revenue from Livestock\", \"Revenue from Crops\", \"Dominant Industry\"]\n)",
   "execution_count": null,
   "outputs": [
    {
     "output_type": "execute_result",
     "execution_count": 39,
     "data": {
      "text/plain": "<pandas.io.formats.style.Styler at 0x7f85b9f9a290>",
      "text/html": "<style  type=\"text/css\" >\n</style><table id=\"T_bd1b2_\" ><caption>Livestock vs. Crop Revenue by State</caption><thead>    <tr>        <th class=\"blank level0\" ></th>        <th class=\"col_heading level0 col0\" >State</th>        <th class=\"col_heading level0 col1\" >Revenue from Livestock</th>        <th class=\"col_heading level0 col2\" >Revenue from Crops</th>        <th class=\"col_heading level0 col3\" >Dominant Industry</th>    </tr></thead><tbody>\n                <tr>\n                        <th id=\"T_bd1b2_level0_row0\" class=\"row_heading level0 row0\" >0</th>\n                        <td id=\"T_bd1b2_row0_col0\" class=\"data row0 col0\" >Alabama</td>\n                        <td id=\"T_bd1b2_row0_col1\" class=\"data row0 col1\" >4768266000</td>\n                        <td id=\"T_bd1b2_row0_col2\" class=\"data row0 col2\" >1212329000</td>\n                        <td id=\"T_bd1b2_row0_col3\" class=\"data row0 col3\" >Livestock</td>\n            </tr>\n            <tr>\n                        <th id=\"T_bd1b2_level0_row1\" class=\"row_heading level0 row1\" >1</th>\n                        <td id=\"T_bd1b2_row1_col0\" class=\"data row1 col0\" >Alaska</td>\n                        <td id=\"T_bd1b2_row1_col1\" class=\"data row1 col1\" >40817000</td>\n                        <td id=\"T_bd1b2_row1_col2\" class=\"data row1 col2\" >29642000</td>\n                        <td id=\"T_bd1b2_row1_col3\" class=\"data row1 col3\" >Livestock</td>\n            </tr>\n            <tr>\n                        <th id=\"T_bd1b2_level0_row2\" class=\"row_heading level0 row2\" >2</th>\n                        <td id=\"T_bd1b2_row2_col0\" class=\"data row2 col0\" >Arizona</td>\n                        <td id=\"T_bd1b2_row2_col1\" class=\"data row2 col1\" >1757790000</td>\n                        <td id=\"T_bd1b2_row2_col2\" class=\"data row2 col2\" >2094218000</td>\n                        <td id=\"T_bd1b2_row2_col3\" class=\"data row2 col3\" >Crops</td>\n            </tr>\n            <tr>\n                        <th id=\"T_bd1b2_level0_row3\" class=\"row_heading level0 row3\" >3</th>\n                        <td id=\"T_bd1b2_row3_col0\" class=\"data row3 col0\" >Arkansas</td>\n                        <td id=\"T_bd1b2_row3_col1\" class=\"data row3 col1\" >6026230000</td>\n                        <td id=\"T_bd1b2_row3_col2\" class=\"data row3 col2\" >3624930000</td>\n                        <td id=\"T_bd1b2_row3_col3\" class=\"data row3 col3\" >Livestock</td>\n            </tr>\n            <tr>\n                        <th id=\"T_bd1b2_level0_row4\" class=\"row_heading level0 row4\" >4</th>\n                        <td id=\"T_bd1b2_row4_col0\" class=\"data row4 col0\" >California</td>\n                        <td id=\"T_bd1b2_row4_col1\" class=\"data row4 col1\" >11800525000</td>\n                        <td id=\"T_bd1b2_row4_col2\" class=\"data row4 col2\" >33353834000</td>\n                        <td id=\"T_bd1b2_row4_col3\" class=\"data row4 col3\" >Crops</td>\n            </tr>\n            <tr>\n                        <th id=\"T_bd1b2_level0_row5\" class=\"row_heading level0 row5\" >5</th>\n                        <td id=\"T_bd1b2_row5_col0\" class=\"data row5 col0\" >Colorado</td>\n                        <td id=\"T_bd1b2_row5_col1\" class=\"data row5 col1\" >5252840000</td>\n                        <td id=\"T_bd1b2_row5_col2\" class=\"data row5 col2\" >2238862000</td>\n                        <td id=\"T_bd1b2_row5_col3\" class=\"data row5 col3\" >Livestock</td>\n            </tr>\n            <tr>\n                        <th id=\"T_bd1b2_level0_row6\" class=\"row_heading level0 row6\" >6</th>\n                        <td id=\"T_bd1b2_row6_col0\" class=\"data row6 col0\" >Connecticut</td>\n                        <td id=\"T_bd1b2_row6_col1\" class=\"data row6 col1\" >160071000</td>\n                        <td id=\"T_bd1b2_row6_col2\" class=\"data row6 col2\" >420043000</td>\n                        <td id=\"T_bd1b2_row6_col3\" class=\"data row6 col3\" >Crops</td>\n            </tr>\n            <tr>\n                        <th id=\"T_bd1b2_level0_row7\" class=\"row_heading level0 row7\" >7</th>\n                        <td id=\"T_bd1b2_row7_col0\" class=\"data row7 col0\" >Delaware</td>\n                        <td id=\"T_bd1b2_row7_col1\" class=\"data row7 col1\" >1140317000</td>\n                        <td id=\"T_bd1b2_row7_col2\" class=\"data row7 col2\" >325656000</td>\n                        <td id=\"T_bd1b2_row7_col3\" class=\"data row7 col3\" >Livestock</td>\n            </tr>\n            <tr>\n                        <th id=\"T_bd1b2_level0_row8\" class=\"row_heading level0 row8\" >8</th>\n                        <td id=\"T_bd1b2_row8_col0\" class=\"data row8 col0\" >Florida</td>\n                        <td id=\"T_bd1b2_row8_col1\" class=\"data row8 col1\" >1652810000</td>\n                        <td id=\"T_bd1b2_row8_col2\" class=\"data row8 col2\" >5704533000</td>\n                        <td id=\"T_bd1b2_row8_col3\" class=\"data row8 col3\" >Crops</td>\n            </tr>\n            <tr>\n                        <th id=\"T_bd1b2_level0_row9\" class=\"row_heading level0 row9\" >9</th>\n                        <td id=\"T_bd1b2_row9_col0\" class=\"data row9 col0\" >Georgia</td>\n                        <td id=\"T_bd1b2_row9_col1\" class=\"data row9 col1\" >6301312000</td>\n                        <td id=\"T_bd1b2_row9_col2\" class=\"data row9 col2\" >3271940000</td>\n                        <td id=\"T_bd1b2_row9_col3\" class=\"data row9 col3\" >Livestock</td>\n            </tr>\n            <tr>\n                        <th id=\"T_bd1b2_level0_row10\" class=\"row_heading level0 row10\" >10</th>\n                        <td id=\"T_bd1b2_row10_col0\" class=\"data row10 col0\" >Hawaii</td>\n                        <td id=\"T_bd1b2_row10_col1\" class=\"data row10 col1\" >146733000</td>\n                        <td id=\"T_bd1b2_row10_col2\" class=\"data row10 col2\" >417069000</td>\n                        <td id=\"T_bd1b2_row10_col3\" class=\"data row10 col3\" >Crops</td>\n            </tr>\n            <tr>\n                        <th id=\"T_bd1b2_level0_row11\" class=\"row_heading level0 row11\" >11</th>\n                        <td id=\"T_bd1b2_row11_col0\" class=\"data row11 col0\" >Idaho</td>\n                        <td id=\"T_bd1b2_row11_col1\" class=\"data row11 col1\" >4356606000</td>\n                        <td id=\"T_bd1b2_row11_col2\" class=\"data row11 col2\" >3210834000</td>\n                        <td id=\"T_bd1b2_row11_col3\" class=\"data row11 col3\" >Livestock</td>\n            </tr>\n            <tr>\n                        <th id=\"T_bd1b2_level0_row12\" class=\"row_heading level0 row12\" >12</th>\n                        <td id=\"T_bd1b2_row12_col0\" class=\"data row12 col0\" >Illinois</td>\n                        <td id=\"T_bd1b2_row12_col1\" class=\"data row12 col1\" >3166229000</td>\n                        <td id=\"T_bd1b2_row12_col2\" class=\"data row12 col2\" >13843743000</td>\n                        <td id=\"T_bd1b2_row12_col3\" class=\"data row12 col3\" >Crops</td>\n            </tr>\n            <tr>\n                        <th id=\"T_bd1b2_level0_row13\" class=\"row_heading level0 row13\" >13</th>\n                        <td id=\"T_bd1b2_row13_col0\" class=\"data row13 col0\" >Indiana</td>\n                        <td id=\"T_bd1b2_row13_col1\" class=\"data row13 col1\" >3986276000</td>\n                        <td id=\"T_bd1b2_row13_col2\" class=\"data row13 col2\" >7121060000</td>\n                        <td id=\"T_bd1b2_row13_col3\" class=\"data row13 col3\" >Crops</td>\n            </tr>\n            <tr>\n                        <th id=\"T_bd1b2_level0_row14\" class=\"row_heading level0 row14\" >14</th>\n                        <td id=\"T_bd1b2_row14_col0\" class=\"data row14 col0\" >Iowa</td>\n                        <td id=\"T_bd1b2_row14_col1\" class=\"data row14 col1\" >15123882000</td>\n                        <td id=\"T_bd1b2_row14_col2\" class=\"data row14 col2\" >13832573000</td>\n                        <td id=\"T_bd1b2_row14_col3\" class=\"data row14 col3\" >Livestock</td>\n            </tr>\n            <tr>\n                        <th id=\"T_bd1b2_level0_row15\" class=\"row_heading level0 row15\" >15</th>\n                        <td id=\"T_bd1b2_row15_col0\" class=\"data row15 col0\" >Kansas</td>\n                        <td id=\"T_bd1b2_row15_col1\" class=\"data row15 col1\" >12322289000</td>\n                        <td id=\"T_bd1b2_row15_col2\" class=\"data row15 col2\" >6460437000</td>\n                        <td id=\"T_bd1b2_row15_col3\" class=\"data row15 col3\" >Livestock</td>\n            </tr>\n            <tr>\n                        <th id=\"T_bd1b2_level0_row16\" class=\"row_heading level0 row16\" >16</th>\n                        <td id=\"T_bd1b2_row16_col0\" class=\"data row16 col0\" >Kentucky</td>\n                        <td id=\"T_bd1b2_row16_col1\" class=\"data row16 col1\" >3196834000</td>\n                        <td id=\"T_bd1b2_row16_col2\" class=\"data row16 col2\" >2541086000</td>\n                        <td id=\"T_bd1b2_row16_col3\" class=\"data row16 col3\" >Livestock</td>\n            </tr>\n            <tr>\n                        <th id=\"T_bd1b2_level0_row17\" class=\"row_heading level0 row17\" >17</th>\n                        <td id=\"T_bd1b2_row17_col0\" class=\"data row17 col0\" >Louisiana</td>\n                        <td id=\"T_bd1b2_row17_col1\" class=\"data row17 col1\" >1112027000</td>\n                        <td id=\"T_bd1b2_row17_col2\" class=\"data row17 col2\" >2060951000</td>\n                        <td id=\"T_bd1b2_row17_col3\" class=\"data row17 col3\" >Crops</td>\n            </tr>\n            <tr>\n                        <th id=\"T_bd1b2_level0_row18\" class=\"row_heading level0 row18\" >18</th>\n                        <td id=\"T_bd1b2_row18_col0\" class=\"data row18 col0\" >Maine</td>\n                        <td id=\"T_bd1b2_row18_col1\" class=\"data row18 col1\" >258123000</td>\n                        <td id=\"T_bd1b2_row18_col2\" class=\"data row18 col2\" >408839000</td>\n                        <td id=\"T_bd1b2_row18_col3\" class=\"data row18 col3\" >Crops</td>\n            </tr>\n            <tr>\n                        <th id=\"T_bd1b2_level0_row19\" class=\"row_heading level0 row19\" >19</th>\n                        <td id=\"T_bd1b2_row19_col0\" class=\"data row19 col0\" >Maryland</td>\n                        <td id=\"T_bd1b2_row19_col1\" class=\"data row19 col1\" >1524681000</td>\n                        <td id=\"T_bd1b2_row19_col2\" class=\"data row19 col2\" >948125000</td>\n                        <td id=\"T_bd1b2_row19_col3\" class=\"data row19 col3\" >Livestock</td>\n            </tr>\n            <tr>\n                        <th id=\"T_bd1b2_level0_row20\" class=\"row_heading level0 row20\" >20</th>\n                        <td id=\"T_bd1b2_row20_col0\" class=\"data row20 col0\" >Massachusetts</td>\n                        <td id=\"T_bd1b2_row20_col1\" class=\"data row20 col1\" >111661000</td>\n                        <td id=\"T_bd1b2_row20_col2\" class=\"data row20 col2\" >363524000</td>\n                        <td id=\"T_bd1b2_row20_col3\" class=\"data row20 col3\" >Crops</td>\n            </tr>\n            <tr>\n                        <th id=\"T_bd1b2_level0_row21\" class=\"row_heading level0 row21\" >21</th>\n                        <td id=\"T_bd1b2_row21_col0\" class=\"data row21 col0\" >Michigan</td>\n                        <td id=\"T_bd1b2_row21_col1\" class=\"data row21 col1\" >3576684000</td>\n                        <td id=\"T_bd1b2_row21_col2\" class=\"data row21 col2\" >4644252000</td>\n                        <td id=\"T_bd1b2_row21_col3\" class=\"data row21 col3\" >Crops</td>\n            </tr>\n            <tr>\n                        <th id=\"T_bd1b2_level0_row22\" class=\"row_heading level0 row22\" >22</th>\n                        <td id=\"T_bd1b2_row22_col0\" class=\"data row22 col0\" >Minnesota</td>\n                        <td id=\"T_bd1b2_row22_col1\" class=\"data row22 col1\" >8203872000</td>\n                        <td id=\"T_bd1b2_row22_col2\" class=\"data row22 col2\" >10191518000</td>\n                        <td id=\"T_bd1b2_row22_col3\" class=\"data row22 col3\" >Crops</td>\n            </tr>\n            <tr>\n                        <th id=\"T_bd1b2_level0_row23\" class=\"row_heading level0 row23\" >23</th>\n                        <td id=\"T_bd1b2_row23_col0\" class=\"data row23 col0\" >Mississippi</td>\n                        <td id=\"T_bd1b2_row23_col1\" class=\"data row23 col1\" >3904079000</td>\n                        <td id=\"T_bd1b2_row23_col2\" class=\"data row23 col2\" >2291890000</td>\n                        <td id=\"T_bd1b2_row23_col3\" class=\"data row23 col3\" >Livestock</td>\n            </tr>\n            <tr>\n                        <th id=\"T_bd1b2_level0_row24\" class=\"row_heading level0 row24\" >24</th>\n                        <td id=\"T_bd1b2_row24_col0\" class=\"data row24 col0\" >Missouri</td>\n                        <td id=\"T_bd1b2_row24_col1\" class=\"data row24 col1\" >5049623000</td>\n                        <td id=\"T_bd1b2_row24_col2\" class=\"data row24 col2\" >5476314000</td>\n                        <td id=\"T_bd1b2_row24_col3\" class=\"data row24 col3\" >Crops</td>\n            </tr>\n            <tr>\n                        <th id=\"T_bd1b2_level0_row25\" class=\"row_heading level0 row25\" >25</th>\n                        <td id=\"T_bd1b2_row25_col0\" class=\"data row25 col0\" >Montana</td>\n                        <td id=\"T_bd1b2_row25_col1\" class=\"data row25 col1\" >1935608000</td>\n                        <td id=\"T_bd1b2_row25_col2\" class=\"data row25 col2\" >1585015000</td>\n                        <td id=\"T_bd1b2_row25_col3\" class=\"data row25 col3\" >Livestock</td>\n            </tr>\n            <tr>\n                        <th id=\"T_bd1b2_level0_row26\" class=\"row_heading level0 row26\" >26</th>\n                        <td id=\"T_bd1b2_row26_col0\" class=\"data row26 col0\" >Nebraska</td>\n                        <td id=\"T_bd1b2_row26_col1\" class=\"data row26 col1\" >12672422000</td>\n                        <td id=\"T_bd1b2_row26_col2\" class=\"data row26 col2\" >9311007000</td>\n                        <td id=\"T_bd1b2_row26_col3\" class=\"data row26 col3\" >Livestock</td>\n            </tr>\n            <tr>\n                        <th id=\"T_bd1b2_level0_row27\" class=\"row_heading level0 row27\" >27</th>\n                        <td id=\"T_bd1b2_row27_col0\" class=\"data row27 col0\" >Nevada</td>\n                        <td id=\"T_bd1b2_row27_col1\" class=\"data row27 col1\" >389681000</td>\n                        <td id=\"T_bd1b2_row27_col2\" class=\"data row27 col2\" >276077000</td>\n                        <td id=\"T_bd1b2_row27_col3\" class=\"data row27 col3\" >Livestock</td>\n            </tr>\n            <tr>\n                        <th id=\"T_bd1b2_level0_row28\" class=\"row_heading level0 row28\" >28</th>\n                        <td id=\"T_bd1b2_row28_col0\" class=\"data row28 col0\" >New Hampshire</td>\n                        <td id=\"T_bd1b2_row28_col1\" class=\"data row28 col1\" >79992000</td>\n                        <td id=\"T_bd1b2_row28_col2\" class=\"data row28 col2\" >107802000</td>\n                        <td id=\"T_bd1b2_row28_col3\" class=\"data row28 col3\" >Crops</td>\n            </tr>\n            <tr>\n                        <th id=\"T_bd1b2_level0_row29\" class=\"row_heading level0 row29\" >29</th>\n                        <td id=\"T_bd1b2_row29_col0\" class=\"data row29 col0\" >New Jersey</td>\n                        <td id=\"T_bd1b2_row29_col1\" class=\"data row29 col1\" >113421000</td>\n                        <td id=\"T_bd1b2_row29_col2\" class=\"data row29 col2\" >984530000</td>\n                        <td id=\"T_bd1b2_row29_col3\" class=\"data row29 col3\" >Crops</td>\n            </tr>\n            <tr>\n                        <th id=\"T_bd1b2_level0_row30\" class=\"row_heading level0 row30\" >30</th>\n                        <td id=\"T_bd1b2_row30_col0\" class=\"data row30 col0\" >New Mexico</td>\n                        <td id=\"T_bd1b2_row30_col1\" class=\"data row30 col1\" >1931608000</td>\n                        <td id=\"T_bd1b2_row30_col2\" class=\"data row30 col2\" >650735000</td>\n                        <td id=\"T_bd1b2_row30_col3\" class=\"data row30 col3\" >Livestock</td>\n            </tr>\n            <tr>\n                        <th id=\"T_bd1b2_level0_row31\" class=\"row_heading level0 row31\" >31</th>\n                        <td id=\"T_bd1b2_row31_col0\" class=\"data row31 col0\" >New York</td>\n                        <td id=\"T_bd1b2_row31_col1\" class=\"data row31 col1\" >3261226000</td>\n                        <td id=\"T_bd1b2_row31_col2\" class=\"data row31 col2\" >2107986000</td>\n                        <td id=\"T_bd1b2_row31_col3\" class=\"data row31 col3\" >Livestock</td>\n            </tr>\n            <tr>\n                        <th id=\"T_bd1b2_level0_row32\" class=\"row_heading level0 row32\" >32</th>\n                        <td id=\"T_bd1b2_row32_col0\" class=\"data row32 col0\" >North Carolina</td>\n                        <td id=\"T_bd1b2_row32_col1\" class=\"data row32 col1\" >9165694000</td>\n                        <td id=\"T_bd1b2_row32_col2\" class=\"data row32 col2\" >3734980000</td>\n                        <td id=\"T_bd1b2_row32_col3\" class=\"data row32 col3\" >Livestock</td>\n            </tr>\n            <tr>\n                        <th id=\"T_bd1b2_level0_row33\" class=\"row_heading level0 row33\" >33</th>\n                        <td id=\"T_bd1b2_row33_col0\" class=\"data row33 col0\" >North Dakota</td>\n                        <td id=\"T_bd1b2_row33_col1\" class=\"data row33 col1\" >1553488000</td>\n                        <td id=\"T_bd1b2_row33_col2\" class=\"data row33 col2\" >6680614000</td>\n                        <td id=\"T_bd1b2_row33_col3\" class=\"data row33 col3\" >Crops</td>\n            </tr>\n            <tr>\n                        <th id=\"T_bd1b2_level0_row34\" class=\"row_heading level0 row34\" >34</th>\n                        <td id=\"T_bd1b2_row34_col0\" class=\"data row34 col0\" >Ohio</td>\n                        <td id=\"T_bd1b2_row34_col1\" class=\"data row34 col1\" >3914972000</td>\n                        <td id=\"T_bd1b2_row34_col2\" class=\"data row34 col2\" >5426253000</td>\n                        <td id=\"T_bd1b2_row34_col3\" class=\"data row34 col3\" >Crops</td>\n            </tr>\n            <tr>\n                        <th id=\"T_bd1b2_level0_row35\" class=\"row_heading level0 row35\" >35</th>\n                        <td id=\"T_bd1b2_row35_col0\" class=\"data row35 col0\" >Oklahoma</td>\n                        <td id=\"T_bd1b2_row35_col1\" class=\"data row35 col1\" >5948761000</td>\n                        <td id=\"T_bd1b2_row35_col2\" class=\"data row35 col2\" >1516751000</td>\n                        <td id=\"T_bd1b2_row35_col3\" class=\"data row35 col3\" >Livestock</td>\n            </tr>\n            <tr>\n                        <th id=\"T_bd1b2_level0_row36\" class=\"row_heading level0 row36\" >36</th>\n                        <td id=\"T_bd1b2_row36_col0\" class=\"data row36 col0\" >Oregon</td>\n                        <td id=\"T_bd1b2_row36_col1\" class=\"data row36 col1\" >1723466000</td>\n                        <td id=\"T_bd1b2_row36_col2\" class=\"data row36 col2\" >3283355000</td>\n                        <td id=\"T_bd1b2_row36_col3\" class=\"data row36 col3\" >Crops</td>\n            </tr>\n            <tr>\n                        <th id=\"T_bd1b2_level0_row37\" class=\"row_heading level0 row37\" >37</th>\n                        <td id=\"T_bd1b2_row37_col0\" class=\"data row37 col0\" >Pennsylvania</td>\n                        <td id=\"T_bd1b2_row37_col1\" class=\"data row37 col1\" >4977556000</td>\n                        <td id=\"T_bd1b2_row37_col2\" class=\"data row37 col2\" >2781329000</td>\n                        <td id=\"T_bd1b2_row37_col3\" class=\"data row37 col3\" >Livestock</td>\n            </tr>\n            <tr>\n                        <th id=\"T_bd1b2_level0_row38\" class=\"row_heading level0 row38\" >38</th>\n                        <td id=\"T_bd1b2_row38_col0\" class=\"data row38 col0\" >Rhode Island</td>\n                        <td id=\"T_bd1b2_row38_col1\" class=\"data row38 col1\" >17089000</td>\n                        <td id=\"T_bd1b2_row38_col2\" class=\"data row38 col2\" >40909000</td>\n                        <td id=\"T_bd1b2_row38_col3\" class=\"data row38 col3\" >Crops</td>\n            </tr>\n            <tr>\n                        <th id=\"T_bd1b2_level0_row39\" class=\"row_heading level0 row39\" >39</th>\n                        <td id=\"T_bd1b2_row39_col0\" class=\"data row39 col0\" >South Carolina</td>\n                        <td id=\"T_bd1b2_row39_col1\" class=\"data row39 col1\" >1912494000</td>\n                        <td id=\"T_bd1b2_row39_col2\" class=\"data row39 col2\" >1096245000</td>\n                        <td id=\"T_bd1b2_row39_col3\" class=\"data row39 col3\" >Livestock</td>\n            </tr>\n            <tr>\n                        <th id=\"T_bd1b2_level0_row40\" class=\"row_heading level0 row40\" >40</th>\n                        <td id=\"T_bd1b2_row40_col0\" class=\"data row40 col0\" >South Dakota</td>\n                        <td id=\"T_bd1b2_row40_col1\" class=\"data row40 col1\" >4554966000</td>\n                        <td id=\"T_bd1b2_row40_col2\" class=\"data row40 col2\" >5166557000</td>\n                        <td id=\"T_bd1b2_row40_col3\" class=\"data row40 col3\" >Crops</td>\n            </tr>\n            <tr>\n                        <th id=\"T_bd1b2_level0_row41\" class=\"row_heading level0 row41\" >41</th>\n                        <td id=\"T_bd1b2_row41_col0\" class=\"data row41 col0\" >Tennessee</td>\n                        <td id=\"T_bd1b2_row41_col1\" class=\"data row41 col1\" >1616537000</td>\n                        <td id=\"T_bd1b2_row41_col2\" class=\"data row41 col2\" >2182397000</td>\n                        <td id=\"T_bd1b2_row41_col3\" class=\"data row41 col3\" >Crops</td>\n            </tr>\n            <tr>\n                        <th id=\"T_bd1b2_level0_row42\" class=\"row_heading level0 row42\" >42</th>\n                        <td id=\"T_bd1b2_row42_col0\" class=\"data row42 col0\" >Texas</td>\n                        <td id=\"T_bd1b2_row42_col1\" class=\"data row42 col1\" >18029734000</td>\n                        <td id=\"T_bd1b2_row42_col2\" class=\"data row42 col2\" >6894307000</td>\n                        <td id=\"T_bd1b2_row42_col3\" class=\"data row42 col3\" >Livestock</td>\n            </tr>\n            <tr>\n                        <th id=\"T_bd1b2_level0_row43\" class=\"row_heading level0 row43\" >43</th>\n                        <td id=\"T_bd1b2_row43_col0\" class=\"data row43 col0\" >Utah</td>\n                        <td id=\"T_bd1b2_row43_col1\" class=\"data row43 col1\" >1277653000</td>\n                        <td id=\"T_bd1b2_row43_col2\" class=\"data row43 col2\" >560956000</td>\n                        <td id=\"T_bd1b2_row43_col3\" class=\"data row43 col3\" >Livestock</td>\n            </tr>\n            <tr>\n                        <th id=\"T_bd1b2_level0_row44\" class=\"row_heading level0 row44\" >44</th>\n                        <td id=\"T_bd1b2_row44_col0\" class=\"data row44 col0\" >Vermont</td>\n                        <td id=\"T_bd1b2_row44_col1\" class=\"data row44 col1\" >593872000</td>\n                        <td id=\"T_bd1b2_row44_col2\" class=\"data row44 col2\" >187096000</td>\n                        <td id=\"T_bd1b2_row44_col3\" class=\"data row44 col3\" >Livestock</td>\n            </tr>\n            <tr>\n                        <th id=\"T_bd1b2_level0_row45\" class=\"row_heading level0 row45\" >45</th>\n                        <td id=\"T_bd1b2_row45_col0\" class=\"data row45 col0\" >Virginia</td>\n                        <td id=\"T_bd1b2_row45_col1\" class=\"data row45 col1\" >2599039000</td>\n                        <td id=\"T_bd1b2_row45_col2\" class=\"data row45 col2\" >1361462000</td>\n                        <td id=\"T_bd1b2_row45_col3\" class=\"data row45 col3\" >Livestock</td>\n            </tr>\n            <tr>\n                        <th id=\"T_bd1b2_level0_row46\" class=\"row_heading level0 row46\" >46</th>\n                        <td id=\"T_bd1b2_row46_col0\" class=\"data row46 col0\" >Washington</td>\n                        <td id=\"T_bd1b2_row46_col1\" class=\"data row46 col1\" >2651078000</td>\n                        <td id=\"T_bd1b2_row46_col2\" class=\"data row46 col2\" >6983383000</td>\n                        <td id=\"T_bd1b2_row46_col3\" class=\"data row46 col3\" >Crops</td>\n            </tr>\n            <tr>\n                        <th id=\"T_bd1b2_level0_row47\" class=\"row_heading level0 row47\" >47</th>\n                        <td id=\"T_bd1b2_row47_col0\" class=\"data row47 col0\" >West Virginia</td>\n                        <td id=\"T_bd1b2_row47_col1\" class=\"data row47 col1\" >601162000</td>\n                        <td id=\"T_bd1b2_row47_col2\" class=\"data row47 col2\" >153117000</td>\n                        <td id=\"T_bd1b2_row47_col3\" class=\"data row47 col3\" >Livestock</td>\n            </tr>\n            <tr>\n                        <th id=\"T_bd1b2_level0_row48\" class=\"row_heading level0 row48\" >48</th>\n                        <td id=\"T_bd1b2_row48_col0\" class=\"data row48 col0\" >Wisconsin</td>\n                        <td id=\"T_bd1b2_row48_col1\" class=\"data row48 col1\" >7359987000</td>\n                        <td id=\"T_bd1b2_row48_col2\" class=\"data row48 col2\" >4067436000</td>\n                        <td id=\"T_bd1b2_row48_col3\" class=\"data row48 col3\" >Livestock</td>\n            </tr>\n            <tr>\n                        <th id=\"T_bd1b2_level0_row49\" class=\"row_heading level0 row49\" >49</th>\n                        <td id=\"T_bd1b2_row49_col0\" class=\"data row49 col0\" >Wyoming</td>\n                        <td id=\"T_bd1b2_row49_col1\" class=\"data row49 col1\" >1153913000</td>\n                        <td id=\"T_bd1b2_row49_col2\" class=\"data row49 col2\" >318200000</td>\n                        <td id=\"T_bd1b2_row49_col3\" class=\"data row49 col3\" >Livestock</td>\n            </tr>\n    </tbody></table>"
     },
     "metadata": {}
    }
   ]
  },
  {
   "cell_type": "code",
   "metadata": {
    "cell_id": "00037-f9cda950-b0c9-4a86-a1f6-48df9107a0e9",
    "deepnote_output_heights": [
     21
    ],
    "deepnote_to_be_reexecuted": false,
    "execution_millis": 11,
    "execution_start": 1638832574691,
    "source_hash": "4875112f",
    "tags": [],
    "deepnote_app_coordinates": {
     "x": 0,
     "y": 312,
     "w": 12,
     "h": 5
    },
    "deepnote_cell_type": "code"
   },
   "source": "total_livestock_revenue = crops_livestock_df[\"Livestock_Revenue\"].sum()\ntotal_crop_revenue = crops_livestock_df[\"Crop_Revenue\"].sum()\n\nprint_as_currency(total_livestock_revenue, postface=\" - US Total Livestock Revenue\")\nprint_as_currency(total_crop_revenue, postface=\" - US Total Crop Revenue\")",
   "execution_count": null,
   "outputs": [
    {
     "name": "stdout",
     "text": "$194,975,996,000 - US Total Livestock Revenue\n$193,546,701,000 - US Total Crop Revenue\n",
     "output_type": "stream"
    }
   ]
  },
  {
   "cell_type": "markdown",
   "source": "As can be seen above, U.S. revenue totals for livestock and crops are very similar, with livestock only bringing in about 1.4 billion more in revenue in 2017.\n\nBelow I map out which states earn more revenue from livestock and which earn more from crops",
   "metadata": {
    "cell_id": "00040-3efd44f7-0fa0-47c8-b30f-7a04e51f2c4b",
    "tags": [],
    "deepnote_app_coordinates": {
     "x": 0,
     "y": 318,
     "w": 12,
     "h": 5
    },
    "deepnote_cell_type": "markdown"
   }
  },
  {
   "cell_type": "code",
   "metadata": {
    "cell_id": "00054-cc90c00a-0672-4e8a-a50e-89841934c9e1",
    "deepnote_to_be_reexecuted": false,
    "source_hash": "7df7e240",
    "execution_start": 1638832580964,
    "execution_millis": 2,
    "deepnote_app_coordinates": {
     "x": 0,
     "y": 324,
     "w": 12,
     "h": 5
    },
    "deepnote_cell_type": "code"
   },
   "source": "import matplotlib.colors\nmy_cmap = matplotlib.colors.ListedColormap(['#4670AA', '#D9A979'])",
   "execution_count": null,
   "outputs": []
  },
  {
   "cell_type": "code",
   "metadata": {
    "cell_id": "00035-505038e7-f462-4628-93e7-6811b2f1a3b3",
    "deepnote_output_heights": [
     196
    ],
    "deepnote_to_be_reexecuted": false,
    "execution_millis": 781,
    "execution_start": 1638832585818,
    "source_hash": "c740d60d",
    "tags": [],
    "deepnote_app_coordinates": {
     "x": 0,
     "y": 330,
     "w": 12,
     "h": 5
    },
    "deepnote_cell_type": "code"
   },
   "source": "plot_map(crops_livestock_df, \"State_Name\", \"Dominant_Industry\", cmap=my_cmap, legend=True)",
   "execution_count": null,
   "outputs": [
    {
     "data": {
      "text/plain": "<Figure size 432x288 with 1 Axes>",
      "image/png": "[encoded data removed]"
     },
     "metadata": {
      "needs_background": "light",
      "image/png": {
       "width": 349,
       "height": 194
      }
     },
     "output_type": "display_data"
    }
   ]
  },
  {
   "cell_type": "markdown",
   "source": "### Focusing in on livestock\nDistinguishing between crop farming and livestock farming is helpful, but livestock is still a very large category that includes:\n- Beef cows\n- Milk cows\n- Hogs\n- Chickens\n\nBy diving into these details, I can further parse out the dominant type of livestock that each state produces.\n\nI can look at either the total inventory of each animal type by state, or the total number of farms that have inventory of each animal by state. In this case, I'll look at the total number of farms that carry inventory of each animal.\n",
   "metadata": {
    "cell_id": "00042-953ccff5-bc7d-4c84-b613-828c360f8754",
    "tags": [],
    "deepnote_app_coordinates": {
     "x": 0,
     "y": 336,
     "w": 12,
     "h": 5
    },
    "deepnote_cell_type": "markdown"
   }
  },
  {
   "cell_type": "code",
   "metadata": {
    "cell_id": "00043-0d500732-41c0-4406-82c5-fc5a05a752c0",
    "deepnote_output_heights": [
     611
    ],
    "deepnote_to_be_reexecuted": false,
    "execution_millis": 3,
    "execution_start": 1638832593692,
    "source_hash": "d2b61e12",
    "tags": [],
    "deepnote_app_coordinates": {
     "x": 0,
     "y": 342,
     "w": 12,
     "h": 5
    },
    "deepnote_cell_type": "code"
   },
   "source": "# filtering to only livestock and previewing the first 5 rows\n\ndesired_descriptions = [\n    \"CATTLE, COWS, BEEF - OPERATIONS WITH INVENTORY\", \n    \"CATTLE, COWS, MILK - OPERATIONS WITH INVENTORY\",\n    \"HOGS - OPERATIONS WITH INVENTORY\",\n    \"CHICKENS, LAYERS - OPERATIONS WITH INVENTORY\"\n    ]\n\nlivestock_details_filter = (\n    (table_1_df[\"short_desc\"].isin(desired_descriptions)) &\n    (table_1_df[\"state_name\"] != \"Us Total\")\n    )\n\nlivestock_details_df_raw = table_1_df.loc[\n    livestock_details_filter,\n    [\"short_desc\", \"state_name\", \"value\"]\n    ]\n    \nlivestock_details_df_raw.head()",
   "execution_count": null,
   "outputs": [
    {
     "output_type": "execute_result",
     "execution_count": 43,
     "data": {
      "application/vnd.deepnote.dataframe.v2+json": {
       "row_count": 5,
       "column_count": 3,
       "columns": [
        {
         "name": "short_desc",
         "dtype": "object",
         "stats": {
          "unique_count": 1,
          "nan_count": 0,
          "categories": [
           {
            "name": "CATTLE, COWS, MILK - OPERATIONS WITH INVENTORY",
            "count": 5
           }
          ]
         }
        },
        {
         "name": "state_name",
         "dtype": "object",
         "stats": {
          "unique_count": 5,
          "nan_count": 0,
          "categories": [
           {
            "name": "Alabama",
            "count": 1
           },
           {
            "name": "Alaska",
            "count": 1
           },
           {
            "name": "3 others",
            "count": 3
           }
          ]
         }
        },
        {
         "name": "value",
         "dtype": "int64",
         "stats": {
          "unique_count": 5,
          "nan_count": 0,
          "min": "27",
          "max": "1653",
          "histogram": [
           {
            "bin_start": 27,
            "bin_end": 189.6,
            "count": 3
           },
           {
            "bin_start": 189.6,
            "bin_end": 352.2,
            "count": 0
           },
           {
            "bin_start": 352.2,
            "bin_end": 514.8,
            "count": 1
           },
           {
            "bin_start": 514.8,
            "bin_end": 677.4,
            "count": 0
           },
           {
            "bin_start": 677.4,
            "bin_end": 840,
            "count": 0
           },
           {
            "bin_start": 840,
            "bin_end": 1002.5999999999999,
            "count": 0
           },
           {
            "bin_start": 1002.5999999999999,
            "bin_end": 1165.2,
            "count": 0
           },
           {
            "bin_start": 1165.2,
            "bin_end": 1327.8,
            "count": 0
           },
           {
            "bin_start": 1327.8,
            "bin_end": 1490.3999999999999,
            "count": 0
           },
           {
            "bin_start": 1490.3999999999999,
            "bin_end": 1653,
            "count": 1
           }
          ]
         }
        },
        {
         "name": "_deepnote_index_column",
         "dtype": "int64"
        }
       ],
       "rows_top": [
        {
         "short_desc": "CATTLE, COWS, MILK - OPERATIONS WITH INVENTORY",
         "state_name": "Alabama",
         "value": 366,
         "_deepnote_index_column": 2047
        },
        {
         "short_desc": "CATTLE, COWS, MILK - OPERATIONS WITH INVENTORY",
         "state_name": "Alaska",
         "value": 27,
         "_deepnote_index_column": 2048
        },
        {
         "short_desc": "CATTLE, COWS, MILK - OPERATIONS WITH INVENTORY",
         "state_name": "Arizona",
         "value": 186,
         "_deepnote_index_column": 2049
        },
        {
         "short_desc": "CATTLE, COWS, MILK - OPERATIONS WITH INVENTORY",
         "state_name": "Arkansas",
         "value": 72,
         "_deepnote_index_column": 2050
        },
        {
         "short_desc": "CATTLE, COWS, MILK - OPERATIONS WITH INVENTORY",
         "state_name": "California",
         "value": 1653,
         "_deepnote_index_column": 2051
        }
       ],
       "rows_bottom": null
      },
      "text/plain": "                                          short_desc  state_name  value\n2047  CATTLE, COWS, MILK - OPERATIONS WITH INVENTORY     Alabama    366\n2048  CATTLE, COWS, MILK - OPERATIONS WITH INVENTORY      Alaska     27\n2049  CATTLE, COWS, MILK - OPERATIONS WITH INVENTORY     Arizona    186\n2050  CATTLE, COWS, MILK - OPERATIONS WITH INVENTORY    Arkansas     72\n2051  CATTLE, COWS, MILK - OPERATIONS WITH INVENTORY  California   1653",
      "text/html": "<div>\n<style scoped>\n    .dataframe tbody tr th:only-of-type {\n        vertical-align: middle;\n    }\n\n    .dataframe tbody tr th {\n        vertical-align: top;\n    }\n\n    .dataframe thead th {\n        text-align: right;\n    }\n</style>\n<table border=\"1\" class=\"dataframe\">\n  <thead>\n    <tr style=\"text-align: right;\">\n      <th></th>\n      <th>short_desc</th>\n      <th>state_name</th>\n      <th>value</th>\n    </tr>\n  </thead>\n  <tbody>\n    <tr>\n      <th>2047</th>\n      <td>CATTLE, COWS, MILK - OPERATIONS WITH INVENTORY</td>\n      <td>Alabama</td>\n      <td>366</td>\n    </tr>\n    <tr>\n      <th>2048</th>\n      <td>CATTLE, COWS, MILK - OPERATIONS WITH INVENTORY</td>\n      <td>Alaska</td>\n      <td>27</td>\n    </tr>\n    <tr>\n      <th>2049</th>\n      <td>CATTLE, COWS, MILK - OPERATIONS WITH INVENTORY</td>\n      <td>Arizona</td>\n      <td>186</td>\n    </tr>\n    <tr>\n      <th>2050</th>\n      <td>CATTLE, COWS, MILK - OPERATIONS WITH INVENTORY</td>\n      <td>Arkansas</td>\n      <td>72</td>\n    </tr>\n    <tr>\n      <th>2051</th>\n      <td>CATTLE, COWS, MILK - OPERATIONS WITH INVENTORY</td>\n      <td>California</td>\n      <td>1653</td>\n    </tr>\n  </tbody>\n</table>\n</div>"
     },
     "metadata": {}
    }
   ]
  },
  {
   "cell_type": "code",
   "metadata": {
    "cell_id": "00044-39943927-b8ef-48fc-bfb1-468d32c0cd57",
    "deepnote_to_be_reexecuted": false,
    "execution_millis": 80,
    "execution_start": 1638832602212,
    "source_hash": "133f2e8a",
    "tags": [],
    "deepnote_output_heights": [
     611
    ],
    "deepnote_app_coordinates": {
     "x": 0,
     "y": 348,
     "w": 12,
     "h": 5
    },
    "deepnote_cell_type": "code"
   },
   "source": "# Pivoting the data and calculating percentages\n\nlivestock_details_df = livestock_details_df_raw.pivot(index=\"state_name\", columns=\"short_desc\", values=\"value\")\nlivestock_percentages = livestock_details_df.div(livestock_details_df.sum(axis=1), axis=0)\n\npercentage_columns = [\"Percent_Beef_Cow_Farms\", \"Percent_Milk_Cow_Farms\", \"Percent_Chicken_Farms\", \"Percent_Hog_Farms\"]\nlivestock_percentages.columns = percentage_columns\n\n\nlivestock_details_df = livestock_details_df.join(livestock_percentages)\n\nlivestock_percentages = livestock_percentages.reset_index()\nlivestock_details_df = livestock_details_df.reset_index()\n\nlivestock_details_df.columns = [\n    \"State_Name\", \"Num_Beef_Cow_Farms\", \"Num_Milk_Cow_Farms\", \n    \"Num_Chicken_Farms\", \"Num_Hog_Farms\"] + percentage_columns\n\nstyle_dataframe(\n    livestock_percentages,\n    title=\"Livestock Percentages by State\",\n    column_names=[\"State\", \"% Beef Cow Farms\", \"% Milk Cow Farms\", \"% Chicken Farms\", \"% Hog Farms\"],\n    percent_column_indexes=[1,2,3,4],\n    heatmap=True\n)",
   "execution_count": null,
   "outputs": [
    {
     "output_type": "execute_result",
     "execution_count": 44,
     "data": {
      "text/plain": "<pandas.io.formats.style.Styler at 0x7f85ba0fe3d0>",
      "text/html": "<style  type=\"text/css\" >\n#T_26c62_row0_col1,#T_26c62_row23_col1{\n            background-color:  #084c95;\n            color:  #f1f1f1;\n        }#T_26c62_row0_col2{\n            background-color:  #f5f9fe;\n            color:  #000000;\n        }#T_26c62_row0_col3,#T_26c62_row3_col3{\n            background-color:  #d6e6f4;\n            color:  #000000;\n        }#T_26c62_row0_col4,#T_26c62_row11_col4,#T_26c62_row12_col2,#T_26c62_row23_col4,#T_26c62_row24_col4,#T_26c62_row41_col4,#T_26c62_row43_col2,#T_26c62_row49_col4{\n            background-color:  #eef5fc;\n            color:  #000000;\n        }#T_26c62_row1_col1{\n            background-color:  #bed8ec;\n            color:  #000000;\n        }#T_26c62_row1_col2{\n            background-color:  #e7f1fa;\n            color:  #000000;\n        }#T_26c62_row1_col3,#T_26c62_row34_col1{\n            background-color:  #539ecd;\n            color:  #000000;\n        }#T_26c62_row1_col4{\n            background-color:  #d1e2f3;\n            color:  #000000;\n        }#T_26c62_row2_col1,#T_26c62_row12_col1,#T_26c62_row43_col1{\n            background-color:  #2676b8;\n            color:  #000000;\n        }#T_26c62_row2_col2,#T_26c62_row8_col2,#T_26c62_row15_col2,#T_26c62_row32_col2,#T_26c62_row41_col2{\n            background-color:  #f3f8fe;\n            color:  #000000;\n        }#T_26c62_row2_col3,#T_26c62_row11_col3,#T_26c62_row48_col2{\n            background-color:  #b4d3e9;\n            color:  #000000;\n        }#T_26c62_row2_col4,#T_26c62_row5_col4,#T_26c62_row11_col2{\n            background-color:  #eaf3fb;\n            color:  #000000;\n        }#T_26c62_row3_col1{\n            background-color:  #08468b;\n            color:  #f1f1f1;\n        }#T_26c62_row3_col2,#T_26c62_row23_col2,#T_26c62_row42_col2{\n            background-color:  #f7fbff;\n            color:  #000000;\n        }#T_26c62_row3_col4,#T_26c62_row16_col2,#T_26c62_row24_col2,#T_26c62_row27_col4,#T_26c62_row42_col4{\n            background-color:  #f0f6fd;\n            color:  #000000;\n        }#T_26c62_row4_col1{\n            background-color:  #519ccc;\n            color:  #000000;\n        }#T_26c62_row4_col2,#T_26c62_row6_col4{\n            background-color:  #e5eff9;\n            color:  #000000;\n        }#T_26c62_row4_col3{\n            background-color:  #a0cbe2;\n            color:  #000000;\n        }#T_26c62_row4_col4,#T_26c62_row20_col2{\n            background-color:  #e8f1fa;\n            color:  #000000;\n        }#T_26c62_row5_col1{\n            background-color:  #3080bd;\n            color:  #000000;\n        }#T_26c62_row5_col2,#T_26c62_row9_col2,#T_26c62_row25_col2,#T_26c62_row30_col4,#T_26c62_row47_col2,#T_26c62_row49_col2{\n            background-color:  #f2f7fd;\n            color:  #000000;\n        }#T_26c62_row5_col3,#T_26c62_row31_col3,#T_26c62_row34_col3{\n            background-color:  #add0e6;\n            color:  #000000;\n        }#T_26c62_row6_col1{\n            background-color:  #9cc9e1;\n            color:  #000000;\n        }#T_26c62_row6_col2{\n            background-color:  #e7f0fa;\n            color:  #000000;\n        }#T_26c62_row6_col3{\n            background-color:  #57a0ce;\n            color:  #000000;\n        }#T_26c62_row7_col1{\n            background-color:  #6fb0d7;\n            color:  #000000;\n        }#T_26c62_row7_col2{\n            background-color:  #e3eef8;\n            color:  #000000;\n        }#T_26c62_row7_col3{\n            background-color:  #8dc1dd;\n            color:  #000000;\n        }#T_26c62_row7_col4,#T_26c62_row19_col4,#T_26c62_row29_col4,#T_26c62_row34_col4{\n            background-color:  #e1edf8;\n            color:  #000000;\n        }#T_26c62_row8_col1{\n            background-color:  #1e6db2;\n            color:  #f1f1f1;\n        }#T_26c62_row8_col3{\n            background-color:  #c3daee;\n            color:  #000000;\n        }#T_26c62_row8_col4,#T_26c62_row48_col4{\n            background-color:  #e9f2fa;\n            color:  #000000;\n        }#T_26c62_row9_col1{\n            background-color:  #1967ad;\n            color:  #f1f1f1;\n        }#T_26c62_row9_col3,#T_26c62_row32_col3{\n            background-color:  #c7dbef;\n            color:  #000000;\n        }#T_26c62_row9_col4,#T_26c62_row14_col2,#T_26c62_row17_col4{\n            background-color:  #ecf4fb;\n            color:  #000000;\n        }#T_26c62_row10_col1{\n            background-color:  #4a98c9;\n            color:  #000000;\n        }#T_26c62_row10_col2{\n            background-color:  #f5fafe;\n            color:  #000000;\n        }#T_26c62_row10_col3,#T_26c62_row38_col1,#T_26c62_row44_col1{\n            background-color:  #9ac8e0;\n            color:  #000000;\n        }#T_26c62_row10_col4,#T_26c62_row13_col4,#T_26c62_row18_col2,#T_26c62_row21_col2{\n            background-color:  #deebf7;\n            color:  #000000;\n        }#T_26c62_row11_col1,#T_26c62_row14_col1{\n            background-color:  #2e7ebc;\n            color:  #000000;\n        }#T_26c62_row12_col3{\n            background-color:  #cbdef1;\n            color:  #000000;\n        }#T_26c62_row12_col4{\n            background-color:  #e0ecf8;\n            color:  #000000;\n        }#T_26c62_row13_col1,#T_26c62_row46_col1{\n            background-color:  #4b98ca;\n            color:  #000000;\n        }#T_26c62_row13_col2,#T_26c62_row19_col2,#T_26c62_row31_col4{\n            background-color:  #e3eef9;\n            color:  #000000;\n        }#T_26c62_row13_col3,#T_26c62_row27_col3{\n            background-color:  #b8d5ea;\n            color:  #000000;\n        }#T_26c62_row14_col3,#T_26c62_row22_col2{\n            background-color:  #d8e7f5;\n            color:  #000000;\n        }#T_26c62_row14_col4{\n            background-color:  #cfe1f2;\n            color:  #000000;\n        }#T_26c62_row15_col1{\n            background-color:  #08478d;\n            color:  #f1f1f1;\n        }#T_26c62_row15_col3{\n            background-color:  #d9e8f5;\n            color:  #000000;\n        }#T_26c62_row15_col4,#T_26c62_row25_col4,#T_26c62_row27_col2,#T_26c62_row29_col2,#T_26c62_row30_col2,#T_26c62_row36_col2,#T_26c62_row38_col2,#T_26c62_row40_col2{\n            background-color:  #f1f7fd;\n            color:  #000000;\n        }#T_26c62_row16_col1,#T_26c62_row17_col1,#T_26c62_row25_col1{\n            background-color:  #0e59a2;\n            color:  #f1f1f1;\n        }#T_26c62_row16_col3{\n            background-color:  #d0e2f2;\n            color:  #000000;\n        }#T_26c62_row16_col4,#T_26c62_row35_col4,#T_26c62_row40_col4,#T_26c62_row45_col2,#T_26c62_row46_col2{\n            background-color:  #eff6fc;\n            color:  #000000;\n        }#T_26c62_row17_col2,#T_26c62_row35_col2{\n            background-color:  #f6faff;\n            color:  #000000;\n        }#T_26c62_row17_col3{\n            background-color:  #cde0f1;\n            color:  #000000;\n        }#T_26c62_row18_col1{\n            background-color:  #aed1e7;\n            color:  #000000;\n        }#T_26c62_row18_col3{\n            background-color:  #5ca4d0;\n            color:  #000000;\n        }#T_26c62_row18_col4{\n            background-color:  #dfebf7;\n            color:  #000000;\n        }#T_26c62_row19_col1{\n            background-color:  #6aaed6;\n            color:  #000000;\n        }#T_26c62_row19_col3{\n            background-color:  #92c4de;\n            color:  #000000;\n        }#T_26c62_row20_col1{\n            background-color:  #b2d2e8;\n            color:  #000000;\n        }#T_26c62_row20_col3{\n            background-color:  #4695c8;\n            color:  #000000;\n        }#T_26c62_row20_col4,#T_26c62_row21_col4,#T_26c62_row40_col3{\n            background-color:  #dfecf7;\n            color:  #000000;\n        }#T_26c62_row21_col1{\n            background-color:  #81badb;\n            color:  #000000;\n        }#T_26c62_row21_col3,#T_26c62_row31_col1{\n            background-color:  #8abfdd;\n            color:  #000000;\n        }#T_26c62_row22_col1{\n            background-color:  #4d99ca;\n            color:  #000000;\n        }#T_26c62_row22_col3,#T_26c62_row44_col2{\n            background-color:  #cadef0;\n            color:  #000000;\n        }#T_26c62_row22_col4,#T_26c62_row26_col3,#T_26c62_row28_col4,#T_26c62_row38_col4{\n            background-color:  #dce9f6;\n            color:  #000000;\n        }#T_26c62_row23_col3{\n            background-color:  #d4e4f4;\n            color:  #000000;\n        }#T_26c62_row24_col1{\n            background-color:  #08519c;\n            color:  #f1f1f1;\n        }#T_26c62_row24_col3{\n            background-color:  #d7e6f5;\n            color:  #000000;\n        }#T_26c62_row25_col3{\n            background-color:  #cddff1;\n            color:  #000000;\n        }#T_26c62_row26_col1{\n            background-color:  #084a91;\n            color:  #f1f1f1;\n        }#T_26c62_row26_col2,#T_26c62_row33_col2,#T_26c62_row33_col4,#T_26c62_row39_col2{\n            background-color:  #f4f9fe;\n            color:  #000000;\n        }#T_26c62_row26_col4,#T_26c62_row36_col4,#T_26c62_row43_col4,#T_26c62_row45_col4,#T_26c62_row47_col4{\n            background-color:  #ebf3fb;\n            color:  #000000;\n        }#T_26c62_row27_col1{\n            background-color:  #206fb4;\n            color:  #f1f1f1;\n        }#T_26c62_row28_col1{\n            background-color:  #b7d4ea;\n            color:  #000000;\n        }#T_26c62_row28_col2,#T_26c62_row32_col4,#T_26c62_row34_col2{\n            background-color:  #e2edf8;\n            color:  #000000;\n        }#T_26c62_row28_col3{\n            background-color:  #529dcc;\n            color:  #000000;\n        }#T_26c62_row29_col1,#T_26c62_row47_col3{\n            background-color:  #b3d3e8;\n            color:  #000000;\n        }#T_26c62_row29_col3{\n            background-color:  #3888c1;\n            color:  #000000;\n        }#T_26c62_row30_col1{\n            background-color:  #1562a9;\n            color:  #f1f1f1;\n        }#T_26c62_row30_col3{\n            background-color:  #c6dbef;\n            color:  #000000;\n        }#T_26c62_row31_col2{\n            background-color:  #c1d9ed;\n            color:  #000000;\n        }#T_26c62_row32_col1{\n            background-color:  #2272b6;\n            color:  #f1f1f1;\n        }#T_26c62_row33_col1{\n            background-color:  #08306b;\n            color:  #f1f1f1;\n        }#T_26c62_row33_col3{\n            background-color:  #e6f0f9;\n            color:  #000000;\n        }#T_26c62_row35_col1{\n            background-color:  #084e98;\n            color:  #f1f1f1;\n        }#T_26c62_row35_col3{\n            background-color:  #d2e3f3;\n            color:  #000000;\n        }#T_26c62_row36_col1{\n            background-color:  #4292c6;\n            color:  #000000;\n        }#T_26c62_row36_col3{\n            background-color:  #94c4df;\n            color:  #000000;\n        }#T_26c62_row37_col1{\n            background-color:  #7cb7da;\n            color:  #000000;\n        }#T_26c62_row37_col2,#T_26c62_row45_col3,#T_26c62_row49_col3{\n            background-color:  #c8dcf0;\n            color:  #000000;\n        }#T_26c62_row37_col3{\n            background-color:  #afd1e7;\n            color:  #000000;\n        }#T_26c62_row37_col4,#T_26c62_row39_col4,#T_26c62_row44_col4{\n            background-color:  #e4eff9;\n            color:  #000000;\n        }#T_26c62_row38_col3{\n            background-color:  #56a0ce;\n            color:  #000000;\n        }#T_26c62_row39_col1{\n            background-color:  #3686c0;\n            color:  #000000;\n        }#T_26c62_row39_col3{\n            background-color:  #abd0e6;\n            color:  #000000;\n        }#T_26c62_row40_col1{\n            background-color:  #084387;\n            color:  #f1f1f1;\n        }#T_26c62_row41_col1{\n            background-color:  #115ca5;\n            color:  #f1f1f1;\n        }#T_26c62_row41_col3{\n            background-color:  #ccdff1;\n            color:  #000000;\n        }#T_26c62_row42_col1{\n            background-color:  #084b93;\n            color:  #f1f1f1;\n        }#T_26c62_row42_col3{\n            background-color:  #d3e3f3;\n            color:  #000000;\n        }#T_26c62_row43_col3{\n            background-color:  #bcd7eb;\n            color:  #000000;\n        }#T_26c62_row44_col3{\n            background-color:  #91c3de;\n            color:  #000000;\n        }#T_26c62_row45_col1{\n            background-color:  #1b69af;\n            color:  #f1f1f1;\n        }#T_26c62_row46_col3{\n            background-color:  #8fc2de;\n            color:  #000000;\n        }#T_26c62_row46_col4{\n            background-color:  #eaf2fb;\n            color:  #000000;\n        }#T_26c62_row47_col1{\n            background-color:  #2979b9;\n            color:  #000000;\n        }#T_26c62_row48_col1{\n            background-color:  #75b4d8;\n            color:  #000000;\n        }#T_26c62_row48_col3{\n            background-color:  #bfd8ed;\n            color:  #000000;\n        }#T_26c62_row49_col1{\n            background-color:  #1663aa;\n            color:  #f1f1f1;\n        }</style><table id=\"T_26c62_\" ><caption>Livestock Percentages by State</caption><thead>    <tr>        <th class=\"blank level0\" ></th>        <th class=\"col_heading level0 col0\" >State</th>        <th class=\"col_heading level0 col1\" >% Beef Cow Farms</th>        <th class=\"col_heading level0 col2\" >% Milk Cow Farms</th>        <th class=\"col_heading level0 col3\" >% Chicken Farms</th>        <th class=\"col_heading level0 col4\" >% Hog Farms</th>    </tr></thead><tbody>\n                <tr>\n                        <th id=\"T_26c62_level0_row0\" class=\"row_heading level0 row0\" >0</th>\n                        <td id=\"T_26c62_row0_col0\" class=\"data row0 col0\" >Alabama</td>\n                        <td id=\"T_26c62_row0_col1\" class=\"data row0 col1\" >79.26%</td>\n                        <td id=\"T_26c62_row0_col2\" class=\"data row0 col2\" >1.45%</td>\n                        <td id=\"T_26c62_row0_col3\" class=\"data row0 col3\" >15.03%</td>\n                        <td id=\"T_26c62_row0_col4\" class=\"data row0 col4\" >4.26%</td>\n            </tr>\n            <tr>\n                        <th id=\"T_26c62_level0_row1\" class=\"row_heading level0 row1\" >1</th>\n                        <td id=\"T_26c62_row1_col0\" class=\"data row1 col0\" >Alaska</td>\n                        <td id=\"T_26c62_row1_col1\" class=\"data row1 col1\" >24.73%</td>\n                        <td id=\"T_26c62_row1_col2\" class=\"data row1 col2\" >7.26%</td>\n                        <td id=\"T_26c62_row1_col3\" class=\"data row1 col3\" >50.81%</td>\n                        <td id=\"T_26c62_row1_col4\" class=\"data row1 col4\" >17.20%</td>\n            </tr>\n            <tr>\n                        <th id=\"T_26c62_level0_row2\" class=\"row_heading level0 row2\" >2</th>\n                        <td id=\"T_26c62_row2_col0\" class=\"data row2 col0\" >Arizona</td>\n                        <td id=\"T_26c62_row2_col1\" class=\"data row2 col1\" >64.56%</td>\n                        <td id=\"T_26c62_row2_col2\" class=\"data row2 col2\" >2.16%</td>\n                        <td id=\"T_26c62_row2_col3\" class=\"data row2 col3\" >27.23%</td>\n                        <td id=\"T_26c62_row2_col4\" class=\"data row2 col4\" >6.05%</td>\n            </tr>\n            <tr>\n                        <th id=\"T_26c62_level0_row3\" class=\"row_heading level0 row3\" >3</th>\n                        <td id=\"T_26c62_row3_col0\" class=\"data row3 col0\" >Arkansas</td>\n                        <td id=\"T_26c62_row3_col1\" class=\"data row3 col1\" >81.18%</td>\n                        <td id=\"T_26c62_row3_col2\" class=\"data row3 col2\" >0.25%</td>\n                        <td id=\"T_26c62_row3_col3\" class=\"data row3 col3\" >14.97%</td>\n                        <td id=\"T_26c62_row3_col4\" class=\"data row3 col4\" >3.60%</td>\n            </tr>\n            <tr>\n                        <th id=\"T_26c62_level0_row4\" class=\"row_heading level0 row4\" >4</th>\n                        <td id=\"T_26c62_row4_col0\" class=\"data row4 col0\" >California</td>\n                        <td id=\"T_26c62_row4_col1\" class=\"data row4 col1\" >51.68%</td>\n                        <td id=\"T_26c62_row4_col2\" class=\"data row4 col2\" >8.33%</td>\n                        <td id=\"T_26c62_row4_col3\" class=\"data row4 col3\" >32.99%</td>\n                        <td id=\"T_26c62_row4_col4\" class=\"data row4 col4\" >7.00%</td>\n            </tr>\n            <tr>\n                        <th id=\"T_26c62_level0_row5\" class=\"row_heading level0 row5\" >5</th>\n                        <td id=\"T_26c62_row5_col0\" class=\"data row5 col0\" >Colorado</td>\n                        <td id=\"T_26c62_row5_col1\" class=\"data row5 col1\" >61.62%</td>\n                        <td id=\"T_26c62_row5_col2\" class=\"data row5 col2\" >2.90%</td>\n                        <td id=\"T_26c62_row5_col3\" class=\"data row5 col3\" >29.40%</td>\n                        <td id=\"T_26c62_row5_col4\" class=\"data row5 col4\" >6.09%</td>\n            </tr>\n            <tr>\n                        <th id=\"T_26c62_level0_row6\" class=\"row_heading level0 row6\" >6</th>\n                        <td id=\"T_26c62_row6_col0\" class=\"data row6 col0\" >Connecticut</td>\n                        <td id=\"T_26c62_row6_col1\" class=\"data row6 col1\" >33.90%</td>\n                        <td id=\"T_26c62_row6_col2\" class=\"data row6 col2\" >7.80%</td>\n                        <td id=\"T_26c62_row6_col3\" class=\"data row6 col3\" >49.86%</td>\n                        <td id=\"T_26c62_row6_col4\" class=\"data row6 col4\" >8.44%</td>\n            </tr>\n            <tr>\n                        <th id=\"T_26c62_level0_row7\" class=\"row_heading level0 row7\" >7</th>\n                        <td id=\"T_26c62_row7_col0\" class=\"data row7 col0\" >Delaware</td>\n                        <td id=\"T_26c62_row7_col1\" class=\"data row7 col1\" >43.52%</td>\n                        <td id=\"T_26c62_row7_col2\" class=\"data row7 col2\" >9.26%</td>\n                        <td id=\"T_26c62_row7_col3\" class=\"data row7 col3\" >37.04%</td>\n                        <td id=\"T_26c62_row7_col4\" class=\"data row7 col4\" >10.19%</td>\n            </tr>\n            <tr>\n                        <th id=\"T_26c62_level0_row8\" class=\"row_heading level0 row8\" >8</th>\n                        <td id=\"T_26c62_row8_col0\" class=\"data row8 col0\" >Florida</td>\n                        <td id=\"T_26c62_row8_col1\" class=\"data row8 col1\" >67.88%</td>\n                        <td id=\"T_26c62_row8_col2\" class=\"data row8 col2\" >2.20%</td>\n                        <td id=\"T_26c62_row8_col3\" class=\"data row8 col3\" >23.27%</td>\n                        <td id=\"T_26c62_row8_col4\" class=\"data row8 col4\" >6.64%</td>\n            </tr>\n            <tr>\n                        <th id=\"T_26c62_level0_row9\" class=\"row_heading level0 row9\" >9</th>\n                        <td id=\"T_26c62_row9_col0\" class=\"data row9 col0\" >Georgia</td>\n                        <td id=\"T_26c62_row9_col1\" class=\"data row9 col1\" >69.89%</td>\n                        <td id=\"T_26c62_row9_col2\" class=\"data row9 col2\" >2.69%</td>\n                        <td id=\"T_26c62_row9_col3\" class=\"data row9 col3\" >22.29%</td>\n                        <td id=\"T_26c62_row9_col4\" class=\"data row9 col4\" >5.13%</td>\n            </tr>\n            <tr>\n                        <th id=\"T_26c62_level0_row10\" class=\"row_heading level0 row10\" >10</th>\n                        <td id=\"T_26c62_row10_col0\" class=\"data row10 col0\" >Hawaii</td>\n                        <td id=\"T_26c62_row10_col1\" class=\"data row10 col1\" >53.23%</td>\n                        <td id=\"T_26c62_row10_col2\" class=\"data row10 col2\" >1.02%</td>\n                        <td id=\"T_26c62_row10_col3\" class=\"data row10 col3\" >34.27%</td>\n                        <td id=\"T_26c62_row10_col4\" class=\"data row10 col4\" >11.49%</td>\n            </tr>\n            <tr>\n                        <th id=\"T_26c62_level0_row11\" class=\"row_heading level0 row11\" >11</th>\n                        <td id=\"T_26c62_row11_col0\" class=\"data row11 col0\" >Idaho</td>\n                        <td id=\"T_26c62_row11_col1\" class=\"data row11 col1\" >62.12%</td>\n                        <td id=\"T_26c62_row11_col2\" class=\"data row11 col2\" >5.98%</td>\n                        <td id=\"T_26c62_row11_col3\" class=\"data row11 col3\" >27.28%</td>\n                        <td id=\"T_26c62_row11_col4\" class=\"data row11 col4\" >4.62%</td>\n            </tr>\n            <tr>\n                        <th id=\"T_26c62_level0_row12\" class=\"row_heading level0 row12\" >12</th>\n                        <td id=\"T_26c62_row12_col0\" class=\"data row12 col0\" >Illinois</td>\n                        <td id=\"T_26c62_row12_col1\" class=\"data row12 col1\" >64.75%</td>\n                        <td id=\"T_26c62_row12_col2\" class=\"data row12 col2\" >4.55%</td>\n                        <td id=\"T_26c62_row12_col3\" class=\"data row12 col3\" >20.09%</td>\n                        <td id=\"T_26c62_row12_col4\" class=\"data row12 col4\" >10.61%</td>\n            </tr>\n            <tr>\n                        <th id=\"T_26c62_level0_row13\" class=\"row_heading level0 row13\" >13</th>\n                        <td id=\"T_26c62_row13_col0\" class=\"data row13 col0\" >Indiana</td>\n                        <td id=\"T_26c62_row13_col1\" class=\"data row13 col1\" >52.87%</td>\n                        <td id=\"T_26c62_row13_col2\" class=\"data row13 col2\" >9.22%</td>\n                        <td id=\"T_26c62_row13_col3\" class=\"data row13 col3\" >26.35%</td>\n                        <td id=\"T_26c62_row13_col4\" class=\"data row13 col4\" >11.56%</td>\n            </tr>\n            <tr>\n                        <th id=\"T_26c62_level0_row14\" class=\"row_heading level0 row14\" >14</th>\n                        <td id=\"T_26c62_row14_col0\" class=\"data row14 col0\" >Iowa</td>\n                        <td id=\"T_26c62_row14_col1\" class=\"data row14 col1\" >62.15%</td>\n                        <td id=\"T_26c62_row14_col2\" class=\"data row14 col2\" >5.16%</td>\n                        <td id=\"T_26c62_row14_col3\" class=\"data row14 col3\" >14.34%</td>\n                        <td id=\"T_26c62_row14_col4\" class=\"data row14 col4\" >18.35%</td>\n            </tr>\n            <tr>\n                        <th id=\"T_26c62_level0_row15\" class=\"row_heading level0 row15\" >15</th>\n                        <td id=\"T_26c62_row15_col0\" class=\"data row15 col0\" >Kansas</td>\n                        <td id=\"T_26c62_row15_col1\" class=\"data row15 col1\" >81.02%</td>\n                        <td id=\"T_26c62_row15_col2\" class=\"data row15 col2\" >2.19%</td>\n                        <td id=\"T_26c62_row15_col3\" class=\"data row15 col3\" >13.57%</td>\n                        <td id=\"T_26c62_row15_col4\" class=\"data row15 col4\" >3.23%</td>\n            </tr>\n            <tr>\n                        <th id=\"T_26c62_level0_row16\" class=\"row_heading level0 row16\" >16</th>\n                        <td id=\"T_26c62_row16_col0\" class=\"data row16 col0\" >Kentucky</td>\n                        <td id=\"T_26c62_row16_col1\" class=\"data row16 col1\" >74.79%</td>\n                        <td id=\"T_26c62_row16_col2\" class=\"data row16 col2\" >3.48%</td>\n                        <td id=\"T_26c62_row16_col3\" class=\"data row16 col3\" >17.74%</td>\n                        <td id=\"T_26c62_row16_col4\" class=\"data row16 col4\" >3.99%</td>\n            </tr>\n            <tr>\n                        <th id=\"T_26c62_level0_row17\" class=\"row_heading level0 row17\" >17</th>\n                        <td id=\"T_26c62_row17_col0\" class=\"data row17 col0\" >Louisiana</td>\n                        <td id=\"T_26c62_row17_col1\" class=\"data row17 col1\" >74.83%</td>\n                        <td id=\"T_26c62_row17_col2\" class=\"data row17 col2\" >0.82%</td>\n                        <td id=\"T_26c62_row17_col3\" class=\"data row17 col3\" >18.93%</td>\n                        <td id=\"T_26c62_row17_col4\" class=\"data row17 col4\" >5.43%</td>\n            </tr>\n            <tr>\n                        <th id=\"T_26c62_level0_row18\" class=\"row_heading level0 row18\" >18</th>\n                        <td id=\"T_26c62_row18_col0\" class=\"data row18 col0\" >Maine</td>\n                        <td id=\"T_26c62_row18_col1\" class=\"data row18 col1\" >29.17%</td>\n                        <td id=\"T_26c62_row18_col2\" class=\"data row18 col2\" >11.50%</td>\n                        <td id=\"T_26c62_row18_col3\" class=\"data row18 col3\" >48.36%</td>\n                        <td id=\"T_26c62_row18_col4\" class=\"data row18 col4\" >10.97%</td>\n            </tr>\n            <tr>\n                        <th id=\"T_26c62_level0_row19\" class=\"row_heading level0 row19\" >19</th>\n                        <td id=\"T_26c62_row19_col0\" class=\"data row19 col0\" >Maryland</td>\n                        <td id=\"T_26c62_row19_col1\" class=\"data row19 col1\" >44.65%</td>\n                        <td id=\"T_26c62_row19_col2\" class=\"data row19 col2\" >9.18%</td>\n                        <td id=\"T_26c62_row19_col3\" class=\"data row19 col3\" >36.08%</td>\n                        <td id=\"T_26c62_row19_col4\" class=\"data row19 col4\" >10.09%</td>\n            </tr>\n            <tr>\n                        <th id=\"T_26c62_level0_row20\" class=\"row_heading level0 row20\" >20</th>\n                        <td id=\"T_26c62_row20_col0\" class=\"data row20 col0\" >Massachusetts</td>\n                        <td id=\"T_26c62_row20_col1\" class=\"data row20 col1\" >27.91%</td>\n                        <td id=\"T_26c62_row20_col2\" class=\"data row20 col2\" >6.99%</td>\n                        <td id=\"T_26c62_row20_col3\" class=\"data row20 col3\" >54.40%</td>\n                        <td id=\"T_26c62_row20_col4\" class=\"data row20 col4\" >10.70%</td>\n            </tr>\n            <tr>\n                        <th id=\"T_26c62_level0_row21\" class=\"row_heading level0 row21\" >21</th>\n                        <td id=\"T_26c62_row21_col0\" class=\"data row21 col0\" >Michigan</td>\n                        <td id=\"T_26c62_row21_col1\" class=\"data row21 col1\" >39.90%</td>\n                        <td id=\"T_26c62_row21_col2\" class=\"data row21 col2\" >11.57%</td>\n                        <td id=\"T_26c62_row21_col3\" class=\"data row21 col3\" >37.72%</td>\n                        <td id=\"T_26c62_row21_col4\" class=\"data row21 col4\" >10.81%</td>\n            </tr>\n            <tr>\n                        <th id=\"T_26c62_level0_row22\" class=\"row_heading level0 row22\" >22</th>\n                        <td id=\"T_26c62_row22_col0\" class=\"data row22 col0\" >Minnesota</td>\n                        <td id=\"T_26c62_row22_col1\" class=\"data row22 col1\" >52.41%</td>\n                        <td id=\"T_26c62_row22_col2\" class=\"data row22 col2\" >14.32%</td>\n                        <td id=\"T_26c62_row22_col3\" class=\"data row22 col3\" >20.61%</td>\n                        <td id=\"T_26c62_row22_col4\" class=\"data row22 col4\" >12.67%</td>\n            </tr>\n            <tr>\n                        <th id=\"T_26c62_level0_row23\" class=\"row_heading level0 row23\" >23</th>\n                        <td id=\"T_26c62_row23_col0\" class=\"data row23 col0\" >Mississippi</td>\n                        <td id=\"T_26c62_row23_col1\" class=\"data row23 col1\" >79.11%</td>\n                        <td id=\"T_26c62_row23_col2\" class=\"data row23 col2\" >0.58%</td>\n                        <td id=\"T_26c62_row23_col3\" class=\"data row23 col3\" >16.11%</td>\n                        <td id=\"T_26c62_row23_col4\" class=\"data row23 col4\" >4.20%</td>\n            </tr>\n            <tr>\n                        <th id=\"T_26c62_level0_row24\" class=\"row_heading level0 row24\" >24</th>\n                        <td id=\"T_26c62_row24_col0\" class=\"data row24 col0\" >Missouri</td>\n                        <td id=\"T_26c62_row24_col1\" class=\"data row24 col1\" >77.44%</td>\n                        <td id=\"T_26c62_row24_col2\" class=\"data row24 col2\" >3.67%</td>\n                        <td id=\"T_26c62_row24_col3\" class=\"data row24 col3\" >14.57%</td>\n                        <td id=\"T_26c62_row24_col4\" class=\"data row24 col4\" >4.32%</td>\n            </tr>\n            <tr>\n                        <th id=\"T_26c62_level0_row25\" class=\"row_heading level0 row25\" >25</th>\n                        <td id=\"T_26c62_row25_col0\" class=\"data row25 col0\" >Montana</td>\n                        <td id=\"T_26c62_row25_col1\" class=\"data row25 col1\" >74.53%</td>\n                        <td id=\"T_26c62_row25_col2\" class=\"data row25 col2\" >2.75%</td>\n                        <td id=\"T_26c62_row25_col3\" class=\"data row25 col3\" >19.45%</td>\n                        <td id=\"T_26c62_row25_col4\" class=\"data row25 col4\" >3.27%</td>\n            </tr>\n            <tr>\n                        <th id=\"T_26c62_level0_row26\" class=\"row_heading level0 row26\" >26</th>\n                        <td id=\"T_26c62_row26_col0\" class=\"data row26 col0\" >Nebraska</td>\n                        <td id=\"T_26c62_row26_col1\" class=\"data row26 col1\" >79.96%</td>\n                        <td id=\"T_26c62_row26_col2\" class=\"data row26 col2\" >1.97%</td>\n                        <td id=\"T_26c62_row26_col3\" class=\"data row26 col3\" >12.51%</td>\n                        <td id=\"T_26c62_row26_col4\" class=\"data row26 col4\" >5.55%</td>\n            </tr>\n            <tr>\n                        <th id=\"T_26c62_level0_row27\" class=\"row_heading level0 row27\" >27</th>\n                        <td id=\"T_26c62_row27_col0\" class=\"data row27 col0\" >Nevada</td>\n                        <td id=\"T_26c62_row27_col1\" class=\"data row27 col1\" >67.06%</td>\n                        <td id=\"T_26c62_row27_col2\" class=\"data row27 col2\" >3.02%</td>\n                        <td id=\"T_26c62_row27_col3\" class=\"data row27 col3\" >26.46%</td>\n                        <td id=\"T_26c62_row27_col4\" class=\"data row27 col4\" >3.46%</td>\n            </tr>\n            <tr>\n                        <th id=\"T_26c62_level0_row28\" class=\"row_heading level0 row28\" >28</th>\n                        <td id=\"T_26c62_row28_col0\" class=\"data row28 col0\" >New Hampshire</td>\n                        <td id=\"T_26c62_row28_col1\" class=\"data row28 col1\" >26.83%</td>\n                        <td id=\"T_26c62_row28_col2\" class=\"data row28 col2\" >9.63%</td>\n                        <td id=\"T_26c62_row28_col3\" class=\"data row28 col3\" >51.02%</td>\n                        <td id=\"T_26c62_row28_col4\" class=\"data row28 col4\" >12.52%</td>\n            </tr>\n            <tr>\n                        <th id=\"T_26c62_level0_row29\" class=\"row_heading level0 row29\" >29</th>\n                        <td id=\"T_26c62_row29_col0\" class=\"data row29 col0\" >New Jersey</td>\n                        <td id=\"T_26c62_row29_col1\" class=\"data row29 col1\" >27.82%</td>\n                        <td id=\"T_26c62_row29_col2\" class=\"data row29 col2\" >3.22%</td>\n                        <td id=\"T_26c62_row29_col3\" class=\"data row29 col3\" >58.71%</td>\n                        <td id=\"T_26c62_row29_col4\" class=\"data row29 col4\" >10.26%</td>\n            </tr>\n            <tr>\n                        <th id=\"T_26c62_level0_row30\" class=\"row_heading level0 row30\" >30</th>\n                        <td id=\"T_26c62_row30_col0\" class=\"data row30 col0\" >New Mexico</td>\n                        <td id=\"T_26c62_row30_col1\" class=\"data row30 col1\" >71.46%</td>\n                        <td id=\"T_26c62_row30_col2\" class=\"data row30 col2\" >3.09%</td>\n                        <td id=\"T_26c62_row30_col3\" class=\"data row30 col3\" >22.64%</td>\n                        <td id=\"T_26c62_row30_col4\" class=\"data row30 col4\" >2.81%</td>\n            </tr>\n            <tr>\n                        <th id=\"T_26c62_level0_row31\" class=\"row_heading level0 row31\" >31</th>\n                        <td id=\"T_26c62_row31_col0\" class=\"data row31 col0\" >New York</td>\n                        <td id=\"T_26c62_row31_col1\" class=\"data row31 col1\" >37.66%</td>\n                        <td id=\"T_26c62_row31_col2\" class=\"data row31 col2\" >23.95%</td>\n                        <td id=\"T_26c62_row31_col3\" class=\"data row31 col3\" >29.43%</td>\n                        <td id=\"T_26c62_row31_col4\" class=\"data row31 col4\" >8.96%</td>\n            </tr>\n            <tr>\n                        <th id=\"T_26c62_level0_row32\" class=\"row_heading level0 row32\" >32</th>\n                        <td id=\"T_26c62_row32_col0\" class=\"data row32 col0\" >North Carolina</td>\n                        <td id=\"T_26c62_row32_col1\" class=\"data row32 col1\" >65.89%</td>\n                        <td id=\"T_26c62_row32_col2\" class=\"data row32 col2\" >2.19%</td>\n                        <td id=\"T_26c62_row32_col3\" class=\"data row32 col3\" >22.17%</td>\n                        <td id=\"T_26c62_row32_col4\" class=\"data row32 col4\" >9.74%</td>\n            </tr>\n            <tr>\n                        <th id=\"T_26c62_level0_row33\" class=\"row_heading level0 row33\" >33</th>\n                        <td id=\"T_26c62_row33_col0\" class=\"data row33 col0\" >North Dakota</td>\n                        <td id=\"T_26c62_row33_col1\" class=\"data row33 col1\" >88.66%</td>\n                        <td id=\"T_26c62_row33_col2\" class=\"data row33 col2\" >1.68%</td>\n                        <td id=\"T_26c62_row33_col3\" class=\"data row33 col3\" >7.99%</td>\n                        <td id=\"T_26c62_row33_col4\" class=\"data row33 col4\" >1.68%</td>\n            </tr>\n            <tr>\n                        <th id=\"T_26c62_level0_row34\" class=\"row_heading level0 row34\" >34</th>\n                        <td id=\"T_26c62_row34_col0\" class=\"data row34 col0\" >Ohio</td>\n                        <td id=\"T_26c62_row34_col1\" class=\"data row34 col1\" >50.90%</td>\n                        <td id=\"T_26c62_row34_col2\" class=\"data row34 col2\" >9.60%</td>\n                        <td id=\"T_26c62_row34_col3\" class=\"data row34 col3\" >29.49%</td>\n                        <td id=\"T_26c62_row34_col4\" class=\"data row34 col4\" >10.00%</td>\n            </tr>\n            <tr>\n                        <th id=\"T_26c62_level0_row35\" class=\"row_heading level0 row35\" >35</th>\n                        <td id=\"T_26c62_row35_col0\" class=\"data row35 col0\" >Oklahoma</td>\n                        <td id=\"T_26c62_row35_col1\" class=\"data row35 col1\" >78.49%</td>\n                        <td id=\"T_26c62_row35_col2\" class=\"data row35 col2\" >0.80%</td>\n                        <td id=\"T_26c62_row35_col3\" class=\"data row35 col3\" >16.85%</td>\n                        <td id=\"T_26c62_row35_col4\" class=\"data row35 col4\" >3.86%</td>\n            </tr>\n            <tr>\n                        <th id=\"T_26c62_level0_row36\" class=\"row_heading level0 row36\" >36</th>\n                        <td id=\"T_26c62_row36_col0\" class=\"data row36 col0\" >Oregon</td>\n                        <td id=\"T_26c62_row36_col1\" class=\"data row36 col1\" >55.49%</td>\n                        <td id=\"T_26c62_row36_col2\" class=\"data row36 col2\" >3.10%</td>\n                        <td id=\"T_26c62_row36_col3\" class=\"data row36 col3\" >35.76%</td>\n                        <td id=\"T_26c62_row36_col4\" class=\"data row36 col4\" >5.66%</td>\n            </tr>\n            <tr>\n                        <th id=\"T_26c62_level0_row37\" class=\"row_heading level0 row37\" >37</th>\n                        <td id=\"T_26c62_row37_col0\" class=\"data row37 col0\" >Pennsylvania</td>\n                        <td id=\"T_26c62_row37_col1\" class=\"data row37 col1\" >40.97%</td>\n                        <td id=\"T_26c62_row37_col2\" class=\"data row37 col2\" >21.50%</td>\n                        <td id=\"T_26c62_row37_col3\" class=\"data row37 col3\" >28.89%</td>\n                        <td id=\"T_26c62_row37_col4\" class=\"data row37 col4\" >8.64%</td>\n            </tr>\n            <tr>\n                        <th id=\"T_26c62_level0_row38\" class=\"row_heading level0 row38\" >38</th>\n                        <td id=\"T_26c62_row38_col0\" class=\"data row38 col0\" >Rhode Island</td>\n                        <td id=\"T_26c62_row38_col1\" class=\"data row38 col1\" >34.10%</td>\n                        <td id=\"T_26c62_row38_col2\" class=\"data row38 col2\" >3.35%</td>\n                        <td id=\"T_26c62_row38_col3\" class=\"data row38 col3\" >50.00%</td>\n                        <td id=\"T_26c62_row38_col4\" class=\"data row38 col4\" >12.55%</td>\n            </tr>\n            <tr>\n                        <th id=\"T_26c62_level0_row39\" class=\"row_heading level0 row39\" >39</th>\n                        <td id=\"T_26c62_row39_col0\" class=\"data row39 col0\" >South Carolina</td>\n                        <td id=\"T_26c62_row39_col1\" class=\"data row39 col1\" >59.61%</td>\n                        <td id=\"T_26c62_row39_col2\" class=\"data row39 col2\" >1.85%</td>\n                        <td id=\"T_26c62_row39_col3\" class=\"data row39 col3\" >29.87%</td>\n                        <td id=\"T_26c62_row39_col4\" class=\"data row39 col4\" >8.66%</td>\n            </tr>\n            <tr>\n                        <th id=\"T_26c62_level0_row40\" class=\"row_heading level0 row40\" >40</th>\n                        <td id=\"T_26c62_row40_col0\" class=\"data row40 col0\" >South Dakota</td>\n                        <td id=\"T_26c62_row40_col1\" class=\"data row40 col1\" >82.24%</td>\n                        <td id=\"T_26c62_row40_col2\" class=\"data row40 col2\" >3.32%</td>\n                        <td id=\"T_26c62_row40_col3\" class=\"data row40 col3\" >10.72%</td>\n                        <td id=\"T_26c62_row40_col4\" class=\"data row40 col4\" >3.72%</td>\n            </tr>\n            <tr>\n                        <th id=\"T_26c62_level0_row41\" class=\"row_heading level0 row41\" >41</th>\n                        <td id=\"T_26c62_row41_col0\" class=\"data row41 col0\" >Tennessee</td>\n                        <td id=\"T_26c62_row41_col1\" class=\"data row41 col1\" >73.78%</td>\n                        <td id=\"T_26c62_row41_col2\" class=\"data row41 col2\" >2.21%</td>\n                        <td id=\"T_26c62_row41_col3\" class=\"data row41 col3\" >19.77%</td>\n                        <td id=\"T_26c62_row41_col4\" class=\"data row41 col4\" >4.25%</td>\n            </tr>\n            <tr>\n                        <th id=\"T_26c62_level0_row42\" class=\"row_heading level0 row42\" >42</th>\n                        <td id=\"T_26c62_row42_col0\" class=\"data row42 col0\" >Texas</td>\n                        <td id=\"T_26c62_row42_col1\" class=\"data row42 col1\" >79.58%</td>\n                        <td id=\"T_26c62_row42_col2\" class=\"data row42 col2\" >0.28%</td>\n                        <td id=\"T_26c62_row42_col3\" class=\"data row42 col3\" >16.65%</td>\n                        <td id=\"T_26c62_row42_col4\" class=\"data row42 col4\" >3.49%</td>\n            </tr>\n            <tr>\n                        <th id=\"T_26c62_level0_row43\" class=\"row_heading level0 row43\" >43</th>\n                        <td id=\"T_26c62_row43_col0\" class=\"data row43 col0\" >Utah</td>\n                        <td id=\"T_26c62_row43_col1\" class=\"data row43 col1\" >64.65%</td>\n                        <td id=\"T_26c62_row43_col2\" class=\"data row43 col2\" >4.42%</td>\n                        <td id=\"T_26c62_row43_col3\" class=\"data row43 col3\" >25.36%</td>\n                        <td id=\"T_26c62_row43_col4\" class=\"data row43 col4\" >5.57%</td>\n            </tr>\n            <tr>\n                        <th id=\"T_26c62_level0_row44\" class=\"row_heading level0 row44\" >44</th>\n                        <td id=\"T_26c62_row44_col0\" class=\"data row44 col0\" >Vermont</td>\n                        <td id=\"T_26c62_row44_col1\" class=\"data row44 col1\" >34.30%</td>\n                        <td id=\"T_26c62_row44_col2\" class=\"data row44 col2\" >20.62%</td>\n                        <td id=\"T_26c62_row44_col3\" class=\"data row44 col3\" >36.43%</td>\n                        <td id=\"T_26c62_row44_col4\" class=\"data row44 col4\" >8.65%</td>\n            </tr>\n            <tr>\n                        <th id=\"T_26c62_level0_row45\" class=\"row_heading level0 row45\" >45</th>\n                        <td id=\"T_26c62_row45_col0\" class=\"data row45 col0\" >Virginia</td>\n                        <td id=\"T_26c62_row45_col1\" class=\"data row45 col1\" >69.14%</td>\n                        <td id=\"T_26c62_row45_col2\" class=\"data row45 col2\" >3.93%</td>\n                        <td id=\"T_26c62_row45_col3\" class=\"data row45 col3\" >21.46%</td>\n                        <td id=\"T_26c62_row45_col4\" class=\"data row45 col4\" >5.47%</td>\n            </tr>\n            <tr>\n                        <th id=\"T_26c62_level0_row46\" class=\"row_heading level0 row46\" >46</th>\n                        <td id=\"T_26c62_row46_col0\" class=\"data row46 col0\" >Washington</td>\n                        <td id=\"T_26c62_row46_col1\" class=\"data row46 col1\" >53.01%</td>\n                        <td id=\"T_26c62_row46_col2\" class=\"data row46 col2\" >3.77%</td>\n                        <td id=\"T_26c62_row46_col3\" class=\"data row46 col3\" >36.79%</td>\n                        <td id=\"T_26c62_row46_col4\" class=\"data row46 col4\" >6.42%</td>\n            </tr>\n            <tr>\n                        <th id=\"T_26c62_level0_row47\" class=\"row_heading level0 row47\" >47</th>\n                        <td id=\"T_26c62_row47_col0\" class=\"data row47 col0\" >West Virginia</td>\n                        <td id=\"T_26c62_row47_col1\" class=\"data row47 col1\" >64.00%</td>\n                        <td id=\"T_26c62_row47_col2\" class=\"data row47 col2\" >2.84%</td>\n                        <td id=\"T_26c62_row47_col3\" class=\"data row47 col3\" >27.64%</td>\n                        <td id=\"T_26c62_row47_col4\" class=\"data row47 col4\" >5.52%</td>\n            </tr>\n            <tr>\n                        <th id=\"T_26c62_level0_row48\" class=\"row_heading level0 row48\" >48</th>\n                        <td id=\"T_26c62_row48_col0\" class=\"data row48 col0\" >Wisconsin</td>\n                        <td id=\"T_26c62_row48_col1\" class=\"data row48 col1\" >42.05%</td>\n                        <td id=\"T_26c62_row48_col2\" class=\"data row48 col2\" >27.24%</td>\n                        <td id=\"T_26c62_row48_col3\" class=\"data row48 col3\" >24.09%</td>\n                        <td id=\"T_26c62_row48_col4\" class=\"data row48 col4\" >6.62%</td>\n            </tr>\n            <tr>\n                        <th id=\"T_26c62_level0_row49\" class=\"row_heading level0 row49\" >49</th>\n                        <td id=\"T_26c62_row49_col0\" class=\"data row49 col0\" >Wyoming</td>\n                        <td id=\"T_26c62_row49_col1\" class=\"data row49 col1\" >71.08%</td>\n                        <td id=\"T_26c62_row49_col2\" class=\"data row49 col2\" >2.91%</td>\n                        <td id=\"T_26c62_row49_col3\" class=\"data row49 col3\" >21.44%</td>\n                        <td id=\"T_26c62_row49_col4\" class=\"data row49 col4\" >4.57%</td>\n            </tr>\n    </tbody></table>"
     },
     "metadata": {}
    }
   ]
  },
  {
   "cell_type": "markdown",
   "source": "As we can see from the table above, for most states, the majority of their livestock farms are focused on beef.\n\nBelow we can take a look at all states where beef cattle farms do not form the majority. Unsurprisingly, these states are primarily smaller, northeastern states that don't have much land area for beef cattle.",
   "metadata": {
    "cell_id": "00045-aeb68e5e-74f0-4496-9bab-42432670959b",
    "tags": [],
    "deepnote_app_coordinates": {
     "x": 0,
     "y": 354,
     "w": 12,
     "h": 5
    },
    "deepnote_cell_type": "markdown"
   }
  },
  {
   "cell_type": "code",
   "metadata": {
    "cell_id": "00046-65b82cad-9248-4702-8123-9e1707a1f578",
    "deepnote_to_be_reexecuted": false,
    "execution_millis": 1,
    "execution_start": 1638832614467,
    "source_hash": "90306184",
    "tags": [],
    "deepnote_output_heights": [
     438
    ],
    "deepnote_app_coordinates": {
     "x": 0,
     "y": 360,
     "w": 12,
     "h": 5
    },
    "deepnote_cell_type": "code"
   },
   "source": "non_beef_majority_filter = livestock_percentages[\"Percent_Beef_Cow_Farms\"] <= 0.5\nnon_beef_majority = livestock_percentages.loc[non_beef_majority_filter]\n\nstyle_dataframe(\n    non_beef_majority,\n    column_names=[\"State\", \"% Beef Cow Farms\", \"% Milk Cow Farms\", \"% Chicken Farms\", \"% Hog Farms\"],\n    heatmap=True,\n    heatmap_subset=[\"Percent_Milk_Cow_Farms\", \"Percent_Chicken_Farms\", \"Percent_Hog_Farms\"],\n    percent_column_indexes=[1,2,3,4]\n)",
   "execution_count": null,
   "outputs": [
    {
     "output_type": "execute_result",
     "execution_count": 45,
     "data": {
      "text/plain": "<pandas.io.formats.style.Styler at 0x7f85ba568550>",
      "text/html": "<style  type=\"text/css\" >\n#T_577ca_row0_col2{\n            background-color:  #e9f2fa;\n            color:  #000000;\n        }#T_577ca_row0_col3{\n            background-color:  #0b559f;\n            color:  #f1f1f1;\n        }#T_577ca_row0_col4{\n            background-color:  #c6dbef;\n            color:  #000000;\n        }#T_577ca_row1_col2{\n            background-color:  #e7f0fa;\n            color:  #000000;\n        }#T_577ca_row1_col3,#T_577ca_row11_col3{\n            background-color:  #0e59a2;\n            color:  #f1f1f1;\n        }#T_577ca_row1_col4,#T_577ca_row10_col4{\n            background-color:  #e4eff9;\n            color:  #000000;\n        }#T_577ca_row2_col2,#T_577ca_row4_col2{\n            background-color:  #e2edf8;\n            color:  #000000;\n        }#T_577ca_row2_col3{\n            background-color:  #4695c8;\n            color:  #000000;\n        }#T_577ca_row2_col4,#T_577ca_row8_col4{\n            background-color:  #deebf7;\n            color:  #000000;\n        }#T_577ca_row3_col2,#T_577ca_row6_col2{\n            background-color:  #d9e8f5;\n            color:  #000000;\n        }#T_577ca_row3_col3{\n            background-color:  #1460a8;\n            color:  #f1f1f1;\n        }#T_577ca_row3_col4,#T_577ca_row6_col4{\n            background-color:  #dce9f6;\n            color:  #000000;\n        }#T_577ca_row4_col3{\n            background-color:  #4d99ca;\n            color:  #000000;\n        }#T_577ca_row4_col4{\n            background-color:  #dfebf7;\n            color:  #000000;\n        }#T_577ca_row5_col2{\n            background-color:  #eaf2fb;\n            color:  #000000;\n        }#T_577ca_row5_col3{\n            background-color:  #084488;\n            color:  #f1f1f1;\n        }#T_577ca_row5_col4{\n            background-color:  #dceaf6;\n            color:  #000000;\n        }#T_577ca_row6_col3{\n            background-color:  #4292c6;\n            color:  #000000;\n        }#T_577ca_row7_col2{\n            background-color:  #e0ecf8;\n            color:  #000000;\n        }#T_577ca_row7_col3{\n            background-color:  #0a549e;\n            color:  #f1f1f1;\n        }#T_577ca_row7_col4{\n            background-color:  #d6e6f4;\n            color:  #000000;\n        }#T_577ca_row8_col2,#T_577ca_row11_col2{\n            background-color:  #f7fbff;\n            color:  #000000;\n        }#T_577ca_row8_col3{\n            background-color:  #08306b;\n            color:  #f1f1f1;\n        }#T_577ca_row9_col2{\n            background-color:  #9fcae1;\n            color:  #000000;\n        }#T_577ca_row9_col3{\n            background-color:  #77b5d9;\n            color:  #000000;\n        }#T_577ca_row9_col4{\n            background-color:  #e3eef8;\n            color:  #000000;\n        }#T_577ca_row10_col2{\n            background-color:  #add0e6;\n            color:  #000000;\n        }#T_577ca_row10_col3{\n            background-color:  #7ab6d9;\n            color:  #000000;\n        }#T_577ca_row11_col4{\n            background-color:  #d6e5f4;\n            color:  #000000;\n        }#T_577ca_row12_col2{\n            background-color:  #b2d2e8;\n            color:  #000000;\n        }#T_577ca_row12_col3{\n            background-color:  #4a98c9;\n            color:  #000000;\n        }#T_577ca_row12_col4{\n            background-color:  #e3eef9;\n            color:  #000000;\n        }#T_577ca_row13_col2{\n            background-color:  #87bddc;\n            color:  #000000;\n        }#T_577ca_row13_col3{\n            background-color:  #9dcae1;\n            color:  #000000;\n        }#T_577ca_row13_col4{\n            background-color:  #ebf3fb;\n            color:  #000000;\n        }</style><table id=\"T_577ca_\" ><thead>    <tr>        <th class=\"blank level0\" ></th>        <th class=\"col_heading level0 col0\" >State</th>        <th class=\"col_heading level0 col1\" >% Beef Cow Farms</th>        <th class=\"col_heading level0 col2\" >% Milk Cow Farms</th>        <th class=\"col_heading level0 col3\" >% Chicken Farms</th>        <th class=\"col_heading level0 col4\" >% Hog Farms</th>    </tr></thead><tbody>\n                <tr>\n                        <th id=\"T_577ca_level0_row0\" class=\"row_heading level0 row0\" >1</th>\n                        <td id=\"T_577ca_row0_col0\" class=\"data row0 col0\" >Alaska</td>\n                        <td id=\"T_577ca_row0_col1\" class=\"data row0 col1\" >24.73%</td>\n                        <td id=\"T_577ca_row0_col2\" class=\"data row0 col2\" >7.26%</td>\n                        <td id=\"T_577ca_row0_col3\" class=\"data row0 col3\" >50.81%</td>\n                        <td id=\"T_577ca_row0_col4\" class=\"data row0 col4\" >17.20%</td>\n            </tr>\n            <tr>\n                        <th id=\"T_577ca_level0_row1\" class=\"row_heading level0 row1\" >6</th>\n                        <td id=\"T_577ca_row1_col0\" class=\"data row1 col0\" >Connecticut</td>\n                        <td id=\"T_577ca_row1_col1\" class=\"data row1 col1\" >33.90%</td>\n                        <td id=\"T_577ca_row1_col2\" class=\"data row1 col2\" >7.80%</td>\n                        <td id=\"T_577ca_row1_col3\" class=\"data row1 col3\" >49.86%</td>\n                        <td id=\"T_577ca_row1_col4\" class=\"data row1 col4\" >8.44%</td>\n            </tr>\n            <tr>\n                        <th id=\"T_577ca_level0_row2\" class=\"row_heading level0 row2\" >7</th>\n                        <td id=\"T_577ca_row2_col0\" class=\"data row2 col0\" >Delaware</td>\n                        <td id=\"T_577ca_row2_col1\" class=\"data row2 col1\" >43.52%</td>\n                        <td id=\"T_577ca_row2_col2\" class=\"data row2 col2\" >9.26%</td>\n                        <td id=\"T_577ca_row2_col3\" class=\"data row2 col3\" >37.04%</td>\n                        <td id=\"T_577ca_row2_col4\" class=\"data row2 col4\" >10.19%</td>\n            </tr>\n            <tr>\n                        <th id=\"T_577ca_level0_row3\" class=\"row_heading level0 row3\" >18</th>\n                        <td id=\"T_577ca_row3_col0\" class=\"data row3 col0\" >Maine</td>\n                        <td id=\"T_577ca_row3_col1\" class=\"data row3 col1\" >29.17%</td>\n                        <td id=\"T_577ca_row3_col2\" class=\"data row3 col2\" >11.50%</td>\n                        <td id=\"T_577ca_row3_col3\" class=\"data row3 col3\" >48.36%</td>\n                        <td id=\"T_577ca_row3_col4\" class=\"data row3 col4\" >10.97%</td>\n            </tr>\n            <tr>\n                        <th id=\"T_577ca_level0_row4\" class=\"row_heading level0 row4\" >19</th>\n                        <td id=\"T_577ca_row4_col0\" class=\"data row4 col0\" >Maryland</td>\n                        <td id=\"T_577ca_row4_col1\" class=\"data row4 col1\" >44.65%</td>\n                        <td id=\"T_577ca_row4_col2\" class=\"data row4 col2\" >9.18%</td>\n                        <td id=\"T_577ca_row4_col3\" class=\"data row4 col3\" >36.08%</td>\n                        <td id=\"T_577ca_row4_col4\" class=\"data row4 col4\" >10.09%</td>\n            </tr>\n            <tr>\n                        <th id=\"T_577ca_level0_row5\" class=\"row_heading level0 row5\" >20</th>\n                        <td id=\"T_577ca_row5_col0\" class=\"data row5 col0\" >Massachusetts</td>\n                        <td id=\"T_577ca_row5_col1\" class=\"data row5 col1\" >27.91%</td>\n                        <td id=\"T_577ca_row5_col2\" class=\"data row5 col2\" >6.99%</td>\n                        <td id=\"T_577ca_row5_col3\" class=\"data row5 col3\" >54.40%</td>\n                        <td id=\"T_577ca_row5_col4\" class=\"data row5 col4\" >10.70%</td>\n            </tr>\n            <tr>\n                        <th id=\"T_577ca_level0_row6\" class=\"row_heading level0 row6\" >21</th>\n                        <td id=\"T_577ca_row6_col0\" class=\"data row6 col0\" >Michigan</td>\n                        <td id=\"T_577ca_row6_col1\" class=\"data row6 col1\" >39.90%</td>\n                        <td id=\"T_577ca_row6_col2\" class=\"data row6 col2\" >11.57%</td>\n                        <td id=\"T_577ca_row6_col3\" class=\"data row6 col3\" >37.72%</td>\n                        <td id=\"T_577ca_row6_col4\" class=\"data row6 col4\" >10.81%</td>\n            </tr>\n            <tr>\n                        <th id=\"T_577ca_level0_row7\" class=\"row_heading level0 row7\" >28</th>\n                        <td id=\"T_577ca_row7_col0\" class=\"data row7 col0\" >New Hampshire</td>\n                        <td id=\"T_577ca_row7_col1\" class=\"data row7 col1\" >26.83%</td>\n                        <td id=\"T_577ca_row7_col2\" class=\"data row7 col2\" >9.63%</td>\n                        <td id=\"T_577ca_row7_col3\" class=\"data row7 col3\" >51.02%</td>\n                        <td id=\"T_577ca_row7_col4\" class=\"data row7 col4\" >12.52%</td>\n            </tr>\n            <tr>\n                        <th id=\"T_577ca_level0_row8\" class=\"row_heading level0 row8\" >29</th>\n                        <td id=\"T_577ca_row8_col0\" class=\"data row8 col0\" >New Jersey</td>\n                        <td id=\"T_577ca_row8_col1\" class=\"data row8 col1\" >27.82%</td>\n                        <td id=\"T_577ca_row8_col2\" class=\"data row8 col2\" >3.22%</td>\n                        <td id=\"T_577ca_row8_col3\" class=\"data row8 col3\" >58.71%</td>\n                        <td id=\"T_577ca_row8_col4\" class=\"data row8 col4\" >10.26%</td>\n            </tr>\n            <tr>\n                        <th id=\"T_577ca_level0_row9\" class=\"row_heading level0 row9\" >31</th>\n                        <td id=\"T_577ca_row9_col0\" class=\"data row9 col0\" >New York</td>\n                        <td id=\"T_577ca_row9_col1\" class=\"data row9 col1\" >37.66%</td>\n                        <td id=\"T_577ca_row9_col2\" class=\"data row9 col2\" >23.95%</td>\n                        <td id=\"T_577ca_row9_col3\" class=\"data row9 col3\" >29.43%</td>\n                        <td id=\"T_577ca_row9_col4\" class=\"data row9 col4\" >8.96%</td>\n            </tr>\n            <tr>\n                        <th id=\"T_577ca_level0_row10\" class=\"row_heading level0 row10\" >37</th>\n                        <td id=\"T_577ca_row10_col0\" class=\"data row10 col0\" >Pennsylvania</td>\n                        <td id=\"T_577ca_row10_col1\" class=\"data row10 col1\" >40.97%</td>\n                        <td id=\"T_577ca_row10_col2\" class=\"data row10 col2\" >21.50%</td>\n                        <td id=\"T_577ca_row10_col3\" class=\"data row10 col3\" >28.89%</td>\n                        <td id=\"T_577ca_row10_col4\" class=\"data row10 col4\" >8.64%</td>\n            </tr>\n            <tr>\n                        <th id=\"T_577ca_level0_row11\" class=\"row_heading level0 row11\" >38</th>\n                        <td id=\"T_577ca_row11_col0\" class=\"data row11 col0\" >Rhode Island</td>\n                        <td id=\"T_577ca_row11_col1\" class=\"data row11 col1\" >34.10%</td>\n                        <td id=\"T_577ca_row11_col2\" class=\"data row11 col2\" >3.35%</td>\n                        <td id=\"T_577ca_row11_col3\" class=\"data row11 col3\" >50.00%</td>\n                        <td id=\"T_577ca_row11_col4\" class=\"data row11 col4\" >12.55%</td>\n            </tr>\n            <tr>\n                        <th id=\"T_577ca_level0_row12\" class=\"row_heading level0 row12\" >44</th>\n                        <td id=\"T_577ca_row12_col0\" class=\"data row12 col0\" >Vermont</td>\n                        <td id=\"T_577ca_row12_col1\" class=\"data row12 col1\" >34.30%</td>\n                        <td id=\"T_577ca_row12_col2\" class=\"data row12 col2\" >20.62%</td>\n                        <td id=\"T_577ca_row12_col3\" class=\"data row12 col3\" >36.43%</td>\n                        <td id=\"T_577ca_row12_col4\" class=\"data row12 col4\" >8.65%</td>\n            </tr>\n            <tr>\n                        <th id=\"T_577ca_level0_row13\" class=\"row_heading level0 row13\" >48</th>\n                        <td id=\"T_577ca_row13_col0\" class=\"data row13 col0\" >Wisconsin</td>\n                        <td id=\"T_577ca_row13_col1\" class=\"data row13 col1\" >42.05%</td>\n                        <td id=\"T_577ca_row13_col2\" class=\"data row13 col2\" >27.24%</td>\n                        <td id=\"T_577ca_row13_col3\" class=\"data row13 col3\" >24.09%</td>\n                        <td id=\"T_577ca_row13_col4\" class=\"data row13 col4\" >6.62%</td>\n            </tr>\n    </tbody></table>"
     },
     "metadata": {}
    }
   ]
  },
  {
   "cell_type": "markdown",
   "source": "Below we take a look at the 5 states with the most total farms and highest percentage of farms for each livestock type.",
   "metadata": {
    "cell_id": "00047-f51f3019-1d45-4825-89c7-a27dcb9517b0",
    "tags": [],
    "deepnote_app_coordinates": {
     "x": 0,
     "y": 366,
     "w": 12,
     "h": 5
    },
    "deepnote_cell_type": "markdown"
   }
  },
  {
   "cell_type": "code",
   "metadata": {
    "cell_id": "00045-947cd7ba-d96f-4c9d-b0a8-09d0fff29701",
    "deepnote_to_be_reexecuted": false,
    "execution_millis": 74,
    "execution_start": 1638832623473,
    "source_hash": "2d02374c",
    "tags": [],
    "deepnote_output_heights": [
     219,
     null,
     219,
     null,
     219,
     null,
     219,
     null,
     219,
     null,
     219,
     null,
     219,
     null,
     219
    ],
    "deepnote_app_coordinates": {
     "x": 0,
     "y": 372,
     "w": 12,
     "h": 5
    },
    "deepnote_cell_type": "code"
   },
   "source": "livestock_types = [\"Beef_Cow\", \"Milk_Cow\", \"Chicken\", \"Hog\"]\ntop_5_states = {}\n\ndef print_top_five_states(column_prefix, print_postface):\n    for livestock_type in livestock_types:\n        column_name = column_prefix + \"_\" + livestock_type + \"_Farms\"\n        states = livestock_details_df[\n        [\"State_Name\", column_name]\n        ].sort_values(column_name, ascending=False).iloc[:5].reset_index(drop=True)\n\n        top_5_states[livestock_type] = states[\"State_Name\"]\n\n        title = \"Top 5 \" + livestock_type.replace('_', ' ') + \" states \" + print_postface\n        display(style_dataframe(\n                states, \n                title=title\n            ))\n        print(\"\\n\")\n\nprint_top_five_states(\"Num\", \"(Total # of Farms)\")\nprint(\"---------------\\n\")\nprint_top_five_states(\"Percent\", \"(Percentage of Farms)\")",
   "execution_count": null,
   "outputs": [
    {
     "data": {
      "text/plain": "<pandas.io.formats.style.Styler at 0x7f85ba313990>",
      "text/html": "<style  type=\"text/css\" >\n</style><table id=\"T_54bbc_\" ><caption>Top 5 Beef Cow states (Total # of Farms)</caption><thead>    <tr>        <th class=\"blank level0\" ></th>        <th class=\"col_heading level0 col0\" >State_Name</th>        <th class=\"col_heading level0 col1\" >Num_Beef_Cow_Farms</th>    </tr></thead><tbody>\n                <tr>\n                        <th id=\"T_54bbc_level0_row0\" class=\"row_heading level0 row0\" >0</th>\n                        <td id=\"T_54bbc_row0_col0\" class=\"data row0 col0\" >Texas</td>\n                        <td id=\"T_54bbc_row0_col1\" class=\"data row0 col1\" >134250</td>\n            </tr>\n            <tr>\n                        <th id=\"T_54bbc_level0_row1\" class=\"row_heading level0 row1\" >1</th>\n                        <td id=\"T_54bbc_row1_col0\" class=\"data row1 col0\" >Missouri</td>\n                        <td id=\"T_54bbc_row1_col1\" class=\"data row1 col1\" >48122</td>\n            </tr>\n            <tr>\n                        <th id=\"T_54bbc_level0_row2\" class=\"row_heading level0 row2\" >2</th>\n                        <td id=\"T_54bbc_row2_col0\" class=\"data row2 col0\" >Oklahoma</td>\n                        <td id=\"T_54bbc_row2_col1\" class=\"data row2 col1\" >46080</td>\n            </tr>\n            <tr>\n                        <th id=\"T_54bbc_level0_row3\" class=\"row_heading level0 row3\" >3</th>\n                        <td id=\"T_54bbc_row3_col0\" class=\"data row3 col0\" >Kentucky</td>\n                        <td id=\"T_54bbc_row3_col1\" class=\"data row3 col1\" >33864</td>\n            </tr>\n            <tr>\n                        <th id=\"T_54bbc_level0_row4\" class=\"row_heading level0 row4\" >4</th>\n                        <td id=\"T_54bbc_row4_col0\" class=\"data row4 col0\" >Tennessee</td>\n                        <td id=\"T_54bbc_row4_col1\" class=\"data row4 col1\" >32960</td>\n            </tr>\n    </tbody></table>"
     },
     "metadata": {},
     "output_type": "display_data"
    },
    {
     "name": "stdout",
     "text": "\n\n",
     "output_type": "stream"
    },
    {
     "data": {
      "text/plain": "<pandas.io.formats.style.Styler at 0x7f85ba10eb50>",
      "text/html": "<style  type=\"text/css\" >\n</style><table id=\"T_09e27_\" ><caption>Top 5 Milk Cow states (Total # of Farms)</caption><thead>    <tr>        <th class=\"blank level0\" ></th>        <th class=\"col_heading level0 col0\" >State_Name</th>        <th class=\"col_heading level0 col1\" >Num_Milk_Cow_Farms</th>    </tr></thead><tbody>\n                <tr>\n                        <th id=\"T_09e27_level0_row0\" class=\"row_heading level0 row0\" >0</th>\n                        <td id=\"T_09e27_row0_col0\" class=\"data row0 col0\" >Wisconsin</td>\n                        <td id=\"T_09e27_row0_col1\" class=\"data row0 col1\" >9037</td>\n            </tr>\n            <tr>\n                        <th id=\"T_09e27_level0_row1\" class=\"row_heading level0 row1\" >1</th>\n                        <td id=\"T_09e27_row1_col0\" class=\"data row1 col0\" >Pennsylvania</td>\n                        <td id=\"T_09e27_row1_col1\" class=\"data row1 col1\" >6914</td>\n            </tr>\n            <tr>\n                        <th id=\"T_09e27_level0_row2\" class=\"row_heading level0 row2\" >2</th>\n                        <td id=\"T_09e27_row2_col0\" class=\"data row2 col0\" >New York</td>\n                        <td id=\"T_09e27_row2_col1\" class=\"data row2 col1\" >4648</td>\n            </tr>\n            <tr>\n                        <th id=\"T_09e27_level0_row3\" class=\"row_heading level0 row3\" >3</th>\n                        <td id=\"T_09e27_row3_col0\" class=\"data row3 col0\" >Minnesota</td>\n                        <td id=\"T_09e27_row3_col1\" class=\"data row3 col1\" >3644</td>\n            </tr>\n            <tr>\n                        <th id=\"T_09e27_level0_row4\" class=\"row_heading level0 row4\" >4</th>\n                        <td id=\"T_09e27_row4_col0\" class=\"data row4 col0\" >Ohio</td>\n                        <td id=\"T_09e27_row4_col1\" class=\"data row4 col1\" >3346</td>\n            </tr>\n    </tbody></table>"
     },
     "metadata": {},
     "output_type": "display_data"
    },
    {
     "name": "stdout",
     "text": "\n\n",
     "output_type": "stream"
    },
    {
     "data": {
      "text/plain": "<pandas.io.formats.style.Styler at 0x7f85ba562190>",
      "text/html": "<style  type=\"text/css\" >\n</style><table id=\"T_7e0de_\" ><caption>Top 5 Chicken states (Total # of Farms)</caption><thead>    <tr>        <th class=\"blank level0\" ></th>        <th class=\"col_heading level0 col0\" >State_Name</th>        <th class=\"col_heading level0 col1\" >Num_Chicken_Farms</th>    </tr></thead><tbody>\n                <tr>\n                        <th id=\"T_7e0de_level0_row0\" class=\"row_heading level0 row0\" >0</th>\n                        <td id=\"T_7e0de_row0_col0\" class=\"data row0 col0\" >Texas</td>\n                        <td id=\"T_7e0de_row0_col1\" class=\"data row0 col1\" >28096</td>\n            </tr>\n            <tr>\n                        <th id=\"T_7e0de_level0_row1\" class=\"row_heading level0 row1\" >1</th>\n                        <td id=\"T_7e0de_row1_col0\" class=\"data row1 col0\" >Ohio</td>\n                        <td id=\"T_7e0de_row1_col1\" class=\"data row1 col1\" >10274</td>\n            </tr>\n            <tr>\n                        <th id=\"T_7e0de_level0_row2\" class=\"row_heading level0 row2\" >2</th>\n                        <td id=\"T_7e0de_row2_col0\" class=\"data row2 col0\" >Oklahoma</td>\n                        <td id=\"T_7e0de_row2_col1\" class=\"data row2 col1\" >9894</td>\n            </tr>\n            <tr>\n                        <th id=\"T_7e0de_level0_row3\" class=\"row_heading level0 row3\" >3</th>\n                        <td id=\"T_7e0de_row3_col0\" class=\"data row3 col0\" >Pennsylvania</td>\n                        <td id=\"T_7e0de_row3_col1\" class=\"data row3 col1\" >9290</td>\n            </tr>\n            <tr>\n                        <th id=\"T_7e0de_level0_row4\" class=\"row_heading level0 row4\" >4</th>\n                        <td id=\"T_7e0de_row4_col0\" class=\"data row4 col0\" >Missouri</td>\n                        <td id=\"T_7e0de_row4_col1\" class=\"data row4 col1\" >9052</td>\n            </tr>\n    </tbody></table>"
     },
     "metadata": {},
     "output_type": "display_data"
    },
    {
     "name": "stdout",
     "text": "\n\n",
     "output_type": "stream"
    },
    {
     "data": {
      "text/plain": "<pandas.io.formats.style.Styler at 0x7f85ba568fd0>",
      "text/html": "<style  type=\"text/css\" >\n</style><table id=\"T_a4062_\" ><caption>Top 5 Hog states (Total # of Farms)</caption><thead>    <tr>        <th class=\"blank level0\" ></th>        <th class=\"col_heading level0 col0\" >State_Name</th>        <th class=\"col_heading level0 col1\" >Num_Hog_Farms</th>    </tr></thead><tbody>\n                <tr>\n                        <th id=\"T_a4062_level0_row0\" class=\"row_heading level0 row0\" >0</th>\n                        <td id=\"T_a4062_row0_col0\" class=\"data row0 col0\" >Texas</td>\n                        <td id=\"T_a4062_row0_col1\" class=\"data row0 col1\" >5894</td>\n            </tr>\n            <tr>\n                        <th id=\"T_a4062_level0_row1\" class=\"row_heading level0 row1\" >1</th>\n                        <td id=\"T_a4062_row1_col0\" class=\"data row1 col0\" >Iowa</td>\n                        <td id=\"T_a4062_row1_col1\" class=\"data row1 col1\" >5660</td>\n            </tr>\n            <tr>\n                        <th id=\"T_a4062_level0_row2\" class=\"row_heading level0 row2\" >2</th>\n                        <td id=\"T_a4062_row2_col0\" class=\"data row2 col0\" >Ohio</td>\n                        <td id=\"T_a4062_row2_col1\" class=\"data row2 col1\" >3484</td>\n            </tr>\n            <tr>\n                        <th id=\"T_a4062_level0_row3\" class=\"row_heading level0 row3\" >3</th>\n                        <td id=\"T_a4062_row3_col0\" class=\"data row3 col0\" >Minnesota</td>\n                        <td id=\"T_a4062_row3_col1\" class=\"data row3 col1\" >3225</td>\n            </tr>\n            <tr>\n                        <th id=\"T_a4062_level0_row4\" class=\"row_heading level0 row4\" >4</th>\n                        <td id=\"T_a4062_row4_col0\" class=\"data row4 col0\" >Pennsylvania</td>\n                        <td id=\"T_a4062_row4_col1\" class=\"data row4 col1\" >2777</td>\n            </tr>\n    </tbody></table>"
     },
     "metadata": {},
     "output_type": "display_data"
    },
    {
     "name": "stdout",
     "text": "\n\n---------------\n\n",
     "output_type": "stream"
    },
    {
     "data": {
      "text/plain": "<pandas.io.formats.style.Styler at 0x7f85ba568350>",
      "text/html": "<style  type=\"text/css\" >\n</style><table id=\"T_94b9a_\" ><caption>Top 5 Beef Cow states (Percentage of Farms)</caption><thead>    <tr>        <th class=\"blank level0\" ></th>        <th class=\"col_heading level0 col0\" >State_Name</th>        <th class=\"col_heading level0 col1\" >Percent_Beef_Cow_Farms</th>    </tr></thead><tbody>\n                <tr>\n                        <th id=\"T_94b9a_level0_row0\" class=\"row_heading level0 row0\" >0</th>\n                        <td id=\"T_94b9a_row0_col0\" class=\"data row0 col0\" >North Dakota</td>\n                        <td id=\"T_94b9a_row0_col1\" class=\"data row0 col1\" >0.886559</td>\n            </tr>\n            <tr>\n                        <th id=\"T_94b9a_level0_row1\" class=\"row_heading level0 row1\" >1</th>\n                        <td id=\"T_94b9a_row1_col0\" class=\"data row1 col0\" >South Dakota</td>\n                        <td id=\"T_94b9a_row1_col1\" class=\"data row1 col1\" >0.822390</td>\n            </tr>\n            <tr>\n                        <th id=\"T_94b9a_level0_row2\" class=\"row_heading level0 row2\" >2</th>\n                        <td id=\"T_94b9a_row2_col0\" class=\"data row2 col0\" >Arkansas</td>\n                        <td id=\"T_94b9a_row2_col1\" class=\"data row2 col1\" >0.811756</td>\n            </tr>\n            <tr>\n                        <th id=\"T_94b9a_level0_row3\" class=\"row_heading level0 row3\" >3</th>\n                        <td id=\"T_94b9a_row3_col0\" class=\"data row3 col0\" >Kansas</td>\n                        <td id=\"T_94b9a_row3_col1\" class=\"data row3 col1\" >0.810167</td>\n            </tr>\n            <tr>\n                        <th id=\"T_94b9a_level0_row4\" class=\"row_heading level0 row4\" >4</th>\n                        <td id=\"T_94b9a_row4_col0\" class=\"data row4 col0\" >Nebraska</td>\n                        <td id=\"T_94b9a_row4_col1\" class=\"data row4 col1\" >0.799630</td>\n            </tr>\n    </tbody></table>"
     },
     "metadata": {},
     "output_type": "display_data"
    },
    {
     "name": "stdout",
     "text": "\n\n",
     "output_type": "stream"
    },
    {
     "data": {
      "text/plain": "<pandas.io.formats.style.Styler at 0x7f85b9c9e750>",
      "text/html": "<style  type=\"text/css\" >\n</style><table id=\"T_18343_\" ><caption>Top 5 Milk Cow states (Percentage of Farms)</caption><thead>    <tr>        <th class=\"blank level0\" ></th>        <th class=\"col_heading level0 col0\" >State_Name</th>        <th class=\"col_heading level0 col1\" >Percent_Milk_Cow_Farms</th>    </tr></thead><tbody>\n                <tr>\n                        <th id=\"T_18343_level0_row0\" class=\"row_heading level0 row0\" >0</th>\n                        <td id=\"T_18343_row0_col0\" class=\"data row0 col0\" >Wisconsin</td>\n                        <td id=\"T_18343_row0_col1\" class=\"data row0 col1\" >0.272355</td>\n            </tr>\n            <tr>\n                        <th id=\"T_18343_level0_row1\" class=\"row_heading level0 row1\" >1</th>\n                        <td id=\"T_18343_row1_col0\" class=\"data row1 col0\" >New York</td>\n                        <td id=\"T_18343_row1_col1\" class=\"data row1 col1\" >0.239477</td>\n            </tr>\n            <tr>\n                        <th id=\"T_18343_level0_row2\" class=\"row_heading level0 row2\" >2</th>\n                        <td id=\"T_18343_row2_col0\" class=\"data row2 col0\" >Pennsylvania</td>\n                        <td id=\"T_18343_row2_col1\" class=\"data row2 col1\" >0.215008</td>\n            </tr>\n            <tr>\n                        <th id=\"T_18343_level0_row3\" class=\"row_heading level0 row3\" >3</th>\n                        <td id=\"T_18343_row3_col0\" class=\"data row3 col0\" >Vermont</td>\n                        <td id=\"T_18343_row3_col1\" class=\"data row3 col1\" >0.206178</td>\n            </tr>\n            <tr>\n                        <th id=\"T_18343_level0_row4\" class=\"row_heading level0 row4\" >4</th>\n                        <td id=\"T_18343_row4_col0\" class=\"data row4 col0\" >Minnesota</td>\n                        <td id=\"T_18343_row4_col1\" class=\"data row4 col1\" >0.143166</td>\n            </tr>\n    </tbody></table>"
     },
     "metadata": {},
     "output_type": "display_data"
    },
    {
     "name": "stdout",
     "text": "\n\n",
     "output_type": "stream"
    },
    {
     "data": {
      "text/plain": "<pandas.io.formats.style.Styler at 0x7f85ba313810>",
      "text/html": "<style  type=\"text/css\" >\n</style><table id=\"T_16968_\" ><caption>Top 5 Chicken states (Percentage of Farms)</caption><thead>    <tr>        <th class=\"blank level0\" ></th>        <th class=\"col_heading level0 col0\" >State_Name</th>        <th class=\"col_heading level0 col1\" >Percent_Chicken_Farms</th>    </tr></thead><tbody>\n                <tr>\n                        <th id=\"T_16968_level0_row0\" class=\"row_heading level0 row0\" >0</th>\n                        <td id=\"T_16968_row0_col0\" class=\"data row0 col0\" >New Jersey</td>\n                        <td id=\"T_16968_row0_col1\" class=\"data row0 col1\" >0.587053</td>\n            </tr>\n            <tr>\n                        <th id=\"T_16968_level0_row1\" class=\"row_heading level0 row1\" >1</th>\n                        <td id=\"T_16968_row1_col0\" class=\"data row1 col0\" >Massachusetts</td>\n                        <td id=\"T_16968_row1_col1\" class=\"data row1 col1\" >0.543982</td>\n            </tr>\n            <tr>\n                        <th id=\"T_16968_level0_row2\" class=\"row_heading level0 row2\" >2</th>\n                        <td id=\"T_16968_row2_col0\" class=\"data row2 col0\" >New Hampshire</td>\n                        <td id=\"T_16968_row2_col1\" class=\"data row2 col1\" >0.510250</td>\n            </tr>\n            <tr>\n                        <th id=\"T_16968_level0_row3\" class=\"row_heading level0 row3\" >3</th>\n                        <td id=\"T_16968_row3_col0\" class=\"data row3 col0\" >Alaska</td>\n                        <td id=\"T_16968_row3_col1\" class=\"data row3 col1\" >0.508065</td>\n            </tr>\n            <tr>\n                        <th id=\"T_16968_level0_row4\" class=\"row_heading level0 row4\" >4</th>\n                        <td id=\"T_16968_row4_col0\" class=\"data row4 col0\" >Rhode Island</td>\n                        <td id=\"T_16968_row4_col1\" class=\"data row4 col1\" >0.500000</td>\n            </tr>\n    </tbody></table>"
     },
     "metadata": {},
     "output_type": "display_data"
    },
    {
     "name": "stdout",
     "text": "\n\n",
     "output_type": "stream"
    },
    {
     "data": {
      "text/plain": "<pandas.io.formats.style.Styler at 0x7f85ba568090>",
      "text/html": "<style  type=\"text/css\" >\n</style><table id=\"T_dcfa0_\" ><caption>Top 5 Hog states (Percentage of Farms)</caption><thead>    <tr>        <th class=\"blank level0\" ></th>        <th class=\"col_heading level0 col0\" >State_Name</th>        <th class=\"col_heading level0 col1\" >Percent_Hog_Farms</th>    </tr></thead><tbody>\n                <tr>\n                        <th id=\"T_dcfa0_level0_row0\" class=\"row_heading level0 row0\" >0</th>\n                        <td id=\"T_dcfa0_row0_col0\" class=\"data row0 col0\" >Iowa</td>\n                        <td id=\"T_dcfa0_row0_col1\" class=\"data row0 col1\" >0.183480</td>\n            </tr>\n            <tr>\n                        <th id=\"T_dcfa0_level0_row1\" class=\"row_heading level0 row1\" >1</th>\n                        <td id=\"T_dcfa0_row1_col0\" class=\"data row1 col0\" >Alaska</td>\n                        <td id=\"T_dcfa0_row1_col1\" class=\"data row1 col1\" >0.172043</td>\n            </tr>\n            <tr>\n                        <th id=\"T_dcfa0_level0_row2\" class=\"row_heading level0 row2\" >2</th>\n                        <td id=\"T_dcfa0_row2_col0\" class=\"data row2 col0\" >Minnesota</td>\n                        <td id=\"T_dcfa0_row2_col1\" class=\"data row2 col1\" >0.126704</td>\n            </tr>\n            <tr>\n                        <th id=\"T_dcfa0_level0_row3\" class=\"row_heading level0 row3\" >3</th>\n                        <td id=\"T_dcfa0_row3_col0\" class=\"data row3 col0\" >Rhode Island</td>\n                        <td id=\"T_dcfa0_row3_col1\" class=\"data row3 col1\" >0.125523</td>\n            </tr>\n            <tr>\n                        <th id=\"T_dcfa0_level0_row4\" class=\"row_heading level0 row4\" >4</th>\n                        <td id=\"T_dcfa0_row4_col0\" class=\"data row4 col0\" >New Hampshire</td>\n                        <td id=\"T_dcfa0_row4_col1\" class=\"data row4 col1\" >0.125223</td>\n            </tr>\n    </tbody></table>"
     },
     "metadata": {},
     "output_type": "display_data"
    },
    {
     "name": "stdout",
     "text": "\n\n",
     "output_type": "stream"
    }
   ]
  },
  {
   "cell_type": "markdown",
   "source": "Now let's map out the locations of the top 5 states (percentage wise) for each livestock category.",
   "metadata": {
    "cell_id": "00049-fefd7458-a36e-4b18-8ed3-57c2078aa7f4",
    "tags": [],
    "deepnote_app_coordinates": {
     "x": 0,
     "y": 378,
     "w": 12,
     "h": 5
    },
    "deepnote_cell_type": "markdown"
   }
  },
  {
   "cell_type": "code",
   "metadata": {
    "cell_id": "00049-53e7f73f-38a7-4f73-bbcd-9b5cf79e524f",
    "deepnote_to_be_reexecuted": false,
    "execution_millis": 1,
    "execution_start": 1638832623597,
    "source_hash": "7ab53662",
    "tags": [],
    "deepnote_app_coordinates": {
     "x": 0,
     "y": 384,
     "w": 12,
     "h": 5
    },
    "deepnote_cell_type": "code"
   },
   "source": "livestock_details_df[\"top_five_beef_cow\"] = livestock_details_df[\"State_Name\"].isin(top_5_states[\"Beef_Cow\"])",
   "execution_count": null,
   "outputs": []
  },
  {
   "cell_type": "code",
   "metadata": {
    "cell_id": "00052-49154873-3309-4a84-9b7c-81ce1d93a88d",
    "deepnote_output_heights": [
     212,
     212,
     212,
     212
    ],
    "deepnote_to_be_reexecuted": false,
    "execution_millis": 972,
    "execution_start": 1638832631648,
    "source_hash": "b07e9b99",
    "tags": [],
    "deepnote_app_coordinates": {
     "x": 0,
     "y": 390,
     "w": 12,
     "h": 5
    },
    "deepnote_cell_type": "code"
   },
   "source": "\nfor livestock_type in livestock_types:\n    column_name = \"top_five_\" + livestock_type\n    livestock_details_df[column_name] = ~livestock_details_df[\"State_Name\"].isin(top_5_states[livestock_type])\n    title = \"Top 5 \" + livestock_type.replace('_', ' ') + \" States (Percentage)\"\n    plot_map(livestock_details_df, \"State_Name\", column_name, title=title, cmap=\"tab20c\")",
   "execution_count": null,
   "outputs": [
    {
     "data": {
      "text/plain": "<Figure size 432x288 with 1 Axes>",
      "image/png": "[encoded data removed]"
     },
     "metadata": {
      "needs_background": "light",
      "image/png": {
       "width": 349,
       "height": 210
      }
     },
     "output_type": "display_data"
    },
    {
     "data": {
      "text/plain": "<Figure size 432x288 with 1 Axes>",
      "image/png": "[encoded data removed]"
     },
     "metadata": {
      "needs_background": "light",
      "image/png": {
       "width": 349,
       "height": 210
      }
     },
     "output_type": "display_data"
    },
    {
     "data": {
      "text/plain": "<Figure size 432x288 with 1 Axes>",
      "image/png": "[encoded data removed]"
     },
     "metadata": {
      "needs_background": "light",
      "image/png": {
       "width": 349,
       "height": 210
      }
     },
     "output_type": "display_data"
    },
    {
     "data": {
      "text/plain": "<Figure size 432x288 with 1 Axes>",
      "image/png": "[encoded data removed]"
     },
     "metadata": {
      "needs_background": "light",
      "image/png": {
       "width": 349,
       "height": 210
      }
     },
     "output_type": "display_data"
    }
   ]
  },
  {
   "cell_type": "markdown",
   "source": "### Farmer Gender\nNow I'll move into looking at farmer demographics, starting with gender. Here we will use demographic information on \"principal producers\". The USDA census defines \"principal producers\" as individuals who indicated that they are principal operators or senior partners on the farm in question.",
   "metadata": {
    "cell_id": "00062-6885cc69-445a-4ddf-8301-26635702a425",
    "tags": [],
    "deepnote_app_coordinates": {
     "x": 0,
     "y": 396,
     "w": 12,
     "h": 5
    },
    "deepnote_cell_type": "markdown"
   }
  },
  {
   "cell_type": "code",
   "metadata": {
    "cell_id": "00063-fc6fb4d4-579d-4823-9e69-be6bf5da5ec5",
    "tags": [],
    "deepnote_to_be_reexecuted": false,
    "source_hash": "8bfefa1e",
    "execution_start": 1638832638642,
    "execution_millis": 15,
    "deepnote_app_coordinates": {
     "x": 0,
     "y": 402,
     "w": 12,
     "h": 5
    },
    "deepnote_cell_type": "code"
   },
   "source": "# Read in the data we had queried earlier and filter to only principal producer info\n\nfarmer_gender_df_raw = pd.read_csv(\"data/farmer_gender_table.csv\")\nfarmer_gender_df = clean_data_frame(farmer_gender_df_raw)\nproducer_gender_filter = farmer_gender_df[\"short_desc\"].isin(\n    [\"PRODUCERS, PRINCIPAL, MALE - NUMBER OF PRODUCERS\", \"PRODUCERS, PRINCIPAL, FEMALE - NUMBER OF PRODUCERS\"]\n    )\n\nfarmer_gender_df = farmer_gender_df.loc[producer_gender_filter, [\"short_desc\", \"state_name\", \"value\"]]\nfarmer_gender_df[\"gender\"] = np.where(\n    farmer_gender_df[\"short_desc\"].str.contains(\"FEMALE\"), \n    \"Female\", \"Male\"\n    )",
   "execution_count": null,
   "outputs": []
  },
  {
   "cell_type": "code",
   "metadata": {
    "cell_id": "00068-521833dd-e2dc-4e7e-9e96-9d5fcb0984f5",
    "deepnote_output_heights": [
     132
    ],
    "deepnote_to_be_reexecuted": false,
    "source_hash": "c777a464",
    "execution_start": 1638832642175,
    "execution_millis": 24,
    "deepnote_app_coordinates": {
     "x": 0,
     "y": 408,
     "w": 12,
     "h": 5
    },
    "deepnote_cell_type": "code"
   },
   "source": "national_gender_breakdown = pd.DataFrame(farmer_gender_df.groupby([\"gender\"])[\"value\"].sum()).reset_index()\nnational_gender_breakdown[\"percentage\"] = national_gender_breakdown[\"value\"] / national_gender_breakdown[\"value\"].sum()\n\nstyle_dataframe(\n    national_gender_breakdown,\n    title=\"Gender of U.S. Farmers\",\n    column_names=[\"Gender\", \"Number of Farmers\", \"Percent of Farmers\"],\n    percent_column_indexes=[2]\n)",
   "execution_count": null,
   "outputs": [
    {
     "output_type": "execute_result",
     "execution_count": 51,
     "data": {
      "text/plain": "<pandas.io.formats.style.Styler at 0x7f85b8c0fa50>",
      "text/html": "<style  type=\"text/css\" >\n</style><table id=\"T_2c3fe_\" ><caption>Gender of U.S. Farmers</caption><thead>    <tr>        <th class=\"blank level0\" ></th>        <th class=\"col_heading level0 col0\" >Gender</th>        <th class=\"col_heading level0 col1\" >Number of Farmers</th>        <th class=\"col_heading level0 col2\" >Percent of Farmers</th>    </tr></thead><tbody>\n                <tr>\n                        <th id=\"T_2c3fe_level0_row0\" class=\"row_heading level0 row0\" >0</th>\n                        <td id=\"T_2c3fe_row0_col0\" class=\"data row0 col0\" >Female</td>\n                        <td id=\"T_2c3fe_row0_col1\" class=\"data row0 col1\" >798500</td>\n                        <td id=\"T_2c3fe_row0_col2\" class=\"data row0 col2\" >29.14%</td>\n            </tr>\n            <tr>\n                        <th id=\"T_2c3fe_level0_row1\" class=\"row_heading level0 row1\" >1</th>\n                        <td id=\"T_2c3fe_row1_col0\" class=\"data row1 col0\" >Male</td>\n                        <td id=\"T_2c3fe_row1_col1\" class=\"data row1 col1\" >1941953</td>\n                        <td id=\"T_2c3fe_row1_col2\" class=\"data row1 col2\" >70.86%</td>\n            </tr>\n    </tbody></table>"
     },
     "metadata": {}
    }
   ]
  },
  {
   "cell_type": "markdown",
   "source": "Here we can see that a bit over 70% of all principal farmer producers in the US are male. Let's take a look at which states have the largest proportion of female producers and which states are the most male-dominated.",
   "metadata": {
    "cell_id": "00069-3cc87d4c-809a-4c25-9bd3-ac96bd0fa702",
    "deepnote_app_coordinates": {
     "x": 0,
     "y": 414,
     "w": 12,
     "h": 5
    },
    "deepnote_cell_type": "markdown"
   }
  },
  {
   "cell_type": "code",
   "metadata": {
    "cell_id": "00070-b51af154-5a8e-4d1a-8d6d-1eac3b4ee94e",
    "deepnote_output_heights": [
     607
    ],
    "deepnote_to_be_reexecuted": false,
    "source_hash": "85bfc94d",
    "execution_start": 1638832665186,
    "execution_millis": 43,
    "deepnote_app_coordinates": {
     "x": 0,
     "y": 420,
     "w": 12,
     "h": 5
    },
    "deepnote_cell_type": "code"
   },
   "source": "state_gender_breakdown = farmer_gender_df.pivot(index=\"state_name\", columns=\"gender\", values=\"value\").reset_index()\nstate_gender_breakdown.index.name = None\nstate_gender_breakdown[\"percent_female\"] = state_gender_breakdown[\"Female\"]/(state_gender_breakdown[\"Female\"] + state_gender_breakdown[\"Male\"])\n\nstyle_dataframe(\n    state_gender_breakdown,\n    title=\"Gender of U.S. Farmers by State\",\n    column_names=[\"State\", \"Number of Female Farmers\", \"Number of Male Farmers\", \"Percent of Farmers who are Female\"],\n    heatmap=True,\n    heatmap_subset=[\"percent_female\"],\n    percent_column_indexes=[3]\n)",
   "execution_count": null,
   "outputs": [
    {
     "output_type": "execute_result",
     "execution_count": 52,
     "data": {
      "text/plain": "<pandas.io.formats.style.Styler at 0x7f85b8c37350>",
      "text/html": "<style  type=\"text/css\" >\n#T_25c44_row0_col3{\n            background-color:  #c9ddf0;\n            color:  #000000;\n        }#T_25c44_row1_col3{\n            background-color:  #084c95;\n            color:  #f1f1f1;\n        }#T_25c44_row2_col3{\n            background-color:  #08306b;\n            color:  #f1f1f1;\n        }#T_25c44_row3_col3{\n            background-color:  #a8cee4;\n            color:  #000000;\n        }#T_25c44_row4_col3{\n            background-color:  #85bcdc;\n            color:  #000000;\n        }#T_25c44_row5_col3{\n            background-color:  #4e9acb;\n            color:  #000000;\n        }#T_25c44_row6_col3{\n            background-color:  #4191c6;\n            color:  #000000;\n        }#T_25c44_row7_col3{\n            background-color:  #afd1e7;\n            color:  #000000;\n        }#T_25c44_row8_col3{\n            background-color:  #539ecd;\n            color:  #000000;\n        }#T_25c44_row9_col3,#T_25c44_row47_col3{\n            background-color:  #bfd8ed;\n            color:  #000000;\n        }#T_25c44_row10_col3{\n            background-color:  #519ccc;\n            color:  #000000;\n        }#T_25c44_row11_col3{\n            background-color:  #9cc9e1;\n            color:  #000000;\n        }#T_25c44_row12_col3{\n            background-color:  #f7fbff;\n            color:  #000000;\n        }#T_25c44_row13_col3{\n            background-color:  #dceaf6;\n            color:  #000000;\n        }#T_25c44_row14_col3{\n            background-color:  #cddff1;\n            color:  #000000;\n        }#T_25c44_row15_col3{\n            background-color:  #d6e6f4;\n            color:  #000000;\n        }#T_25c44_row16_col3{\n            background-color:  #cadef0;\n            color:  #000000;\n        }#T_25c44_row17_col3,#T_25c44_row21_col3{\n            background-color:  #c2d9ee;\n            color:  #000000;\n        }#T_25c44_row18_col3{\n            background-color:  #2d7dbb;\n            color:  #000000;\n        }#T_25c44_row19_col3{\n            background-color:  #75b4d8;\n            color:  #000000;\n        }#T_25c44_row20_col3{\n            background-color:  #2373b6;\n            color:  #f1f1f1;\n        }#T_25c44_row22_col3,#T_25c44_row33_col3{\n            background-color:  #f4f9fe;\n            color:  #000000;\n        }#T_25c44_row23_col3{\n            background-color:  #d0e2f2;\n            color:  #000000;\n        }#T_25c44_row24_col3{\n            background-color:  #c1d9ed;\n            color:  #000000;\n        }#T_25c44_row25_col3{\n            background-color:  #7cb7da;\n            color:  #000000;\n        }#T_25c44_row26_col3{\n            background-color:  #eaf3fb;\n            color:  #000000;\n        }#T_25c44_row27_col3{\n            background-color:  #3e8ec4;\n            color:  #000000;\n        }#T_25c44_row28_col3{\n            background-color:  #125da6;\n            color:  #f1f1f1;\n        }#T_25c44_row29_col3{\n            background-color:  #4493c7;\n            color:  #000000;\n        }#T_25c44_row30_col3{\n            background-color:  #549fcd;\n            color:  #000000;\n        }#T_25c44_row31_col3{\n            background-color:  #8fc2de;\n            color:  #000000;\n        }#T_25c44_row32_col3{\n            background-color:  #d0e1f2;\n            color:  #000000;\n        }#T_25c44_row34_col3{\n            background-color:  #d2e3f3;\n            color:  #000000;\n        }#T_25c44_row35_col3{\n            background-color:  #9dcae1;\n            color:  #000000;\n        }#T_25c44_row36_col3{\n            background-color:  #2f7fbc;\n            color:  #000000;\n        }#T_25c44_row37_col3{\n            background-color:  #cde0f1;\n            color:  #000000;\n        }#T_25c44_row38_col3{\n            background-color:  #4b98ca;\n            color:  #000000;\n        }#T_25c44_row39_col3{\n            background-color:  #b7d4ea;\n            color:  #000000;\n        }#T_25c44_row40_col3{\n            background-color:  #f3f8fe;\n            color:  #000000;\n        }#T_25c44_row41_col3{\n            background-color:  #bed8ec;\n            color:  #000000;\n        }#T_25c44_row42_col3{\n            background-color:  #92c4de;\n            color:  #000000;\n        }#T_25c44_row43_col3{\n            background-color:  #bad6eb;\n            color:  #000000;\n        }#T_25c44_row44_col3{\n            background-color:  #4292c6;\n            color:  #000000;\n        }#T_25c44_row45_col3{\n            background-color:  #aacfe5;\n            color:  #000000;\n        }#T_25c44_row46_col3{\n            background-color:  #4695c8;\n            color:  #000000;\n        }#T_25c44_row48_col3{\n            background-color:  #ccdff1;\n            color:  #000000;\n        }#T_25c44_row49_col3{\n            background-color:  #6caed6;\n            color:  #000000;\n        }</style><table id=\"T_25c44_\" ><caption>Gender of U.S. Farmers by State</caption><thead>    <tr>        <th class=\"blank level0\" ></th>        <th class=\"col_heading level0 col0\" >State</th>        <th class=\"col_heading level0 col1\" >Number of Female Farmers</th>        <th class=\"col_heading level0 col2\" >Number of Male Farmers</th>        <th class=\"col_heading level0 col3\" >Percent of Farmers who are Female</th>    </tr></thead><tbody>\n                <tr>\n                        <th id=\"T_25c44_level0_row0\" class=\"row_heading level0 row0\" >0</th>\n                        <td id=\"T_25c44_row0_col0\" class=\"data row0 col0\" >Alabama</td>\n                        <td id=\"T_25c44_row0_col1\" class=\"data row0 col1\" >14393</td>\n                        <td id=\"T_25c44_row0_col2\" class=\"data row0 col2\" >38670</td>\n                        <td id=\"T_25c44_row0_col3\" class=\"data row0 col3\" >27.12%</td>\n            </tr>\n            <tr>\n                        <th id=\"T_25c44_level0_row1\" class=\"row_heading level0 row1\" >1</th>\n                        <td id=\"T_25c44_row1_col0\" class=\"data row1 col0\" >Alaska</td>\n                        <td id=\"T_25c44_row1_col1\" class=\"data row1 col1\" >617</td>\n                        <td id=\"T_25c44_row1_col2\" class=\"data row1 col2\" >757</td>\n                        <td id=\"T_25c44_row1_col3\" class=\"data row1 col3\" >44.91%</td>\n            </tr>\n            <tr>\n                        <th id=\"T_25c44_level0_row2\" class=\"row_heading level0 row2\" >2</th>\n                        <td id=\"T_25c44_row2_col0\" class=\"data row2 col0\" >Arizona</td>\n                        <td id=\"T_25c44_row2_col1\" class=\"data row2 col1\" >12122</td>\n                        <td id=\"T_25c44_row2_col2\" class=\"data row2 col2\" >13236</td>\n                        <td id=\"T_25c44_row2_col3\" class=\"data row2 col3\" >47.80%</td>\n            </tr>\n            <tr>\n                        <th id=\"T_25c44_level0_row3\" class=\"row_heading level0 row3\" >3</th>\n                        <td id=\"T_25c44_row3_col0\" class=\"data row3 col0\" >Arkansas</td>\n                        <td id=\"T_25c44_row3_col1\" class=\"data row3 col1\" >17573</td>\n                        <td id=\"T_25c44_row3_col2\" class=\"data row3 col2\" >40773</td>\n                        <td id=\"T_25c44_row3_col3\" class=\"data row3 col3\" >30.12%</td>\n            </tr>\n            <tr>\n                        <th id=\"T_25c44_level0_row4\" class=\"row_heading level0 row4\" >4</th>\n                        <td id=\"T_25c44_row4_col0\" class=\"data row4 col0\" >California</td>\n                        <td id=\"T_25c44_row4_col1\" class=\"data row4 col1\" >32155</td>\n                        <td id=\"T_25c44_row4_col2\" class=\"data row4 col2\" >66781</td>\n                        <td id=\"T_25c44_row4_col3\" class=\"data row4 col3\" >32.50%</td>\n            </tr>\n            <tr>\n                        <th id=\"T_25c44_level0_row5\" class=\"row_heading level0 row5\" >5</th>\n                        <td id=\"T_25c44_row5_col0\" class=\"data row5 col0\" >Colorado</td>\n                        <td id=\"T_25c44_row5_col1\" class=\"data row5 col1\" >20405</td>\n                        <td id=\"T_25c44_row5_col2\" class=\"data row5 col2\" >35334</td>\n                        <td id=\"T_25c44_row5_col3\" class=\"data row5 col3\" >36.61%</td>\n            </tr>\n            <tr>\n                        <th id=\"T_25c44_level0_row6\" class=\"row_heading level0 row6\" >6</th>\n                        <td id=\"T_25c44_row6_col0\" class=\"data row6 col0\" >Connecticut</td>\n                        <td id=\"T_25c44_row6_col1\" class=\"data row6 col1\" >2863</td>\n                        <td id=\"T_25c44_row6_col2\" class=\"data row6 col2\" >4729</td>\n                        <td id=\"T_25c44_row6_col3\" class=\"data row6 col3\" >37.71%</td>\n            </tr>\n            <tr>\n                        <th id=\"T_25c44_level0_row7\" class=\"row_heading level0 row7\" >7</th>\n                        <td id=\"T_25c44_row7_col0\" class=\"data row7 col0\" >Delaware</td>\n                        <td id=\"T_25c44_row7_col1\" class=\"data row7 col1\" >924</td>\n                        <td id=\"T_25c44_row7_col2\" class=\"data row7 col2\" >2214</td>\n                        <td id=\"T_25c44_row7_col3\" class=\"data row7 col3\" >29.45%</td>\n            </tr>\n            <tr>\n                        <th id=\"T_25c44_level0_row8\" class=\"row_heading level0 row8\" >8</th>\n                        <td id=\"T_25c44_row8_col0\" class=\"data row8 col0\" >Florida</td>\n                        <td id=\"T_25c44_row8_col1\" class=\"data row8 col1\" >23360</td>\n                        <td id=\"T_25c44_row8_col2\" class=\"data row8 col2\" >41095</td>\n                        <td id=\"T_25c44_row8_col3\" class=\"data row8 col3\" >36.24%</td>\n            </tr>\n            <tr>\n                        <th id=\"T_25c44_level0_row9\" class=\"row_heading level0 row9\" >9</th>\n                        <td id=\"T_25c44_row9_col0\" class=\"data row9 col0\" >Georgia</td>\n                        <td id=\"T_25c44_row9_col1\" class=\"data row9 col1\" >15585</td>\n                        <td id=\"T_25c44_row9_col2\" class=\"data row9 col2\" >39840</td>\n                        <td id=\"T_25c44_row9_col3\" class=\"data row9 col3\" >28.12%</td>\n            </tr>\n            <tr>\n                        <th id=\"T_25c44_level0_row10\" class=\"row_heading level0 row10\" >10</th>\n                        <td id=\"T_25c44_row10_col0\" class=\"data row10 col0\" >Hawaii</td>\n                        <td id=\"T_25c44_row10_col1\" class=\"data row10 col1\" >3591</td>\n                        <td id=\"T_25c44_row10_col2\" class=\"data row10 col2\" >6260</td>\n                        <td id=\"T_25c44_row10_col3\" class=\"data row10 col3\" >36.45%</td>\n            </tr>\n            <tr>\n                        <th id=\"T_25c44_level0_row11\" class=\"row_heading level0 row11\" >11</th>\n                        <td id=\"T_25c44_row11_col0\" class=\"data row11 col0\" >Idaho</td>\n                        <td id=\"T_25c44_row11_col1\" class=\"data row11 col1\" >10896</td>\n                        <td id=\"T_25c44_row11_col2\" class=\"data row11 col2\" >24201</td>\n                        <td id=\"T_25c44_row11_col3\" class=\"data row11 col3\" >31.05%</td>\n            </tr>\n            <tr>\n                        <th id=\"T_25c44_level0_row12\" class=\"row_heading level0 row12\" >12</th>\n                        <td id=\"T_25c44_row12_col0\" class=\"data row12 col0\" >Illinois</td>\n                        <td id=\"T_25c44_row12_col1\" class=\"data row12 col1\" >19494</td>\n                        <td id=\"T_25c44_row12_col2\" class=\"data row12 col2\" >74443</td>\n                        <td id=\"T_25c44_row12_col3\" class=\"data row12 col3\" >20.75%</td>\n            </tr>\n            <tr>\n                        <th id=\"T_25c44_level0_row13\" class=\"row_heading level0 row13\" >13</th>\n                        <td id=\"T_25c44_row13_col0\" class=\"data row13 col0\" >Indiana</td>\n                        <td id=\"T_25c44_row13_col1\" class=\"data row13 col1\" >18256</td>\n                        <td id=\"T_25c44_row13_col2\" class=\"data row13 col2\" >56578</td>\n                        <td id=\"T_25c44_row13_col3\" class=\"data row13 col3\" >24.40%</td>\n            </tr>\n            <tr>\n                        <th id=\"T_25c44_level0_row14\" class=\"row_heading level0 row14\" >14</th>\n                        <td id=\"T_25c44_row14_col0\" class=\"data row14 col0\" >Iowa</td>\n                        <td id=\"T_25c44_row14_col1\" class=\"data row14 col1\" >30821</td>\n                        <td id=\"T_25c44_row14_col2\" class=\"data row14 col2\" >84809</td>\n                        <td id=\"T_25c44_row14_col3\" class=\"data row14 col3\" >26.65%</td>\n            </tr>\n            <tr>\n                        <th id=\"T_25c44_level0_row15\" class=\"row_heading level0 row15\" >15</th>\n                        <td id=\"T_25c44_row15_col0\" class=\"data row15 col0\" >Kansas</td>\n                        <td id=\"T_25c44_row15_col1\" class=\"data row15 col1\" >19337</td>\n                        <td id=\"T_25c44_row15_col2\" class=\"data row15 col2\" >57356</td>\n                        <td id=\"T_25c44_row15_col3\" class=\"data row15 col3\" >25.21%</td>\n            </tr>\n            <tr>\n                        <th id=\"T_25c44_level0_row16\" class=\"row_heading level0 row16\" >16</th>\n                        <td id=\"T_25c44_row16_col0\" class=\"data row16 col0\" >Kentucky</td>\n                        <td id=\"T_25c44_row16_col1\" class=\"data row16 col1\" >27212</td>\n                        <td id=\"T_25c44_row16_col2\" class=\"data row16 col2\" >73677</td>\n                        <td id=\"T_25c44_row16_col3\" class=\"data row16 col3\" >26.97%</td>\n            </tr>\n            <tr>\n                        <th id=\"T_25c44_level0_row17\" class=\"row_heading level0 row17\" >17</th>\n                        <td id=\"T_25c44_row17_col0\" class=\"data row17 col0\" >Louisiana</td>\n                        <td id=\"T_25c44_row17_col1\" class=\"data row17 col1\" >9995</td>\n                        <td id=\"T_25c44_row17_col2\" class=\"data row17 col2\" >25834</td>\n                        <td id=\"T_25c44_row17_col3\" class=\"data row17 col3\" >27.90%</td>\n            </tr>\n            <tr>\n                        <th id=\"T_25c44_level0_row18\" class=\"row_heading level0 row18\" >18</th>\n                        <td id=\"T_25c44_row18_col0\" class=\"data row18 col0\" >Maine</td>\n                        <td id=\"T_25c44_row18_col1\" class=\"data row18 col1\" >4265</td>\n                        <td id=\"T_25c44_row18_col2\" class=\"data row18 col2\" >6440</td>\n                        <td id=\"T_25c44_row18_col3\" class=\"data row18 col3\" >39.84%</td>\n            </tr>\n            <tr>\n                        <th id=\"T_25c44_level0_row19\" class=\"row_heading level0 row19\" >19</th>\n                        <td id=\"T_25c44_row19_col0\" class=\"data row19 col0\" >Maryland</td>\n                        <td id=\"T_25c44_row19_col1\" class=\"data row19 col1\" >5668</td>\n                        <td id=\"T_25c44_row19_col2\" class=\"data row19 col2\" >11211</td>\n                        <td id=\"T_25c44_row19_col3\" class=\"data row19 col3\" >33.58%</td>\n            </tr>\n            <tr>\n                        <th id=\"T_25c44_level0_row20\" class=\"row_heading level0 row20\" >20</th>\n                        <td id=\"T_25c44_row20_col0\" class=\"data row20 col0\" >Massachusetts</td>\n                        <td id=\"T_25c44_row20_col1\" class=\"data row20 col1\" >4138</td>\n                        <td id=\"T_25c44_row20_col2\" class=\"data row20 col2\" >6016</td>\n                        <td id=\"T_25c44_row20_col3\" class=\"data row20 col3\" >40.75%</td>\n            </tr>\n            <tr>\n                        <th id=\"T_25c44_level0_row21\" class=\"row_heading level0 row21\" >21</th>\n                        <td id=\"T_25c44_row21_col0\" class=\"data row21 col0\" >Michigan</td>\n                        <td id=\"T_25c44_row21_col1\" class=\"data row21 col1\" >17767</td>\n                        <td id=\"T_25c44_row21_col2\" class=\"data row21 col2\" >45860</td>\n                        <td id=\"T_25c44_row21_col3\" class=\"data row21 col3\" >27.92%</td>\n            </tr>\n            <tr>\n                        <th id=\"T_25c44_level0_row22\" class=\"row_heading level0 row22\" >22</th>\n                        <td id=\"T_25c44_row22_col0\" class=\"data row22 col0\" >Minnesota</td>\n                        <td id=\"T_25c44_row22_col1\" class=\"data row22 col1\" >18935</td>\n                        <td id=\"T_25c44_row22_col2\" class=\"data row22 col2\" >70448</td>\n                        <td id=\"T_25c44_row22_col3\" class=\"data row22 col3\" >21.18%</td>\n            </tr>\n            <tr>\n                        <th id=\"T_25c44_level0_row23\" class=\"row_heading level0 row23\" >23</th>\n                        <td id=\"T_25c44_row23_col0\" class=\"data row23 col0\" >Mississippi</td>\n                        <td id=\"T_25c44_row23_col1\" class=\"data row23 col1\" >11876</td>\n                        <td id=\"T_25c44_row23_col2\" class=\"data row23 col2\" >33589</td>\n                        <td id=\"T_25c44_row23_col3\" class=\"data row23 col3\" >26.12%</td>\n            </tr>\n            <tr>\n                        <th id=\"T_25c44_level0_row24\" class=\"row_heading level0 row24\" >24</th>\n                        <td id=\"T_25c44_row24_col0\" class=\"data row24 col0\" >Missouri</td>\n                        <td id=\"T_25c44_row24_col1\" class=\"data row24 col1\" >36140</td>\n                        <td id=\"T_25c44_row24_col2\" class=\"data row24 col2\" >92899</td>\n                        <td id=\"T_25c44_row24_col3\" class=\"data row24 col3\" >28.01%</td>\n            </tr>\n            <tr>\n                        <th id=\"T_25c44_level0_row25\" class=\"row_heading level0 row25\" >25</th>\n                        <td id=\"T_25c44_row25_col0\" class=\"data row25 col0\" >Montana</td>\n                        <td id=\"T_25c44_row25_col1\" class=\"data row25 col1\" >12480</td>\n                        <td id=\"T_25c44_row25_col2\" class=\"data row25 col2\" >25202</td>\n                        <td id=\"T_25c44_row25_col3\" class=\"data row25 col3\" >33.12%</td>\n            </tr>\n            <tr>\n                        <th id=\"T_25c44_level0_row26\" class=\"row_heading level0 row26\" >26</th>\n                        <td id=\"T_25c44_row26_col0\" class=\"data row26 col0\" >Nebraska</td>\n                        <td id=\"T_25c44_row26_col1\" class=\"data row26 col1\" >13666</td>\n                        <td id=\"T_25c44_row26_col2\" class=\"data row26 col2\" >47183</td>\n                        <td id=\"T_25c44_row26_col3\" class=\"data row26 col3\" >22.46%</td>\n            </tr>\n            <tr>\n                        <th id=\"T_25c44_level0_row27\" class=\"row_heading level0 row27\" >27</th>\n                        <td id=\"T_25c44_row27_col0\" class=\"data row27 col0\" >Nevada</td>\n                        <td id=\"T_25c44_row27_col1\" class=\"data row27 col1\" >1824</td>\n                        <td id=\"T_25c44_row27_col2\" class=\"data row27 col2\" >2973</td>\n                        <td id=\"T_25c44_row27_col3\" class=\"data row27 col3\" >38.02%</td>\n            </tr>\n            <tr>\n                        <th id=\"T_25c44_level0_row28\" class=\"row_heading level0 row28\" >28</th>\n                        <td id=\"T_25c44_row28_col0\" class=\"data row28 col0\" >New Hampshire</td>\n                        <td id=\"T_25c44_row28_col1\" class=\"data row28 col1\" >2521</td>\n                        <td id=\"T_25c44_row28_col2\" class=\"data row28 col2\" >3326</td>\n                        <td id=\"T_25c44_row28_col3\" class=\"data row28 col3\" >43.12%</td>\n            </tr>\n            <tr>\n                        <th id=\"T_25c44_level0_row29\" class=\"row_heading level0 row29\" >29</th>\n                        <td id=\"T_25c44_row29_col0\" class=\"data row29 col0\" >New Jersey</td>\n                        <td id=\"T_25c44_row29_col1\" class=\"data row29 col1\" >5067</td>\n                        <td id=\"T_25c44_row29_col2\" class=\"data row29 col2\" >8447</td>\n                        <td id=\"T_25c44_row29_col3\" class=\"data row29 col3\" >37.49%</td>\n            </tr>\n            <tr>\n                        <th id=\"T_25c44_level0_row30\" class=\"row_heading level0 row30\" >30</th>\n                        <td id=\"T_25c44_row30_col0\" class=\"data row30 col0\" >New Mexico</td>\n                        <td id=\"T_25c44_row30_col1\" class=\"data row30 col1\" >12047</td>\n                        <td id=\"T_25c44_row30_col2\" class=\"data row30 col2\" >21331</td>\n                        <td id=\"T_25c44_row30_col3\" class=\"data row30 col3\" >36.09%</td>\n            </tr>\n            <tr>\n                        <th id=\"T_25c44_level0_row31\" class=\"row_heading level0 row31\" >31</th>\n                        <td id=\"T_25c44_row31_col0\" class=\"data row31 col0\" >New York</td>\n                        <td id=\"T_25c44_row31_col1\" class=\"data row31 col1\" >14602</td>\n                        <td id=\"T_25c44_row31_col2\" class=\"data row31 col2\" >31175</td>\n                        <td id=\"T_25c44_row31_col3\" class=\"data row31 col3\" >31.90%</td>\n            </tr>\n            <tr>\n                        <th id=\"T_25c44_level0_row32\" class=\"row_heading level0 row32\" >32</th>\n                        <td id=\"T_25c44_row32_col0\" class=\"data row32 col0\" >North Carolina</td>\n                        <td id=\"T_25c44_row32_col1\" class=\"data row32 col1\" >15766</td>\n                        <td id=\"T_25c44_row32_col2\" class=\"data row32 col2\" >44522</td>\n                        <td id=\"T_25c44_row32_col3\" class=\"data row32 col3\" >26.15%</td>\n            </tr>\n            <tr>\n                        <th id=\"T_25c44_level0_row33\" class=\"row_heading level0 row33\" >33</th>\n                        <td id=\"T_25c44_row33_col0\" class=\"data row33 col0\" >North Dakota</td>\n                        <td id=\"T_25c44_row33_col1\" class=\"data row33 col1\" >7306</td>\n                        <td id=\"T_25c44_row33_col2\" class=\"data row33 col2\" >27105</td>\n                        <td id=\"T_25c44_row33_col3\" class=\"data row33 col3\" >21.23%</td>\n            </tr>\n            <tr>\n                        <th id=\"T_25c44_level0_row34\" class=\"row_heading level0 row34\" >34</th>\n                        <td id=\"T_25c44_row34_col0\" class=\"data row34 col0\" >Ohio</td>\n                        <td id=\"T_25c44_row34_col1\" class=\"data row34 col1\" >26569</td>\n                        <td id=\"T_25c44_row34_col2\" class=\"data row34 col2\" >76121</td>\n                        <td id=\"T_25c44_row34_col3\" class=\"data row34 col3\" >25.87%</td>\n            </tr>\n            <tr>\n                        <th id=\"T_25c44_level0_row35\" class=\"row_heading level0 row35\" >35</th>\n                        <td id=\"T_25c44_row35_col0\" class=\"data row35 col0\" >Oklahoma</td>\n                        <td id=\"T_25c44_row35_col1\" class=\"data row35 col1\" >32839</td>\n                        <td id=\"T_25c44_row35_col2\" class=\"data row35 col2\" >73437</td>\n                        <td id=\"T_25c44_row35_col3\" class=\"data row35 col3\" >30.90%</td>\n            </tr>\n            <tr>\n                        <th id=\"T_25c44_level0_row36\" class=\"row_heading level0 row36\" >36</th>\n                        <td id=\"T_25c44_row36_col0\" class=\"data row36 col0\" >Oregon</td>\n                        <td id=\"T_25c44_row36_col1\" class=\"data row36 col1\" >21547</td>\n                        <td id=\"T_25c44_row36_col2\" class=\"data row36 col2\" >32903</td>\n                        <td id=\"T_25c44_row36_col3\" class=\"data row36 col3\" >39.57%</td>\n            </tr>\n            <tr>\n                        <th id=\"T_25c44_level0_row37\" class=\"row_heading level0 row37\" >37</th>\n                        <td id=\"T_25c44_row37_col0\" class=\"data row37 col0\" >Pennsylvania</td>\n                        <td id=\"T_25c44_row37_col1\" class=\"data row37 col1\" >18666</td>\n                        <td id=\"T_25c44_row37_col2\" class=\"data row37 col2\" >51865</td>\n                        <td id=\"T_25c44_row37_col3\" class=\"data row37 col3\" >26.46%</td>\n            </tr>\n            <tr>\n                        <th id=\"T_25c44_level0_row38\" class=\"row_heading level0 row38\" >38</th>\n                        <td id=\"T_25c44_row38_col0\" class=\"data row38 col0\" >Rhode Island</td>\n                        <td id=\"T_25c44_row38_col1\" class=\"data row38 col1\" >524</td>\n                        <td id=\"T_25c44_row38_col2\" class=\"data row38 col2\" >899</td>\n                        <td id=\"T_25c44_row38_col3\" class=\"data row38 col3\" >36.82%</td>\n            </tr>\n            <tr>\n                        <th id=\"T_25c44_level0_row39\" class=\"row_heading level0 row39\" >39</th>\n                        <td id=\"T_25c44_row39_col0\" class=\"data row39 col0\" >South Carolina</td>\n                        <td id=\"T_25c44_row39_col1\" class=\"data row39 col1\" >9312</td>\n                        <td id=\"T_25c44_row39_col2\" class=\"data row39 col2\" >22926</td>\n                        <td id=\"T_25c44_row39_col3\" class=\"data row39 col3\" >28.89%</td>\n            </tr>\n            <tr>\n                        <th id=\"T_25c44_level0_row40\" class=\"row_heading level0 row40\" >40</th>\n                        <td id=\"T_25c44_row40_col0\" class=\"data row40 col0\" >South Dakota</td>\n                        <td id=\"T_25c44_row40_col1\" class=\"data row40 col1\" >8335</td>\n                        <td id=\"T_25c44_row40_col2\" class=\"data row40 col2\" >30801</td>\n                        <td id=\"T_25c44_row40_col3\" class=\"data row40 col3\" >21.30%</td>\n            </tr>\n            <tr>\n                        <th id=\"T_25c44_level0_row41\" class=\"row_heading level0 row41\" >41</th>\n                        <td id=\"T_25c44_row41_col0\" class=\"data row41 col0\" >Tennessee</td>\n                        <td id=\"T_25c44_row41_col1\" class=\"data row41 col1\" >26054</td>\n                        <td id=\"T_25c44_row41_col2\" class=\"data row41 col2\" >66406</td>\n                        <td id=\"T_25c44_row41_col3\" class=\"data row41 col3\" >28.18%</td>\n            </tr>\n            <tr>\n                        <th id=\"T_25c44_level0_row42\" class=\"row_heading level0 row42\" >42</th>\n                        <td id=\"T_25c44_row42_col0\" class=\"data row42 col0\" >Texas</td>\n                        <td id=\"T_25c44_row42_col1\" class=\"data row42 col1\" >106091</td>\n                        <td id=\"T_25c44_row42_col2\" class=\"data row42 col2\" >228372</td>\n                        <td id=\"T_25c44_row42_col3\" class=\"data row42 col3\" >31.72%</td>\n            </tr>\n            <tr>\n                        <th id=\"T_25c44_level0_row43\" class=\"row_heading level0 row43\" >43</th>\n                        <td id=\"T_25c44_row43_col0\" class=\"data row43 col0\" >Utah</td>\n                        <td id=\"T_25c44_row43_col1\" class=\"data row43 col1\" >7217</td>\n                        <td id=\"T_25c44_row43_col2\" class=\"data row43 col2\" >18133</td>\n                        <td id=\"T_25c44_row43_col3\" class=\"data row43 col3\" >28.47%</td>\n            </tr>\n            <tr>\n                        <th id=\"T_25c44_level0_row44\" class=\"row_heading level0 row44\" >44</th>\n                        <td id=\"T_25c44_row44_col0\" class=\"data row44 col0\" >Vermont</td>\n                        <td id=\"T_25c44_row44_col1\" class=\"data row44 col1\" >3698</td>\n                        <td id=\"T_25c44_row44_col2\" class=\"data row44 col2\" >6147</td>\n                        <td id=\"T_25c44_row44_col3\" class=\"data row44 col3\" >37.56%</td>\n            </tr>\n            <tr>\n                        <th id=\"T_25c44_level0_row45\" class=\"row_heading level0 row45\" >45</th>\n                        <td id=\"T_25c44_row45_col0\" class=\"data row45 col0\" >Virginia</td>\n                        <td id=\"T_25c44_row45_col1\" class=\"data row45 col1\" >17126</td>\n                        <td id=\"T_25c44_row45_col2\" class=\"data row45 col2\" >40078</td>\n                        <td id=\"T_25c44_row45_col3\" class=\"data row45 col3\" >29.94%</td>\n            </tr>\n            <tr>\n                        <th id=\"T_25c44_level0_row46\" class=\"row_heading level0 row46\" >46</th>\n                        <td id=\"T_25c44_row46_col0\" class=\"data row46 col0\" >Washington</td>\n                        <td id=\"T_25c44_row46_col1\" class=\"data row46 col1\" >18840</td>\n                        <td id=\"T_25c44_row46_col2\" class=\"data row46 col2\" >31664</td>\n                        <td id=\"T_25c44_row46_col3\" class=\"data row46 col3\" >37.30%</td>\n            </tr>\n            <tr>\n                        <th id=\"T_25c44_level0_row47\" class=\"row_heading level0 row47\" >47</th>\n                        <td id=\"T_25c44_row47_col0\" class=\"data row47 col0\" >West Virginia</td>\n                        <td id=\"T_25c44_row47_col1\" class=\"data row47 col1\" >8639</td>\n                        <td id=\"T_25c44_row47_col2\" class=\"data row47 col2\" >22118</td>\n                        <td id=\"T_25c44_row47_col3\" class=\"data row47 col3\" >28.09%</td>\n            </tr>\n            <tr>\n                        <th id=\"T_25c44_level0_row48\" class=\"row_heading level0 row48\" >48</th>\n                        <td id=\"T_25c44_row48_col0\" class=\"data row48 col0\" >Wisconsin</td>\n                        <td id=\"T_25c44_row48_col1\" class=\"data row48 col1\" >23507</td>\n                        <td id=\"T_25c44_row48_col2\" class=\"data row48 col2\" >64515</td>\n                        <td id=\"T_25c44_row48_col3\" class=\"data row48 col3\" >26.71%</td>\n            </tr>\n            <tr>\n                        <th id=\"T_25c44_level0_row49\" class=\"row_heading level0 row49\" >49</th>\n                        <td id=\"T_25c44_row49_col0\" class=\"data row49 col0\" >Wyoming</td>\n                        <td id=\"T_25c44_row49_col1\" class=\"data row49 col1\" >5869</td>\n                        <td id=\"T_25c44_row49_col2\" class=\"data row49 col2\" >11254</td>\n                        <td id=\"T_25c44_row49_col3\" class=\"data row49 col3\" >34.28%</td>\n            </tr>\n    </tbody></table>"
     },
     "metadata": {}
    }
   ]
  },
  {
   "cell_type": "markdown",
   "source": "Below we can islote those states that have the highest proportion of female farming producers and those that have the lowest.",
   "metadata": {
    "cell_id": "00071-f3947276-4785-4ff0-968f-6c9c9a693633",
    "deepnote_app_coordinates": {
     "x": 0,
     "y": 426,
     "w": 12,
     "h": 5
    },
    "deepnote_cell_type": "markdown"
   }
  },
  {
   "cell_type": "code",
   "metadata": {
    "cell_id": "00072-1b820274-c364-4abf-8abc-401502aa4f88",
    "deepnote_output_heights": [
     219
    ],
    "deepnote_to_be_reexecuted": false,
    "source_hash": "85593caf",
    "execution_start": 1638832688699,
    "execution_millis": 2,
    "deepnote_app_coordinates": {
     "x": 0,
     "y": 432,
     "w": 12,
     "h": 5
    },
    "deepnote_cell_type": "code"
   },
   "source": "top_five_female_states = state_gender_breakdown.sort_values(\"percent_female\", ascending=False)\ntop_five_female_states = top_five_female_states.iloc[:5, [0, 3]].reset_index(drop=True)\nstyle_dataframe(\n    top_five_female_states,\n    title=\"Top 5 States - % of Female Farmers\",\n    column_names=[\"State\", \"Percent of Farmers who are Female\"],\n    percent_column_indexes=[1]\n)",
   "execution_count": null,
   "outputs": [
    {
     "output_type": "execute_result",
     "execution_count": 53,
     "data": {
      "text/plain": "<pandas.io.formats.style.Styler at 0x7f85b8c37590>",
      "text/html": "<style  type=\"text/css\" >\n</style><table id=\"T_bcae6_\" ><caption>Top 5 States - % of Female Farmers</caption><thead>    <tr>        <th class=\"blank level0\" ></th>        <th class=\"col_heading level0 col0\" >State</th>        <th class=\"col_heading level0 col1\" >Percent of Farmers who are Female</th>    </tr></thead><tbody>\n                <tr>\n                        <th id=\"T_bcae6_level0_row0\" class=\"row_heading level0 row0\" >0</th>\n                        <td id=\"T_bcae6_row0_col0\" class=\"data row0 col0\" >Arizona</td>\n                        <td id=\"T_bcae6_row0_col1\" class=\"data row0 col1\" >47.80%</td>\n            </tr>\n            <tr>\n                        <th id=\"T_bcae6_level0_row1\" class=\"row_heading level0 row1\" >1</th>\n                        <td id=\"T_bcae6_row1_col0\" class=\"data row1 col0\" >Alaska</td>\n                        <td id=\"T_bcae6_row1_col1\" class=\"data row1 col1\" >44.91%</td>\n            </tr>\n            <tr>\n                        <th id=\"T_bcae6_level0_row2\" class=\"row_heading level0 row2\" >2</th>\n                        <td id=\"T_bcae6_row2_col0\" class=\"data row2 col0\" >New Hampshire</td>\n                        <td id=\"T_bcae6_row2_col1\" class=\"data row2 col1\" >43.12%</td>\n            </tr>\n            <tr>\n                        <th id=\"T_bcae6_level0_row3\" class=\"row_heading level0 row3\" >3</th>\n                        <td id=\"T_bcae6_row3_col0\" class=\"data row3 col0\" >Massachusetts</td>\n                        <td id=\"T_bcae6_row3_col1\" class=\"data row3 col1\" >40.75%</td>\n            </tr>\n            <tr>\n                        <th id=\"T_bcae6_level0_row4\" class=\"row_heading level0 row4\" >4</th>\n                        <td id=\"T_bcae6_row4_col0\" class=\"data row4 col0\" >Maine</td>\n                        <td id=\"T_bcae6_row4_col1\" class=\"data row4 col1\" >39.84%</td>\n            </tr>\n    </tbody></table>"
     },
     "metadata": {}
    }
   ]
  },
  {
   "cell_type": "code",
   "metadata": {
    "cell_id": "00073-acd0fc66-ccf4-4165-b7b6-b00efa45e647",
    "deepnote_output_heights": [
     219
    ],
    "deepnote_to_be_reexecuted": false,
    "source_hash": "977dc138",
    "execution_start": 1638832696394,
    "execution_millis": 3,
    "deepnote_app_coordinates": {
     "x": 0,
     "y": 438,
     "w": 12,
     "h": 5
    },
    "deepnote_cell_type": "code"
   },
   "source": "bottom_five_female_states = state_gender_breakdown.sort_values(\"percent_female\")\nbottom_five_female_states = bottom_five_female_states.iloc[:5, [0, 3]].reset_index(drop=True)\n\nstyle_dataframe(\n    bottom_five_female_states,\n    title=\"Bottom 5 States - % of Female Farmers\",\n    column_names=[\"State\", \"Percent of Farmers who are Female\"],\n    percent_column_indexes=[1]\n)",
   "execution_count": null,
   "outputs": [
    {
     "output_type": "execute_result",
     "execution_count": 54,
     "data": {
      "text/plain": "<pandas.io.formats.style.Styler at 0x7f85b8c23890>",
      "text/html": "<style  type=\"text/css\" >\n</style><table id=\"T_5eafb_\" ><caption>Bottom 5 States - % of Female Farmers</caption><thead>    <tr>        <th class=\"blank level0\" ></th>        <th class=\"col_heading level0 col0\" >State</th>        <th class=\"col_heading level0 col1\" >Percent of Farmers who are Female</th>    </tr></thead><tbody>\n                <tr>\n                        <th id=\"T_5eafb_level0_row0\" class=\"row_heading level0 row0\" >0</th>\n                        <td id=\"T_5eafb_row0_col0\" class=\"data row0 col0\" >Illinois</td>\n                        <td id=\"T_5eafb_row0_col1\" class=\"data row0 col1\" >20.75%</td>\n            </tr>\n            <tr>\n                        <th id=\"T_5eafb_level0_row1\" class=\"row_heading level0 row1\" >1</th>\n                        <td id=\"T_5eafb_row1_col0\" class=\"data row1 col0\" >Minnesota</td>\n                        <td id=\"T_5eafb_row1_col1\" class=\"data row1 col1\" >21.18%</td>\n            </tr>\n            <tr>\n                        <th id=\"T_5eafb_level0_row2\" class=\"row_heading level0 row2\" >2</th>\n                        <td id=\"T_5eafb_row2_col0\" class=\"data row2 col0\" >North Dakota</td>\n                        <td id=\"T_5eafb_row2_col1\" class=\"data row2 col1\" >21.23%</td>\n            </tr>\n            <tr>\n                        <th id=\"T_5eafb_level0_row3\" class=\"row_heading level0 row3\" >3</th>\n                        <td id=\"T_5eafb_row3_col0\" class=\"data row3 col0\" >South Dakota</td>\n                        <td id=\"T_5eafb_row3_col1\" class=\"data row3 col1\" >21.30%</td>\n            </tr>\n            <tr>\n                        <th id=\"T_5eafb_level0_row4\" class=\"row_heading level0 row4\" >4</th>\n                        <td id=\"T_5eafb_row4_col0\" class=\"data row4 col0\" >Nebraska</td>\n                        <td id=\"T_5eafb_row4_col1\" class=\"data row4 col1\" >22.46%</td>\n            </tr>\n    </tbody></table>"
     },
     "metadata": {}
    }
   ]
  },
  {
   "cell_type": "markdown",
   "source": "### Farmer Race\nNext up, let's take a look at farmer race. We'll take a look at the total number of principal producers for each race, starting on a national level.",
   "metadata": {
    "cell_id": "00063-17e7d99a-c8b0-4125-90e2-622788013245",
    "tags": [],
    "deepnote_app_coordinates": {
     "x": 0,
     "y": 444,
     "w": 12,
     "h": 5
    },
    "deepnote_cell_type": "markdown"
   }
  },
  {
   "cell_type": "code",
   "metadata": {
    "cell_id": "00075-0d674c14-9530-4ee6-b5ea-68a694da7b27",
    "deepnote_to_be_reexecuted": false,
    "source_hash": "48765ba9",
    "execution_start": 1638832704279,
    "execution_millis": 30,
    "deepnote_app_coordinates": {
     "x": 0,
     "y": 450,
     "w": 12,
     "h": 5
    },
    "deepnote_cell_type": "code"
   },
   "source": "farmer_race_df_raw = pd.read_csv(\"data/farmer_race_table.csv\")\nfarmer_race_df_raw = clean_data_frame(farmer_race_df_raw)",
   "execution_count": null,
   "outputs": []
  },
  {
   "cell_type": "code",
   "metadata": {
    "cell_id": "00076-05bf1a4a-cf9c-4a94-8fb4-641f785e3e47",
    "deepnote_to_be_reexecuted": false,
    "source_hash": "80eb197a",
    "execution_start": 1638832704347,
    "execution_millis": 1,
    "deepnote_app_coordinates": {
     "x": 0,
     "y": 456,
     "w": 12,
     "h": 5
    },
    "deepnote_cell_type": "code"
   },
   "source": "# Here I just provide alternative, shorter column names\n\nrace_conversion = {\n    \"PRODUCERS, PRINCIPAL, HISPANIC - NUMBER OF PRODUCERS\": \"hispanic\",\n    \"PRODUCERS, PRINCIPAL, AMERICAN INDIAN OR ALASKA NATIVE - NUMBER OF PRODUCERS\": \"am_indian_alaska_native\",\n    \"PRODUCERS, PRINCIPAL, ASIAN - NUMBER OF PRODUCERS\": \"asian\",\n    \"PRODUCERS, PRINCIPAL, BLACK OR AFRICAN AMERICAN - NUMBER OF PRODUCERS\": \"black\",\n    \"PRODUCERS, PRINCIPAL, NATIVE HAWAIIAN OR OTHER PACIFIC ISLANDER - NUMBER OF PRODUCERS\": \"hawaiian_pacific_islander\",\n    \"PRODUCERS, PRINCIPAL, WHITE - NUMBER OF PRODUCERS\": \"white\",\n    \"PRODUCERS, PRINCIPAL, MULTI-RACE - NUMBER OF PRODUCERS\": \"multi_race\"\n}",
   "execution_count": null,
   "outputs": []
  },
  {
   "cell_type": "code",
   "metadata": {
    "cell_id": "00077-f23856ca-57cc-4926-aa4d-34250602ef4c",
    "deepnote_to_be_reexecuted": false,
    "source_hash": "f5952407",
    "execution_start": 1638832707162,
    "execution_millis": 8,
    "deepnote_app_coordinates": {
     "x": 0,
     "y": 462,
     "w": 12,
     "h": 5
    },
    "deepnote_cell_type": "code"
   },
   "source": "# Filtering down the dataframe to only the desired values\n\nrace_description_filter = (farmer_race_df_raw[\"short_desc\"].isin(race_conversion.keys()))\nfarmer_race_df = farmer_race_df_raw.loc[\n    race_description_filter, [\"short_desc\", \"state_name\", \"value\"]]\nfarmer_race_df[\"race\"] = farmer_race_df[\"short_desc\"].apply(lambda x: race_conversion[x])",
   "execution_count": null,
   "outputs": []
  },
  {
   "cell_type": "markdown",
   "source": "As we can see below, while white people make up around [76%](https://www.census.gov/quickfacts/fact/table/US/PST045219) of the U.S. population, white farmers make up **92%** of all farmers in the United States.",
   "metadata": {
    "cell_id": "00078-b53709d9-3169-4715-b69c-ae92abfd8325",
    "deepnote_app_coordinates": {
     "x": 0,
     "y": 468,
     "w": 12,
     "h": 5
    },
    "deepnote_cell_type": "markdown"
   }
  },
  {
   "cell_type": "code",
   "metadata": {
    "cell_id": "00079-63a5297b-7760-473b-87ac-2b4798f5871c",
    "deepnote_output_heights": [
     277
    ],
    "deepnote_to_be_reexecuted": false,
    "source_hash": "8be6fdee",
    "execution_start": 1638832718049,
    "execution_millis": 8,
    "deepnote_app_coordinates": {
     "x": 0,
     "y": 474,
     "w": 12,
     "h": 5
    },
    "deepnote_cell_type": "code"
   },
   "source": "# Grouping the data on a national level\n\nus_race_breakdown = farmer_race_df.groupby([\"race\"])[\"value\"].sum().reset_index().sort_values(\"value\", ascending=False)\nus_race_breakdown.columns = [\"race\", \"num_farmers\"]\nus_race_breakdown[\"percent_farmers\"] =  round(us_race_breakdown[\"num_farmers\"]/us_race_breakdown[\"num_farmers\"].sum(), 2)\n\nstyle_dataframe(\n    us_race_breakdown, \n    column_names=[\"Race\", \"Number of Farmers\", \"Percent of all Farmers\"], \n    title=\"U.S. Farmer Race Demographics:\", \n    percent_column_indexes=[2]\n)",
   "execution_count": null,
   "outputs": [
    {
     "output_type": "execute_result",
     "execution_count": 59,
     "data": {
      "text/plain": "<pandas.io.formats.style.Styler at 0x7f85b8bc6e10>",
      "text/html": "<style  type=\"text/css\" >\n</style><table id=\"T_18732_\" ><caption>U.S. Farmer Race Demographics:</caption><thead>    <tr>        <th class=\"blank level0\" ></th>        <th class=\"col_heading level0 col0\" >Race</th>        <th class=\"col_heading level0 col1\" >Number of Farmers</th>        <th class=\"col_heading level0 col2\" >Percent of all Farmers</th>    </tr></thead><tbody>\n                <tr>\n                        <th id=\"T_18732_level0_row0\" class=\"row_heading level0 row0\" >6</th>\n                        <td id=\"T_18732_row0_col0\" class=\"data row0 col0\" >white</td>\n                        <td id=\"T_18732_row0_col1\" class=\"data row0 col1\" >2614526</td>\n                        <td id=\"T_18732_row0_col2\" class=\"data row0 col2\" >92.00%</td>\n            </tr>\n            <tr>\n                        <th id=\"T_18732_level0_row1\" class=\"row_heading level0 row1\" >4</th>\n                        <td id=\"T_18732_row1_col0\" class=\"data row1 col0\" >hispanic</td>\n                        <td id=\"T_18732_row1_col1\" class=\"data row1 col1\" >90344</td>\n                        <td id=\"T_18732_row1_col2\" class=\"data row1 col2\" >3.00%</td>\n            </tr>\n            <tr>\n                        <th id=\"T_18732_level0_row2\" class=\"row_heading level0 row2\" >0</th>\n                        <td id=\"T_18732_row2_col0\" class=\"data row2 col0\" >am_indian_alaska_native</td>\n                        <td id=\"T_18732_row2_col1\" class=\"data row2 col1\" >46210</td>\n                        <td id=\"T_18732_row2_col2\" class=\"data row2 col2\" >2.00%</td>\n            </tr>\n            <tr>\n                        <th id=\"T_18732_level0_row3\" class=\"row_heading level0 row3\" >2</th>\n                        <td id=\"T_18732_row3_col0\" class=\"data row3 col0\" >black</td>\n                        <td id=\"T_18732_row3_col1\" class=\"data row3 col1\" >38447</td>\n                        <td id=\"T_18732_row3_col2\" class=\"data row3 col2\" >1.00%</td>\n            </tr>\n            <tr>\n                        <th id=\"T_18732_level0_row4\" class=\"row_heading level0 row4\" >5</th>\n                        <td id=\"T_18732_row4_col0\" class=\"data row4 col0\" >multi_race</td>\n                        <td id=\"T_18732_row4_col1\" class=\"data row4 col1\" >21986</td>\n                        <td id=\"T_18732_row4_col2\" class=\"data row4 col2\" >1.00%</td>\n            </tr>\n            <tr>\n                        <th id=\"T_18732_level0_row5\" class=\"row_heading level0 row5\" >1</th>\n                        <td id=\"T_18732_row5_col0\" class=\"data row5 col0\" >asian</td>\n                        <td id=\"T_18732_row5_col1\" class=\"data row5 col1\" >16978</td>\n                        <td id=\"T_18732_row5_col2\" class=\"data row5 col2\" >1.00%</td>\n            </tr>\n            <tr>\n                        <th id=\"T_18732_level0_row6\" class=\"row_heading level0 row6\" >3</th>\n                        <td id=\"T_18732_row6_col0\" class=\"data row6 col0\" >hawaiian_pacific_islander</td>\n                        <td id=\"T_18732_row6_col1\" class=\"data row6 col1\" >2306</td>\n                        <td id=\"T_18732_row6_col2\" class=\"data row6 col2\" >0.00%</td>\n            </tr>\n    </tbody></table>"
     },
     "metadata": {}
    }
   ]
  },
  {
   "cell_type": "markdown",
   "source": "Below we can take a look at this race breakdown on a state-by-state level. Arizona is the only state whose farmers aren't majority-white, with the American Indian/Alsaka Native race category accounting for over half of all farmers in the Grand Canyon state.",
   "metadata": {
    "cell_id": "00080-7d973005-0d46-4637-9281-e7136a3713f7",
    "deepnote_app_coordinates": {
     "x": 0,
     "y": 480,
     "w": 12,
     "h": 5
    },
    "deepnote_cell_type": "markdown"
   }
  },
  {
   "cell_type": "code",
   "metadata": {
    "cell_id": "00081-47177c0a-31cc-4587-8d9e-c63fd8cd5b86",
    "deepnote_output_heights": [
     132
    ],
    "deepnote_to_be_reexecuted": false,
    "source_hash": "c96a0fbf",
    "execution_start": 1638832755755,
    "execution_millis": 17,
    "deepnote_app_coordinates": {
     "x": 0,
     "y": 486,
     "w": 12,
     "h": 5
    },
    "deepnote_cell_type": "code"
   },
   "source": "state_race_breakdown_totals = farmer_race_df.groupby([\"state_name\", \"race\"])[\"value\"].sum().reset_index().sort_values(\"value\", ascending=False)\nstate_race_breakdown_totals = state_race_breakdown_totals.pivot(index=\"state_name\", columns=\"race\", values=\"value\")\n\nstate_race_breakdown = state_race_breakdown_totals.div(state_race_breakdown_totals.sum(axis=1), axis=0)\nstate_race_breakdown.columns = [column_name + \"_perc\" for column_name in state_race_breakdown.columns]\n\nstate_race_breakdown = state_race_breakdown.sort_values(\"white_perc\")\nnot_white_majority_filter = state_race_breakdown.idxmax(axis=1) != \"white_perc\"  # return the index of the maximum column for each row\n\nstyle_dataframe(\n    state_race_breakdown.loc[not_white_majority_filter],\n    title=\"States where white farmers are not the majority\",\n    column_names=[\"American Indian/Alaska Native\", \"Asian\", \"Black\", \"Hawaiian/Pacific Islander\", \"Hispanic\", \"Multi-Racial\", \"White\"],\n    percent_column_indexes=[0,1,2,3,4,5,6],\n    highlighting=True\n)",
   "execution_count": null,
   "outputs": [
    {
     "output_type": "execute_result",
     "execution_count": 60,
     "data": {
      "text/plain": "<pandas.io.formats.style.Styler at 0x7f85ba10b510>",
      "text/html": "<style  type=\"text/css\" >\n#T_f857e_row0_col0{\n            background-color:  #86BCE9;\n        }</style><table id=\"T_f857e_\" ><caption>States where white farmers are not the majority</caption><thead>    <tr>        <th class=\"blank level0\" ></th>        <th class=\"col_heading level0 col0\" >American Indian/Alaska Native</th>        <th class=\"col_heading level0 col1\" >Asian</th>        <th class=\"col_heading level0 col2\" >Black</th>        <th class=\"col_heading level0 col3\" >Hawaiian/Pacific Islander</th>        <th class=\"col_heading level0 col4\" >Hispanic</th>        <th class=\"col_heading level0 col5\" >Multi-Racial</th>        <th class=\"col_heading level0 col6\" >White</th>    </tr>    <tr>        <th class=\"index_name level0\" >state_name</th>        <th class=\"blank\" ></th>        <th class=\"blank\" ></th>        <th class=\"blank\" ></th>        <th class=\"blank\" ></th>        <th class=\"blank\" ></th>        <th class=\"blank\" ></th>        <th class=\"blank\" ></th>    </tr></thead><tbody>\n                <tr>\n                        <th id=\"T_f857e_level0_row0\" class=\"row_heading level0 row0\" >Arizona</th>\n                        <td id=\"T_f857e_row0_col0\" class=\"data row0 col0\" >54.94%</td>\n                        <td id=\"T_f857e_row0_col1\" class=\"data row0 col1\" >0.42%</td>\n                        <td id=\"T_f857e_row0_col2\" class=\"data row0 col2\" >0.16%</td>\n                        <td id=\"T_f857e_row0_col3\" class=\"data row0 col3\" >0.22%</td>\n                        <td id=\"T_f857e_row0_col4\" class=\"data row0 col4\" >4.35%</td>\n                        <td id=\"T_f857e_row0_col5\" class=\"data row0 col5\" >0.68%</td>\n                        <td id=\"T_f857e_row0_col6\" class=\"data row0 col6\" >39.23%</td>\n            </tr>\n    </tbody></table>"
     },
     "metadata": {}
    }
   ]
  },
  {
   "cell_type": "markdown",
   "source": "Since Arizona is the only state without majority-white farmers, let's isolate the states who have white-farmer percentages < 90%. In the below table, we can see that 10 U.S. states fit this filter. I highlight the largest non-white ethnic percentage for each state.",
   "metadata": {
    "cell_id": "00082-5d1a6add-45de-47e7-b7e5-0e220ab73913",
    "deepnote_app_coordinates": {
     "x": 0,
     "y": 492,
     "w": 12,
     "h": 5
    },
    "deepnote_cell_type": "markdown"
   }
  },
  {
   "cell_type": "code",
   "metadata": {
    "cell_id": "00083-4661bbac-396e-43fa-9535-5f144314091d",
    "deepnote_output_heights": [
     393
    ],
    "deepnote_to_be_reexecuted": false,
    "source_hash": "397b0d83",
    "execution_start": 1638832769838,
    "execution_millis": 2,
    "deepnote_app_coordinates": {
     "x": 0,
     "y": 498,
     "w": 12,
     "h": 5
    },
    "deepnote_cell_type": "code"
   },
   "source": "white_perc_filter = state_race_breakdown[\"white_perc\"] < .9\nstate_race_breakdown_perc = state_race_breakdown.loc[white_perc_filter]\n\n\nstyle_dataframe(\n    state_race_breakdown_perc,\n    title=\"States with white-farmer percentages less than 90%\",\n    column_names=[\"American Indian/Alaska Native\", \"Asian\", \"Black\", \"Hawaiian/Pacific Islander\", \"Hispanic\", \"Multi-Racial\", \"White\"],\n    percent_column_indexes=[0,1,2,3,4,5,6],\n    highlighting=True,\n    highlight_subset=[\"am_indian_alaska_native_perc\", \"asian_perc\", \"black_perc\", \"hawaiian_pacific_islander_perc\", \"hispanic_perc\", \"multi_race_perc\"]\n)",
   "execution_count": null,
   "outputs": [
    {
     "output_type": "execute_result",
     "execution_count": 61,
     "data": {
      "text/plain": "<pandas.io.formats.style.Styler at 0x7f85b8c34590>",
      "text/html": "<style  type=\"text/css\" >\n#T_e8202_row0_col0,#T_e8202_row1_col1,#T_e8202_row2_col4,#T_e8202_row3_col4,#T_e8202_row4_col0,#T_e8202_row5_col2,#T_e8202_row6_col4,#T_e8202_row7_col4,#T_e8202_row8_col0,#T_e8202_row9_col2{\n            background-color:  #86BCE9;\n        }</style><table id=\"T_e8202_\" ><caption>States with white-farmer percentages less than 90%</caption><thead>    <tr>        <th class=\"blank level0\" ></th>        <th class=\"col_heading level0 col0\" >American Indian/Alaska Native</th>        <th class=\"col_heading level0 col1\" >Asian</th>        <th class=\"col_heading level0 col2\" >Black</th>        <th class=\"col_heading level0 col3\" >Hawaiian/Pacific Islander</th>        <th class=\"col_heading level0 col4\" >Hispanic</th>        <th class=\"col_heading level0 col5\" >Multi-Racial</th>        <th class=\"col_heading level0 col6\" >White</th>    </tr>    <tr>        <th class=\"index_name level0\" >state_name</th>        <th class=\"blank\" ></th>        <th class=\"blank\" ></th>        <th class=\"blank\" ></th>        <th class=\"blank\" ></th>        <th class=\"blank\" ></th>        <th class=\"blank\" ></th>        <th class=\"blank\" ></th>    </tr></thead><tbody>\n                <tr>\n                        <th id=\"T_e8202_level0_row0\" class=\"row_heading level0 row0\" >Arizona</th>\n                        <td id=\"T_e8202_row0_col0\" class=\"data row0 col0\" >54.94%</td>\n                        <td id=\"T_e8202_row0_col1\" class=\"data row0 col1\" >0.42%</td>\n                        <td id=\"T_e8202_row0_col2\" class=\"data row0 col2\" >0.16%</td>\n                        <td id=\"T_e8202_row0_col3\" class=\"data row0 col3\" >0.22%</td>\n                        <td id=\"T_e8202_row0_col4\" class=\"data row0 col4\" >4.35%</td>\n                        <td id=\"T_e8202_row0_col5\" class=\"data row0 col5\" >0.68%</td>\n                        <td id=\"T_e8202_row0_col6\" class=\"data row0 col6\" >39.23%</td>\n            </tr>\n            <tr>\n                        <th id=\"T_e8202_level0_row1\" class=\"row_heading level0 row1\" >Hawaii</th>\n                        <td id=\"T_e8202_row1_col0\" class=\"data row1 col0\" >0.31%</td>\n                        <td id=\"T_e8202_row1_col1\" class=\"data row1 col1\" >25.27%</td>\n                        <td id=\"T_e8202_row1_col2\" class=\"data row1 col2\" >0.18%</td>\n                        <td id=\"T_e8202_row1_col3\" class=\"data row1 col3\" >8.44%</td>\n                        <td id=\"T_e8202_row1_col4\" class=\"data row1 col4\" >6.00%</td>\n                        <td id=\"T_e8202_row1_col5\" class=\"data row1 col5\" >10.25%</td>\n                        <td id=\"T_e8202_row1_col6\" class=\"data row1 col6\" >49.55%</td>\n            </tr>\n            <tr>\n                        <th id=\"T_e8202_level0_row2\" class=\"row_heading level0 row2\" >New Mexico</th>\n                        <td id=\"T_e8202_row2_col0\" class=\"data row2 col0\" >16.03%</td>\n                        <td id=\"T_e8202_row2_col1\" class=\"data row2 col1\" >0.23%</td>\n                        <td id=\"T_e8202_row2_col2\" class=\"data row2 col2\" >0.12%</td>\n                        <td id=\"T_e8202_row2_col3\" class=\"data row2 col3\" >0.06%</td>\n                        <td id=\"T_e8202_row2_col4\" class=\"data row2 col4\" >23.44%</td>\n                        <td id=\"T_e8202_row2_col5\" class=\"data row2 col5\" >0.54%</td>\n                        <td id=\"T_e8202_row2_col6\" class=\"data row2 col6\" >59.58%</td>\n            </tr>\n            <tr>\n                        <th id=\"T_e8202_level0_row3\" class=\"row_heading level0 row3\" >California</th>\n                        <td id=\"T_e8202_row3_col0\" class=\"data row3 col0\" >1.06%</td>\n                        <td id=\"T_e8202_row3_col1\" class=\"data row3 col1\" >4.79%</td>\n                        <td id=\"T_e8202_row3_col2\" class=\"data row3 col2\" >0.30%</td>\n                        <td id=\"T_e8202_row3_col3\" class=\"data row3 col3\" >0.31%</td>\n                        <td id=\"T_e8202_row3_col4\" class=\"data row3 col4\" >10.16%</td>\n                        <td id=\"T_e8202_row3_col5\" class=\"data row3 col5\" >1.25%</td>\n                        <td id=\"T_e8202_row3_col6\" class=\"data row3 col6\" >82.12%</td>\n            </tr>\n            <tr>\n                        <th id=\"T_e8202_level0_row4\" class=\"row_heading level0 row4\" >Oklahoma</th>\n                        <td id=\"T_e8202_row4_col0\" class=\"data row4 col0\" >8.88%</td>\n                        <td id=\"T_e8202_row4_col1\" class=\"data row4 col1\" >0.36%</td>\n                        <td id=\"T_e8202_row4_col2\" class=\"data row4 col2\" >1.36%</td>\n                        <td id=\"T_e8202_row4_col3\" class=\"data row4 col3\" >0.04%</td>\n                        <td id=\"T_e8202_row4_col4\" class=\"data row4 col4\" >1.99%</td>\n                        <td id=\"T_e8202_row4_col5\" class=\"data row4 col5\" >4.11%</td>\n                        <td id=\"T_e8202_row4_col6\" class=\"data row4 col6\" >83.25%</td>\n            </tr>\n            <tr>\n                        <th id=\"T_e8202_level0_row5\" class=\"row_heading level0 row5\" >Mississippi</th>\n                        <td id=\"T_e8202_row5_col0\" class=\"data row5 col0\" >0.27%</td>\n                        <td id=\"T_e8202_row5_col1\" class=\"data row5 col1\" >0.21%</td>\n                        <td id=\"T_e8202_row5_col2\" class=\"data row5 col2\" >12.95%</td>\n                        <td id=\"T_e8202_row5_col3\" class=\"data row5 col3\" >0.05%</td>\n                        <td id=\"T_e8202_row5_col4\" class=\"data row5 col4\" >1.03%</td>\n                        <td id=\"T_e8202_row5_col5\" class=\"data row5 col5\" >0.50%</td>\n                        <td id=\"T_e8202_row5_col6\" class=\"data row5 col6\" >84.99%</td>\n            </tr>\n            <tr>\n                        <th id=\"T_e8202_level0_row6\" class=\"row_heading level0 row6\" >Florida</th>\n                        <td id=\"T_e8202_row6_col0\" class=\"data row6 col0\" >0.64%</td>\n                        <td id=\"T_e8202_row6_col1\" class=\"data row6 col1\" >1.56%</td>\n                        <td id=\"T_e8202_row6_col2\" class=\"data row6 col2\" >2.76%</td>\n                        <td id=\"T_e8202_row6_col3\" class=\"data row6 col3\" >0.12%</td>\n                        <td id=\"T_e8202_row6_col4\" class=\"data row6 col4\" >8.26%</td>\n                        <td id=\"T_e8202_row6_col5\" class=\"data row6 col5\" >0.83%</td>\n                        <td id=\"T_e8202_row6_col6\" class=\"data row6 col6\" >85.84%</td>\n            </tr>\n            <tr>\n                        <th id=\"T_e8202_level0_row7\" class=\"row_heading level0 row7\" >Texas</th>\n                        <td id=\"T_e8202_row7_col0\" class=\"data row7 col0\" >0.65%</td>\n                        <td id=\"T_e8202_row7_col1\" class=\"data row7 col1\" >0.35%</td>\n                        <td id=\"T_e8202_row7_col2\" class=\"data row7 col2\" >2.59%</td>\n                        <td id=\"T_e8202_row7_col3\" class=\"data row7 col3\" >0.04%</td>\n                        <td id=\"T_e8202_row7_col4\" class=\"data row7 col4\" >9.11%</td>\n                        <td id=\"T_e8202_row7_col5\" class=\"data row7 col5\" >0.78%</td>\n                        <td id=\"T_e8202_row7_col6\" class=\"data row7 col6\" >86.49%</td>\n            </tr>\n            <tr>\n                        <th id=\"T_e8202_level0_row8\" class=\"row_heading level0 row8\" >Nevada</th>\n                        <td id=\"T_e8202_row8_col0\" class=\"data row8 col0\" >4.71%</td>\n                        <td id=\"T_e8202_row8_col1\" class=\"data row8 col1\" >0.36%</td>\n                        <td id=\"T_e8202_row8_col2\" class=\"data row8 col2\" >0.18%</td>\n                        <td id=\"T_e8202_row8_col3\" class=\"data row8 col3\" >nan%</td>\n                        <td id=\"T_e8202_row8_col4\" class=\"data row8 col4\" >4.61%</td>\n                        <td id=\"T_e8202_row8_col5\" class=\"data row8 col5\" >0.99%</td>\n                        <td id=\"T_e8202_row8_col6\" class=\"data row8 col6\" >89.14%</td>\n            </tr>\n            <tr>\n                        <th id=\"T_e8202_level0_row9\" class=\"row_heading level0 row9\" >Louisiana</th>\n                        <td id=\"T_e8202_row9_col0\" class=\"data row9 col0\" >0.61%</td>\n                        <td id=\"T_e8202_row9_col1\" class=\"data row9 col1\" >0.17%</td>\n                        <td id=\"T_e8202_row9_col2\" class=\"data row9 col2\" >6.95%</td>\n                        <td id=\"T_e8202_row9_col3\" class=\"data row9 col3\" >0.05%</td>\n                        <td id=\"T_e8202_row9_col4\" class=\"data row9 col4\" >2.05%</td>\n                        <td id=\"T_e8202_row9_col5\" class=\"data row9 col5\" >0.76%</td>\n                        <td id=\"T_e8202_row9_col6\" class=\"data row9 col6\" >89.40%</td>\n            </tr>\n    </tbody></table>"
     },
     "metadata": {}
    }
   ]
  },
  {
   "cell_type": "markdown",
   "source": "### Conclusion\nAnd that is the end of this first pass at analysis. I've taken a look at the number and size of farms in the United States, their primary products (livestock and crops), and a few demographic characteristics of U.S. farmers.\n\nAfter all that, I've only scratched the surface of the census data set. While we've only partially analyzed 10 tables from the census in this notebook, there are 134 tables in the dataset that you can take a look at. Feel free to duplicate this notebook and continue the analysis on your own!",
   "metadata": {
    "cell_id": "00084-0caaa76b-a06c-44d6-99e5-37a0ff83df21",
    "deepnote_app_coordinates": {
     "x": 0,
     "y": 504,
     "w": 12,
     "h": 5
    },
    "deepnote_cell_type": "markdown"
   }
  },
  {
   "cell_type": "markdown",
   "source": "<a style='text-decoration:none;line-height:16px;display:flex;color:#5B5B62;padding:10px;justify-content:end;' href='https://deepnote.com?utm_source=created-in-deepnote-cell&projectId=05802224-8515-4af2-8e4b-abb5e40d0066' target=\"_blank\">\n<img alt='Created in deepnote.com' style='display:inline;max-height:16px;margin:0px;margin-right:7.5px;' src='data:image/svg+xml;base64,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' > </img>\nCreated in <span style='font-weight:600;margin-left:4px;'>Deepnote</span></a>",
   "metadata": {
    "tags": [],
    "created_in_deepnote_cell": true,
    "deepnote_cell_type": "markdown"
   }
  }
 ],
 "nbformat": 4,
 "nbformat_minor": 4,
 "metadata": {
  "deepnote": {
   "is_reactive": false
  },
  "deepnote_execution_queue": [],
  "deepnote_notebook_id": "e4b5f3d2-ca5e-4ef0-8713-11d1fefc8019",
  "kernelspec": {
   "display_name": "Python 3 (ipykernel)",
   "language": "python",
   "name": "python3"
  },
  "language_info": {
   "codemirror_mode": {
    "name": "ipython",
    "version": 3
   },
   "file_extension": ".py",
   "mimetype": "text/x-python",
   "name": "python",
   "nbconvert_exporter": "python",
   "pygments_lexer": "ipython3",
   "version": "3.9.7"
  },
  "toc-autonumbering": false,
  "toc-showtags": false,
  "deepnote_app_layout": "article"
 }
}
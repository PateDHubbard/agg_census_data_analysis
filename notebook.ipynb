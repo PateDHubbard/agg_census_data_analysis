{
 "cells": [
  {
   "cell_type": "markdown",
   "source": "# US Agriculture Analysis\nIn this Jupyter notebook, I walk through my process for analyzing 2017 census data on U.S. agriculture, with a particular emphasis on the cattle industry.\n\nThe data for this analysis can be accessed on [USDA's website](https://www.nass.usda.gov/Publications/AgCensus/2017/index.php). \n\n![USDA-logo.png](media/USDA-Logo.png)\n\nRetrieving the data in a format that is conducive to the type of ad hoc analysis that I'd like to perform turned out to be a bit challenging. USDA's website provides a nice \"query tool\" that allows users to perform basic filtering of data, but data export options are a bit limited. In the end the best option was to download the full dataset as a very large (over 1GB) tab-deliminated text file.\n\nWorking with large data files in-memory can be challenging so I decided to upload the dataset into a postgres database using [bit.io](https://bit.io/). \n\n![USDA-logo.png](media/bit-io-icon.png)\n\nThis allows me to query the data using SQL and load the necessary portions of the data into dataframes, as opposed loading the full, 1.6 GB file into a dataframe right from the start.",
   "metadata": {
    "tags": [],
    "cell_id": "00000-979ed1a9-babe-4c7b-9d0c-679345616894",
    "deepnote_cell_type": "markdown"
   }
  },
  {
   "cell_type": "markdown",
   "source": "### Pulling the data\nBelow we can run a few queries against the bit.io hosted Postgres table to give us a sense of the data.",
   "metadata": {
    "tags": [],
    "cell_id": "00001-00f790b4-4409-498d-b446-26f9c5589e37",
    "deepnote_cell_type": "markdown"
   }
  },
  {
   "cell_type": "code",
   "metadata": {
    "tags": [],
    "deepnote_variable_name": "df_1",
    "sql_integration_id": "a566b8b6-80ea-40c4-ada5-f5548d01a4b8",
    "cell_id": "00001-998c7b21-4041-429f-9993-59be142999c7",
    "deepnote_to_be_reexecuted": false,
    "source_hash": "7fa998f6",
    "execution_start": 1637545552177,
    "execution_millis": 2752,
    "deepnote_sql_source": "-- previewing the first few rows of the data\nSELECT * \nFROM \"paytondhubbard/census_data\".\"2017_agg_census_data\"\nLIMIT 5",
    "deepnote_cell_type": "sql"
   },
   "source": "\n\ndf_1 = _deepnote_execute_sql(\"\"\"-- previewing the first few rows of the data\nSELECT * \nFROM \"paytondhubbard/census_data\".\"2017_agg_census_data\"\nLIMIT 5\n\"\"\", 'SQL_A566B8B6_80EA_40C4_ADA5_F5548D01A4B8')\ndf_1",
   "execution_count": null,
   "outputs": [
    {
     "output_type": "execute_result",
     "execution_count": 1,
     "data": {
      "application/vnd.deepnote.dataframe.v2+json": {
       "row_count": 5,
       "column_count": 15,
       "columns": [
        {
         "name": "census_chapter",
         "dtype": "int64",
         "stats": {
          "unique_count": 1,
          "nan_count": 0,
          "min": "1",
          "max": "1",
          "histogram": [
           {
            "bin_start": 0.5,
            "bin_end": 0.6,
            "count": 0
           },
           {
            "bin_start": 0.6,
            "bin_end": 0.7,
            "count": 0
           },
           {
            "bin_start": 0.7,
            "bin_end": 0.8,
            "count": 0
           },
           {
            "bin_start": 0.8,
            "bin_end": 0.9,
            "count": 0
           },
           {
            "bin_start": 0.9,
            "bin_end": 1,
            "count": 0
           },
           {
            "bin_start": 1,
            "bin_end": 1.1,
            "count": 5
           },
           {
            "bin_start": 1.1,
            "bin_end": 1.2000000000000002,
            "count": 0
           },
           {
            "bin_start": 1.2000000000000002,
            "bin_end": 1.3,
            "count": 0
           },
           {
            "bin_start": 1.3,
            "bin_end": 1.4,
            "count": 0
           },
           {
            "bin_start": 1.4,
            "bin_end": 1.5,
            "count": 0
           }
          ]
         }
        },
        {
         "name": "census_table",
         "dtype": "int64",
         "stats": {
          "unique_count": 1,
          "nan_count": 0,
          "min": "72",
          "max": "72",
          "histogram": [
           {
            "bin_start": 71.5,
            "bin_end": 71.6,
            "count": 0
           },
           {
            "bin_start": 71.6,
            "bin_end": 71.7,
            "count": 0
           },
           {
            "bin_start": 71.7,
            "bin_end": 71.8,
            "count": 0
           },
           {
            "bin_start": 71.8,
            "bin_end": 71.9,
            "count": 0
           },
           {
            "bin_start": 71.9,
            "bin_end": 72,
            "count": 0
           },
           {
            "bin_start": 72,
            "bin_end": 72.1,
            "count": 5
           },
           {
            "bin_start": 72.1,
            "bin_end": 72.2,
            "count": 0
           },
           {
            "bin_start": 72.2,
            "bin_end": 72.3,
            "count": 0
           },
           {
            "bin_start": 72.3,
            "bin_end": 72.4,
            "count": 0
           },
           {
            "bin_start": 72.4,
            "bin_end": 72.5,
            "count": 0
           }
          ]
         }
        },
        {
         "name": "census_row",
         "dtype": "int64",
         "stats": {
          "unique_count": 1,
          "nan_count": 0,
          "min": "191",
          "max": "191",
          "histogram": [
           {
            "bin_start": 190.5,
            "bin_end": 190.6,
            "count": 0
           },
           {
            "bin_start": 190.6,
            "bin_end": 190.7,
            "count": 0
           },
           {
            "bin_start": 190.7,
            "bin_end": 190.8,
            "count": 0
           },
           {
            "bin_start": 190.8,
            "bin_end": 190.9,
            "count": 0
           },
           {
            "bin_start": 190.9,
            "bin_end": 191,
            "count": 0
           },
           {
            "bin_start": 191,
            "bin_end": 191.1,
            "count": 5
           },
           {
            "bin_start": 191.1,
            "bin_end": 191.2,
            "count": 0
           },
           {
            "bin_start": 191.2,
            "bin_end": 191.3,
            "count": 0
           },
           {
            "bin_start": 191.3,
            "bin_end": 191.4,
            "count": 0
           },
           {
            "bin_start": 191.4,
            "bin_end": 191.5,
            "count": 0
           }
          ]
         }
        },
        {
         "name": "census_column",
         "dtype": "int64",
         "stats": {
          "unique_count": 1,
          "nan_count": 0,
          "min": "5",
          "max": "5",
          "histogram": [
           {
            "bin_start": 4.5,
            "bin_end": 4.6,
            "count": 0
           },
           {
            "bin_start": 4.6,
            "bin_end": 4.7,
            "count": 0
           },
           {
            "bin_start": 4.7,
            "bin_end": 4.8,
            "count": 0
           },
           {
            "bin_start": 4.8,
            "bin_end": 4.9,
            "count": 0
           },
           {
            "bin_start": 4.9,
            "bin_end": 5,
            "count": 0
           },
           {
            "bin_start": 5,
            "bin_end": 5.1,
            "count": 5
           },
           {
            "bin_start": 5.1,
            "bin_end": 5.2,
            "count": 0
           },
           {
            "bin_start": 5.2,
            "bin_end": 5.3,
            "count": 0
           },
           {
            "bin_start": 5.3,
            "bin_end": 5.4,
            "count": 0
           },
           {
            "bin_start": 5.4,
            "bin_end": 5.5,
            "count": 0
           }
          ]
         }
        },
        {
         "name": "sector_desc",
         "dtype": "object",
         "stats": {
          "unique_count": 1,
          "nan_count": 0,
          "categories": [
           {
            "name": "ECONOMICS",
            "count": 5
           }
          ]
         }
        },
        {
         "name": "short_desc",
         "dtype": "object",
         "stats": {
          "unique_count": 1,
          "nan_count": 0,
          "categories": [
           {
            "name": "FUELS, INCL LUBRICANTS - OPERATIONS WITH EXPENSE",
            "count": 5
           }
          ]
         }
        },
        {
         "name": "commodity_desc",
         "dtype": "object",
         "stats": {
          "unique_count": 1,
          "nan_count": 0,
          "categories": [
           {
            "name": "FUELS",
            "count": 5
           }
          ]
         }
        },
        {
         "name": "agg_level_desc",
         "dtype": "object",
         "stats": {
          "unique_count": 1,
          "nan_count": 0,
          "categories": [
           {
            "name": "STATE",
            "count": 5
           }
          ]
         }
        },
        {
         "name": "state_fips_code",
         "dtype": "int64",
         "stats": {
          "unique_count": 5,
          "nan_count": 0,
          "min": "15",
          "max": "19",
          "histogram": [
           {
            "bin_start": 15,
            "bin_end": 15.4,
            "count": 1
           },
           {
            "bin_start": 15.4,
            "bin_end": 15.8,
            "count": 0
           },
           {
            "bin_start": 15.8,
            "bin_end": 16.2,
            "count": 1
           },
           {
            "bin_start": 16.2,
            "bin_end": 16.6,
            "count": 0
           },
           {
            "bin_start": 16.6,
            "bin_end": 17,
            "count": 0
           },
           {
            "bin_start": 17,
            "bin_end": 17.4,
            "count": 1
           },
           {
            "bin_start": 17.4,
            "bin_end": 17.8,
            "count": 0
           },
           {
            "bin_start": 17.8,
            "bin_end": 18.2,
            "count": 1
           },
           {
            "bin_start": 18.2,
            "bin_end": 18.6,
            "count": 0
           },
           {
            "bin_start": 18.6,
            "bin_end": 19,
            "count": 1
           }
          ]
         }
        },
        {
         "name": "state_alpha",
         "dtype": "object",
         "stats": {
          "unique_count": 5,
          "nan_count": 0,
          "categories": [
           {
            "name": "HI",
            "count": 1
           },
           {
            "name": "ID",
            "count": 1
           },
           {
            "name": "3 others",
            "count": 3
           }
          ]
         }
        },
        {
         "name": "state_name",
         "dtype": "object",
         "stats": {
          "unique_count": 5,
          "nan_count": 0,
          "categories": [
           {
            "name": "HAWAII",
            "count": 1
           },
           {
            "name": "IDAHO",
            "count": 1
           },
           {
            "name": "3 others",
            "count": 3
           }
          ]
         }
        },
        {
         "name": "county_code",
         "dtype": "object",
         "stats": {
          "unique_count": 0,
          "nan_count": 5,
          "categories": [
           {
            "name": "Missing",
            "count": 5
           }
          ]
         }
        },
        {
         "name": "county_name",
         "dtype": "object",
         "stats": {
          "unique_count": 0,
          "nan_count": 5,
          "categories": [
           {
            "name": "Missing",
            "count": 5
           }
          ]
         }
        },
        {
         "name": "domaincat_desc",
         "dtype": "object",
         "stats": {
          "unique_count": 1,
          "nan_count": 0,
          "categories": [
           {
            "name": "FARM SALES: (100,000 TO 249,999 $) AND EXPENSE: (50,000 OR MORE $)",
            "count": 5
           }
          ]
         }
        },
        {
         "name": "value",
         "dtype": "object",
         "stats": {
          "unique_count": 5,
          "nan_count": 0,
          "categories": [
           {
            "name": "1",
            "count": 1
           },
           {
            "name": "37",
            "count": 1
           },
           {
            "name": "3 others",
            "count": 3
           }
          ]
         }
        },
        {
         "name": "_deepnote_index_column",
         "dtype": "int64"
        }
       ],
       "rows_top": [
        {
         "census_chapter": 1,
         "census_table": 72,
         "census_row": 191,
         "census_column": 5,
         "sector_desc": "ECONOMICS",
         "short_desc": "FUELS, INCL LUBRICANTS - OPERATIONS WITH EXPENSE",
         "commodity_desc": "FUELS",
         "agg_level_desc": "STATE",
         "state_fips_code": 15,
         "state_alpha": "HI",
         "state_name": "HAWAII",
         "county_code": "None",
         "county_name": "None",
         "domaincat_desc": "FARM SALES: (100,000 TO 249,999 $) AND EXPENSE: (50,000 OR MORE $)",
         "value": "1",
         "_deepnote_index_column": 0
        },
        {
         "census_chapter": 1,
         "census_table": 72,
         "census_row": 191,
         "census_column": 5,
         "sector_desc": "ECONOMICS",
         "short_desc": "FUELS, INCL LUBRICANTS - OPERATIONS WITH EXPENSE",
         "commodity_desc": "FUELS",
         "agg_level_desc": "STATE",
         "state_fips_code": 16,
         "state_alpha": "ID",
         "state_name": "IDAHO",
         "county_code": "None",
         "county_name": "None",
         "domaincat_desc": "FARM SALES: (100,000 TO 249,999 $) AND EXPENSE: (50,000 OR MORE $)",
         "value": "37",
         "_deepnote_index_column": 1
        },
        {
         "census_chapter": 1,
         "census_table": 72,
         "census_row": 191,
         "census_column": 5,
         "sector_desc": "ECONOMICS",
         "short_desc": "FUELS, INCL LUBRICANTS - OPERATIONS WITH EXPENSE",
         "commodity_desc": "FUELS",
         "agg_level_desc": "STATE",
         "state_fips_code": 17,
         "state_alpha": "IL",
         "state_name": "ILLINOIS",
         "county_code": "None",
         "county_name": "None",
         "domaincat_desc": "FARM SALES: (100,000 TO 249,999 $) AND EXPENSE: (50,000 OR MORE $)",
         "value": "55",
         "_deepnote_index_column": 2
        },
        {
         "census_chapter": 1,
         "census_table": 72,
         "census_row": 191,
         "census_column": 5,
         "sector_desc": "ECONOMICS",
         "short_desc": "FUELS, INCL LUBRICANTS - OPERATIONS WITH EXPENSE",
         "commodity_desc": "FUELS",
         "agg_level_desc": "STATE",
         "state_fips_code": 18,
         "state_alpha": "IN",
         "state_name": "INDIANA",
         "county_code": "None",
         "county_name": "None",
         "domaincat_desc": "FARM SALES: (100,000 TO 249,999 $) AND EXPENSE: (50,000 OR MORE $)",
         "value": "24",
         "_deepnote_index_column": 3
        },
        {
         "census_chapter": 1,
         "census_table": 72,
         "census_row": 191,
         "census_column": 5,
         "sector_desc": "ECONOMICS",
         "short_desc": "FUELS, INCL LUBRICANTS - OPERATIONS WITH EXPENSE",
         "commodity_desc": "FUELS",
         "agg_level_desc": "STATE",
         "state_fips_code": 19,
         "state_alpha": "IA",
         "state_name": "IOWA",
         "county_code": "None",
         "county_name": "None",
         "domaincat_desc": "FARM SALES: (100,000 TO 249,999 $) AND EXPENSE: (50,000 OR MORE $)",
         "value": "38",
         "_deepnote_index_column": 4
        }
       ],
       "rows_bottom": null
      },
      "text/plain": "   census_chapter  census_table  census_row  census_column sector_desc  \\\n0               1            72         191              5   ECONOMICS   \n1               1            72         191              5   ECONOMICS   \n2               1            72         191              5   ECONOMICS   \n3               1            72         191              5   ECONOMICS   \n4               1            72         191              5   ECONOMICS   \n\n                                         short_desc commodity_desc  \\\n0  FUELS, INCL LUBRICANTS - OPERATIONS WITH EXPENSE          FUELS   \n1  FUELS, INCL LUBRICANTS - OPERATIONS WITH EXPENSE          FUELS   \n2  FUELS, INCL LUBRICANTS - OPERATIONS WITH EXPENSE          FUELS   \n3  FUELS, INCL LUBRICANTS - OPERATIONS WITH EXPENSE          FUELS   \n4  FUELS, INCL LUBRICANTS - OPERATIONS WITH EXPENSE          FUELS   \n\n  agg_level_desc  state_fips_code state_alpha state_name county_code  \\\n0          STATE               15          HI     HAWAII        None   \n1          STATE               16          ID      IDAHO        None   \n2          STATE               17          IL   ILLINOIS        None   \n3          STATE               18          IN    INDIANA        None   \n4          STATE               19          IA       IOWA        None   \n\n  county_name                                     domaincat_desc value  \n0        None  FARM SALES: (100,000 TO 249,999 $) AND EXPENSE...     1  \n1        None  FARM SALES: (100,000 TO 249,999 $) AND EXPENSE...    37  \n2        None  FARM SALES: (100,000 TO 249,999 $) AND EXPENSE...    55  \n3        None  FARM SALES: (100,000 TO 249,999 $) AND EXPENSE...    24  \n4        None  FARM SALES: (100,000 TO 249,999 $) AND EXPENSE...    38  ",
      "text/html": "<div>\n<style scoped>\n    .dataframe tbody tr th:only-of-type {\n        vertical-align: middle;\n    }\n\n    .dataframe tbody tr th {\n        vertical-align: top;\n    }\n\n    .dataframe thead th {\n        text-align: right;\n    }\n</style>\n<table border=\"1\" class=\"dataframe\">\n  <thead>\n    <tr style=\"text-align: right;\">\n      <th></th>\n      <th>census_chapter</th>\n      <th>census_table</th>\n      <th>census_row</th>\n      <th>census_column</th>\n      <th>sector_desc</th>\n      <th>short_desc</th>\n      <th>commodity_desc</th>\n      <th>agg_level_desc</th>\n      <th>state_fips_code</th>\n      <th>state_alpha</th>\n      <th>state_name</th>\n      <th>county_code</th>\n      <th>county_name</th>\n      <th>domaincat_desc</th>\n      <th>value</th>\n    </tr>\n  </thead>\n  <tbody>\n    <tr>\n      <th>0</th>\n      <td>1</td>\n      <td>72</td>\n      <td>191</td>\n      <td>5</td>\n      <td>ECONOMICS</td>\n      <td>FUELS, INCL LUBRICANTS - OPERATIONS WITH EXPENSE</td>\n      <td>FUELS</td>\n      <td>STATE</td>\n      <td>15</td>\n      <td>HI</td>\n      <td>HAWAII</td>\n      <td>None</td>\n      <td>None</td>\n      <td>FARM SALES: (100,000 TO 249,999 $) AND EXPENSE...</td>\n      <td>1</td>\n    </tr>\n    <tr>\n      <th>1</th>\n      <td>1</td>\n      <td>72</td>\n      <td>191</td>\n      <td>5</td>\n      <td>ECONOMICS</td>\n      <td>FUELS, INCL LUBRICANTS - OPERATIONS WITH EXPENSE</td>\n      <td>FUELS</td>\n      <td>STATE</td>\n      <td>16</td>\n      <td>ID</td>\n      <td>IDAHO</td>\n      <td>None</td>\n      <td>None</td>\n      <td>FARM SALES: (100,000 TO 249,999 $) AND EXPENSE...</td>\n      <td>37</td>\n    </tr>\n    <tr>\n      <th>2</th>\n      <td>1</td>\n      <td>72</td>\n      <td>191</td>\n      <td>5</td>\n      <td>ECONOMICS</td>\n      <td>FUELS, INCL LUBRICANTS - OPERATIONS WITH EXPENSE</td>\n      <td>FUELS</td>\n      <td>STATE</td>\n      <td>17</td>\n      <td>IL</td>\n      <td>ILLINOIS</td>\n      <td>None</td>\n      <td>None</td>\n      <td>FARM SALES: (100,000 TO 249,999 $) AND EXPENSE...</td>\n      <td>55</td>\n    </tr>\n    <tr>\n      <th>3</th>\n      <td>1</td>\n      <td>72</td>\n      <td>191</td>\n      <td>5</td>\n      <td>ECONOMICS</td>\n      <td>FUELS, INCL LUBRICANTS - OPERATIONS WITH EXPENSE</td>\n      <td>FUELS</td>\n      <td>STATE</td>\n      <td>18</td>\n      <td>IN</td>\n      <td>INDIANA</td>\n      <td>None</td>\n      <td>None</td>\n      <td>FARM SALES: (100,000 TO 249,999 $) AND EXPENSE...</td>\n      <td>24</td>\n    </tr>\n    <tr>\n      <th>4</th>\n      <td>1</td>\n      <td>72</td>\n      <td>191</td>\n      <td>5</td>\n      <td>ECONOMICS</td>\n      <td>FUELS, INCL LUBRICANTS - OPERATIONS WITH EXPENSE</td>\n      <td>FUELS</td>\n      <td>STATE</td>\n      <td>19</td>\n      <td>IA</td>\n      <td>IOWA</td>\n      <td>None</td>\n      <td>None</td>\n      <td>FARM SALES: (100,000 TO 249,999 $) AND EXPENSE...</td>\n      <td>38</td>\n    </tr>\n  </tbody>\n</table>\n</div>"
     },
     "metadata": {}
    }
   ]
  },
  {
   "cell_type": "markdown",
   "source": "The first table within the dataset has helpful, high-level statistics on farming on a state by state level. We'll filter the total dataset down to only the first table of census chapter 1 and save that table to `table_1_df_raw`",
   "metadata": {
    "tags": [],
    "cell_id": "00003-acb44d54-db4a-4920-8d63-e75171b7f483",
    "deepnote_cell_type": "markdown"
   }
  },
  {
   "cell_type": "code",
   "metadata": {
    "tags": [],
    "deepnote_variable_name": "table_1_df_raw",
    "sql_integration_id": "a566b8b6-80ea-40c4-ada5-f5548d01a4b8",
    "cell_id": "00003-47d6ebe7-34be-47ce-8eed-6603484efff0",
    "deepnote_to_be_reexecuted": false,
    "source_hash": "48fc2151",
    "execution_start": 1637875337462,
    "execution_millis": 3077,
    "deepnote_sql_source": "SELECT *\nFROM \"paytondhubbard/census_data\".\"2017_agg_census_data\"\nWHERE census_chapter = 1\nAND census_table = 1",
    "deepnote_cell_type": "sql"
   },
   "source": "\n\ntable_1_df_raw = _deepnote_execute_sql(\"\"\"SELECT *\nFROM \"paytondhubbard/census_data\".\"2017_agg_census_data\"\nWHERE census_chapter = 1\nAND census_table = 1\n\"\"\", 'SQL_A566B8B6_80EA_40C4_ADA5_F5548D01A4B8')\ntable_1_df_raw",
   "execution_count": 1,
   "outputs": [
    {
     "output_type": "execute_result",
     "execution_count": 1,
     "data": {
      "application/vnd.deepnote.dataframe.v2+json": {
       "row_count": 5508,
       "column_count": 15,
       "columns": [
        {
         "name": "census_chapter",
         "dtype": "int64",
         "stats": {
          "unique_count": 1,
          "nan_count": 0,
          "min": "1",
          "max": "1",
          "histogram": [
           {
            "bin_start": 0.5,
            "bin_end": 0.6,
            "count": 0
           },
           {
            "bin_start": 0.6,
            "bin_end": 0.7,
            "count": 0
           },
           {
            "bin_start": 0.7,
            "bin_end": 0.8,
            "count": 0
           },
           {
            "bin_start": 0.8,
            "bin_end": 0.9,
            "count": 0
           },
           {
            "bin_start": 0.9,
            "bin_end": 1,
            "count": 0
           },
           {
            "bin_start": 1,
            "bin_end": 1.1,
            "count": 5508
           },
           {
            "bin_start": 1.1,
            "bin_end": 1.2000000000000002,
            "count": 0
           },
           {
            "bin_start": 1.2000000000000002,
            "bin_end": 1.3,
            "count": 0
           },
           {
            "bin_start": 1.3,
            "bin_end": 1.4,
            "count": 0
           },
           {
            "bin_start": 1.4,
            "bin_end": 1.5,
            "count": 0
           }
          ]
         }
        },
        {
         "name": "census_table",
         "dtype": "int64",
         "stats": {
          "unique_count": 1,
          "nan_count": 0,
          "min": "1",
          "max": "1",
          "histogram": [
           {
            "bin_start": 0.5,
            "bin_end": 0.6,
            "count": 0
           },
           {
            "bin_start": 0.6,
            "bin_end": 0.7,
            "count": 0
           },
           {
            "bin_start": 0.7,
            "bin_end": 0.8,
            "count": 0
           },
           {
            "bin_start": 0.8,
            "bin_end": 0.9,
            "count": 0
           },
           {
            "bin_start": 0.9,
            "bin_end": 1,
            "count": 0
           },
           {
            "bin_start": 1,
            "bin_end": 1.1,
            "count": 5508
           },
           {
            "bin_start": 1.1,
            "bin_end": 1.2000000000000002,
            "count": 0
           },
           {
            "bin_start": 1.2000000000000002,
            "bin_end": 1.3,
            "count": 0
           },
           {
            "bin_start": 1.3,
            "bin_end": 1.4,
            "count": 0
           },
           {
            "bin_start": 1.4,
            "bin_end": 1.5,
            "count": 0
           }
          ]
         }
        },
        {
         "name": "census_row",
         "dtype": "int64",
         "stats": {
          "unique_count": 128,
          "nan_count": 0,
          "min": "1",
          "max": "128",
          "histogram": [
           {
            "bin_start": 1,
            "bin_end": 13.7,
            "count": 663
           },
           {
            "bin_start": 13.7,
            "bin_end": 26.4,
            "count": 663
           },
           {
            "bin_start": 26.4,
            "bin_end": 39.099999999999994,
            "count": 663
           },
           {
            "bin_start": 39.099999999999994,
            "bin_end": 51.8,
            "count": 612
           },
           {
            "bin_start": 51.8,
            "bin_end": 64.5,
            "count": 659
           },
           {
            "bin_start": 64.5,
            "bin_end": 77.19999999999999,
            "count": 469
           },
           {
            "bin_start": 77.19999999999999,
            "bin_end": 89.89999999999999,
            "count": 553
           },
           {
            "bin_start": 89.89999999999999,
            "bin_end": 102.6,
            "count": 401
           },
           {
            "bin_start": 102.6,
            "bin_end": 115.3,
            "count": 362
           },
           {
            "bin_start": 115.3,
            "bin_end": 128,
            "count": 463
           }
          ]
         }
        },
        {
         "name": "census_column",
         "dtype": "int64",
         "stats": {
          "unique_count": 1,
          "nan_count": 0,
          "min": "1",
          "max": "1",
          "histogram": [
           {
            "bin_start": 0.5,
            "bin_end": 0.6,
            "count": 0
           },
           {
            "bin_start": 0.6,
            "bin_end": 0.7,
            "count": 0
           },
           {
            "bin_start": 0.7,
            "bin_end": 0.8,
            "count": 0
           },
           {
            "bin_start": 0.8,
            "bin_end": 0.9,
            "count": 0
           },
           {
            "bin_start": 0.9,
            "bin_end": 1,
            "count": 0
           },
           {
            "bin_start": 1,
            "bin_end": 1.1,
            "count": 5508
           },
           {
            "bin_start": 1.1,
            "bin_end": 1.2000000000000002,
            "count": 0
           },
           {
            "bin_start": 1.2000000000000002,
            "bin_end": 1.3,
            "count": 0
           },
           {
            "bin_start": 1.3,
            "bin_end": 1.4,
            "count": 0
           },
           {
            "bin_start": 1.4,
            "bin_end": 1.5,
            "count": 0
           }
          ]
         }
        },
        {
         "name": "sector_desc",
         "dtype": "object",
         "stats": {
          "unique_count": 4,
          "nan_count": 0,
          "categories": [
           {
            "name": "CROPS",
            "count": 2499
           },
           {
            "name": "ECONOMICS",
            "count": 1938
           },
           {
            "name": "2 others",
            "count": 1071
           }
          ]
         }
        },
        {
         "name": "short_desc",
         "dtype": "object",
         "stats": {
          "unique_count": 114,
          "nan_count": 0,
          "categories": [
           {
            "name": "FARM OPERATIONS - NUMBER OF OPERATIONS",
            "count": 408
           },
           {
            "name": "COMMODITY TOTALS - OPERATIONS WITH SALES",
            "count": 408
           },
           {
            "name": "112 others",
            "count": 4692
           }
          ]
         }
        },
        {
         "name": "commodity_desc",
         "dtype": "object",
         "stats": {
          "unique_count": 35,
          "nan_count": 0,
          "categories": [
           {
            "name": "FARM OPERATIONS",
            "count": 714
           },
           {
            "name": "COMMODITY TOTALS",
            "count": 510
           },
           {
            "name": "33 others",
            "count": 4284
           }
          ]
         }
        },
        {
         "name": "agg_level_desc",
         "dtype": "object",
         "stats": {
          "unique_count": 2,
          "nan_count": 0,
          "categories": [
           {
            "name": "STATE",
            "count": 5380
           },
           {
            "name": "NATIONAL",
            "count": 128
           }
          ]
         }
        },
        {
         "name": "state_fips_code",
         "dtype": "int64",
         "stats": {
          "unique_count": 51,
          "nan_count": 0,
          "min": "1",
          "max": "99",
          "histogram": [
           {
            "bin_start": 1,
            "bin_end": 10.8,
            "count": 836
           },
           {
            "bin_start": 10.8,
            "bin_end": 20.6,
            "count": 854
           },
           {
            "bin_start": 20.6,
            "bin_end": 30.400000000000002,
            "count": 1088
           },
           {
            "bin_start": 30.400000000000002,
            "bin_end": 40.2,
            "count": 1088
           },
           {
            "bin_start": 40.2,
            "bin_end": 50,
            "count": 865
           },
           {
            "bin_start": 50,
            "bin_end": 59.800000000000004,
            "count": 649
           },
           {
            "bin_start": 59.800000000000004,
            "bin_end": 69.60000000000001,
            "count": 0
           },
           {
            "bin_start": 69.60000000000001,
            "bin_end": 79.4,
            "count": 0
           },
           {
            "bin_start": 79.4,
            "bin_end": 89.2,
            "count": 0
           },
           {
            "bin_start": 89.2,
            "bin_end": 99,
            "count": 128
           }
          ]
         }
        },
        {
         "name": "state_alpha",
         "dtype": "object",
         "stats": {
          "unique_count": 51,
          "nan_count": 0,
          "categories": [
           {
            "name": "US",
            "count": 128
           },
           {
            "name": "TX",
            "count": 119
           },
           {
            "name": "49 others",
            "count": 5261
           }
          ]
         }
        },
        {
         "name": "state_name",
         "dtype": "object",
         "stats": {
          "unique_count": 51,
          "nan_count": 0,
          "categories": [
           {
            "name": "US TOTAL",
            "count": 128
           },
           {
            "name": "TEXAS",
            "count": 119
           },
           {
            "name": "49 others",
            "count": 5261
           }
          ]
         }
        },
        {
         "name": "county_code",
         "dtype": "object",
         "stats": {
          "unique_count": 0,
          "nan_count": 5508,
          "categories": [
           {
            "name": "Missing",
            "count": 5508
           }
          ]
         }
        },
        {
         "name": "county_name",
         "dtype": "object",
         "stats": {
          "unique_count": 0,
          "nan_count": 5508,
          "categories": [
           {
            "name": "Missing",
            "count": 5508
           }
          ]
         }
        },
        {
         "name": "domaincat_desc",
         "dtype": "object",
         "stats": {
          "unique_count": 15,
          "nan_count": 4743,
          "categories": [
           {
            "name": "AREA OPERATED: (1.0 TO 9.9 ACRES)",
            "count": 51
           },
           {
            "name": "14 others",
            "count": 714
           },
           {
            "name": "Missing",
            "count": 4743
           }
          ]
         }
        },
        {
         "name": "value",
         "dtype": "object",
         "stats": {
          "unique_count": 4504,
          "nan_count": 0,
          "categories": [
           {
            "name": "(D)",
            "count": 161
           },
           {
            "name": "1",
            "count": 28
           },
           {
            "name": "4502 others",
            "count": 5319
           }
          ]
         }
        },
        {
         "name": "_deepnote_index_column",
         "dtype": "int64"
        }
       ],
       "rows_top": [
        {
         "census_chapter": 1,
         "census_table": 1,
         "census_row": 2,
         "census_column": 1,
         "sector_desc": "ECONOMICS",
         "short_desc": "FARM OPERATIONS - ACRES OPERATED",
         "commodity_desc": "FARM OPERATIONS",
         "agg_level_desc": "STATE",
         "state_fips_code": 48,
         "state_alpha": "TX",
         "state_name": "TEXAS",
         "county_code": "None",
         "county_name": "None",
         "domaincat_desc": "None",
         "value": "127,036,184",
         "_deepnote_index_column": 0
        },
        {
         "census_chapter": 1,
         "census_table": 1,
         "census_row": 1,
         "census_column": 1,
         "sector_desc": "ECONOMICS",
         "short_desc": "FARM OPERATIONS - NUMBER OF OPERATIONS",
         "commodity_desc": "FARM OPERATIONS",
         "agg_level_desc": "NATIONAL",
         "state_fips_code": 99,
         "state_alpha": "US",
         "state_name": "US TOTAL",
         "county_code": "None",
         "county_name": "None",
         "domaincat_desc": "None",
         "value": "2,042,220",
         "_deepnote_index_column": 1
        },
        {
         "census_chapter": 1,
         "census_table": 1,
         "census_row": 1,
         "census_column": 1,
         "sector_desc": "ECONOMICS",
         "short_desc": "FARM OPERATIONS - NUMBER OF OPERATIONS",
         "commodity_desc": "FARM OPERATIONS",
         "agg_level_desc": "STATE",
         "state_fips_code": 1,
         "state_alpha": "AL",
         "state_name": "ALABAMA",
         "county_code": "None",
         "county_name": "None",
         "domaincat_desc": "None",
         "value": "40,592",
         "_deepnote_index_column": 2
        },
        {
         "census_chapter": 1,
         "census_table": 1,
         "census_row": 1,
         "census_column": 1,
         "sector_desc": "ECONOMICS",
         "short_desc": "FARM OPERATIONS - NUMBER OF OPERATIONS",
         "commodity_desc": "FARM OPERATIONS",
         "agg_level_desc": "STATE",
         "state_fips_code": 2,
         "state_alpha": "AK",
         "state_name": "ALASKA",
         "county_code": "None",
         "county_name": "None",
         "domaincat_desc": "None",
         "value": "990",
         "_deepnote_index_column": 3
        },
        {
         "census_chapter": 1,
         "census_table": 1,
         "census_row": 1,
         "census_column": 1,
         "sector_desc": "ECONOMICS",
         "short_desc": "FARM OPERATIONS - NUMBER OF OPERATIONS",
         "commodity_desc": "FARM OPERATIONS",
         "agg_level_desc": "STATE",
         "state_fips_code": 4,
         "state_alpha": "AZ",
         "state_name": "ARIZONA",
         "county_code": "None",
         "county_name": "None",
         "domaincat_desc": "None",
         "value": "19,086",
         "_deepnote_index_column": 4
        },
        {
         "census_chapter": 1,
         "census_table": 1,
         "census_row": 1,
         "census_column": 1,
         "sector_desc": "ECONOMICS",
         "short_desc": "FARM OPERATIONS - NUMBER OF OPERATIONS",
         "commodity_desc": "FARM OPERATIONS",
         "agg_level_desc": "STATE",
         "state_fips_code": 5,
         "state_alpha": "AR",
         "state_name": "ARKANSAS",
         "county_code": "None",
         "county_name": "None",
         "domaincat_desc": "None",
         "value": "42,625",
         "_deepnote_index_column": 5
        },
        {
         "census_chapter": 1,
         "census_table": 1,
         "census_row": 1,
         "census_column": 1,
         "sector_desc": "ECONOMICS",
         "short_desc": "FARM OPERATIONS - NUMBER OF OPERATIONS",
         "commodity_desc": "FARM OPERATIONS",
         "agg_level_desc": "STATE",
         "state_fips_code": 6,
         "state_alpha": "CA",
         "state_name": "CALIFORNIA",
         "county_code": "None",
         "county_name": "None",
         "domaincat_desc": "None",
         "value": "70,521",
         "_deepnote_index_column": 6
        },
        {
         "census_chapter": 1,
         "census_table": 1,
         "census_row": 1,
         "census_column": 1,
         "sector_desc": "ECONOMICS",
         "short_desc": "FARM OPERATIONS - NUMBER OF OPERATIONS",
         "commodity_desc": "FARM OPERATIONS",
         "agg_level_desc": "STATE",
         "state_fips_code": 8,
         "state_alpha": "CO",
         "state_name": "COLORADO",
         "county_code": "None",
         "county_name": "None",
         "domaincat_desc": "None",
         "value": "38,893",
         "_deepnote_index_column": 7
        },
        {
         "census_chapter": 1,
         "census_table": 1,
         "census_row": 1,
         "census_column": 1,
         "sector_desc": "ECONOMICS",
         "short_desc": "FARM OPERATIONS - NUMBER OF OPERATIONS",
         "commodity_desc": "FARM OPERATIONS",
         "agg_level_desc": "STATE",
         "state_fips_code": 9,
         "state_alpha": "CT",
         "state_name": "CONNECTICUT",
         "county_code": "None",
         "county_name": "None",
         "domaincat_desc": "None",
         "value": "5,521",
         "_deepnote_index_column": 8
        },
        {
         "census_chapter": 1,
         "census_table": 1,
         "census_row": 1,
         "census_column": 1,
         "sector_desc": "ECONOMICS",
         "short_desc": "FARM OPERATIONS - NUMBER OF OPERATIONS",
         "commodity_desc": "FARM OPERATIONS",
         "agg_level_desc": "STATE",
         "state_fips_code": 10,
         "state_alpha": "DE",
         "state_name": "DELAWARE",
         "county_code": "None",
         "county_name": "None",
         "domaincat_desc": "None",
         "value": "2,302",
         "_deepnote_index_column": 9
        },
        {
         "census_chapter": 1,
         "census_table": 1,
         "census_row": 1,
         "census_column": 1,
         "sector_desc": "ECONOMICS",
         "short_desc": "FARM OPERATIONS - NUMBER OF OPERATIONS",
         "commodity_desc": "FARM OPERATIONS",
         "agg_level_desc": "STATE",
         "state_fips_code": 12,
         "state_alpha": "FL",
         "state_name": "FLORIDA",
         "county_code": "None",
         "county_name": "None",
         "domaincat_desc": "None",
         "value": "47,590",
         "_deepnote_index_column": 10
        },
        {
         "census_chapter": 1,
         "census_table": 1,
         "census_row": 1,
         "census_column": 1,
         "sector_desc": "ECONOMICS",
         "short_desc": "FARM OPERATIONS - NUMBER OF OPERATIONS",
         "commodity_desc": "FARM OPERATIONS",
         "agg_level_desc": "STATE",
         "state_fips_code": 13,
         "state_alpha": "GA",
         "state_name": "GEORGIA",
         "county_code": "None",
         "county_name": "None",
         "domaincat_desc": "None",
         "value": "42,439",
         "_deepnote_index_column": 11
        },
        {
         "census_chapter": 1,
         "census_table": 1,
         "census_row": 1,
         "census_column": 1,
         "sector_desc": "ECONOMICS",
         "short_desc": "FARM OPERATIONS - NUMBER OF OPERATIONS",
         "commodity_desc": "FARM OPERATIONS",
         "agg_level_desc": "STATE",
         "state_fips_code": 15,
         "state_alpha": "HI",
         "state_name": "HAWAII",
         "county_code": "None",
         "county_name": "None",
         "domaincat_desc": "None",
         "value": "7,328",
         "_deepnote_index_column": 12
        },
        {
         "census_chapter": 1,
         "census_table": 1,
         "census_row": 1,
         "census_column": 1,
         "sector_desc": "ECONOMICS",
         "short_desc": "FARM OPERATIONS - NUMBER OF OPERATIONS",
         "commodity_desc": "FARM OPERATIONS",
         "agg_level_desc": "STATE",
         "state_fips_code": 16,
         "state_alpha": "ID",
         "state_name": "IDAHO",
         "county_code": "None",
         "county_name": "None",
         "domaincat_desc": "None",
         "value": "24,996",
         "_deepnote_index_column": 13
        },
        {
         "census_chapter": 1,
         "census_table": 1,
         "census_row": 1,
         "census_column": 1,
         "sector_desc": "ECONOMICS",
         "short_desc": "FARM OPERATIONS - NUMBER OF OPERATIONS",
         "commodity_desc": "FARM OPERATIONS",
         "agg_level_desc": "STATE",
         "state_fips_code": 17,
         "state_alpha": "IL",
         "state_name": "ILLINOIS",
         "county_code": "None",
         "county_name": "None",
         "domaincat_desc": "None",
         "value": "72,651",
         "_deepnote_index_column": 14
        },
        {
         "census_chapter": 1,
         "census_table": 1,
         "census_row": 1,
         "census_column": 1,
         "sector_desc": "ECONOMICS",
         "short_desc": "FARM OPERATIONS - NUMBER OF OPERATIONS",
         "commodity_desc": "FARM OPERATIONS",
         "agg_level_desc": "STATE",
         "state_fips_code": 18,
         "state_alpha": "IN",
         "state_name": "INDIANA",
         "county_code": "None",
         "county_name": "None",
         "domaincat_desc": "None",
         "value": "56,649",
         "_deepnote_index_column": 15
        },
        {
         "census_chapter": 1,
         "census_table": 1,
         "census_row": 1,
         "census_column": 1,
         "sector_desc": "ECONOMICS",
         "short_desc": "FARM OPERATIONS - NUMBER OF OPERATIONS",
         "commodity_desc": "FARM OPERATIONS",
         "agg_level_desc": "STATE",
         "state_fips_code": 19,
         "state_alpha": "IA",
         "state_name": "IOWA",
         "county_code": "None",
         "county_name": "None",
         "domaincat_desc": "None",
         "value": "86,104",
         "_deepnote_index_column": 16
        },
        {
         "census_chapter": 1,
         "census_table": 1,
         "census_row": 1,
         "census_column": 1,
         "sector_desc": "ECONOMICS",
         "short_desc": "FARM OPERATIONS - NUMBER OF OPERATIONS",
         "commodity_desc": "FARM OPERATIONS",
         "agg_level_desc": "STATE",
         "state_fips_code": 20,
         "state_alpha": "KS",
         "state_name": "KANSAS",
         "county_code": "None",
         "county_name": "None",
         "domaincat_desc": "None",
         "value": "58,569",
         "_deepnote_index_column": 17
        },
        {
         "census_chapter": 1,
         "census_table": 1,
         "census_row": 1,
         "census_column": 1,
         "sector_desc": "ECONOMICS",
         "short_desc": "FARM OPERATIONS - NUMBER OF OPERATIONS",
         "commodity_desc": "FARM OPERATIONS",
         "agg_level_desc": "STATE",
         "state_fips_code": 21,
         "state_alpha": "KY",
         "state_name": "KENTUCKY",
         "county_code": "None",
         "county_name": "None",
         "domaincat_desc": "None",
         "value": "75,966",
         "_deepnote_index_column": 18
        },
        {
         "census_chapter": 1,
         "census_table": 1,
         "census_row": 1,
         "census_column": 1,
         "sector_desc": "ECONOMICS",
         "short_desc": "FARM OPERATIONS - NUMBER OF OPERATIONS",
         "commodity_desc": "FARM OPERATIONS",
         "agg_level_desc": "STATE",
         "state_fips_code": 22,
         "state_alpha": "LA",
         "state_name": "LOUISIANA",
         "county_code": "None",
         "county_name": "None",
         "domaincat_desc": "None",
         "value": "27,386",
         "_deepnote_index_column": 19
        },
        {
         "census_chapter": 1,
         "census_table": 1,
         "census_row": 1,
         "census_column": 1,
         "sector_desc": "ECONOMICS",
         "short_desc": "FARM OPERATIONS - NUMBER OF OPERATIONS",
         "commodity_desc": "FARM OPERATIONS",
         "agg_level_desc": "STATE",
         "state_fips_code": 23,
         "state_alpha": "ME",
         "state_name": "MAINE",
         "county_code": "None",
         "county_name": "None",
         "domaincat_desc": "None",
         "value": "7,600",
         "_deepnote_index_column": 20
        },
        {
         "census_chapter": 1,
         "census_table": 1,
         "census_row": 1,
         "census_column": 1,
         "sector_desc": "ECONOMICS",
         "short_desc": "FARM OPERATIONS - NUMBER OF OPERATIONS",
         "commodity_desc": "FARM OPERATIONS",
         "agg_level_desc": "STATE",
         "state_fips_code": 24,
         "state_alpha": "MD",
         "state_name": "MARYLAND",
         "county_code": "None",
         "county_name": "None",
         "domaincat_desc": "None",
         "value": "12,429",
         "_deepnote_index_column": 21
        },
        {
         "census_chapter": 1,
         "census_table": 1,
         "census_row": 1,
         "census_column": 1,
         "sector_desc": "ECONOMICS",
         "short_desc": "FARM OPERATIONS - NUMBER OF OPERATIONS",
         "commodity_desc": "FARM OPERATIONS",
         "agg_level_desc": "STATE",
         "state_fips_code": 25,
         "state_alpha": "MA",
         "state_name": "MASSACHUSETTS",
         "county_code": "None",
         "county_name": "None",
         "domaincat_desc": "None",
         "value": "7,241",
         "_deepnote_index_column": 22
        },
        {
         "census_chapter": 1,
         "census_table": 1,
         "census_row": 1,
         "census_column": 1,
         "sector_desc": "ECONOMICS",
         "short_desc": "FARM OPERATIONS - NUMBER OF OPERATIONS",
         "commodity_desc": "FARM OPERATIONS",
         "agg_level_desc": "STATE",
         "state_fips_code": 26,
         "state_alpha": "MI",
         "state_name": "MICHIGAN",
         "county_code": "None",
         "county_name": "None",
         "domaincat_desc": "None",
         "value": "47,641",
         "_deepnote_index_column": 23
        },
        {
         "census_chapter": 1,
         "census_table": 1,
         "census_row": 1,
         "census_column": 1,
         "sector_desc": "ECONOMICS",
         "short_desc": "FARM OPERATIONS - NUMBER OF OPERATIONS",
         "commodity_desc": "FARM OPERATIONS",
         "agg_level_desc": "STATE",
         "state_fips_code": 27,
         "state_alpha": "MN",
         "state_name": "MINNESOTA",
         "county_code": "None",
         "county_name": "None",
         "domaincat_desc": "None",
         "value": "68,822",
         "_deepnote_index_column": 24
        },
        {
         "census_chapter": 1,
         "census_table": 1,
         "census_row": 1,
         "census_column": 1,
         "sector_desc": "ECONOMICS",
         "short_desc": "FARM OPERATIONS - NUMBER OF OPERATIONS",
         "commodity_desc": "FARM OPERATIONS",
         "agg_level_desc": "STATE",
         "state_fips_code": 28,
         "state_alpha": "MS",
         "state_name": "MISSISSIPPI",
         "county_code": "None",
         "county_name": "None",
         "domaincat_desc": "None",
         "value": "34,988",
         "_deepnote_index_column": 25
        },
        {
         "census_chapter": 1,
         "census_table": 1,
         "census_row": 1,
         "census_column": 1,
         "sector_desc": "ECONOMICS",
         "short_desc": "FARM OPERATIONS - NUMBER OF OPERATIONS",
         "commodity_desc": "FARM OPERATIONS",
         "agg_level_desc": "STATE",
         "state_fips_code": 29,
         "state_alpha": "MO",
         "state_name": "MISSOURI",
         "county_code": "None",
         "county_name": "None",
         "domaincat_desc": "None",
         "value": "95,320",
         "_deepnote_index_column": 26
        },
        {
         "census_chapter": 1,
         "census_table": 1,
         "census_row": 1,
         "census_column": 1,
         "sector_desc": "ECONOMICS",
         "short_desc": "FARM OPERATIONS - NUMBER OF OPERATIONS",
         "commodity_desc": "FARM OPERATIONS",
         "agg_level_desc": "STATE",
         "state_fips_code": 30,
         "state_alpha": "MT",
         "state_name": "MONTANA",
         "county_code": "None",
         "county_name": "None",
         "domaincat_desc": "None",
         "value": "27,048",
         "_deepnote_index_column": 27
        },
        {
         "census_chapter": 1,
         "census_table": 1,
         "census_row": 1,
         "census_column": 1,
         "sector_desc": "ECONOMICS",
         "short_desc": "FARM OPERATIONS - NUMBER OF OPERATIONS",
         "commodity_desc": "FARM OPERATIONS",
         "agg_level_desc": "STATE",
         "state_fips_code": 31,
         "state_alpha": "NE",
         "state_name": "NEBRASKA",
         "county_code": "None",
         "county_name": "None",
         "domaincat_desc": "None",
         "value": "46,332",
         "_deepnote_index_column": 28
        },
        {
         "census_chapter": 1,
         "census_table": 1,
         "census_row": 1,
         "census_column": 1,
         "sector_desc": "ECONOMICS",
         "short_desc": "FARM OPERATIONS - NUMBER OF OPERATIONS",
         "commodity_desc": "FARM OPERATIONS",
         "agg_level_desc": "STATE",
         "state_fips_code": 32,
         "state_alpha": "NV",
         "state_name": "NEVADA",
         "county_code": "None",
         "county_name": "None",
         "domaincat_desc": "None",
         "value": "3,423",
         "_deepnote_index_column": 29
        },
        {
         "census_chapter": 1,
         "census_table": 1,
         "census_row": 1,
         "census_column": 1,
         "sector_desc": "ECONOMICS",
         "short_desc": "FARM OPERATIONS - NUMBER OF OPERATIONS",
         "commodity_desc": "FARM OPERATIONS",
         "agg_level_desc": "STATE",
         "state_fips_code": 33,
         "state_alpha": "NH",
         "state_name": "NEW HAMPSHIRE",
         "county_code": "None",
         "county_name": "None",
         "domaincat_desc": "None",
         "value": "4,123",
         "_deepnote_index_column": 30
        },
        {
         "census_chapter": 1,
         "census_table": 1,
         "census_row": 1,
         "census_column": 1,
         "sector_desc": "ECONOMICS",
         "short_desc": "FARM OPERATIONS - NUMBER OF OPERATIONS",
         "commodity_desc": "FARM OPERATIONS",
         "agg_level_desc": "STATE",
         "state_fips_code": 34,
         "state_alpha": "NJ",
         "state_name": "NEW JERSEY",
         "county_code": "None",
         "county_name": "None",
         "domaincat_desc": "None",
         "value": "9,883",
         "_deepnote_index_column": 31
        },
        {
         "census_chapter": 1,
         "census_table": 1,
         "census_row": 1,
         "census_column": 1,
         "sector_desc": "ECONOMICS",
         "short_desc": "FARM OPERATIONS - NUMBER OF OPERATIONS",
         "commodity_desc": "FARM OPERATIONS",
         "agg_level_desc": "STATE",
         "state_fips_code": 35,
         "state_alpha": "NM",
         "state_name": "NEW MEXICO",
         "county_code": "None",
         "county_name": "None",
         "domaincat_desc": "None",
         "value": "25,044",
         "_deepnote_index_column": 32
        }
       ],
       "rows_bottom": [
        {
         "census_chapter": 1,
         "census_table": 1,
         "census_row": 3,
         "census_column": 1,
         "sector_desc": "ECONOMICS",
         "short_desc": "FARM OPERATIONS - AREA OPERATED, MEASURED IN ACRES / OPERATION",
         "commodity_desc": "FARM OPERATIONS",
         "agg_level_desc": "STATE",
         "state_fips_code": 2,
         "state_alpha": "AK",
         "state_name": "ALASKA",
         "county_code": "None",
         "county_name": "None",
         "domaincat_desc": "None",
         "value": "858",
         "_deepnote_index_column": 5475
        },
        {
         "census_chapter": 1,
         "census_table": 1,
         "census_row": 3,
         "census_column": 1,
         "sector_desc": "ECONOMICS",
         "short_desc": "FARM OPERATIONS - AREA OPERATED, MEASURED IN ACRES / OPERATION",
         "commodity_desc": "FARM OPERATIONS",
         "agg_level_desc": "STATE",
         "state_fips_code": 4,
         "state_alpha": "AZ",
         "state_name": "ARIZONA",
         "county_code": "None",
         "county_name": "None",
         "domaincat_desc": "None",
         "value": "1,369",
         "_deepnote_index_column": 5476
        },
        {
         "census_chapter": 1,
         "census_table": 1,
         "census_row": 3,
         "census_column": 1,
         "sector_desc": "ECONOMICS",
         "short_desc": "FARM OPERATIONS - AREA OPERATED, MEASURED IN ACRES / OPERATION",
         "commodity_desc": "FARM OPERATIONS",
         "agg_level_desc": "STATE",
         "state_fips_code": 5,
         "state_alpha": "AR",
         "state_name": "ARKANSAS",
         "county_code": "None",
         "county_name": "None",
         "domaincat_desc": "None",
         "value": "326",
         "_deepnote_index_column": 5477
        },
        {
         "census_chapter": 1,
         "census_table": 1,
         "census_row": 3,
         "census_column": 1,
         "sector_desc": "ECONOMICS",
         "short_desc": "FARM OPERATIONS - AREA OPERATED, MEASURED IN ACRES / OPERATION",
         "commodity_desc": "FARM OPERATIONS",
         "agg_level_desc": "STATE",
         "state_fips_code": 6,
         "state_alpha": "CA",
         "state_name": "CALIFORNIA",
         "county_code": "None",
         "county_name": "None",
         "domaincat_desc": "None",
         "value": "348",
         "_deepnote_index_column": 5478
        },
        {
         "census_chapter": 1,
         "census_table": 1,
         "census_row": 3,
         "census_column": 1,
         "sector_desc": "ECONOMICS",
         "short_desc": "FARM OPERATIONS - AREA OPERATED, MEASURED IN ACRES / OPERATION",
         "commodity_desc": "FARM OPERATIONS",
         "agg_level_desc": "STATE",
         "state_fips_code": 8,
         "state_alpha": "CO",
         "state_name": "COLORADO",
         "county_code": "None",
         "county_name": "None",
         "domaincat_desc": "None",
         "value": "818",
         "_deepnote_index_column": 5479
        },
        {
         "census_chapter": 1,
         "census_table": 1,
         "census_row": 3,
         "census_column": 1,
         "sector_desc": "ECONOMICS",
         "short_desc": "FARM OPERATIONS - AREA OPERATED, MEASURED IN ACRES / OPERATION",
         "commodity_desc": "FARM OPERATIONS",
         "agg_level_desc": "STATE",
         "state_fips_code": 9,
         "state_alpha": "CT",
         "state_name": "CONNECTICUT",
         "county_code": "None",
         "county_name": "None",
         "domaincat_desc": "None",
         "value": "69",
         "_deepnote_index_column": 5480
        },
        {
         "census_chapter": 1,
         "census_table": 1,
         "census_row": 3,
         "census_column": 1,
         "sector_desc": "ECONOMICS",
         "short_desc": "FARM OPERATIONS - AREA OPERATED, MEASURED IN ACRES / OPERATION",
         "commodity_desc": "FARM OPERATIONS",
         "agg_level_desc": "STATE",
         "state_fips_code": 10,
         "state_alpha": "DE",
         "state_name": "DELAWARE",
         "county_code": "None",
         "county_name": "None",
         "domaincat_desc": "None",
         "value": "228",
         "_deepnote_index_column": 5481
        },
        {
         "census_chapter": 1,
         "census_table": 1,
         "census_row": 3,
         "census_column": 1,
         "sector_desc": "ECONOMICS",
         "short_desc": "FARM OPERATIONS - AREA OPERATED, MEASURED IN ACRES / OPERATION",
         "commodity_desc": "FARM OPERATIONS",
         "agg_level_desc": "STATE",
         "state_fips_code": 12,
         "state_alpha": "FL",
         "state_name": "FLORIDA",
         "county_code": "None",
         "county_name": "None",
         "domaincat_desc": "None",
         "value": "204",
         "_deepnote_index_column": 5482
        },
        {
         "census_chapter": 1,
         "census_table": 1,
         "census_row": 3,
         "census_column": 1,
         "sector_desc": "ECONOMICS",
         "short_desc": "FARM OPERATIONS - AREA OPERATED, MEASURED IN ACRES / OPERATION",
         "commodity_desc": "FARM OPERATIONS",
         "agg_level_desc": "STATE",
         "state_fips_code": 13,
         "state_alpha": "GA",
         "state_name": "GEORGIA",
         "county_code": "None",
         "county_name": "None",
         "domaincat_desc": "None",
         "value": "235",
         "_deepnote_index_column": 5483
        },
        {
         "census_chapter": 1,
         "census_table": 1,
         "census_row": 3,
         "census_column": 1,
         "sector_desc": "ECONOMICS",
         "short_desc": "FARM OPERATIONS - AREA OPERATED, MEASURED IN ACRES / OPERATION",
         "commodity_desc": "FARM OPERATIONS",
         "agg_level_desc": "STATE",
         "state_fips_code": 15,
         "state_alpha": "HI",
         "state_name": "HAWAII",
         "county_code": "None",
         "county_name": "None",
         "domaincat_desc": "None",
         "value": "155",
         "_deepnote_index_column": 5484
        },
        {
         "census_chapter": 1,
         "census_table": 1,
         "census_row": 3,
         "census_column": 1,
         "sector_desc": "ECONOMICS",
         "short_desc": "FARM OPERATIONS - AREA OPERATED, MEASURED IN ACRES / OPERATION",
         "commodity_desc": "FARM OPERATIONS",
         "agg_level_desc": "STATE",
         "state_fips_code": 16,
         "state_alpha": "ID",
         "state_name": "IDAHO",
         "county_code": "None",
         "county_name": "None",
         "domaincat_desc": "None",
         "value": "468",
         "_deepnote_index_column": 5485
        },
        {
         "census_chapter": 1,
         "census_table": 1,
         "census_row": 3,
         "census_column": 1,
         "sector_desc": "ECONOMICS",
         "short_desc": "FARM OPERATIONS - AREA OPERATED, MEASURED IN ACRES / OPERATION",
         "commodity_desc": "FARM OPERATIONS",
         "agg_level_desc": "STATE",
         "state_fips_code": 17,
         "state_alpha": "IL",
         "state_name": "ILLINOIS",
         "county_code": "None",
         "county_name": "None",
         "domaincat_desc": "None",
         "value": "372",
         "_deepnote_index_column": 5486
        },
        {
         "census_chapter": 1,
         "census_table": 1,
         "census_row": 3,
         "census_column": 1,
         "sector_desc": "ECONOMICS",
         "short_desc": "FARM OPERATIONS - AREA OPERATED, MEASURED IN ACRES / OPERATION",
         "commodity_desc": "FARM OPERATIONS",
         "agg_level_desc": "STATE",
         "state_fips_code": 18,
         "state_alpha": "IN",
         "state_name": "INDIANA",
         "county_code": "None",
         "county_name": "None",
         "domaincat_desc": "None",
         "value": "264",
         "_deepnote_index_column": 5487
        },
        {
         "census_chapter": 1,
         "census_table": 1,
         "census_row": 3,
         "census_column": 1,
         "sector_desc": "ECONOMICS",
         "short_desc": "FARM OPERATIONS - AREA OPERATED, MEASURED IN ACRES / OPERATION",
         "commodity_desc": "FARM OPERATIONS",
         "agg_level_desc": "STATE",
         "state_fips_code": 19,
         "state_alpha": "IA",
         "state_name": "IOWA",
         "county_code": "None",
         "county_name": "None",
         "domaincat_desc": "None",
         "value": "355",
         "_deepnote_index_column": 5488
        },
        {
         "census_chapter": 1,
         "census_table": 1,
         "census_row": 3,
         "census_column": 1,
         "sector_desc": "ECONOMICS",
         "short_desc": "FARM OPERATIONS - AREA OPERATED, MEASURED IN ACRES / OPERATION",
         "commodity_desc": "FARM OPERATIONS",
         "agg_level_desc": "STATE",
         "state_fips_code": 20,
         "state_alpha": "KS",
         "state_name": "KANSAS",
         "county_code": "None",
         "county_name": "None",
         "domaincat_desc": "None",
         "value": "781",
         "_deepnote_index_column": 5489
        },
        {
         "census_chapter": 1,
         "census_table": 1,
         "census_row": 3,
         "census_column": 1,
         "sector_desc": "ECONOMICS",
         "short_desc": "FARM OPERATIONS - AREA OPERATED, MEASURED IN ACRES / OPERATION",
         "commodity_desc": "FARM OPERATIONS",
         "agg_level_desc": "STATE",
         "state_fips_code": 21,
         "state_alpha": "KY",
         "state_name": "KENTUCKY",
         "county_code": "None",
         "county_name": "None",
         "domaincat_desc": "None",
         "value": "171",
         "_deepnote_index_column": 5490
        },
        {
         "census_chapter": 1,
         "census_table": 1,
         "census_row": 3,
         "census_column": 1,
         "sector_desc": "ECONOMICS",
         "short_desc": "FARM OPERATIONS - AREA OPERATED, MEASURED IN ACRES / OPERATION",
         "commodity_desc": "FARM OPERATIONS",
         "agg_level_desc": "STATE",
         "state_fips_code": 22,
         "state_alpha": "LA",
         "state_name": "LOUISIANA",
         "county_code": "None",
         "county_name": "None",
         "domaincat_desc": "None",
         "value": "292",
         "_deepnote_index_column": 5491
        },
        {
         "census_chapter": 1,
         "census_table": 1,
         "census_row": 3,
         "census_column": 1,
         "sector_desc": "ECONOMICS",
         "short_desc": "FARM OPERATIONS - AREA OPERATED, MEASURED IN ACRES / OPERATION",
         "commodity_desc": "FARM OPERATIONS",
         "agg_level_desc": "STATE",
         "state_fips_code": 23,
         "state_alpha": "ME",
         "state_name": "MAINE",
         "county_code": "None",
         "county_name": "None",
         "domaincat_desc": "None",
         "value": "172",
         "_deepnote_index_column": 5492
        },
        {
         "census_chapter": 1,
         "census_table": 1,
         "census_row": 3,
         "census_column": 1,
         "sector_desc": "ECONOMICS",
         "short_desc": "FARM OPERATIONS - AREA OPERATED, MEASURED IN ACRES / OPERATION",
         "commodity_desc": "FARM OPERATIONS",
         "agg_level_desc": "STATE",
         "state_fips_code": 24,
         "state_alpha": "MD",
         "state_name": "MARYLAND",
         "county_code": "None",
         "county_name": "None",
         "domaincat_desc": "None",
         "value": "160",
         "_deepnote_index_column": 5493
        },
        {
         "census_chapter": 1,
         "census_table": 1,
         "census_row": 3,
         "census_column": 1,
         "sector_desc": "ECONOMICS",
         "short_desc": "FARM OPERATIONS - AREA OPERATED, MEASURED IN ACRES / OPERATION",
         "commodity_desc": "FARM OPERATIONS",
         "agg_level_desc": "STATE",
         "state_fips_code": 25,
         "state_alpha": "MA",
         "state_name": "MASSACHUSETTS",
         "county_code": "None",
         "county_name": "None",
         "domaincat_desc": "None",
         "value": "68",
         "_deepnote_index_column": 5494
        },
        {
         "census_chapter": 1,
         "census_table": 1,
         "census_row": 3,
         "census_column": 1,
         "sector_desc": "ECONOMICS",
         "short_desc": "FARM OPERATIONS - AREA OPERATED, MEASURED IN ACRES / OPERATION",
         "commodity_desc": "FARM OPERATIONS",
         "agg_level_desc": "STATE",
         "state_fips_code": 26,
         "state_alpha": "MI",
         "state_name": "MICHIGAN",
         "county_code": "None",
         "county_name": "None",
         "domaincat_desc": "None",
         "value": "205",
         "_deepnote_index_column": 5495
        },
        {
         "census_chapter": 1,
         "census_table": 1,
         "census_row": 3,
         "census_column": 1,
         "sector_desc": "ECONOMICS",
         "short_desc": "FARM OPERATIONS - AREA OPERATED, MEASURED IN ACRES / OPERATION",
         "commodity_desc": "FARM OPERATIONS",
         "agg_level_desc": "STATE",
         "state_fips_code": 27,
         "state_alpha": "MN",
         "state_name": "MINNESOTA",
         "county_code": "None",
         "county_name": "None",
         "domaincat_desc": "None",
         "value": "371",
         "_deepnote_index_column": 5496
        },
        {
         "census_chapter": 1,
         "census_table": 1,
         "census_row": 3,
         "census_column": 1,
         "sector_desc": "ECONOMICS",
         "short_desc": "FARM OPERATIONS - AREA OPERATED, MEASURED IN ACRES / OPERATION",
         "commodity_desc": "FARM OPERATIONS",
         "agg_level_desc": "STATE",
         "state_fips_code": 28,
         "state_alpha": "MS",
         "state_name": "MISSISSIPPI",
         "county_code": "None",
         "county_name": "None",
         "domaincat_desc": "None",
         "value": "298",
         "_deepnote_index_column": 5497
        },
        {
         "census_chapter": 1,
         "census_table": 1,
         "census_row": 3,
         "census_column": 1,
         "sector_desc": "ECONOMICS",
         "short_desc": "FARM OPERATIONS - AREA OPERATED, MEASURED IN ACRES / OPERATION",
         "commodity_desc": "FARM OPERATIONS",
         "agg_level_desc": "STATE",
         "state_fips_code": 29,
         "state_alpha": "MO",
         "state_name": "MISSOURI",
         "county_code": "None",
         "county_name": "None",
         "domaincat_desc": "None",
         "value": "291",
         "_deepnote_index_column": 5498
        },
        {
         "census_chapter": 1,
         "census_table": 1,
         "census_row": 3,
         "census_column": 1,
         "sector_desc": "ECONOMICS",
         "short_desc": "FARM OPERATIONS - AREA OPERATED, MEASURED IN ACRES / OPERATION",
         "commodity_desc": "FARM OPERATIONS",
         "agg_level_desc": "STATE",
         "state_fips_code": 30,
         "state_alpha": "MT",
         "state_name": "MONTANA",
         "county_code": "None",
         "county_name": "None",
         "domaincat_desc": "None",
         "value": "2,149",
         "_deepnote_index_column": 5499
        },
        {
         "census_chapter": 1,
         "census_table": 1,
         "census_row": 3,
         "census_column": 1,
         "sector_desc": "ECONOMICS",
         "short_desc": "FARM OPERATIONS - AREA OPERATED, MEASURED IN ACRES / OPERATION",
         "commodity_desc": "FARM OPERATIONS",
         "agg_level_desc": "STATE",
         "state_fips_code": 31,
         "state_alpha": "NE",
         "state_name": "NEBRASKA",
         "county_code": "None",
         "county_name": "None",
         "domaincat_desc": "None",
         "value": "971",
         "_deepnote_index_column": 5500
        },
        {
         "census_chapter": 1,
         "census_table": 1,
         "census_row": 3,
         "census_column": 1,
         "sector_desc": "ECONOMICS",
         "short_desc": "FARM OPERATIONS - AREA OPERATED, MEASURED IN ACRES / OPERATION",
         "commodity_desc": "FARM OPERATIONS",
         "agg_level_desc": "STATE",
         "state_fips_code": 32,
         "state_alpha": "NV",
         "state_name": "NEVADA",
         "county_code": "None",
         "county_name": "None",
         "domaincat_desc": "None",
         "value": "1,790",
         "_deepnote_index_column": 5501
        },
        {
         "census_chapter": 1,
         "census_table": 1,
         "census_row": 3,
         "census_column": 1,
         "sector_desc": "ECONOMICS",
         "short_desc": "FARM OPERATIONS - AREA OPERATED, MEASURED IN ACRES / OPERATION",
         "commodity_desc": "FARM OPERATIONS",
         "agg_level_desc": "STATE",
         "state_fips_code": 33,
         "state_alpha": "NH",
         "state_name": "NEW HAMPSHIRE",
         "county_code": "None",
         "county_name": "None",
         "domaincat_desc": "None",
         "value": "103",
         "_deepnote_index_column": 5502
        },
        {
         "census_chapter": 1,
         "census_table": 1,
         "census_row": 3,
         "census_column": 1,
         "sector_desc": "ECONOMICS",
         "short_desc": "FARM OPERATIONS - AREA OPERATED, MEASURED IN ACRES / OPERATION",
         "commodity_desc": "FARM OPERATIONS",
         "agg_level_desc": "STATE",
         "state_fips_code": 34,
         "state_alpha": "NJ",
         "state_name": "NEW JERSEY",
         "county_code": "None",
         "county_name": "None",
         "domaincat_desc": "None",
         "value": "74",
         "_deepnote_index_column": 5503
        },
        {
         "census_chapter": 1,
         "census_table": 1,
         "census_row": 3,
         "census_column": 1,
         "sector_desc": "ECONOMICS",
         "short_desc": "FARM OPERATIONS - AREA OPERATED, MEASURED IN ACRES / OPERATION",
         "commodity_desc": "FARM OPERATIONS",
         "agg_level_desc": "STATE",
         "state_fips_code": 35,
         "state_alpha": "NM",
         "state_name": "NEW MEXICO",
         "county_code": "None",
         "county_name": "None",
         "domaincat_desc": "None",
         "value": "1,624",
         "_deepnote_index_column": 5504
        },
        {
         "census_chapter": 1,
         "census_table": 1,
         "census_row": 3,
         "census_column": 1,
         "sector_desc": "ECONOMICS",
         "short_desc": "FARM OPERATIONS - AREA OPERATED, MEASURED IN ACRES / OPERATION",
         "commodity_desc": "FARM OPERATIONS",
         "agg_level_desc": "STATE",
         "state_fips_code": 36,
         "state_alpha": "NY",
         "state_name": "NEW YORK",
         "county_code": "None",
         "county_name": "None",
         "domaincat_desc": "None",
         "value": "205",
         "_deepnote_index_column": 5505
        },
        {
         "census_chapter": 1,
         "census_table": 1,
         "census_row": 3,
         "census_column": 1,
         "sector_desc": "ECONOMICS",
         "short_desc": "FARM OPERATIONS - AREA OPERATED, MEASURED IN ACRES / OPERATION",
         "commodity_desc": "FARM OPERATIONS",
         "agg_level_desc": "STATE",
         "state_fips_code": 37,
         "state_alpha": "NC",
         "state_name": "NORTH CAROLINA",
         "county_code": "None",
         "county_name": "None",
         "domaincat_desc": "None",
         "value": "182",
         "_deepnote_index_column": 5506
        },
        {
         "census_chapter": 1,
         "census_table": 1,
         "census_row": 3,
         "census_column": 1,
         "sector_desc": "ECONOMICS",
         "short_desc": "FARM OPERATIONS - AREA OPERATED, MEASURED IN ACRES / OPERATION",
         "commodity_desc": "FARM OPERATIONS",
         "agg_level_desc": "STATE",
         "state_fips_code": 38,
         "state_alpha": "ND",
         "state_name": "NORTH DAKOTA",
         "county_code": "None",
         "county_name": "None",
         "domaincat_desc": "None",
         "value": "1,492",
         "_deepnote_index_column": 5507
        }
       ]
      },
      "text/plain": "      census_chapter  census_table  census_row  census_column sector_desc  \\\n0                  1             1           2              1   ECONOMICS   \n1                  1             1           1              1   ECONOMICS   \n2                  1             1           1              1   ECONOMICS   \n3                  1             1           1              1   ECONOMICS   \n4                  1             1           1              1   ECONOMICS   \n...              ...           ...         ...            ...         ...   \n5503               1             1           3              1   ECONOMICS   \n5504               1             1           3              1   ECONOMICS   \n5505               1             1           3              1   ECONOMICS   \n5506               1             1           3              1   ECONOMICS   \n5507               1             1           3              1   ECONOMICS   \n\n                                             short_desc   commodity_desc  \\\n0                      FARM OPERATIONS - ACRES OPERATED  FARM OPERATIONS   \n1                FARM OPERATIONS - NUMBER OF OPERATIONS  FARM OPERATIONS   \n2                FARM OPERATIONS - NUMBER OF OPERATIONS  FARM OPERATIONS   \n3                FARM OPERATIONS - NUMBER OF OPERATIONS  FARM OPERATIONS   \n4                FARM OPERATIONS - NUMBER OF OPERATIONS  FARM OPERATIONS   \n...                                                 ...              ...   \n5503  FARM OPERATIONS - AREA OPERATED, MEASURED IN A...  FARM OPERATIONS   \n5504  FARM OPERATIONS - AREA OPERATED, MEASURED IN A...  FARM OPERATIONS   \n5505  FARM OPERATIONS - AREA OPERATED, MEASURED IN A...  FARM OPERATIONS   \n5506  FARM OPERATIONS - AREA OPERATED, MEASURED IN A...  FARM OPERATIONS   \n5507  FARM OPERATIONS - AREA OPERATED, MEASURED IN A...  FARM OPERATIONS   \n\n     agg_level_desc  state_fips_code state_alpha      state_name county_code  \\\n0             STATE               48          TX           TEXAS        None   \n1          NATIONAL               99          US        US TOTAL        None   \n2             STATE                1          AL         ALABAMA        None   \n3             STATE                2          AK          ALASKA        None   \n4             STATE                4          AZ         ARIZONA        None   \n...             ...              ...         ...             ...         ...   \n5503          STATE               34          NJ      NEW JERSEY        None   \n5504          STATE               35          NM      NEW MEXICO        None   \n5505          STATE               36          NY        NEW YORK        None   \n5506          STATE               37          NC  NORTH CAROLINA        None   \n5507          STATE               38          ND    NORTH DAKOTA        None   \n\n     county_name domaincat_desc        value  \n0           None           None  127,036,184  \n1           None           None    2,042,220  \n2           None           None       40,592  \n3           None           None          990  \n4           None           None       19,086  \n...          ...            ...          ...  \n5503        None           None           74  \n5504        None           None        1,624  \n5505        None           None          205  \n5506        None           None          182  \n5507        None           None        1,492  \n\n[5508 rows x 15 columns]",
      "text/html": "<div>\n<style scoped>\n    .dataframe tbody tr th:only-of-type {\n        vertical-align: middle;\n    }\n\n    .dataframe tbody tr th {\n        vertical-align: top;\n    }\n\n    .dataframe thead th {\n        text-align: right;\n    }\n</style>\n<table border=\"1\" class=\"dataframe\">\n  <thead>\n    <tr style=\"text-align: right;\">\n      <th></th>\n      <th>census_chapter</th>\n      <th>census_table</th>\n      <th>census_row</th>\n      <th>census_column</th>\n      <th>sector_desc</th>\n      <th>short_desc</th>\n      <th>commodity_desc</th>\n      <th>agg_level_desc</th>\n      <th>state_fips_code</th>\n      <th>state_alpha</th>\n      <th>state_name</th>\n      <th>county_code</th>\n      <th>county_name</th>\n      <th>domaincat_desc</th>\n      <th>value</th>\n    </tr>\n  </thead>\n  <tbody>\n    <tr>\n      <th>0</th>\n      <td>1</td>\n      <td>1</td>\n      <td>2</td>\n      <td>1</td>\n      <td>ECONOMICS</td>\n      <td>FARM OPERATIONS - ACRES OPERATED</td>\n      <td>FARM OPERATIONS</td>\n      <td>STATE</td>\n      <td>48</td>\n      <td>TX</td>\n      <td>TEXAS</td>\n      <td>None</td>\n      <td>None</td>\n      <td>None</td>\n      <td>127,036,184</td>\n    </tr>\n    <tr>\n      <th>1</th>\n      <td>1</td>\n      <td>1</td>\n      <td>1</td>\n      <td>1</td>\n      <td>ECONOMICS</td>\n      <td>FARM OPERATIONS - NUMBER OF OPERATIONS</td>\n      <td>FARM OPERATIONS</td>\n      <td>NATIONAL</td>\n      <td>99</td>\n      <td>US</td>\n      <td>US TOTAL</td>\n      <td>None</td>\n      <td>None</td>\n      <td>None</td>\n      <td>2,042,220</td>\n    </tr>\n    <tr>\n      <th>2</th>\n      <td>1</td>\n      <td>1</td>\n      <td>1</td>\n      <td>1</td>\n      <td>ECONOMICS</td>\n      <td>FARM OPERATIONS - NUMBER OF OPERATIONS</td>\n      <td>FARM OPERATIONS</td>\n      <td>STATE</td>\n      <td>1</td>\n      <td>AL</td>\n      <td>ALABAMA</td>\n      <td>None</td>\n      <td>None</td>\n      <td>None</td>\n      <td>40,592</td>\n    </tr>\n    <tr>\n      <th>3</th>\n      <td>1</td>\n      <td>1</td>\n      <td>1</td>\n      <td>1</td>\n      <td>ECONOMICS</td>\n      <td>FARM OPERATIONS - NUMBER OF OPERATIONS</td>\n      <td>FARM OPERATIONS</td>\n      <td>STATE</td>\n      <td>2</td>\n      <td>AK</td>\n      <td>ALASKA</td>\n      <td>None</td>\n      <td>None</td>\n      <td>None</td>\n      <td>990</td>\n    </tr>\n    <tr>\n      <th>4</th>\n      <td>1</td>\n      <td>1</td>\n      <td>1</td>\n      <td>1</td>\n      <td>ECONOMICS</td>\n      <td>FARM OPERATIONS - NUMBER OF OPERATIONS</td>\n      <td>FARM OPERATIONS</td>\n      <td>STATE</td>\n      <td>4</td>\n      <td>AZ</td>\n      <td>ARIZONA</td>\n      <td>None</td>\n      <td>None</td>\n      <td>None</td>\n      <td>19,086</td>\n    </tr>\n    <tr>\n      <th>...</th>\n      <td>...</td>\n      <td>...</td>\n      <td>...</td>\n      <td>...</td>\n      <td>...</td>\n      <td>...</td>\n      <td>...</td>\n      <td>...</td>\n      <td>...</td>\n      <td>...</td>\n      <td>...</td>\n      <td>...</td>\n      <td>...</td>\n      <td>...</td>\n      <td>...</td>\n    </tr>\n    <tr>\n      <th>5503</th>\n      <td>1</td>\n      <td>1</td>\n      <td>3</td>\n      <td>1</td>\n      <td>ECONOMICS</td>\n      <td>FARM OPERATIONS - AREA OPERATED, MEASURED IN A...</td>\n      <td>FARM OPERATIONS</td>\n      <td>STATE</td>\n      <td>34</td>\n      <td>NJ</td>\n      <td>NEW JERSEY</td>\n      <td>None</td>\n      <td>None</td>\n      <td>None</td>\n      <td>74</td>\n    </tr>\n    <tr>\n      <th>5504</th>\n      <td>1</td>\n      <td>1</td>\n      <td>3</td>\n      <td>1</td>\n      <td>ECONOMICS</td>\n      <td>FARM OPERATIONS - AREA OPERATED, MEASURED IN A...</td>\n      <td>FARM OPERATIONS</td>\n      <td>STATE</td>\n      <td>35</td>\n      <td>NM</td>\n      <td>NEW MEXICO</td>\n      <td>None</td>\n      <td>None</td>\n      <td>None</td>\n      <td>1,624</td>\n    </tr>\n    <tr>\n      <th>5505</th>\n      <td>1</td>\n      <td>1</td>\n      <td>3</td>\n      <td>1</td>\n      <td>ECONOMICS</td>\n      <td>FARM OPERATIONS - AREA OPERATED, MEASURED IN A...</td>\n      <td>FARM OPERATIONS</td>\n      <td>STATE</td>\n      <td>36</td>\n      <td>NY</td>\n      <td>NEW YORK</td>\n      <td>None</td>\n      <td>None</td>\n      <td>None</td>\n      <td>205</td>\n    </tr>\n    <tr>\n      <th>5506</th>\n      <td>1</td>\n      <td>1</td>\n      <td>3</td>\n      <td>1</td>\n      <td>ECONOMICS</td>\n      <td>FARM OPERATIONS - AREA OPERATED, MEASURED IN A...</td>\n      <td>FARM OPERATIONS</td>\n      <td>STATE</td>\n      <td>37</td>\n      <td>NC</td>\n      <td>NORTH CAROLINA</td>\n      <td>None</td>\n      <td>None</td>\n      <td>None</td>\n      <td>182</td>\n    </tr>\n    <tr>\n      <th>5507</th>\n      <td>1</td>\n      <td>1</td>\n      <td>3</td>\n      <td>1</td>\n      <td>ECONOMICS</td>\n      <td>FARM OPERATIONS - AREA OPERATED, MEASURED IN A...</td>\n      <td>FARM OPERATIONS</td>\n      <td>STATE</td>\n      <td>38</td>\n      <td>ND</td>\n      <td>NORTH DAKOTA</td>\n      <td>None</td>\n      <td>None</td>\n      <td>None</td>\n      <td>1,492</td>\n    </tr>\n  </tbody>\n</table>\n<p>5508 rows × 15 columns</p>\n</div>"
     },
     "metadata": {}
    }
   ]
  },
  {
   "cell_type": "markdown",
   "source": "Tables 46 and 47 contain information on the gender of the farmers themselves that we will save into `farmer_gender_table_df_raw`.",
   "metadata": {
    "tags": [],
    "cell_id": "00005-3484a31e-ab39-4286-9eca-7d8a7d542121",
    "deepnote_cell_type": "markdown"
   }
  },
  {
   "cell_type": "code",
   "source": "\n\nfarmer_gender_table_df_raw = _deepnote_execute_sql(\"\"\"SELECT *\nFROM \"paytondhubbard/census_data\".\"2017_agg_census_data\"\nWHERE census_chapter = 2\nAND census_table IN (46, 47)\nAND agg_level_desc = 'STATE'\n\"\"\", 'SQL_A566B8B6_80EA_40C4_ADA5_F5548D01A4B8')\nfarmer_gender_table_df_raw",
   "metadata": {
    "tags": [],
    "deepnote_variable_name": "farmer_gender_table_df_raw",
    "sql_integration_id": "a566b8b6-80ea-40c4-ada5-f5548d01a4b8",
    "cell_id": "00006-83f66667-329d-4a88-8c1e-cd09b99d5bb3",
    "deepnote_to_be_reexecuted": false,
    "source_hash": "c72299bc",
    "execution_start": 1637877990374,
    "execution_millis": 2546,
    "deepnote_cell_type": "sql",
    "deepnote_sql_source": "SELECT *\nFROM \"paytondhubbard/census_data\".\"2017_agg_census_data\"\nWHERE census_chapter = 2\nAND census_table IN (46, 47)\nAND agg_level_desc = 'STATE'"
   },
   "outputs": [
    {
     "output_type": "execute_result",
     "execution_count": 80,
     "data": {
      "application/vnd.deepnote.dataframe.v2+json": {
       "row_count": 600,
       "column_count": 15,
       "columns": [
        {
         "name": "census_chapter",
         "dtype": "int64",
         "stats": {
          "unique_count": 1,
          "nan_count": 0,
          "min": "2",
          "max": "2",
          "histogram": [
           {
            "bin_start": 1.5,
            "bin_end": 1.6,
            "count": 0
           },
           {
            "bin_start": 1.6,
            "bin_end": 1.7,
            "count": 0
           },
           {
            "bin_start": 1.7,
            "bin_end": 1.8,
            "count": 0
           },
           {
            "bin_start": 1.8,
            "bin_end": 1.9,
            "count": 0
           },
           {
            "bin_start": 1.9,
            "bin_end": 2,
            "count": 0
           },
           {
            "bin_start": 2,
            "bin_end": 2.1,
            "count": 600
           },
           {
            "bin_start": 2.1,
            "bin_end": 2.2,
            "count": 0
           },
           {
            "bin_start": 2.2,
            "bin_end": 2.3,
            "count": 0
           },
           {
            "bin_start": 2.3,
            "bin_end": 2.4,
            "count": 0
           },
           {
            "bin_start": 2.4,
            "bin_end": 2.5,
            "count": 0
           }
          ]
         }
        },
        {
         "name": "census_table",
         "dtype": "int64",
         "stats": {
          "unique_count": 2,
          "nan_count": 0,
          "min": "46",
          "max": "47",
          "histogram": [
           {
            "bin_start": 46,
            "bin_end": 46.1,
            "count": 300
           },
           {
            "bin_start": 46.1,
            "bin_end": 46.2,
            "count": 0
           },
           {
            "bin_start": 46.2,
            "bin_end": 46.3,
            "count": 0
           },
           {
            "bin_start": 46.3,
            "bin_end": 46.4,
            "count": 0
           },
           {
            "bin_start": 46.4,
            "bin_end": 46.5,
            "count": 0
           },
           {
            "bin_start": 46.5,
            "bin_end": 46.6,
            "count": 0
           },
           {
            "bin_start": 46.6,
            "bin_end": 46.7,
            "count": 0
           },
           {
            "bin_start": 46.7,
            "bin_end": 46.8,
            "count": 0
           },
           {
            "bin_start": 46.8,
            "bin_end": 46.9,
            "count": 0
           },
           {
            "bin_start": 46.9,
            "bin_end": 47,
            "count": 300
           }
          ]
         }
        },
        {
         "name": "census_row",
         "dtype": "int64",
         "stats": {
          "unique_count": 1,
          "nan_count": 0,
          "min": "1",
          "max": "1",
          "histogram": [
           {
            "bin_start": 0.5,
            "bin_end": 0.6,
            "count": 0
           },
           {
            "bin_start": 0.6,
            "bin_end": 0.7,
            "count": 0
           },
           {
            "bin_start": 0.7,
            "bin_end": 0.8,
            "count": 0
           },
           {
            "bin_start": 0.8,
            "bin_end": 0.9,
            "count": 0
           },
           {
            "bin_start": 0.9,
            "bin_end": 1,
            "count": 0
           },
           {
            "bin_start": 1,
            "bin_end": 1.1,
            "count": 600
           },
           {
            "bin_start": 1.1,
            "bin_end": 1.2000000000000002,
            "count": 0
           },
           {
            "bin_start": 1.2000000000000002,
            "bin_end": 1.3,
            "count": 0
           },
           {
            "bin_start": 1.3,
            "bin_end": 1.4,
            "count": 0
           },
           {
            "bin_start": 1.4,
            "bin_end": 1.5,
            "count": 0
           }
          ]
         }
        },
        {
         "name": "census_column",
         "dtype": "int64",
         "stats": {
          "unique_count": 6,
          "nan_count": 0,
          "min": "1",
          "max": "6",
          "histogram": [
           {
            "bin_start": 1,
            "bin_end": 1.5,
            "count": 100
           },
           {
            "bin_start": 1.5,
            "bin_end": 2,
            "count": 0
           },
           {
            "bin_start": 2,
            "bin_end": 2.5,
            "count": 100
           },
           {
            "bin_start": 2.5,
            "bin_end": 3,
            "count": 0
           },
           {
            "bin_start": 3,
            "bin_end": 3.5,
            "count": 100
           },
           {
            "bin_start": 3.5,
            "bin_end": 4,
            "count": 0
           },
           {
            "bin_start": 4,
            "bin_end": 4.5,
            "count": 100
           },
           {
            "bin_start": 4.5,
            "bin_end": 5,
            "count": 0
           },
           {
            "bin_start": 5,
            "bin_end": 5.5,
            "count": 100
           },
           {
            "bin_start": 5.5,
            "bin_end": 6,
            "count": 100
           }
          ]
         }
        },
        {
         "name": "sector_desc",
         "dtype": "object",
         "stats": {
          "unique_count": 1,
          "nan_count": 0,
          "categories": [
           {
            "name": "DEMOGRAPHICS",
            "count": 600
           }
          ]
         }
        },
        {
         "name": "short_desc",
         "dtype": "object",
         "stats": {
          "unique_count": 12,
          "nan_count": 0,
          "categories": [
           {
            "name": "PRODUCERS, FEMALE - ACRES OPERATED",
            "count": 50
           },
           {
            "name": "PRODUCERS, MALE - NUMBER OF OPERATIONS",
            "count": 50
           },
           {
            "name": "10 others",
            "count": 500
           }
          ]
         }
        },
        {
         "name": "commodity_desc",
         "dtype": "object",
         "stats": {
          "unique_count": 2,
          "nan_count": 0,
          "categories": [
           {
            "name": "PRODUCERS",
            "count": 300
           },
           {
            "name": "PRODUCERS, PRINCIPAL",
            "count": 300
           }
          ]
         }
        },
        {
         "name": "agg_level_desc",
         "dtype": "object",
         "stats": {
          "unique_count": 1,
          "nan_count": 0,
          "categories": [
           {
            "name": "STATE",
            "count": 600
           }
          ]
         }
        },
        {
         "name": "state_fips_code",
         "dtype": "int64",
         "stats": {
          "unique_count": 50,
          "nan_count": 0,
          "min": "1",
          "max": "56",
          "histogram": [
           {
            "bin_start": 1,
            "bin_end": 6.5,
            "count": 60
           },
           {
            "bin_start": 6.5,
            "bin_end": 12,
            "count": 36
           },
           {
            "bin_start": 12,
            "bin_end": 17.5,
            "count": 60
           },
           {
            "bin_start": 17.5,
            "bin_end": 23,
            "count": 60
           },
           {
            "bin_start": 23,
            "bin_end": 28.5,
            "count": 72
           },
           {
            "bin_start": 28.5,
            "bin_end": 34,
            "count": 60
           },
           {
            "bin_start": 34,
            "bin_end": 39.5,
            "count": 72
           },
           {
            "bin_start": 39.5,
            "bin_end": 45,
            "count": 48
           },
           {
            "bin_start": 45,
            "bin_end": 50.5,
            "count": 72
           },
           {
            "bin_start": 50.5,
            "bin_end": 56,
            "count": 60
           }
          ]
         }
        },
        {
         "name": "state_alpha",
         "dtype": "object",
         "stats": {
          "unique_count": 50,
          "nan_count": 0,
          "categories": [
           {
            "name": "HI",
            "count": 12
           },
           {
            "name": "OH",
            "count": 12
           },
           {
            "name": "48 others",
            "count": 576
           }
          ]
         }
        },
        {
         "name": "state_name",
         "dtype": "object",
         "stats": {
          "unique_count": 50,
          "nan_count": 0,
          "categories": [
           {
            "name": "HAWAII",
            "count": 12
           },
           {
            "name": "OHIO",
            "count": 12
           },
           {
            "name": "48 others",
            "count": 576
           }
          ]
         }
        },
        {
         "name": "county_code",
         "dtype": "object",
         "stats": {
          "unique_count": 0,
          "nan_count": 600,
          "categories": [
           {
            "name": "Missing",
            "count": 600
           }
          ]
         }
        },
        {
         "name": "county_name",
         "dtype": "object",
         "stats": {
          "unique_count": 0,
          "nan_count": 600,
          "categories": [
           {
            "name": "Missing",
            "count": 600
           }
          ]
         }
        },
        {
         "name": "domaincat_desc",
         "dtype": "object",
         "stats": {
          "unique_count": 0,
          "nan_count": 600,
          "categories": [
           {
            "name": "Missing",
            "count": 600
           }
          ]
         }
        },
        {
         "name": "value",
         "dtype": "object",
         "stats": {
          "unique_count": 600,
          "nan_count": 0,
          "categories": [
           {
            "name": "347,305",
            "count": 1
           },
           {
            "name": "72,398",
            "count": 1
           },
           {
            "name": "598 others",
            "count": 598
           }
          ]
         }
        },
        {
         "name": "_deepnote_index_column",
         "dtype": "int64"
        }
       ],
       "rows_top": [
        {
         "census_chapter": 2,
         "census_table": 47,
         "census_row": 1,
         "census_column": 3,
         "sector_desc": "DEMOGRAPHICS",
         "short_desc": "PRODUCERS, FEMALE - ACRES OPERATED",
         "commodity_desc": "PRODUCERS",
         "agg_level_desc": "STATE",
         "state_fips_code": 15,
         "state_alpha": "HI",
         "state_name": "HAWAII",
         "county_code": "None",
         "county_name": "None",
         "domaincat_desc": "None",
         "value": "347,305",
         "_deepnote_index_column": 0
        },
        {
         "census_chapter": 2,
         "census_table": 46,
         "census_row": 1,
         "census_column": 1,
         "sector_desc": "DEMOGRAPHICS",
         "short_desc": "PRODUCERS, MALE - NUMBER OF OPERATIONS",
         "commodity_desc": "PRODUCERS",
         "agg_level_desc": "STATE",
         "state_fips_code": 39,
         "state_alpha": "OH",
         "state_name": "OHIO",
         "county_code": "None",
         "county_name": "None",
         "domaincat_desc": "None",
         "value": "72,398",
         "_deepnote_index_column": 1
        },
        {
         "census_chapter": 2,
         "census_table": 47,
         "census_row": 1,
         "census_column": 3,
         "sector_desc": "DEMOGRAPHICS",
         "short_desc": "PRODUCERS, FEMALE - ACRES OPERATED",
         "commodity_desc": "PRODUCERS",
         "agg_level_desc": "STATE",
         "state_fips_code": 10,
         "state_alpha": "DE",
         "state_name": "DELAWARE",
         "county_code": "None",
         "county_name": "None",
         "domaincat_desc": "None",
         "value": "187,769",
         "_deepnote_index_column": 2
        },
        {
         "census_chapter": 2,
         "census_table": 47,
         "census_row": 1,
         "census_column": 3,
         "sector_desc": "DEMOGRAPHICS",
         "short_desc": "PRODUCERS, FEMALE - ACRES OPERATED",
         "commodity_desc": "PRODUCERS",
         "agg_level_desc": "STATE",
         "state_fips_code": 12,
         "state_alpha": "FL",
         "state_name": "FLORIDA",
         "county_code": "None",
         "county_name": "None",
         "domaincat_desc": "None",
         "value": "3,615,319",
         "_deepnote_index_column": 3
        },
        {
         "census_chapter": 2,
         "census_table": 46,
         "census_row": 1,
         "census_column": 1,
         "sector_desc": "DEMOGRAPHICS",
         "short_desc": "PRODUCERS, MALE - NUMBER OF OPERATIONS",
         "commodity_desc": "PRODUCERS",
         "agg_level_desc": "STATE",
         "state_fips_code": 40,
         "state_alpha": "OK",
         "state_name": "OKLAHOMA",
         "county_code": "None",
         "county_name": "None",
         "domaincat_desc": "None",
         "value": "72,234",
         "_deepnote_index_column": 4
        },
        {
         "census_chapter": 2,
         "census_table": 47,
         "census_row": 1,
         "census_column": 3,
         "sector_desc": "DEMOGRAPHICS",
         "short_desc": "PRODUCERS, FEMALE - ACRES OPERATED",
         "commodity_desc": "PRODUCERS",
         "agg_level_desc": "STATE",
         "state_fips_code": 16,
         "state_alpha": "ID",
         "state_name": "IDAHO",
         "county_code": "None",
         "county_name": "None",
         "domaincat_desc": "None",
         "value": "5,665,398",
         "_deepnote_index_column": 5
        },
        {
         "census_chapter": 2,
         "census_table": 47,
         "census_row": 1,
         "census_column": 3,
         "sector_desc": "DEMOGRAPHICS",
         "short_desc": "PRODUCERS, FEMALE - ACRES OPERATED",
         "commodity_desc": "PRODUCERS",
         "agg_level_desc": "STATE",
         "state_fips_code": 17,
         "state_alpha": "IL",
         "state_name": "ILLINOIS",
         "county_code": "None",
         "county_name": "None",
         "domaincat_desc": "None",
         "value": "8,783,539",
         "_deepnote_index_column": 6
        },
        {
         "census_chapter": 2,
         "census_table": 47,
         "census_row": 1,
         "census_column": 3,
         "sector_desc": "DEMOGRAPHICS",
         "short_desc": "PRODUCERS, FEMALE - ACRES OPERATED",
         "commodity_desc": "PRODUCERS",
         "agg_level_desc": "STATE",
         "state_fips_code": 9,
         "state_alpha": "CT",
         "state_name": "CONNECTICUT",
         "county_code": "None",
         "county_name": "None",
         "domaincat_desc": "None",
         "value": "213,985",
         "_deepnote_index_column": 7
        },
        {
         "census_chapter": 2,
         "census_table": 47,
         "census_row": 1,
         "census_column": 3,
         "sector_desc": "DEMOGRAPHICS",
         "short_desc": "PRODUCERS, FEMALE - ACRES OPERATED",
         "commodity_desc": "PRODUCERS",
         "agg_level_desc": "STATE",
         "state_fips_code": 13,
         "state_alpha": "GA",
         "state_name": "GEORGIA",
         "county_code": "None",
         "county_name": "None",
         "domaincat_desc": "None",
         "value": "3,631,877",
         "_deepnote_index_column": 8
        },
        {
         "census_chapter": 2,
         "census_table": 47,
         "census_row": 1,
         "census_column": 3,
         "sector_desc": "DEMOGRAPHICS",
         "short_desc": "PRODUCERS, FEMALE - ACRES OPERATED",
         "commodity_desc": "PRODUCERS",
         "agg_level_desc": "STATE",
         "state_fips_code": 18,
         "state_alpha": "IN",
         "state_name": "INDIANA",
         "county_code": "None",
         "county_name": "None",
         "domaincat_desc": "None",
         "value": "5,873,818",
         "_deepnote_index_column": 9
        },
        {
         "census_chapter": 2,
         "census_table": 47,
         "census_row": 1,
         "census_column": 3,
         "sector_desc": "DEMOGRAPHICS",
         "short_desc": "PRODUCERS, FEMALE - ACRES OPERATED",
         "commodity_desc": "PRODUCERS",
         "agg_level_desc": "STATE",
         "state_fips_code": 21,
         "state_alpha": "KY",
         "state_name": "KENTUCKY",
         "county_code": "None",
         "county_name": "None",
         "domaincat_desc": "None",
         "value": "5,223,082",
         "_deepnote_index_column": 10
        },
        {
         "census_chapter": 2,
         "census_table": 47,
         "census_row": 1,
         "census_column": 3,
         "sector_desc": "DEMOGRAPHICS",
         "short_desc": "PRODUCERS, FEMALE - ACRES OPERATED",
         "commodity_desc": "PRODUCERS",
         "agg_level_desc": "STATE",
         "state_fips_code": 20,
         "state_alpha": "KS",
         "state_name": "KANSAS",
         "county_code": "None",
         "county_name": "None",
         "domaincat_desc": "None",
         "value": "19,643,906",
         "_deepnote_index_column": 11
        },
        {
         "census_chapter": 2,
         "census_table": 47,
         "census_row": 1,
         "census_column": 3,
         "sector_desc": "DEMOGRAPHICS",
         "short_desc": "PRODUCERS, FEMALE - ACRES OPERATED",
         "commodity_desc": "PRODUCERS",
         "agg_level_desc": "STATE",
         "state_fips_code": 22,
         "state_alpha": "LA",
         "state_name": "LOUISIANA",
         "county_code": "None",
         "county_name": "None",
         "domaincat_desc": "None",
         "value": "2,967,027",
         "_deepnote_index_column": 12
        },
        {
         "census_chapter": 2,
         "census_table": 47,
         "census_row": 1,
         "census_column": 3,
         "sector_desc": "DEMOGRAPHICS",
         "short_desc": "PRODUCERS, FEMALE - ACRES OPERATED",
         "commodity_desc": "PRODUCERS",
         "agg_level_desc": "STATE",
         "state_fips_code": 19,
         "state_alpha": "IA",
         "state_name": "IOWA",
         "county_code": "None",
         "county_name": "None",
         "domaincat_desc": "None",
         "value": "14,057,276",
         "_deepnote_index_column": 13
        },
        {
         "census_chapter": 2,
         "census_table": 46,
         "census_row": 1,
         "census_column": 1,
         "sector_desc": "DEMOGRAPHICS",
         "short_desc": "PRODUCERS, MALE - NUMBER OF OPERATIONS",
         "commodity_desc": "PRODUCERS",
         "agg_level_desc": "STATE",
         "state_fips_code": 45,
         "state_alpha": "SC",
         "state_name": "SOUTH CAROLINA",
         "county_code": "None",
         "county_name": "None",
         "domaincat_desc": "None",
         "value": "22,412",
         "_deepnote_index_column": 14
        },
        {
         "census_chapter": 2,
         "census_table": 47,
         "census_row": 1,
         "census_column": 3,
         "sector_desc": "DEMOGRAPHICS",
         "short_desc": "PRODUCERS, FEMALE - ACRES OPERATED",
         "commodity_desc": "PRODUCERS",
         "agg_level_desc": "STATE",
         "state_fips_code": 23,
         "state_alpha": "ME",
         "state_name": "MAINE",
         "county_code": "None",
         "county_name": "None",
         "domaincat_desc": "None",
         "value": "727,224",
         "_deepnote_index_column": 15
        },
        {
         "census_chapter": 2,
         "census_table": 47,
         "census_row": 1,
         "census_column": 3,
         "sector_desc": "DEMOGRAPHICS",
         "short_desc": "PRODUCERS, FEMALE - ACRES OPERATED",
         "commodity_desc": "PRODUCERS",
         "agg_level_desc": "STATE",
         "state_fips_code": 24,
         "state_alpha": "MD",
         "state_name": "MARYLAND",
         "county_code": "None",
         "county_name": "None",
         "domaincat_desc": "None",
         "value": "791,732",
         "_deepnote_index_column": 16
        },
        {
         "census_chapter": 2,
         "census_table": 46,
         "census_row": 1,
         "census_column": 1,
         "sector_desc": "DEMOGRAPHICS",
         "short_desc": "PRODUCERS, MALE - NUMBER OF OPERATIONS",
         "commodity_desc": "PRODUCERS",
         "agg_level_desc": "STATE",
         "state_fips_code": 41,
         "state_alpha": "OR",
         "state_name": "OREGON",
         "county_code": "None",
         "county_name": "None",
         "domaincat_desc": "None",
         "value": "33,113",
         "_deepnote_index_column": 17
        },
        {
         "census_chapter": 2,
         "census_table": 46,
         "census_row": 1,
         "census_column": 1,
         "sector_desc": "DEMOGRAPHICS",
         "short_desc": "PRODUCERS, MALE - NUMBER OF OPERATIONS",
         "commodity_desc": "PRODUCERS",
         "agg_level_desc": "STATE",
         "state_fips_code": 42,
         "state_alpha": "PA",
         "state_name": "PENNSYLVANIA",
         "county_code": "None",
         "county_name": "None",
         "domaincat_desc": "None",
         "value": "49,448",
         "_deepnote_index_column": 18
        },
        {
         "census_chapter": 2,
         "census_table": 46,
         "census_row": 1,
         "census_column": 1,
         "sector_desc": "DEMOGRAPHICS",
         "short_desc": "PRODUCERS, MALE - NUMBER OF OPERATIONS",
         "commodity_desc": "PRODUCERS",
         "agg_level_desc": "STATE",
         "state_fips_code": 44,
         "state_alpha": "RI",
         "state_name": "RHODE ISLAND",
         "county_code": "None",
         "county_name": "None",
         "domaincat_desc": "None",
         "value": "929",
         "_deepnote_index_column": 19
        },
        {
         "census_chapter": 2,
         "census_table": 46,
         "census_row": 1,
         "census_column": 1,
         "sector_desc": "DEMOGRAPHICS",
         "short_desc": "PRODUCERS, MALE - NUMBER OF OPERATIONS",
         "commodity_desc": "PRODUCERS",
         "agg_level_desc": "STATE",
         "state_fips_code": 50,
         "state_alpha": "VT",
         "state_name": "VERMONT",
         "county_code": "None",
         "county_name": "None",
         "domaincat_desc": "None",
         "value": "6,004",
         "_deepnote_index_column": 20
        },
        {
         "census_chapter": 2,
         "census_table": 46,
         "census_row": 1,
         "census_column": 1,
         "sector_desc": "DEMOGRAPHICS",
         "short_desc": "PRODUCERS, MALE - NUMBER OF OPERATIONS",
         "commodity_desc": "PRODUCERS",
         "agg_level_desc": "STATE",
         "state_fips_code": 46,
         "state_alpha": "SD",
         "state_name": "SOUTH DAKOTA",
         "county_code": "None",
         "county_name": "None",
         "domaincat_desc": "None",
         "value": "28,290",
         "_deepnote_index_column": 21
        },
        {
         "census_chapter": 2,
         "census_table": 46,
         "census_row": 1,
         "census_column": 1,
         "sector_desc": "DEMOGRAPHICS",
         "short_desc": "PRODUCERS, MALE - NUMBER OF OPERATIONS",
         "commodity_desc": "PRODUCERS",
         "agg_level_desc": "STATE",
         "state_fips_code": 47,
         "state_alpha": "TN",
         "state_name": "TENNESSEE",
         "county_code": "None",
         "county_name": "None",
         "domaincat_desc": "None",
         "value": "64,808",
         "_deepnote_index_column": 22
        },
        {
         "census_chapter": 2,
         "census_table": 46,
         "census_row": 1,
         "census_column": 1,
         "sector_desc": "DEMOGRAPHICS",
         "short_desc": "PRODUCERS, MALE - NUMBER OF OPERATIONS",
         "commodity_desc": "PRODUCERS",
         "agg_level_desc": "STATE",
         "state_fips_code": 49,
         "state_alpha": "UT",
         "state_name": "UTAH",
         "county_code": "None",
         "county_name": "None",
         "domaincat_desc": "None",
         "value": "17,122",
         "_deepnote_index_column": 23
        },
        {
         "census_chapter": 2,
         "census_table": 46,
         "census_row": 1,
         "census_column": 1,
         "sector_desc": "DEMOGRAPHICS",
         "short_desc": "PRODUCERS, MALE - NUMBER OF OPERATIONS",
         "commodity_desc": "PRODUCERS",
         "agg_level_desc": "STATE",
         "state_fips_code": 48,
         "state_alpha": "TX",
         "state_name": "TEXAS",
         "county_code": "None",
         "county_name": "None",
         "domaincat_desc": "None",
         "value": "224,776",
         "_deepnote_index_column": 24
        },
        {
         "census_chapter": 2,
         "census_table": 46,
         "census_row": 1,
         "census_column": 1,
         "sector_desc": "DEMOGRAPHICS",
         "short_desc": "PRODUCERS, MALE - NUMBER OF OPERATIONS",
         "commodity_desc": "PRODUCERS",
         "agg_level_desc": "STATE",
         "state_fips_code": 54,
         "state_alpha": "WV",
         "state_name": "WEST VIRGINIA",
         "county_code": "None",
         "county_name": "None",
         "domaincat_desc": "None",
         "value": "21,679",
         "_deepnote_index_column": 25
        },
        {
         "census_chapter": 2,
         "census_table": 46,
         "census_row": 1,
         "census_column": 1,
         "sector_desc": "DEMOGRAPHICS",
         "short_desc": "PRODUCERS, MALE - NUMBER OF OPERATIONS",
         "commodity_desc": "PRODUCERS",
         "agg_level_desc": "STATE",
         "state_fips_code": 51,
         "state_alpha": "VA",
         "state_name": "VIRGINIA",
         "county_code": "None",
         "county_name": "None",
         "domaincat_desc": "None",
         "value": "39,148",
         "_deepnote_index_column": 26
        },
        {
         "census_chapter": 2,
         "census_table": 46,
         "census_row": 1,
         "census_column": 1,
         "sector_desc": "DEMOGRAPHICS",
         "short_desc": "PRODUCERS, MALE - NUMBER OF OPERATIONS",
         "commodity_desc": "PRODUCERS",
         "agg_level_desc": "STATE",
         "state_fips_code": 53,
         "state_alpha": "WA",
         "state_name": "WASHINGTON",
         "county_code": "None",
         "county_name": "None",
         "domaincat_desc": "None",
         "value": "31,566",
         "_deepnote_index_column": 27
        },
        {
         "census_chapter": 2,
         "census_table": 46,
         "census_row": 1,
         "census_column": 2,
         "sector_desc": "DEMOGRAPHICS",
         "short_desc": "PRODUCERS, MALE - NUMBER OF PRODUCERS",
         "commodity_desc": "PRODUCERS",
         "agg_level_desc": "STATE",
         "state_fips_code": 2,
         "state_alpha": "AK",
         "state_name": "ALASKA",
         "county_code": "None",
         "county_name": "None",
         "domaincat_desc": "None",
         "value": "916",
         "_deepnote_index_column": 28
        },
        {
         "census_chapter": 2,
         "census_table": 46,
         "census_row": 1,
         "census_column": 1,
         "sector_desc": "DEMOGRAPHICS",
         "short_desc": "PRODUCERS, MALE - NUMBER OF OPERATIONS",
         "commodity_desc": "PRODUCERS",
         "agg_level_desc": "STATE",
         "state_fips_code": 56,
         "state_alpha": "WY",
         "state_name": "WYOMING",
         "county_code": "None",
         "county_name": "None",
         "domaincat_desc": "None",
         "value": "10,889",
         "_deepnote_index_column": 29
        },
        {
         "census_chapter": 2,
         "census_table": 46,
         "census_row": 1,
         "census_column": 2,
         "sector_desc": "DEMOGRAPHICS",
         "short_desc": "PRODUCERS, MALE - NUMBER OF PRODUCERS",
         "commodity_desc": "PRODUCERS",
         "agg_level_desc": "STATE",
         "state_fips_code": 1,
         "state_alpha": "AL",
         "state_name": "ALABAMA",
         "county_code": "None",
         "county_name": "None",
         "domaincat_desc": "None",
         "value": "42,541",
         "_deepnote_index_column": 30
        },
        {
         "census_chapter": 2,
         "census_table": 46,
         "census_row": 1,
         "census_column": 1,
         "sector_desc": "DEMOGRAPHICS",
         "short_desc": "PRODUCERS, MALE - NUMBER OF OPERATIONS",
         "commodity_desc": "PRODUCERS",
         "agg_level_desc": "STATE",
         "state_fips_code": 55,
         "state_alpha": "WI",
         "state_name": "WISCONSIN",
         "county_code": "None",
         "county_name": "None",
         "domaincat_desc": "None",
         "value": "60,818",
         "_deepnote_index_column": 31
        },
        {
         "census_chapter": 2,
         "census_table": 46,
         "census_row": 1,
         "census_column": 3,
         "sector_desc": "DEMOGRAPHICS",
         "short_desc": "PRODUCERS, MALE - ACRES OPERATED",
         "commodity_desc": "PRODUCERS",
         "agg_level_desc": "STATE",
         "state_fips_code": 4,
         "state_alpha": "AZ",
         "state_name": "ARIZONA",
         "county_code": "None",
         "county_name": "None",
         "domaincat_desc": "None",
         "value": "22,792,454",
         "_deepnote_index_column": 32
        }
       ],
       "rows_bottom": [
        {
         "census_chapter": 2,
         "census_table": 47,
         "census_row": 1,
         "census_column": 1,
         "sector_desc": "DEMOGRAPHICS",
         "short_desc": "PRODUCERS, FEMALE - NUMBER OF OPERATIONS",
         "commodity_desc": "PRODUCERS",
         "agg_level_desc": "STATE",
         "state_fips_code": 31,
         "state_alpha": "NE",
         "state_name": "NEBRASKA",
         "county_code": "None",
         "county_name": "None",
         "domaincat_desc": "None",
         "value": "23,168",
         "_deepnote_index_column": 567
        },
        {
         "census_chapter": 2,
         "census_table": 47,
         "census_row": 1,
         "census_column": 1,
         "sector_desc": "DEMOGRAPHICS",
         "short_desc": "PRODUCERS, FEMALE - NUMBER OF OPERATIONS",
         "commodity_desc": "PRODUCERS",
         "agg_level_desc": "STATE",
         "state_fips_code": 32,
         "state_alpha": "NV",
         "state_name": "NEVADA",
         "county_code": "None",
         "county_name": "None",
         "domaincat_desc": "None",
         "value": "2,335",
         "_deepnote_index_column": 568
        },
        {
         "census_chapter": 2,
         "census_table": 47,
         "census_row": 1,
         "census_column": 1,
         "sector_desc": "DEMOGRAPHICS",
         "short_desc": "PRODUCERS, FEMALE - NUMBER OF OPERATIONS",
         "commodity_desc": "PRODUCERS",
         "agg_level_desc": "STATE",
         "state_fips_code": 33,
         "state_alpha": "NH",
         "state_name": "NEW HAMPSHIRE",
         "county_code": "None",
         "county_name": "None",
         "domaincat_desc": "None",
         "value": "3,048",
         "_deepnote_index_column": 569
        },
        {
         "census_chapter": 2,
         "census_table": 47,
         "census_row": 1,
         "census_column": 1,
         "sector_desc": "DEMOGRAPHICS",
         "short_desc": "PRODUCERS, FEMALE - NUMBER OF OPERATIONS",
         "commodity_desc": "PRODUCERS",
         "agg_level_desc": "STATE",
         "state_fips_code": 34,
         "state_alpha": "NJ",
         "state_name": "NEW JERSEY",
         "county_code": "None",
         "county_name": "None",
         "domaincat_desc": "None",
         "value": "6,144",
         "_deepnote_index_column": 570
        },
        {
         "census_chapter": 2,
         "census_table": 47,
         "census_row": 1,
         "census_column": 1,
         "sector_desc": "DEMOGRAPHICS",
         "short_desc": "PRODUCERS, FEMALE - NUMBER OF OPERATIONS",
         "commodity_desc": "PRODUCERS",
         "agg_level_desc": "STATE",
         "state_fips_code": 35,
         "state_alpha": "NM",
         "state_name": "NEW MEXICO",
         "county_code": "None",
         "county_name": "None",
         "domaincat_desc": "None",
         "value": "14,979",
         "_deepnote_index_column": 571
        },
        {
         "census_chapter": 2,
         "census_table": 47,
         "census_row": 1,
         "census_column": 1,
         "sector_desc": "DEMOGRAPHICS",
         "short_desc": "PRODUCERS, FEMALE - NUMBER OF OPERATIONS",
         "commodity_desc": "PRODUCERS",
         "agg_level_desc": "STATE",
         "state_fips_code": 36,
         "state_alpha": "NY",
         "state_name": "NEW YORK",
         "county_code": "None",
         "county_name": "None",
         "domaincat_desc": "None",
         "value": "20,193",
         "_deepnote_index_column": 572
        },
        {
         "census_chapter": 2,
         "census_table": 47,
         "census_row": 1,
         "census_column": 1,
         "sector_desc": "DEMOGRAPHICS",
         "short_desc": "PRODUCERS, FEMALE - NUMBER OF OPERATIONS",
         "commodity_desc": "PRODUCERS",
         "agg_level_desc": "STATE",
         "state_fips_code": 37,
         "state_alpha": "NC",
         "state_name": "NORTH CAROLINA",
         "county_code": "None",
         "county_name": "None",
         "domaincat_desc": "None",
         "value": "22,289",
         "_deepnote_index_column": 573
        },
        {
         "census_chapter": 2,
         "census_table": 47,
         "census_row": 1,
         "census_column": 1,
         "sector_desc": "DEMOGRAPHICS",
         "short_desc": "PRODUCERS, FEMALE - NUMBER OF OPERATIONS",
         "commodity_desc": "PRODUCERS",
         "agg_level_desc": "STATE",
         "state_fips_code": 38,
         "state_alpha": "ND",
         "state_name": "NORTH DAKOTA",
         "county_code": "None",
         "county_name": "None",
         "domaincat_desc": "None",
         "value": "11,454",
         "_deepnote_index_column": 574
        },
        {
         "census_chapter": 2,
         "census_table": 47,
         "census_row": 1,
         "census_column": 1,
         "sector_desc": "DEMOGRAPHICS",
         "short_desc": "PRODUCERS, FEMALE - NUMBER OF OPERATIONS",
         "commodity_desc": "PRODUCERS",
         "agg_level_desc": "STATE",
         "state_fips_code": 39,
         "state_alpha": "OH",
         "state_name": "OHIO",
         "county_code": "None",
         "county_name": "None",
         "domaincat_desc": "None",
         "value": "40,357",
         "_deepnote_index_column": 575
        },
        {
         "census_chapter": 2,
         "census_table": 47,
         "census_row": 1,
         "census_column": 1,
         "sector_desc": "DEMOGRAPHICS",
         "short_desc": "PRODUCERS, FEMALE - NUMBER OF OPERATIONS",
         "commodity_desc": "PRODUCERS",
         "agg_level_desc": "STATE",
         "state_fips_code": 40,
         "state_alpha": "OK",
         "state_name": "OKLAHOMA",
         "county_code": "None",
         "county_name": "None",
         "domaincat_desc": "None",
         "value": "46,919",
         "_deepnote_index_column": 576
        },
        {
         "census_chapter": 2,
         "census_table": 47,
         "census_row": 1,
         "census_column": 1,
         "sector_desc": "DEMOGRAPHICS",
         "short_desc": "PRODUCERS, FEMALE - NUMBER OF OPERATIONS",
         "commodity_desc": "PRODUCERS",
         "agg_level_desc": "STATE",
         "state_fips_code": 41,
         "state_alpha": "OR",
         "state_name": "OREGON",
         "county_code": "None",
         "county_name": "None",
         "domaincat_desc": "None",
         "value": "27,592",
         "_deepnote_index_column": 577
        },
        {
         "census_chapter": 2,
         "census_table": 47,
         "census_row": 1,
         "census_column": 1,
         "sector_desc": "DEMOGRAPHICS",
         "short_desc": "PRODUCERS, FEMALE - NUMBER OF OPERATIONS",
         "commodity_desc": "PRODUCERS",
         "agg_level_desc": "STATE",
         "state_fips_code": 42,
         "state_alpha": "PA",
         "state_name": "PENNSYLVANIA",
         "county_code": "None",
         "county_name": "None",
         "domaincat_desc": "None",
         "value": "29,209",
         "_deepnote_index_column": 578
        },
        {
         "census_chapter": 2,
         "census_table": 47,
         "census_row": 1,
         "census_column": 1,
         "sector_desc": "DEMOGRAPHICS",
         "short_desc": "PRODUCERS, FEMALE - NUMBER OF OPERATIONS",
         "commodity_desc": "PRODUCERS",
         "agg_level_desc": "STATE",
         "state_fips_code": 44,
         "state_alpha": "RI",
         "state_name": "RHODE ISLAND",
         "county_code": "None",
         "county_name": "None",
         "domaincat_desc": "None",
         "value": "666",
         "_deepnote_index_column": 579
        },
        {
         "census_chapter": 2,
         "census_table": 47,
         "census_row": 1,
         "census_column": 1,
         "sector_desc": "DEMOGRAPHICS",
         "short_desc": "PRODUCERS, FEMALE - NUMBER OF OPERATIONS",
         "commodity_desc": "PRODUCERS",
         "agg_level_desc": "STATE",
         "state_fips_code": 45,
         "state_alpha": "SC",
         "state_name": "SOUTH CAROLINA",
         "county_code": "None",
         "county_name": "None",
         "domaincat_desc": "None",
         "value": "12,559",
         "_deepnote_index_column": 580
        },
        {
         "census_chapter": 2,
         "census_table": 47,
         "census_row": 1,
         "census_column": 1,
         "sector_desc": "DEMOGRAPHICS",
         "short_desc": "PRODUCERS, FEMALE - NUMBER OF OPERATIONS",
         "commodity_desc": "PRODUCERS",
         "agg_level_desc": "STATE",
         "state_fips_code": 46,
         "state_alpha": "SD",
         "state_name": "SOUTH DAKOTA",
         "county_code": "None",
         "county_name": "None",
         "domaincat_desc": "None",
         "value": "13,870",
         "_deepnote_index_column": 581
        },
        {
         "census_chapter": 2,
         "census_table": 47,
         "census_row": 1,
         "census_column": 1,
         "sector_desc": "DEMOGRAPHICS",
         "short_desc": "PRODUCERS, FEMALE - NUMBER OF OPERATIONS",
         "commodity_desc": "PRODUCERS",
         "agg_level_desc": "STATE",
         "state_fips_code": 47,
         "state_alpha": "TN",
         "state_name": "TENNESSEE",
         "county_code": "None",
         "county_name": "None",
         "domaincat_desc": "None",
         "value": "37,605",
         "_deepnote_index_column": 582
        },
        {
         "census_chapter": 2,
         "census_table": 47,
         "census_row": 1,
         "census_column": 1,
         "sector_desc": "DEMOGRAPHICS",
         "short_desc": "PRODUCERS, FEMALE - NUMBER OF OPERATIONS",
         "commodity_desc": "PRODUCERS",
         "agg_level_desc": "STATE",
         "state_fips_code": 48,
         "state_alpha": "TX",
         "state_name": "TEXAS",
         "county_code": "None",
         "county_name": "None",
         "domaincat_desc": "None",
         "value": "145,669",
         "_deepnote_index_column": 583
        },
        {
         "census_chapter": 2,
         "census_table": 47,
         "census_row": 1,
         "census_column": 1,
         "sector_desc": "DEMOGRAPHICS",
         "short_desc": "PRODUCERS, FEMALE - NUMBER OF OPERATIONS",
         "commodity_desc": "PRODUCERS",
         "agg_level_desc": "STATE",
         "state_fips_code": 49,
         "state_alpha": "UT",
         "state_name": "UTAH",
         "county_code": "None",
         "county_name": "None",
         "domaincat_desc": "None",
         "value": "10,714",
         "_deepnote_index_column": 584
        },
        {
         "census_chapter": 2,
         "census_table": 47,
         "census_row": 1,
         "census_column": 1,
         "sector_desc": "DEMOGRAPHICS",
         "short_desc": "PRODUCERS, FEMALE - NUMBER OF OPERATIONS",
         "commodity_desc": "PRODUCERS",
         "agg_level_desc": "STATE",
         "state_fips_code": 50,
         "state_alpha": "VT",
         "state_name": "VERMONT",
         "county_code": "None",
         "county_name": "None",
         "domaincat_desc": "None",
         "value": "4,691",
         "_deepnote_index_column": 585
        },
        {
         "census_chapter": 2,
         "census_table": 47,
         "census_row": 1,
         "census_column": 1,
         "sector_desc": "DEMOGRAPHICS",
         "short_desc": "PRODUCERS, FEMALE - NUMBER OF OPERATIONS",
         "commodity_desc": "PRODUCERS",
         "agg_level_desc": "STATE",
         "state_fips_code": 51,
         "state_alpha": "VA",
         "state_name": "VIRGINIA",
         "county_code": "None",
         "county_name": "None",
         "domaincat_desc": "None",
         "value": "23,575",
         "_deepnote_index_column": 586
        },
        {
         "census_chapter": 2,
         "census_table": 47,
         "census_row": 1,
         "census_column": 1,
         "sector_desc": "DEMOGRAPHICS",
         "short_desc": "PRODUCERS, FEMALE - NUMBER OF OPERATIONS",
         "commodity_desc": "PRODUCERS",
         "agg_level_desc": "STATE",
         "state_fips_code": 53,
         "state_alpha": "WA",
         "state_name": "WASHINGTON",
         "county_code": "None",
         "county_name": "None",
         "domaincat_desc": "None",
         "value": "24,663",
         "_deepnote_index_column": 587
        },
        {
         "census_chapter": 2,
         "census_table": 47,
         "census_row": 1,
         "census_column": 1,
         "sector_desc": "DEMOGRAPHICS",
         "short_desc": "PRODUCERS, FEMALE - NUMBER OF OPERATIONS",
         "commodity_desc": "PRODUCERS",
         "agg_level_desc": "STATE",
         "state_fips_code": 54,
         "state_alpha": "WV",
         "state_name": "WEST VIRGINIA",
         "county_code": "None",
         "county_name": "None",
         "domaincat_desc": "None",
         "value": "12,562",
         "_deepnote_index_column": 588
        },
        {
         "census_chapter": 2,
         "census_table": 47,
         "census_row": 1,
         "census_column": 1,
         "sector_desc": "DEMOGRAPHICS",
         "short_desc": "PRODUCERS, FEMALE - NUMBER OF OPERATIONS",
         "commodity_desc": "PRODUCERS",
         "agg_level_desc": "STATE",
         "state_fips_code": 55,
         "state_alpha": "WI",
         "state_name": "WISCONSIN",
         "county_code": "None",
         "county_name": "None",
         "domaincat_desc": "None",
         "value": "36,227",
         "_deepnote_index_column": 589
        },
        {
         "census_chapter": 2,
         "census_table": 47,
         "census_row": 1,
         "census_column": 1,
         "sector_desc": "DEMOGRAPHICS",
         "short_desc": "PRODUCERS, FEMALE - NUMBER OF OPERATIONS",
         "commodity_desc": "PRODUCERS",
         "agg_level_desc": "STATE",
         "state_fips_code": 56,
         "state_alpha": "WY",
         "state_name": "WYOMING",
         "county_code": "None",
         "county_name": "None",
         "domaincat_desc": "None",
         "value": "7,990",
         "_deepnote_index_column": 590
        },
        {
         "census_chapter": 2,
         "census_table": 47,
         "census_row": 1,
         "census_column": 2,
         "sector_desc": "DEMOGRAPHICS",
         "short_desc": "PRODUCERS, FEMALE - NUMBER OF PRODUCERS",
         "commodity_desc": "PRODUCERS",
         "agg_level_desc": "STATE",
         "state_fips_code": 1,
         "state_alpha": "AL",
         "state_name": "ALABAMA",
         "county_code": "None",
         "county_name": "None",
         "domaincat_desc": "None",
         "value": "22,201",
         "_deepnote_index_column": 591
        },
        {
         "census_chapter": 2,
         "census_table": 47,
         "census_row": 1,
         "census_column": 2,
         "sector_desc": "DEMOGRAPHICS",
         "short_desc": "PRODUCERS, FEMALE - NUMBER OF PRODUCERS",
         "commodity_desc": "PRODUCERS",
         "agg_level_desc": "STATE",
         "state_fips_code": 2,
         "state_alpha": "AK",
         "state_name": "ALASKA",
         "county_code": "None",
         "county_name": "None",
         "domaincat_desc": "None",
         "value": "802",
         "_deepnote_index_column": 592
        },
        {
         "census_chapter": 2,
         "census_table": 47,
         "census_row": 1,
         "census_column": 2,
         "sector_desc": "DEMOGRAPHICS",
         "short_desc": "PRODUCERS, FEMALE - NUMBER OF PRODUCERS",
         "commodity_desc": "PRODUCERS",
         "agg_level_desc": "STATE",
         "state_fips_code": 4,
         "state_alpha": "AZ",
         "state_name": "ARIZONA",
         "county_code": "None",
         "county_name": "None",
         "domaincat_desc": "None",
         "value": "15,968",
         "_deepnote_index_column": 593
        },
        {
         "census_chapter": 2,
         "census_table": 47,
         "census_row": 1,
         "census_column": 2,
         "sector_desc": "DEMOGRAPHICS",
         "short_desc": "PRODUCERS, FEMALE - NUMBER OF PRODUCERS",
         "commodity_desc": "PRODUCERS",
         "agg_level_desc": "STATE",
         "state_fips_code": 5,
         "state_alpha": "AR",
         "state_name": "ARKANSAS",
         "county_code": "None",
         "county_name": "None",
         "domaincat_desc": "None",
         "value": "26,917",
         "_deepnote_index_column": 594
        },
        {
         "census_chapter": 2,
         "census_table": 47,
         "census_row": 1,
         "census_column": 2,
         "sector_desc": "DEMOGRAPHICS",
         "short_desc": "PRODUCERS, FEMALE - NUMBER OF PRODUCERS",
         "commodity_desc": "PRODUCERS",
         "agg_level_desc": "STATE",
         "state_fips_code": 6,
         "state_alpha": "CA",
         "state_name": "CALIFORNIA",
         "county_code": "None",
         "county_name": "None",
         "domaincat_desc": "None",
         "value": "46,235",
         "_deepnote_index_column": 595
        },
        {
         "census_chapter": 2,
         "census_table": 47,
         "census_row": 1,
         "census_column": 2,
         "sector_desc": "DEMOGRAPHICS",
         "short_desc": "PRODUCERS, FEMALE - NUMBER OF PRODUCERS",
         "commodity_desc": "PRODUCERS",
         "agg_level_desc": "STATE",
         "state_fips_code": 8,
         "state_alpha": "CO",
         "state_name": "COLORADO",
         "county_code": "None",
         "county_name": "None",
         "domaincat_desc": "None",
         "value": "28,839",
         "_deepnote_index_column": 596
        },
        {
         "census_chapter": 2,
         "census_table": 47,
         "census_row": 1,
         "census_column": 2,
         "sector_desc": "DEMOGRAPHICS",
         "short_desc": "PRODUCERS, FEMALE - NUMBER OF PRODUCERS",
         "commodity_desc": "PRODUCERS",
         "agg_level_desc": "STATE",
         "state_fips_code": 9,
         "state_alpha": "CT",
         "state_name": "CONNECTICUT",
         "county_code": "None",
         "county_name": "None",
         "domaincat_desc": "None",
         "value": "3,892",
         "_deepnote_index_column": 597
        },
        {
         "census_chapter": 2,
         "census_table": 47,
         "census_row": 1,
         "census_column": 2,
         "sector_desc": "DEMOGRAPHICS",
         "short_desc": "PRODUCERS, FEMALE - NUMBER OF PRODUCERS",
         "commodity_desc": "PRODUCERS",
         "agg_level_desc": "STATE",
         "state_fips_code": 10,
         "state_alpha": "DE",
         "state_name": "DELAWARE",
         "county_code": "None",
         "county_name": "None",
         "domaincat_desc": "None",
         "value": "1,352",
         "_deepnote_index_column": 598
        },
        {
         "census_chapter": 2,
         "census_table": 47,
         "census_row": 1,
         "census_column": 2,
         "sector_desc": "DEMOGRAPHICS",
         "short_desc": "PRODUCERS, FEMALE - NUMBER OF PRODUCERS",
         "commodity_desc": "PRODUCERS",
         "agg_level_desc": "STATE",
         "state_fips_code": 12,
         "state_alpha": "FL",
         "state_name": "FLORIDA",
         "county_code": "None",
         "county_name": "None",
         "domaincat_desc": "None",
         "value": "32,122",
         "_deepnote_index_column": 599
        }
       ]
      },
      "text/plain": "     census_chapter  census_table  census_row  census_column   sector_desc  \\\n0                 2            47           1              3  DEMOGRAPHICS   \n1                 2            46           1              1  DEMOGRAPHICS   \n2                 2            47           1              3  DEMOGRAPHICS   \n3                 2            47           1              3  DEMOGRAPHICS   \n4                 2            46           1              1  DEMOGRAPHICS   \n..              ...           ...         ...            ...           ...   \n595               2            47           1              2  DEMOGRAPHICS   \n596               2            47           1              2  DEMOGRAPHICS   \n597               2            47           1              2  DEMOGRAPHICS   \n598               2            47           1              2  DEMOGRAPHICS   \n599               2            47           1              2  DEMOGRAPHICS   \n\n                                  short_desc commodity_desc agg_level_desc  \\\n0         PRODUCERS, FEMALE - ACRES OPERATED      PRODUCERS          STATE   \n1     PRODUCERS, MALE - NUMBER OF OPERATIONS      PRODUCERS          STATE   \n2         PRODUCERS, FEMALE - ACRES OPERATED      PRODUCERS          STATE   \n3         PRODUCERS, FEMALE - ACRES OPERATED      PRODUCERS          STATE   \n4     PRODUCERS, MALE - NUMBER OF OPERATIONS      PRODUCERS          STATE   \n..                                       ...            ...            ...   \n595  PRODUCERS, FEMALE - NUMBER OF PRODUCERS      PRODUCERS          STATE   \n596  PRODUCERS, FEMALE - NUMBER OF PRODUCERS      PRODUCERS          STATE   \n597  PRODUCERS, FEMALE - NUMBER OF PRODUCERS      PRODUCERS          STATE   \n598  PRODUCERS, FEMALE - NUMBER OF PRODUCERS      PRODUCERS          STATE   \n599  PRODUCERS, FEMALE - NUMBER OF PRODUCERS      PRODUCERS          STATE   \n\n     state_fips_code state_alpha   state_name county_code county_name  \\\n0                 15          HI       HAWAII        None        None   \n1                 39          OH         OHIO        None        None   \n2                 10          DE     DELAWARE        None        None   \n3                 12          FL      FLORIDA        None        None   \n4                 40          OK     OKLAHOMA        None        None   \n..               ...         ...          ...         ...         ...   \n595                6          CA   CALIFORNIA        None        None   \n596                8          CO     COLORADO        None        None   \n597                9          CT  CONNECTICUT        None        None   \n598               10          DE     DELAWARE        None        None   \n599               12          FL      FLORIDA        None        None   \n\n    domaincat_desc      value  \n0             None    347,305  \n1             None     72,398  \n2             None    187,769  \n3             None  3,615,319  \n4             None     72,234  \n..             ...        ...  \n595           None     46,235  \n596           None     28,839  \n597           None      3,892  \n598           None      1,352  \n599           None     32,122  \n\n[600 rows x 15 columns]",
      "text/html": "<div>\n<style scoped>\n    .dataframe tbody tr th:only-of-type {\n        vertical-align: middle;\n    }\n\n    .dataframe tbody tr th {\n        vertical-align: top;\n    }\n\n    .dataframe thead th {\n        text-align: right;\n    }\n</style>\n<table border=\"1\" class=\"dataframe\">\n  <thead>\n    <tr style=\"text-align: right;\">\n      <th></th>\n      <th>census_chapter</th>\n      <th>census_table</th>\n      <th>census_row</th>\n      <th>census_column</th>\n      <th>sector_desc</th>\n      <th>short_desc</th>\n      <th>commodity_desc</th>\n      <th>agg_level_desc</th>\n      <th>state_fips_code</th>\n      <th>state_alpha</th>\n      <th>state_name</th>\n      <th>county_code</th>\n      <th>county_name</th>\n      <th>domaincat_desc</th>\n      <th>value</th>\n    </tr>\n  </thead>\n  <tbody>\n    <tr>\n      <th>0</th>\n      <td>2</td>\n      <td>47</td>\n      <td>1</td>\n      <td>3</td>\n      <td>DEMOGRAPHICS</td>\n      <td>PRODUCERS, FEMALE - ACRES OPERATED</td>\n      <td>PRODUCERS</td>\n      <td>STATE</td>\n      <td>15</td>\n      <td>HI</td>\n      <td>HAWAII</td>\n      <td>None</td>\n      <td>None</td>\n      <td>None</td>\n      <td>347,305</td>\n    </tr>\n    <tr>\n      <th>1</th>\n      <td>2</td>\n      <td>46</td>\n      <td>1</td>\n      <td>1</td>\n      <td>DEMOGRAPHICS</td>\n      <td>PRODUCERS, MALE - NUMBER OF OPERATIONS</td>\n      <td>PRODUCERS</td>\n      <td>STATE</td>\n      <td>39</td>\n      <td>OH</td>\n      <td>OHIO</td>\n      <td>None</td>\n      <td>None</td>\n      <td>None</td>\n      <td>72,398</td>\n    </tr>\n    <tr>\n      <th>2</th>\n      <td>2</td>\n      <td>47</td>\n      <td>1</td>\n      <td>3</td>\n      <td>DEMOGRAPHICS</td>\n      <td>PRODUCERS, FEMALE - ACRES OPERATED</td>\n      <td>PRODUCERS</td>\n      <td>STATE</td>\n      <td>10</td>\n      <td>DE</td>\n      <td>DELAWARE</td>\n      <td>None</td>\n      <td>None</td>\n      <td>None</td>\n      <td>187,769</td>\n    </tr>\n    <tr>\n      <th>3</th>\n      <td>2</td>\n      <td>47</td>\n      <td>1</td>\n      <td>3</td>\n      <td>DEMOGRAPHICS</td>\n      <td>PRODUCERS, FEMALE - ACRES OPERATED</td>\n      <td>PRODUCERS</td>\n      <td>STATE</td>\n      <td>12</td>\n      <td>FL</td>\n      <td>FLORIDA</td>\n      <td>None</td>\n      <td>None</td>\n      <td>None</td>\n      <td>3,615,319</td>\n    </tr>\n    <tr>\n      <th>4</th>\n      <td>2</td>\n      <td>46</td>\n      <td>1</td>\n      <td>1</td>\n      <td>DEMOGRAPHICS</td>\n      <td>PRODUCERS, MALE - NUMBER OF OPERATIONS</td>\n      <td>PRODUCERS</td>\n      <td>STATE</td>\n      <td>40</td>\n      <td>OK</td>\n      <td>OKLAHOMA</td>\n      <td>None</td>\n      <td>None</td>\n      <td>None</td>\n      <td>72,234</td>\n    </tr>\n    <tr>\n      <th>...</th>\n      <td>...</td>\n      <td>...</td>\n      <td>...</td>\n      <td>...</td>\n      <td>...</td>\n      <td>...</td>\n      <td>...</td>\n      <td>...</td>\n      <td>...</td>\n      <td>...</td>\n      <td>...</td>\n      <td>...</td>\n      <td>...</td>\n      <td>...</td>\n      <td>...</td>\n    </tr>\n    <tr>\n      <th>595</th>\n      <td>2</td>\n      <td>47</td>\n      <td>1</td>\n      <td>2</td>\n      <td>DEMOGRAPHICS</td>\n      <td>PRODUCERS, FEMALE - NUMBER OF PRODUCERS</td>\n      <td>PRODUCERS</td>\n      <td>STATE</td>\n      <td>6</td>\n      <td>CA</td>\n      <td>CALIFORNIA</td>\n      <td>None</td>\n      <td>None</td>\n      <td>None</td>\n      <td>46,235</td>\n    </tr>\n    <tr>\n      <th>596</th>\n      <td>2</td>\n      <td>47</td>\n      <td>1</td>\n      <td>2</td>\n      <td>DEMOGRAPHICS</td>\n      <td>PRODUCERS, FEMALE - NUMBER OF PRODUCERS</td>\n      <td>PRODUCERS</td>\n      <td>STATE</td>\n      <td>8</td>\n      <td>CO</td>\n      <td>COLORADO</td>\n      <td>None</td>\n      <td>None</td>\n      <td>None</td>\n      <td>28,839</td>\n    </tr>\n    <tr>\n      <th>597</th>\n      <td>2</td>\n      <td>47</td>\n      <td>1</td>\n      <td>2</td>\n      <td>DEMOGRAPHICS</td>\n      <td>PRODUCERS, FEMALE - NUMBER OF PRODUCERS</td>\n      <td>PRODUCERS</td>\n      <td>STATE</td>\n      <td>9</td>\n      <td>CT</td>\n      <td>CONNECTICUT</td>\n      <td>None</td>\n      <td>None</td>\n      <td>None</td>\n      <td>3,892</td>\n    </tr>\n    <tr>\n      <th>598</th>\n      <td>2</td>\n      <td>47</td>\n      <td>1</td>\n      <td>2</td>\n      <td>DEMOGRAPHICS</td>\n      <td>PRODUCERS, FEMALE - NUMBER OF PRODUCERS</td>\n      <td>PRODUCERS</td>\n      <td>STATE</td>\n      <td>10</td>\n      <td>DE</td>\n      <td>DELAWARE</td>\n      <td>None</td>\n      <td>None</td>\n      <td>None</td>\n      <td>1,352</td>\n    </tr>\n    <tr>\n      <th>599</th>\n      <td>2</td>\n      <td>47</td>\n      <td>1</td>\n      <td>2</td>\n      <td>DEMOGRAPHICS</td>\n      <td>PRODUCERS, FEMALE - NUMBER OF PRODUCERS</td>\n      <td>PRODUCERS</td>\n      <td>STATE</td>\n      <td>12</td>\n      <td>FL</td>\n      <td>FLORIDA</td>\n      <td>None</td>\n      <td>None</td>\n      <td>None</td>\n      <td>32,122</td>\n    </tr>\n  </tbody>\n</table>\n<p>600 rows × 15 columns</p>\n</div>"
     },
     "metadata": {}
    }
   ],
   "execution_count": 80
  },
  {
   "cell_type": "markdown",
   "source": "Tables 48 - 54 contain  information on the race of the farmers that we will save into `farmer_race_table_df_raw`.",
   "metadata": {
    "tags": [],
    "cell_id": "00005-a6da1e4a-774f-4305-a418-ef4888bd6cb2",
    "deepnote_cell_type": "markdown"
   }
  },
  {
   "cell_type": "code",
   "source": "\n\nfarmer_race_table_df_raw = _deepnote_execute_sql(\"\"\"SELECT *\nFROM \"paytondhubbard/census_data\".\"2017_agg_census_data\"\nWHERE census_chapter = 2\nAND census_table IN (48, 49, 50, 51, 52, 53, 54)\nAND agg_level_desc = 'STATE'\n\"\"\", 'SQL_A566B8B6_80EA_40C4_ADA5_F5548D01A4B8')\nfarmer_race_table_df_raw",
   "metadata": {
    "tags": [],
    "deepnote_variable_name": "farmer_race_table_df_raw",
    "sql_integration_id": "a566b8b6-80ea-40c4-ada5-f5548d01a4b8",
    "cell_id": "00006-2ac1cf9d-390c-438a-afb3-c161f85f6a9f",
    "deepnote_to_be_reexecuted": false,
    "source_hash": "12190cc0",
    "execution_start": 1637877998659,
    "execution_millis": 2688,
    "deepnote_cell_type": "sql",
    "deepnote_sql_source": "SELECT *\nFROM \"paytondhubbard/census_data\".\"2017_agg_census_data\"\nWHERE census_chapter = 2\nAND census_table IN (48, 49, 50, 51, 52, 53, 54)\nAND agg_level_desc = 'STATE'"
   },
   "outputs": [
    {
     "output_type": "execute_result",
     "execution_count": 81,
     "data": {
      "application/vnd.deepnote.dataframe.v2+json": {
       "row_count": 2106,
       "column_count": 15,
       "columns": [
        {
         "name": "census_chapter",
         "dtype": "int64",
         "stats": {
          "unique_count": 1,
          "nan_count": 0,
          "min": "2",
          "max": "2",
          "histogram": [
           {
            "bin_start": 1.5,
            "bin_end": 1.6,
            "count": 0
           },
           {
            "bin_start": 1.6,
            "bin_end": 1.7,
            "count": 0
           },
           {
            "bin_start": 1.7,
            "bin_end": 1.8,
            "count": 0
           },
           {
            "bin_start": 1.8,
            "bin_end": 1.9,
            "count": 0
           },
           {
            "bin_start": 1.9,
            "bin_end": 2,
            "count": 0
           },
           {
            "bin_start": 2,
            "bin_end": 2.1,
            "count": 2106
           },
           {
            "bin_start": 2.1,
            "bin_end": 2.2,
            "count": 0
           },
           {
            "bin_start": 2.2,
            "bin_end": 2.3,
            "count": 0
           },
           {
            "bin_start": 2.3,
            "bin_end": 2.4,
            "count": 0
           },
           {
            "bin_start": 2.4,
            "bin_end": 2.5,
            "count": 0
           }
          ]
         }
        },
        {
         "name": "census_table",
         "dtype": "int64",
         "stats": {
          "unique_count": 7,
          "nan_count": 0,
          "min": "48",
          "max": "54",
          "histogram": [
           {
            "bin_start": 48,
            "bin_end": 48.6,
            "count": 300
           },
           {
            "bin_start": 48.6,
            "bin_end": 49.2,
            "count": 294
           },
           {
            "bin_start": 49.2,
            "bin_end": 49.8,
            "count": 0
           },
           {
            "bin_start": 49.8,
            "bin_end": 50.4,
            "count": 330
           },
           {
            "bin_start": 50.4,
            "bin_end": 51,
            "count": 0
           },
           {
            "bin_start": 51,
            "bin_end": 51.6,
            "count": 300
           },
           {
            "bin_start": 51.6,
            "bin_end": 52.2,
            "count": 282
           },
           {
            "bin_start": 52.2,
            "bin_end": 52.8,
            "count": 0
           },
           {
            "bin_start": 52.8,
            "bin_end": 53.4,
            "count": 300
           },
           {
            "bin_start": 53.4,
            "bin_end": 54,
            "count": 300
           }
          ]
         }
        },
        {
         "name": "census_row",
         "dtype": "int64",
         "stats": {
          "unique_count": 6,
          "nan_count": 0,
          "min": "1",
          "max": "26",
          "histogram": [
           {
            "bin_start": 1,
            "bin_end": 3.5,
            "count": 2064
           },
           {
            "bin_start": 3.5,
            "bin_end": 6,
            "count": 0
           },
           {
            "bin_start": 6,
            "bin_end": 8.5,
            "count": 12
           },
           {
            "bin_start": 8.5,
            "bin_end": 11,
            "count": 0
           },
           {
            "bin_start": 11,
            "bin_end": 13.5,
            "count": 12
           },
           {
            "bin_start": 13.5,
            "bin_end": 16,
            "count": 0
           },
           {
            "bin_start": 16,
            "bin_end": 18.5,
            "count": 6
           },
           {
            "bin_start": 18.5,
            "bin_end": 21,
            "count": 0
           },
           {
            "bin_start": 21,
            "bin_end": 23.5,
            "count": 6
           },
           {
            "bin_start": 23.5,
            "bin_end": 26,
            "count": 6
           }
          ]
         }
        },
        {
         "name": "census_column",
         "dtype": "int64",
         "stats": {
          "unique_count": 6,
          "nan_count": 0,
          "min": "1",
          "max": "6",
          "histogram": [
           {
            "bin_start": 1,
            "bin_end": 1.5,
            "count": 351
           },
           {
            "bin_start": 1.5,
            "bin_end": 2,
            "count": 0
           },
           {
            "bin_start": 2,
            "bin_end": 2.5,
            "count": 351
           },
           {
            "bin_start": 2.5,
            "bin_end": 3,
            "count": 0
           },
           {
            "bin_start": 3,
            "bin_end": 3.5,
            "count": 351
           },
           {
            "bin_start": 3.5,
            "bin_end": 4,
            "count": 0
           },
           {
            "bin_start": 4,
            "bin_end": 4.5,
            "count": 351
           },
           {
            "bin_start": 4.5,
            "bin_end": 5,
            "count": 0
           },
           {
            "bin_start": 5,
            "bin_end": 5.5,
            "count": 351
           },
           {
            "bin_start": 5.5,
            "bin_end": 6,
            "count": 351
           }
          ]
         }
        },
        {
         "name": "sector_desc",
         "dtype": "object",
         "stats": {
          "unique_count": 1,
          "nan_count": 0,
          "categories": [
           {
            "name": "DEMOGRAPHICS",
            "count": 2106
           }
          ]
         }
        },
        {
         "name": "short_desc",
         "dtype": "object",
         "stats": {
          "unique_count": 84,
          "nan_count": 0,
          "categories": [
           {
            "name": "PRODUCERS, HISPANIC - NUMBER OF OPERATIONS",
            "count": 50
           },
           {
            "name": "PRODUCERS, HISPANIC - ACRES OPERATED",
            "count": 50
           },
           {
            "name": "82 others",
            "count": 2006
           }
          ]
         }
        },
        {
         "name": "commodity_desc",
         "dtype": "object",
         "stats": {
          "unique_count": 2,
          "nan_count": 0,
          "categories": [
           {
            "name": "PRODUCERS",
            "count": 1053
           },
           {
            "name": "PRODUCERS, PRINCIPAL",
            "count": 1053
           }
          ]
         }
        },
        {
         "name": "agg_level_desc",
         "dtype": "object",
         "stats": {
          "unique_count": 1,
          "nan_count": 0,
          "categories": [
           {
            "name": "STATE",
            "count": 2106
           }
          ]
         }
        },
        {
         "name": "state_fips_code",
         "dtype": "int64",
         "stats": {
          "unique_count": 50,
          "nan_count": 0,
          "min": "1",
          "max": "56",
          "histogram": [
           {
            "bin_start": 1,
            "bin_end": 6.5,
            "count": 204
           },
           {
            "bin_start": 6.5,
            "bin_end": 12,
            "count": 120
           },
           {
            "bin_start": 12,
            "bin_end": 17.5,
            "count": 252
           },
           {
            "bin_start": 17.5,
            "bin_end": 23,
            "count": 210
           },
           {
            "bin_start": 23,
            "bin_end": 28.5,
            "count": 252
           },
           {
            "bin_start": 28.5,
            "bin_end": 34,
            "count": 198
           },
           {
            "bin_start": 34,
            "bin_end": 39.5,
            "count": 252
           },
           {
            "bin_start": 39.5,
            "bin_end": 45,
            "count": 156
           },
           {
            "bin_start": 45,
            "bin_end": 50.5,
            "count": 252
           },
           {
            "bin_start": 50.5,
            "bin_end": 56,
            "count": 210
           }
          ]
         }
        },
        {
         "name": "state_alpha",
         "dtype": "object",
         "stats": {
          "unique_count": 50,
          "nan_count": 0,
          "categories": [
           {
            "name": "HI",
            "count": 84
           },
           {
            "name": "MA",
            "count": 42
           },
           {
            "name": "48 others",
            "count": 1980
           }
          ]
         }
        },
        {
         "name": "state_name",
         "dtype": "object",
         "stats": {
          "unique_count": 50,
          "nan_count": 0,
          "categories": [
           {
            "name": "HAWAII",
            "count": 84
           },
           {
            "name": "MASSACHUSETTS",
            "count": 42
           },
           {
            "name": "48 others",
            "count": 1980
           }
          ]
         }
        },
        {
         "name": "county_code",
         "dtype": "object",
         "stats": {
          "unique_count": 0,
          "nan_count": 2106,
          "categories": [
           {
            "name": "Missing",
            "count": 2106
           }
          ]
         }
        },
        {
         "name": "county_name",
         "dtype": "object",
         "stats": {
          "unique_count": 0,
          "nan_count": 2106,
          "categories": [
           {
            "name": "Missing",
            "count": 2106
           }
          ]
         }
        },
        {
         "name": "domaincat_desc",
         "dtype": "object",
         "stats": {
          "unique_count": 0,
          "nan_count": 2106,
          "categories": [
           {
            "name": "Missing",
            "count": 2106
           }
          ]
         }
        },
        {
         "name": "value",
         "dtype": "object",
         "stats": {
          "unique_count": 1443,
          "nan_count": 0,
          "categories": [
           {
            "name": "(D)",
            "count": 33
           },
           {
            "name": "8",
            "count": 19
           },
           {
            "name": "1441 others",
            "count": 2054
           }
          ]
         }
        },
        {
         "name": "_deepnote_index_column",
         "dtype": "int64"
        }
       ],
       "rows_top": [
        {
         "census_chapter": 2,
         "census_table": 48,
         "census_row": 1,
         "census_column": 1,
         "sector_desc": "DEMOGRAPHICS",
         "short_desc": "PRODUCERS, HISPANIC - NUMBER OF OPERATIONS",
         "commodity_desc": "PRODUCERS",
         "agg_level_desc": "STATE",
         "state_fips_code": 25,
         "state_alpha": "MA",
         "state_name": "MASSACHUSETTS",
         "county_code": "None",
         "county_name": "None",
         "domaincat_desc": "None",
         "value": "183",
         "_deepnote_index_column": 0
        },
        {
         "census_chapter": 2,
         "census_table": 48,
         "census_row": 1,
         "census_column": 3,
         "sector_desc": "DEMOGRAPHICS",
         "short_desc": "PRODUCERS, HISPANIC - ACRES OPERATED",
         "commodity_desc": "PRODUCERS",
         "agg_level_desc": "STATE",
         "state_fips_code": 19,
         "state_alpha": "IA",
         "state_name": "IOWA",
         "county_code": "None",
         "county_name": "None",
         "domaincat_desc": "None",
         "value": "244,591",
         "_deepnote_index_column": 1
        },
        {
         "census_chapter": 2,
         "census_table": 48,
         "census_row": 1,
         "census_column": 1,
         "sector_desc": "DEMOGRAPHICS",
         "short_desc": "PRODUCERS, HISPANIC - NUMBER OF OPERATIONS",
         "commodity_desc": "PRODUCERS",
         "agg_level_desc": "STATE",
         "state_fips_code": 24,
         "state_alpha": "MD",
         "state_name": "MARYLAND",
         "county_code": "None",
         "county_name": "None",
         "domaincat_desc": "None",
         "value": "247",
         "_deepnote_index_column": 2
        },
        {
         "census_chapter": 2,
         "census_table": 48,
         "census_row": 1,
         "census_column": 2,
         "sector_desc": "DEMOGRAPHICS",
         "short_desc": "PRODUCERS, HISPANIC - NUMBER OF PRODUCERS",
         "commodity_desc": "PRODUCERS",
         "agg_level_desc": "STATE",
         "state_fips_code": 22,
         "state_alpha": "LA",
         "state_name": "LOUISIANA",
         "county_code": "None",
         "county_name": "None",
         "domaincat_desc": "None",
         "value": "910",
         "_deepnote_index_column": 3
        },
        {
         "census_chapter": 2,
         "census_table": 48,
         "census_row": 1,
         "census_column": 2,
         "sector_desc": "DEMOGRAPHICS",
         "short_desc": "PRODUCERS, HISPANIC - NUMBER OF PRODUCERS",
         "commodity_desc": "PRODUCERS",
         "agg_level_desc": "STATE",
         "state_fips_code": 23,
         "state_alpha": "ME",
         "state_name": "MAINE",
         "county_code": "None",
         "county_name": "None",
         "domaincat_desc": "None",
         "value": "124",
         "_deepnote_index_column": 4
        },
        {
         "census_chapter": 2,
         "census_table": 48,
         "census_row": 1,
         "census_column": 2,
         "sector_desc": "DEMOGRAPHICS",
         "short_desc": "PRODUCERS, HISPANIC - NUMBER OF PRODUCERS",
         "commodity_desc": "PRODUCERS",
         "agg_level_desc": "STATE",
         "state_fips_code": 24,
         "state_alpha": "MD",
         "state_name": "MARYLAND",
         "county_code": "None",
         "county_name": "None",
         "domaincat_desc": "None",
         "value": "267",
         "_deepnote_index_column": 5
        },
        {
         "census_chapter": 2,
         "census_table": 48,
         "census_row": 1,
         "census_column": 2,
         "sector_desc": "DEMOGRAPHICS",
         "short_desc": "PRODUCERS, HISPANIC - NUMBER OF PRODUCERS",
         "commodity_desc": "PRODUCERS",
         "agg_level_desc": "STATE",
         "state_fips_code": 25,
         "state_alpha": "MA",
         "state_name": "MASSACHUSETTS",
         "county_code": "None",
         "county_name": "None",
         "domaincat_desc": "None",
         "value": "207",
         "_deepnote_index_column": 6
        },
        {
         "census_chapter": 2,
         "census_table": 48,
         "census_row": 1,
         "census_column": 2,
         "sector_desc": "DEMOGRAPHICS",
         "short_desc": "PRODUCERS, HISPANIC - NUMBER OF PRODUCERS",
         "commodity_desc": "PRODUCERS",
         "agg_level_desc": "STATE",
         "state_fips_code": 26,
         "state_alpha": "MI",
         "state_name": "MICHIGAN",
         "county_code": "None",
         "county_name": "None",
         "domaincat_desc": "None",
         "value": "1,024",
         "_deepnote_index_column": 7
        },
        {
         "census_chapter": 2,
         "census_table": 48,
         "census_row": 1,
         "census_column": 2,
         "sector_desc": "DEMOGRAPHICS",
         "short_desc": "PRODUCERS, HISPANIC - NUMBER OF PRODUCERS",
         "commodity_desc": "PRODUCERS",
         "agg_level_desc": "STATE",
         "state_fips_code": 27,
         "state_alpha": "MN",
         "state_name": "MINNESOTA",
         "county_code": "None",
         "county_name": "None",
         "domaincat_desc": "None",
         "value": "651",
         "_deepnote_index_column": 8
        },
        {
         "census_chapter": 2,
         "census_table": 48,
         "census_row": 1,
         "census_column": 2,
         "sector_desc": "DEMOGRAPHICS",
         "short_desc": "PRODUCERS, HISPANIC - NUMBER OF PRODUCERS",
         "commodity_desc": "PRODUCERS",
         "agg_level_desc": "STATE",
         "state_fips_code": 28,
         "state_alpha": "MS",
         "state_name": "MISSISSIPPI",
         "county_code": "None",
         "county_name": "None",
         "domaincat_desc": "None",
         "value": "551",
         "_deepnote_index_column": 9
        },
        {
         "census_chapter": 2,
         "census_table": 48,
         "census_row": 1,
         "census_column": 2,
         "sector_desc": "DEMOGRAPHICS",
         "short_desc": "PRODUCERS, HISPANIC - NUMBER OF PRODUCERS",
         "commodity_desc": "PRODUCERS",
         "agg_level_desc": "STATE",
         "state_fips_code": 29,
         "state_alpha": "MO",
         "state_name": "MISSOURI",
         "county_code": "None",
         "county_name": "None",
         "domaincat_desc": "None",
         "value": "1,407",
         "_deepnote_index_column": 10
        },
        {
         "census_chapter": 2,
         "census_table": 48,
         "census_row": 1,
         "census_column": 2,
         "sector_desc": "DEMOGRAPHICS",
         "short_desc": "PRODUCERS, HISPANIC - NUMBER OF PRODUCERS",
         "commodity_desc": "PRODUCERS",
         "agg_level_desc": "STATE",
         "state_fips_code": 30,
         "state_alpha": "MT",
         "state_name": "MONTANA",
         "county_code": "None",
         "county_name": "None",
         "domaincat_desc": "None",
         "value": "474",
         "_deepnote_index_column": 11
        },
        {
         "census_chapter": 2,
         "census_table": 48,
         "census_row": 1,
         "census_column": 2,
         "sector_desc": "DEMOGRAPHICS",
         "short_desc": "PRODUCERS, HISPANIC - NUMBER OF PRODUCERS",
         "commodity_desc": "PRODUCERS",
         "agg_level_desc": "STATE",
         "state_fips_code": 31,
         "state_alpha": "NE",
         "state_name": "NEBRASKA",
         "county_code": "None",
         "county_name": "None",
         "domaincat_desc": "None",
         "value": "540",
         "_deepnote_index_column": 12
        },
        {
         "census_chapter": 2,
         "census_table": 48,
         "census_row": 1,
         "census_column": 2,
         "sector_desc": "DEMOGRAPHICS",
         "short_desc": "PRODUCERS, HISPANIC - NUMBER OF PRODUCERS",
         "commodity_desc": "PRODUCERS",
         "agg_level_desc": "STATE",
         "state_fips_code": 32,
         "state_alpha": "NV",
         "state_name": "NEVADA",
         "county_code": "None",
         "county_name": "None",
         "domaincat_desc": "None",
         "value": "322",
         "_deepnote_index_column": 13
        },
        {
         "census_chapter": 2,
         "census_table": 48,
         "census_row": 1,
         "census_column": 2,
         "sector_desc": "DEMOGRAPHICS",
         "short_desc": "PRODUCERS, HISPANIC - NUMBER OF PRODUCERS",
         "commodity_desc": "PRODUCERS",
         "agg_level_desc": "STATE",
         "state_fips_code": 33,
         "state_alpha": "NH",
         "state_name": "NEW HAMPSHIRE",
         "county_code": "None",
         "county_name": "None",
         "domaincat_desc": "None",
         "value": "68",
         "_deepnote_index_column": 14
        },
        {
         "census_chapter": 2,
         "census_table": 48,
         "census_row": 1,
         "census_column": 2,
         "sector_desc": "DEMOGRAPHICS",
         "short_desc": "PRODUCERS, HISPANIC - NUMBER OF PRODUCERS",
         "commodity_desc": "PRODUCERS",
         "agg_level_desc": "STATE",
         "state_fips_code": 34,
         "state_alpha": "NJ",
         "state_name": "NEW JERSEY",
         "county_code": "None",
         "county_name": "None",
         "domaincat_desc": "None",
         "value": "465",
         "_deepnote_index_column": 15
        },
        {
         "census_chapter": 2,
         "census_table": 48,
         "census_row": 1,
         "census_column": 2,
         "sector_desc": "DEMOGRAPHICS",
         "short_desc": "PRODUCERS, HISPANIC - NUMBER OF PRODUCERS",
         "commodity_desc": "PRODUCERS",
         "agg_level_desc": "STATE",
         "state_fips_code": 35,
         "state_alpha": "NM",
         "state_name": "NEW MEXICO",
         "county_code": "None",
         "county_name": "None",
         "domaincat_desc": "None",
         "value": "12,212",
         "_deepnote_index_column": 16
        },
        {
         "census_chapter": 2,
         "census_table": 48,
         "census_row": 1,
         "census_column": 2,
         "sector_desc": "DEMOGRAPHICS",
         "short_desc": "PRODUCERS, HISPANIC - NUMBER OF PRODUCERS",
         "commodity_desc": "PRODUCERS",
         "agg_level_desc": "STATE",
         "state_fips_code": 36,
         "state_alpha": "NY",
         "state_name": "NEW YORK",
         "county_code": "None",
         "county_name": "None",
         "domaincat_desc": "None",
         "value": "606",
         "_deepnote_index_column": 17
        },
        {
         "census_chapter": 2,
         "census_table": 48,
         "census_row": 1,
         "census_column": 2,
         "sector_desc": "DEMOGRAPHICS",
         "short_desc": "PRODUCERS, HISPANIC - NUMBER OF PRODUCERS",
         "commodity_desc": "PRODUCERS",
         "agg_level_desc": "STATE",
         "state_fips_code": 37,
         "state_alpha": "NC",
         "state_name": "NORTH CAROLINA",
         "county_code": "None",
         "county_name": "None",
         "domaincat_desc": "None",
         "value": "769",
         "_deepnote_index_column": 18
        },
        {
         "census_chapter": 2,
         "census_table": 48,
         "census_row": 1,
         "census_column": 2,
         "sector_desc": "DEMOGRAPHICS",
         "short_desc": "PRODUCERS, HISPANIC - NUMBER OF PRODUCERS",
         "commodity_desc": "PRODUCERS",
         "agg_level_desc": "STATE",
         "state_fips_code": 38,
         "state_alpha": "ND",
         "state_name": "NORTH DAKOTA",
         "county_code": "None",
         "county_name": "None",
         "domaincat_desc": "None",
         "value": "225",
         "_deepnote_index_column": 19
        },
        {
         "census_chapter": 2,
         "census_table": 48,
         "census_row": 1,
         "census_column": 2,
         "sector_desc": "DEMOGRAPHICS",
         "short_desc": "PRODUCERS, HISPANIC - NUMBER OF PRODUCERS",
         "commodity_desc": "PRODUCERS",
         "agg_level_desc": "STATE",
         "state_fips_code": 39,
         "state_alpha": "OH",
         "state_name": "OHIO",
         "county_code": "None",
         "county_name": "None",
         "domaincat_desc": "None",
         "value": "954",
         "_deepnote_index_column": 20
        },
        {
         "census_chapter": 2,
         "census_table": 48,
         "census_row": 1,
         "census_column": 2,
         "sector_desc": "DEMOGRAPHICS",
         "short_desc": "PRODUCERS, HISPANIC - NUMBER OF PRODUCERS",
         "commodity_desc": "PRODUCERS",
         "agg_level_desc": "STATE",
         "state_fips_code": 40,
         "state_alpha": "OK",
         "state_name": "OKLAHOMA",
         "county_code": "None",
         "county_name": "None",
         "domaincat_desc": "None",
         "value": "2,621",
         "_deepnote_index_column": 21
        },
        {
         "census_chapter": 2,
         "census_table": 48,
         "census_row": 1,
         "census_column": 2,
         "sector_desc": "DEMOGRAPHICS",
         "short_desc": "PRODUCERS, HISPANIC - NUMBER OF PRODUCERS",
         "commodity_desc": "PRODUCERS",
         "agg_level_desc": "STATE",
         "state_fips_code": 41,
         "state_alpha": "OR",
         "state_name": "OREGON",
         "county_code": "None",
         "county_name": "None",
         "domaincat_desc": "None",
         "value": "2,083",
         "_deepnote_index_column": 22
        },
        {
         "census_chapter": 2,
         "census_table": 48,
         "census_row": 1,
         "census_column": 2,
         "sector_desc": "DEMOGRAPHICS",
         "short_desc": "PRODUCERS, HISPANIC - NUMBER OF PRODUCERS",
         "commodity_desc": "PRODUCERS",
         "agg_level_desc": "STATE",
         "state_fips_code": 42,
         "state_alpha": "PA",
         "state_name": "PENNSYLVANIA",
         "county_code": "None",
         "county_name": "None",
         "domaincat_desc": "None",
         "value": "759",
         "_deepnote_index_column": 23
        },
        {
         "census_chapter": 2,
         "census_table": 48,
         "census_row": 1,
         "census_column": 2,
         "sector_desc": "DEMOGRAPHICS",
         "short_desc": "PRODUCERS, HISPANIC - NUMBER OF PRODUCERS",
         "commodity_desc": "PRODUCERS",
         "agg_level_desc": "STATE",
         "state_fips_code": 44,
         "state_alpha": "RI",
         "state_name": "RHODE ISLAND",
         "county_code": "None",
         "county_name": "None",
         "domaincat_desc": "None",
         "value": "15",
         "_deepnote_index_column": 24
        },
        {
         "census_chapter": 2,
         "census_table": 48,
         "census_row": 1,
         "census_column": 2,
         "sector_desc": "DEMOGRAPHICS",
         "short_desc": "PRODUCERS, HISPANIC - NUMBER OF PRODUCERS",
         "commodity_desc": "PRODUCERS",
         "agg_level_desc": "STATE",
         "state_fips_code": 45,
         "state_alpha": "SC",
         "state_name": "SOUTH CAROLINA",
         "county_code": "None",
         "county_name": "None",
         "domaincat_desc": "None",
         "value": "423",
         "_deepnote_index_column": 25
        },
        {
         "census_chapter": 2,
         "census_table": 48,
         "census_row": 1,
         "census_column": 2,
         "sector_desc": "DEMOGRAPHICS",
         "short_desc": "PRODUCERS, HISPANIC - NUMBER OF PRODUCERS",
         "commodity_desc": "PRODUCERS",
         "agg_level_desc": "STATE",
         "state_fips_code": 46,
         "state_alpha": "SD",
         "state_name": "SOUTH DAKOTA",
         "county_code": "None",
         "county_name": "None",
         "domaincat_desc": "None",
         "value": "289",
         "_deepnote_index_column": 26
        },
        {
         "census_chapter": 2,
         "census_table": 48,
         "census_row": 1,
         "census_column": 2,
         "sector_desc": "DEMOGRAPHICS",
         "short_desc": "PRODUCERS, HISPANIC - NUMBER OF PRODUCERS",
         "commodity_desc": "PRODUCERS",
         "agg_level_desc": "STATE",
         "state_fips_code": 47,
         "state_alpha": "TN",
         "state_name": "TENNESSEE",
         "county_code": "None",
         "county_name": "None",
         "domaincat_desc": "None",
         "value": "1,205",
         "_deepnote_index_column": 27
        },
        {
         "census_chapter": 2,
         "census_table": 48,
         "census_row": 1,
         "census_column": 2,
         "sector_desc": "DEMOGRAPHICS",
         "short_desc": "PRODUCERS, HISPANIC - NUMBER OF PRODUCERS",
         "commodity_desc": "PRODUCERS",
         "agg_level_desc": "STATE",
         "state_fips_code": 48,
         "state_alpha": "TX",
         "state_name": "TEXAS",
         "county_code": "None",
         "county_name": "None",
         "domaincat_desc": "None",
         "value": "41,143",
         "_deepnote_index_column": 28
        },
        {
         "census_chapter": 2,
         "census_table": 48,
         "census_row": 1,
         "census_column": 2,
         "sector_desc": "DEMOGRAPHICS",
         "short_desc": "PRODUCERS, HISPANIC - NUMBER OF PRODUCERS",
         "commodity_desc": "PRODUCERS",
         "agg_level_desc": "STATE",
         "state_fips_code": 49,
         "state_alpha": "UT",
         "state_name": "UTAH",
         "county_code": "None",
         "county_name": "None",
         "domaincat_desc": "None",
         "value": "558",
         "_deepnote_index_column": 29
        },
        {
         "census_chapter": 2,
         "census_table": 48,
         "census_row": 1,
         "census_column": 2,
         "sector_desc": "DEMOGRAPHICS",
         "short_desc": "PRODUCERS, HISPANIC - NUMBER OF PRODUCERS",
         "commodity_desc": "PRODUCERS",
         "agg_level_desc": "STATE",
         "state_fips_code": 50,
         "state_alpha": "VT",
         "state_name": "VERMONT",
         "county_code": "None",
         "county_name": "None",
         "domaincat_desc": "None",
         "value": "124",
         "_deepnote_index_column": 30
        },
        {
         "census_chapter": 2,
         "census_table": 48,
         "census_row": 1,
         "census_column": 2,
         "sector_desc": "DEMOGRAPHICS",
         "short_desc": "PRODUCERS, HISPANIC - NUMBER OF PRODUCERS",
         "commodity_desc": "PRODUCERS",
         "agg_level_desc": "STATE",
         "state_fips_code": 51,
         "state_alpha": "VA",
         "state_name": "VIRGINIA",
         "county_code": "None",
         "county_name": "None",
         "domaincat_desc": "None",
         "value": "845",
         "_deepnote_index_column": 31
        },
        {
         "census_chapter": 2,
         "census_table": 48,
         "census_row": 1,
         "census_column": 2,
         "sector_desc": "DEMOGRAPHICS",
         "short_desc": "PRODUCERS, HISPANIC - NUMBER OF PRODUCERS",
         "commodity_desc": "PRODUCERS",
         "agg_level_desc": "STATE",
         "state_fips_code": 53,
         "state_alpha": "WA",
         "state_name": "WASHINGTON",
         "county_code": "None",
         "county_name": "None",
         "domaincat_desc": "None",
         "value": "2,947",
         "_deepnote_index_column": 32
        }
       ],
       "rows_bottom": [
        {
         "census_chapter": 2,
         "census_table": 54,
         "census_row": 1,
         "census_column": 2,
         "sector_desc": "DEMOGRAPHICS",
         "short_desc": "PRODUCERS, MULTI-RACE - NUMBER OF PRODUCERS",
         "commodity_desc": "PRODUCERS",
         "agg_level_desc": "STATE",
         "state_fips_code": 37,
         "state_alpha": "NC",
         "state_name": "NORTH CAROLINA",
         "county_code": "None",
         "county_name": "None",
         "domaincat_desc": "None",
         "value": "336",
         "_deepnote_index_column": 2073
        },
        {
         "census_chapter": 2,
         "census_table": 54,
         "census_row": 1,
         "census_column": 2,
         "sector_desc": "DEMOGRAPHICS",
         "short_desc": "PRODUCERS, MULTI-RACE - NUMBER OF PRODUCERS",
         "commodity_desc": "PRODUCERS",
         "agg_level_desc": "STATE",
         "state_fips_code": 38,
         "state_alpha": "ND",
         "state_name": "NORTH DAKOTA",
         "county_code": "None",
         "county_name": "None",
         "domaincat_desc": "None",
         "value": "164",
         "_deepnote_index_column": 2074
        },
        {
         "census_chapter": 2,
         "census_table": 54,
         "census_row": 1,
         "census_column": 2,
         "sector_desc": "DEMOGRAPHICS",
         "short_desc": "PRODUCERS, MULTI-RACE - NUMBER OF PRODUCERS",
         "commodity_desc": "PRODUCERS",
         "agg_level_desc": "STATE",
         "state_fips_code": 39,
         "state_alpha": "OH",
         "state_name": "OHIO",
         "county_code": "None",
         "county_name": "None",
         "domaincat_desc": "None",
         "value": "536",
         "_deepnote_index_column": 2075
        },
        {
         "census_chapter": 2,
         "census_table": 54,
         "census_row": 1,
         "census_column": 2,
         "sector_desc": "DEMOGRAPHICS",
         "short_desc": "PRODUCERS, MULTI-RACE - NUMBER OF PRODUCERS",
         "commodity_desc": "PRODUCERS",
         "agg_level_desc": "STATE",
         "state_fips_code": 40,
         "state_alpha": "OK",
         "state_name": "OKLAHOMA",
         "county_code": "None",
         "county_name": "None",
         "domaincat_desc": "None",
         "value": "5,353",
         "_deepnote_index_column": 2076
        },
        {
         "census_chapter": 2,
         "census_table": 54,
         "census_row": 1,
         "census_column": 2,
         "sector_desc": "DEMOGRAPHICS",
         "short_desc": "PRODUCERS, MULTI-RACE - NUMBER OF PRODUCERS",
         "commodity_desc": "PRODUCERS",
         "agg_level_desc": "STATE",
         "state_fips_code": 41,
         "state_alpha": "OR",
         "state_name": "OREGON",
         "county_code": "None",
         "county_name": "None",
         "domaincat_desc": "None",
         "value": "789",
         "_deepnote_index_column": 2077
        },
        {
         "census_chapter": 2,
         "census_table": 54,
         "census_row": 1,
         "census_column": 2,
         "sector_desc": "DEMOGRAPHICS",
         "short_desc": "PRODUCERS, MULTI-RACE - NUMBER OF PRODUCERS",
         "commodity_desc": "PRODUCERS",
         "agg_level_desc": "STATE",
         "state_fips_code": 42,
         "state_alpha": "PA",
         "state_name": "PENNSYLVANIA",
         "county_code": "None",
         "county_name": "None",
         "domaincat_desc": "None",
         "value": "304",
         "_deepnote_index_column": 2078
        },
        {
         "census_chapter": 2,
         "census_table": 54,
         "census_row": 1,
         "census_column": 2,
         "sector_desc": "DEMOGRAPHICS",
         "short_desc": "PRODUCERS, MULTI-RACE - NUMBER OF PRODUCERS",
         "commodity_desc": "PRODUCERS",
         "agg_level_desc": "STATE",
         "state_fips_code": 44,
         "state_alpha": "RI",
         "state_name": "RHODE ISLAND",
         "county_code": "None",
         "county_name": "None",
         "domaincat_desc": "None",
         "value": "8",
         "_deepnote_index_column": 2079
        },
        {
         "census_chapter": 2,
         "census_table": 54,
         "census_row": 1,
         "census_column": 2,
         "sector_desc": "DEMOGRAPHICS",
         "short_desc": "PRODUCERS, MULTI-RACE - NUMBER OF PRODUCERS",
         "commodity_desc": "PRODUCERS",
         "agg_level_desc": "STATE",
         "state_fips_code": 45,
         "state_alpha": "SC",
         "state_name": "SOUTH CAROLINA",
         "county_code": "None",
         "county_name": "None",
         "domaincat_desc": "None",
         "value": "227",
         "_deepnote_index_column": 2080
        },
        {
         "census_chapter": 2,
         "census_table": 54,
         "census_row": 1,
         "census_column": 2,
         "sector_desc": "DEMOGRAPHICS",
         "short_desc": "PRODUCERS, MULTI-RACE - NUMBER OF PRODUCERS",
         "commodity_desc": "PRODUCERS",
         "agg_level_desc": "STATE",
         "state_fips_code": 46,
         "state_alpha": "SD",
         "state_name": "SOUTH DAKOTA",
         "county_code": "None",
         "county_name": "None",
         "domaincat_desc": "None",
         "value": "231",
         "_deepnote_index_column": 2081
        },
        {
         "census_chapter": 2,
         "census_table": 54,
         "census_row": 1,
         "census_column": 2,
         "sector_desc": "DEMOGRAPHICS",
         "short_desc": "PRODUCERS, MULTI-RACE - NUMBER OF PRODUCERS",
         "commodity_desc": "PRODUCERS",
         "agg_level_desc": "STATE",
         "state_fips_code": 47,
         "state_alpha": "TN",
         "state_name": "TENNESSEE",
         "county_code": "None",
         "county_name": "None",
         "domaincat_desc": "None",
         "value": "613",
         "_deepnote_index_column": 2082
        },
        {
         "census_chapter": 2,
         "census_table": 54,
         "census_row": 1,
         "census_column": 2,
         "sector_desc": "DEMOGRAPHICS",
         "short_desc": "PRODUCERS, MULTI-RACE - NUMBER OF PRODUCERS",
         "commodity_desc": "PRODUCERS",
         "agg_level_desc": "STATE",
         "state_fips_code": 48,
         "state_alpha": "TX",
         "state_name": "TEXAS",
         "county_code": "None",
         "county_name": "None",
         "domaincat_desc": "None",
         "value": "3,295",
         "_deepnote_index_column": 2083
        },
        {
         "census_chapter": 2,
         "census_table": 54,
         "census_row": 1,
         "census_column": 2,
         "sector_desc": "DEMOGRAPHICS",
         "short_desc": "PRODUCERS, MULTI-RACE - NUMBER OF PRODUCERS",
         "commodity_desc": "PRODUCERS",
         "agg_level_desc": "STATE",
         "state_fips_code": 49,
         "state_alpha": "UT",
         "state_name": "UTAH",
         "county_code": "None",
         "county_name": "None",
         "domaincat_desc": "None",
         "value": "147",
         "_deepnote_index_column": 2084
        },
        {
         "census_chapter": 2,
         "census_table": 54,
         "census_row": 1,
         "census_column": 2,
         "sector_desc": "DEMOGRAPHICS",
         "short_desc": "PRODUCERS, MULTI-RACE - NUMBER OF PRODUCERS",
         "commodity_desc": "PRODUCERS",
         "agg_level_desc": "STATE",
         "state_fips_code": 50,
         "state_alpha": "VT",
         "state_name": "VERMONT",
         "county_code": "None",
         "county_name": "None",
         "domaincat_desc": "None",
         "value": "101",
         "_deepnote_index_column": 2085
        },
        {
         "census_chapter": 2,
         "census_table": 54,
         "census_row": 1,
         "census_column": 2,
         "sector_desc": "DEMOGRAPHICS",
         "short_desc": "PRODUCERS, MULTI-RACE - NUMBER OF PRODUCERS",
         "commodity_desc": "PRODUCERS",
         "agg_level_desc": "STATE",
         "state_fips_code": 51,
         "state_alpha": "VA",
         "state_name": "VIRGINIA",
         "county_code": "None",
         "county_name": "None",
         "domaincat_desc": "None",
         "value": "389",
         "_deepnote_index_column": 2086
        },
        {
         "census_chapter": 2,
         "census_table": 54,
         "census_row": 1,
         "census_column": 2,
         "sector_desc": "DEMOGRAPHICS",
         "short_desc": "PRODUCERS, MULTI-RACE - NUMBER OF PRODUCERS",
         "commodity_desc": "PRODUCERS",
         "agg_level_desc": "STATE",
         "state_fips_code": 53,
         "state_alpha": "WA",
         "state_name": "WASHINGTON",
         "county_code": "None",
         "county_name": "None",
         "domaincat_desc": "None",
         "value": "851",
         "_deepnote_index_column": 2087
        },
        {
         "census_chapter": 2,
         "census_table": 54,
         "census_row": 1,
         "census_column": 2,
         "sector_desc": "DEMOGRAPHICS",
         "short_desc": "PRODUCERS, MULTI-RACE - NUMBER OF PRODUCERS",
         "commodity_desc": "PRODUCERS",
         "agg_level_desc": "STATE",
         "state_fips_code": 54,
         "state_alpha": "WV",
         "state_name": "WEST VIRGINIA",
         "county_code": "None",
         "county_name": "None",
         "domaincat_desc": "None",
         "value": "218",
         "_deepnote_index_column": 2088
        },
        {
         "census_chapter": 2,
         "census_table": 54,
         "census_row": 1,
         "census_column": 2,
         "sector_desc": "DEMOGRAPHICS",
         "short_desc": "PRODUCERS, MULTI-RACE - NUMBER OF PRODUCERS",
         "commodity_desc": "PRODUCERS",
         "agg_level_desc": "STATE",
         "state_fips_code": 55,
         "state_alpha": "WI",
         "state_name": "WISCONSIN",
         "county_code": "None",
         "county_name": "None",
         "domaincat_desc": "None",
         "value": "179",
         "_deepnote_index_column": 2089
        },
        {
         "census_chapter": 2,
         "census_table": 54,
         "census_row": 1,
         "census_column": 2,
         "sector_desc": "DEMOGRAPHICS",
         "short_desc": "PRODUCERS, MULTI-RACE - NUMBER OF PRODUCERS",
         "commodity_desc": "PRODUCERS",
         "agg_level_desc": "STATE",
         "state_fips_code": 56,
         "state_alpha": "WY",
         "state_name": "WYOMING",
         "county_code": "None",
         "county_name": "None",
         "domaincat_desc": "None",
         "value": "178",
         "_deepnote_index_column": 2090
        },
        {
         "census_chapter": 2,
         "census_table": 54,
         "census_row": 1,
         "census_column": 3,
         "sector_desc": "DEMOGRAPHICS",
         "short_desc": "PRODUCERS, MULTI-RACE - ACRES OPERATED",
         "commodity_desc": "PRODUCERS",
         "agg_level_desc": "STATE",
         "state_fips_code": 1,
         "state_alpha": "AL",
         "state_name": "ALABAMA",
         "county_code": "None",
         "county_name": "None",
         "domaincat_desc": "None",
         "value": "63,734",
         "_deepnote_index_column": 2091
        },
        {
         "census_chapter": 2,
         "census_table": 54,
         "census_row": 1,
         "census_column": 3,
         "sector_desc": "DEMOGRAPHICS",
         "short_desc": "PRODUCERS, MULTI-RACE - ACRES OPERATED",
         "commodity_desc": "PRODUCERS",
         "agg_level_desc": "STATE",
         "state_fips_code": 2,
         "state_alpha": "AK",
         "state_name": "ALASKA",
         "county_code": "None",
         "county_name": "None",
         "domaincat_desc": "None",
         "value": "(D)",
         "_deepnote_index_column": 2092
        },
        {
         "census_chapter": 2,
         "census_table": 54,
         "census_row": 1,
         "census_column": 3,
         "sector_desc": "DEMOGRAPHICS",
         "short_desc": "PRODUCERS, MULTI-RACE - ACRES OPERATED",
         "commodity_desc": "PRODUCERS",
         "agg_level_desc": "STATE",
         "state_fips_code": 4,
         "state_alpha": "AZ",
         "state_name": "ARIZONA",
         "county_code": "None",
         "county_name": "None",
         "domaincat_desc": "None",
         "value": "758,280",
         "_deepnote_index_column": 2093
        },
        {
         "census_chapter": 2,
         "census_table": 54,
         "census_row": 1,
         "census_column": 3,
         "sector_desc": "DEMOGRAPHICS",
         "short_desc": "PRODUCERS, MULTI-RACE - ACRES OPERATED",
         "commodity_desc": "PRODUCERS",
         "agg_level_desc": "STATE",
         "state_fips_code": 5,
         "state_alpha": "AR",
         "state_name": "ARKANSAS",
         "county_code": "None",
         "county_name": "None",
         "domaincat_desc": "None",
         "value": "176,020",
         "_deepnote_index_column": 2094
        },
        {
         "census_chapter": 2,
         "census_table": 54,
         "census_row": 1,
         "census_column": 3,
         "sector_desc": "DEMOGRAPHICS",
         "short_desc": "PRODUCERS, MULTI-RACE - ACRES OPERATED",
         "commodity_desc": "PRODUCERS",
         "agg_level_desc": "STATE",
         "state_fips_code": 6,
         "state_alpha": "CA",
         "state_name": "CALIFORNIA",
         "county_code": "None",
         "county_name": "None",
         "domaincat_desc": "None",
         "value": "354,767",
         "_deepnote_index_column": 2095
        },
        {
         "census_chapter": 2,
         "census_table": 54,
         "census_row": 1,
         "census_column": 3,
         "sector_desc": "DEMOGRAPHICS",
         "short_desc": "PRODUCERS, MULTI-RACE - ACRES OPERATED",
         "commodity_desc": "PRODUCERS",
         "agg_level_desc": "STATE",
         "state_fips_code": 8,
         "state_alpha": "CO",
         "state_name": "COLORADO",
         "county_code": "None",
         "county_name": "None",
         "domaincat_desc": "None",
         "value": "142,618",
         "_deepnote_index_column": 2096
        },
        {
         "census_chapter": 2,
         "census_table": 54,
         "census_row": 1,
         "census_column": 3,
         "sector_desc": "DEMOGRAPHICS",
         "short_desc": "PRODUCERS, MULTI-RACE - ACRES OPERATED",
         "commodity_desc": "PRODUCERS",
         "agg_level_desc": "STATE",
         "state_fips_code": 9,
         "state_alpha": "CT",
         "state_name": "CONNECTICUT",
         "county_code": "None",
         "county_name": "None",
         "domaincat_desc": "None",
         "value": "1,061",
         "_deepnote_index_column": 2097
        },
        {
         "census_chapter": 2,
         "census_table": 54,
         "census_row": 1,
         "census_column": 3,
         "sector_desc": "DEMOGRAPHICS",
         "short_desc": "PRODUCERS, MULTI-RACE - ACRES OPERATED",
         "commodity_desc": "PRODUCERS",
         "agg_level_desc": "STATE",
         "state_fips_code": 10,
         "state_alpha": "DE",
         "state_name": "DELAWARE",
         "county_code": "None",
         "county_name": "None",
         "domaincat_desc": "None",
         "value": "1,812",
         "_deepnote_index_column": 2098
        },
        {
         "census_chapter": 2,
         "census_table": 54,
         "census_row": 1,
         "census_column": 3,
         "sector_desc": "DEMOGRAPHICS",
         "short_desc": "PRODUCERS, MULTI-RACE - ACRES OPERATED",
         "commodity_desc": "PRODUCERS",
         "agg_level_desc": "STATE",
         "state_fips_code": 12,
         "state_alpha": "FL",
         "state_name": "FLORIDA",
         "county_code": "None",
         "county_name": "None",
         "domaincat_desc": "None",
         "value": "132,699",
         "_deepnote_index_column": 2099
        },
        {
         "census_chapter": 2,
         "census_table": 54,
         "census_row": 1,
         "census_column": 3,
         "sector_desc": "DEMOGRAPHICS",
         "short_desc": "PRODUCERS, MULTI-RACE - ACRES OPERATED",
         "commodity_desc": "PRODUCERS",
         "agg_level_desc": "STATE",
         "state_fips_code": 13,
         "state_alpha": "GA",
         "state_name": "GEORGIA",
         "county_code": "None",
         "county_name": "None",
         "domaincat_desc": "None",
         "value": "54,997",
         "_deepnote_index_column": 2100
        },
        {
         "census_chapter": 2,
         "census_table": 54,
         "census_row": 1,
         "census_column": 3,
         "sector_desc": "DEMOGRAPHICS",
         "short_desc": "PRODUCERS, MULTI-RACE - ACRES OPERATED",
         "commodity_desc": "PRODUCERS",
         "agg_level_desc": "STATE",
         "state_fips_code": 15,
         "state_alpha": "HI",
         "state_name": "HAWAII",
         "county_code": "None",
         "county_name": "None",
         "domaincat_desc": "None",
         "value": "240,407",
         "_deepnote_index_column": 2101
        },
        {
         "census_chapter": 2,
         "census_table": 54,
         "census_row": 1,
         "census_column": 3,
         "sector_desc": "DEMOGRAPHICS",
         "short_desc": "PRODUCERS, MULTI-RACE - ACRES OPERATED",
         "commodity_desc": "PRODUCERS",
         "agg_level_desc": "STATE",
         "state_fips_code": 16,
         "state_alpha": "ID",
         "state_name": "IDAHO",
         "county_code": "None",
         "county_name": "None",
         "domaincat_desc": "None",
         "value": "49,689",
         "_deepnote_index_column": 2102
        },
        {
         "census_chapter": 2,
         "census_table": 54,
         "census_row": 1,
         "census_column": 3,
         "sector_desc": "DEMOGRAPHICS",
         "short_desc": "PRODUCERS, MULTI-RACE - ACRES OPERATED",
         "commodity_desc": "PRODUCERS",
         "agg_level_desc": "STATE",
         "state_fips_code": 17,
         "state_alpha": "IL",
         "state_name": "ILLINOIS",
         "county_code": "None",
         "county_name": "None",
         "domaincat_desc": "None",
         "value": "71,930",
         "_deepnote_index_column": 2103
        },
        {
         "census_chapter": 2,
         "census_table": 54,
         "census_row": 1,
         "census_column": 3,
         "sector_desc": "DEMOGRAPHICS",
         "short_desc": "PRODUCERS, MULTI-RACE - ACRES OPERATED",
         "commodity_desc": "PRODUCERS",
         "agg_level_desc": "STATE",
         "state_fips_code": 18,
         "state_alpha": "IN",
         "state_name": "INDIANA",
         "county_code": "None",
         "county_name": "None",
         "domaincat_desc": "None",
         "value": "26,231",
         "_deepnote_index_column": 2104
        },
        {
         "census_chapter": 2,
         "census_table": 54,
         "census_row": 1,
         "census_column": 3,
         "sector_desc": "DEMOGRAPHICS",
         "short_desc": "PRODUCERS, MULTI-RACE - ACRES OPERATED",
         "commodity_desc": "PRODUCERS",
         "agg_level_desc": "STATE",
         "state_fips_code": 19,
         "state_alpha": "IA",
         "state_name": "IOWA",
         "county_code": "None",
         "county_name": "None",
         "domaincat_desc": "None",
         "value": "41,545",
         "_deepnote_index_column": 2105
        }
       ]
      },
      "text/plain": "      census_chapter  census_table  census_row  census_column   sector_desc  \\\n0                  2            48           1              1  DEMOGRAPHICS   \n1                  2            48           1              3  DEMOGRAPHICS   \n2                  2            48           1              1  DEMOGRAPHICS   \n3                  2            48           1              2  DEMOGRAPHICS   \n4                  2            48           1              2  DEMOGRAPHICS   \n...              ...           ...         ...            ...           ...   \n2101               2            54           1              3  DEMOGRAPHICS   \n2102               2            54           1              3  DEMOGRAPHICS   \n2103               2            54           1              3  DEMOGRAPHICS   \n2104               2            54           1              3  DEMOGRAPHICS   \n2105               2            54           1              3  DEMOGRAPHICS   \n\n                                      short_desc commodity_desc  \\\n0     PRODUCERS, HISPANIC - NUMBER OF OPERATIONS      PRODUCERS   \n1           PRODUCERS, HISPANIC - ACRES OPERATED      PRODUCERS   \n2     PRODUCERS, HISPANIC - NUMBER OF OPERATIONS      PRODUCERS   \n3      PRODUCERS, HISPANIC - NUMBER OF PRODUCERS      PRODUCERS   \n4      PRODUCERS, HISPANIC - NUMBER OF PRODUCERS      PRODUCERS   \n...                                          ...            ...   \n2101      PRODUCERS, MULTI-RACE - ACRES OPERATED      PRODUCERS   \n2102      PRODUCERS, MULTI-RACE - ACRES OPERATED      PRODUCERS   \n2103      PRODUCERS, MULTI-RACE - ACRES OPERATED      PRODUCERS   \n2104      PRODUCERS, MULTI-RACE - ACRES OPERATED      PRODUCERS   \n2105      PRODUCERS, MULTI-RACE - ACRES OPERATED      PRODUCERS   \n\n     agg_level_desc  state_fips_code state_alpha     state_name county_code  \\\n0             STATE               25          MA  MASSACHUSETTS        None   \n1             STATE               19          IA           IOWA        None   \n2             STATE               24          MD       MARYLAND        None   \n3             STATE               22          LA      LOUISIANA        None   \n4             STATE               23          ME          MAINE        None   \n...             ...              ...         ...            ...         ...   \n2101          STATE               15          HI         HAWAII        None   \n2102          STATE               16          ID          IDAHO        None   \n2103          STATE               17          IL       ILLINOIS        None   \n2104          STATE               18          IN        INDIANA        None   \n2105          STATE               19          IA           IOWA        None   \n\n     county_name domaincat_desc    value  \n0           None           None      183  \n1           None           None  244,591  \n2           None           None      247  \n3           None           None      910  \n4           None           None      124  \n...          ...            ...      ...  \n2101        None           None  240,407  \n2102        None           None   49,689  \n2103        None           None   71,930  \n2104        None           None   26,231  \n2105        None           None   41,545  \n\n[2106 rows x 15 columns]",
      "text/html": "<div>\n<style scoped>\n    .dataframe tbody tr th:only-of-type {\n        vertical-align: middle;\n    }\n\n    .dataframe tbody tr th {\n        vertical-align: top;\n    }\n\n    .dataframe thead th {\n        text-align: right;\n    }\n</style>\n<table border=\"1\" class=\"dataframe\">\n  <thead>\n    <tr style=\"text-align: right;\">\n      <th></th>\n      <th>census_chapter</th>\n      <th>census_table</th>\n      <th>census_row</th>\n      <th>census_column</th>\n      <th>sector_desc</th>\n      <th>short_desc</th>\n      <th>commodity_desc</th>\n      <th>agg_level_desc</th>\n      <th>state_fips_code</th>\n      <th>state_alpha</th>\n      <th>state_name</th>\n      <th>county_code</th>\n      <th>county_name</th>\n      <th>domaincat_desc</th>\n      <th>value</th>\n    </tr>\n  </thead>\n  <tbody>\n    <tr>\n      <th>0</th>\n      <td>2</td>\n      <td>48</td>\n      <td>1</td>\n      <td>1</td>\n      <td>DEMOGRAPHICS</td>\n      <td>PRODUCERS, HISPANIC - NUMBER OF OPERATIONS</td>\n      <td>PRODUCERS</td>\n      <td>STATE</td>\n      <td>25</td>\n      <td>MA</td>\n      <td>MASSACHUSETTS</td>\n      <td>None</td>\n      <td>None</td>\n      <td>None</td>\n      <td>183</td>\n    </tr>\n    <tr>\n      <th>1</th>\n      <td>2</td>\n      <td>48</td>\n      <td>1</td>\n      <td>3</td>\n      <td>DEMOGRAPHICS</td>\n      <td>PRODUCERS, HISPANIC - ACRES OPERATED</td>\n      <td>PRODUCERS</td>\n      <td>STATE</td>\n      <td>19</td>\n      <td>IA</td>\n      <td>IOWA</td>\n      <td>None</td>\n      <td>None</td>\n      <td>None</td>\n      <td>244,591</td>\n    </tr>\n    <tr>\n      <th>2</th>\n      <td>2</td>\n      <td>48</td>\n      <td>1</td>\n      <td>1</td>\n      <td>DEMOGRAPHICS</td>\n      <td>PRODUCERS, HISPANIC - NUMBER OF OPERATIONS</td>\n      <td>PRODUCERS</td>\n      <td>STATE</td>\n      <td>24</td>\n      <td>MD</td>\n      <td>MARYLAND</td>\n      <td>None</td>\n      <td>None</td>\n      <td>None</td>\n      <td>247</td>\n    </tr>\n    <tr>\n      <th>3</th>\n      <td>2</td>\n      <td>48</td>\n      <td>1</td>\n      <td>2</td>\n      <td>DEMOGRAPHICS</td>\n      <td>PRODUCERS, HISPANIC - NUMBER OF PRODUCERS</td>\n      <td>PRODUCERS</td>\n      <td>STATE</td>\n      <td>22</td>\n      <td>LA</td>\n      <td>LOUISIANA</td>\n      <td>None</td>\n      <td>None</td>\n      <td>None</td>\n      <td>910</td>\n    </tr>\n    <tr>\n      <th>4</th>\n      <td>2</td>\n      <td>48</td>\n      <td>1</td>\n      <td>2</td>\n      <td>DEMOGRAPHICS</td>\n      <td>PRODUCERS, HISPANIC - NUMBER OF PRODUCERS</td>\n      <td>PRODUCERS</td>\n      <td>STATE</td>\n      <td>23</td>\n      <td>ME</td>\n      <td>MAINE</td>\n      <td>None</td>\n      <td>None</td>\n      <td>None</td>\n      <td>124</td>\n    </tr>\n    <tr>\n      <th>...</th>\n      <td>...</td>\n      <td>...</td>\n      <td>...</td>\n      <td>...</td>\n      <td>...</td>\n      <td>...</td>\n      <td>...</td>\n      <td>...</td>\n      <td>...</td>\n      <td>...</td>\n      <td>...</td>\n      <td>...</td>\n      <td>...</td>\n      <td>...</td>\n      <td>...</td>\n    </tr>\n    <tr>\n      <th>2101</th>\n      <td>2</td>\n      <td>54</td>\n      <td>1</td>\n      <td>3</td>\n      <td>DEMOGRAPHICS</td>\n      <td>PRODUCERS, MULTI-RACE - ACRES OPERATED</td>\n      <td>PRODUCERS</td>\n      <td>STATE</td>\n      <td>15</td>\n      <td>HI</td>\n      <td>HAWAII</td>\n      <td>None</td>\n      <td>None</td>\n      <td>None</td>\n      <td>240,407</td>\n    </tr>\n    <tr>\n      <th>2102</th>\n      <td>2</td>\n      <td>54</td>\n      <td>1</td>\n      <td>3</td>\n      <td>DEMOGRAPHICS</td>\n      <td>PRODUCERS, MULTI-RACE - ACRES OPERATED</td>\n      <td>PRODUCERS</td>\n      <td>STATE</td>\n      <td>16</td>\n      <td>ID</td>\n      <td>IDAHO</td>\n      <td>None</td>\n      <td>None</td>\n      <td>None</td>\n      <td>49,689</td>\n    </tr>\n    <tr>\n      <th>2103</th>\n      <td>2</td>\n      <td>54</td>\n      <td>1</td>\n      <td>3</td>\n      <td>DEMOGRAPHICS</td>\n      <td>PRODUCERS, MULTI-RACE - ACRES OPERATED</td>\n      <td>PRODUCERS</td>\n      <td>STATE</td>\n      <td>17</td>\n      <td>IL</td>\n      <td>ILLINOIS</td>\n      <td>None</td>\n      <td>None</td>\n      <td>None</td>\n      <td>71,930</td>\n    </tr>\n    <tr>\n      <th>2104</th>\n      <td>2</td>\n      <td>54</td>\n      <td>1</td>\n      <td>3</td>\n      <td>DEMOGRAPHICS</td>\n      <td>PRODUCERS, MULTI-RACE - ACRES OPERATED</td>\n      <td>PRODUCERS</td>\n      <td>STATE</td>\n      <td>18</td>\n      <td>IN</td>\n      <td>INDIANA</td>\n      <td>None</td>\n      <td>None</td>\n      <td>None</td>\n      <td>26,231</td>\n    </tr>\n    <tr>\n      <th>2105</th>\n      <td>2</td>\n      <td>54</td>\n      <td>1</td>\n      <td>3</td>\n      <td>DEMOGRAPHICS</td>\n      <td>PRODUCERS, MULTI-RACE - ACRES OPERATED</td>\n      <td>PRODUCERS</td>\n      <td>STATE</td>\n      <td>19</td>\n      <td>IA</td>\n      <td>IOWA</td>\n      <td>None</td>\n      <td>None</td>\n      <td>None</td>\n      <td>41,545</td>\n    </tr>\n  </tbody>\n</table>\n<p>2106 rows × 15 columns</p>\n</div>"
     },
     "metadata": {}
    }
   ],
   "execution_count": 81
  },
  {
   "cell_type": "code",
   "metadata": {
    "tags": [],
    "cell_id": "00005-182df082-b751-4f67-a98f-11bc25d47418",
    "deepnote_to_be_reexecuted": false,
    "source_hash": "1d7d75da",
    "execution_start": 1637878009996,
    "execution_millis": 346,
    "deepnote_cell_type": "code"
   },
   "source": "table_1_df_raw.to_csv(\"data/table_1.csv\", index=False)\nfarmer_gender_table_df_raw.to_csv(\"data/farmer_gender_table.csv\", index=False)\nfarmer_race_table_df_raw.to_csv(\"data/farmer_race_table.csv\", index=False)",
   "execution_count": 82,
   "outputs": []
  },
  {
   "cell_type": "markdown",
   "source": "To avoid having to re-query the original data every time we restart the notebook, I'll save off this first table into a CSV file and immediately reload it.\n\nThis way, when re-starting the notebook, users can start on the cells below.",
   "metadata": {
    "tags": [],
    "cell_id": "00005-9ed67fed-d23b-4438-930c-8ae51c37d37d",
    "deepnote_cell_type": "markdown"
   }
  },
  {
   "cell_type": "markdown",
   "source": "### Data Cleaning\nBefore we can start analyzing our dataframe, we need to perform a bit of housekeeping work. Specifically, the `value` column has a data type of 'string' by default due to the presence of commas another non-numeric characters in the raw data.",
   "metadata": {
    "tags": [],
    "cell_id": "00005-159c83ff-b665-47f1-87d2-265ad24fde5a",
    "deepnote_cell_type": "markdown"
   }
  },
  {
   "cell_type": "code",
   "metadata": {
    "tags": [],
    "cell_id": "00006-119637ef-a9b3-4ec8-90e9-ca0154a85bf1",
    "deepnote_to_be_reexecuted": false,
    "source_hash": "fb0d7d39",
    "execution_start": 1637875478092,
    "execution_millis": 4306,
    "deepnote_cell_type": "code"
   },
   "source": "import geopandas as gpd\nfrom shapely.geometry import Point, Polygon\nimport matplotlib.pyplot as plt\nimport pandas as pd\nimport numpy as np",
   "execution_count": 4,
   "outputs": []
  },
  {
   "cell_type": "code",
   "source": "table_1_df_raw = pd.read_csv(\"data/table_1.csv\")",
   "metadata": {
    "tags": [],
    "cell_id": "00010-eb5ced9d-4b5d-4b78-9123-399bd8003a1e",
    "deepnote_to_be_reexecuted": false,
    "source_hash": "6f9cd6e3",
    "execution_start": 1637875482437,
    "execution_millis": 88,
    "deepnote_cell_type": "code"
   },
   "outputs": [],
   "execution_count": 5
  },
  {
   "cell_type": "code",
   "metadata": {
    "tags": [],
    "cell_id": "00006-338dee85-d41f-475a-9d29-1b3c4347399b",
    "deepnote_to_be_reexecuted": false,
    "source_hash": "278c90d3",
    "execution_start": 1637875484282,
    "execution_millis": 10,
    "deepnote_cell_type": "code"
   },
   "source": "farm_size_value = {\n    \"AREA OPERATED: (500 TO 999 ACRES)\": 5,\n    \"AREA OPERATED: (50 TO 179 ACRES)\": 3,\n    \"AREA OPERATED: (2,000 OR MORE ACRES)\": 7,\n    \"AREA OPERATED: (180 TO 499 ACRES)\": 4,\n    \"AREA OPERATED: (10.0 TO 49.9 ACRES)\": 2,\n    \"AREA OPERATED: (1.0 TO 9.9 ACRES)\": 1,\n    \"AREA OPERATED: (1,000 TO 1,999 ACRES)\": 6,\n}\n\ndef clean_data_frame(df):\n    \"\"\"This function takes in a raw dataframe and returns a properly formatted dataframe \"\"\"\n    cleaned_df = df.copy()\n    cleaned_df[\"value\"] = cleaned_df[\"value\"].str.replace(r\"[^0-9]+\", '', regex=True)  # Replace non numeric values with an empty string\n    cleaned_df[\"value\"] = pd.to_numeric(cleaned_df[\"value\"], errors='coerce')   # Coercing is necessary for the blank string values\n    cleaned_df[\"value\"] = cleaned_df[\"value\"].fillna(0).astype(int)  # Convert from float to integer\n\n    cleaned_df[\"farm_size_value\"] = cleaned_df[\"domaincat_desc\"].apply(lambda x: farm_size_value.get(x))\n    cleaned_df[\"state_name\"] = cleaned_df[\"state_name\"].str.title()  # Converting the state name to be sentence case\n    \n    return cleaned_df",
   "execution_count": 6,
   "outputs": []
  },
  {
   "cell_type": "code",
   "metadata": {
    "tags": [],
    "cell_id": "00012-e9e556b9-cc4b-4a5b-a420-86284db1c1ab",
    "deepnote_to_be_reexecuted": false,
    "source_hash": "a1b8a3ef",
    "execution_start": 1637875528127,
    "execution_millis": 31,
    "deepnote_cell_type": "code"
   },
   "source": "table_1_df = clean_data_frame(table_1_df_raw)",
   "execution_count": 8,
   "outputs": []
  },
  {
   "cell_type": "markdown",
   "source": "### Number of Farms per State\nTo start off our analysis, let's get an idea of how many farms are contained within each state.",
   "metadata": {
    "tags": [],
    "cell_id": "00005-0df0a27a-b264-4168-8821-7c15e1a9ba73",
    "deepnote_cell_type": "markdown"
   }
  },
  {
   "cell_type": "code",
   "metadata": {
    "tags": [],
    "cell_id": "00006-4543aa6e-be57-42be-9d45-306178828631",
    "deepnote_to_be_reexecuted": false,
    "source_hash": "209b504b",
    "execution_start": 1637875529600,
    "execution_millis": 0,
    "deepnote_cell_type": "code"
   },
   "source": "# filter to only data pertaining to the number of farms in each state and only the columns we need\nnum_operations_filter = table_1_df[\"short_desc\"] == \"FARM OPERATIONS - NUMBER OF OPERATIONS\"\nnum_farms_df = table_1_df.loc[num_operations_filter].copy()",
   "execution_count": 9,
   "outputs": []
  },
  {
   "cell_type": "markdown",
   "source": "Let's take a look at one state in particular to get a better idea of the data.",
   "metadata": {
    "tags": [],
    "cell_id": "00007-7005f13e-7ed8-4630-bc52-1da595f6882f",
    "deepnote_cell_type": "markdown"
   }
  },
  {
   "cell_type": "code",
   "metadata": {
    "tags": [],
    "cell_id": "00008-ce289602-a287-4081-b460-26db5575edb4",
    "deepnote_to_be_reexecuted": false,
    "source_hash": "48e103eb",
    "execution_start": 1637875530980,
    "execution_millis": 77,
    "deepnote_cell_type": "code"
   },
   "source": "state_filter = num_farms_df[\"state_name\"] == \"Arkansas\"\nnum_farms_ark_df = num_farms_df.loc[state_filter]\nnum_farms_ark_df",
   "execution_count": 10,
   "outputs": [
    {
     "output_type": "execute_result",
     "execution_count": 10,
     "data": {
      "application/vnd.deepnote.dataframe.v2+json": {
       "row_count": 8,
       "column_count": 16,
       "columns": [
        {
         "name": "census_chapter",
         "dtype": "int64",
         "stats": {
          "unique_count": 1,
          "nan_count": 0,
          "min": "1",
          "max": "1",
          "histogram": [
           {
            "bin_start": 0.5,
            "bin_end": 0.6,
            "count": 0
           },
           {
            "bin_start": 0.6,
            "bin_end": 0.7,
            "count": 0
           },
           {
            "bin_start": 0.7,
            "bin_end": 0.8,
            "count": 0
           },
           {
            "bin_start": 0.8,
            "bin_end": 0.9,
            "count": 0
           },
           {
            "bin_start": 0.9,
            "bin_end": 1,
            "count": 0
           },
           {
            "bin_start": 1,
            "bin_end": 1.1,
            "count": 8
           },
           {
            "bin_start": 1.1,
            "bin_end": 1.2000000000000002,
            "count": 0
           },
           {
            "bin_start": 1.2000000000000002,
            "bin_end": 1.3,
            "count": 0
           },
           {
            "bin_start": 1.3,
            "bin_end": 1.4,
            "count": 0
           },
           {
            "bin_start": 1.4,
            "bin_end": 1.5,
            "count": 0
           }
          ]
         }
        },
        {
         "name": "census_table",
         "dtype": "int64",
         "stats": {
          "unique_count": 1,
          "nan_count": 0,
          "min": "1",
          "max": "1",
          "histogram": [
           {
            "bin_start": 0.5,
            "bin_end": 0.6,
            "count": 0
           },
           {
            "bin_start": 0.6,
            "bin_end": 0.7,
            "count": 0
           },
           {
            "bin_start": 0.7,
            "bin_end": 0.8,
            "count": 0
           },
           {
            "bin_start": 0.8,
            "bin_end": 0.9,
            "count": 0
           },
           {
            "bin_start": 0.9,
            "bin_end": 1,
            "count": 0
           },
           {
            "bin_start": 1,
            "bin_end": 1.1,
            "count": 8
           },
           {
            "bin_start": 1.1,
            "bin_end": 1.2000000000000002,
            "count": 0
           },
           {
            "bin_start": 1.2000000000000002,
            "bin_end": 1.3,
            "count": 0
           },
           {
            "bin_start": 1.3,
            "bin_end": 1.4,
            "count": 0
           },
           {
            "bin_start": 1.4,
            "bin_end": 1.5,
            "count": 0
           }
          ]
         }
        },
        {
         "name": "census_row",
         "dtype": "int64",
         "stats": {
          "unique_count": 8,
          "nan_count": 0,
          "min": "1",
          "max": "14",
          "histogram": [
           {
            "bin_start": 1,
            "bin_end": 2.3,
            "count": 1
           },
           {
            "bin_start": 2.3,
            "bin_end": 3.6,
            "count": 0
           },
           {
            "bin_start": 3.6,
            "bin_end": 4.9,
            "count": 0
           },
           {
            "bin_start": 4.9,
            "bin_end": 6.2,
            "count": 0
           },
           {
            "bin_start": 6.2,
            "bin_end": 7.5,
            "count": 0
           },
           {
            "bin_start": 7.5,
            "bin_end": 8.8,
            "count": 1
           },
           {
            "bin_start": 8.8,
            "bin_end": 10.1,
            "count": 2
           },
           {
            "bin_start": 10.1,
            "bin_end": 11.4,
            "count": 1
           },
           {
            "bin_start": 11.4,
            "bin_end": 12.700000000000001,
            "count": 1
           },
           {
            "bin_start": 12.700000000000001,
            "bin_end": 14,
            "count": 2
           }
          ]
         }
        },
        {
         "name": "census_column",
         "dtype": "int64",
         "stats": {
          "unique_count": 1,
          "nan_count": 0,
          "min": "1",
          "max": "1",
          "histogram": [
           {
            "bin_start": 0.5,
            "bin_end": 0.6,
            "count": 0
           },
           {
            "bin_start": 0.6,
            "bin_end": 0.7,
            "count": 0
           },
           {
            "bin_start": 0.7,
            "bin_end": 0.8,
            "count": 0
           },
           {
            "bin_start": 0.8,
            "bin_end": 0.9,
            "count": 0
           },
           {
            "bin_start": 0.9,
            "bin_end": 1,
            "count": 0
           },
           {
            "bin_start": 1,
            "bin_end": 1.1,
            "count": 8
           },
           {
            "bin_start": 1.1,
            "bin_end": 1.2000000000000002,
            "count": 0
           },
           {
            "bin_start": 1.2000000000000002,
            "bin_end": 1.3,
            "count": 0
           },
           {
            "bin_start": 1.3,
            "bin_end": 1.4,
            "count": 0
           },
           {
            "bin_start": 1.4,
            "bin_end": 1.5,
            "count": 0
           }
          ]
         }
        },
        {
         "name": "sector_desc",
         "dtype": "object",
         "stats": {
          "unique_count": 1,
          "nan_count": 0,
          "categories": [
           {
            "name": "ECONOMICS",
            "count": 8
           }
          ]
         }
        },
        {
         "name": "short_desc",
         "dtype": "object",
         "stats": {
          "unique_count": 1,
          "nan_count": 0,
          "categories": [
           {
            "name": "FARM OPERATIONS - NUMBER OF OPERATIONS",
            "count": 8
           }
          ]
         }
        },
        {
         "name": "commodity_desc",
         "dtype": "object",
         "stats": {
          "unique_count": 1,
          "nan_count": 0,
          "categories": [
           {
            "name": "FARM OPERATIONS",
            "count": 8
           }
          ]
         }
        },
        {
         "name": "agg_level_desc",
         "dtype": "object",
         "stats": {
          "unique_count": 1,
          "nan_count": 0,
          "categories": [
           {
            "name": "STATE",
            "count": 8
           }
          ]
         }
        },
        {
         "name": "state_fips_code",
         "dtype": "int64",
         "stats": {
          "unique_count": 1,
          "nan_count": 0,
          "min": "5",
          "max": "5",
          "histogram": [
           {
            "bin_start": 4.5,
            "bin_end": 4.6,
            "count": 0
           },
           {
            "bin_start": 4.6,
            "bin_end": 4.7,
            "count": 0
           },
           {
            "bin_start": 4.7,
            "bin_end": 4.8,
            "count": 0
           },
           {
            "bin_start": 4.8,
            "bin_end": 4.9,
            "count": 0
           },
           {
            "bin_start": 4.9,
            "bin_end": 5,
            "count": 0
           },
           {
            "bin_start": 5,
            "bin_end": 5.1,
            "count": 8
           },
           {
            "bin_start": 5.1,
            "bin_end": 5.2,
            "count": 0
           },
           {
            "bin_start": 5.2,
            "bin_end": 5.3,
            "count": 0
           },
           {
            "bin_start": 5.3,
            "bin_end": 5.4,
            "count": 0
           },
           {
            "bin_start": 5.4,
            "bin_end": 5.5,
            "count": 0
           }
          ]
         }
        },
        {
         "name": "state_alpha",
         "dtype": "object",
         "stats": {
          "unique_count": 1,
          "nan_count": 0,
          "categories": [
           {
            "name": "AR",
            "count": 8
           }
          ]
         }
        },
        {
         "name": "state_name",
         "dtype": "object",
         "stats": {
          "unique_count": 1,
          "nan_count": 0,
          "categories": [
           {
            "name": "Arkansas",
            "count": 8
           }
          ]
         }
        },
        {
         "name": "county_code",
         "dtype": "float64",
         "stats": {
          "unique_count": 0,
          "nan_count": 8,
          "min": null,
          "max": null,
          "histogram": [
           {
            "bin_start": 0,
            "bin_end": 0.1,
            "count": 0
           },
           {
            "bin_start": 0.1,
            "bin_end": 0.2,
            "count": 0
           },
           {
            "bin_start": 0.2,
            "bin_end": 0.30000000000000004,
            "count": 0
           },
           {
            "bin_start": 0.30000000000000004,
            "bin_end": 0.4,
            "count": 0
           },
           {
            "bin_start": 0.4,
            "bin_end": 0.5,
            "count": 0
           },
           {
            "bin_start": 0.5,
            "bin_end": 0.6000000000000001,
            "count": 0
           },
           {
            "bin_start": 0.6000000000000001,
            "bin_end": 0.7000000000000001,
            "count": 0
           },
           {
            "bin_start": 0.7000000000000001,
            "bin_end": 0.8,
            "count": 0
           },
           {
            "bin_start": 0.8,
            "bin_end": 0.9,
            "count": 0
           },
           {
            "bin_start": 0.9,
            "bin_end": 1,
            "count": 0
           }
          ]
         }
        },
        {
         "name": "county_name",
         "dtype": "float64",
         "stats": {
          "unique_count": 0,
          "nan_count": 8,
          "min": null,
          "max": null,
          "histogram": [
           {
            "bin_start": 0,
            "bin_end": 0.1,
            "count": 0
           },
           {
            "bin_start": 0.1,
            "bin_end": 0.2,
            "count": 0
           },
           {
            "bin_start": 0.2,
            "bin_end": 0.30000000000000004,
            "count": 0
           },
           {
            "bin_start": 0.30000000000000004,
            "bin_end": 0.4,
            "count": 0
           },
           {
            "bin_start": 0.4,
            "bin_end": 0.5,
            "count": 0
           },
           {
            "bin_start": 0.5,
            "bin_end": 0.6000000000000001,
            "count": 0
           },
           {
            "bin_start": 0.6000000000000001,
            "bin_end": 0.7000000000000001,
            "count": 0
           },
           {
            "bin_start": 0.7000000000000001,
            "bin_end": 0.8,
            "count": 0
           },
           {
            "bin_start": 0.8,
            "bin_end": 0.9,
            "count": 0
           },
           {
            "bin_start": 0.9,
            "bin_end": 1,
            "count": 0
           }
          ]
         }
        },
        {
         "name": "domaincat_desc",
         "dtype": "object",
         "stats": {
          "unique_count": 7,
          "nan_count": 1,
          "categories": [
           {
            "name": "AREA OPERATED: (10.0 TO 49.9 ACRES)",
            "count": 1
           },
           {
            "name": "6 others",
            "count": 6
           },
           {
            "name": "Missing",
            "count": 1
           }
          ]
         }
        },
        {
         "name": "value",
         "dtype": "int64",
         "stats": {
          "unique_count": 8,
          "nan_count": 0,
          "min": "1464",
          "max": "42625",
          "histogram": [
           {
            "bin_start": 1464,
            "bin_end": 5580.1,
            "count": 4
           },
           {
            "bin_start": 5580.1,
            "bin_end": 9696.2,
            "count": 1
           },
           {
            "bin_start": 9696.2,
            "bin_end": 13812.300000000001,
            "count": 1
           },
           {
            "bin_start": 13812.300000000001,
            "bin_end": 17928.4,
            "count": 1
           },
           {
            "bin_start": 17928.4,
            "bin_end": 22044.5,
            "count": 0
           },
           {
            "bin_start": 22044.5,
            "bin_end": 26160.600000000002,
            "count": 0
           },
           {
            "bin_start": 26160.600000000002,
            "bin_end": 30276.700000000004,
            "count": 0
           },
           {
            "bin_start": 30276.700000000004,
            "bin_end": 34392.8,
            "count": 0
           },
           {
            "bin_start": 34392.8,
            "bin_end": 38508.9,
            "count": 0
           },
           {
            "bin_start": 38508.9,
            "bin_end": 42625,
            "count": 1
           }
          ]
         }
        },
        {
         "name": "farm_size_value",
         "dtype": "float64",
         "stats": {
          "unique_count": 7,
          "nan_count": 1,
          "min": "1.0",
          "max": "7.0",
          "histogram": [
           {
            "bin_start": 1,
            "bin_end": 1.6,
            "count": 1
           },
           {
            "bin_start": 1.6,
            "bin_end": 2.2,
            "count": 1
           },
           {
            "bin_start": 2.2,
            "bin_end": 2.8,
            "count": 0
           },
           {
            "bin_start": 2.8,
            "bin_end": 3.4,
            "count": 1
           },
           {
            "bin_start": 3.4,
            "bin_end": 4,
            "count": 0
           },
           {
            "bin_start": 4,
            "bin_end": 4.6,
            "count": 1
           },
           {
            "bin_start": 4.6,
            "bin_end": 5.2,
            "count": 1
           },
           {
            "bin_start": 5.2,
            "bin_end": 5.8,
            "count": 0
           },
           {
            "bin_start": 5.8,
            "bin_end": 6.3999999999999995,
            "count": 1
           },
           {
            "bin_start": 6.3999999999999995,
            "bin_end": 7,
            "count": 1
           }
          ]
         }
        },
        {
         "name": "_deepnote_index_column",
         "dtype": "int64"
        }
       ],
       "rows_top": [
        {
         "census_chapter": 1,
         "census_table": 1,
         "census_row": 1,
         "census_column": 1,
         "sector_desc": "ECONOMICS",
         "short_desc": "FARM OPERATIONS - NUMBER OF OPERATIONS",
         "commodity_desc": "FARM OPERATIONS",
         "agg_level_desc": "STATE",
         "state_fips_code": 5,
         "state_alpha": "AR",
         "state_name": "Arkansas",
         "county_code": "nan",
         "county_name": "nan",
         "domaincat_desc": "nan",
         "value": 42625,
         "farm_size_value": "nan",
         "_deepnote_index_column": 5
        },
        {
         "census_chapter": 1,
         "census_table": 1,
         "census_row": 9,
         "census_column": 1,
         "sector_desc": "ECONOMICS",
         "short_desc": "FARM OPERATIONS - NUMBER OF OPERATIONS",
         "commodity_desc": "FARM OPERATIONS",
         "agg_level_desc": "STATE",
         "state_fips_code": 5,
         "state_alpha": "AR",
         "state_name": "Arkansas",
         "county_code": "nan",
         "county_name": "nan",
         "domaincat_desc": "AREA OPERATED: (10.0 TO 49.9 ACRES)",
         "value": 10404,
         "farm_size_value": 2,
         "_deepnote_index_column": 159
        },
        {
         "census_chapter": 1,
         "census_table": 1,
         "census_row": 13,
         "census_column": 1,
         "sector_desc": "ECONOMICS",
         "short_desc": "FARM OPERATIONS - NUMBER OF OPERATIONS",
         "commodity_desc": "FARM OPERATIONS",
         "agg_level_desc": "STATE",
         "state_fips_code": 5,
         "state_alpha": "AR",
         "state_name": "Arkansas",
         "county_code": "nan",
         "county_name": "nan",
         "domaincat_desc": "AREA OPERATED: (1,000 TO 1,999 ACRES)",
         "value": 1597,
         "farm_size_value": 6,
         "_deepnote_index_column": 245
        },
        {
         "census_chapter": 1,
         "census_table": 1,
         "census_row": 14,
         "census_column": 1,
         "sector_desc": "ECONOMICS",
         "short_desc": "FARM OPERATIONS - NUMBER OF OPERATIONS",
         "commodity_desc": "FARM OPERATIONS",
         "agg_level_desc": "STATE",
         "state_fips_code": 5,
         "state_alpha": "AR",
         "state_name": "Arkansas",
         "county_code": "nan",
         "county_name": "nan",
         "domaincat_desc": "AREA OPERATED: (2,000 OR MORE ACRES)",
         "value": 1464,
         "farm_size_value": 7,
         "_deepnote_index_column": 297
        },
        {
         "census_chapter": 1,
         "census_table": 1,
         "census_row": 8,
         "census_column": 1,
         "sector_desc": "ECONOMICS",
         "short_desc": "FARM OPERATIONS - NUMBER OF OPERATIONS",
         "commodity_desc": "FARM OPERATIONS",
         "agg_level_desc": "STATE",
         "state_fips_code": 5,
         "state_alpha": "AR",
         "state_name": "Arkansas",
         "county_code": "nan",
         "county_name": "nan",
         "domaincat_desc": "AREA OPERATED: (1.0 TO 9.9 ACRES)",
         "value": 2520,
         "farm_size_value": 1,
         "_deepnote_index_column": 2021
        },
        {
         "census_chapter": 1,
         "census_table": 1,
         "census_row": 10,
         "census_column": 1,
         "sector_desc": "ECONOMICS",
         "short_desc": "FARM OPERATIONS - NUMBER OF OPERATIONS",
         "commodity_desc": "FARM OPERATIONS",
         "agg_level_desc": "STATE",
         "state_fips_code": 5,
         "state_alpha": "AR",
         "state_name": "Arkansas",
         "county_code": "nan",
         "county_name": "nan",
         "domaincat_desc": "AREA OPERATED: (50 TO 179 ACRES)",
         "value": 14838,
         "farm_size_value": 3,
         "_deepnote_index_column": 2084
        },
        {
         "census_chapter": 1,
         "census_table": 1,
         "census_row": 11,
         "census_column": 1,
         "sector_desc": "ECONOMICS",
         "short_desc": "FARM OPERATIONS - NUMBER OF OPERATIONS",
         "commodity_desc": "FARM OPERATIONS",
         "agg_level_desc": "STATE",
         "state_fips_code": 5,
         "state_alpha": "AR",
         "state_name": "Arkansas",
         "county_code": "nan",
         "county_name": "nan",
         "domaincat_desc": "AREA OPERATED: (180 TO 499 ACRES)",
         "value": 8827,
         "farm_size_value": 4,
         "_deepnote_index_column": 2095
        },
        {
         "census_chapter": 1,
         "census_table": 1,
         "census_row": 12,
         "census_column": 1,
         "sector_desc": "ECONOMICS",
         "short_desc": "FARM OPERATIONS - NUMBER OF OPERATIONS",
         "commodity_desc": "FARM OPERATIONS",
         "agg_level_desc": "STATE",
         "state_fips_code": 5,
         "state_alpha": "AR",
         "state_name": "Arkansas",
         "county_code": "nan",
         "county_name": "nan",
         "domaincat_desc": "AREA OPERATED: (500 TO 999 ACRES)",
         "value": 2975,
         "farm_size_value": 5,
         "_deepnote_index_column": 2146
        }
       ],
       "rows_bottom": null
      },
      "text/plain": "      census_chapter  census_table  census_row  census_column sector_desc  \\\n5                  1             1           1              1   ECONOMICS   \n159                1             1           9              1   ECONOMICS   \n245                1             1          13              1   ECONOMICS   \n297                1             1          14              1   ECONOMICS   \n2021               1             1           8              1   ECONOMICS   \n2084               1             1          10              1   ECONOMICS   \n2095               1             1          11              1   ECONOMICS   \n2146               1             1          12              1   ECONOMICS   \n\n                                  short_desc   commodity_desc agg_level_desc  \\\n5     FARM OPERATIONS - NUMBER OF OPERATIONS  FARM OPERATIONS          STATE   \n159   FARM OPERATIONS - NUMBER OF OPERATIONS  FARM OPERATIONS          STATE   \n245   FARM OPERATIONS - NUMBER OF OPERATIONS  FARM OPERATIONS          STATE   \n297   FARM OPERATIONS - NUMBER OF OPERATIONS  FARM OPERATIONS          STATE   \n2021  FARM OPERATIONS - NUMBER OF OPERATIONS  FARM OPERATIONS          STATE   \n2084  FARM OPERATIONS - NUMBER OF OPERATIONS  FARM OPERATIONS          STATE   \n2095  FARM OPERATIONS - NUMBER OF OPERATIONS  FARM OPERATIONS          STATE   \n2146  FARM OPERATIONS - NUMBER OF OPERATIONS  FARM OPERATIONS          STATE   \n\n      state_fips_code state_alpha state_name  county_code  county_name  \\\n5                   5          AR   Arkansas          NaN          NaN   \n159                 5          AR   Arkansas          NaN          NaN   \n245                 5          AR   Arkansas          NaN          NaN   \n297                 5          AR   Arkansas          NaN          NaN   \n2021                5          AR   Arkansas          NaN          NaN   \n2084                5          AR   Arkansas          NaN          NaN   \n2095                5          AR   Arkansas          NaN          NaN   \n2146                5          AR   Arkansas          NaN          NaN   \n\n                             domaincat_desc  value  farm_size_value  \n5                                       NaN  42625              NaN  \n159     AREA OPERATED: (10.0 TO 49.9 ACRES)  10404              2.0  \n245   AREA OPERATED: (1,000 TO 1,999 ACRES)   1597              6.0  \n297    AREA OPERATED: (2,000 OR MORE ACRES)   1464              7.0  \n2021      AREA OPERATED: (1.0 TO 9.9 ACRES)   2520              1.0  \n2084       AREA OPERATED: (50 TO 179 ACRES)  14838              3.0  \n2095      AREA OPERATED: (180 TO 499 ACRES)   8827              4.0  \n2146      AREA OPERATED: (500 TO 999 ACRES)   2975              5.0  ",
      "text/html": "<div>\n<style scoped>\n    .dataframe tbody tr th:only-of-type {\n        vertical-align: middle;\n    }\n\n    .dataframe tbody tr th {\n        vertical-align: top;\n    }\n\n    .dataframe thead th {\n        text-align: right;\n    }\n</style>\n<table border=\"1\" class=\"dataframe\">\n  <thead>\n    <tr style=\"text-align: right;\">\n      <th></th>\n      <th>census_chapter</th>\n      <th>census_table</th>\n      <th>census_row</th>\n      <th>census_column</th>\n      <th>sector_desc</th>\n      <th>short_desc</th>\n      <th>commodity_desc</th>\n      <th>agg_level_desc</th>\n      <th>state_fips_code</th>\n      <th>state_alpha</th>\n      <th>state_name</th>\n      <th>county_code</th>\n      <th>county_name</th>\n      <th>domaincat_desc</th>\n      <th>value</th>\n      <th>farm_size_value</th>\n    </tr>\n  </thead>\n  <tbody>\n    <tr>\n      <th>5</th>\n      <td>1</td>\n      <td>1</td>\n      <td>1</td>\n      <td>1</td>\n      <td>ECONOMICS</td>\n      <td>FARM OPERATIONS - NUMBER OF OPERATIONS</td>\n      <td>FARM OPERATIONS</td>\n      <td>STATE</td>\n      <td>5</td>\n      <td>AR</td>\n      <td>Arkansas</td>\n      <td>NaN</td>\n      <td>NaN</td>\n      <td>NaN</td>\n      <td>42625</td>\n      <td>NaN</td>\n    </tr>\n    <tr>\n      <th>159</th>\n      <td>1</td>\n      <td>1</td>\n      <td>9</td>\n      <td>1</td>\n      <td>ECONOMICS</td>\n      <td>FARM OPERATIONS - NUMBER OF OPERATIONS</td>\n      <td>FARM OPERATIONS</td>\n      <td>STATE</td>\n      <td>5</td>\n      <td>AR</td>\n      <td>Arkansas</td>\n      <td>NaN</td>\n      <td>NaN</td>\n      <td>AREA OPERATED: (10.0 TO 49.9 ACRES)</td>\n      <td>10404</td>\n      <td>2.0</td>\n    </tr>\n    <tr>\n      <th>245</th>\n      <td>1</td>\n      <td>1</td>\n      <td>13</td>\n      <td>1</td>\n      <td>ECONOMICS</td>\n      <td>FARM OPERATIONS - NUMBER OF OPERATIONS</td>\n      <td>FARM OPERATIONS</td>\n      <td>STATE</td>\n      <td>5</td>\n      <td>AR</td>\n      <td>Arkansas</td>\n      <td>NaN</td>\n      <td>NaN</td>\n      <td>AREA OPERATED: (1,000 TO 1,999 ACRES)</td>\n      <td>1597</td>\n      <td>6.0</td>\n    </tr>\n    <tr>\n      <th>297</th>\n      <td>1</td>\n      <td>1</td>\n      <td>14</td>\n      <td>1</td>\n      <td>ECONOMICS</td>\n      <td>FARM OPERATIONS - NUMBER OF OPERATIONS</td>\n      <td>FARM OPERATIONS</td>\n      <td>STATE</td>\n      <td>5</td>\n      <td>AR</td>\n      <td>Arkansas</td>\n      <td>NaN</td>\n      <td>NaN</td>\n      <td>AREA OPERATED: (2,000 OR MORE ACRES)</td>\n      <td>1464</td>\n      <td>7.0</td>\n    </tr>\n    <tr>\n      <th>2021</th>\n      <td>1</td>\n      <td>1</td>\n      <td>8</td>\n      <td>1</td>\n      <td>ECONOMICS</td>\n      <td>FARM OPERATIONS - NUMBER OF OPERATIONS</td>\n      <td>FARM OPERATIONS</td>\n      <td>STATE</td>\n      <td>5</td>\n      <td>AR</td>\n      <td>Arkansas</td>\n      <td>NaN</td>\n      <td>NaN</td>\n      <td>AREA OPERATED: (1.0 TO 9.9 ACRES)</td>\n      <td>2520</td>\n      <td>1.0</td>\n    </tr>\n    <tr>\n      <th>2084</th>\n      <td>1</td>\n      <td>1</td>\n      <td>10</td>\n      <td>1</td>\n      <td>ECONOMICS</td>\n      <td>FARM OPERATIONS - NUMBER OF OPERATIONS</td>\n      <td>FARM OPERATIONS</td>\n      <td>STATE</td>\n      <td>5</td>\n      <td>AR</td>\n      <td>Arkansas</td>\n      <td>NaN</td>\n      <td>NaN</td>\n      <td>AREA OPERATED: (50 TO 179 ACRES)</td>\n      <td>14838</td>\n      <td>3.0</td>\n    </tr>\n    <tr>\n      <th>2095</th>\n      <td>1</td>\n      <td>1</td>\n      <td>11</td>\n      <td>1</td>\n      <td>ECONOMICS</td>\n      <td>FARM OPERATIONS - NUMBER OF OPERATIONS</td>\n      <td>FARM OPERATIONS</td>\n      <td>STATE</td>\n      <td>5</td>\n      <td>AR</td>\n      <td>Arkansas</td>\n      <td>NaN</td>\n      <td>NaN</td>\n      <td>AREA OPERATED: (180 TO 499 ACRES)</td>\n      <td>8827</td>\n      <td>4.0</td>\n    </tr>\n    <tr>\n      <th>2146</th>\n      <td>1</td>\n      <td>1</td>\n      <td>12</td>\n      <td>1</td>\n      <td>ECONOMICS</td>\n      <td>FARM OPERATIONS - NUMBER OF OPERATIONS</td>\n      <td>FARM OPERATIONS</td>\n      <td>STATE</td>\n      <td>5</td>\n      <td>AR</td>\n      <td>Arkansas</td>\n      <td>NaN</td>\n      <td>NaN</td>\n      <td>AREA OPERATED: (500 TO 999 ACRES)</td>\n      <td>2975</td>\n      <td>5.0</td>\n    </tr>\n  </tbody>\n</table>\n</div>"
     },
     "metadata": {}
    }
   ]
  },
  {
   "cell_type": "markdown",
   "source": "As can be seen above, there is one row for Arkansas that doesn't include a `domaincat_desc` value. On first glance it looks like this could be a total row. Let's double check that assumption.",
   "metadata": {
    "tags": [],
    "cell_id": "00009-79027627-7a0f-44db-8ed9-04438c8539ba",
    "deepnote_cell_type": "markdown"
   }
  },
  {
   "cell_type": "code",
   "metadata": {
    "tags": [],
    "cell_id": "00007-438fde06-38b3-4e9d-917f-c4868cc28490",
    "deepnote_to_be_reexecuted": false,
    "source_hash": "a274a207",
    "execution_start": 1637875533767,
    "execution_millis": 22,
    "deepnote_output_heights": [
     173
    ],
    "deepnote_cell_type": "code"
   },
   "source": "no_domaincat_desc = num_farms_ark_df[\"domaincat_desc\"].isnull()\ntotal_farms_w_domaincat_desc = num_farms_ark_df.loc[no_domaincat_desc, \"value\"].sum()\ntotal_farms_no_domaincat_desc = num_farms_ark_df.loc[~no_domaincat_desc, \"value\"].sum()\nprint(\"Total farms that have a domaincat_desc value: \" + str(total_farms_w_domaincat_desc))\nprint(\"Total farms that don't have a domaincat_desc value: \" + str(total_farms_no_domaincat_desc))",
   "execution_count": 11,
   "outputs": [
    {
     "name": "stdout",
     "text": "Total farms that have a domaincat_desc value: 42625\nTotal farms that don't have a domaincat_desc value: 42625\n",
     "output_type": "stream"
    }
   ]
  },
  {
   "cell_type": "markdown",
   "source": "Now that we've verified that the rows without a `domaincat_desc` value are total rows, we can filter on these rows to get a table of state totals.",
   "metadata": {
    "tags": [],
    "cell_id": "00015-400aa372-d78f-4f5e-8b49-8091173b3874",
    "deepnote_cell_type": "markdown"
   }
  },
  {
   "cell_type": "code",
   "metadata": {
    "tags": [],
    "cell_id": "00015-b0cae09f-d87b-49a2-bf56-c24d9a0982b6",
    "deepnote_to_be_reexecuted": false,
    "source_hash": "6644e095",
    "execution_start": 1637875535169,
    "execution_millis": 28,
    "deepnote_cell_type": "code"
   },
   "source": "only_totals_rows = num_farms_df[\"domaincat_desc\"].isnull()\nnum_farms_totals = num_farms_df.loc[only_totals_rows, [ \"state_name\", \"value\"]].sort_values([\"value\"], ascending=False)\nnum_farms_totals = num_farms_totals.iloc[1:]\nnum_farms_totals.columns = [\"State\", \"Number_of_Farms\"]\nnum_farms_totals.reset_index(inplace=True, drop=True)\nnum_farms_totals",
   "execution_count": 12,
   "outputs": [
    {
     "output_type": "execute_result",
     "execution_count": 12,
     "data": {
      "application/vnd.deepnote.dataframe.v2+json": {
       "row_count": 50,
       "column_count": 2,
       "columns": [
        {
         "name": "State",
         "dtype": "object",
         "stats": {
          "unique_count": 50,
          "nan_count": 0,
          "categories": [
           {
            "name": "Texas",
            "count": 1
           },
           {
            "name": "Missouri",
            "count": 1
           },
           {
            "name": "48 others",
            "count": 48
           }
          ]
         }
        },
        {
         "name": "Number_of_Farms",
         "dtype": "int64",
         "stats": {
          "unique_count": 50,
          "nan_count": 0,
          "min": "990",
          "max": "248416",
          "histogram": [
           {
            "bin_start": 990,
            "bin_end": 25732.6,
            "count": 19
           },
           {
            "bin_start": 25732.6,
            "bin_end": 50475.2,
            "count": 17
           },
           {
            "bin_start": 50475.2,
            "bin_end": 75217.79999999999,
            "count": 8
           },
           {
            "bin_start": 75217.79999999999,
            "bin_end": 99960.4,
            "count": 5
           },
           {
            "bin_start": 99960.4,
            "bin_end": 124703,
            "count": 0
           },
           {
            "bin_start": 124703,
            "bin_end": 149445.59999999998,
            "count": 0
           },
           {
            "bin_start": 149445.59999999998,
            "bin_end": 174188.19999999998,
            "count": 0
           },
           {
            "bin_start": 174188.19999999998,
            "bin_end": 198930.8,
            "count": 0
           },
           {
            "bin_start": 198930.8,
            "bin_end": 223673.4,
            "count": 0
           },
           {
            "bin_start": 223673.4,
            "bin_end": 248416,
            "count": 1
           }
          ]
         }
        },
        {
         "name": "_deepnote_index_column",
         "dtype": "int64"
        }
       ],
       "rows_top": [
        {
         "State": "Texas",
         "Number_of_Farms": 248416,
         "_deepnote_index_column": 0
        },
        {
         "State": "Missouri",
         "Number_of_Farms": 95320,
         "_deepnote_index_column": 1
        },
        {
         "State": "Iowa",
         "Number_of_Farms": 86104,
         "_deepnote_index_column": 2
        },
        {
         "State": "Oklahoma",
         "Number_of_Farms": 78531,
         "_deepnote_index_column": 3
        },
        {
         "State": "Ohio",
         "Number_of_Farms": 77805,
         "_deepnote_index_column": 4
        },
        {
         "State": "Kentucky",
         "Number_of_Farms": 75966,
         "_deepnote_index_column": 5
        },
        {
         "State": "Illinois",
         "Number_of_Farms": 72651,
         "_deepnote_index_column": 6
        },
        {
         "State": "California",
         "Number_of_Farms": 70521,
         "_deepnote_index_column": 7
        },
        {
         "State": "Tennessee",
         "Number_of_Farms": 69983,
         "_deepnote_index_column": 8
        },
        {
         "State": "Minnesota",
         "Number_of_Farms": 68822,
         "_deepnote_index_column": 9
        },
        {
         "State": "Wisconsin",
         "Number_of_Farms": 64793,
         "_deepnote_index_column": 10
        },
        {
         "State": "Kansas",
         "Number_of_Farms": 58569,
         "_deepnote_index_column": 11
        },
        {
         "State": "Indiana",
         "Number_of_Farms": 56649,
         "_deepnote_index_column": 12
        },
        {
         "State": "Pennsylvania",
         "Number_of_Farms": 53157,
         "_deepnote_index_column": 13
        },
        {
         "State": "Michigan",
         "Number_of_Farms": 47641,
         "_deepnote_index_column": 14
        },
        {
         "State": "Florida",
         "Number_of_Farms": 47590,
         "_deepnote_index_column": 15
        },
        {
         "State": "North Carolina",
         "Number_of_Farms": 46418,
         "_deepnote_index_column": 16
        },
        {
         "State": "Nebraska",
         "Number_of_Farms": 46332,
         "_deepnote_index_column": 17
        },
        {
         "State": "Virginia",
         "Number_of_Farms": 43225,
         "_deepnote_index_column": 18
        },
        {
         "State": "Arkansas",
         "Number_of_Farms": 42625,
         "_deepnote_index_column": 19
        },
        {
         "State": "Georgia",
         "Number_of_Farms": 42439,
         "_deepnote_index_column": 20
        },
        {
         "State": "Alabama",
         "Number_of_Farms": 40592,
         "_deepnote_index_column": 21
        },
        {
         "State": "Colorado",
         "Number_of_Farms": 38893,
         "_deepnote_index_column": 22
        },
        {
         "State": "Oregon",
         "Number_of_Farms": 37616,
         "_deepnote_index_column": 23
        },
        {
         "State": "Washington",
         "Number_of_Farms": 35793,
         "_deepnote_index_column": 24
        },
        {
         "State": "Mississippi",
         "Number_of_Farms": 34988,
         "_deepnote_index_column": 25
        },
        {
         "State": "New York",
         "Number_of_Farms": 33438,
         "_deepnote_index_column": 26
        },
        {
         "State": "South Dakota",
         "Number_of_Farms": 29968,
         "_deepnote_index_column": 27
        },
        {
         "State": "Louisiana",
         "Number_of_Farms": 27386,
         "_deepnote_index_column": 28
        },
        {
         "State": "Montana",
         "Number_of_Farms": 27048,
         "_deepnote_index_column": 29
        },
        {
         "State": "North Dakota",
         "Number_of_Farms": 26364,
         "_deepnote_index_column": 30
        },
        {
         "State": "New Mexico",
         "Number_of_Farms": 25044,
         "_deepnote_index_column": 31
        },
        {
         "State": "Idaho",
         "Number_of_Farms": 24996,
         "_deepnote_index_column": 32
        },
        {
         "State": "South Carolina",
         "Number_of_Farms": 24791,
         "_deepnote_index_column": 33
        },
        {
         "State": "West Virginia",
         "Number_of_Farms": 23622,
         "_deepnote_index_column": 34
        },
        {
         "State": "Arizona",
         "Number_of_Farms": 19086,
         "_deepnote_index_column": 35
        },
        {
         "State": "Utah",
         "Number_of_Farms": 18409,
         "_deepnote_index_column": 36
        },
        {
         "State": "Maryland",
         "Number_of_Farms": 12429,
         "_deepnote_index_column": 37
        },
        {
         "State": "Wyoming",
         "Number_of_Farms": 11938,
         "_deepnote_index_column": 38
        },
        {
         "State": "New Jersey",
         "Number_of_Farms": 9883,
         "_deepnote_index_column": 39
        },
        {
         "State": "Maine",
         "Number_of_Farms": 7600,
         "_deepnote_index_column": 40
        },
        {
         "State": "Hawaii",
         "Number_of_Farms": 7328,
         "_deepnote_index_column": 41
        },
        {
         "State": "Massachusetts",
         "Number_of_Farms": 7241,
         "_deepnote_index_column": 42
        },
        {
         "State": "Vermont",
         "Number_of_Farms": 6808,
         "_deepnote_index_column": 43
        },
        {
         "State": "Connecticut",
         "Number_of_Farms": 5521,
         "_deepnote_index_column": 44
        },
        {
         "State": "New Hampshire",
         "Number_of_Farms": 4123,
         "_deepnote_index_column": 45
        },
        {
         "State": "Nevada",
         "Number_of_Farms": 3423,
         "_deepnote_index_column": 46
        },
        {
         "State": "Delaware",
         "Number_of_Farms": 2302,
         "_deepnote_index_column": 47
        },
        {
         "State": "Rhode Island",
         "Number_of_Farms": 1043,
         "_deepnote_index_column": 48
        },
        {
         "State": "Alaska",
         "Number_of_Farms": 990,
         "_deepnote_index_column": 49
        }
       ],
       "rows_bottom": null
      },
      "text/plain": "             State  Number_of_Farms\n0            Texas           248416\n1         Missouri            95320\n2             Iowa            86104\n3         Oklahoma            78531\n4             Ohio            77805\n5         Kentucky            75966\n6         Illinois            72651\n7       California            70521\n8        Tennessee            69983\n9        Minnesota            68822\n10       Wisconsin            64793\n11          Kansas            58569\n12         Indiana            56649\n13    Pennsylvania            53157\n14        Michigan            47641\n15         Florida            47590\n16  North Carolina            46418\n17        Nebraska            46332\n18        Virginia            43225\n19        Arkansas            42625\n20         Georgia            42439\n21         Alabama            40592\n22        Colorado            38893\n23          Oregon            37616\n24      Washington            35793\n25     Mississippi            34988\n26        New York            33438\n27    South Dakota            29968\n28       Louisiana            27386\n29         Montana            27048\n30    North Dakota            26364\n31      New Mexico            25044\n32           Idaho            24996\n33  South Carolina            24791\n34   West Virginia            23622\n35         Arizona            19086\n36            Utah            18409\n37        Maryland            12429\n38         Wyoming            11938\n39      New Jersey             9883\n40           Maine             7600\n41          Hawaii             7328\n42   Massachusetts             7241\n43         Vermont             6808\n44     Connecticut             5521\n45   New Hampshire             4123\n46          Nevada             3423\n47        Delaware             2302\n48    Rhode Island             1043\n49          Alaska              990",
      "text/html": "<div>\n<style scoped>\n    .dataframe tbody tr th:only-of-type {\n        vertical-align: middle;\n    }\n\n    .dataframe tbody tr th {\n        vertical-align: top;\n    }\n\n    .dataframe thead th {\n        text-align: right;\n    }\n</style>\n<table border=\"1\" class=\"dataframe\">\n  <thead>\n    <tr style=\"text-align: right;\">\n      <th></th>\n      <th>State</th>\n      <th>Number_of_Farms</th>\n    </tr>\n  </thead>\n  <tbody>\n    <tr>\n      <th>0</th>\n      <td>Texas</td>\n      <td>248416</td>\n    </tr>\n    <tr>\n      <th>1</th>\n      <td>Missouri</td>\n      <td>95320</td>\n    </tr>\n    <tr>\n      <th>2</th>\n      <td>Iowa</td>\n      <td>86104</td>\n    </tr>\n    <tr>\n      <th>3</th>\n      <td>Oklahoma</td>\n      <td>78531</td>\n    </tr>\n    <tr>\n      <th>4</th>\n      <td>Ohio</td>\n      <td>77805</td>\n    </tr>\n    <tr>\n      <th>5</th>\n      <td>Kentucky</td>\n      <td>75966</td>\n    </tr>\n    <tr>\n      <th>6</th>\n      <td>Illinois</td>\n      <td>72651</td>\n    </tr>\n    <tr>\n      <th>7</th>\n      <td>California</td>\n      <td>70521</td>\n    </tr>\n    <tr>\n      <th>8</th>\n      <td>Tennessee</td>\n      <td>69983</td>\n    </tr>\n    <tr>\n      <th>9</th>\n      <td>Minnesota</td>\n      <td>68822</td>\n    </tr>\n    <tr>\n      <th>10</th>\n      <td>Wisconsin</td>\n      <td>64793</td>\n    </tr>\n    <tr>\n      <th>11</th>\n      <td>Kansas</td>\n      <td>58569</td>\n    </tr>\n    <tr>\n      <th>12</th>\n      <td>Indiana</td>\n      <td>56649</td>\n    </tr>\n    <tr>\n      <th>13</th>\n      <td>Pennsylvania</td>\n      <td>53157</td>\n    </tr>\n    <tr>\n      <th>14</th>\n      <td>Michigan</td>\n      <td>47641</td>\n    </tr>\n    <tr>\n      <th>15</th>\n      <td>Florida</td>\n      <td>47590</td>\n    </tr>\n    <tr>\n      <th>16</th>\n      <td>North Carolina</td>\n      <td>46418</td>\n    </tr>\n    <tr>\n      <th>17</th>\n      <td>Nebraska</td>\n      <td>46332</td>\n    </tr>\n    <tr>\n      <th>18</th>\n      <td>Virginia</td>\n      <td>43225</td>\n    </tr>\n    <tr>\n      <th>19</th>\n      <td>Arkansas</td>\n      <td>42625</td>\n    </tr>\n    <tr>\n      <th>20</th>\n      <td>Georgia</td>\n      <td>42439</td>\n    </tr>\n    <tr>\n      <th>21</th>\n      <td>Alabama</td>\n      <td>40592</td>\n    </tr>\n    <tr>\n      <th>22</th>\n      <td>Colorado</td>\n      <td>38893</td>\n    </tr>\n    <tr>\n      <th>23</th>\n      <td>Oregon</td>\n      <td>37616</td>\n    </tr>\n    <tr>\n      <th>24</th>\n      <td>Washington</td>\n      <td>35793</td>\n    </tr>\n    <tr>\n      <th>25</th>\n      <td>Mississippi</td>\n      <td>34988</td>\n    </tr>\n    <tr>\n      <th>26</th>\n      <td>New York</td>\n      <td>33438</td>\n    </tr>\n    <tr>\n      <th>27</th>\n      <td>South Dakota</td>\n      <td>29968</td>\n    </tr>\n    <tr>\n      <th>28</th>\n      <td>Louisiana</td>\n      <td>27386</td>\n    </tr>\n    <tr>\n      <th>29</th>\n      <td>Montana</td>\n      <td>27048</td>\n    </tr>\n    <tr>\n      <th>30</th>\n      <td>North Dakota</td>\n      <td>26364</td>\n    </tr>\n    <tr>\n      <th>31</th>\n      <td>New Mexico</td>\n      <td>25044</td>\n    </tr>\n    <tr>\n      <th>32</th>\n      <td>Idaho</td>\n      <td>24996</td>\n    </tr>\n    <tr>\n      <th>33</th>\n      <td>South Carolina</td>\n      <td>24791</td>\n    </tr>\n    <tr>\n      <th>34</th>\n      <td>West Virginia</td>\n      <td>23622</td>\n    </tr>\n    <tr>\n      <th>35</th>\n      <td>Arizona</td>\n      <td>19086</td>\n    </tr>\n    <tr>\n      <th>36</th>\n      <td>Utah</td>\n      <td>18409</td>\n    </tr>\n    <tr>\n      <th>37</th>\n      <td>Maryland</td>\n      <td>12429</td>\n    </tr>\n    <tr>\n      <th>38</th>\n      <td>Wyoming</td>\n      <td>11938</td>\n    </tr>\n    <tr>\n      <th>39</th>\n      <td>New Jersey</td>\n      <td>9883</td>\n    </tr>\n    <tr>\n      <th>40</th>\n      <td>Maine</td>\n      <td>7600</td>\n    </tr>\n    <tr>\n      <th>41</th>\n      <td>Hawaii</td>\n      <td>7328</td>\n    </tr>\n    <tr>\n      <th>42</th>\n      <td>Massachusetts</td>\n      <td>7241</td>\n    </tr>\n    <tr>\n      <th>43</th>\n      <td>Vermont</td>\n      <td>6808</td>\n    </tr>\n    <tr>\n      <th>44</th>\n      <td>Connecticut</td>\n      <td>5521</td>\n    </tr>\n    <tr>\n      <th>45</th>\n      <td>New Hampshire</td>\n      <td>4123</td>\n    </tr>\n    <tr>\n      <th>46</th>\n      <td>Nevada</td>\n      <td>3423</td>\n    </tr>\n    <tr>\n      <th>47</th>\n      <td>Delaware</td>\n      <td>2302</td>\n    </tr>\n    <tr>\n      <th>48</th>\n      <td>Rhode Island</td>\n      <td>1043</td>\n    </tr>\n    <tr>\n      <th>49</th>\n      <td>Alaska</td>\n      <td>990</td>\n    </tr>\n  </tbody>\n</table>\n</div>"
     },
     "metadata": {}
    }
   ]
  },
  {
   "cell_type": "code",
   "metadata": {
    "tags": [],
    "cell_id": "00017-6359e8ec-ab9a-4a41-8864-893d08c970e5",
    "deepnote_to_be_reexecuted": false,
    "source_hash": "55ee731f",
    "execution_start": 1637875536351,
    "execution_millis": 24,
    "deepnote_cell_type": "code"
   },
   "source": "num_farms_totals[\"Percent_US_Total\"] = (num_farms_totals[\"Number_of_Farms\"] / num_farms_totals[\"Number_of_Farms\"].sum()) * 100\nprint(\"The 5 U.S. states with the most farms are:\\n\")\nprint(num_farms_totals.iloc[0:5])",
   "execution_count": 13,
   "outputs": [
    {
     "name": "stdout",
     "text": "The 5 U.S. states with the most farms are:\n\n      State  Number_of_Farms  Percent_US_Total\n0     Texas           248416         12.164018\n1  Missouri            95320          4.667470\n2      Iowa            86104          4.216196\n3  Oklahoma            78531          3.845374\n4      Ohio            77805          3.809825\n",
     "output_type": "stream"
    }
   ]
  },
  {
   "cell_type": "markdown",
   "source": "In addition to viewing the state totals in a table, let's plot out the results in a map format.",
   "metadata": {
    "tags": [],
    "cell_id": "00006-07bca7ad-04bd-4bd9-9698-3f8e6d1f5983",
    "deepnote_cell_type": "markdown"
   }
  },
  {
   "cell_type": "code",
   "metadata": {
    "tags": [],
    "cell_id": "00020-a434edee-427a-4ddb-a9c7-7df0966a494b",
    "deepnote_to_be_reexecuted": false,
    "source_hash": "753e3a3d",
    "execution_start": 1637875537624,
    "execution_millis": 3,
    "deepnote_cell_type": "code"
   },
   "source": "def plot_map(df, state_col, intensity_col, title=False, cmap=\"OrRd\", legend=False):\n    usa = gpd.read_file(\"./cb_2018_us_state_20m/cb_2018_us_state_20m.shp\")\n    continental_us = usa.loc[~usa[\"NAME\"].isin([\"Alaska\", \"Hawaii\", \"Puerto Rico\"])].copy()  # Filtering to have a simple continental map\n    merged_df = continental_us.merge(df, how=\"left\", left_on=\"NAME\", right_on=state_col)\n    merged_df.plot(column=intensity_col, cmap=cmap, legend=legend)\n    plt.axis('off')\n    if title:\n        plt.title(title)\n    return plt.show()",
   "execution_count": 14,
   "outputs": []
  },
  {
   "cell_type": "code",
   "metadata": {
    "tags": [],
    "cell_id": "00019-bc3d6b54-0a15-410d-92d1-d26a29a0c152",
    "deepnote_to_be_reexecuted": false,
    "source_hash": "78fa5ff7",
    "execution_start": 1637875584645,
    "execution_millis": 247,
    "deepnote_output_heights": [
     212
    ],
    "deepnote_cell_type": "code"
   },
   "source": "plot_map(num_farms_totals, \"State\", \"Number_of_Farms\", title=\"Total # of Farms per State\")",
   "execution_count": 18,
   "outputs": [
    {
     "data": {
      "text/plain": "<Figure size 432x288 with 1 Axes>",
      "image/png": "[encoded data removed]"
     },
     "metadata": {
      "needs_background": "light",
      "image/png": {
       "width": 349,
       "height": 210
      }
     },
     "output_type": "display_data"
    }
   ]
  },
  {
   "cell_type": "markdown",
   "source": "Wow! From this map and the previous table, we can see that Texas has far and away the most farms of any state in the U.S. with over 12% of the nation total.\n\nOne question that immediately comes to my mind though, is what this map would look like if we took a look at # of farms ***per capita***. This could really show us which states are \"farm states\" as opposed to states that just have a large population in general. ",
   "metadata": {
    "tags": [],
    "cell_id": "00020-9646eed5-1415-4be3-9d96-df1b357fc01c",
    "deepnote_cell_type": "markdown"
   }
  },
  {
   "cell_type": "code",
   "metadata": {
    "tags": [],
    "cell_id": "00021-a1c0af5f-fdd4-4326-b6e4-439efad17e76",
    "deepnote_to_be_reexecuted": false,
    "source_hash": "b72f5266",
    "execution_start": 1637875595201,
    "execution_millis": 3958,
    "deepnote_output_heights": [
     611
    ],
    "deepnote_cell_type": "code"
   },
   "source": "state_pop_df_raw = pd.read_excel(\"https://www2.census.gov/programs-surveys/popest/tables/2010-2019/state/totals/nst-est2019-01.xlsx\")\nrows_to_drop = [0 , 1, 2] + list(range(3,8)) + list(range(59, 66))\n\nnew_header_row = state_pop_df_raw.iloc[2].copy()\nnew_header_row[0] = \"State\"\n\nstate_pop_df = state_pop_df_raw.drop(rows_to_drop)\n# state_pop_df.reset_index(inplace=True)\nstate_pop_df.columns = new_header_row\nstate_pop_df[\"State\"] = state_pop_df[\"State\"].str.replace(\".\", \"\", regex=True)\nstate_pop_df.reset_index(drop=True, inplace=True)\n\npopulation_2017 = state_pop_df[[\"State\", 2017]]\npopulation_2017.columns = [\"State\",  \"Population\"]\npopulation_2017",
   "execution_count": 19,
   "outputs": [
    {
     "output_type": "execute_result",
     "execution_count": 19,
     "data": {
      "application/vnd.deepnote.dataframe.v2+json": {
       "row_count": 51,
       "column_count": 2,
       "columns": [
        {
         "name": "State",
         "dtype": "object",
         "stats": {
          "unique_count": 51,
          "nan_count": 0,
          "categories": [
           {
            "name": "Alabama",
            "count": 1
           },
           {
            "name": "Alaska",
            "count": 1
           },
           {
            "name": "49 others",
            "count": 49
           }
          ]
         }
        },
        {
         "name": "Population",
         "dtype": "float64",
         "stats": {
          "unique_count": 51,
          "nan_count": 0,
          "min": "578931.0",
          "max": "39358497.0",
          "histogram": [
           {
            "bin_start": 578931,
            "bin_end": 4456887.6,
            "count": 26
           },
           {
            "bin_start": 4456887.6,
            "bin_end": 8334844.2,
            "count": 13
           },
           {
            "bin_start": 8334844.2,
            "bin_end": 12212800.8,
            "count": 6
           },
           {
            "bin_start": 12212800.8,
            "bin_end": 16090757.4,
            "count": 2
           },
           {
            "bin_start": 16090757.4,
            "bin_end": 19968714,
            "count": 1
           },
           {
            "bin_start": 19968714,
            "bin_end": 23846670.6,
            "count": 1
           },
           {
            "bin_start": 23846670.6,
            "bin_end": 27724627.2,
            "count": 0
           },
           {
            "bin_start": 27724627.2,
            "bin_end": 31602583.8,
            "count": 1
           },
           {
            "bin_start": 31602583.8,
            "bin_end": 35480540.4,
            "count": 0
           },
           {
            "bin_start": 35480540.4,
            "bin_end": 39358497,
            "count": 1
           }
          ]
         }
        },
        {
         "name": "_deepnote_index_column",
         "dtype": "int64"
        }
       ],
       "rows_top": [
        {
         "State": "Alabama",
         "Population": 4874486,
         "_deepnote_index_column": 0
        },
        {
         "State": "Alaska",
         "Population": 739700,
         "_deepnote_index_column": 1
        },
        {
         "State": "Arizona",
         "Population": 7044008,
         "_deepnote_index_column": 2
        },
        {
         "State": "Arkansas",
         "Population": 3001345,
         "_deepnote_index_column": 3
        },
        {
         "State": "California",
         "Population": 39358497,
         "_deepnote_index_column": 4
        },
        {
         "State": "Colorado",
         "Population": 5611885,
         "_deepnote_index_column": 5
        },
        {
         "State": "Connecticut",
         "Population": 3573297,
         "_deepnote_index_column": 6
        },
        {
         "State": "Delaware",
         "Population": 956823,
         "_deepnote_index_column": 7
        },
        {
         "State": "District of Columbia",
         "Population": 694906,
         "_deepnote_index_column": 8
        },
        {
         "State": "Florida",
         "Population": 20963613,
         "_deepnote_index_column": 9
        },
        {
         "State": "Georgia",
         "Population": 10410330,
         "_deepnote_index_column": 10
        },
        {
         "State": "Hawaii",
         "Population": 1424393,
         "_deepnote_index_column": 11
        },
        {
         "State": "Idaho",
         "Population": 1717715,
         "_deepnote_index_column": 12
        },
        {
         "State": "Illinois",
         "Population": 12778828,
         "_deepnote_index_column": 13
        },
        {
         "State": "Indiana",
         "Population": 6658078,
         "_deepnote_index_column": 14
        },
        {
         "State": "Iowa",
         "Population": 3141550,
         "_deepnote_index_column": 15
        },
        {
         "State": "Kansas",
         "Population": 2908718,
         "_deepnote_index_column": 16
        },
        {
         "State": "Kentucky",
         "Population": 4452268,
         "_deepnote_index_column": 17
        },
        {
         "State": "Louisiana",
         "Population": 4670560,
         "_deepnote_index_column": 18
        },
        {
         "State": "Maine",
         "Population": 1334612,
         "_deepnote_index_column": 19
        },
        {
         "State": "Maryland",
         "Population": 6023868,
         "_deepnote_index_column": 20
        },
        {
         "State": "Massachusetts",
         "Population": 6859789,
         "_deepnote_index_column": 21
        },
        {
         "State": "Michigan",
         "Population": 9973114,
         "_deepnote_index_column": 22
        },
        {
         "State": "Minnesota",
         "Population": 5566230,
         "_deepnote_index_column": 23
        },
        {
         "State": "Mississippi",
         "Population": 2988510,
         "_deepnote_index_column": 24
        },
        {
         "State": "Missouri",
         "Population": 6106670,
         "_deepnote_index_column": 25
        },
        {
         "State": "Montana",
         "Population": 1052482,
         "_deepnote_index_column": 26
        },
        {
         "State": "Nebraska",
         "Population": 1915947,
         "_deepnote_index_column": 27
        },
        {
         "State": "Nevada",
         "Population": 2969905,
         "_deepnote_index_column": 28
        },
        {
         "State": "New Hampshire",
         "Population": 1348787,
         "_deepnote_index_column": 29
        },
        {
         "State": "New Jersey",
         "Population": 8885525,
         "_deepnote_index_column": 30
        },
        {
         "State": "New Mexico",
         "Population": 2091784,
         "_deepnote_index_column": 31
        },
        {
         "State": "New York",
         "Population": 19589572,
         "_deepnote_index_column": 32
        },
        {
         "State": "North Carolina",
         "Population": 10268233,
         "_deepnote_index_column": 33
        },
        {
         "State": "North Dakota",
         "Population": 754942,
         "_deepnote_index_column": 34
        },
        {
         "State": "Ohio",
         "Population": 11659650,
         "_deepnote_index_column": 35
        },
        {
         "State": "Oklahoma",
         "Population": 3931316,
         "_deepnote_index_column": 36
        },
        {
         "State": "Oregon",
         "Population": 4143625,
         "_deepnote_index_column": 37
        },
        {
         "State": "Pennsylvania",
         "Population": 12787641,
         "_deepnote_index_column": 38
        },
        {
         "State": "Rhode Island",
         "Population": 1055673,
         "_deepnote_index_column": 39
        },
        {
         "State": "South Carolina",
         "Population": 5021268,
         "_deepnote_index_column": 40
        },
        {
         "State": "South Dakota",
         "Population": 872868,
         "_deepnote_index_column": 41
        },
        {
         "State": "Tennessee",
         "Population": 6708799,
         "_deepnote_index_column": 42
        },
        {
         "State": "Texas",
         "Population": 28295273,
         "_deepnote_index_column": 43
        },
        {
         "State": "Utah",
         "Population": 3101042,
         "_deepnote_index_column": 44
        },
        {
         "State": "Vermont",
         "Population": 624344,
         "_deepnote_index_column": 45
        },
        {
         "State": "Virginia",
         "Population": 8463587,
         "_deepnote_index_column": 46
        },
        {
         "State": "Washington",
         "Population": 7423362,
         "_deepnote_index_column": 47
        },
        {
         "State": "West Virginia",
         "Population": 1817004,
         "_deepnote_index_column": 48
        },
        {
         "State": "Wisconsin",
         "Population": 5790186,
         "_deepnote_index_column": 49
        },
        {
         "State": "Wyoming",
         "Population": 578931,
         "_deepnote_index_column": 50
        }
       ],
       "rows_bottom": null
      },
      "text/plain": "                   State  Population\n0                Alabama   4874486.0\n1                 Alaska    739700.0\n2                Arizona   7044008.0\n3               Arkansas   3001345.0\n4             California  39358497.0\n5               Colorado   5611885.0\n6            Connecticut   3573297.0\n7               Delaware    956823.0\n8   District of Columbia    694906.0\n9                Florida  20963613.0\n10               Georgia  10410330.0\n11                Hawaii   1424393.0\n12                 Idaho   1717715.0\n13              Illinois  12778828.0\n14               Indiana   6658078.0\n15                  Iowa   3141550.0\n16                Kansas   2908718.0\n17              Kentucky   4452268.0\n18             Louisiana   4670560.0\n19                 Maine   1334612.0\n20              Maryland   6023868.0\n21         Massachusetts   6859789.0\n22              Michigan   9973114.0\n23             Minnesota   5566230.0\n24           Mississippi   2988510.0\n25              Missouri   6106670.0\n26               Montana   1052482.0\n27              Nebraska   1915947.0\n28                Nevada   2969905.0\n29         New Hampshire   1348787.0\n30            New Jersey   8885525.0\n31            New Mexico   2091784.0\n32              New York  19589572.0\n33        North Carolina  10268233.0\n34          North Dakota    754942.0\n35                  Ohio  11659650.0\n36              Oklahoma   3931316.0\n37                Oregon   4143625.0\n38          Pennsylvania  12787641.0\n39          Rhode Island   1055673.0\n40        South Carolina   5021268.0\n41          South Dakota    872868.0\n42             Tennessee   6708799.0\n43                 Texas  28295273.0\n44                  Utah   3101042.0\n45               Vermont    624344.0\n46              Virginia   8463587.0\n47            Washington   7423362.0\n48         West Virginia   1817004.0\n49             Wisconsin   5790186.0\n50               Wyoming    578931.0",
      "text/html": "<div>\n<style scoped>\n    .dataframe tbody tr th:only-of-type {\n        vertical-align: middle;\n    }\n\n    .dataframe tbody tr th {\n        vertical-align: top;\n    }\n\n    .dataframe thead th {\n        text-align: right;\n    }\n</style>\n<table border=\"1\" class=\"dataframe\">\n  <thead>\n    <tr style=\"text-align: right;\">\n      <th></th>\n      <th>State</th>\n      <th>Population</th>\n    </tr>\n  </thead>\n  <tbody>\n    <tr>\n      <th>0</th>\n      <td>Alabama</td>\n      <td>4874486.0</td>\n    </tr>\n    <tr>\n      <th>1</th>\n      <td>Alaska</td>\n      <td>739700.0</td>\n    </tr>\n    <tr>\n      <th>2</th>\n      <td>Arizona</td>\n      <td>7044008.0</td>\n    </tr>\n    <tr>\n      <th>3</th>\n      <td>Arkansas</td>\n      <td>3001345.0</td>\n    </tr>\n    <tr>\n      <th>4</th>\n      <td>California</td>\n      <td>39358497.0</td>\n    </tr>\n    <tr>\n      <th>5</th>\n      <td>Colorado</td>\n      <td>5611885.0</td>\n    </tr>\n    <tr>\n      <th>6</th>\n      <td>Connecticut</td>\n      <td>3573297.0</td>\n    </tr>\n    <tr>\n      <th>7</th>\n      <td>Delaware</td>\n      <td>956823.0</td>\n    </tr>\n    <tr>\n      <th>8</th>\n      <td>District of Columbia</td>\n      <td>694906.0</td>\n    </tr>\n    <tr>\n      <th>9</th>\n      <td>Florida</td>\n      <td>20963613.0</td>\n    </tr>\n    <tr>\n      <th>10</th>\n      <td>Georgia</td>\n      <td>10410330.0</td>\n    </tr>\n    <tr>\n      <th>11</th>\n      <td>Hawaii</td>\n      <td>1424393.0</td>\n    </tr>\n    <tr>\n      <th>12</th>\n      <td>Idaho</td>\n      <td>1717715.0</td>\n    </tr>\n    <tr>\n      <th>13</th>\n      <td>Illinois</td>\n      <td>12778828.0</td>\n    </tr>\n    <tr>\n      <th>14</th>\n      <td>Indiana</td>\n      <td>6658078.0</td>\n    </tr>\n    <tr>\n      <th>15</th>\n      <td>Iowa</td>\n      <td>3141550.0</td>\n    </tr>\n    <tr>\n      <th>16</th>\n      <td>Kansas</td>\n      <td>2908718.0</td>\n    </tr>\n    <tr>\n      <th>17</th>\n      <td>Kentucky</td>\n      <td>4452268.0</td>\n    </tr>\n    <tr>\n      <th>18</th>\n      <td>Louisiana</td>\n      <td>4670560.0</td>\n    </tr>\n    <tr>\n      <th>19</th>\n      <td>Maine</td>\n      <td>1334612.0</td>\n    </tr>\n    <tr>\n      <th>20</th>\n      <td>Maryland</td>\n      <td>6023868.0</td>\n    </tr>\n    <tr>\n      <th>21</th>\n      <td>Massachusetts</td>\n      <td>6859789.0</td>\n    </tr>\n    <tr>\n      <th>22</th>\n      <td>Michigan</td>\n      <td>9973114.0</td>\n    </tr>\n    <tr>\n      <th>23</th>\n      <td>Minnesota</td>\n      <td>5566230.0</td>\n    </tr>\n    <tr>\n      <th>24</th>\n      <td>Mississippi</td>\n      <td>2988510.0</td>\n    </tr>\n    <tr>\n      <th>25</th>\n      <td>Missouri</td>\n      <td>6106670.0</td>\n    </tr>\n    <tr>\n      <th>26</th>\n      <td>Montana</td>\n      <td>1052482.0</td>\n    </tr>\n    <tr>\n      <th>27</th>\n      <td>Nebraska</td>\n      <td>1915947.0</td>\n    </tr>\n    <tr>\n      <th>28</th>\n      <td>Nevada</td>\n      <td>2969905.0</td>\n    </tr>\n    <tr>\n      <th>29</th>\n      <td>New Hampshire</td>\n      <td>1348787.0</td>\n    </tr>\n    <tr>\n      <th>30</th>\n      <td>New Jersey</td>\n      <td>8885525.0</td>\n    </tr>\n    <tr>\n      <th>31</th>\n      <td>New Mexico</td>\n      <td>2091784.0</td>\n    </tr>\n    <tr>\n      <th>32</th>\n      <td>New York</td>\n      <td>19589572.0</td>\n    </tr>\n    <tr>\n      <th>33</th>\n      <td>North Carolina</td>\n      <td>10268233.0</td>\n    </tr>\n    <tr>\n      <th>34</th>\n      <td>North Dakota</td>\n      <td>754942.0</td>\n    </tr>\n    <tr>\n      <th>35</th>\n      <td>Ohio</td>\n      <td>11659650.0</td>\n    </tr>\n    <tr>\n      <th>36</th>\n      <td>Oklahoma</td>\n      <td>3931316.0</td>\n    </tr>\n    <tr>\n      <th>37</th>\n      <td>Oregon</td>\n      <td>4143625.0</td>\n    </tr>\n    <tr>\n      <th>38</th>\n      <td>Pennsylvania</td>\n      <td>12787641.0</td>\n    </tr>\n    <tr>\n      <th>39</th>\n      <td>Rhode Island</td>\n      <td>1055673.0</td>\n    </tr>\n    <tr>\n      <th>40</th>\n      <td>South Carolina</td>\n      <td>5021268.0</td>\n    </tr>\n    <tr>\n      <th>41</th>\n      <td>South Dakota</td>\n      <td>872868.0</td>\n    </tr>\n    <tr>\n      <th>42</th>\n      <td>Tennessee</td>\n      <td>6708799.0</td>\n    </tr>\n    <tr>\n      <th>43</th>\n      <td>Texas</td>\n      <td>28295273.0</td>\n    </tr>\n    <tr>\n      <th>44</th>\n      <td>Utah</td>\n      <td>3101042.0</td>\n    </tr>\n    <tr>\n      <th>45</th>\n      <td>Vermont</td>\n      <td>624344.0</td>\n    </tr>\n    <tr>\n      <th>46</th>\n      <td>Virginia</td>\n      <td>8463587.0</td>\n    </tr>\n    <tr>\n      <th>47</th>\n      <td>Washington</td>\n      <td>7423362.0</td>\n    </tr>\n    <tr>\n      <th>48</th>\n      <td>West Virginia</td>\n      <td>1817004.0</td>\n    </tr>\n    <tr>\n      <th>49</th>\n      <td>Wisconsin</td>\n      <td>5790186.0</td>\n    </tr>\n    <tr>\n      <th>50</th>\n      <td>Wyoming</td>\n      <td>578931.0</td>\n    </tr>\n  </tbody>\n</table>\n</div>"
     },
     "metadata": {}
    }
   ]
  },
  {
   "cell_type": "markdown",
   "source": "Now we can merge this new population data with our `num_farms_totals` dataframe.",
   "metadata": {
    "tags": [],
    "cell_id": "00023-3d430c8c-0e15-48e8-b049-ee6e2d234f40",
    "deepnote_cell_type": "markdown"
   }
  },
  {
   "cell_type": "code",
   "metadata": {
    "tags": [],
    "cell_id": "00023-dd56aa84-ec34-4a3c-86a8-44d913dd96b0",
    "deepnote_to_be_reexecuted": false,
    "source_hash": "44af0626",
    "execution_start": 1637875611569,
    "execution_millis": 88,
    "deepnote_cell_type": "code"
   },
   "source": "farms_per_capita = num_farms_totals.merge(population_2017, how=\"left\", left_on=\"State\", right_on=\"State\")\nfarms_per_capita[\"Farms_per_1000_people\"] = farms_per_capita[\"Number_of_Farms\"] / (farms_per_capita[\"Population\"]/1000)\nfarms_per_capita.sort_values(\"Farms_per_1000_people\", inplace=True, ascending=False)\nfarms_per_capita.reset_index(drop=True, inplace=True)\nfarms_per_capita",
   "execution_count": 20,
   "outputs": [
    {
     "output_type": "execute_result",
     "execution_count": 20,
     "data": {
      "application/vnd.deepnote.dataframe.v2+json": {
       "row_count": 50,
       "column_count": 5,
       "columns": [
        {
         "name": "State",
         "dtype": "object",
         "stats": {
          "unique_count": 50,
          "nan_count": 0,
          "categories": [
           {
            "name": "North Dakota",
            "count": 1
           },
           {
            "name": "South Dakota",
            "count": 1
           },
           {
            "name": "48 others",
            "count": 48
           }
          ]
         }
        },
        {
         "name": "Number_of_Farms",
         "dtype": "int64",
         "stats": {
          "unique_count": 50,
          "nan_count": 0,
          "min": "990",
          "max": "248416",
          "histogram": [
           {
            "bin_start": 990,
            "bin_end": 25732.6,
            "count": 19
           },
           {
            "bin_start": 25732.6,
            "bin_end": 50475.2,
            "count": 17
           },
           {
            "bin_start": 50475.2,
            "bin_end": 75217.79999999999,
            "count": 8
           },
           {
            "bin_start": 75217.79999999999,
            "bin_end": 99960.4,
            "count": 5
           },
           {
            "bin_start": 99960.4,
            "bin_end": 124703,
            "count": 0
           },
           {
            "bin_start": 124703,
            "bin_end": 149445.59999999998,
            "count": 0
           },
           {
            "bin_start": 149445.59999999998,
            "bin_end": 174188.19999999998,
            "count": 0
           },
           {
            "bin_start": 174188.19999999998,
            "bin_end": 198930.8,
            "count": 0
           },
           {
            "bin_start": 198930.8,
            "bin_end": 223673.4,
            "count": 0
           },
           {
            "bin_start": 223673.4,
            "bin_end": 248416,
            "count": 1
           }
          ]
         }
        },
        {
         "name": "Percent_US_Total",
         "dtype": "float64",
         "stats": {
          "unique_count": 50,
          "nan_count": 0,
          "min": "0.04847665775479625",
          "max": "12.16401758870249",
          "histogram": [
           {
            "bin_start": 0.04847665775479625,
            "bin_end": 1.2600307508495656,
            "count": 19
           },
           {
            "bin_start": 1.2600307508495656,
            "bin_end": 2.4715848439443353,
            "count": 17
           },
           {
            "bin_start": 2.4715848439443353,
            "bin_end": 3.6831389370391046,
            "count": 8
           },
           {
            "bin_start": 3.6831389370391046,
            "bin_end": 4.894693030133874,
            "count": 5
           },
           {
            "bin_start": 4.894693030133874,
            "bin_end": 6.106247123228644,
            "count": 0
           },
           {
            "bin_start": 6.106247123228644,
            "bin_end": 7.317801216323413,
            "count": 0
           },
           {
            "bin_start": 7.317801216323413,
            "bin_end": 8.529355309418182,
            "count": 0
           },
           {
            "bin_start": 8.529355309418182,
            "bin_end": 9.740909402512951,
            "count": 0
           },
           {
            "bin_start": 9.740909402512951,
            "bin_end": 10.95246349560772,
            "count": 0
           },
           {
            "bin_start": 10.95246349560772,
            "bin_end": 12.16401758870249,
            "count": 1
           }
          ]
         }
        },
        {
         "name": "Population",
         "dtype": "float64",
         "stats": {
          "unique_count": 50,
          "nan_count": 0,
          "min": "578931.0",
          "max": "39358497.0",
          "histogram": [
           {
            "bin_start": 578931,
            "bin_end": 4456887.6,
            "count": 25
           },
           {
            "bin_start": 4456887.6,
            "bin_end": 8334844.2,
            "count": 13
           },
           {
            "bin_start": 8334844.2,
            "bin_end": 12212800.8,
            "count": 6
           },
           {
            "bin_start": 12212800.8,
            "bin_end": 16090757.4,
            "count": 2
           },
           {
            "bin_start": 16090757.4,
            "bin_end": 19968714,
            "count": 1
           },
           {
            "bin_start": 19968714,
            "bin_end": 23846670.6,
            "count": 1
           },
           {
            "bin_start": 23846670.6,
            "bin_end": 27724627.2,
            "count": 0
           },
           {
            "bin_start": 27724627.2,
            "bin_end": 31602583.8,
            "count": 1
           },
           {
            "bin_start": 31602583.8,
            "bin_end": 35480540.4,
            "count": 0
           },
           {
            "bin_start": 35480540.4,
            "bin_end": 39358497,
            "count": 1
           }
          ]
         }
        },
        {
         "name": "Farms_per_1000_people",
         "dtype": "float64",
         "stats": {
          "unique_count": 50,
          "nan_count": 0,
          "min": "0.987995335676862",
          "max": "34.921888039081146",
          "histogram": [
           {
            "bin_start": 0.987995335676862,
            "bin_end": 4.38138460601729,
            "count": 15
           },
           {
            "bin_start": 4.38138460601729,
            "bin_end": 7.7747738763577185,
            "count": 12
           },
           {
            "bin_start": 7.7747738763577185,
            "bin_end": 11.168163146698147,
            "count": 6
           },
           {
            "bin_start": 11.168163146698147,
            "bin_end": 14.561552417038575,
            "count": 7
           },
           {
            "bin_start": 14.561552417038575,
            "bin_end": 17.954941687379005,
            "count": 2
           },
           {
            "bin_start": 17.954941687379005,
            "bin_end": 21.348330957719433,
            "count": 3
           },
           {
            "bin_start": 21.348330957719433,
            "bin_end": 24.74172022805986,
            "count": 1
           },
           {
            "bin_start": 24.74172022805986,
            "bin_end": 28.13510949840029,
            "count": 2
           },
           {
            "bin_start": 28.13510949840029,
            "bin_end": 31.528498768740718,
            "count": 0
           },
           {
            "bin_start": 31.528498768740718,
            "bin_end": 34.921888039081146,
            "count": 2
           }
          ]
         }
        },
        {
         "name": "_deepnote_index_column",
         "dtype": "int64"
        }
       ],
       "rows_top": [
        {
         "State": "North Dakota",
         "Number_of_Farms": 26364,
         "Percent_US_Total": 1.2909480859065134,
         "Population": 754942,
         "Farms_per_1000_people": 34.921888039081146,
         "_deepnote_index_column": 0
        },
        {
         "State": "South Dakota",
         "Number_of_Farms": 29968,
         "Percent_US_Total": 1.4674227066623575,
         "Population": 872868,
         "Farms_per_1000_people": 34.3327971697897,
         "_deepnote_index_column": 1
        },
        {
         "State": "Iowa",
         "Number_of_Farms": 86104,
         "Percent_US_Total": 4.216196100322199,
         "Population": 3141550,
         "Farms_per_1000_people": 27.40812656172908,
         "_deepnote_index_column": 2
        },
        {
         "State": "Montana",
         "Number_of_Farms": 27048,
         "Percent_US_Total": 1.324441049446191,
         "Population": 1052482,
         "Farms_per_1000_people": 25.69925186368983,
         "_deepnote_index_column": 3
        },
        {
         "State": "Nebraska",
         "Number_of_Farms": 46332,
         "Percent_US_Total": 2.2687075829244647,
         "Population": 1915947,
         "Farms_per_1000_people": 24.182297318245233,
         "_deepnote_index_column": 4
        },
        {
         "State": "Wyoming",
         "Number_of_Farms": 11938,
         "Percent_US_Total": 0.5845599396734926,
         "Population": 578931,
         "Farms_per_1000_people": 20.620764823441824,
         "_deepnote_index_column": 5
        },
        {
         "State": "Kansas",
         "Number_of_Farms": 58569,
         "Percent_US_Total": 2.8679084525663248,
         "Population": 2908718,
         "Farms_per_1000_people": 20.135674891825197,
         "_deepnote_index_column": 6
        },
        {
         "State": "Oklahoma",
         "Number_of_Farms": 78531,
         "Percent_US_Total": 3.8453741516584894,
         "Population": 3931316,
         "Farms_per_1000_people": 19.975753666202362,
         "_deepnote_index_column": 7
        },
        {
         "State": "Kentucky",
         "Number_of_Farms": 75966,
         "Percent_US_Total": 3.719775538384699,
         "Population": 4452268,
         "Farms_per_1000_people": 17.062315206541925,
         "_deepnote_index_column": 8
        },
        {
         "State": "Missouri",
         "Number_of_Farms": 95320,
         "Percent_US_Total": 4.667469714330483,
         "Population": 6106670,
         "Farms_per_1000_people": 15.609161785392038,
         "_deepnote_index_column": 9
        },
        {
         "State": "Idaho",
         "Number_of_Farms": 24996,
         "Percent_US_Total": 1.2239621588271588,
         "Population": 1717715,
         "Farms_per_1000_people": 14.551890156399637,
         "_deepnote_index_column": 10
        },
        {
         "State": "Arkansas",
         "Number_of_Farms": 42625,
         "Percent_US_Total": 2.087189431109283,
         "Population": 3001345,
         "Farms_per_1000_people": 14.20196611852353,
         "_deepnote_index_column": 11
        },
        {
         "State": "West Virginia",
         "Number_of_Farms": 23622,
         "Percent_US_Total": 1.1566824338220172,
         "Population": 1817004,
         "Farms_per_1000_people": 13.000521737981865,
         "_deepnote_index_column": 12
        },
        {
         "State": "Minnesota",
         "Number_of_Farms": 68822,
         "Percent_US_Total": 3.369960141414735,
         "Population": 5566230,
         "Farms_per_1000_people": 12.364203419549678,
         "_deepnote_index_column": 13
        },
        {
         "State": "New Mexico",
         "Number_of_Farms": 25044,
         "Percent_US_Total": 1.2263125422334518,
         "Population": 2091784,
         "Farms_per_1000_people": 11.972555483740194,
         "_deepnote_index_column": 14
        },
        {
         "State": "Mississippi",
         "Number_of_Farms": 34988,
         "Percent_US_Total": 1.7132336379038497,
         "Population": 2988510,
         "Farms_per_1000_people": 11.707506416240868,
         "_deepnote_index_column": 15
        },
        {
         "State": "Wisconsin",
         "Number_of_Farms": 64793,
         "Percent_US_Total": 3.1726748342490034,
         "Population": 5790186,
         "Farms_per_1000_people": 11.190141387513286,
         "_deepnote_index_column": 16
        },
        {
         "State": "Vermont",
         "Number_of_Farms": 6808,
         "Percent_US_Total": 0.333362713125912,
         "Population": 624344,
         "Farms_per_1000_people": 10.904245095652396,
         "_deepnote_index_column": 17
        },
        {
         "State": "Tennessee",
         "Number_of_Farms": 69983,
         "Percent_US_Total": 3.42681004005445,
         "Population": 6708799,
         "Farms_per_1000_people": 10.431524330957002,
         "_deepnote_index_column": 18
        },
        {
         "State": "Oregon",
         "Number_of_Farms": 37616,
         "Percent_US_Total": 1.8419171293983998,
         "Population": 4143625,
         "Farms_per_1000_people": 9.078041569881444,
         "_deepnote_index_column": 19
        },
        {
         "State": "Texas",
         "Number_of_Farms": 248416,
         "Percent_US_Total": 12.16401758870249,
         "Population": 28295273,
         "Farms_per_1000_people": 8.779416971873712,
         "_deepnote_index_column": 20
        },
        {
         "State": "Indiana",
         "Number_of_Farms": 56649,
         "Percent_US_Total": 2.7738931163145986,
         "Population": 6658078,
         "Farms_per_1000_people": 8.508311257392899,
         "_deepnote_index_column": 21
        },
        {
         "State": "Alabama",
         "Number_of_Farms": 40592,
         "Percent_US_Total": 1.9876409005885751,
         "Population": 4874486,
         "Farms_per_1000_people": 8.327442113896726,
         "_deepnote_index_column": 22
        },
        {
         "State": "Colorado",
         "Number_of_Farms": 38893,
         "Percent_US_Total": 1.9044471212699907,
         "Population": 5611885,
         "Farms_per_1000_people": 6.930469886678005,
         "_deepnote_index_column": 23
        },
        {
         "State": "Ohio",
         "Number_of_Farms": 77805,
         "Percent_US_Total": 3.809824602638305,
         "Population": 11659650,
         "Farms_per_1000_people": 6.67301334088073,
         "_deepnote_index_column": 24
        },
        {
         "State": "Utah",
         "Number_of_Farms": 18409,
         "Percent_US_Total": 0.9014210026343881,
         "Population": 3101042,
         "Farms_per_1000_people": 5.9363917031759,
         "_deepnote_index_column": 25
        },
        {
         "State": "Louisiana",
         "Number_of_Farms": 27386,
         "Percent_US_Total": 1.340991665932172,
         "Population": 4670560,
         "Farms_per_1000_people": 5.863536706519132,
         "_deepnote_index_column": 26
        },
        {
         "State": "Maine",
         "Number_of_Farms": 7600,
         "Percent_US_Total": 0.372144039329749,
         "Population": 1334612,
         "Farms_per_1000_people": 5.694538937159264,
         "_deepnote_index_column": 27
        },
        {
         "State": "Illinois",
         "Number_of_Farms": 72651,
         "Percent_US_Total": 3.557452184387578,
         "Population": 12778828,
         "Farms_per_1000_people": 5.685263155588291,
         "_deepnote_index_column": 28
        },
        {
         "State": "Hawaii",
         "Number_of_Farms": 7328,
         "Percent_US_Total": 0.35882520002742113,
         "Population": 1424393,
         "Farms_per_1000_people": 5.1446475797058815,
         "_deepnote_index_column": 29
        },
        {
         "State": "Virginia",
         "Number_of_Farms": 43225,
         "Percent_US_Total": 2.1165692236879474,
         "Population": 8463587,
         "Farms_per_1000_people": 5.107172644411879,
         "_deepnote_index_column": 30
        },
        {
         "State": "South Carolina",
         "Number_of_Farms": 24791,
         "Percent_US_Total": 1.2139240630294483,
         "Population": 5021268,
         "Farms_per_1000_people": 4.937199129781561,
         "_deepnote_index_column": 31
        },
        {
         "State": "Washington",
         "Number_of_Farms": 35793,
         "Percent_US_Total": 1.7526515262802245,
         "Population": 7423362,
         "Farms_per_1000_people": 4.82166975017519,
         "_deepnote_index_column": 32
        },
        {
         "State": "Michigan",
         "Number_of_Farms": 47641,
         "Percent_US_Total": 2.3328044970669173,
         "Population": 9973114,
         "Farms_per_1000_people": 4.776943289728765,
         "_deepnote_index_column": 33
        },
        {
         "State": "North Carolina",
         "Number_of_Farms": 46418,
         "Percent_US_Total": 2.2729186865274067,
         "Population": 10268233,
         "Farms_per_1000_people": 4.5205440897182605,
         "_deepnote_index_column": 34
        },
        {
         "State": "Pennsylvania",
         "Number_of_Farms": 53157,
         "Percent_US_Total": 2.602902723506772,
         "Population": 12787641,
         "Farms_per_1000_people": 4.156904310967128,
         "_deepnote_index_column": 35
        },
        {
         "State": "Georgia",
         "Number_of_Farms": 42439,
         "Percent_US_Total": 2.078081695409897,
         "Population": 10410330,
         "Farms_per_1000_people": 4.0766238918458875,
         "_deepnote_index_column": 36
        },
        {
         "State": "New Hampshire",
         "Number_of_Farms": 4123,
         "Percent_US_Total": 0.20188814133638883,
         "Population": 1348787,
         "Farms_per_1000_people": 3.056820684066498,
         "_deepnote_index_column": 37
        },
        {
         "State": "Arizona",
         "Number_of_Farms": 19086,
         "Percent_US_Total": 0.9345712019273145,
         "Population": 7044008,
         "Farms_per_1000_people": 2.7095369568007306,
         "_deepnote_index_column": 38
        },
        {
         "State": "Delaware",
         "Number_of_Farms": 2302,
         "Percent_US_Total": 0.1127204708601424,
         "Population": 956823,
         "Farms_per_1000_people": 2.405878621228796,
         "_deepnote_index_column": 39
        },
        {
         "State": "Florida",
         "Number_of_Farms": 47590,
         "Percent_US_Total": 2.330307214697731,
         "Population": 20963613,
         "Farms_per_1000_people": 2.27012395239313,
         "_deepnote_index_column": 40
        },
        {
         "State": "Maryland",
         "Number_of_Farms": 12429,
         "Percent_US_Total": 0.608602403267033,
         "Population": 6023868,
         "Farms_per_1000_people": 2.0632922235347784,
         "_deepnote_index_column": 41
        },
        {
         "State": "California",
         "Number_of_Farms": 70521,
         "Percent_US_Total": 3.4531539207333197,
         "Population": 39358497,
         "Farms_per_1000_people": 1.791760493293227,
         "_deepnote_index_column": 42
        },
        {
         "State": "New York",
         "Number_of_Farms": 33438,
         "Percent_US_Total": 1.6373358404089666,
         "Population": 19589572,
         "Farms_per_1000_people": 1.7069285638297764,
         "_deepnote_index_column": 43
        },
        {
         "State": "Connecticut",
         "Number_of_Farms": 5521,
         "Percent_US_Total": 0.27034305804467684,
         "Population": 3573297,
         "Farms_per_1000_people": 1.5450716802997344,
         "_deepnote_index_column": 44
        },
        {
         "State": "Alaska",
         "Number_of_Farms": 990,
         "Percent_US_Total": 0.04847665775479625,
         "Population": 739700,
         "Farms_per_1000_people": 1.3383804244964175,
         "_deepnote_index_column": 45
        },
        {
         "State": "Nevada",
         "Number_of_Farms": 3423,
         "Percent_US_Total": 0.16761171666128039,
         "Population": 2969905,
         "Farms_per_1000_people": 1.152562118990338,
         "_deepnote_index_column": 46
        },
        {
         "State": "New Jersey",
         "Number_of_Farms": 9883,
         "Percent_US_Total": 0.48393415009156704,
         "Population": 8885525,
         "Farms_per_1000_people": 1.1122584202959307,
         "_deepnote_index_column": 47
        },
        {
         "State": "Massachusetts",
         "Number_of_Farms": 7241,
         "Percent_US_Total": 0.3545651301035148,
         "Population": 6859789,
         "Farms_per_1000_people": 1.0555718258972688,
         "_deepnote_index_column": 48
        },
        {
         "State": "Rhode Island",
         "Number_of_Farms": 1043,
         "Percent_US_Total": 0.05107187276591161,
         "Population": 1055673,
         "Farms_per_1000_people": 0.987995335676862,
         "_deepnote_index_column": 49
        }
       ],
       "rows_bottom": null
      },
      "text/plain": "             State  Number_of_Farms  Percent_US_Total  Population  \\\n0     North Dakota            26364          1.290948    754942.0   \n1     South Dakota            29968          1.467423    872868.0   \n2             Iowa            86104          4.216196   3141550.0   \n3          Montana            27048          1.324441   1052482.0   \n4         Nebraska            46332          2.268708   1915947.0   \n5          Wyoming            11938          0.584560    578931.0   \n6           Kansas            58569          2.867908   2908718.0   \n7         Oklahoma            78531          3.845374   3931316.0   \n8         Kentucky            75966          3.719776   4452268.0   \n9         Missouri            95320          4.667470   6106670.0   \n10           Idaho            24996          1.223962   1717715.0   \n11        Arkansas            42625          2.087189   3001345.0   \n12   West Virginia            23622          1.156682   1817004.0   \n13       Minnesota            68822          3.369960   5566230.0   \n14      New Mexico            25044          1.226313   2091784.0   \n15     Mississippi            34988          1.713234   2988510.0   \n16       Wisconsin            64793          3.172675   5790186.0   \n17         Vermont             6808          0.333363    624344.0   \n18       Tennessee            69983          3.426810   6708799.0   \n19          Oregon            37616          1.841917   4143625.0   \n20           Texas           248416         12.164018  28295273.0   \n21         Indiana            56649          2.773893   6658078.0   \n22         Alabama            40592          1.987641   4874486.0   \n23        Colorado            38893          1.904447   5611885.0   \n24            Ohio            77805          3.809825  11659650.0   \n25            Utah            18409          0.901421   3101042.0   \n26       Louisiana            27386          1.340992   4670560.0   \n27           Maine             7600          0.372144   1334612.0   \n28        Illinois            72651          3.557452  12778828.0   \n29          Hawaii             7328          0.358825   1424393.0   \n30        Virginia            43225          2.116569   8463587.0   \n31  South Carolina            24791          1.213924   5021268.0   \n32      Washington            35793          1.752652   7423362.0   \n33        Michigan            47641          2.332804   9973114.0   \n34  North Carolina            46418          2.272919  10268233.0   \n35    Pennsylvania            53157          2.602903  12787641.0   \n36         Georgia            42439          2.078082  10410330.0   \n37   New Hampshire             4123          0.201888   1348787.0   \n38         Arizona            19086          0.934571   7044008.0   \n39        Delaware             2302          0.112720    956823.0   \n40         Florida            47590          2.330307  20963613.0   \n41        Maryland            12429          0.608602   6023868.0   \n42      California            70521          3.453154  39358497.0   \n43        New York            33438          1.637336  19589572.0   \n44     Connecticut             5521          0.270343   3573297.0   \n45          Alaska              990          0.048477    739700.0   \n46          Nevada             3423          0.167612   2969905.0   \n47      New Jersey             9883          0.483934   8885525.0   \n48   Massachusetts             7241          0.354565   6859789.0   \n49    Rhode Island             1043          0.051072   1055673.0   \n\n    Farms_per_1000_people  \n0               34.921888  \n1               34.332797  \n2               27.408127  \n3               25.699252  \n4               24.182297  \n5               20.620765  \n6               20.135675  \n7               19.975754  \n8               17.062315  \n9               15.609162  \n10              14.551890  \n11              14.201966  \n12              13.000522  \n13              12.364203  \n14              11.972555  \n15              11.707506  \n16              11.190141  \n17              10.904245  \n18              10.431524  \n19               9.078042  \n20               8.779417  \n21               8.508311  \n22               8.327442  \n23               6.930470  \n24               6.673013  \n25               5.936392  \n26               5.863537  \n27               5.694539  \n28               5.685263  \n29               5.144648  \n30               5.107173  \n31               4.937199  \n32               4.821670  \n33               4.776943  \n34               4.520544  \n35               4.156904  \n36               4.076624  \n37               3.056821  \n38               2.709537  \n39               2.405879  \n40               2.270124  \n41               2.063292  \n42               1.791760  \n43               1.706929  \n44               1.545072  \n45               1.338380  \n46               1.152562  \n47               1.112258  \n48               1.055572  \n49               0.987995  ",
      "text/html": "<div>\n<style scoped>\n    .dataframe tbody tr th:only-of-type {\n        vertical-align: middle;\n    }\n\n    .dataframe tbody tr th {\n        vertical-align: top;\n    }\n\n    .dataframe thead th {\n        text-align: right;\n    }\n</style>\n<table border=\"1\" class=\"dataframe\">\n  <thead>\n    <tr style=\"text-align: right;\">\n      <th></th>\n      <th>State</th>\n      <th>Number_of_Farms</th>\n      <th>Percent_US_Total</th>\n      <th>Population</th>\n      <th>Farms_per_1000_people</th>\n    </tr>\n  </thead>\n  <tbody>\n    <tr>\n      <th>0</th>\n      <td>North Dakota</td>\n      <td>26364</td>\n      <td>1.290948</td>\n      <td>754942.0</td>\n      <td>34.921888</td>\n    </tr>\n    <tr>\n      <th>1</th>\n      <td>South Dakota</td>\n      <td>29968</td>\n      <td>1.467423</td>\n      <td>872868.0</td>\n      <td>34.332797</td>\n    </tr>\n    <tr>\n      <th>2</th>\n      <td>Iowa</td>\n      <td>86104</td>\n      <td>4.216196</td>\n      <td>3141550.0</td>\n      <td>27.408127</td>\n    </tr>\n    <tr>\n      <th>3</th>\n      <td>Montana</td>\n      <td>27048</td>\n      <td>1.324441</td>\n      <td>1052482.0</td>\n      <td>25.699252</td>\n    </tr>\n    <tr>\n      <th>4</th>\n      <td>Nebraska</td>\n      <td>46332</td>\n      <td>2.268708</td>\n      <td>1915947.0</td>\n      <td>24.182297</td>\n    </tr>\n    <tr>\n      <th>5</th>\n      <td>Wyoming</td>\n      <td>11938</td>\n      <td>0.584560</td>\n      <td>578931.0</td>\n      <td>20.620765</td>\n    </tr>\n    <tr>\n      <th>6</th>\n      <td>Kansas</td>\n      <td>58569</td>\n      <td>2.867908</td>\n      <td>2908718.0</td>\n      <td>20.135675</td>\n    </tr>\n    <tr>\n      <th>7</th>\n      <td>Oklahoma</td>\n      <td>78531</td>\n      <td>3.845374</td>\n      <td>3931316.0</td>\n      <td>19.975754</td>\n    </tr>\n    <tr>\n      <th>8</th>\n      <td>Kentucky</td>\n      <td>75966</td>\n      <td>3.719776</td>\n      <td>4452268.0</td>\n      <td>17.062315</td>\n    </tr>\n    <tr>\n      <th>9</th>\n      <td>Missouri</td>\n      <td>95320</td>\n      <td>4.667470</td>\n      <td>6106670.0</td>\n      <td>15.609162</td>\n    </tr>\n    <tr>\n      <th>10</th>\n      <td>Idaho</td>\n      <td>24996</td>\n      <td>1.223962</td>\n      <td>1717715.0</td>\n      <td>14.551890</td>\n    </tr>\n    <tr>\n      <th>11</th>\n      <td>Arkansas</td>\n      <td>42625</td>\n      <td>2.087189</td>\n      <td>3001345.0</td>\n      <td>14.201966</td>\n    </tr>\n    <tr>\n      <th>12</th>\n      <td>West Virginia</td>\n      <td>23622</td>\n      <td>1.156682</td>\n      <td>1817004.0</td>\n      <td>13.000522</td>\n    </tr>\n    <tr>\n      <th>13</th>\n      <td>Minnesota</td>\n      <td>68822</td>\n      <td>3.369960</td>\n      <td>5566230.0</td>\n      <td>12.364203</td>\n    </tr>\n    <tr>\n      <th>14</th>\n      <td>New Mexico</td>\n      <td>25044</td>\n      <td>1.226313</td>\n      <td>2091784.0</td>\n      <td>11.972555</td>\n    </tr>\n    <tr>\n      <th>15</th>\n      <td>Mississippi</td>\n      <td>34988</td>\n      <td>1.713234</td>\n      <td>2988510.0</td>\n      <td>11.707506</td>\n    </tr>\n    <tr>\n      <th>16</th>\n      <td>Wisconsin</td>\n      <td>64793</td>\n      <td>3.172675</td>\n      <td>5790186.0</td>\n      <td>11.190141</td>\n    </tr>\n    <tr>\n      <th>17</th>\n      <td>Vermont</td>\n      <td>6808</td>\n      <td>0.333363</td>\n      <td>624344.0</td>\n      <td>10.904245</td>\n    </tr>\n    <tr>\n      <th>18</th>\n      <td>Tennessee</td>\n      <td>69983</td>\n      <td>3.426810</td>\n      <td>6708799.0</td>\n      <td>10.431524</td>\n    </tr>\n    <tr>\n      <th>19</th>\n      <td>Oregon</td>\n      <td>37616</td>\n      <td>1.841917</td>\n      <td>4143625.0</td>\n      <td>9.078042</td>\n    </tr>\n    <tr>\n      <th>20</th>\n      <td>Texas</td>\n      <td>248416</td>\n      <td>12.164018</td>\n      <td>28295273.0</td>\n      <td>8.779417</td>\n    </tr>\n    <tr>\n      <th>21</th>\n      <td>Indiana</td>\n      <td>56649</td>\n      <td>2.773893</td>\n      <td>6658078.0</td>\n      <td>8.508311</td>\n    </tr>\n    <tr>\n      <th>22</th>\n      <td>Alabama</td>\n      <td>40592</td>\n      <td>1.987641</td>\n      <td>4874486.0</td>\n      <td>8.327442</td>\n    </tr>\n    <tr>\n      <th>23</th>\n      <td>Colorado</td>\n      <td>38893</td>\n      <td>1.904447</td>\n      <td>5611885.0</td>\n      <td>6.930470</td>\n    </tr>\n    <tr>\n      <th>24</th>\n      <td>Ohio</td>\n      <td>77805</td>\n      <td>3.809825</td>\n      <td>11659650.0</td>\n      <td>6.673013</td>\n    </tr>\n    <tr>\n      <th>25</th>\n      <td>Utah</td>\n      <td>18409</td>\n      <td>0.901421</td>\n      <td>3101042.0</td>\n      <td>5.936392</td>\n    </tr>\n    <tr>\n      <th>26</th>\n      <td>Louisiana</td>\n      <td>27386</td>\n      <td>1.340992</td>\n      <td>4670560.0</td>\n      <td>5.863537</td>\n    </tr>\n    <tr>\n      <th>27</th>\n      <td>Maine</td>\n      <td>7600</td>\n      <td>0.372144</td>\n      <td>1334612.0</td>\n      <td>5.694539</td>\n    </tr>\n    <tr>\n      <th>28</th>\n      <td>Illinois</td>\n      <td>72651</td>\n      <td>3.557452</td>\n      <td>12778828.0</td>\n      <td>5.685263</td>\n    </tr>\n    <tr>\n      <th>29</th>\n      <td>Hawaii</td>\n      <td>7328</td>\n      <td>0.358825</td>\n      <td>1424393.0</td>\n      <td>5.144648</td>\n    </tr>\n    <tr>\n      <th>30</th>\n      <td>Virginia</td>\n      <td>43225</td>\n      <td>2.116569</td>\n      <td>8463587.0</td>\n      <td>5.107173</td>\n    </tr>\n    <tr>\n      <th>31</th>\n      <td>South Carolina</td>\n      <td>24791</td>\n      <td>1.213924</td>\n      <td>5021268.0</td>\n      <td>4.937199</td>\n    </tr>\n    <tr>\n      <th>32</th>\n      <td>Washington</td>\n      <td>35793</td>\n      <td>1.752652</td>\n      <td>7423362.0</td>\n      <td>4.821670</td>\n    </tr>\n    <tr>\n      <th>33</th>\n      <td>Michigan</td>\n      <td>47641</td>\n      <td>2.332804</td>\n      <td>9973114.0</td>\n      <td>4.776943</td>\n    </tr>\n    <tr>\n      <th>34</th>\n      <td>North Carolina</td>\n      <td>46418</td>\n      <td>2.272919</td>\n      <td>10268233.0</td>\n      <td>4.520544</td>\n    </tr>\n    <tr>\n      <th>35</th>\n      <td>Pennsylvania</td>\n      <td>53157</td>\n      <td>2.602903</td>\n      <td>12787641.0</td>\n      <td>4.156904</td>\n    </tr>\n    <tr>\n      <th>36</th>\n      <td>Georgia</td>\n      <td>42439</td>\n      <td>2.078082</td>\n      <td>10410330.0</td>\n      <td>4.076624</td>\n    </tr>\n    <tr>\n      <th>37</th>\n      <td>New Hampshire</td>\n      <td>4123</td>\n      <td>0.201888</td>\n      <td>1348787.0</td>\n      <td>3.056821</td>\n    </tr>\n    <tr>\n      <th>38</th>\n      <td>Arizona</td>\n      <td>19086</td>\n      <td>0.934571</td>\n      <td>7044008.0</td>\n      <td>2.709537</td>\n    </tr>\n    <tr>\n      <th>39</th>\n      <td>Delaware</td>\n      <td>2302</td>\n      <td>0.112720</td>\n      <td>956823.0</td>\n      <td>2.405879</td>\n    </tr>\n    <tr>\n      <th>40</th>\n      <td>Florida</td>\n      <td>47590</td>\n      <td>2.330307</td>\n      <td>20963613.0</td>\n      <td>2.270124</td>\n    </tr>\n    <tr>\n      <th>41</th>\n      <td>Maryland</td>\n      <td>12429</td>\n      <td>0.608602</td>\n      <td>6023868.0</td>\n      <td>2.063292</td>\n    </tr>\n    <tr>\n      <th>42</th>\n      <td>California</td>\n      <td>70521</td>\n      <td>3.453154</td>\n      <td>39358497.0</td>\n      <td>1.791760</td>\n    </tr>\n    <tr>\n      <th>43</th>\n      <td>New York</td>\n      <td>33438</td>\n      <td>1.637336</td>\n      <td>19589572.0</td>\n      <td>1.706929</td>\n    </tr>\n    <tr>\n      <th>44</th>\n      <td>Connecticut</td>\n      <td>5521</td>\n      <td>0.270343</td>\n      <td>3573297.0</td>\n      <td>1.545072</td>\n    </tr>\n    <tr>\n      <th>45</th>\n      <td>Alaska</td>\n      <td>990</td>\n      <td>0.048477</td>\n      <td>739700.0</td>\n      <td>1.338380</td>\n    </tr>\n    <tr>\n      <th>46</th>\n      <td>Nevada</td>\n      <td>3423</td>\n      <td>0.167612</td>\n      <td>2969905.0</td>\n      <td>1.152562</td>\n    </tr>\n    <tr>\n      <th>47</th>\n      <td>New Jersey</td>\n      <td>9883</td>\n      <td>0.483934</td>\n      <td>8885525.0</td>\n      <td>1.112258</td>\n    </tr>\n    <tr>\n      <th>48</th>\n      <td>Massachusetts</td>\n      <td>7241</td>\n      <td>0.354565</td>\n      <td>6859789.0</td>\n      <td>1.055572</td>\n    </tr>\n    <tr>\n      <th>49</th>\n      <td>Rhode Island</td>\n      <td>1043</td>\n      <td>0.051072</td>\n      <td>1055673.0</td>\n      <td>0.987995</td>\n    </tr>\n  </tbody>\n</table>\n</div>"
     },
     "metadata": {}
    }
   ]
  },
  {
   "cell_type": "code",
   "metadata": {
    "tags": [],
    "cell_id": "00024-83a45a2a-93be-49ae-8179-a810607b7d04",
    "deepnote_to_be_reexecuted": false,
    "source_hash": "ca75d87b",
    "execution_start": 1637875614329,
    "execution_millis": 6,
    "deepnote_output_heights": [
     268
    ],
    "deepnote_cell_type": "code"
   },
   "source": "# num_farms_totals[\"Percent_US_Total\"] = (num_farms_totals[\"Number_of_Farms\"] / num_farms_totals[\"Number_of_Farms\"].sum()) * 100\nprint(\"The 5 U.S. states with the most farms per capita are:\\n\")\nprint(farms_per_capita.loc[0:5, [\"State\", \"Farms_per_1000_people\"]])",
   "execution_count": 21,
   "outputs": [
    {
     "name": "stdout",
     "text": "The 5 U.S. states with the most farms per capita are:\n\n          State  Farms_per_1000_people\n0  North Dakota              34.921888\n1  South Dakota              34.332797\n2          Iowa              27.408127\n3       Montana              25.699252\n4      Nebraska              24.182297\n5       Wyoming              20.620765\n",
     "output_type": "stream"
    }
   ]
  },
  {
   "cell_type": "code",
   "metadata": {
    "tags": [],
    "cell_id": "00026-328d4255-f55c-4b37-94d3-b525c07fcd87",
    "deepnote_to_be_reexecuted": false,
    "source_hash": "ebb2831",
    "execution_start": 1637875629246,
    "execution_millis": 294,
    "deepnote_output_heights": [
     212
    ],
    "deepnote_cell_type": "code"
   },
   "source": "plot_map(farms_per_capita, \"State\", \"Farms_per_1000_people\", title=\"# of Farms per Capita per State\")",
   "execution_count": 22,
   "outputs": [
    {
     "data": {
      "text/plain": "<Figure size 432x288 with 1 Axes>",
      "image/png": "[encoded data removed]"
     },
     "metadata": {
      "needs_background": "light",
      "image/png": {
       "width": 349,
       "height": 210
      }
     },
     "output_type": "display_data"
    }
   ]
  },
  {
   "cell_type": "markdown",
   "source": "Looking at the data on a per-capita basis shows a different side of the story. While states like Montana, Wyoming, and the Dakotas don't have an large amount of farms on an absolute level, farm saturation is at higher levels than most other states.\n\nIt's worth noting that **Iowa** is 3rd place on the absolute list of number of farms ***and*** 3rd place on the per-capita list. One could make the argument that this makes Iowa the ultimate \"farm state\".",
   "metadata": {
    "tags": [],
    "cell_id": "00027-f8b65aa3-c6ae-4244-b026-eb4b85989bc7",
    "deepnote_cell_type": "markdown"
   }
  },
  {
   "cell_type": "markdown",
   "source": "### Farm size\nNext we turn our attention to the geographic size of U.S. farms as measured in acres.",
   "metadata": {
    "tags": [],
    "cell_id": "00028-4cf0b065-cb1a-41b4-873f-993156c756ee",
    "deepnote_cell_type": "markdown"
   }
  },
  {
   "cell_type": "code",
   "metadata": {
    "tags": [],
    "cell_id": "00029-4487ad6c-1379-4679-b1e5-b8c9cb90f8bb",
    "deepnote_to_be_reexecuted": false,
    "source_hash": "74df2dd1",
    "execution_start": 1637875698404,
    "execution_millis": 0,
    "deepnote_cell_type": "code"
   },
   "source": "farm_size_text = {\n    \"AREA OPERATED: (500 TO 999 ACRES)\": \"500-999\",\n    \"AREA OPERATED: (50 TO 179 ACRES)\": \"50-179\",\n    \"AREA OPERATED: (180 TO 499 ACRES)\": \"180-599\",\n    \"AREA OPERATED: (10.0 TO 49.9 ACRES)\": \"10-49.9\",\n    \"AREA OPERATED: (1.0 TO 9.9 ACRES)\": \"1-9.9\",\n    \"AREA OPERATED: (1,000 TO 1,999 ACRES)\": \"1k-1,999\",\n    \"AREA OPERATED: (2,000 OR MORE ACRES)\": \"2k+\",\n}",
   "execution_count": 23,
   "outputs": []
  },
  {
   "cell_type": "code",
   "metadata": {
    "tags": [],
    "cell_id": "00028-fac0fa57-68d0-425e-a220-c070e3969d0b",
    "deepnote_to_be_reexecuted": false,
    "source_hash": "6ca2930b",
    "execution_start": 1637875699968,
    "execution_millis": 4,
    "deepnote_cell_type": "code"
   },
   "source": "farm_sizes_df = num_farms_df.loc[\n    (num_farms_df[\"agg_level_desc\"] == \"NATIONAL\") & \n    (~num_farms_df[\"domaincat_desc\"].isnull()), \n    [\"domaincat_desc\", \"value\", \"farm_size_value\"]\n    ].copy()\n\nfarm_sizes_df = farm_sizes_df.sort_values(\"farm_size_value\").reset_index(drop=True)\nfarm_sizes_df = farm_sizes_df.drop(columns=[\"farm_size_value\"])\nfarm_sizes_df.columns = [\"Farm_Size_Acres\", \"Number_of_Farms\"]\nfarm_sizes_df[\"Farm_Size_Acres\"] = farm_sizes_df[\"Farm_Size_Acres\"].apply(lambda x: farm_size_text.get(x))\nfarm_sizes_df",
   "execution_count": 24,
   "outputs": [
    {
     "output_type": "execute_result",
     "execution_count": 24,
     "data": {
      "application/vnd.deepnote.dataframe.v2+json": {
       "row_count": 7,
       "column_count": 2,
       "columns": [
        {
         "name": "Farm_Size_Acres",
         "dtype": "object",
         "stats": {
          "unique_count": 7,
          "nan_count": 0,
          "categories": [
           {
            "name": "1-9.9",
            "count": 1
           },
           {
            "name": "10-49.9",
            "count": 1
           },
           {
            "name": "5 others",
            "count": 5
           }
          ]
         }
        },
        {
         "name": "Number_of_Farms",
         "dtype": "int64",
         "stats": {
          "unique_count": 7,
          "nan_count": 0,
          "min": "85127",
          "max": "583001",
          "histogram": [
           {
            "bin_start": 85127,
            "bin_end": 134914.4,
            "count": 3
           },
           {
            "bin_start": 134914.4,
            "bin_end": 184701.8,
            "count": 0
           },
           {
            "bin_start": 184701.8,
            "bin_end": 234489.2,
            "count": 0
           },
           {
            "bin_start": 234489.2,
            "bin_end": 284276.6,
            "count": 1
           },
           {
            "bin_start": 284276.6,
            "bin_end": 334064,
            "count": 1
           },
           {
            "bin_start": 334064,
            "bin_end": 383851.4,
            "count": 0
           },
           {
            "bin_start": 383851.4,
            "bin_end": 433638.8,
            "count": 0
           },
           {
            "bin_start": 433638.8,
            "bin_end": 483426.2,
            "count": 0
           },
           {
            "bin_start": 483426.2,
            "bin_end": 533213.6000000001,
            "count": 0
           },
           {
            "bin_start": 533213.6000000001,
            "bin_end": 583001,
            "count": 2
           }
          ]
         }
        },
        {
         "name": "_deepnote_index_column",
         "dtype": "int64"
        }
       ],
       "rows_top": [
        {
         "Farm_Size_Acres": "1-9.9",
         "Number_of_Farms": 273325,
         "_deepnote_index_column": 0
        },
        {
         "Farm_Size_Acres": "10-49.9",
         "Number_of_Farms": 583001,
         "_deepnote_index_column": 1
        },
        {
         "Farm_Size_Acres": "50-179",
         "Number_of_Farms": 564763,
         "_deepnote_index_column": 2
        },
        {
         "Farm_Size_Acres": "180-599",
         "Number_of_Farms": 315017,
         "_deepnote_index_column": 3
        },
        {
         "Farm_Size_Acres": "500-999",
         "Number_of_Farms": 133321,
         "_deepnote_index_column": 4
        },
        {
         "Farm_Size_Acres": "1k-1,999",
         "Number_of_Farms": 87666,
         "_deepnote_index_column": 5
        },
        {
         "Farm_Size_Acres": "2k+",
         "Number_of_Farms": 85127,
         "_deepnote_index_column": 6
        }
       ],
       "rows_bottom": null
      },
      "text/plain": "  Farm_Size_Acres  Number_of_Farms\n0           1-9.9           273325\n1         10-49.9           583001\n2          50-179           564763\n3         180-599           315017\n4         500-999           133321\n5        1k-1,999            87666\n6             2k+            85127",
      "text/html": "<div>\n<style scoped>\n    .dataframe tbody tr th:only-of-type {\n        vertical-align: middle;\n    }\n\n    .dataframe tbody tr th {\n        vertical-align: top;\n    }\n\n    .dataframe thead th {\n        text-align: right;\n    }\n</style>\n<table border=\"1\" class=\"dataframe\">\n  <thead>\n    <tr style=\"text-align: right;\">\n      <th></th>\n      <th>Farm_Size_Acres</th>\n      <th>Number_of_Farms</th>\n    </tr>\n  </thead>\n  <tbody>\n    <tr>\n      <th>0</th>\n      <td>1-9.9</td>\n      <td>273325</td>\n    </tr>\n    <tr>\n      <th>1</th>\n      <td>10-49.9</td>\n      <td>583001</td>\n    </tr>\n    <tr>\n      <th>2</th>\n      <td>50-179</td>\n      <td>564763</td>\n    </tr>\n    <tr>\n      <th>3</th>\n      <td>180-599</td>\n      <td>315017</td>\n    </tr>\n    <tr>\n      <th>4</th>\n      <td>500-999</td>\n      <td>133321</td>\n    </tr>\n    <tr>\n      <th>5</th>\n      <td>1k-1,999</td>\n      <td>87666</td>\n    </tr>\n    <tr>\n      <th>6</th>\n      <td>2k+</td>\n      <td>85127</td>\n    </tr>\n  </tbody>\n</table>\n</div>"
     },
     "metadata": {}
    }
   ]
  },
  {
   "cell_type": "markdown",
   "source": "Below we can see that most farms are between 10 -179 acres.",
   "metadata": {
    "tags": [],
    "cell_id": "00034-f698d74c-8c30-4c49-83e9-dfba4483f43c",
    "deepnote_cell_type": "markdown"
   }
  },
  {
   "cell_type": "code",
   "metadata": {
    "tags": [],
    "cell_id": "00030-581ef140-19b0-483f-a40d-3deec1bbe978",
    "deepnote_to_be_reexecuted": false,
    "source_hash": "dc01596b",
    "execution_start": 1637875703769,
    "execution_millis": 227,
    "deepnote_output_heights": [
     250
    ],
    "deepnote_cell_type": "code"
   },
   "source": "plt.bar(farm_sizes_df[\"Farm_Size_Acres\"], farm_sizes_df[\"Number_of_Farms\"])\nplt.show()",
   "execution_count": 25,
   "outputs": [
    {
     "data": {
      "text/plain": "<Figure size 432x288 with 1 Axes>",
      "image/png": "[encoded data removed]"
     },
     "metadata": {
      "needs_background": "light",
      "image/png": {
       "width": 393,
       "height": 248
      }
     },
     "output_type": "display_data"
    }
   ]
  },
  {
   "cell_type": "markdown",
   "source": "Now let's take a look at which states are home to the very large, over 2k acre farms.",
   "metadata": {
    "tags": [],
    "cell_id": "00036-79b0b175-c474-47fe-b55d-2648e88d0afe",
    "deepnote_cell_type": "markdown"
   }
  },
  {
   "cell_type": "code",
   "source": "large_farms_filter = (\n    (num_farms_df[\"domaincat_desc\"] == \"AREA OPERATED: (2,000 OR MORE ACRES)\") & \n    (num_farms_df[\"agg_level_desc\"] != \"NATIONAL\")\n)\n\nlarge_farms = num_farms_df.loc[large_farms_filter, [\"short_desc\", \"state_name\", \"domaincat_desc\", \"value\"]]\nprint(\"Number of farms with over 2k acres:\")\nprint(large_farms.groupby([\"state_name\"])[\"value\"].sum().sort_values(ascending=False)[:10])",
   "metadata": {
    "tags": [],
    "cell_id": "00036-5566459c-71f1-47dd-af9e-2fdac99c16a5",
    "deepnote_to_be_reexecuted": false,
    "source_hash": "87832ca8",
    "execution_start": 1637876451529,
    "execution_millis": 3,
    "deepnote_output_heights": [
     230
    ],
    "deepnote_cell_type": "code"
   },
   "outputs": [
    {
     "name": "stdout",
     "text": "Number of farms with over 2k acres:\nstate_name\nTexas           11037\nNorth Dakota     6721\nKansas           6447\nMontana          6338\nSouth Dakota     5847\nNebraska         5472\nOklahoma         3637\nColorado         3614\nNew Mexico       2869\nIllinois         2658\nName: value, dtype: int64\n",
     "output_type": "stream"
    }
   ],
   "execution_count": 50
  },
  {
   "cell_type": "markdown",
   "source": "### Crops vs. Livestock\nNow I'd like to take a look at which states are more livestock focused and which states are more crop focused. The table 1 dataset includes information on total crop sales and total animal salees that we can use to answer this question.",
   "metadata": {
    "tags": [],
    "cell_id": "00030-27b5bde5-20e9-4463-a6ff-82ca7e696310",
    "deepnote_cell_type": "markdown"
   }
  },
  {
   "cell_type": "code",
   "metadata": {
    "tags": [],
    "cell_id": "00033-4746bac8-fa96-411e-9fbf-6bac96efecf3",
    "deepnote_to_be_reexecuted": false,
    "source_hash": "bfa9c136",
    "execution_start": 1637876458755,
    "execution_millis": 9,
    "deepnote_cell_type": "code"
   },
   "source": "desired_descriptions = [\"CROP TOTALS - SALES, MEASURED IN $\", \"ANIMAL TOTALS, INCL PRODUCTS - SALES, MEASURED IN $\"]\n\ncrops_livestock_filter = (\n        (table_1_df[\"short_desc\"].isin(desired_descriptions)) & \n        (table_1_df[\"state_name\"] != \"Us Total\")\n    )\n\ncrops_livestock_df = table_1_df.loc[\n    crops_livestock_filter, [\"commodity_desc\", \"state_name\", \"value\"]\n    ].copy()\n\ncrops_livestock_df = crops_livestock_df.pivot(index=\"state_name\", columns=\"commodity_desc\", values=\"value\")\ncrops_livestock_df = crops_livestock_df.reset_index()\ncrops_livestock_df.columns = [\"State_Name\", \"Livestock_Revenue\", \"Crop_Revenue\"]",
   "execution_count": 51,
   "outputs": []
  },
  {
   "cell_type": "markdown",
   "source": "Below, we classify each state's dominant industry based on whether they have more revenue coming from livestock or crops",
   "metadata": {
    "tags": [],
    "cell_id": "00034-85a88caa-6c19-4218-bd68-af348afeb763",
    "deepnote_cell_type": "markdown"
   }
  },
  {
   "cell_type": "code",
   "metadata": {
    "tags": [],
    "cell_id": "00034-0e4a6fb8-28fa-4fe8-94c8-6d6ff381b35a",
    "deepnote_to_be_reexecuted": false,
    "source_hash": "7ca4d50e",
    "execution_start": 1637876461766,
    "execution_millis": 1,
    "deepnote_cell_type": "code"
   },
   "source": "crops_livestock_df[\"Dominant_Industry\"] = np.where(\n    crops_livestock_df[\"Livestock_Revenue\"] >  crops_livestock_df[\"Crop_Revenue\"], \n    \"Livestock\", \"Crops\"\n    )",
   "execution_count": 52,
   "outputs": []
  },
  {
   "cell_type": "markdown",
   "source": "Below we can see that 56.9% of states earn more revenue from livestock than crops.",
   "metadata": {
    "tags": [],
    "cell_id": "00036-f635fcec-7a6e-4356-b0a3-4b169d4109e1",
    "deepnote_cell_type": "markdown"
   }
  },
  {
   "cell_type": "code",
   "metadata": {
    "tags": [],
    "cell_id": "00035-3c9cc817-1e31-4fcf-807c-dca20232f7a4",
    "deepnote_to_be_reexecuted": false,
    "source_hash": "bffc3cd0",
    "execution_start": 1637877102018,
    "execution_millis": 131,
    "deepnote_cell_type": "code"
   },
   "source": "crops_livestock_df",
   "execution_count": 53,
   "outputs": [
    {
     "output_type": "execute_result",
     "execution_count": 53,
     "data": {
      "application/vnd.deepnote.dataframe.v2+json": {
       "row_count": 50,
       "column_count": 4,
       "columns": [
        {
         "name": "State_Name",
         "dtype": "object",
         "stats": {
          "unique_count": 50,
          "nan_count": 0,
          "categories": [
           {
            "name": "Alabama",
            "count": 1
           },
           {
            "name": "Alaska",
            "count": 1
           },
           {
            "name": "48 others",
            "count": 48
           }
          ]
         }
        },
        {
         "name": "Livestock_Revenue",
         "dtype": "int64",
         "stats": {
          "unique_count": 50,
          "nan_count": 0,
          "min": "17089000",
          "max": "18029734000",
          "histogram": [
           {
            "bin_start": 17089000,
            "bin_end": 1818353500,
            "count": 21
           },
           {
            "bin_start": 1818353500,
            "bin_end": 3619618000,
            "count": 9
           },
           {
            "bin_start": 3619618000,
            "bin_end": 5420882500,
            "count": 9
           },
           {
            "bin_start": 5420882500,
            "bin_end": 7222147000,
            "count": 3
           },
           {
            "bin_start": 7222147000,
            "bin_end": 9023411500,
            "count": 2
           },
           {
            "bin_start": 9023411500,
            "bin_end": 10824676000,
            "count": 1
           },
           {
            "bin_start": 10824676000,
            "bin_end": 12625940500,
            "count": 2
           },
           {
            "bin_start": 12625940500,
            "bin_end": 14427205000,
            "count": 1
           },
           {
            "bin_start": 14427205000,
            "bin_end": 16228469500,
            "count": 1
           },
           {
            "bin_start": 16228469500,
            "bin_end": 18029734000,
            "count": 1
           }
          ]
         }
        },
        {
         "name": "Crop_Revenue",
         "dtype": "int64",
         "stats": {
          "unique_count": 50,
          "nan_count": 0,
          "min": "29642000",
          "max": "33353834000",
          "histogram": [
           {
            "bin_start": 29642000,
            "bin_end": 3362061200,
            "count": 32
           },
           {
            "bin_start": 3362061200,
            "bin_end": 6694480400,
            "count": 10
           },
           {
            "bin_start": 6694480400,
            "bin_end": 10026899600,
            "count": 4
           },
           {
            "bin_start": 10026899600,
            "bin_end": 13359318800,
            "count": 1
           },
           {
            "bin_start": 13359318800,
            "bin_end": 16691738000,
            "count": 2
           },
           {
            "bin_start": 16691738000,
            "bin_end": 20024157200,
            "count": 0
           },
           {
            "bin_start": 20024157200,
            "bin_end": 23356576400,
            "count": 0
           },
           {
            "bin_start": 23356576400,
            "bin_end": 26688995600,
            "count": 0
           },
           {
            "bin_start": 26688995600,
            "bin_end": 30021414800,
            "count": 0
           },
           {
            "bin_start": 30021414800,
            "bin_end": 33353834000,
            "count": 1
           }
          ]
         }
        },
        {
         "name": "Dominant_Industry",
         "dtype": "object",
         "stats": {
          "unique_count": 2,
          "nan_count": 0,
          "categories": [
           {
            "name": "Livestock",
            "count": 28
           },
           {
            "name": "Crops",
            "count": 22
           }
          ]
         }
        },
        {
         "name": "_deepnote_index_column",
         "dtype": "int64"
        }
       ],
       "rows_top": [
        {
         "State_Name": "Alabama",
         "Livestock_Revenue": 4768266000,
         "Crop_Revenue": 1212329000,
         "Dominant_Industry": "Livestock",
         "_deepnote_index_column": 0
        },
        {
         "State_Name": "Alaska",
         "Livestock_Revenue": 40817000,
         "Crop_Revenue": 29642000,
         "Dominant_Industry": "Livestock",
         "_deepnote_index_column": 1
        },
        {
         "State_Name": "Arizona",
         "Livestock_Revenue": 1757790000,
         "Crop_Revenue": 2094218000,
         "Dominant_Industry": "Crops",
         "_deepnote_index_column": 2
        },
        {
         "State_Name": "Arkansas",
         "Livestock_Revenue": 6026230000,
         "Crop_Revenue": 3624930000,
         "Dominant_Industry": "Livestock",
         "_deepnote_index_column": 3
        },
        {
         "State_Name": "California",
         "Livestock_Revenue": 11800525000,
         "Crop_Revenue": 33353834000,
         "Dominant_Industry": "Crops",
         "_deepnote_index_column": 4
        },
        {
         "State_Name": "Colorado",
         "Livestock_Revenue": 5252840000,
         "Crop_Revenue": 2238862000,
         "Dominant_Industry": "Livestock",
         "_deepnote_index_column": 5
        },
        {
         "State_Name": "Connecticut",
         "Livestock_Revenue": 160071000,
         "Crop_Revenue": 420043000,
         "Dominant_Industry": "Crops",
         "_deepnote_index_column": 6
        },
        {
         "State_Name": "Delaware",
         "Livestock_Revenue": 1140317000,
         "Crop_Revenue": 325656000,
         "Dominant_Industry": "Livestock",
         "_deepnote_index_column": 7
        },
        {
         "State_Name": "Florida",
         "Livestock_Revenue": 1652810000,
         "Crop_Revenue": 5704533000,
         "Dominant_Industry": "Crops",
         "_deepnote_index_column": 8
        },
        {
         "State_Name": "Georgia",
         "Livestock_Revenue": 6301312000,
         "Crop_Revenue": 3271940000,
         "Dominant_Industry": "Livestock",
         "_deepnote_index_column": 9
        },
        {
         "State_Name": "Hawaii",
         "Livestock_Revenue": 146733000,
         "Crop_Revenue": 417069000,
         "Dominant_Industry": "Crops",
         "_deepnote_index_column": 10
        },
        {
         "State_Name": "Idaho",
         "Livestock_Revenue": 4356606000,
         "Crop_Revenue": 3210834000,
         "Dominant_Industry": "Livestock",
         "_deepnote_index_column": 11
        },
        {
         "State_Name": "Illinois",
         "Livestock_Revenue": 3166229000,
         "Crop_Revenue": 13843743000,
         "Dominant_Industry": "Crops",
         "_deepnote_index_column": 12
        },
        {
         "State_Name": "Indiana",
         "Livestock_Revenue": 3986276000,
         "Crop_Revenue": 7121060000,
         "Dominant_Industry": "Crops",
         "_deepnote_index_column": 13
        },
        {
         "State_Name": "Iowa",
         "Livestock_Revenue": 15123882000,
         "Crop_Revenue": 13832573000,
         "Dominant_Industry": "Livestock",
         "_deepnote_index_column": 14
        },
        {
         "State_Name": "Kansas",
         "Livestock_Revenue": 12322289000,
         "Crop_Revenue": 6460437000,
         "Dominant_Industry": "Livestock",
         "_deepnote_index_column": 15
        },
        {
         "State_Name": "Kentucky",
         "Livestock_Revenue": 3196834000,
         "Crop_Revenue": 2541086000,
         "Dominant_Industry": "Livestock",
         "_deepnote_index_column": 16
        },
        {
         "State_Name": "Louisiana",
         "Livestock_Revenue": 1112027000,
         "Crop_Revenue": 2060951000,
         "Dominant_Industry": "Crops",
         "_deepnote_index_column": 17
        },
        {
         "State_Name": "Maine",
         "Livestock_Revenue": 258123000,
         "Crop_Revenue": 408839000,
         "Dominant_Industry": "Crops",
         "_deepnote_index_column": 18
        },
        {
         "State_Name": "Maryland",
         "Livestock_Revenue": 1524681000,
         "Crop_Revenue": 948125000,
         "Dominant_Industry": "Livestock",
         "_deepnote_index_column": 19
        },
        {
         "State_Name": "Massachusetts",
         "Livestock_Revenue": 111661000,
         "Crop_Revenue": 363524000,
         "Dominant_Industry": "Crops",
         "_deepnote_index_column": 20
        },
        {
         "State_Name": "Michigan",
         "Livestock_Revenue": 3576684000,
         "Crop_Revenue": 4644252000,
         "Dominant_Industry": "Crops",
         "_deepnote_index_column": 21
        },
        {
         "State_Name": "Minnesota",
         "Livestock_Revenue": 8203872000,
         "Crop_Revenue": 10191518000,
         "Dominant_Industry": "Crops",
         "_deepnote_index_column": 22
        },
        {
         "State_Name": "Mississippi",
         "Livestock_Revenue": 3904079000,
         "Crop_Revenue": 2291890000,
         "Dominant_Industry": "Livestock",
         "_deepnote_index_column": 23
        },
        {
         "State_Name": "Missouri",
         "Livestock_Revenue": 5049623000,
         "Crop_Revenue": 5476314000,
         "Dominant_Industry": "Crops",
         "_deepnote_index_column": 24
        },
        {
         "State_Name": "Montana",
         "Livestock_Revenue": 1935608000,
         "Crop_Revenue": 1585015000,
         "Dominant_Industry": "Livestock",
         "_deepnote_index_column": 25
        },
        {
         "State_Name": "Nebraska",
         "Livestock_Revenue": 12672422000,
         "Crop_Revenue": 9311007000,
         "Dominant_Industry": "Livestock",
         "_deepnote_index_column": 26
        },
        {
         "State_Name": "Nevada",
         "Livestock_Revenue": 389681000,
         "Crop_Revenue": 276077000,
         "Dominant_Industry": "Livestock",
         "_deepnote_index_column": 27
        },
        {
         "State_Name": "New Hampshire",
         "Livestock_Revenue": 79992000,
         "Crop_Revenue": 107802000,
         "Dominant_Industry": "Crops",
         "_deepnote_index_column": 28
        },
        {
         "State_Name": "New Jersey",
         "Livestock_Revenue": 113421000,
         "Crop_Revenue": 984530000,
         "Dominant_Industry": "Crops",
         "_deepnote_index_column": 29
        },
        {
         "State_Name": "New Mexico",
         "Livestock_Revenue": 1931608000,
         "Crop_Revenue": 650735000,
         "Dominant_Industry": "Livestock",
         "_deepnote_index_column": 30
        },
        {
         "State_Name": "New York",
         "Livestock_Revenue": 3261226000,
         "Crop_Revenue": 2107986000,
         "Dominant_Industry": "Livestock",
         "_deepnote_index_column": 31
        },
        {
         "State_Name": "North Carolina",
         "Livestock_Revenue": 9165694000,
         "Crop_Revenue": 3734980000,
         "Dominant_Industry": "Livestock",
         "_deepnote_index_column": 32
        },
        {
         "State_Name": "North Dakota",
         "Livestock_Revenue": 1553488000,
         "Crop_Revenue": 6680614000,
         "Dominant_Industry": "Crops",
         "_deepnote_index_column": 33
        },
        {
         "State_Name": "Ohio",
         "Livestock_Revenue": 3914972000,
         "Crop_Revenue": 5426253000,
         "Dominant_Industry": "Crops",
         "_deepnote_index_column": 34
        },
        {
         "State_Name": "Oklahoma",
         "Livestock_Revenue": 5948761000,
         "Crop_Revenue": 1516751000,
         "Dominant_Industry": "Livestock",
         "_deepnote_index_column": 35
        },
        {
         "State_Name": "Oregon",
         "Livestock_Revenue": 1723466000,
         "Crop_Revenue": 3283355000,
         "Dominant_Industry": "Crops",
         "_deepnote_index_column": 36
        },
        {
         "State_Name": "Pennsylvania",
         "Livestock_Revenue": 4977556000,
         "Crop_Revenue": 2781329000,
         "Dominant_Industry": "Livestock",
         "_deepnote_index_column": 37
        },
        {
         "State_Name": "Rhode Island",
         "Livestock_Revenue": 17089000,
         "Crop_Revenue": 40909000,
         "Dominant_Industry": "Crops",
         "_deepnote_index_column": 38
        },
        {
         "State_Name": "South Carolina",
         "Livestock_Revenue": 1912494000,
         "Crop_Revenue": 1096245000,
         "Dominant_Industry": "Livestock",
         "_deepnote_index_column": 39
        },
        {
         "State_Name": "South Dakota",
         "Livestock_Revenue": 4554966000,
         "Crop_Revenue": 5166557000,
         "Dominant_Industry": "Crops",
         "_deepnote_index_column": 40
        },
        {
         "State_Name": "Tennessee",
         "Livestock_Revenue": 1616537000,
         "Crop_Revenue": 2182397000,
         "Dominant_Industry": "Crops",
         "_deepnote_index_column": 41
        },
        {
         "State_Name": "Texas",
         "Livestock_Revenue": 18029734000,
         "Crop_Revenue": 6894307000,
         "Dominant_Industry": "Livestock",
         "_deepnote_index_column": 42
        },
        {
         "State_Name": "Utah",
         "Livestock_Revenue": 1277653000,
         "Crop_Revenue": 560956000,
         "Dominant_Industry": "Livestock",
         "_deepnote_index_column": 43
        },
        {
         "State_Name": "Vermont",
         "Livestock_Revenue": 593872000,
         "Crop_Revenue": 187096000,
         "Dominant_Industry": "Livestock",
         "_deepnote_index_column": 44
        },
        {
         "State_Name": "Virginia",
         "Livestock_Revenue": 2599039000,
         "Crop_Revenue": 1361462000,
         "Dominant_Industry": "Livestock",
         "_deepnote_index_column": 45
        },
        {
         "State_Name": "Washington",
         "Livestock_Revenue": 2651078000,
         "Crop_Revenue": 6983383000,
         "Dominant_Industry": "Crops",
         "_deepnote_index_column": 46
        },
        {
         "State_Name": "West Virginia",
         "Livestock_Revenue": 601162000,
         "Crop_Revenue": 153117000,
         "Dominant_Industry": "Livestock",
         "_deepnote_index_column": 47
        },
        {
         "State_Name": "Wisconsin",
         "Livestock_Revenue": 7359987000,
         "Crop_Revenue": 4067436000,
         "Dominant_Industry": "Livestock",
         "_deepnote_index_column": 48
        },
        {
         "State_Name": "Wyoming",
         "Livestock_Revenue": 1153913000,
         "Crop_Revenue": 318200000,
         "Dominant_Industry": "Livestock",
         "_deepnote_index_column": 49
        }
       ],
       "rows_bottom": null
      },
      "text/plain": "        State_Name  Livestock_Revenue  Crop_Revenue Dominant_Industry\n0          Alabama         4768266000    1212329000         Livestock\n1           Alaska           40817000      29642000         Livestock\n2          Arizona         1757790000    2094218000             Crops\n3         Arkansas         6026230000    3624930000         Livestock\n4       California        11800525000   33353834000             Crops\n5         Colorado         5252840000    2238862000         Livestock\n6      Connecticut          160071000     420043000             Crops\n7         Delaware         1140317000     325656000         Livestock\n8          Florida         1652810000    5704533000             Crops\n9          Georgia         6301312000    3271940000         Livestock\n10          Hawaii          146733000     417069000             Crops\n11           Idaho         4356606000    3210834000         Livestock\n12        Illinois         3166229000   13843743000             Crops\n13         Indiana         3986276000    7121060000             Crops\n14            Iowa        15123882000   13832573000         Livestock\n15          Kansas        12322289000    6460437000         Livestock\n16        Kentucky         3196834000    2541086000         Livestock\n17       Louisiana         1112027000    2060951000             Crops\n18           Maine          258123000     408839000             Crops\n19        Maryland         1524681000     948125000         Livestock\n20   Massachusetts          111661000     363524000             Crops\n21        Michigan         3576684000    4644252000             Crops\n22       Minnesota         8203872000   10191518000             Crops\n23     Mississippi         3904079000    2291890000         Livestock\n24        Missouri         5049623000    5476314000             Crops\n25         Montana         1935608000    1585015000         Livestock\n26        Nebraska        12672422000    9311007000         Livestock\n27          Nevada          389681000     276077000         Livestock\n28   New Hampshire           79992000     107802000             Crops\n29      New Jersey          113421000     984530000             Crops\n30      New Mexico         1931608000     650735000         Livestock\n31        New York         3261226000    2107986000         Livestock\n32  North Carolina         9165694000    3734980000         Livestock\n33    North Dakota         1553488000    6680614000             Crops\n34            Ohio         3914972000    5426253000             Crops\n35        Oklahoma         5948761000    1516751000         Livestock\n36          Oregon         1723466000    3283355000             Crops\n37    Pennsylvania         4977556000    2781329000         Livestock\n38    Rhode Island           17089000      40909000             Crops\n39  South Carolina         1912494000    1096245000         Livestock\n40    South Dakota         4554966000    5166557000             Crops\n41       Tennessee         1616537000    2182397000             Crops\n42           Texas        18029734000    6894307000         Livestock\n43            Utah         1277653000     560956000         Livestock\n44         Vermont          593872000     187096000         Livestock\n45        Virginia         2599039000    1361462000         Livestock\n46      Washington         2651078000    6983383000             Crops\n47   West Virginia          601162000     153117000         Livestock\n48       Wisconsin         7359987000    4067436000         Livestock\n49         Wyoming         1153913000     318200000         Livestock",
      "text/html": "<div>\n<style scoped>\n    .dataframe tbody tr th:only-of-type {\n        vertical-align: middle;\n    }\n\n    .dataframe tbody tr th {\n        vertical-align: top;\n    }\n\n    .dataframe thead th {\n        text-align: right;\n    }\n</style>\n<table border=\"1\" class=\"dataframe\">\n  <thead>\n    <tr style=\"text-align: right;\">\n      <th></th>\n      <th>State_Name</th>\n      <th>Livestock_Revenue</th>\n      <th>Crop_Revenue</th>\n      <th>Dominant_Industry</th>\n    </tr>\n  </thead>\n  <tbody>\n    <tr>\n      <th>0</th>\n      <td>Alabama</td>\n      <td>4768266000</td>\n      <td>1212329000</td>\n      <td>Livestock</td>\n    </tr>\n    <tr>\n      <th>1</th>\n      <td>Alaska</td>\n      <td>40817000</td>\n      <td>29642000</td>\n      <td>Livestock</td>\n    </tr>\n    <tr>\n      <th>2</th>\n      <td>Arizona</td>\n      <td>1757790000</td>\n      <td>2094218000</td>\n      <td>Crops</td>\n    </tr>\n    <tr>\n      <th>3</th>\n      <td>Arkansas</td>\n      <td>6026230000</td>\n      <td>3624930000</td>\n      <td>Livestock</td>\n    </tr>\n    <tr>\n      <th>4</th>\n      <td>California</td>\n      <td>11800525000</td>\n      <td>33353834000</td>\n      <td>Crops</td>\n    </tr>\n    <tr>\n      <th>5</th>\n      <td>Colorado</td>\n      <td>5252840000</td>\n      <td>2238862000</td>\n      <td>Livestock</td>\n    </tr>\n    <tr>\n      <th>6</th>\n      <td>Connecticut</td>\n      <td>160071000</td>\n      <td>420043000</td>\n      <td>Crops</td>\n    </tr>\n    <tr>\n      <th>7</th>\n      <td>Delaware</td>\n      <td>1140317000</td>\n      <td>325656000</td>\n      <td>Livestock</td>\n    </tr>\n    <tr>\n      <th>8</th>\n      <td>Florida</td>\n      <td>1652810000</td>\n      <td>5704533000</td>\n      <td>Crops</td>\n    </tr>\n    <tr>\n      <th>9</th>\n      <td>Georgia</td>\n      <td>6301312000</td>\n      <td>3271940000</td>\n      <td>Livestock</td>\n    </tr>\n    <tr>\n      <th>10</th>\n      <td>Hawaii</td>\n      <td>146733000</td>\n      <td>417069000</td>\n      <td>Crops</td>\n    </tr>\n    <tr>\n      <th>11</th>\n      <td>Idaho</td>\n      <td>4356606000</td>\n      <td>3210834000</td>\n      <td>Livestock</td>\n    </tr>\n    <tr>\n      <th>12</th>\n      <td>Illinois</td>\n      <td>3166229000</td>\n      <td>13843743000</td>\n      <td>Crops</td>\n    </tr>\n    <tr>\n      <th>13</th>\n      <td>Indiana</td>\n      <td>3986276000</td>\n      <td>7121060000</td>\n      <td>Crops</td>\n    </tr>\n    <tr>\n      <th>14</th>\n      <td>Iowa</td>\n      <td>15123882000</td>\n      <td>13832573000</td>\n      <td>Livestock</td>\n    </tr>\n    <tr>\n      <th>15</th>\n      <td>Kansas</td>\n      <td>12322289000</td>\n      <td>6460437000</td>\n      <td>Livestock</td>\n    </tr>\n    <tr>\n      <th>16</th>\n      <td>Kentucky</td>\n      <td>3196834000</td>\n      <td>2541086000</td>\n      <td>Livestock</td>\n    </tr>\n    <tr>\n      <th>17</th>\n      <td>Louisiana</td>\n      <td>1112027000</td>\n      <td>2060951000</td>\n      <td>Crops</td>\n    </tr>\n    <tr>\n      <th>18</th>\n      <td>Maine</td>\n      <td>258123000</td>\n      <td>408839000</td>\n      <td>Crops</td>\n    </tr>\n    <tr>\n      <th>19</th>\n      <td>Maryland</td>\n      <td>1524681000</td>\n      <td>948125000</td>\n      <td>Livestock</td>\n    </tr>\n    <tr>\n      <th>20</th>\n      <td>Massachusetts</td>\n      <td>111661000</td>\n      <td>363524000</td>\n      <td>Crops</td>\n    </tr>\n    <tr>\n      <th>21</th>\n      <td>Michigan</td>\n      <td>3576684000</td>\n      <td>4644252000</td>\n      <td>Crops</td>\n    </tr>\n    <tr>\n      <th>22</th>\n      <td>Minnesota</td>\n      <td>8203872000</td>\n      <td>10191518000</td>\n      <td>Crops</td>\n    </tr>\n    <tr>\n      <th>23</th>\n      <td>Mississippi</td>\n      <td>3904079000</td>\n      <td>2291890000</td>\n      <td>Livestock</td>\n    </tr>\n    <tr>\n      <th>24</th>\n      <td>Missouri</td>\n      <td>5049623000</td>\n      <td>5476314000</td>\n      <td>Crops</td>\n    </tr>\n    <tr>\n      <th>25</th>\n      <td>Montana</td>\n      <td>1935608000</td>\n      <td>1585015000</td>\n      <td>Livestock</td>\n    </tr>\n    <tr>\n      <th>26</th>\n      <td>Nebraska</td>\n      <td>12672422000</td>\n      <td>9311007000</td>\n      <td>Livestock</td>\n    </tr>\n    <tr>\n      <th>27</th>\n      <td>Nevada</td>\n      <td>389681000</td>\n      <td>276077000</td>\n      <td>Livestock</td>\n    </tr>\n    <tr>\n      <th>28</th>\n      <td>New Hampshire</td>\n      <td>79992000</td>\n      <td>107802000</td>\n      <td>Crops</td>\n    </tr>\n    <tr>\n      <th>29</th>\n      <td>New Jersey</td>\n      <td>113421000</td>\n      <td>984530000</td>\n      <td>Crops</td>\n    </tr>\n    <tr>\n      <th>30</th>\n      <td>New Mexico</td>\n      <td>1931608000</td>\n      <td>650735000</td>\n      <td>Livestock</td>\n    </tr>\n    <tr>\n      <th>31</th>\n      <td>New York</td>\n      <td>3261226000</td>\n      <td>2107986000</td>\n      <td>Livestock</td>\n    </tr>\n    <tr>\n      <th>32</th>\n      <td>North Carolina</td>\n      <td>9165694000</td>\n      <td>3734980000</td>\n      <td>Livestock</td>\n    </tr>\n    <tr>\n      <th>33</th>\n      <td>North Dakota</td>\n      <td>1553488000</td>\n      <td>6680614000</td>\n      <td>Crops</td>\n    </tr>\n    <tr>\n      <th>34</th>\n      <td>Ohio</td>\n      <td>3914972000</td>\n      <td>5426253000</td>\n      <td>Crops</td>\n    </tr>\n    <tr>\n      <th>35</th>\n      <td>Oklahoma</td>\n      <td>5948761000</td>\n      <td>1516751000</td>\n      <td>Livestock</td>\n    </tr>\n    <tr>\n      <th>36</th>\n      <td>Oregon</td>\n      <td>1723466000</td>\n      <td>3283355000</td>\n      <td>Crops</td>\n    </tr>\n    <tr>\n      <th>37</th>\n      <td>Pennsylvania</td>\n      <td>4977556000</td>\n      <td>2781329000</td>\n      <td>Livestock</td>\n    </tr>\n    <tr>\n      <th>38</th>\n      <td>Rhode Island</td>\n      <td>17089000</td>\n      <td>40909000</td>\n      <td>Crops</td>\n    </tr>\n    <tr>\n      <th>39</th>\n      <td>South Carolina</td>\n      <td>1912494000</td>\n      <td>1096245000</td>\n      <td>Livestock</td>\n    </tr>\n    <tr>\n      <th>40</th>\n      <td>South Dakota</td>\n      <td>4554966000</td>\n      <td>5166557000</td>\n      <td>Crops</td>\n    </tr>\n    <tr>\n      <th>41</th>\n      <td>Tennessee</td>\n      <td>1616537000</td>\n      <td>2182397000</td>\n      <td>Crops</td>\n    </tr>\n    <tr>\n      <th>42</th>\n      <td>Texas</td>\n      <td>18029734000</td>\n      <td>6894307000</td>\n      <td>Livestock</td>\n    </tr>\n    <tr>\n      <th>43</th>\n      <td>Utah</td>\n      <td>1277653000</td>\n      <td>560956000</td>\n      <td>Livestock</td>\n    </tr>\n    <tr>\n      <th>44</th>\n      <td>Vermont</td>\n      <td>593872000</td>\n      <td>187096000</td>\n      <td>Livestock</td>\n    </tr>\n    <tr>\n      <th>45</th>\n      <td>Virginia</td>\n      <td>2599039000</td>\n      <td>1361462000</td>\n      <td>Livestock</td>\n    </tr>\n    <tr>\n      <th>46</th>\n      <td>Washington</td>\n      <td>2651078000</td>\n      <td>6983383000</td>\n      <td>Crops</td>\n    </tr>\n    <tr>\n      <th>47</th>\n      <td>West Virginia</td>\n      <td>601162000</td>\n      <td>153117000</td>\n      <td>Livestock</td>\n    </tr>\n    <tr>\n      <th>48</th>\n      <td>Wisconsin</td>\n      <td>7359987000</td>\n      <td>4067436000</td>\n      <td>Livestock</td>\n    </tr>\n    <tr>\n      <th>49</th>\n      <td>Wyoming</td>\n      <td>1153913000</td>\n      <td>318200000</td>\n      <td>Livestock</td>\n    </tr>\n  </tbody>\n</table>\n</div>"
     },
     "metadata": {}
    }
   ]
  },
  {
   "cell_type": "code",
   "metadata": {
    "tags": [],
    "cell_id": "00038-70f41d45-86de-496b-8304-204e334f48c3",
    "deepnote_to_be_reexecuted": false,
    "source_hash": "70b0a6a1",
    "execution_start": 1637877105021,
    "execution_millis": 7,
    "deepnote_cell_type": "code"
   },
   "source": "def print_as_currency(value, postface=\"\"):\n    print(\"${:,}\".format(value) + postface)",
   "execution_count": 54,
   "outputs": []
  },
  {
   "cell_type": "code",
   "metadata": {
    "tags": [],
    "cell_id": "00037-f9cda950-b0c9-4a86-a1f6-48df9107a0e9",
    "deepnote_to_be_reexecuted": false,
    "source_hash": "4875112f",
    "execution_start": 1637877105681,
    "execution_millis": 4,
    "deepnote_output_heights": [
     21
    ],
    "deepnote_cell_type": "code"
   },
   "source": "total_livestock_revenue = crops_livestock_df[\"Livestock_Revenue\"].sum()\ntotal_crop_revenue = crops_livestock_df[\"Crop_Revenue\"].sum()\n\nprint_as_currency(total_livestock_revenue, postface=\" - US Total Livestock Revenue\")\nprint_as_currency(total_crop_revenue, postface=\" - US Total Crop Revenue\")",
   "execution_count": 55,
   "outputs": [
    {
     "name": "stdout",
     "text": "$194,975,996,000 - US Total Livestock Revenue\n$193,546,701,000 - US Total Crop Revenue\n",
     "output_type": "stream"
    }
   ]
  },
  {
   "cell_type": "markdown",
   "source": "As can be seen above, U.S. revenue totals for livestock and crops are very similar, with livestock only bringing in about 1.4 billion more in revenue in 2017.\n\nBelow we can map out which states earn more revenue for livestock and which earn more from crops",
   "metadata": {
    "tags": [],
    "cell_id": "00040-3efd44f7-0fa0-47c8-b30f-7a04e51f2c4b",
    "deepnote_cell_type": "markdown"
   }
  },
  {
   "cell_type": "code",
   "metadata": {
    "tags": [],
    "cell_id": "00035-505038e7-f462-4628-93e7-6811b2f1a3b3",
    "deepnote_to_be_reexecuted": false,
    "source_hash": "2ece4b89",
    "execution_start": 1637877107344,
    "execution_millis": 319,
    "deepnote_output_heights": [
     196
    ],
    "deepnote_cell_type": "code"
   },
   "source": "plot_map(crops_livestock_df, \"State_Name\", \"Dominant_Industry\", cmap=\"Dark2\", legend=True)",
   "execution_count": 56,
   "outputs": [
    {
     "data": {
      "text/plain": "<Figure size 432x288 with 1 Axes>",
      "image/png": "[encoded data removed]"
     },
     "metadata": {
      "needs_background": "light",
      "image/png": {
       "width": 349,
       "height": 194
      }
     },
     "output_type": "display_data"
    }
   ]
  },
  {
   "cell_type": "markdown",
   "source": "### Focusing in on livestock\nDistinguishing between crop farming and livestock farming is helfupl, but livestock is still a very large category that includes:\n- Beef cows\n- Milk cows\n- Hogs\n- Chickens\n\nBy diving into these details, we can further parse out the dominant type of livestock that each state produces.\n\nWe can look at either the total inventory of each animal type by state, or the total number of farms that have inventory of each animal by state. In this case, I'll look at the total number of farms that carry inventory of each animal.\n",
   "metadata": {
    "tags": [],
    "cell_id": "00042-953ccff5-bc7d-4c84-b613-828c360f8754",
    "deepnote_cell_type": "markdown"
   }
  },
  {
   "cell_type": "code",
   "metadata": {
    "tags": [],
    "cell_id": "00043-0d500732-41c0-4406-82c5-fc5a05a752c0",
    "deepnote_to_be_reexecuted": false,
    "source_hash": "29b05adc",
    "execution_start": 1637877111905,
    "execution_millis": 46,
    "deepnote_output_heights": [
     611
    ],
    "deepnote_cell_type": "code"
   },
   "source": "desired_descriptions = [\n    \"CATTLE, COWS, BEEF - OPERATIONS WITH INVENTORY\", \n    \"CATTLE, COWS, MILK - OPERATIONS WITH INVENTORY\",\n    \"HOGS - OPERATIONS WITH INVENTORY\",\n    \"CHICKENS, LAYERS - OPERATIONS WITH INVENTORY\"\n    ]\n\nlivestock_details_filter = (\n    (table_1_df[\"short_desc\"].isin(desired_descriptions)) &\n    (table_1_df[\"state_name\"] != \"Us Total\")\n    )\n\nlivestock_details_df_raw = table_1_df.loc[\n    livestock_details_filter,\n    [\"short_desc\", \"state_name\", \"value\"]\n    ]\n    \nlivestock_details_df_raw",
   "execution_count": 57,
   "outputs": [
    {
     "output_type": "execute_result",
     "execution_count": 57,
     "data": {
      "application/vnd.deepnote.dataframe.v2+json": {
       "row_count": 200,
       "column_count": 3,
       "columns": [
        {
         "name": "short_desc",
         "dtype": "object",
         "stats": {
          "unique_count": 4,
          "nan_count": 0,
          "categories": [
           {
            "name": "CATTLE, COWS, BEEF - OPERATIONS WITH INVENTORY",
            "count": 50
           },
           {
            "name": "CATTLE, COWS, MILK - OPERATIONS WITH INVENTORY",
            "count": 50
           },
           {
            "name": "2 others",
            "count": 100
           }
          ]
         }
        },
        {
         "name": "state_name",
         "dtype": "object",
         "stats": {
          "unique_count": 50,
          "nan_count": 0,
          "categories": [
           {
            "name": "Alabama",
            "count": 4
           },
           {
            "name": "Alaska",
            "count": 4
           },
           {
            "name": "48 others",
            "count": 192
           }
          ]
         }
        },
        {
         "name": "value",
         "dtype": "int64",
         "stats": {
          "unique_count": 198,
          "nan_count": 0,
          "min": "16",
          "max": "134250",
          "histogram": [
           {
            "bin_start": 16,
            "bin_end": 13439.4,
            "count": 182
           },
           {
            "bin_start": 13439.4,
            "bin_end": 26862.8,
            "count": 12
           },
           {
            "bin_start": 26862.8,
            "bin_end": 40286.2,
            "count": 3
           },
           {
            "bin_start": 40286.2,
            "bin_end": 53709.6,
            "count": 2
           },
           {
            "bin_start": 53709.6,
            "bin_end": 67133,
            "count": 0
           },
           {
            "bin_start": 67133,
            "bin_end": 80556.4,
            "count": 0
           },
           {
            "bin_start": 80556.4,
            "bin_end": 93979.8,
            "count": 0
           },
           {
            "bin_start": 93979.8,
            "bin_end": 107403.2,
            "count": 0
           },
           {
            "bin_start": 107403.2,
            "bin_end": 120826.59999999999,
            "count": 0
           },
           {
            "bin_start": 120826.59999999999,
            "bin_end": 134250,
            "count": 1
           }
          ]
         }
        },
        {
         "name": "_deepnote_index_column",
         "dtype": "int64"
        }
       ],
       "rows_top": [
        {
         "short_desc": "CATTLE, COWS, BEEF - OPERATIONS WITH INVENTORY",
         "state_name": "Alabama",
         "value": 20004,
         "_deepnote_index_column": 2298
        },
        {
         "short_desc": "CATTLE, COWS, BEEF - OPERATIONS WITH INVENTORY",
         "state_name": "Alaska",
         "value": 92,
         "_deepnote_index_column": 2299
        },
        {
         "short_desc": "CATTLE, COWS, BEEF - OPERATIONS WITH INVENTORY",
         "state_name": "Arizona",
         "value": 5560,
         "_deepnote_index_column": 2300
        },
        {
         "short_desc": "CATTLE, COWS, BEEF - OPERATIONS WITH INVENTORY",
         "state_name": "Arkansas",
         "value": 23036,
         "_deepnote_index_column": 2301
        },
        {
         "short_desc": "CATTLE, COWS, BEEF - OPERATIONS WITH INVENTORY",
         "state_name": "California",
         "value": 10254,
         "_deepnote_index_column": 2302
        },
        {
         "short_desc": "CATTLE, COWS, BEEF - OPERATIONS WITH INVENTORY",
         "state_name": "Colorado",
         "value": 12407,
         "_deepnote_index_column": 2303
        },
        {
         "short_desc": "CATTLE, COWS, BEEF - OPERATIONS WITH INVENTORY",
         "state_name": "Connecticut",
         "value": 860,
         "_deepnote_index_column": 2304
        },
        {
         "short_desc": "CATTLE, COWS, BEEF - OPERATIONS WITH INVENTORY",
         "state_name": "Delaware",
         "value": 235,
         "_deepnote_index_column": 2305
        },
        {
         "short_desc": "CATTLE, COWS, BEEF - OPERATIONS WITH INVENTORY",
         "state_name": "Florida",
         "value": 18493,
         "_deepnote_index_column": 2306
        },
        {
         "short_desc": "CATTLE, COWS, BEEF - OPERATIONS WITH INVENTORY",
         "state_name": "Georgia",
         "value": 14869,
         "_deepnote_index_column": 2307
        },
        {
         "short_desc": "CATTLE, COWS, BEEF - OPERATIONS WITH INVENTORY",
         "state_name": "Hawaii",
         "value": 1047,
         "_deepnote_index_column": 2308
        },
        {
         "short_desc": "CATTLE, COWS, BEEF - OPERATIONS WITH INVENTORY",
         "state_name": "Idaho",
         "value": 8149,
         "_deepnote_index_column": 2309
        },
        {
         "short_desc": "CATTLE, COWS, BEEF - OPERATIONS WITH INVENTORY",
         "state_name": "Illinois",
         "value": 13139,
         "_deepnote_index_column": 2310
        },
        {
         "short_desc": "CATTLE, COWS, BEEF - OPERATIONS WITH INVENTORY",
         "state_name": "Indiana",
         "value": 11753,
         "_deepnote_index_column": 2311
        },
        {
         "short_desc": "CATTLE, COWS, BEEF - OPERATIONS WITH INVENTORY",
         "state_name": "Iowa",
         "value": 19171,
         "_deepnote_index_column": 2312
        },
        {
         "short_desc": "CATTLE, COWS, BEEF - OPERATIONS WITH INVENTORY",
         "state_name": "Kansas",
         "value": 23682,
         "_deepnote_index_column": 2313
        },
        {
         "short_desc": "CATTLE, COWS, BEEF - OPERATIONS WITH INVENTORY",
         "state_name": "Kentucky",
         "value": 33864,
         "_deepnote_index_column": 2314
        },
        {
         "short_desc": "CATTLE, COWS, BEEF - OPERATIONS WITH INVENTORY",
         "state_name": "Louisiana",
         "value": 12051,
         "_deepnote_index_column": 2315
        },
        {
         "short_desc": "CATTLE, COWS, BEEF - OPERATIONS WITH INVENTORY",
         "state_name": "Maine",
         "value": 1141,
         "_deepnote_index_column": 2316
        },
        {
         "short_desc": "CATTLE, COWS, BEEF - OPERATIONS WITH INVENTORY",
         "state_name": "Maryland",
         "value": 2486,
         "_deepnote_index_column": 2317
        },
        {
         "short_desc": "CATTLE, COWS, BEEF - OPERATIONS WITH INVENTORY",
         "state_name": "Massachusetts",
         "value": 879,
         "_deepnote_index_column": 2318
        },
        {
         "short_desc": "CATTLE, COWS, BEEF - OPERATIONS WITH INVENTORY",
         "state_name": "Michigan",
         "value": 7445,
         "_deepnote_index_column": 2319
        },
        {
         "short_desc": "CATTLE, COWS, BEEF - OPERATIONS WITH INVENTORY",
         "state_name": "Minnesota",
         "value": 13339,
         "_deepnote_index_column": 2320
        },
        {
         "short_desc": "CATTLE, COWS, BEEF - OPERATIONS WITH INVENTORY",
         "state_name": "Mississippi",
         "value": 14752,
         "_deepnote_index_column": 2321
        },
        {
         "short_desc": "CATTLE, COWS, BEEF - OPERATIONS WITH INVENTORY",
         "state_name": "Missouri",
         "value": 48122,
         "_deepnote_index_column": 2322
        },
        {
         "short_desc": "CATTLE, COWS, BEEF - OPERATIONS WITH INVENTORY",
         "state_name": "Montana",
         "value": 10290,
         "_deepnote_index_column": 2323
        },
        {
         "short_desc": "CATTLE, COWS, BEEF - OPERATIONS WITH INVENTORY",
         "state_name": "Nebraska",
         "value": 17707,
         "_deepnote_index_column": 2324
        },
        {
         "short_desc": "CATTLE, COWS, BEEF - OPERATIONS WITH INVENTORY",
         "state_name": "Nevada",
         "value": 1356,
         "_deepnote_index_column": 2325
        },
        {
         "short_desc": "CATTLE, COWS, BEEF - OPERATIONS WITH INVENTORY",
         "state_name": "New Hampshire",
         "value": 602,
         "_deepnote_index_column": 2326
        },
        {
         "short_desc": "CATTLE, COWS, BEEF - OPERATIONS WITH INVENTORY",
         "state_name": "New Jersey",
         "value": 941,
         "_deepnote_index_column": 2327
        },
        {
         "short_desc": "CATTLE, COWS, BEEF - OPERATIONS WITH INVENTORY",
         "state_name": "New Mexico",
         "value": 8991,
         "_deepnote_index_column": 2328
        },
        {
         "short_desc": "CATTLE, COWS, BEEF - OPERATIONS WITH INVENTORY",
         "state_name": "New York",
         "value": 7310,
         "_deepnote_index_column": 2329
        },
        {
         "short_desc": "CATTLE, COWS, BEEF - OPERATIONS WITH INVENTORY",
         "state_name": "North Carolina",
         "value": 16407,
         "_deepnote_index_column": 2330
        },
        {
         "short_desc": "CATTLE, COWS, BEEF - OPERATIONS WITH INVENTORY",
         "state_name": "North Dakota",
         "value": 8245,
         "_deepnote_index_column": 2331
        },
        {
         "short_desc": "CATTLE, COWS, BEEF - OPERATIONS WITH INVENTORY",
         "state_name": "Ohio",
         "value": 17733,
         "_deepnote_index_column": 2332
        },
        {
         "short_desc": "CATTLE, COWS, BEEF - OPERATIONS WITH INVENTORY",
         "state_name": "Oklahoma",
         "value": 46080,
         "_deepnote_index_column": 2333
        },
        {
         "short_desc": "CATTLE, COWS, BEEF - OPERATIONS WITH INVENTORY",
         "state_name": "Oregon",
         "value": 11548,
         "_deepnote_index_column": 2334
        },
        {
         "short_desc": "CATTLE, COWS, BEEF - OPERATIONS WITH INVENTORY",
         "state_name": "Pennsylvania",
         "value": 13176,
         "_deepnote_index_column": 2335
        },
        {
         "short_desc": "CATTLE, COWS, BEEF - OPERATIONS WITH INVENTORY",
         "state_name": "Rhode Island",
         "value": 163,
         "_deepnote_index_column": 2336
        },
        {
         "short_desc": "CATTLE, COWS, BEEF - OPERATIONS WITH INVENTORY",
         "state_name": "South Carolina",
         "value": 6917,
         "_deepnote_index_column": 2337
        },
        {
         "short_desc": "CATTLE, COWS, BEEF - OPERATIONS WITH INVENTORY",
         "state_name": "South Dakota",
         "value": 12613,
         "_deepnote_index_column": 2338
        },
        {
         "short_desc": "CATTLE, COWS, BEEF - OPERATIONS WITH INVENTORY",
         "state_name": "Tennessee",
         "value": 32960,
         "_deepnote_index_column": 2339
        },
        {
         "short_desc": "CATTLE, COWS, BEEF - OPERATIONS WITH INVENTORY",
         "state_name": "Texas",
         "value": 134250,
         "_deepnote_index_column": 2340
        },
        {
         "short_desc": "CATTLE, COWS, BEEF - OPERATIONS WITH INVENTORY",
         "state_name": "Utah",
         "value": 6508,
         "_deepnote_index_column": 2341
        },
        {
         "short_desc": "CATTLE, COWS, BEEF - OPERATIONS WITH INVENTORY",
         "state_name": "Vermont",
         "value": 1399,
         "_deepnote_index_column": 2342
        },
        {
         "short_desc": "CATTLE, COWS, BEEF - OPERATIONS WITH INVENTORY",
         "state_name": "Virginia",
         "value": 18453,
         "_deepnote_index_column": 2343
        },
        {
         "short_desc": "CATTLE, COWS, BEEF - OPERATIONS WITH INVENTORY",
         "state_name": "Washington",
         "value": 9295,
         "_deepnote_index_column": 2344
        },
        {
         "short_desc": "CATTLE, COWS, BEEF - OPERATIONS WITH INVENTORY",
         "state_name": "West Virginia",
         "value": 10336,
         "_deepnote_index_column": 2345
        },
        {
         "short_desc": "CATTLE, COWS, BEEF - OPERATIONS WITH INVENTORY",
         "state_name": "Wisconsin",
         "value": 13954,
         "_deepnote_index_column": 2346
        },
        {
         "short_desc": "CATTLE, COWS, BEEF - OPERATIONS WITH INVENTORY",
         "state_name": "Wyoming",
         "value": 4982,
         "_deepnote_index_column": 2347
        },
        {
         "short_desc": "CATTLE, COWS, MILK - OPERATIONS WITH INVENTORY",
         "state_name": "Alabama",
         "value": 366,
         "_deepnote_index_column": 2400
        },
        {
         "short_desc": "CATTLE, COWS, MILK - OPERATIONS WITH INVENTORY",
         "state_name": "Alaska",
         "value": 27,
         "_deepnote_index_column": 2401
        },
        {
         "short_desc": "CATTLE, COWS, MILK - OPERATIONS WITH INVENTORY",
         "state_name": "Arizona",
         "value": 186,
         "_deepnote_index_column": 2402
        },
        {
         "short_desc": "CATTLE, COWS, MILK - OPERATIONS WITH INVENTORY",
         "state_name": "Arkansas",
         "value": 72,
         "_deepnote_index_column": 2403
        },
        {
         "short_desc": "CATTLE, COWS, MILK - OPERATIONS WITH INVENTORY",
         "state_name": "California",
         "value": 1653,
         "_deepnote_index_column": 2404
        },
        {
         "short_desc": "CATTLE, COWS, MILK - OPERATIONS WITH INVENTORY",
         "state_name": "Colorado",
         "value": 583,
         "_deepnote_index_column": 2405
        },
        {
         "short_desc": "CATTLE, COWS, MILK - OPERATIONS WITH INVENTORY",
         "state_name": "Connecticut",
         "value": 198,
         "_deepnote_index_column": 2406
        },
        {
         "short_desc": "CATTLE, COWS, MILK - OPERATIONS WITH INVENTORY",
         "state_name": "Delaware",
         "value": 50,
         "_deepnote_index_column": 2407
        },
        {
         "short_desc": "CATTLE, COWS, MILK - OPERATIONS WITH INVENTORY",
         "state_name": "Florida",
         "value": 600,
         "_deepnote_index_column": 2408
        },
        {
         "short_desc": "CATTLE, COWS, MILK - OPERATIONS WITH INVENTORY",
         "state_name": "Georgia",
         "value": 572,
         "_deepnote_index_column": 2409
        },
        {
         "short_desc": "CATTLE, COWS, MILK - OPERATIONS WITH INVENTORY",
         "state_name": "Hawaii",
         "value": 20,
         "_deepnote_index_column": 2410
        },
        {
         "short_desc": "CATTLE, COWS, MILK - OPERATIONS WITH INVENTORY",
         "state_name": "Idaho",
         "value": 785,
         "_deepnote_index_column": 2411
        },
        {
         "short_desc": "CATTLE, COWS, MILK - OPERATIONS WITH INVENTORY",
         "state_name": "Illinois",
         "value": 924,
         "_deepnote_index_column": 2412
        },
        {
         "short_desc": "CATTLE, COWS, MILK - OPERATIONS WITH INVENTORY",
         "state_name": "Indiana",
         "value": 2049,
         "_deepnote_index_column": 2413
        },
        {
         "short_desc": "CATTLE, COWS, MILK - OPERATIONS WITH INVENTORY",
         "state_name": "Iowa",
         "value": 1592,
         "_deepnote_index_column": 2414
        },
        {
         "short_desc": "CATTLE, COWS, MILK - OPERATIONS WITH INVENTORY",
         "state_name": "Kansas",
         "value": 639,
         "_deepnote_index_column": 2415
        },
        {
         "short_desc": "CATTLE, COWS, MILK - OPERATIONS WITH INVENTORY",
         "state_name": "Kentucky",
         "value": 1577,
         "_deepnote_index_column": 2416
        },
        {
         "short_desc": "CATTLE, COWS, MILK - OPERATIONS WITH INVENTORY",
         "state_name": "Louisiana",
         "value": 132,
         "_deepnote_index_column": 2417
        },
        {
         "short_desc": "CATTLE, COWS, MILK - OPERATIONS WITH INVENTORY",
         "state_name": "Maine",
         "value": 450,
         "_deepnote_index_column": 2418
        },
        {
         "short_desc": "CATTLE, COWS, MILK - OPERATIONS WITH INVENTORY",
         "state_name": "Maryland",
         "value": 511,
         "_deepnote_index_column": 2419
        },
        {
         "short_desc": "CATTLE, COWS, MILK - OPERATIONS WITH INVENTORY",
         "state_name": "Massachusetts",
         "value": 220,
         "_deepnote_index_column": 2420
        },
        {
         "short_desc": "CATTLE, COWS, MILK - OPERATIONS WITH INVENTORY",
         "state_name": "Michigan",
         "value": 2158,
         "_deepnote_index_column": 2421
        },
        {
         "short_desc": "CATTLE, COWS, MILK - OPERATIONS WITH INVENTORY",
         "state_name": "Minnesota",
         "value": 3644,
         "_deepnote_index_column": 2422
        },
        {
         "short_desc": "CATTLE, COWS, MILK - OPERATIONS WITH INVENTORY",
         "state_name": "Mississippi",
         "value": 108,
         "_deepnote_index_column": 2423
        },
        {
         "short_desc": "CATTLE, COWS, MILK - OPERATIONS WITH INVENTORY",
         "state_name": "Missouri",
         "value": 2280,
         "_deepnote_index_column": 2424
        },
        {
         "short_desc": "CATTLE, COWS, MILK - OPERATIONS WITH INVENTORY",
         "state_name": "Montana",
         "value": 379,
         "_deepnote_index_column": 2425
        },
        {
         "short_desc": "CATTLE, COWS, MILK - OPERATIONS WITH INVENTORY",
         "state_name": "Nebraska",
         "value": 436,
         "_deepnote_index_column": 2426
        },
        {
         "short_desc": "CATTLE, COWS, MILK - OPERATIONS WITH INVENTORY",
         "state_name": "Nevada",
         "value": 61,
         "_deepnote_index_column": 2427
        },
        {
         "short_desc": "CATTLE, COWS, MILK - OPERATIONS WITH INVENTORY",
         "state_name": "New Hampshire",
         "value": 216,
         "_deepnote_index_column": 2428
        },
        {
         "short_desc": "CATTLE, COWS, MILK - OPERATIONS WITH INVENTORY",
         "state_name": "New Jersey",
         "value": 109,
         "_deepnote_index_column": 2429
        },
        {
         "short_desc": "CATTLE, COWS, MILK - OPERATIONS WITH INVENTORY",
         "state_name": "New Mexico",
         "value": 389,
         "_deepnote_index_column": 2430
        },
        {
         "short_desc": "CATTLE, COWS, MILK - OPERATIONS WITH INVENTORY",
         "state_name": "New York",
         "value": 4648,
         "_deepnote_index_column": 2431
        },
        {
         "short_desc": "CATTLE, COWS, MILK - OPERATIONS WITH INVENTORY",
         "state_name": "North Carolina",
         "value": 546,
         "_deepnote_index_column": 2432
        },
        {
         "short_desc": "CATTLE, COWS, MILK - OPERATIONS WITH INVENTORY",
         "state_name": "North Dakota",
         "value": 156,
         "_deepnote_index_column": 2433
        },
        {
         "short_desc": "CATTLE, COWS, MILK - OPERATIONS WITH INVENTORY",
         "state_name": "Ohio",
         "value": 3346,
         "_deepnote_index_column": 2434
        },
        {
         "short_desc": "CATTLE, COWS, MILK - OPERATIONS WITH INVENTORY",
         "state_name": "Oklahoma",
         "value": 471,
         "_deepnote_index_column": 2435
        },
        {
         "short_desc": "CATTLE, COWS, MILK - OPERATIONS WITH INVENTORY",
         "state_name": "Oregon",
         "value": 645,
         "_deepnote_index_column": 2436
        },
        {
         "short_desc": "CATTLE, COWS, MILK - OPERATIONS WITH INVENTORY",
         "state_name": "Pennsylvania",
         "value": 6914,
         "_deepnote_index_column": 2437
        },
        {
         "short_desc": "CATTLE, COWS, MILK - OPERATIONS WITH INVENTORY",
         "state_name": "Rhode Island",
         "value": 16,
         "_deepnote_index_column": 2438
        },
        {
         "short_desc": "CATTLE, COWS, MILK - OPERATIONS WITH INVENTORY",
         "state_name": "South Carolina",
         "value": 215,
         "_deepnote_index_column": 2439
        },
        {
         "short_desc": "CATTLE, COWS, MILK - OPERATIONS WITH INVENTORY",
         "state_name": "South Dakota",
         "value": 509,
         "_deepnote_index_column": 2440
        },
        {
         "short_desc": "CATTLE, COWS, MILK - OPERATIONS WITH INVENTORY",
         "state_name": "Tennessee",
         "value": 986,
         "_deepnote_index_column": 2441
        },
        {
         "short_desc": "CATTLE, COWS, MILK - OPERATIONS WITH INVENTORY",
         "state_name": "Texas",
         "value": 467,
         "_deepnote_index_column": 2442
        },
        {
         "short_desc": "CATTLE, COWS, MILK - OPERATIONS WITH INVENTORY",
         "state_name": "Utah",
         "value": 445,
         "_deepnote_index_column": 2443
        },
        {
         "short_desc": "CATTLE, COWS, MILK - OPERATIONS WITH INVENTORY",
         "state_name": "Vermont",
         "value": 841,
         "_deepnote_index_column": 2444
        },
        {
         "short_desc": "CATTLE, COWS, MILK - OPERATIONS WITH INVENTORY",
         "state_name": "Virginia",
         "value": 1048,
         "_deepnote_index_column": 2445
        },
        {
         "short_desc": "CATTLE, COWS, MILK - OPERATIONS WITH INVENTORY",
         "state_name": "Washington",
         "value": 661,
         "_deepnote_index_column": 2446
        },
        {
         "short_desc": "CATTLE, COWS, MILK - OPERATIONS WITH INVENTORY",
         "state_name": "West Virginia",
         "value": 458,
         "_deepnote_index_column": 2447
        },
        {
         "short_desc": "CATTLE, COWS, MILK - OPERATIONS WITH INVENTORY",
         "state_name": "Wisconsin",
         "value": 9037,
         "_deepnote_index_column": 2448
        },
        {
         "short_desc": "CATTLE, COWS, MILK - OPERATIONS WITH INVENTORY",
         "state_name": "Wyoming",
         "value": 204,
         "_deepnote_index_column": 2449
        },
        {
         "short_desc": "HOGS - OPERATIONS WITH INVENTORY",
         "state_name": "Alabama",
         "value": 1074,
         "_deepnote_index_column": 2604
        },
        {
         "short_desc": "HOGS - OPERATIONS WITH INVENTORY",
         "state_name": "Alaska",
         "value": 64,
         "_deepnote_index_column": 2605
        },
        {
         "short_desc": "HOGS - OPERATIONS WITH INVENTORY",
         "state_name": "Arizona",
         "value": 521,
         "_deepnote_index_column": 2606
        },
        {
         "short_desc": "HOGS - OPERATIONS WITH INVENTORY",
         "state_name": "Arkansas",
         "value": 1021,
         "_deepnote_index_column": 2607
        },
        {
         "short_desc": "HOGS - OPERATIONS WITH INVENTORY",
         "state_name": "California",
         "value": 1389,
         "_deepnote_index_column": 2608
        },
        {
         "short_desc": "HOGS - OPERATIONS WITH INVENTORY",
         "state_name": "Colorado",
         "value": 1227,
         "_deepnote_index_column": 2609
        },
        {
         "short_desc": "HOGS - OPERATIONS WITH INVENTORY",
         "state_name": "Connecticut",
         "value": 214,
         "_deepnote_index_column": 2610
        },
        {
         "short_desc": "HOGS - OPERATIONS WITH INVENTORY",
         "state_name": "Delaware",
         "value": 55,
         "_deepnote_index_column": 2611
        },
        {
         "short_desc": "HOGS - OPERATIONS WITH INVENTORY",
         "state_name": "Florida",
         "value": 1810,
         "_deepnote_index_column": 2612
        },
        {
         "short_desc": "HOGS - OPERATIONS WITH INVENTORY",
         "state_name": "Georgia",
         "value": 1091,
         "_deepnote_index_column": 2613
        },
        {
         "short_desc": "HOGS - OPERATIONS WITH INVENTORY",
         "state_name": "Hawaii",
         "value": 226,
         "_deepnote_index_column": 2614
        },
        {
         "short_desc": "HOGS - OPERATIONS WITH INVENTORY",
         "state_name": "Idaho",
         "value": 606,
         "_deepnote_index_column": 2615
        },
        {
         "short_desc": "HOGS - OPERATIONS WITH INVENTORY",
         "state_name": "Illinois",
         "value": 2153,
         "_deepnote_index_column": 2616
        },
        {
         "short_desc": "HOGS - OPERATIONS WITH INVENTORY",
         "state_name": "Indiana",
         "value": 2570,
         "_deepnote_index_column": 2617
        },
        {
         "short_desc": "HOGS - OPERATIONS WITH INVENTORY",
         "state_name": "Iowa",
         "value": 5660,
         "_deepnote_index_column": 2618
        },
        {
         "short_desc": "HOGS - OPERATIONS WITH INVENTORY",
         "state_name": "Kansas",
         "value": 943,
         "_deepnote_index_column": 2619
        },
        {
         "short_desc": "HOGS - OPERATIONS WITH INVENTORY",
         "state_name": "Kentucky",
         "value": 1805,
         "_deepnote_index_column": 2620
        },
        {
         "short_desc": "HOGS - OPERATIONS WITH INVENTORY",
         "state_name": "Louisiana",
         "value": 874,
         "_deepnote_index_column": 2621
        },
        {
         "short_desc": "HOGS - OPERATIONS WITH INVENTORY",
         "state_name": "Maine",
         "value": 429,
         "_deepnote_index_column": 2622
        },
        {
         "short_desc": "HOGS - OPERATIONS WITH INVENTORY",
         "state_name": "Maryland",
         "value": 562,
         "_deepnote_index_column": 2623
        },
        {
         "short_desc": "HOGS - OPERATIONS WITH INVENTORY",
         "state_name": "Massachusetts",
         "value": 337,
         "_deepnote_index_column": 2624
        },
        {
         "short_desc": "HOGS - OPERATIONS WITH INVENTORY",
         "state_name": "Michigan",
         "value": 2017,
         "_deepnote_index_column": 2625
        },
        {
         "short_desc": "HOGS - OPERATIONS WITH INVENTORY",
         "state_name": "Minnesota",
         "value": 3225,
         "_deepnote_index_column": 2626
        },
        {
         "short_desc": "HOGS - OPERATIONS WITH INVENTORY",
         "state_name": "Mississippi",
         "value": 784,
         "_deepnote_index_column": 2627
        },
        {
         "short_desc": "HOGS - OPERATIONS WITH INVENTORY",
         "state_name": "Missouri",
         "value": 2687,
         "_deepnote_index_column": 2628
        },
        {
         "short_desc": "HOGS - OPERATIONS WITH INVENTORY",
         "state_name": "Montana",
         "value": 452,
         "_deepnote_index_column": 2629
        },
        {
         "short_desc": "HOGS - OPERATIONS WITH INVENTORY",
         "state_name": "Nebraska",
         "value": 1230,
         "_deepnote_index_column": 2630
        },
        {
         "short_desc": "HOGS - OPERATIONS WITH INVENTORY",
         "state_name": "Nevada",
         "value": 70,
         "_deepnote_index_column": 2631
        },
        {
         "short_desc": "HOGS - OPERATIONS WITH INVENTORY",
         "state_name": "New Hampshire",
         "value": 281,
         "_deepnote_index_column": 2632
        },
        {
         "short_desc": "HOGS - OPERATIONS WITH INVENTORY",
         "state_name": "New Jersey",
         "value": 347,
         "_deepnote_index_column": 2633
        },
        {
         "short_desc": "HOGS - OPERATIONS WITH INVENTORY",
         "state_name": "New Mexico",
         "value": 353,
         "_deepnote_index_column": 2634
        },
        {
         "short_desc": "HOGS - OPERATIONS WITH INVENTORY",
         "state_name": "New York",
         "value": 1739,
         "_deepnote_index_column": 2635
        },
        {
         "short_desc": "HOGS - OPERATIONS WITH INVENTORY",
         "state_name": "North Carolina",
         "value": 2426,
         "_deepnote_index_column": 2636
        },
        {
         "short_desc": "HOGS - OPERATIONS WITH INVENTORY",
         "state_name": "North Dakota",
         "value": 156,
         "_deepnote_index_column": 2637
        },
        {
         "short_desc": "HOGS - OPERATIONS WITH INVENTORY",
         "state_name": "Ohio",
         "value": 3484,
         "_deepnote_index_column": 2638
        },
        {
         "short_desc": "HOGS - OPERATIONS WITH INVENTORY",
         "state_name": "Oklahoma",
         "value": 2264,
         "_deepnote_index_column": 2639
        },
        {
         "short_desc": "HOGS - OPERATIONS WITH INVENTORY",
         "state_name": "Oregon",
         "value": 1177,
         "_deepnote_index_column": 2640
        },
        {
         "short_desc": "HOGS - OPERATIONS WITH INVENTORY",
         "state_name": "Pennsylvania",
         "value": 2777,
         "_deepnote_index_column": 2641
        },
        {
         "short_desc": "HOGS - OPERATIONS WITH INVENTORY",
         "state_name": "Rhode Island",
         "value": 60,
         "_deepnote_index_column": 2642
        },
        {
         "short_desc": "HOGS - OPERATIONS WITH INVENTORY",
         "state_name": "South Carolina",
         "value": 1005,
         "_deepnote_index_column": 2643
        },
        {
         "short_desc": "HOGS - OPERATIONS WITH INVENTORY",
         "state_name": "South Dakota",
         "value": 571,
         "_deepnote_index_column": 2644
        },
        {
         "short_desc": "HOGS - OPERATIONS WITH INVENTORY",
         "state_name": "Tennessee",
         "value": 1898,
         "_deepnote_index_column": 2645
        },
        {
         "short_desc": "HOGS - OPERATIONS WITH INVENTORY",
         "state_name": "Texas",
         "value": 5894,
         "_deepnote_index_column": 2646
        },
        {
         "short_desc": "HOGS - OPERATIONS WITH INVENTORY",
         "state_name": "Utah",
         "value": 561,
         "_deepnote_index_column": 2647
        },
        {
         "short_desc": "HOGS - OPERATIONS WITH INVENTORY",
         "state_name": "Vermont",
         "value": 353,
         "_deepnote_index_column": 2648
        },
        {
         "short_desc": "HOGS - OPERATIONS WITH INVENTORY",
         "state_name": "Virginia",
         "value": 1461,
         "_deepnote_index_column": 2649
        },
        {
         "short_desc": "HOGS - OPERATIONS WITH INVENTORY",
         "state_name": "Washington",
         "value": 1126,
         "_deepnote_index_column": 2650
        },
        {
         "short_desc": "HOGS - OPERATIONS WITH INVENTORY",
         "state_name": "West Virginia",
         "value": 892,
         "_deepnote_index_column": 2651
        },
        {
         "short_desc": "HOGS - OPERATIONS WITH INVENTORY",
         "state_name": "Wisconsin",
         "value": 2198,
         "_deepnote_index_column": 2652
        },
        {
         "short_desc": "HOGS - OPERATIONS WITH INVENTORY",
         "state_name": "Wyoming",
         "value": 320,
         "_deepnote_index_column": 2653
        },
        {
         "short_desc": "CHICKENS, LAYERS - OPERATIONS WITH INVENTORY",
         "state_name": "Alabama",
         "value": 3793,
         "_deepnote_index_column": 2808
        },
        {
         "short_desc": "CHICKENS, LAYERS - OPERATIONS WITH INVENTORY",
         "state_name": "Alaska",
         "value": 189,
         "_deepnote_index_column": 2809
        },
        {
         "short_desc": "CHICKENS, LAYERS - OPERATIONS WITH INVENTORY",
         "state_name": "Arizona",
         "value": 2345,
         "_deepnote_index_column": 2810
        },
        {
         "short_desc": "CHICKENS, LAYERS - OPERATIONS WITH INVENTORY",
         "state_name": "Arkansas",
         "value": 4249,
         "_deepnote_index_column": 2811
        },
        {
         "short_desc": "CHICKENS, LAYERS - OPERATIONS WITH INVENTORY",
         "state_name": "California",
         "value": 6546,
         "_deepnote_index_column": 2812
        },
        {
         "short_desc": "CHICKENS, LAYERS - OPERATIONS WITH INVENTORY",
         "state_name": "Colorado",
         "value": 5919,
         "_deepnote_index_column": 2813
        },
        {
         "short_desc": "CHICKENS, LAYERS - OPERATIONS WITH INVENTORY",
         "state_name": "Connecticut",
         "value": 1265,
         "_deepnote_index_column": 2814
        },
        {
         "short_desc": "CHICKENS, LAYERS - OPERATIONS WITH INVENTORY",
         "state_name": "Delaware",
         "value": 200,
         "_deepnote_index_column": 2815
        },
        {
         "short_desc": "CHICKENS, LAYERS - OPERATIONS WITH INVENTORY",
         "state_name": "Florida",
         "value": 6339,
         "_deepnote_index_column": 2816
        },
        {
         "short_desc": "CHICKENS, LAYERS - OPERATIONS WITH INVENTORY",
         "state_name": "Georgia",
         "value": 4743,
         "_deepnote_index_column": 2817
        },
        {
         "short_desc": "CHICKENS, LAYERS - OPERATIONS WITH INVENTORY",
         "state_name": "Hawaii",
         "value": 674,
         "_deepnote_index_column": 2818
        },
        {
         "short_desc": "CHICKENS, LAYERS - OPERATIONS WITH INVENTORY",
         "state_name": "Idaho",
         "value": 3579,
         "_deepnote_index_column": 2819
        },
        {
         "short_desc": "CHICKENS, LAYERS - OPERATIONS WITH INVENTORY",
         "state_name": "Illinois",
         "value": 4077,
         "_deepnote_index_column": 2820
        },
        {
         "short_desc": "CHICKENS, LAYERS - OPERATIONS WITH INVENTORY",
         "state_name": "Indiana",
         "value": 5858,
         "_deepnote_index_column": 2821
        },
        {
         "short_desc": "CHICKENS, LAYERS - OPERATIONS WITH INVENTORY",
         "state_name": "Iowa",
         "value": 4425,
         "_deepnote_index_column": 2822
        },
        {
         "short_desc": "CHICKENS, LAYERS - OPERATIONS WITH INVENTORY",
         "state_name": "Kansas",
         "value": 3967,
         "_deepnote_index_column": 2823
        },
        {
         "short_desc": "CHICKENS, LAYERS - OPERATIONS WITH INVENTORY",
         "state_name": "Kentucky",
         "value": 8032,
         "_deepnote_index_column": 2824
        },
        {
         "short_desc": "CHICKENS, LAYERS - OPERATIONS WITH INVENTORY",
         "state_name": "Louisiana",
         "value": 3048,
         "_deepnote_index_column": 2825
        },
        {
         "short_desc": "CHICKENS, LAYERS - OPERATIONS WITH INVENTORY",
         "state_name": "Maine",
         "value": 1892,
         "_deepnote_index_column": 2826
        },
        {
         "short_desc": "CHICKENS, LAYERS - OPERATIONS WITH INVENTORY",
         "state_name": "Maryland",
         "value": 2009,
         "_deepnote_index_column": 2827
        },
        {
         "short_desc": "CHICKENS, LAYERS - OPERATIONS WITH INVENTORY",
         "state_name": "Massachusetts",
         "value": 1713,
         "_deepnote_index_column": 2828
        },
        {
         "short_desc": "CHICKENS, LAYERS - OPERATIONS WITH INVENTORY",
         "state_name": "Michigan",
         "value": 7039,
         "_deepnote_index_column": 2829
        },
        {
         "short_desc": "CHICKENS, LAYERS - OPERATIONS WITH INVENTORY",
         "state_name": "Minnesota",
         "value": 5245,
         "_deepnote_index_column": 2830
        },
        {
         "short_desc": "CHICKENS, LAYERS - OPERATIONS WITH INVENTORY",
         "state_name": "Mississippi",
         "value": 3004,
         "_deepnote_index_column": 2831
        },
        {
         "short_desc": "CHICKENS, LAYERS - OPERATIONS WITH INVENTORY",
         "state_name": "Missouri",
         "value": 9052,
         "_deepnote_index_column": 2832
        },
        {
         "short_desc": "CHICKENS, LAYERS - OPERATIONS WITH INVENTORY",
         "state_name": "Montana",
         "value": 2685,
         "_deepnote_index_column": 2833
        },
        {
         "short_desc": "CHICKENS, LAYERS - OPERATIONS WITH INVENTORY",
         "state_name": "Nebraska",
         "value": 2771,
         "_deepnote_index_column": 2834
        },
        {
         "short_desc": "CHICKENS, LAYERS - OPERATIONS WITH INVENTORY",
         "state_name": "Nevada",
         "value": 535,
         "_deepnote_index_column": 2835
        },
        {
         "short_desc": "CHICKENS, LAYERS - OPERATIONS WITH INVENTORY",
         "state_name": "New Hampshire",
         "value": 1145,
         "_deepnote_index_column": 2836
        },
        {
         "short_desc": "CHICKENS, LAYERS - OPERATIONS WITH INVENTORY",
         "state_name": "New Jersey",
         "value": 1986,
         "_deepnote_index_column": 2837
        },
        {
         "short_desc": "CHICKENS, LAYERS - OPERATIONS WITH INVENTORY",
         "state_name": "New Mexico",
         "value": 2848,
         "_deepnote_index_column": 2838
        },
        {
         "short_desc": "CHICKENS, LAYERS - OPERATIONS WITH INVENTORY",
         "state_name": "New York",
         "value": 5712,
         "_deepnote_index_column": 2839
        },
        {
         "short_desc": "CHICKENS, LAYERS - OPERATIONS WITH INVENTORY",
         "state_name": "North Carolina",
         "value": 5520,
         "_deepnote_index_column": 2840
        },
        {
         "short_desc": "CHICKENS, LAYERS - OPERATIONS WITH INVENTORY",
         "state_name": "North Dakota",
         "value": 743,
         "_deepnote_index_column": 2841
        },
        {
         "short_desc": "CHICKENS, LAYERS - OPERATIONS WITH INVENTORY",
         "state_name": "Ohio",
         "value": 10274,
         "_deepnote_index_column": 2842
        },
        {
         "short_desc": "CHICKENS, LAYERS - OPERATIONS WITH INVENTORY",
         "state_name": "Oklahoma",
         "value": 9894,
         "_deepnote_index_column": 2843
        },
        {
         "short_desc": "CHICKENS, LAYERS - OPERATIONS WITH INVENTORY",
         "state_name": "Oregon",
         "value": 7442,
         "_deepnote_index_column": 2844
        },
        {
         "short_desc": "CHICKENS, LAYERS - OPERATIONS WITH INVENTORY",
         "state_name": "Pennsylvania",
         "value": 9290,
         "_deepnote_index_column": 2845
        },
        {
         "short_desc": "CHICKENS, LAYERS - OPERATIONS WITH INVENTORY",
         "state_name": "Rhode Island",
         "value": 239,
         "_deepnote_index_column": 2846
        },
        {
         "short_desc": "CHICKENS, LAYERS - OPERATIONS WITH INVENTORY",
         "state_name": "South Carolina",
         "value": 3466,
         "_deepnote_index_column": 2847
        },
        {
         "short_desc": "CHICKENS, LAYERS - OPERATIONS WITH INVENTORY",
         "state_name": "South Dakota",
         "value": 1644,
         "_deepnote_index_column": 2848
        },
        {
         "short_desc": "CHICKENS, LAYERS - OPERATIONS WITH INVENTORY",
         "state_name": "Tennessee",
         "value": 8830,
         "_deepnote_index_column": 2849
        },
        {
         "short_desc": "CHICKENS, LAYERS - OPERATIONS WITH INVENTORY",
         "state_name": "Texas",
         "value": 28096,
         "_deepnote_index_column": 2850
        },
        {
         "short_desc": "CHICKENS, LAYERS - OPERATIONS WITH INVENTORY",
         "state_name": "Utah",
         "value": 2553,
         "_deepnote_index_column": 2851
        },
        {
         "short_desc": "CHICKENS, LAYERS - OPERATIONS WITH INVENTORY",
         "state_name": "Vermont",
         "value": 1486,
         "_deepnote_index_column": 2852
        },
        {
         "short_desc": "CHICKENS, LAYERS - OPERATIONS WITH INVENTORY",
         "state_name": "Virginia",
         "value": 5729,
         "_deepnote_index_column": 2853
        },
        {
         "short_desc": "CHICKENS, LAYERS - OPERATIONS WITH INVENTORY",
         "state_name": "Washington",
         "value": 6451,
         "_deepnote_index_column": 2854
        },
        {
         "short_desc": "CHICKENS, LAYERS - OPERATIONS WITH INVENTORY",
         "state_name": "West Virginia",
         "value": 4464,
         "_deepnote_index_column": 2855
        },
        {
         "short_desc": "CHICKENS, LAYERS - OPERATIONS WITH INVENTORY",
         "state_name": "Wisconsin",
         "value": 7992,
         "_deepnote_index_column": 2856
        },
        {
         "short_desc": "CHICKENS, LAYERS - OPERATIONS WITH INVENTORY",
         "state_name": "Wyoming",
         "value": 1503,
         "_deepnote_index_column": 2857
        }
       ],
       "rows_bottom": null
      },
      "text/plain": "                                          short_desc     state_name  value\n2298  CATTLE, COWS, BEEF - OPERATIONS WITH INVENTORY        Alabama  20004\n2299  CATTLE, COWS, BEEF - OPERATIONS WITH INVENTORY         Alaska     92\n2300  CATTLE, COWS, BEEF - OPERATIONS WITH INVENTORY        Arizona   5560\n2301  CATTLE, COWS, BEEF - OPERATIONS WITH INVENTORY       Arkansas  23036\n2302  CATTLE, COWS, BEEF - OPERATIONS WITH INVENTORY     California  10254\n...                                              ...            ...    ...\n2853    CHICKENS, LAYERS - OPERATIONS WITH INVENTORY       Virginia   5729\n2854    CHICKENS, LAYERS - OPERATIONS WITH INVENTORY     Washington   6451\n2855    CHICKENS, LAYERS - OPERATIONS WITH INVENTORY  West Virginia   4464\n2856    CHICKENS, LAYERS - OPERATIONS WITH INVENTORY      Wisconsin   7992\n2857    CHICKENS, LAYERS - OPERATIONS WITH INVENTORY        Wyoming   1503\n\n[200 rows x 3 columns]",
      "text/html": "<div>\n<style scoped>\n    .dataframe tbody tr th:only-of-type {\n        vertical-align: middle;\n    }\n\n    .dataframe tbody tr th {\n        vertical-align: top;\n    }\n\n    .dataframe thead th {\n        text-align: right;\n    }\n</style>\n<table border=\"1\" class=\"dataframe\">\n  <thead>\n    <tr style=\"text-align: right;\">\n      <th></th>\n      <th>short_desc</th>\n      <th>state_name</th>\n      <th>value</th>\n    </tr>\n  </thead>\n  <tbody>\n    <tr>\n      <th>2298</th>\n      <td>CATTLE, COWS, BEEF - OPERATIONS WITH INVENTORY</td>\n      <td>Alabama</td>\n      <td>20004</td>\n    </tr>\n    <tr>\n      <th>2299</th>\n      <td>CATTLE, COWS, BEEF - OPERATIONS WITH INVENTORY</td>\n      <td>Alaska</td>\n      <td>92</td>\n    </tr>\n    <tr>\n      <th>2300</th>\n      <td>CATTLE, COWS, BEEF - OPERATIONS WITH INVENTORY</td>\n      <td>Arizona</td>\n      <td>5560</td>\n    </tr>\n    <tr>\n      <th>2301</th>\n      <td>CATTLE, COWS, BEEF - OPERATIONS WITH INVENTORY</td>\n      <td>Arkansas</td>\n      <td>23036</td>\n    </tr>\n    <tr>\n      <th>2302</th>\n      <td>CATTLE, COWS, BEEF - OPERATIONS WITH INVENTORY</td>\n      <td>California</td>\n      <td>10254</td>\n    </tr>\n    <tr>\n      <th>...</th>\n      <td>...</td>\n      <td>...</td>\n      <td>...</td>\n    </tr>\n    <tr>\n      <th>2853</th>\n      <td>CHICKENS, LAYERS - OPERATIONS WITH INVENTORY</td>\n      <td>Virginia</td>\n      <td>5729</td>\n    </tr>\n    <tr>\n      <th>2854</th>\n      <td>CHICKENS, LAYERS - OPERATIONS WITH INVENTORY</td>\n      <td>Washington</td>\n      <td>6451</td>\n    </tr>\n    <tr>\n      <th>2855</th>\n      <td>CHICKENS, LAYERS - OPERATIONS WITH INVENTORY</td>\n      <td>West Virginia</td>\n      <td>4464</td>\n    </tr>\n    <tr>\n      <th>2856</th>\n      <td>CHICKENS, LAYERS - OPERATIONS WITH INVENTORY</td>\n      <td>Wisconsin</td>\n      <td>7992</td>\n    </tr>\n    <tr>\n      <th>2857</th>\n      <td>CHICKENS, LAYERS - OPERATIONS WITH INVENTORY</td>\n      <td>Wyoming</td>\n      <td>1503</td>\n    </tr>\n  </tbody>\n</table>\n<p>200 rows × 3 columns</p>\n</div>"
     },
     "metadata": {}
    }
   ]
  },
  {
   "cell_type": "code",
   "metadata": {
    "tags": [],
    "cell_id": "00044-39943927-b8ef-48fc-bfb1-468d32c0cd57",
    "deepnote_to_be_reexecuted": false,
    "source_hash": "dd68ec90",
    "execution_start": 1637877113648,
    "execution_millis": 92,
    "deepnote_cell_type": "code"
   },
   "source": "livestock_details_df = livestock_details_df_raw.pivot(index=\"state_name\", columns=\"short_desc\", values=\"value\")\npercentages = livestock_details_df.div(livestock_details_df.sum(axis=1), axis=0)\n\npercentage_columns = [\"Percent_Beef_Cow_Farms\", \"Percent_Milk_Cow_Farms\", \"Percent_Chicken_Farms\", \"Percent_Hog_Farms\"]\npercentages.columns = percentage_columns\n\nlivestock_details_df = livestock_details_df.join(percentages)\nlivestock_details_df = livestock_details_df.reset_index()\nlivestock_details_df.columns = [\n    \"State_Name\", \"Num_Beef_Cow_Farms\", \"Num_Milk_Cow_Farms\", \n    \"Num_Chicken_Farms\", \"Num_Hog_Farms\"] + percentage_columns\n\nfor column in percentage_columns:\n    livestock_details_df[column] = livestock_details_df[column].round(2)\n\nlivestock_details_df",
   "execution_count": 58,
   "outputs": [
    {
     "output_type": "execute_result",
     "execution_count": 58,
     "data": {
      "application/vnd.deepnote.dataframe.v2+json": {
       "row_count": 50,
       "column_count": 9,
       "columns": [
        {
         "name": "State_Name",
         "dtype": "object",
         "stats": {
          "unique_count": 50,
          "nan_count": 0,
          "categories": [
           {
            "name": "Alabama",
            "count": 1
           },
           {
            "name": "Alaska",
            "count": 1
           },
           {
            "name": "48 others",
            "count": 48
           }
          ]
         }
        },
        {
         "name": "Num_Beef_Cow_Farms",
         "dtype": "int64",
         "stats": {
          "unique_count": 50,
          "nan_count": 0,
          "min": "92",
          "max": "134250",
          "histogram": [
           {
            "bin_start": 92,
            "bin_end": 13507.8,
            "count": 33
           },
           {
            "bin_start": 13507.8,
            "bin_end": 26923.6,
            "count": 12
           },
           {
            "bin_start": 26923.6,
            "bin_end": 40339.399999999994,
            "count": 2
           },
           {
            "bin_start": 40339.399999999994,
            "bin_end": 53755.2,
            "count": 2
           },
           {
            "bin_start": 53755.2,
            "bin_end": 67171,
            "count": 0
           },
           {
            "bin_start": 67171,
            "bin_end": 80586.79999999999,
            "count": 0
           },
           {
            "bin_start": 80586.79999999999,
            "bin_end": 94002.59999999999,
            "count": 0
           },
           {
            "bin_start": 94002.59999999999,
            "bin_end": 107418.4,
            "count": 0
           },
           {
            "bin_start": 107418.4,
            "bin_end": 120834.2,
            "count": 0
           },
           {
            "bin_start": 120834.2,
            "bin_end": 134250,
            "count": 1
           }
          ]
         }
        },
        {
         "name": "Num_Milk_Cow_Farms",
         "dtype": "int64",
         "stats": {
          "unique_count": 50,
          "nan_count": 0,
          "min": "16",
          "max": "9037",
          "histogram": [
           {
            "bin_start": 16,
            "bin_end": 918.1,
            "count": 36
           },
           {
            "bin_start": 918.1,
            "bin_end": 1820.2,
            "count": 6
           },
           {
            "bin_start": 1820.2,
            "bin_end": 2722.3,
            "count": 3
           },
           {
            "bin_start": 2722.3,
            "bin_end": 3624.4,
            "count": 1
           },
           {
            "bin_start": 3624.4,
            "bin_end": 4526.5,
            "count": 1
           },
           {
            "bin_start": 4526.5,
            "bin_end": 5428.6,
            "count": 1
           },
           {
            "bin_start": 5428.6,
            "bin_end": 6330.7,
            "count": 0
           },
           {
            "bin_start": 6330.7,
            "bin_end": 7232.8,
            "count": 1
           },
           {
            "bin_start": 7232.8,
            "bin_end": 8134.900000000001,
            "count": 0
           },
           {
            "bin_start": 8134.900000000001,
            "bin_end": 9037,
            "count": 1
           }
          ]
         }
        },
        {
         "name": "Num_Chicken_Farms",
         "dtype": "int64",
         "stats": {
          "unique_count": 50,
          "nan_count": 0,
          "min": "189",
          "max": "28096",
          "histogram": [
           {
            "bin_start": 189,
            "bin_end": 2979.7,
            "count": 20
           },
           {
            "bin_start": 2979.7,
            "bin_end": 5770.4,
            "count": 15
           },
           {
            "bin_start": 5770.4,
            "bin_end": 8561.099999999999,
            "count": 9
           },
           {
            "bin_start": 8561.099999999999,
            "bin_end": 11351.8,
            "count": 5
           },
           {
            "bin_start": 11351.8,
            "bin_end": 14142.5,
            "count": 0
           },
           {
            "bin_start": 14142.5,
            "bin_end": 16933.199999999997,
            "count": 0
           },
           {
            "bin_start": 16933.199999999997,
            "bin_end": 19723.899999999998,
            "count": 0
           },
           {
            "bin_start": 19723.899999999998,
            "bin_end": 22514.6,
            "count": 0
           },
           {
            "bin_start": 22514.6,
            "bin_end": 25305.3,
            "count": 0
           },
           {
            "bin_start": 25305.3,
            "bin_end": 28096,
            "count": 1
           }
          ]
         }
        },
        {
         "name": "Num_Hog_Farms",
         "dtype": "int64",
         "stats": {
          "unique_count": 49,
          "nan_count": 0,
          "min": "55",
          "max": "5894",
          "histogram": [
           {
            "bin_start": 55,
            "bin_end": 638.9,
            "count": 20
           },
           {
            "bin_start": 638.9,
            "bin_end": 1222.8,
            "count": 10
           },
           {
            "bin_start": 1222.8,
            "bin_end": 1806.6999999999998,
            "count": 6
           },
           {
            "bin_start": 1806.6999999999998,
            "bin_end": 2390.6,
            "count": 6
           },
           {
            "bin_start": 2390.6,
            "bin_end": 2974.5,
            "count": 4
           },
           {
            "bin_start": 2974.5,
            "bin_end": 3558.3999999999996,
            "count": 2
           },
           {
            "bin_start": 3558.3999999999996,
            "bin_end": 4142.299999999999,
            "count": 0
           },
           {
            "bin_start": 4142.299999999999,
            "bin_end": 4726.2,
            "count": 0
           },
           {
            "bin_start": 4726.2,
            "bin_end": 5310.099999999999,
            "count": 0
           },
           {
            "bin_start": 5310.099999999999,
            "bin_end": 5894,
            "count": 2
           }
          ]
         }
        },
        {
         "name": "Percent_Beef_Cow_Farms",
         "dtype": "float64",
         "stats": {
          "unique_count": 34,
          "nan_count": 0,
          "min": "0.25",
          "max": "0.89",
          "histogram": [
           {
            "bin_start": 0.25,
            "bin_end": 0.314,
            "count": 5
           },
           {
            "bin_start": 0.314,
            "bin_end": 0.378,
            "count": 3
           },
           {
            "bin_start": 0.378,
            "bin_end": 0.442,
            "count": 5
           },
           {
            "bin_start": 0.442,
            "bin_end": 0.506,
            "count": 1
           },
           {
            "bin_start": 0.506,
            "bin_end": 0.5700000000000001,
            "count": 7
           },
           {
            "bin_start": 0.5700000000000001,
            "bin_end": 0.634,
            "count": 4
           },
           {
            "bin_start": 0.634,
            "bin_end": 0.698,
            "count": 8
           },
           {
            "bin_start": 0.698,
            "bin_end": 0.762,
            "count": 7
           },
           {
            "bin_start": 0.762,
            "bin_end": 0.8260000000000001,
            "count": 9
           },
           {
            "bin_start": 0.8260000000000001,
            "bin_end": 0.89,
            "count": 1
           }
          ]
         }
        },
        {
         "name": "Percent_Milk_Cow_Farms",
         "dtype": "float64",
         "stats": {
          "unique_count": 17,
          "nan_count": 0,
          "min": "0.0",
          "max": "0.27",
          "histogram": [
           {
            "bin_start": 0,
            "bin_end": 0.027000000000000003,
            "count": 15
           },
           {
            "bin_start": 0.027000000000000003,
            "bin_end": 0.054000000000000006,
            "count": 18
           },
           {
            "bin_start": 0.054000000000000006,
            "bin_end": 0.08100000000000002,
            "count": 5
           },
           {
            "bin_start": 0.08100000000000002,
            "bin_end": 0.10800000000000001,
            "count": 5
           },
           {
            "bin_start": 0.10800000000000001,
            "bin_end": 0.135,
            "count": 2
           },
           {
            "bin_start": 0.135,
            "bin_end": 0.16200000000000003,
            "count": 1
           },
           {
            "bin_start": 0.16200000000000003,
            "bin_end": 0.18900000000000003,
            "count": 0
           },
           {
            "bin_start": 0.18900000000000003,
            "bin_end": 0.21600000000000003,
            "count": 1
           },
           {
            "bin_start": 0.21600000000000003,
            "bin_end": 0.24300000000000002,
            "count": 2
           },
           {
            "bin_start": 0.24300000000000002,
            "bin_end": 0.27,
            "count": 1
           }
          ]
         }
        },
        {
         "name": "Percent_Chicken_Farms",
         "dtype": "float64",
         "stats": {
          "unique_count": 30,
          "nan_count": 0,
          "min": "0.08",
          "max": "0.59",
          "histogram": [
           {
            "bin_start": 0.08,
            "bin_end": 0.131,
            "count": 3
           },
           {
            "bin_start": 0.131,
            "bin_end": 0.182,
            "count": 9
           },
           {
            "bin_start": 0.182,
            "bin_end": 0.23300000000000004,
            "count": 11
           },
           {
            "bin_start": 0.23300000000000004,
            "bin_end": 0.28400000000000003,
            "count": 7
           },
           {
            "bin_start": 0.28400000000000003,
            "bin_end": 0.335,
            "count": 6
           },
           {
            "bin_start": 0.335,
            "bin_end": 0.38600000000000007,
            "count": 7
           },
           {
            "bin_start": 0.38600000000000007,
            "bin_end": 0.43700000000000006,
            "count": 0
           },
           {
            "bin_start": 0.43700000000000006,
            "bin_end": 0.48800000000000004,
            "count": 1
           },
           {
            "bin_start": 0.48800000000000004,
            "bin_end": 0.539,
            "count": 4
           },
           {
            "bin_start": 0.539,
            "bin_end": 0.59,
            "count": 2
           }
          ]
         }
        },
        {
         "name": "Percent_Hog_Farms",
         "dtype": "float64",
         "stats": {
          "unique_count": 14,
          "nan_count": 0,
          "min": "0.02",
          "max": "0.18",
          "histogram": [
           {
            "bin_start": 0.02,
            "bin_end": 0.036000000000000004,
            "count": 6
           },
           {
            "bin_start": 0.036000000000000004,
            "bin_end": 0.052000000000000005,
            "count": 13
           },
           {
            "bin_start": 0.052000000000000005,
            "bin_end": 0.068,
            "count": 7
           },
           {
            "bin_start": 0.068,
            "bin_end": 0.084,
            "count": 4
           },
           {
            "bin_start": 0.084,
            "bin_end": 0.1,
            "count": 4
           },
           {
            "bin_start": 0.1,
            "bin_end": 0.116,
            "count": 10
           },
           {
            "bin_start": 0.116,
            "bin_end": 0.132,
            "count": 4
           },
           {
            "bin_start": 0.132,
            "bin_end": 0.148,
            "count": 0
           },
           {
            "bin_start": 0.148,
            "bin_end": 0.164,
            "count": 0
           },
           {
            "bin_start": 0.164,
            "bin_end": 0.18,
            "count": 2
           }
          ]
         }
        },
        {
         "name": "_deepnote_index_column",
         "dtype": "int64"
        }
       ],
       "rows_top": [
        {
         "State_Name": "Alabama",
         "Num_Beef_Cow_Farms": 20004,
         "Num_Milk_Cow_Farms": 366,
         "Num_Chicken_Farms": 3793,
         "Num_Hog_Farms": 1074,
         "Percent_Beef_Cow_Farms": 0.79,
         "Percent_Milk_Cow_Farms": 0.01,
         "Percent_Chicken_Farms": 0.15,
         "Percent_Hog_Farms": 0.04,
         "_deepnote_index_column": 0
        },
        {
         "State_Name": "Alaska",
         "Num_Beef_Cow_Farms": 92,
         "Num_Milk_Cow_Farms": 27,
         "Num_Chicken_Farms": 189,
         "Num_Hog_Farms": 64,
         "Percent_Beef_Cow_Farms": 0.25,
         "Percent_Milk_Cow_Farms": 0.07,
         "Percent_Chicken_Farms": 0.51,
         "Percent_Hog_Farms": 0.17,
         "_deepnote_index_column": 1
        },
        {
         "State_Name": "Arizona",
         "Num_Beef_Cow_Farms": 5560,
         "Num_Milk_Cow_Farms": 186,
         "Num_Chicken_Farms": 2345,
         "Num_Hog_Farms": 521,
         "Percent_Beef_Cow_Farms": 0.65,
         "Percent_Milk_Cow_Farms": 0.02,
         "Percent_Chicken_Farms": 0.27,
         "Percent_Hog_Farms": 0.06,
         "_deepnote_index_column": 2
        },
        {
         "State_Name": "Arkansas",
         "Num_Beef_Cow_Farms": 23036,
         "Num_Milk_Cow_Farms": 72,
         "Num_Chicken_Farms": 4249,
         "Num_Hog_Farms": 1021,
         "Percent_Beef_Cow_Farms": 0.81,
         "Percent_Milk_Cow_Farms": 0,
         "Percent_Chicken_Farms": 0.15,
         "Percent_Hog_Farms": 0.04,
         "_deepnote_index_column": 3
        },
        {
         "State_Name": "California",
         "Num_Beef_Cow_Farms": 10254,
         "Num_Milk_Cow_Farms": 1653,
         "Num_Chicken_Farms": 6546,
         "Num_Hog_Farms": 1389,
         "Percent_Beef_Cow_Farms": 0.52,
         "Percent_Milk_Cow_Farms": 0.08,
         "Percent_Chicken_Farms": 0.33,
         "Percent_Hog_Farms": 0.07,
         "_deepnote_index_column": 4
        },
        {
         "State_Name": "Colorado",
         "Num_Beef_Cow_Farms": 12407,
         "Num_Milk_Cow_Farms": 583,
         "Num_Chicken_Farms": 5919,
         "Num_Hog_Farms": 1227,
         "Percent_Beef_Cow_Farms": 0.62,
         "Percent_Milk_Cow_Farms": 0.03,
         "Percent_Chicken_Farms": 0.29,
         "Percent_Hog_Farms": 0.06,
         "_deepnote_index_column": 5
        },
        {
         "State_Name": "Connecticut",
         "Num_Beef_Cow_Farms": 860,
         "Num_Milk_Cow_Farms": 198,
         "Num_Chicken_Farms": 1265,
         "Num_Hog_Farms": 214,
         "Percent_Beef_Cow_Farms": 0.34,
         "Percent_Milk_Cow_Farms": 0.08,
         "Percent_Chicken_Farms": 0.5,
         "Percent_Hog_Farms": 0.08,
         "_deepnote_index_column": 6
        },
        {
         "State_Name": "Delaware",
         "Num_Beef_Cow_Farms": 235,
         "Num_Milk_Cow_Farms": 50,
         "Num_Chicken_Farms": 200,
         "Num_Hog_Farms": 55,
         "Percent_Beef_Cow_Farms": 0.44,
         "Percent_Milk_Cow_Farms": 0.09,
         "Percent_Chicken_Farms": 0.37,
         "Percent_Hog_Farms": 0.1,
         "_deepnote_index_column": 7
        },
        {
         "State_Name": "Florida",
         "Num_Beef_Cow_Farms": 18493,
         "Num_Milk_Cow_Farms": 600,
         "Num_Chicken_Farms": 6339,
         "Num_Hog_Farms": 1810,
         "Percent_Beef_Cow_Farms": 0.68,
         "Percent_Milk_Cow_Farms": 0.02,
         "Percent_Chicken_Farms": 0.23,
         "Percent_Hog_Farms": 0.07,
         "_deepnote_index_column": 8
        },
        {
         "State_Name": "Georgia",
         "Num_Beef_Cow_Farms": 14869,
         "Num_Milk_Cow_Farms": 572,
         "Num_Chicken_Farms": 4743,
         "Num_Hog_Farms": 1091,
         "Percent_Beef_Cow_Farms": 0.7,
         "Percent_Milk_Cow_Farms": 0.03,
         "Percent_Chicken_Farms": 0.22,
         "Percent_Hog_Farms": 0.05,
         "_deepnote_index_column": 9
        },
        {
         "State_Name": "Hawaii",
         "Num_Beef_Cow_Farms": 1047,
         "Num_Milk_Cow_Farms": 20,
         "Num_Chicken_Farms": 674,
         "Num_Hog_Farms": 226,
         "Percent_Beef_Cow_Farms": 0.53,
         "Percent_Milk_Cow_Farms": 0.01,
         "Percent_Chicken_Farms": 0.34,
         "Percent_Hog_Farms": 0.11,
         "_deepnote_index_column": 10
        },
        {
         "State_Name": "Idaho",
         "Num_Beef_Cow_Farms": 8149,
         "Num_Milk_Cow_Farms": 785,
         "Num_Chicken_Farms": 3579,
         "Num_Hog_Farms": 606,
         "Percent_Beef_Cow_Farms": 0.62,
         "Percent_Milk_Cow_Farms": 0.06,
         "Percent_Chicken_Farms": 0.27,
         "Percent_Hog_Farms": 0.05,
         "_deepnote_index_column": 11
        },
        {
         "State_Name": "Illinois",
         "Num_Beef_Cow_Farms": 13139,
         "Num_Milk_Cow_Farms": 924,
         "Num_Chicken_Farms": 4077,
         "Num_Hog_Farms": 2153,
         "Percent_Beef_Cow_Farms": 0.65,
         "Percent_Milk_Cow_Farms": 0.05,
         "Percent_Chicken_Farms": 0.2,
         "Percent_Hog_Farms": 0.11,
         "_deepnote_index_column": 12
        },
        {
         "State_Name": "Indiana",
         "Num_Beef_Cow_Farms": 11753,
         "Num_Milk_Cow_Farms": 2049,
         "Num_Chicken_Farms": 5858,
         "Num_Hog_Farms": 2570,
         "Percent_Beef_Cow_Farms": 0.53,
         "Percent_Milk_Cow_Farms": 0.09,
         "Percent_Chicken_Farms": 0.26,
         "Percent_Hog_Farms": 0.12,
         "_deepnote_index_column": 13
        },
        {
         "State_Name": "Iowa",
         "Num_Beef_Cow_Farms": 19171,
         "Num_Milk_Cow_Farms": 1592,
         "Num_Chicken_Farms": 4425,
         "Num_Hog_Farms": 5660,
         "Percent_Beef_Cow_Farms": 0.62,
         "Percent_Milk_Cow_Farms": 0.05,
         "Percent_Chicken_Farms": 0.14,
         "Percent_Hog_Farms": 0.18,
         "_deepnote_index_column": 14
        },
        {
         "State_Name": "Kansas",
         "Num_Beef_Cow_Farms": 23682,
         "Num_Milk_Cow_Farms": 639,
         "Num_Chicken_Farms": 3967,
         "Num_Hog_Farms": 943,
         "Percent_Beef_Cow_Farms": 0.81,
         "Percent_Milk_Cow_Farms": 0.02,
         "Percent_Chicken_Farms": 0.14,
         "Percent_Hog_Farms": 0.03,
         "_deepnote_index_column": 15
        },
        {
         "State_Name": "Kentucky",
         "Num_Beef_Cow_Farms": 33864,
         "Num_Milk_Cow_Farms": 1577,
         "Num_Chicken_Farms": 8032,
         "Num_Hog_Farms": 1805,
         "Percent_Beef_Cow_Farms": 0.75,
         "Percent_Milk_Cow_Farms": 0.03,
         "Percent_Chicken_Farms": 0.18,
         "Percent_Hog_Farms": 0.04,
         "_deepnote_index_column": 16
        },
        {
         "State_Name": "Louisiana",
         "Num_Beef_Cow_Farms": 12051,
         "Num_Milk_Cow_Farms": 132,
         "Num_Chicken_Farms": 3048,
         "Num_Hog_Farms": 874,
         "Percent_Beef_Cow_Farms": 0.75,
         "Percent_Milk_Cow_Farms": 0.01,
         "Percent_Chicken_Farms": 0.19,
         "Percent_Hog_Farms": 0.05,
         "_deepnote_index_column": 17
        },
        {
         "State_Name": "Maine",
         "Num_Beef_Cow_Farms": 1141,
         "Num_Milk_Cow_Farms": 450,
         "Num_Chicken_Farms": 1892,
         "Num_Hog_Farms": 429,
         "Percent_Beef_Cow_Farms": 0.29,
         "Percent_Milk_Cow_Farms": 0.12,
         "Percent_Chicken_Farms": 0.48,
         "Percent_Hog_Farms": 0.11,
         "_deepnote_index_column": 18
        },
        {
         "State_Name": "Maryland",
         "Num_Beef_Cow_Farms": 2486,
         "Num_Milk_Cow_Farms": 511,
         "Num_Chicken_Farms": 2009,
         "Num_Hog_Farms": 562,
         "Percent_Beef_Cow_Farms": 0.45,
         "Percent_Milk_Cow_Farms": 0.09,
         "Percent_Chicken_Farms": 0.36,
         "Percent_Hog_Farms": 0.1,
         "_deepnote_index_column": 19
        },
        {
         "State_Name": "Massachusetts",
         "Num_Beef_Cow_Farms": 879,
         "Num_Milk_Cow_Farms": 220,
         "Num_Chicken_Farms": 1713,
         "Num_Hog_Farms": 337,
         "Percent_Beef_Cow_Farms": 0.28,
         "Percent_Milk_Cow_Farms": 0.07,
         "Percent_Chicken_Farms": 0.54,
         "Percent_Hog_Farms": 0.11,
         "_deepnote_index_column": 20
        },
        {
         "State_Name": "Michigan",
         "Num_Beef_Cow_Farms": 7445,
         "Num_Milk_Cow_Farms": 2158,
         "Num_Chicken_Farms": 7039,
         "Num_Hog_Farms": 2017,
         "Percent_Beef_Cow_Farms": 0.4,
         "Percent_Milk_Cow_Farms": 0.12,
         "Percent_Chicken_Farms": 0.38,
         "Percent_Hog_Farms": 0.11,
         "_deepnote_index_column": 21
        },
        {
         "State_Name": "Minnesota",
         "Num_Beef_Cow_Farms": 13339,
         "Num_Milk_Cow_Farms": 3644,
         "Num_Chicken_Farms": 5245,
         "Num_Hog_Farms": 3225,
         "Percent_Beef_Cow_Farms": 0.52,
         "Percent_Milk_Cow_Farms": 0.14,
         "Percent_Chicken_Farms": 0.21,
         "Percent_Hog_Farms": 0.13,
         "_deepnote_index_column": 22
        },
        {
         "State_Name": "Mississippi",
         "Num_Beef_Cow_Farms": 14752,
         "Num_Milk_Cow_Farms": 108,
         "Num_Chicken_Farms": 3004,
         "Num_Hog_Farms": 784,
         "Percent_Beef_Cow_Farms": 0.79,
         "Percent_Milk_Cow_Farms": 0.01,
         "Percent_Chicken_Farms": 0.16,
         "Percent_Hog_Farms": 0.04,
         "_deepnote_index_column": 23
        },
        {
         "State_Name": "Missouri",
         "Num_Beef_Cow_Farms": 48122,
         "Num_Milk_Cow_Farms": 2280,
         "Num_Chicken_Farms": 9052,
         "Num_Hog_Farms": 2687,
         "Percent_Beef_Cow_Farms": 0.77,
         "Percent_Milk_Cow_Farms": 0.04,
         "Percent_Chicken_Farms": 0.15,
         "Percent_Hog_Farms": 0.04,
         "_deepnote_index_column": 24
        },
        {
         "State_Name": "Montana",
         "Num_Beef_Cow_Farms": 10290,
         "Num_Milk_Cow_Farms": 379,
         "Num_Chicken_Farms": 2685,
         "Num_Hog_Farms": 452,
         "Percent_Beef_Cow_Farms": 0.75,
         "Percent_Milk_Cow_Farms": 0.03,
         "Percent_Chicken_Farms": 0.19,
         "Percent_Hog_Farms": 0.03,
         "_deepnote_index_column": 25
        },
        {
         "State_Name": "Nebraska",
         "Num_Beef_Cow_Farms": 17707,
         "Num_Milk_Cow_Farms": 436,
         "Num_Chicken_Farms": 2771,
         "Num_Hog_Farms": 1230,
         "Percent_Beef_Cow_Farms": 0.8,
         "Percent_Milk_Cow_Farms": 0.02,
         "Percent_Chicken_Farms": 0.13,
         "Percent_Hog_Farms": 0.06,
         "_deepnote_index_column": 26
        },
        {
         "State_Name": "Nevada",
         "Num_Beef_Cow_Farms": 1356,
         "Num_Milk_Cow_Farms": 61,
         "Num_Chicken_Farms": 535,
         "Num_Hog_Farms": 70,
         "Percent_Beef_Cow_Farms": 0.67,
         "Percent_Milk_Cow_Farms": 0.03,
         "Percent_Chicken_Farms": 0.26,
         "Percent_Hog_Farms": 0.03,
         "_deepnote_index_column": 27
        },
        {
         "State_Name": "New Hampshire",
         "Num_Beef_Cow_Farms": 602,
         "Num_Milk_Cow_Farms": 216,
         "Num_Chicken_Farms": 1145,
         "Num_Hog_Farms": 281,
         "Percent_Beef_Cow_Farms": 0.27,
         "Percent_Milk_Cow_Farms": 0.1,
         "Percent_Chicken_Farms": 0.51,
         "Percent_Hog_Farms": 0.13,
         "_deepnote_index_column": 28
        },
        {
         "State_Name": "New Jersey",
         "Num_Beef_Cow_Farms": 941,
         "Num_Milk_Cow_Farms": 109,
         "Num_Chicken_Farms": 1986,
         "Num_Hog_Farms": 347,
         "Percent_Beef_Cow_Farms": 0.28,
         "Percent_Milk_Cow_Farms": 0.03,
         "Percent_Chicken_Farms": 0.59,
         "Percent_Hog_Farms": 0.1,
         "_deepnote_index_column": 29
        },
        {
         "State_Name": "New Mexico",
         "Num_Beef_Cow_Farms": 8991,
         "Num_Milk_Cow_Farms": 389,
         "Num_Chicken_Farms": 2848,
         "Num_Hog_Farms": 353,
         "Percent_Beef_Cow_Farms": 0.71,
         "Percent_Milk_Cow_Farms": 0.03,
         "Percent_Chicken_Farms": 0.23,
         "Percent_Hog_Farms": 0.03,
         "_deepnote_index_column": 30
        },
        {
         "State_Name": "New York",
         "Num_Beef_Cow_Farms": 7310,
         "Num_Milk_Cow_Farms": 4648,
         "Num_Chicken_Farms": 5712,
         "Num_Hog_Farms": 1739,
         "Percent_Beef_Cow_Farms": 0.38,
         "Percent_Milk_Cow_Farms": 0.24,
         "Percent_Chicken_Farms": 0.29,
         "Percent_Hog_Farms": 0.09,
         "_deepnote_index_column": 31
        },
        {
         "State_Name": "North Carolina",
         "Num_Beef_Cow_Farms": 16407,
         "Num_Milk_Cow_Farms": 546,
         "Num_Chicken_Farms": 5520,
         "Num_Hog_Farms": 2426,
         "Percent_Beef_Cow_Farms": 0.66,
         "Percent_Milk_Cow_Farms": 0.02,
         "Percent_Chicken_Farms": 0.22,
         "Percent_Hog_Farms": 0.1,
         "_deepnote_index_column": 32
        },
        {
         "State_Name": "North Dakota",
         "Num_Beef_Cow_Farms": 8245,
         "Num_Milk_Cow_Farms": 156,
         "Num_Chicken_Farms": 743,
         "Num_Hog_Farms": 156,
         "Percent_Beef_Cow_Farms": 0.89,
         "Percent_Milk_Cow_Farms": 0.02,
         "Percent_Chicken_Farms": 0.08,
         "Percent_Hog_Farms": 0.02,
         "_deepnote_index_column": 33
        },
        {
         "State_Name": "Ohio",
         "Num_Beef_Cow_Farms": 17733,
         "Num_Milk_Cow_Farms": 3346,
         "Num_Chicken_Farms": 10274,
         "Num_Hog_Farms": 3484,
         "Percent_Beef_Cow_Farms": 0.51,
         "Percent_Milk_Cow_Farms": 0.1,
         "Percent_Chicken_Farms": 0.29,
         "Percent_Hog_Farms": 0.1,
         "_deepnote_index_column": 34
        },
        {
         "State_Name": "Oklahoma",
         "Num_Beef_Cow_Farms": 46080,
         "Num_Milk_Cow_Farms": 471,
         "Num_Chicken_Farms": 9894,
         "Num_Hog_Farms": 2264,
         "Percent_Beef_Cow_Farms": 0.78,
         "Percent_Milk_Cow_Farms": 0.01,
         "Percent_Chicken_Farms": 0.17,
         "Percent_Hog_Farms": 0.04,
         "_deepnote_index_column": 35
        },
        {
         "State_Name": "Oregon",
         "Num_Beef_Cow_Farms": 11548,
         "Num_Milk_Cow_Farms": 645,
         "Num_Chicken_Farms": 7442,
         "Num_Hog_Farms": 1177,
         "Percent_Beef_Cow_Farms": 0.55,
         "Percent_Milk_Cow_Farms": 0.03,
         "Percent_Chicken_Farms": 0.36,
         "Percent_Hog_Farms": 0.06,
         "_deepnote_index_column": 36
        },
        {
         "State_Name": "Pennsylvania",
         "Num_Beef_Cow_Farms": 13176,
         "Num_Milk_Cow_Farms": 6914,
         "Num_Chicken_Farms": 9290,
         "Num_Hog_Farms": 2777,
         "Percent_Beef_Cow_Farms": 0.41,
         "Percent_Milk_Cow_Farms": 0.22,
         "Percent_Chicken_Farms": 0.29,
         "Percent_Hog_Farms": 0.09,
         "_deepnote_index_column": 37
        },
        {
         "State_Name": "Rhode Island",
         "Num_Beef_Cow_Farms": 163,
         "Num_Milk_Cow_Farms": 16,
         "Num_Chicken_Farms": 239,
         "Num_Hog_Farms": 60,
         "Percent_Beef_Cow_Farms": 0.34,
         "Percent_Milk_Cow_Farms": 0.03,
         "Percent_Chicken_Farms": 0.5,
         "Percent_Hog_Farms": 0.13,
         "_deepnote_index_column": 38
        },
        {
         "State_Name": "South Carolina",
         "Num_Beef_Cow_Farms": 6917,
         "Num_Milk_Cow_Farms": 215,
         "Num_Chicken_Farms": 3466,
         "Num_Hog_Farms": 1005,
         "Percent_Beef_Cow_Farms": 0.6,
         "Percent_Milk_Cow_Farms": 0.02,
         "Percent_Chicken_Farms": 0.3,
         "Percent_Hog_Farms": 0.09,
         "_deepnote_index_column": 39
        },
        {
         "State_Name": "South Dakota",
         "Num_Beef_Cow_Farms": 12613,
         "Num_Milk_Cow_Farms": 509,
         "Num_Chicken_Farms": 1644,
         "Num_Hog_Farms": 571,
         "Percent_Beef_Cow_Farms": 0.82,
         "Percent_Milk_Cow_Farms": 0.03,
         "Percent_Chicken_Farms": 0.11,
         "Percent_Hog_Farms": 0.04,
         "_deepnote_index_column": 40
        },
        {
         "State_Name": "Tennessee",
         "Num_Beef_Cow_Farms": 32960,
         "Num_Milk_Cow_Farms": 986,
         "Num_Chicken_Farms": 8830,
         "Num_Hog_Farms": 1898,
         "Percent_Beef_Cow_Farms": 0.74,
         "Percent_Milk_Cow_Farms": 0.02,
         "Percent_Chicken_Farms": 0.2,
         "Percent_Hog_Farms": 0.04,
         "_deepnote_index_column": 41
        },
        {
         "State_Name": "Texas",
         "Num_Beef_Cow_Farms": 134250,
         "Num_Milk_Cow_Farms": 467,
         "Num_Chicken_Farms": 28096,
         "Num_Hog_Farms": 5894,
         "Percent_Beef_Cow_Farms": 0.8,
         "Percent_Milk_Cow_Farms": 0,
         "Percent_Chicken_Farms": 0.17,
         "Percent_Hog_Farms": 0.03,
         "_deepnote_index_column": 42
        },
        {
         "State_Name": "Utah",
         "Num_Beef_Cow_Farms": 6508,
         "Num_Milk_Cow_Farms": 445,
         "Num_Chicken_Farms": 2553,
         "Num_Hog_Farms": 561,
         "Percent_Beef_Cow_Farms": 0.65,
         "Percent_Milk_Cow_Farms": 0.04,
         "Percent_Chicken_Farms": 0.25,
         "Percent_Hog_Farms": 0.06,
         "_deepnote_index_column": 43
        },
        {
         "State_Name": "Vermont",
         "Num_Beef_Cow_Farms": 1399,
         "Num_Milk_Cow_Farms": 841,
         "Num_Chicken_Farms": 1486,
         "Num_Hog_Farms": 353,
         "Percent_Beef_Cow_Farms": 0.34,
         "Percent_Milk_Cow_Farms": 0.21,
         "Percent_Chicken_Farms": 0.36,
         "Percent_Hog_Farms": 0.09,
         "_deepnote_index_column": 44
        },
        {
         "State_Name": "Virginia",
         "Num_Beef_Cow_Farms": 18453,
         "Num_Milk_Cow_Farms": 1048,
         "Num_Chicken_Farms": 5729,
         "Num_Hog_Farms": 1461,
         "Percent_Beef_Cow_Farms": 0.69,
         "Percent_Milk_Cow_Farms": 0.04,
         "Percent_Chicken_Farms": 0.21,
         "Percent_Hog_Farms": 0.05,
         "_deepnote_index_column": 45
        },
        {
         "State_Name": "Washington",
         "Num_Beef_Cow_Farms": 9295,
         "Num_Milk_Cow_Farms": 661,
         "Num_Chicken_Farms": 6451,
         "Num_Hog_Farms": 1126,
         "Percent_Beef_Cow_Farms": 0.53,
         "Percent_Milk_Cow_Farms": 0.04,
         "Percent_Chicken_Farms": 0.37,
         "Percent_Hog_Farms": 0.06,
         "_deepnote_index_column": 46
        },
        {
         "State_Name": "West Virginia",
         "Num_Beef_Cow_Farms": 10336,
         "Num_Milk_Cow_Farms": 458,
         "Num_Chicken_Farms": 4464,
         "Num_Hog_Farms": 892,
         "Percent_Beef_Cow_Farms": 0.64,
         "Percent_Milk_Cow_Farms": 0.03,
         "Percent_Chicken_Farms": 0.28,
         "Percent_Hog_Farms": 0.06,
         "_deepnote_index_column": 47
        },
        {
         "State_Name": "Wisconsin",
         "Num_Beef_Cow_Farms": 13954,
         "Num_Milk_Cow_Farms": 9037,
         "Num_Chicken_Farms": 7992,
         "Num_Hog_Farms": 2198,
         "Percent_Beef_Cow_Farms": 0.42,
         "Percent_Milk_Cow_Farms": 0.27,
         "Percent_Chicken_Farms": 0.24,
         "Percent_Hog_Farms": 0.07,
         "_deepnote_index_column": 48
        },
        {
         "State_Name": "Wyoming",
         "Num_Beef_Cow_Farms": 4982,
         "Num_Milk_Cow_Farms": 204,
         "Num_Chicken_Farms": 1503,
         "Num_Hog_Farms": 320,
         "Percent_Beef_Cow_Farms": 0.71,
         "Percent_Milk_Cow_Farms": 0.03,
         "Percent_Chicken_Farms": 0.21,
         "Percent_Hog_Farms": 0.05,
         "_deepnote_index_column": 49
        }
       ],
       "rows_bottom": null
      },
      "text/plain": "        State_Name  Num_Beef_Cow_Farms  Num_Milk_Cow_Farms  Num_Chicken_Farms  \\\n0          Alabama               20004                 366               3793   \n1           Alaska                  92                  27                189   \n2          Arizona                5560                 186               2345   \n3         Arkansas               23036                  72               4249   \n4       California               10254                1653               6546   \n5         Colorado               12407                 583               5919   \n6      Connecticut                 860                 198               1265   \n7         Delaware                 235                  50                200   \n8          Florida               18493                 600               6339   \n9          Georgia               14869                 572               4743   \n10          Hawaii                1047                  20                674   \n11           Idaho                8149                 785               3579   \n12        Illinois               13139                 924               4077   \n13         Indiana               11753                2049               5858   \n14            Iowa               19171                1592               4425   \n15          Kansas               23682                 639               3967   \n16        Kentucky               33864                1577               8032   \n17       Louisiana               12051                 132               3048   \n18           Maine                1141                 450               1892   \n19        Maryland                2486                 511               2009   \n20   Massachusetts                 879                 220               1713   \n21        Michigan                7445                2158               7039   \n22       Minnesota               13339                3644               5245   \n23     Mississippi               14752                 108               3004   \n24        Missouri               48122                2280               9052   \n25         Montana               10290                 379               2685   \n26        Nebraska               17707                 436               2771   \n27          Nevada                1356                  61                535   \n28   New Hampshire                 602                 216               1145   \n29      New Jersey                 941                 109               1986   \n30      New Mexico                8991                 389               2848   \n31        New York                7310                4648               5712   \n32  North Carolina               16407                 546               5520   \n33    North Dakota                8245                 156                743   \n34            Ohio               17733                3346              10274   \n35        Oklahoma               46080                 471               9894   \n36          Oregon               11548                 645               7442   \n37    Pennsylvania               13176                6914               9290   \n38    Rhode Island                 163                  16                239   \n39  South Carolina                6917                 215               3466   \n40    South Dakota               12613                 509               1644   \n41       Tennessee               32960                 986               8830   \n42           Texas              134250                 467              28096   \n43            Utah                6508                 445               2553   \n44         Vermont                1399                 841               1486   \n45        Virginia               18453                1048               5729   \n46      Washington                9295                 661               6451   \n47   West Virginia               10336                 458               4464   \n48       Wisconsin               13954                9037               7992   \n49         Wyoming                4982                 204               1503   \n\n    Num_Hog_Farms  Percent_Beef_Cow_Farms  Percent_Milk_Cow_Farms  \\\n0            1074                    0.79                    0.01   \n1              64                    0.25                    0.07   \n2             521                    0.65                    0.02   \n3            1021                    0.81                    0.00   \n4            1389                    0.52                    0.08   \n5            1227                    0.62                    0.03   \n6             214                    0.34                    0.08   \n7              55                    0.44                    0.09   \n8            1810                    0.68                    0.02   \n9            1091                    0.70                    0.03   \n10            226                    0.53                    0.01   \n11            606                    0.62                    0.06   \n12           2153                    0.65                    0.05   \n13           2570                    0.53                    0.09   \n14           5660                    0.62                    0.05   \n15            943                    0.81                    0.02   \n16           1805                    0.75                    0.03   \n17            874                    0.75                    0.01   \n18            429                    0.29                    0.12   \n19            562                    0.45                    0.09   \n20            337                    0.28                    0.07   \n21           2017                    0.40                    0.12   \n22           3225                    0.52                    0.14   \n23            784                    0.79                    0.01   \n24           2687                    0.77                    0.04   \n25            452                    0.75                    0.03   \n26           1230                    0.80                    0.02   \n27             70                    0.67                    0.03   \n28            281                    0.27                    0.10   \n29            347                    0.28                    0.03   \n30            353                    0.71                    0.03   \n31           1739                    0.38                    0.24   \n32           2426                    0.66                    0.02   \n33            156                    0.89                    0.02   \n34           3484                    0.51                    0.10   \n35           2264                    0.78                    0.01   \n36           1177                    0.55                    0.03   \n37           2777                    0.41                    0.22   \n38             60                    0.34                    0.03   \n39           1005                    0.60                    0.02   \n40            571                    0.82                    0.03   \n41           1898                    0.74                    0.02   \n42           5894                    0.80                    0.00   \n43            561                    0.65                    0.04   \n44            353                    0.34                    0.21   \n45           1461                    0.69                    0.04   \n46           1126                    0.53                    0.04   \n47            892                    0.64                    0.03   \n48           2198                    0.42                    0.27   \n49            320                    0.71                    0.03   \n\n    Percent_Chicken_Farms  Percent_Hog_Farms  \n0                    0.15               0.04  \n1                    0.51               0.17  \n2                    0.27               0.06  \n3                    0.15               0.04  \n4                    0.33               0.07  \n5                    0.29               0.06  \n6                    0.50               0.08  \n7                    0.37               0.10  \n8                    0.23               0.07  \n9                    0.22               0.05  \n10                   0.34               0.11  \n11                   0.27               0.05  \n12                   0.20               0.11  \n13                   0.26               0.12  \n14                   0.14               0.18  \n15                   0.14               0.03  \n16                   0.18               0.04  \n17                   0.19               0.05  \n18                   0.48               0.11  \n19                   0.36               0.10  \n20                   0.54               0.11  \n21                   0.38               0.11  \n22                   0.21               0.13  \n23                   0.16               0.04  \n24                   0.15               0.04  \n25                   0.19               0.03  \n26                   0.13               0.06  \n27                   0.26               0.03  \n28                   0.51               0.13  \n29                   0.59               0.10  \n30                   0.23               0.03  \n31                   0.29               0.09  \n32                   0.22               0.10  \n33                   0.08               0.02  \n34                   0.29               0.10  \n35                   0.17               0.04  \n36                   0.36               0.06  \n37                   0.29               0.09  \n38                   0.50               0.13  \n39                   0.30               0.09  \n40                   0.11               0.04  \n41                   0.20               0.04  \n42                   0.17               0.03  \n43                   0.25               0.06  \n44                   0.36               0.09  \n45                   0.21               0.05  \n46                   0.37               0.06  \n47                   0.28               0.06  \n48                   0.24               0.07  \n49                   0.21               0.05  ",
      "text/html": "<div>\n<style scoped>\n    .dataframe tbody tr th:only-of-type {\n        vertical-align: middle;\n    }\n\n    .dataframe tbody tr th {\n        vertical-align: top;\n    }\n\n    .dataframe thead th {\n        text-align: right;\n    }\n</style>\n<table border=\"1\" class=\"dataframe\">\n  <thead>\n    <tr style=\"text-align: right;\">\n      <th></th>\n      <th>State_Name</th>\n      <th>Num_Beef_Cow_Farms</th>\n      <th>Num_Milk_Cow_Farms</th>\n      <th>Num_Chicken_Farms</th>\n      <th>Num_Hog_Farms</th>\n      <th>Percent_Beef_Cow_Farms</th>\n      <th>Percent_Milk_Cow_Farms</th>\n      <th>Percent_Chicken_Farms</th>\n      <th>Percent_Hog_Farms</th>\n    </tr>\n  </thead>\n  <tbody>\n    <tr>\n      <th>0</th>\n      <td>Alabama</td>\n      <td>20004</td>\n      <td>366</td>\n      <td>3793</td>\n      <td>1074</td>\n      <td>0.79</td>\n      <td>0.01</td>\n      <td>0.15</td>\n      <td>0.04</td>\n    </tr>\n    <tr>\n      <th>1</th>\n      <td>Alaska</td>\n      <td>92</td>\n      <td>27</td>\n      <td>189</td>\n      <td>64</td>\n      <td>0.25</td>\n      <td>0.07</td>\n      <td>0.51</td>\n      <td>0.17</td>\n    </tr>\n    <tr>\n      <th>2</th>\n      <td>Arizona</td>\n      <td>5560</td>\n      <td>186</td>\n      <td>2345</td>\n      <td>521</td>\n      <td>0.65</td>\n      <td>0.02</td>\n      <td>0.27</td>\n      <td>0.06</td>\n    </tr>\n    <tr>\n      <th>3</th>\n      <td>Arkansas</td>\n      <td>23036</td>\n      <td>72</td>\n      <td>4249</td>\n      <td>1021</td>\n      <td>0.81</td>\n      <td>0.00</td>\n      <td>0.15</td>\n      <td>0.04</td>\n    </tr>\n    <tr>\n      <th>4</th>\n      <td>California</td>\n      <td>10254</td>\n      <td>1653</td>\n      <td>6546</td>\n      <td>1389</td>\n      <td>0.52</td>\n      <td>0.08</td>\n      <td>0.33</td>\n      <td>0.07</td>\n    </tr>\n    <tr>\n      <th>5</th>\n      <td>Colorado</td>\n      <td>12407</td>\n      <td>583</td>\n      <td>5919</td>\n      <td>1227</td>\n      <td>0.62</td>\n      <td>0.03</td>\n      <td>0.29</td>\n      <td>0.06</td>\n    </tr>\n    <tr>\n      <th>6</th>\n      <td>Connecticut</td>\n      <td>860</td>\n      <td>198</td>\n      <td>1265</td>\n      <td>214</td>\n      <td>0.34</td>\n      <td>0.08</td>\n      <td>0.50</td>\n      <td>0.08</td>\n    </tr>\n    <tr>\n      <th>7</th>\n      <td>Delaware</td>\n      <td>235</td>\n      <td>50</td>\n      <td>200</td>\n      <td>55</td>\n      <td>0.44</td>\n      <td>0.09</td>\n      <td>0.37</td>\n      <td>0.10</td>\n    </tr>\n    <tr>\n      <th>8</th>\n      <td>Florida</td>\n      <td>18493</td>\n      <td>600</td>\n      <td>6339</td>\n      <td>1810</td>\n      <td>0.68</td>\n      <td>0.02</td>\n      <td>0.23</td>\n      <td>0.07</td>\n    </tr>\n    <tr>\n      <th>9</th>\n      <td>Georgia</td>\n      <td>14869</td>\n      <td>572</td>\n      <td>4743</td>\n      <td>1091</td>\n      <td>0.70</td>\n      <td>0.03</td>\n      <td>0.22</td>\n      <td>0.05</td>\n    </tr>\n    <tr>\n      <th>10</th>\n      <td>Hawaii</td>\n      <td>1047</td>\n      <td>20</td>\n      <td>674</td>\n      <td>226</td>\n      <td>0.53</td>\n      <td>0.01</td>\n      <td>0.34</td>\n      <td>0.11</td>\n    </tr>\n    <tr>\n      <th>11</th>\n      <td>Idaho</td>\n      <td>8149</td>\n      <td>785</td>\n      <td>3579</td>\n      <td>606</td>\n      <td>0.62</td>\n      <td>0.06</td>\n      <td>0.27</td>\n      <td>0.05</td>\n    </tr>\n    <tr>\n      <th>12</th>\n      <td>Illinois</td>\n      <td>13139</td>\n      <td>924</td>\n      <td>4077</td>\n      <td>2153</td>\n      <td>0.65</td>\n      <td>0.05</td>\n      <td>0.20</td>\n      <td>0.11</td>\n    </tr>\n    <tr>\n      <th>13</th>\n      <td>Indiana</td>\n      <td>11753</td>\n      <td>2049</td>\n      <td>5858</td>\n      <td>2570</td>\n      <td>0.53</td>\n      <td>0.09</td>\n      <td>0.26</td>\n      <td>0.12</td>\n    </tr>\n    <tr>\n      <th>14</th>\n      <td>Iowa</td>\n      <td>19171</td>\n      <td>1592</td>\n      <td>4425</td>\n      <td>5660</td>\n      <td>0.62</td>\n      <td>0.05</td>\n      <td>0.14</td>\n      <td>0.18</td>\n    </tr>\n    <tr>\n      <th>15</th>\n      <td>Kansas</td>\n      <td>23682</td>\n      <td>639</td>\n      <td>3967</td>\n      <td>943</td>\n      <td>0.81</td>\n      <td>0.02</td>\n      <td>0.14</td>\n      <td>0.03</td>\n    </tr>\n    <tr>\n      <th>16</th>\n      <td>Kentucky</td>\n      <td>33864</td>\n      <td>1577</td>\n      <td>8032</td>\n      <td>1805</td>\n      <td>0.75</td>\n      <td>0.03</td>\n      <td>0.18</td>\n      <td>0.04</td>\n    </tr>\n    <tr>\n      <th>17</th>\n      <td>Louisiana</td>\n      <td>12051</td>\n      <td>132</td>\n      <td>3048</td>\n      <td>874</td>\n      <td>0.75</td>\n      <td>0.01</td>\n      <td>0.19</td>\n      <td>0.05</td>\n    </tr>\n    <tr>\n      <th>18</th>\n      <td>Maine</td>\n      <td>1141</td>\n      <td>450</td>\n      <td>1892</td>\n      <td>429</td>\n      <td>0.29</td>\n      <td>0.12</td>\n      <td>0.48</td>\n      <td>0.11</td>\n    </tr>\n    <tr>\n      <th>19</th>\n      <td>Maryland</td>\n      <td>2486</td>\n      <td>511</td>\n      <td>2009</td>\n      <td>562</td>\n      <td>0.45</td>\n      <td>0.09</td>\n      <td>0.36</td>\n      <td>0.10</td>\n    </tr>\n    <tr>\n      <th>20</th>\n      <td>Massachusetts</td>\n      <td>879</td>\n      <td>220</td>\n      <td>1713</td>\n      <td>337</td>\n      <td>0.28</td>\n      <td>0.07</td>\n      <td>0.54</td>\n      <td>0.11</td>\n    </tr>\n    <tr>\n      <th>21</th>\n      <td>Michigan</td>\n      <td>7445</td>\n      <td>2158</td>\n      <td>7039</td>\n      <td>2017</td>\n      <td>0.40</td>\n      <td>0.12</td>\n      <td>0.38</td>\n      <td>0.11</td>\n    </tr>\n    <tr>\n      <th>22</th>\n      <td>Minnesota</td>\n      <td>13339</td>\n      <td>3644</td>\n      <td>5245</td>\n      <td>3225</td>\n      <td>0.52</td>\n      <td>0.14</td>\n      <td>0.21</td>\n      <td>0.13</td>\n    </tr>\n    <tr>\n      <th>23</th>\n      <td>Mississippi</td>\n      <td>14752</td>\n      <td>108</td>\n      <td>3004</td>\n      <td>784</td>\n      <td>0.79</td>\n      <td>0.01</td>\n      <td>0.16</td>\n      <td>0.04</td>\n    </tr>\n    <tr>\n      <th>24</th>\n      <td>Missouri</td>\n      <td>48122</td>\n      <td>2280</td>\n      <td>9052</td>\n      <td>2687</td>\n      <td>0.77</td>\n      <td>0.04</td>\n      <td>0.15</td>\n      <td>0.04</td>\n    </tr>\n    <tr>\n      <th>25</th>\n      <td>Montana</td>\n      <td>10290</td>\n      <td>379</td>\n      <td>2685</td>\n      <td>452</td>\n      <td>0.75</td>\n      <td>0.03</td>\n      <td>0.19</td>\n      <td>0.03</td>\n    </tr>\n    <tr>\n      <th>26</th>\n      <td>Nebraska</td>\n      <td>17707</td>\n      <td>436</td>\n      <td>2771</td>\n      <td>1230</td>\n      <td>0.80</td>\n      <td>0.02</td>\n      <td>0.13</td>\n      <td>0.06</td>\n    </tr>\n    <tr>\n      <th>27</th>\n      <td>Nevada</td>\n      <td>1356</td>\n      <td>61</td>\n      <td>535</td>\n      <td>70</td>\n      <td>0.67</td>\n      <td>0.03</td>\n      <td>0.26</td>\n      <td>0.03</td>\n    </tr>\n    <tr>\n      <th>28</th>\n      <td>New Hampshire</td>\n      <td>602</td>\n      <td>216</td>\n      <td>1145</td>\n      <td>281</td>\n      <td>0.27</td>\n      <td>0.10</td>\n      <td>0.51</td>\n      <td>0.13</td>\n    </tr>\n    <tr>\n      <th>29</th>\n      <td>New Jersey</td>\n      <td>941</td>\n      <td>109</td>\n      <td>1986</td>\n      <td>347</td>\n      <td>0.28</td>\n      <td>0.03</td>\n      <td>0.59</td>\n      <td>0.10</td>\n    </tr>\n    <tr>\n      <th>30</th>\n      <td>New Mexico</td>\n      <td>8991</td>\n      <td>389</td>\n      <td>2848</td>\n      <td>353</td>\n      <td>0.71</td>\n      <td>0.03</td>\n      <td>0.23</td>\n      <td>0.03</td>\n    </tr>\n    <tr>\n      <th>31</th>\n      <td>New York</td>\n      <td>7310</td>\n      <td>4648</td>\n      <td>5712</td>\n      <td>1739</td>\n      <td>0.38</td>\n      <td>0.24</td>\n      <td>0.29</td>\n      <td>0.09</td>\n    </tr>\n    <tr>\n      <th>32</th>\n      <td>North Carolina</td>\n      <td>16407</td>\n      <td>546</td>\n      <td>5520</td>\n      <td>2426</td>\n      <td>0.66</td>\n      <td>0.02</td>\n      <td>0.22</td>\n      <td>0.10</td>\n    </tr>\n    <tr>\n      <th>33</th>\n      <td>North Dakota</td>\n      <td>8245</td>\n      <td>156</td>\n      <td>743</td>\n      <td>156</td>\n      <td>0.89</td>\n      <td>0.02</td>\n      <td>0.08</td>\n      <td>0.02</td>\n    </tr>\n    <tr>\n      <th>34</th>\n      <td>Ohio</td>\n      <td>17733</td>\n      <td>3346</td>\n      <td>10274</td>\n      <td>3484</td>\n      <td>0.51</td>\n      <td>0.10</td>\n      <td>0.29</td>\n      <td>0.10</td>\n    </tr>\n    <tr>\n      <th>35</th>\n      <td>Oklahoma</td>\n      <td>46080</td>\n      <td>471</td>\n      <td>9894</td>\n      <td>2264</td>\n      <td>0.78</td>\n      <td>0.01</td>\n      <td>0.17</td>\n      <td>0.04</td>\n    </tr>\n    <tr>\n      <th>36</th>\n      <td>Oregon</td>\n      <td>11548</td>\n      <td>645</td>\n      <td>7442</td>\n      <td>1177</td>\n      <td>0.55</td>\n      <td>0.03</td>\n      <td>0.36</td>\n      <td>0.06</td>\n    </tr>\n    <tr>\n      <th>37</th>\n      <td>Pennsylvania</td>\n      <td>13176</td>\n      <td>6914</td>\n      <td>9290</td>\n      <td>2777</td>\n      <td>0.41</td>\n      <td>0.22</td>\n      <td>0.29</td>\n      <td>0.09</td>\n    </tr>\n    <tr>\n      <th>38</th>\n      <td>Rhode Island</td>\n      <td>163</td>\n      <td>16</td>\n      <td>239</td>\n      <td>60</td>\n      <td>0.34</td>\n      <td>0.03</td>\n      <td>0.50</td>\n      <td>0.13</td>\n    </tr>\n    <tr>\n      <th>39</th>\n      <td>South Carolina</td>\n      <td>6917</td>\n      <td>215</td>\n      <td>3466</td>\n      <td>1005</td>\n      <td>0.60</td>\n      <td>0.02</td>\n      <td>0.30</td>\n      <td>0.09</td>\n    </tr>\n    <tr>\n      <th>40</th>\n      <td>South Dakota</td>\n      <td>12613</td>\n      <td>509</td>\n      <td>1644</td>\n      <td>571</td>\n      <td>0.82</td>\n      <td>0.03</td>\n      <td>0.11</td>\n      <td>0.04</td>\n    </tr>\n    <tr>\n      <th>41</th>\n      <td>Tennessee</td>\n      <td>32960</td>\n      <td>986</td>\n      <td>8830</td>\n      <td>1898</td>\n      <td>0.74</td>\n      <td>0.02</td>\n      <td>0.20</td>\n      <td>0.04</td>\n    </tr>\n    <tr>\n      <th>42</th>\n      <td>Texas</td>\n      <td>134250</td>\n      <td>467</td>\n      <td>28096</td>\n      <td>5894</td>\n      <td>0.80</td>\n      <td>0.00</td>\n      <td>0.17</td>\n      <td>0.03</td>\n    </tr>\n    <tr>\n      <th>43</th>\n      <td>Utah</td>\n      <td>6508</td>\n      <td>445</td>\n      <td>2553</td>\n      <td>561</td>\n      <td>0.65</td>\n      <td>0.04</td>\n      <td>0.25</td>\n      <td>0.06</td>\n    </tr>\n    <tr>\n      <th>44</th>\n      <td>Vermont</td>\n      <td>1399</td>\n      <td>841</td>\n      <td>1486</td>\n      <td>353</td>\n      <td>0.34</td>\n      <td>0.21</td>\n      <td>0.36</td>\n      <td>0.09</td>\n    </tr>\n    <tr>\n      <th>45</th>\n      <td>Virginia</td>\n      <td>18453</td>\n      <td>1048</td>\n      <td>5729</td>\n      <td>1461</td>\n      <td>0.69</td>\n      <td>0.04</td>\n      <td>0.21</td>\n      <td>0.05</td>\n    </tr>\n    <tr>\n      <th>46</th>\n      <td>Washington</td>\n      <td>9295</td>\n      <td>661</td>\n      <td>6451</td>\n      <td>1126</td>\n      <td>0.53</td>\n      <td>0.04</td>\n      <td>0.37</td>\n      <td>0.06</td>\n    </tr>\n    <tr>\n      <th>47</th>\n      <td>West Virginia</td>\n      <td>10336</td>\n      <td>458</td>\n      <td>4464</td>\n      <td>892</td>\n      <td>0.64</td>\n      <td>0.03</td>\n      <td>0.28</td>\n      <td>0.06</td>\n    </tr>\n    <tr>\n      <th>48</th>\n      <td>Wisconsin</td>\n      <td>13954</td>\n      <td>9037</td>\n      <td>7992</td>\n      <td>2198</td>\n      <td>0.42</td>\n      <td>0.27</td>\n      <td>0.24</td>\n      <td>0.07</td>\n    </tr>\n    <tr>\n      <th>49</th>\n      <td>Wyoming</td>\n      <td>4982</td>\n      <td>204</td>\n      <td>1503</td>\n      <td>320</td>\n      <td>0.71</td>\n      <td>0.03</td>\n      <td>0.21</td>\n      <td>0.05</td>\n    </tr>\n  </tbody>\n</table>\n</div>"
     },
     "metadata": {}
    }
   ]
  },
  {
   "cell_type": "markdown",
   "source": "As we can see from the table above, for most states, the majority of their live stock farms are focused on beef.\n\nBelow we can take a look at all states where beef cattle farms do not form the majority. Unsurprisingly, these states are primarily smaller, north-eastern states that don't have much land area for beef cattle.",
   "metadata": {
    "tags": [],
    "cell_id": "00045-aeb68e5e-74f0-4496-9bab-42432670959b",
    "deepnote_cell_type": "markdown"
   }
  },
  {
   "cell_type": "code",
   "metadata": {
    "tags": [],
    "cell_id": "00046-65b82cad-9248-4702-8123-9e1707a1f578",
    "deepnote_to_be_reexecuted": false,
    "source_hash": "3ef29040",
    "execution_start": 1637877118567,
    "execution_millis": 60,
    "deepnote_cell_type": "code"
   },
   "source": "non_beef_majority_filter = livestock_details_df[\"Percent_Beef_Cow_Farms\"] <= 0.5\n\nlivestock_details_df.loc[non_beef_majority_filter]",
   "execution_count": 59,
   "outputs": [
    {
     "output_type": "execute_result",
     "execution_count": 59,
     "data": {
      "application/vnd.deepnote.dataframe.v2+json": {
       "row_count": 14,
       "column_count": 9,
       "columns": [
        {
         "name": "State_Name",
         "dtype": "object",
         "stats": {
          "unique_count": 14,
          "nan_count": 0,
          "categories": [
           {
            "name": "Alaska",
            "count": 1
           },
           {
            "name": "Connecticut",
            "count": 1
           },
           {
            "name": "12 others",
            "count": 12
           }
          ]
         }
        },
        {
         "name": "Num_Beef_Cow_Farms",
         "dtype": "int64",
         "stats": {
          "unique_count": 14,
          "nan_count": 0,
          "min": "92",
          "max": "13954",
          "histogram": [
           {
            "bin_start": 92,
            "bin_end": 1478.2,
            "count": 9
           },
           {
            "bin_start": 1478.2,
            "bin_end": 2864.4,
            "count": 1
           },
           {
            "bin_start": 2864.4,
            "bin_end": 4250.6,
            "count": 0
           },
           {
            "bin_start": 4250.6,
            "bin_end": 5636.8,
            "count": 0
           },
           {
            "bin_start": 5636.8,
            "bin_end": 7023,
            "count": 0
           },
           {
            "bin_start": 7023,
            "bin_end": 8409.2,
            "count": 2
           },
           {
            "bin_start": 8409.2,
            "bin_end": 9795.4,
            "count": 0
           },
           {
            "bin_start": 9795.4,
            "bin_end": 11181.6,
            "count": 0
           },
           {
            "bin_start": 11181.6,
            "bin_end": 12567.800000000001,
            "count": 0
           },
           {
            "bin_start": 12567.800000000001,
            "bin_end": 13954,
            "count": 2
           }
          ]
         }
        },
        {
         "name": "Num_Milk_Cow_Farms",
         "dtype": "int64",
         "stats": {
          "unique_count": 14,
          "nan_count": 0,
          "min": "16",
          "max": "9037",
          "histogram": [
           {
            "bin_start": 16,
            "bin_end": 918.1,
            "count": 10
           },
           {
            "bin_start": 918.1,
            "bin_end": 1820.2,
            "count": 0
           },
           {
            "bin_start": 1820.2,
            "bin_end": 2722.3,
            "count": 1
           },
           {
            "bin_start": 2722.3,
            "bin_end": 3624.4,
            "count": 0
           },
           {
            "bin_start": 3624.4,
            "bin_end": 4526.5,
            "count": 0
           },
           {
            "bin_start": 4526.5,
            "bin_end": 5428.6,
            "count": 1
           },
           {
            "bin_start": 5428.6,
            "bin_end": 6330.7,
            "count": 0
           },
           {
            "bin_start": 6330.7,
            "bin_end": 7232.8,
            "count": 1
           },
           {
            "bin_start": 7232.8,
            "bin_end": 8134.900000000001,
            "count": 0
           },
           {
            "bin_start": 8134.900000000001,
            "bin_end": 9037,
            "count": 1
           }
          ]
         }
        },
        {
         "name": "Num_Chicken_Farms",
         "dtype": "int64",
         "stats": {
          "unique_count": 14,
          "nan_count": 0,
          "min": "189",
          "max": "9290",
          "histogram": [
           {
            "bin_start": 189,
            "bin_end": 1099.1,
            "count": 3
           },
           {
            "bin_start": 1099.1,
            "bin_end": 2009.2,
            "count": 7
           },
           {
            "bin_start": 2009.2,
            "bin_end": 2919.3,
            "count": 0
           },
           {
            "bin_start": 2919.3,
            "bin_end": 3829.4,
            "count": 0
           },
           {
            "bin_start": 3829.4,
            "bin_end": 4739.5,
            "count": 0
           },
           {
            "bin_start": 4739.5,
            "bin_end": 5649.6,
            "count": 0
           },
           {
            "bin_start": 5649.6,
            "bin_end": 6559.7,
            "count": 1
           },
           {
            "bin_start": 6559.7,
            "bin_end": 7469.8,
            "count": 1
           },
           {
            "bin_start": 7469.8,
            "bin_end": 8379.900000000001,
            "count": 1
           },
           {
            "bin_start": 8379.900000000001,
            "bin_end": 9290,
            "count": 1
           }
          ]
         }
        },
        {
         "name": "Num_Hog_Farms",
         "dtype": "int64",
         "stats": {
          "unique_count": 14,
          "nan_count": 0,
          "min": "55",
          "max": "2777",
          "histogram": [
           {
            "bin_start": 55,
            "bin_end": 327.2,
            "count": 5
           },
           {
            "bin_start": 327.2,
            "bin_end": 599.4,
            "count": 5
           },
           {
            "bin_start": 599.4,
            "bin_end": 871.5999999999999,
            "count": 0
           },
           {
            "bin_start": 871.5999999999999,
            "bin_end": 1143.8,
            "count": 0
           },
           {
            "bin_start": 1143.8,
            "bin_end": 1416,
            "count": 0
           },
           {
            "bin_start": 1416,
            "bin_end": 1688.1999999999998,
            "count": 0
           },
           {
            "bin_start": 1688.1999999999998,
            "bin_end": 1960.3999999999999,
            "count": 1
           },
           {
            "bin_start": 1960.3999999999999,
            "bin_end": 2232.6,
            "count": 2
           },
           {
            "bin_start": 2232.6,
            "bin_end": 2504.7999999999997,
            "count": 0
           },
           {
            "bin_start": 2504.7999999999997,
            "bin_end": 2777,
            "count": 1
           }
          ]
         }
        },
        {
         "name": "Percent_Beef_Cow_Farms",
         "dtype": "float64",
         "stats": {
          "unique_count": 11,
          "nan_count": 0,
          "min": "0.25",
          "max": "0.45",
          "histogram": [
           {
            "bin_start": 0.25,
            "bin_end": 0.27,
            "count": 1
           },
           {
            "bin_start": 0.27,
            "bin_end": 0.29,
            "count": 3
           },
           {
            "bin_start": 0.29,
            "bin_end": 0.31,
            "count": 1
           },
           {
            "bin_start": 0.31,
            "bin_end": 0.33,
            "count": 0
           },
           {
            "bin_start": 0.33,
            "bin_end": 0.35,
            "count": 3
           },
           {
            "bin_start": 0.35,
            "bin_end": 0.37,
            "count": 0
           },
           {
            "bin_start": 0.37,
            "bin_end": 0.39,
            "count": 1
           },
           {
            "bin_start": 0.39,
            "bin_end": 0.41000000000000003,
            "count": 2
           },
           {
            "bin_start": 0.41000000000000003,
            "bin_end": 0.43,
            "count": 1
           },
           {
            "bin_start": 0.43,
            "bin_end": 0.45,
            "count": 2
           }
          ]
         }
        },
        {
         "name": "Percent_Milk_Cow_Farms",
         "dtype": "float64",
         "stats": {
          "unique_count": 10,
          "nan_count": 0,
          "min": "0.03",
          "max": "0.27",
          "histogram": [
           {
            "bin_start": 0.03,
            "bin_end": 0.054,
            "count": 2
           },
           {
            "bin_start": 0.054,
            "bin_end": 0.078,
            "count": 2
           },
           {
            "bin_start": 0.078,
            "bin_end": 0.10200000000000001,
            "count": 4
           },
           {
            "bin_start": 0.10200000000000001,
            "bin_end": 0.126,
            "count": 2
           },
           {
            "bin_start": 0.126,
            "bin_end": 0.15,
            "count": 0
           },
           {
            "bin_start": 0.15,
            "bin_end": 0.17400000000000002,
            "count": 0
           },
           {
            "bin_start": 0.17400000000000002,
            "bin_end": 0.198,
            "count": 0
           },
           {
            "bin_start": 0.198,
            "bin_end": 0.222,
            "count": 2
           },
           {
            "bin_start": 0.222,
            "bin_end": 0.246,
            "count": 1
           },
           {
            "bin_start": 0.246,
            "bin_end": 0.27,
            "count": 1
           }
          ]
         }
        },
        {
         "name": "Percent_Chicken_Farms",
         "dtype": "float64",
         "stats": {
          "unique_count": 10,
          "nan_count": 0,
          "min": "0.24",
          "max": "0.59",
          "histogram": [
           {
            "bin_start": 0.24,
            "bin_end": 0.27499999999999997,
            "count": 1
           },
           {
            "bin_start": 0.27499999999999997,
            "bin_end": 0.31,
            "count": 2
           },
           {
            "bin_start": 0.31,
            "bin_end": 0.345,
            "count": 0
           },
           {
            "bin_start": 0.345,
            "bin_end": 0.38,
            "count": 3
           },
           {
            "bin_start": 0.38,
            "bin_end": 0.415,
            "count": 1
           },
           {
            "bin_start": 0.415,
            "bin_end": 0.44999999999999996,
            "count": 0
           },
           {
            "bin_start": 0.44999999999999996,
            "bin_end": 0.485,
            "count": 1
           },
           {
            "bin_start": 0.485,
            "bin_end": 0.52,
            "count": 4
           },
           {
            "bin_start": 0.52,
            "bin_end": 0.5549999999999999,
            "count": 1
           },
           {
            "bin_start": 0.5549999999999999,
            "bin_end": 0.59,
            "count": 1
           }
          ]
         }
        },
        {
         "name": "Percent_Hog_Farms",
         "dtype": "float64",
         "stats": {
          "unique_count": 7,
          "nan_count": 0,
          "min": "0.07",
          "max": "0.17",
          "histogram": [
           {
            "bin_start": 0.07,
            "bin_end": 0.08,
            "count": 1
           },
           {
            "bin_start": 0.08,
            "bin_end": 0.09000000000000001,
            "count": 4
           },
           {
            "bin_start": 0.09000000000000001,
            "bin_end": 0.1,
            "count": 0
           },
           {
            "bin_start": 0.1,
            "bin_end": 0.11000000000000001,
            "count": 6
           },
           {
            "bin_start": 0.11000000000000001,
            "bin_end": 0.12000000000000001,
            "count": 0
           },
           {
            "bin_start": 0.12000000000000001,
            "bin_end": 0.13,
            "count": 0
           },
           {
            "bin_start": 0.13,
            "bin_end": 0.14,
            "count": 2
           },
           {
            "bin_start": 0.14,
            "bin_end": 0.15000000000000002,
            "count": 0
           },
           {
            "bin_start": 0.15000000000000002,
            "bin_end": 0.16,
            "count": 0
           },
           {
            "bin_start": 0.16,
            "bin_end": 0.17,
            "count": 1
           }
          ]
         }
        },
        {
         "name": "_deepnote_index_column",
         "dtype": "int64"
        }
       ],
       "rows_top": [
        {
         "State_Name": "Alaska",
         "Num_Beef_Cow_Farms": 92,
         "Num_Milk_Cow_Farms": 27,
         "Num_Chicken_Farms": 189,
         "Num_Hog_Farms": 64,
         "Percent_Beef_Cow_Farms": 0.25,
         "Percent_Milk_Cow_Farms": 0.07,
         "Percent_Chicken_Farms": 0.51,
         "Percent_Hog_Farms": 0.17,
         "_deepnote_index_column": 1
        },
        {
         "State_Name": "Connecticut",
         "Num_Beef_Cow_Farms": 860,
         "Num_Milk_Cow_Farms": 198,
         "Num_Chicken_Farms": 1265,
         "Num_Hog_Farms": 214,
         "Percent_Beef_Cow_Farms": 0.34,
         "Percent_Milk_Cow_Farms": 0.08,
         "Percent_Chicken_Farms": 0.5,
         "Percent_Hog_Farms": 0.08,
         "_deepnote_index_column": 6
        },
        {
         "State_Name": "Delaware",
         "Num_Beef_Cow_Farms": 235,
         "Num_Milk_Cow_Farms": 50,
         "Num_Chicken_Farms": 200,
         "Num_Hog_Farms": 55,
         "Percent_Beef_Cow_Farms": 0.44,
         "Percent_Milk_Cow_Farms": 0.09,
         "Percent_Chicken_Farms": 0.37,
         "Percent_Hog_Farms": 0.1,
         "_deepnote_index_column": 7
        },
        {
         "State_Name": "Maine",
         "Num_Beef_Cow_Farms": 1141,
         "Num_Milk_Cow_Farms": 450,
         "Num_Chicken_Farms": 1892,
         "Num_Hog_Farms": 429,
         "Percent_Beef_Cow_Farms": 0.29,
         "Percent_Milk_Cow_Farms": 0.12,
         "Percent_Chicken_Farms": 0.48,
         "Percent_Hog_Farms": 0.11,
         "_deepnote_index_column": 18
        },
        {
         "State_Name": "Maryland",
         "Num_Beef_Cow_Farms": 2486,
         "Num_Milk_Cow_Farms": 511,
         "Num_Chicken_Farms": 2009,
         "Num_Hog_Farms": 562,
         "Percent_Beef_Cow_Farms": 0.45,
         "Percent_Milk_Cow_Farms": 0.09,
         "Percent_Chicken_Farms": 0.36,
         "Percent_Hog_Farms": 0.1,
         "_deepnote_index_column": 19
        },
        {
         "State_Name": "Massachusetts",
         "Num_Beef_Cow_Farms": 879,
         "Num_Milk_Cow_Farms": 220,
         "Num_Chicken_Farms": 1713,
         "Num_Hog_Farms": 337,
         "Percent_Beef_Cow_Farms": 0.28,
         "Percent_Milk_Cow_Farms": 0.07,
         "Percent_Chicken_Farms": 0.54,
         "Percent_Hog_Farms": 0.11,
         "_deepnote_index_column": 20
        },
        {
         "State_Name": "Michigan",
         "Num_Beef_Cow_Farms": 7445,
         "Num_Milk_Cow_Farms": 2158,
         "Num_Chicken_Farms": 7039,
         "Num_Hog_Farms": 2017,
         "Percent_Beef_Cow_Farms": 0.4,
         "Percent_Milk_Cow_Farms": 0.12,
         "Percent_Chicken_Farms": 0.38,
         "Percent_Hog_Farms": 0.11,
         "_deepnote_index_column": 21
        },
        {
         "State_Name": "New Hampshire",
         "Num_Beef_Cow_Farms": 602,
         "Num_Milk_Cow_Farms": 216,
         "Num_Chicken_Farms": 1145,
         "Num_Hog_Farms": 281,
         "Percent_Beef_Cow_Farms": 0.27,
         "Percent_Milk_Cow_Farms": 0.1,
         "Percent_Chicken_Farms": 0.51,
         "Percent_Hog_Farms": 0.13,
         "_deepnote_index_column": 28
        },
        {
         "State_Name": "New Jersey",
         "Num_Beef_Cow_Farms": 941,
         "Num_Milk_Cow_Farms": 109,
         "Num_Chicken_Farms": 1986,
         "Num_Hog_Farms": 347,
         "Percent_Beef_Cow_Farms": 0.28,
         "Percent_Milk_Cow_Farms": 0.03,
         "Percent_Chicken_Farms": 0.59,
         "Percent_Hog_Farms": 0.1,
         "_deepnote_index_column": 29
        },
        {
         "State_Name": "New York",
         "Num_Beef_Cow_Farms": 7310,
         "Num_Milk_Cow_Farms": 4648,
         "Num_Chicken_Farms": 5712,
         "Num_Hog_Farms": 1739,
         "Percent_Beef_Cow_Farms": 0.38,
         "Percent_Milk_Cow_Farms": 0.24,
         "Percent_Chicken_Farms": 0.29,
         "Percent_Hog_Farms": 0.09,
         "_deepnote_index_column": 31
        },
        {
         "State_Name": "Pennsylvania",
         "Num_Beef_Cow_Farms": 13176,
         "Num_Milk_Cow_Farms": 6914,
         "Num_Chicken_Farms": 9290,
         "Num_Hog_Farms": 2777,
         "Percent_Beef_Cow_Farms": 0.41,
         "Percent_Milk_Cow_Farms": 0.22,
         "Percent_Chicken_Farms": 0.29,
         "Percent_Hog_Farms": 0.09,
         "_deepnote_index_column": 37
        },
        {
         "State_Name": "Rhode Island",
         "Num_Beef_Cow_Farms": 163,
         "Num_Milk_Cow_Farms": 16,
         "Num_Chicken_Farms": 239,
         "Num_Hog_Farms": 60,
         "Percent_Beef_Cow_Farms": 0.34,
         "Percent_Milk_Cow_Farms": 0.03,
         "Percent_Chicken_Farms": 0.5,
         "Percent_Hog_Farms": 0.13,
         "_deepnote_index_column": 38
        },
        {
         "State_Name": "Vermont",
         "Num_Beef_Cow_Farms": 1399,
         "Num_Milk_Cow_Farms": 841,
         "Num_Chicken_Farms": 1486,
         "Num_Hog_Farms": 353,
         "Percent_Beef_Cow_Farms": 0.34,
         "Percent_Milk_Cow_Farms": 0.21,
         "Percent_Chicken_Farms": 0.36,
         "Percent_Hog_Farms": 0.09,
         "_deepnote_index_column": 44
        },
        {
         "State_Name": "Wisconsin",
         "Num_Beef_Cow_Farms": 13954,
         "Num_Milk_Cow_Farms": 9037,
         "Num_Chicken_Farms": 7992,
         "Num_Hog_Farms": 2198,
         "Percent_Beef_Cow_Farms": 0.42,
         "Percent_Milk_Cow_Farms": 0.27,
         "Percent_Chicken_Farms": 0.24,
         "Percent_Hog_Farms": 0.07,
         "_deepnote_index_column": 48
        }
       ],
       "rows_bottom": null
      },
      "text/plain": "       State_Name  Num_Beef_Cow_Farms  Num_Milk_Cow_Farms  Num_Chicken_Farms  \\\n1          Alaska                  92                  27                189   \n6     Connecticut                 860                 198               1265   \n7        Delaware                 235                  50                200   \n18          Maine                1141                 450               1892   \n19       Maryland                2486                 511               2009   \n20  Massachusetts                 879                 220               1713   \n21       Michigan                7445                2158               7039   \n28  New Hampshire                 602                 216               1145   \n29     New Jersey                 941                 109               1986   \n31       New York                7310                4648               5712   \n37   Pennsylvania               13176                6914               9290   \n38   Rhode Island                 163                  16                239   \n44        Vermont                1399                 841               1486   \n48      Wisconsin               13954                9037               7992   \n\n    Num_Hog_Farms  Percent_Beef_Cow_Farms  Percent_Milk_Cow_Farms  \\\n1              64                    0.25                    0.07   \n6             214                    0.34                    0.08   \n7              55                    0.44                    0.09   \n18            429                    0.29                    0.12   \n19            562                    0.45                    0.09   \n20            337                    0.28                    0.07   \n21           2017                    0.40                    0.12   \n28            281                    0.27                    0.10   \n29            347                    0.28                    0.03   \n31           1739                    0.38                    0.24   \n37           2777                    0.41                    0.22   \n38             60                    0.34                    0.03   \n44            353                    0.34                    0.21   \n48           2198                    0.42                    0.27   \n\n    Percent_Chicken_Farms  Percent_Hog_Farms  \n1                    0.51               0.17  \n6                    0.50               0.08  \n7                    0.37               0.10  \n18                   0.48               0.11  \n19                   0.36               0.10  \n20                   0.54               0.11  \n21                   0.38               0.11  \n28                   0.51               0.13  \n29                   0.59               0.10  \n31                   0.29               0.09  \n37                   0.29               0.09  \n38                   0.50               0.13  \n44                   0.36               0.09  \n48                   0.24               0.07  ",
      "text/html": "<div>\n<style scoped>\n    .dataframe tbody tr th:only-of-type {\n        vertical-align: middle;\n    }\n\n    .dataframe tbody tr th {\n        vertical-align: top;\n    }\n\n    .dataframe thead th {\n        text-align: right;\n    }\n</style>\n<table border=\"1\" class=\"dataframe\">\n  <thead>\n    <tr style=\"text-align: right;\">\n      <th></th>\n      <th>State_Name</th>\n      <th>Num_Beef_Cow_Farms</th>\n      <th>Num_Milk_Cow_Farms</th>\n      <th>Num_Chicken_Farms</th>\n      <th>Num_Hog_Farms</th>\n      <th>Percent_Beef_Cow_Farms</th>\n      <th>Percent_Milk_Cow_Farms</th>\n      <th>Percent_Chicken_Farms</th>\n      <th>Percent_Hog_Farms</th>\n    </tr>\n  </thead>\n  <tbody>\n    <tr>\n      <th>1</th>\n      <td>Alaska</td>\n      <td>92</td>\n      <td>27</td>\n      <td>189</td>\n      <td>64</td>\n      <td>0.25</td>\n      <td>0.07</td>\n      <td>0.51</td>\n      <td>0.17</td>\n    </tr>\n    <tr>\n      <th>6</th>\n      <td>Connecticut</td>\n      <td>860</td>\n      <td>198</td>\n      <td>1265</td>\n      <td>214</td>\n      <td>0.34</td>\n      <td>0.08</td>\n      <td>0.50</td>\n      <td>0.08</td>\n    </tr>\n    <tr>\n      <th>7</th>\n      <td>Delaware</td>\n      <td>235</td>\n      <td>50</td>\n      <td>200</td>\n      <td>55</td>\n      <td>0.44</td>\n      <td>0.09</td>\n      <td>0.37</td>\n      <td>0.10</td>\n    </tr>\n    <tr>\n      <th>18</th>\n      <td>Maine</td>\n      <td>1141</td>\n      <td>450</td>\n      <td>1892</td>\n      <td>429</td>\n      <td>0.29</td>\n      <td>0.12</td>\n      <td>0.48</td>\n      <td>0.11</td>\n    </tr>\n    <tr>\n      <th>19</th>\n      <td>Maryland</td>\n      <td>2486</td>\n      <td>511</td>\n      <td>2009</td>\n      <td>562</td>\n      <td>0.45</td>\n      <td>0.09</td>\n      <td>0.36</td>\n      <td>0.10</td>\n    </tr>\n    <tr>\n      <th>20</th>\n      <td>Massachusetts</td>\n      <td>879</td>\n      <td>220</td>\n      <td>1713</td>\n      <td>337</td>\n      <td>0.28</td>\n      <td>0.07</td>\n      <td>0.54</td>\n      <td>0.11</td>\n    </tr>\n    <tr>\n      <th>21</th>\n      <td>Michigan</td>\n      <td>7445</td>\n      <td>2158</td>\n      <td>7039</td>\n      <td>2017</td>\n      <td>0.40</td>\n      <td>0.12</td>\n      <td>0.38</td>\n      <td>0.11</td>\n    </tr>\n    <tr>\n      <th>28</th>\n      <td>New Hampshire</td>\n      <td>602</td>\n      <td>216</td>\n      <td>1145</td>\n      <td>281</td>\n      <td>0.27</td>\n      <td>0.10</td>\n      <td>0.51</td>\n      <td>0.13</td>\n    </tr>\n    <tr>\n      <th>29</th>\n      <td>New Jersey</td>\n      <td>941</td>\n      <td>109</td>\n      <td>1986</td>\n      <td>347</td>\n      <td>0.28</td>\n      <td>0.03</td>\n      <td>0.59</td>\n      <td>0.10</td>\n    </tr>\n    <tr>\n      <th>31</th>\n      <td>New York</td>\n      <td>7310</td>\n      <td>4648</td>\n      <td>5712</td>\n      <td>1739</td>\n      <td>0.38</td>\n      <td>0.24</td>\n      <td>0.29</td>\n      <td>0.09</td>\n    </tr>\n    <tr>\n      <th>37</th>\n      <td>Pennsylvania</td>\n      <td>13176</td>\n      <td>6914</td>\n      <td>9290</td>\n      <td>2777</td>\n      <td>0.41</td>\n      <td>0.22</td>\n      <td>0.29</td>\n      <td>0.09</td>\n    </tr>\n    <tr>\n      <th>38</th>\n      <td>Rhode Island</td>\n      <td>163</td>\n      <td>16</td>\n      <td>239</td>\n      <td>60</td>\n      <td>0.34</td>\n      <td>0.03</td>\n      <td>0.50</td>\n      <td>0.13</td>\n    </tr>\n    <tr>\n      <th>44</th>\n      <td>Vermont</td>\n      <td>1399</td>\n      <td>841</td>\n      <td>1486</td>\n      <td>353</td>\n      <td>0.34</td>\n      <td>0.21</td>\n      <td>0.36</td>\n      <td>0.09</td>\n    </tr>\n    <tr>\n      <th>48</th>\n      <td>Wisconsin</td>\n      <td>13954</td>\n      <td>9037</td>\n      <td>7992</td>\n      <td>2198</td>\n      <td>0.42</td>\n      <td>0.27</td>\n      <td>0.24</td>\n      <td>0.07</td>\n    </tr>\n  </tbody>\n</table>\n</div>"
     },
     "metadata": {}
    }
   ]
  },
  {
   "cell_type": "markdown",
   "source": "Below we take a loook at 5 states with the most total farms and highest percentage of farms for each livestock type.",
   "metadata": {
    "tags": [],
    "cell_id": "00047-f51f3019-1d45-4825-89c7-a27dcb9517b0",
    "deepnote_cell_type": "markdown"
   }
  },
  {
   "cell_type": "code",
   "metadata": {
    "tags": [],
    "cell_id": "00045-947cd7ba-d96f-4c9d-b0a8-09d0fff29701",
    "deepnote_to_be_reexecuted": false,
    "source_hash": "9976db4d",
    "execution_start": 1637877122920,
    "execution_millis": 77,
    "deepnote_cell_type": "code"
   },
   "source": "livestock_types = [\"Beef_Cow\", \"Milk_Cow\", \"Chicken\", \"Hog\"]\ntop_5_states = {}\n\ndef print_top_five_states(column_prefix, print_postface):\n    for livestock_type in livestock_types:\n        column_name = column_prefix + \"_\" + livestock_type + \"_Farms\"\n        states = livestock_details_df[\n        [\"State_Name\", column_name]\n        ].sort_values(column_name, ascending=False).iloc[:5].reset_index(drop=True)\n\n        top_5_states[livestock_type] = states[\"State_Name\"]\n\n        print(\"Top 5 \" + livestock_type + \" states \" + print_postface)\n        print(states)\n        print(\"\\n\")\n\nprint_top_five_states(\"Num\", \"(Total # of Farms)\")\nprint(\"---------------\\n\")\nprint_top_five_states(\"Percent\", \"(Percentage of Farms)\")",
   "execution_count": 60,
   "outputs": [
    {
     "name": "stdout",
     "text": "Top 5 Beef_Cow states (Total # of Farms)\n  State_Name  Num_Beef_Cow_Farms\n0      Texas              134250\n1   Missouri               48122\n2   Oklahoma               46080\n3   Kentucky               33864\n4  Tennessee               32960\n\n\nTop 5 Milk_Cow states (Total # of Farms)\n     State_Name  Num_Milk_Cow_Farms\n0     Wisconsin                9037\n1  Pennsylvania                6914\n2      New York                4648\n3     Minnesota                3644\n4          Ohio                3346\n\n\nTop 5 Chicken states (Total # of Farms)\n     State_Name  Num_Chicken_Farms\n0         Texas              28096\n1          Ohio              10274\n2      Oklahoma               9894\n3  Pennsylvania               9290\n4      Missouri               9052\n\n\nTop 5 Hog states (Total # of Farms)\n     State_Name  Num_Hog_Farms\n0         Texas           5894\n1          Iowa           5660\n2          Ohio           3484\n3     Minnesota           3225\n4  Pennsylvania           2777\n\n\n---------------\n\nTop 5 Beef_Cow states (Percentage of Farms)\n     State_Name  Percent_Beef_Cow_Farms\n0  North Dakota                    0.89\n1  South Dakota                    0.82\n2        Kansas                    0.81\n3      Arkansas                    0.81\n4         Texas                    0.80\n\n\nTop 5 Milk_Cow states (Percentage of Farms)\n     State_Name  Percent_Milk_Cow_Farms\n0     Wisconsin                    0.27\n1      New York                    0.24\n2  Pennsylvania                    0.22\n3       Vermont                    0.21\n4     Minnesota                    0.14\n\n\nTop 5 Chicken states (Percentage of Farms)\n      State_Name  Percent_Chicken_Farms\n0     New Jersey                   0.59\n1  Massachusetts                   0.54\n2  New Hampshire                   0.51\n3         Alaska                   0.51\n4    Connecticut                   0.50\n\n\nTop 5 Hog states (Percentage of Farms)\n      State_Name  Percent_Hog_Farms\n0           Iowa               0.18\n1         Alaska               0.17\n2      Minnesota               0.13\n3  New Hampshire               0.13\n4   Rhode Island               0.13\n\n\n",
     "output_type": "stream"
    }
   ]
  },
  {
   "cell_type": "markdown",
   "source": "Now let's map out the locations of the top 5 states (percentage wise) for each livestock category.",
   "metadata": {
    "tags": [],
    "cell_id": "00049-fefd7458-a36e-4b18-8ed3-57c2078aa7f4",
    "deepnote_cell_type": "markdown"
   }
  },
  {
   "cell_type": "code",
   "metadata": {
    "tags": [],
    "cell_id": "00049-53e7f73f-38a7-4f73-bbcd-9b5cf79e524f",
    "deepnote_to_be_reexecuted": false,
    "source_hash": "7ab53662",
    "execution_start": 1637877307310,
    "execution_millis": 4,
    "deepnote_cell_type": "code"
   },
   "source": "livestock_details_df[\"top_five_beef_cow\"] = livestock_details_df[\"State_Name\"].isin(top_5_states[\"Beef_Cow\"])",
   "execution_count": 69,
   "outputs": []
  },
  {
   "cell_type": "code",
   "metadata": {
    "tags": [],
    "cell_id": "00052-49154873-3309-4a84-9b7c-81ce1d93a88d",
    "deepnote_to_be_reexecuted": false,
    "source_hash": "c31526dd",
    "execution_start": 1637877350933,
    "execution_millis": 907,
    "deepnote_output_heights": [
     212,
     212,
     212,
     212
    ],
    "deepnote_cell_type": "code"
   },
   "source": "# TODO: add map title and different cmaps for each one. Remove ticks\nfor livestock_type in livestock_types:\n    column_name = \"top_five_\" + livestock_type\n    livestock_details_df[column_name] = ~livestock_details_df[\"State_Name\"].isin(top_5_states[livestock_type])\n    plot_map(livestock_details_df, \"State_Name\", column_name, title=livestock_type, cmap=\"tab20c\")",
   "execution_count": 74,
   "outputs": [
    {
     "data": {
      "text/plain": "<Figure size 432x288 with 1 Axes>",
      "image/png": "[encoded data removed]"
     },
     "metadata": {
      "needs_background": "light",
      "image/png": {
       "width": 349,
       "height": 210
      }
     },
     "output_type": "display_data"
    },
    {
     "data": {
      "text/plain": "<Figure size 432x288 with 1 Axes>",
      "image/png": "[encoded data removed]"
     },
     "metadata": {
      "needs_background": "light",
      "image/png": {
       "width": 349,
       "height": 210
      }
     },
     "output_type": "display_data"
    },
    {
     "data": {
      "text/plain": "<Figure size 432x288 with 1 Axes>",
      "image/png": "[encoded data removed]"
     },
     "metadata": {
      "needs_background": "light",
      "image/png": {
       "width": 349,
       "height": 210
      }
     },
     "output_type": "display_data"
    },
    {
     "data": {
      "text/plain": "<Figure size 432x288 with 1 Axes>",
      "image/png": "[encoded data removed]"
     },
     "metadata": {
      "needs_background": "light",
      "image/png": {
       "width": 349,
       "height": 210
      }
     },
     "output_type": "display_data"
    }
   ]
  },
  {
   "cell_type": "markdown",
   "source": "### Farmer Gender",
   "metadata": {
    "tags": [],
    "cell_id": "00062-6885cc69-445a-4ddf-8301-26635702a425",
    "deepnote_cell_type": "markdown"
   }
  },
  {
   "cell_type": "code",
   "source": "farmer_gender_df",
   "metadata": {
    "tags": [],
    "cell_id": "00063-fc6fb4d4-579d-4823-9e69-be6bf5da5ec5",
    "deepnote_cell_type": "code"
   },
   "outputs": [],
   "execution_count": null
  },
  {
   "cell_type": "markdown",
   "source": "### Farmer Race",
   "metadata": {
    "tags": [],
    "cell_id": "00063-17e7d99a-c8b0-4125-90e2-622788013245",
    "deepnote_cell_type": "markdown"
   }
  },
  {
   "cell_type": "markdown",
   "source": "<a style='text-decoration:none;line-height:16px;display:flex;color:#5B5B62;padding:10px;justify-content:end;' href='https://deepnote.com?utm_source=created-in-deepnote-cell&projectId=05802224-8515-4af2-8e4b-abb5e40d0066' target=\"_blank\">\n<img alt='Created in deepnote.com' style='display:inline;max-height:16px;margin:0px;margin-right:7.5px;' src='data:image/svg+xml;base64,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' > </img>\nCreated in <span style='font-weight:600;margin-left:4px;'>Deepnote</span></a>",
   "metadata": {
    "tags": [],
    "created_in_deepnote_cell": true,
    "deepnote_cell_type": "markdown"
   }
  }
 ],
 "nbformat": 4,
 "nbformat_minor": 2,
 "metadata": {
  "orig_nbformat": 2,
  "deepnote": {
   "is_reactive": false
  },
  "deepnote_notebook_id": "e4b5f3d2-ca5e-4ef0-8713-11d1fefc8019",
  "deepnote_execution_queue": []
 }
}